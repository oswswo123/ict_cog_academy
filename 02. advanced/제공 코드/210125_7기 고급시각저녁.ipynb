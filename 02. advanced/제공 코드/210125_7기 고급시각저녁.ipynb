{
 "cells": [
  {
   "cell_type": "markdown",
   "metadata": {
    "id": "ASi7qQG-7hED"
   },
   "source": [
    "# [ICTCOG AI Academy] 7기 고급 시각반\n",
    "\n",
    "- [파이썬 공식문서]https://docs.python.org/ko/\n",
    "\n",
    "- 실천형 **제품 및 서비스 개발**을 위한 기술 교육 과정\n",
    "- 논문 구현\n",
    "\n",
    "# 영상 처리/딥러닝을 위한 고급 파이썬- 함수형 패러다임(1)\n",
    "- 함수(수학)를 기본으로 프로그래밍하는 방식\n",
    "    - 수학 함수에 가까움\n",
    "\n",
    "1. 형식적 증명 가능성\n",
    "2. 이론과 실무의 간극을 줄여줌\n",
    "\n",
    "## Python\n",
    "### 멀티 패러다임 언어\n",
    "- 상황에 맞게 절차적, 선언적, 객체지향, 함수혀 프로그래밍을 유기적으로 사용"
   ]
  },
  {
   "cell_type": "code",
   "execution_count": null,
   "metadata": {
    "colab": {
     "base_uri": "https://localhost:8080/"
    },
    "id": "k6QeRdOZ7cWk",
    "outputId": "276e72c1-c2a5-4903-8390-25620ea77c04"
   },
   "outputs": [
    {
     "name": "stdout",
     "output_type": "stream",
     "text": [
      "x\n"
     ]
    }
   ],
   "source": [
    "def x():\n",
    "\tprint('x')\n",
    "x()    #입력 없이 출력이 나와 함수가 아님"
   ]
  },
  {
   "cell_type": "markdown",
   "metadata": {
    "id": "RqrDFEVJ8hch"
   },
   "source": [
    "- [함수형 프로그래밍 HOWTO](https://docs.python.org/ko/3/howto/functional.html)\n",
    "   - tensorflow 에서 decorator,closure 이용\n",
    "   - **불변자** immutable\n",
    "    - tuple, frozenset\n",
    "- mutable: list, set, dictionary\n",
    "\n",
    "- 형식적증명 가능\n",
    "- 함수를 이용해서 합성함수 형태로 이용 f(g(x)) \n",
    "  - 딥러닝의 feedforward는 linear combination(선형 결합) \n",
    "- 결합성\n",
    "- GPU :vectorization 으로 동시에 실행\n",
    "\n",
    "### 함수 \n",
    "- encapsulation(캡슐화)\n",
    "  - 객체지향의 4가지 중 하나\n",
    "  - 다른 것은 상관하지 않고 그 부분에만 집중할 수 있음\n",
    "  - 동시에 여러개 실행 가능\n",
    "  - 디버깅 & 테스트 용이성\n",
    "  - 속도 향상\n",
    "  - 난이도가 있음\n",
    "  \n",
    "\n",
    "> LISP(list programming) 인공지능 언어이며 함수형 패러다임 지원\n",
    "  - **한번에 동시에 처리하는것에 초점을 둠**\n",
    "  - 내부적으로는 1개씩 처리하나 사용자 입장에서는 동시 처리\n",
    "  \n",
    "  \n",
    "1. 텐서는 가속기 메모리(GPU, TPU와 같은)에서 사용할 수 있습니다.\n",
    "2. 텐서는 **불변성(immutable) ** 을 가집니다.\n",
    "\n",
    "tensorflow 공식문서 참고 : https://www.tensorflow.org/tutorials/customization/basics?hl=ko"
   ]
  },
  {
   "cell_type": "code",
   "execution_count": null,
   "metadata": {
    "colab": {
     "base_uri": "https://localhost:8080/"
    },
    "id": "vNwkraFB7gXj",
    "outputId": "1c62fb96-269d-43d9-d309-77879d9d89db"
   },
   "outputs": [
    {
     "data": {
      "text/plain": [
       "(1, 2, [3, 4])"
      ]
     },
     "execution_count": 2,
     "metadata": {
      "tags": []
     },
     "output_type": "execute_result"
    }
   ],
   "source": [
    "x=(1,2,[3,4,])\n",
    "x"
   ]
  },
  {
   "cell_type": "code",
   "execution_count": null,
   "metadata": {
    "colab": {
     "base_uri": "https://localhost:8080/"
    },
    "id": "G_iN0r0u95aT",
    "outputId": "74d5d4a3-beea-46b6-efe4-99ee400d5e2b"
   },
   "outputs": [
    {
     "data": {
      "text/plain": [
       "(1, 2, [5, 4])"
      ]
     },
     "execution_count": 3,
     "metadata": {
      "tags": []
     },
     "output_type": "execute_result"
    }
   ],
   "source": [
    "x[-1][0]=5\n",
    "x  #튜플의 값 변경되버림."
   ]
  },
  {
   "cell_type": "markdown",
   "metadata": {
    "id": "TwTIu1gCBYJl"
   },
   "source": [
    "## Container \n",
    "- 여러개의 값을 갖고 있음\n",
    "- 쪼갤수 있음"
   ]
  },
  {
   "cell_type": "code",
   "execution_count": null,
   "metadata": {
    "colab": {
     "base_uri": "https://localhost:8080/"
    },
    "id": "eOPBbi1MBDfi",
    "outputId": "9a19e6fa-f770-4eeb-8f63-1a0872578089"
   },
   "outputs": [
    {
     "data": {
      "text/plain": [
       "3"
      ]
     },
     "execution_count": 5,
     "metadata": {
      "tags": []
     },
     "output_type": "execute_result"
    }
   ],
   "source": [
    "len([1,2,3,])  # list 의 값 갯수를 구함"
   ]
  },
  {
   "cell_type": "code",
   "execution_count": null,
   "metadata": {
    "id": "SP2bYqfwCUJA"
   },
   "outputs": [],
   "source": [
    "sum([1,2,3])  # iterable"
   ]
  },
  {
   "cell_type": "code",
   "execution_count": null,
   "metadata": {
    "colab": {
     "base_uri": "https://localhost:8080/"
    },
    "id": "_voFb2iWBDxS",
    "outputId": "5837a8a1-2746-47cc-b258-75af1a28c402"
   },
   "outputs": [
    {
     "data": {
      "text/plain": [
       "6"
      ]
     },
     "execution_count": 9,
     "metadata": {
      "tags": []
     },
     "output_type": "execute_result"
    }
   ],
   "source": [
    "(1+2)+3       # sum([1.2.3])은 내부적으로 하나씩 계산"
   ]
  },
  {
   "cell_type": "markdown",
   "metadata": {
    "id": "4JNQsKUrB1hr"
   },
   "source": [
    "### iterable\n",
    "- container 중에서 **하나씩 뽑아낼 수 있음**\n",
    "- able로 iterator 가 될 수있는, 순회가능할 수 있는 \n",
    "\n",
    "- 파이썬 공신 문서 용어집 참고 :https://docs.python.org/ko/3/glossary.html "
   ]
  },
  {
   "cell_type": "code",
   "execution_count": null,
   "metadata": {
    "colab": {
     "base_uri": "https://localhost:8080/"
    },
    "id": "GQIV3rTLBDu9",
    "outputId": "e221710c-3d1f-4365-d66b-38417537443a"
   },
   "outputs": [
    {
     "data": {
      "text/plain": [
       "6"
      ]
     },
     "execution_count": 6,
     "metadata": {
      "tags": []
     },
     "output_type": "execute_result"
    }
   ],
   "source": [
    "sum([1,2,3])  #iterable"
   ]
  },
  {
   "cell_type": "code",
   "execution_count": null,
   "metadata": {
    "colab": {
     "base_uri": "https://localhost:8080/"
    },
    "id": "pr5Tm2gJBDze",
    "outputId": "c9bf8ec7-52e0-4b01-f7d8-4fd560e573aa"
   },
   "outputs": [
    {
     "name": "stdout",
     "output_type": "stream",
     "text": [
      "1\n",
      "2\n",
      "3\n"
     ]
    }
   ],
   "source": [
    "for i in [1,2,3]:\n",
    "  print(i)"
   ]
  },
  {
   "cell_type": "code",
   "execution_count": 1,
   "metadata": {
    "id": "N9FDWWlzBD1h"
   },
   "outputs": [],
   "source": [
    "def x(): \n",
    "  for i in [1,2,3]:\n",
    "    print(i)"
   ]
  },
  {
   "cell_type": "code",
   "execution_count": 2,
   "metadata": {
    "id": "mAQmEt4iBD3n"
   },
   "outputs": [],
   "source": [
    "import dis"
   ]
  },
  {
   "cell_type": "code",
   "execution_count": 3,
   "metadata": {
    "colab": {
     "base_uri": "https://localhost:8080/"
    },
    "id": "b_9QOxolBD56",
    "outputId": "5c248ac6-7d21-4ba7-a43b-fd0b0fc6cca5"
   },
   "outputs": [
    {
     "data": {
      "text/plain": [
       "<function dis.dis(x=None, *, file=None, depth=None)>"
      ]
     },
     "execution_count": 3,
     "metadata": {},
     "output_type": "execute_result"
    }
   ],
   "source": [
    "dis.dis"
   ]
  },
  {
   "cell_type": "markdown",
   "metadata": {
    "id": "bbRwhM8rCtDm"
   },
   "source": [
    "#### iterator\n",
    "- iter() iterable 을 iterator 로 만듦\n",
    "- ** iterator는 next() 사용 가능**\n",
    "\n",
    "> generator 가 자유도가 더 높음"
   ]
  },
  {
   "cell_type": "code",
   "execution_count": 4,
   "metadata": {
    "id": "a2a8JE62BD7_"
   },
   "outputs": [],
   "source": [
    "a=[1,2,3]"
   ]
  },
  {
   "cell_type": "code",
   "execution_count": null,
   "metadata": {
    "id": "5YfIez2nBD-i"
   },
   "outputs": [],
   "source": [
    "b= iter(a)"
   ]
  },
  {
   "cell_type": "code",
   "execution_count": null,
   "metadata": {
    "colab": {
     "base_uri": "https://localhost:8080/"
    },
    "id": "hjejZ242_5yp",
    "outputId": "689cc889-8853-42c9-f01c-4d9ec7db68a2"
   },
   "outputs": [
    {
     "data": {
      "text/plain": [
       "<list_iterator at 0x7f5f3df822b0>"
      ]
     },
     "execution_count": 17,
     "metadata": {
      "tags": []
     },
     "output_type": "execute_result"
    }
   ],
   "source": [
    " b  #list_iterator "
   ]
  },
  {
   "cell_type": "markdown",
   "metadata": {
    "id": "Bh_yCn2uDXAw"
   },
   "source": [
    "- **\\_\\_iter__  있으면 iterable**\n",
    "-  for에 사용가능\n",
    "- iter 함수 사용 가능\n",
    "\n",
    "> duck-typing\n",
    "    - 백조가 오리처럼 보이고 오리처럼 꽥꽥댄다면 , 오리이다\n",
    "\n",
    "\n",
    "> 딥러닝 프레임워크 pytorch, Tensorflow 에서 많이 사용하는 이유\n",
    "    - lazy 기법\n",
    "      -  next() 호출할때만 메모리에 올라가서 효율적으로 메모리 관리\n",
    "      - 특히 대규모 데이터에서 유용해서 이미지에 많이 사용함"
   ]
  },
  {
   "cell_type": "code",
   "execution_count": null,
   "metadata": {
    "colab": {
     "base_uri": "https://localhost:8080/"
    },
    "id": "txMFrRkkF2mD",
    "outputId": "62f1f899-760c-4168-9f0d-2481ac876752"
   },
   "outputs": [
    {
     "data": {
      "text/plain": [
       "1"
      ]
     },
     "execution_count": 23,
     "metadata": {
      "tags": []
     },
     "output_type": "execute_result"
    }
   ],
   "source": [
    "a[0]"
   ]
  },
  {
   "cell_type": "code",
   "execution_count": null,
   "metadata": {
    "colab": {
     "base_uri": "https://localhost:8080/",
     "height": 172
    },
    "id": "5ytKr0Q6F4rI",
    "outputId": "abba0d83-8ef0-43d1-a007-f3dd97fad0fc"
   },
   "outputs": [
    {
     "ename": "TypeError",
     "evalue": "ignored",
     "output_type": "error",
     "traceback": [
      "\u001b[0;31m---------------------------------------------------------------------------\u001b[0m",
      "\u001b[0;31mTypeError\u001b[0m                                 Traceback (most recent call last)",
      "\u001b[0;32m<ipython-input-24-54af0eb47770>\u001b[0m in \u001b[0;36m<module>\u001b[0;34m()\u001b[0m\n\u001b[0;32m----> 1\u001b[0;31m \u001b[0mb\u001b[0m\u001b[0;34m[\u001b[0m\u001b[0;36m0\u001b[0m\u001b[0;34m]\u001b[0m\u001b[0;34m\u001b[0m\u001b[0;34m\u001b[0m\u001b[0m\n\u001b[0m",
      "\u001b[0;31mTypeError\u001b[0m: 'list_iterator' object is not subscriptable"
     ]
    }
   ],
   "source": [
    "b[0]  #iterator 는 indexing, slicing 불가"
   ]
  },
  {
   "cell_type": "markdown",
   "metadata": {
    "id": "6zHR9tgEDRq6"
   },
   "source": [
    "dir()\n",
    "- attribute 를 리스팅"
   ]
  },
  {
   "cell_type": "code",
   "execution_count": null,
   "metadata": {
    "colab": {
     "base_uri": "https://localhost:8080/"
    },
    "id": "97IzVvm4Cr2B",
    "outputId": "999c8a0d-bea9-42a9-a583-da7f34eea11a"
   },
   "outputs": [
    {
     "data": {
      "text/plain": [
       "['__class__',\n",
       " '__delattr__',\n",
       " '__dir__',\n",
       " '__doc__',\n",
       " '__eq__',\n",
       " '__format__',\n",
       " '__ge__',\n",
       " '__getattribute__',\n",
       " '__gt__',\n",
       " '__hash__',\n",
       " '__init__',\n",
       " '__init_subclass__',\n",
       " '__iter__',\n",
       " '__le__',\n",
       " '__length_hint__',\n",
       " '__lt__',\n",
       " '__ne__',\n",
       " '__new__',\n",
       " '__next__',\n",
       " '__reduce__',\n",
       " '__reduce_ex__',\n",
       " '__repr__',\n",
       " '__setattr__',\n",
       " '__setstate__',\n",
       " '__sizeof__',\n",
       " '__str__',\n",
       " '__subclasshook__']"
      ]
     },
     "execution_count": 19,
     "metadata": {
      "tags": []
     },
     "output_type": "execute_result"
    }
   ],
   "source": [
    "dir(b) # "
   ]
  },
  {
   "cell_type": "code",
   "execution_count": null,
   "metadata": {
    "colab": {
     "base_uri": "https://localhost:8080/"
    },
    "id": "JbdH_tVWCy7b",
    "outputId": "7c387484-bab0-42aa-e6db-8e0bfcd568d4"
   },
   "outputs": [
    {
     "data": {
      "text/plain": [
       "1"
      ]
     },
     "execution_count": 20,
     "metadata": {
      "tags": []
     },
     "output_type": "execute_result"
    }
   ],
   "source": [
    "next(b)"
   ]
  },
  {
   "cell_type": "code",
   "execution_count": null,
   "metadata": {
    "colab": {
     "base_uri": "https://localhost:8080/"
    },
    "id": "d7qYtnEoPU2n",
    "outputId": "da394669-e3f1-44f7-960d-73068c2ada96"
   },
   "outputs": [
    {
     "data": {
      "text/plain": [
       "[2, 3]"
      ]
     },
     "execution_count": 54,
     "metadata": {
      "tags": []
     },
     "output_type": "execute_result"
    }
   ],
   "source": [
    "list(b)  # 2,3 이 남음"
   ]
  },
  {
   "cell_type": "code",
   "execution_count": null,
   "metadata": {
    "colab": {
     "base_uri": "https://localhost:8080/"
    },
    "id": "N9thyJDxPkBT",
    "outputId": "f06d1393-28b9-441a-eeac-fd62565b9705"
   },
   "outputs": [
    {
     "data": {
      "text/plain": [
       "1"
      ]
     },
     "execution_count": 56,
     "metadata": {
      "tags": []
     },
     "output_type": "execute_result"
    }
   ],
   "source": [
    "b=iter(a)\n",
    "next(b)"
   ]
  },
  {
   "cell_type": "code",
   "execution_count": null,
   "metadata": {
    "colab": {
     "base_uri": "https://localhost:8080/"
    },
    "id": "OIMkD2e5Pt9B",
    "outputId": "86b28ace-c918-4d5c-87cf-818d04c85579"
   },
   "outputs": [
    {
     "data": {
      "text/plain": [
       "2"
      ]
     },
     "execution_count": 57,
     "metadata": {
      "tags": []
     },
     "output_type": "execute_result"
    }
   ],
   "source": [
    "next(b)"
   ]
  },
  {
   "cell_type": "code",
   "execution_count": null,
   "metadata": {
    "colab": {
     "base_uri": "https://localhost:8080/"
    },
    "id": "wKNlP_D9PvcX",
    "outputId": "e2169df7-f34d-45f2-fc2f-a248e0701380"
   },
   "outputs": [
    {
     "data": {
      "text/plain": [
       "3"
      ]
     },
     "execution_count": 58,
     "metadata": {
      "tags": []
     },
     "output_type": "execute_result"
    }
   ],
   "source": [
    "next(b)"
   ]
  },
  {
   "cell_type": "code",
   "execution_count": null,
   "metadata": {
    "colab": {
     "base_uri": "https://localhost:8080/",
     "height": 172
    },
    "id": "Qpl0bRwAPwCZ",
    "outputId": "8df5df8b-de24-4f25-f7c8-2c300ad23162",
    "scrolled": true
   },
   "outputs": [
    {
     "ename": "StopIteration",
     "evalue": "ignored",
     "output_type": "error",
     "traceback": [
      "\u001b[0;31m---------------------------------------------------------------------------\u001b[0m",
      "\u001b[0;31mStopIteration\u001b[0m                             Traceback (most recent call last)",
      "\u001b[0;32m<ipython-input-59-e846efec376d>\u001b[0m in \u001b[0;36m<module>\u001b[0;34m()\u001b[0m\n\u001b[0;32m----> 1\u001b[0;31m \u001b[0mnext\u001b[0m\u001b[0;34m(\u001b[0m\u001b[0mc\u001b[0m\u001b[0;34m)\u001b[0m\u001b[0;34m\u001b[0m\u001b[0;34m\u001b[0m\u001b[0m\n\u001b[0m",
      "\u001b[0;31mStopIteration\u001b[0m: "
     ]
    }
   ],
   "source": [
    "next(c) #남아 있지 않아서 StopIteration  Error"
   ]
  },
  {
   "cell_type": "code",
   "execution_count": null,
   "metadata": {
    "colab": {
     "base_uri": "https://localhost:8080/"
    },
    "id": "mYmmANnnC4bj",
    "outputId": "b8d0e3cf-ce28-4d04-fc23-3235e535ee8e"
   },
   "outputs": [
    {
     "data": {
      "text/plain": [
       "{1, 2, 3}"
      ]
     },
     "execution_count": 21,
     "metadata": {
      "tags": []
     },
     "output_type": "execute_result"
    }
   ],
   "source": [
    "{1,2,3}"
   ]
  },
  {
   "cell_type": "code",
   "execution_count": null,
   "metadata": {
    "colab": {
     "base_uri": "https://localhost:8080/"
    },
    "id": "IlkoXOi0EFMX",
    "outputId": "7ea3a7b0-9061-4259-ec1a-34e1cbf2a1c8"
   },
   "outputs": [
    {
     "data": {
      "text/plain": [
       "['__and__',\n",
       " '__class__',\n",
       " '__contains__',\n",
       " '__delattr__',\n",
       " '__dir__',\n",
       " '__doc__',\n",
       " '__eq__',\n",
       " '__format__',\n",
       " '__ge__',\n",
       " '__getattribute__',\n",
       " '__gt__',\n",
       " '__hash__',\n",
       " '__iand__',\n",
       " '__init__',\n",
       " '__init_subclass__',\n",
       " '__ior__',\n",
       " '__isub__',\n",
       " '__iter__',\n",
       " '__ixor__',\n",
       " '__le__',\n",
       " '__len__',\n",
       " '__lt__',\n",
       " '__ne__',\n",
       " '__new__',\n",
       " '__or__',\n",
       " '__rand__',\n",
       " '__reduce__',\n",
       " '__reduce_ex__',\n",
       " '__repr__',\n",
       " '__ror__',\n",
       " '__rsub__',\n",
       " '__rxor__',\n",
       " '__setattr__',\n",
       " '__sizeof__',\n",
       " '__str__',\n",
       " '__sub__',\n",
       " '__subclasshook__',\n",
       " '__xor__',\n",
       " 'add',\n",
       " 'clear',\n",
       " 'copy',\n",
       " 'difference',\n",
       " 'difference_update',\n",
       " 'discard',\n",
       " 'intersection',\n",
       " 'intersection_update',\n",
       " 'isdisjoint',\n",
       " 'issubset',\n",
       " 'issuperset',\n",
       " 'pop',\n",
       " 'remove',\n",
       " 'symmetric_difference',\n",
       " 'symmetric_difference_update',\n",
       " 'union',\n",
       " 'update']"
      ]
     },
     "execution_count": 22,
     "metadata": {
      "tags": []
     },
     "output_type": "execute_result"
    }
   ],
   "source": [
    "dir({1,2,3})  #set은 __iter__있으므로 iterable"
   ]
  },
  {
   "cell_type": "markdown",
   "metadata": {
    "id": "yJebaUo5EwCs"
   },
   "source": [
    "iterator는 indexin, slicing 사용 불가\n",
    "- \\_\\_getitem__, \\_\\_len__ 없음"
   ]
  },
  {
   "cell_type": "code",
   "execution_count": null,
   "metadata": {
    "colab": {
     "base_uri": "https://localhost:8080/"
    },
    "id": "tk2s6ETaEGOr",
    "outputId": "1d916f75-8682-4142-9177-fa682b9e3ede"
   },
   "outputs": [
    {
     "data": {
      "text/plain": [
       "['__add__',\n",
       " '__class__',\n",
       " '__contains__',\n",
       " '__delattr__',\n",
       " '__delitem__',\n",
       " '__dir__',\n",
       " '__doc__',\n",
       " '__eq__',\n",
       " '__format__',\n",
       " '__ge__',\n",
       " '__getattribute__',\n",
       " '__getitem__',\n",
       " '__gt__',\n",
       " '__hash__',\n",
       " '__iadd__',\n",
       " '__imul__',\n",
       " '__init__',\n",
       " '__init_subclass__',\n",
       " '__iter__',\n",
       " '__le__',\n",
       " '__len__',\n",
       " '__lt__',\n",
       " '__mul__',\n",
       " '__ne__',\n",
       " '__new__',\n",
       " '__reduce__',\n",
       " '__reduce_ex__',\n",
       " '__repr__',\n",
       " '__reversed__',\n",
       " '__rmul__',\n",
       " '__setattr__',\n",
       " '__setitem__',\n",
       " '__sizeof__',\n",
       " '__str__',\n",
       " '__subclasshook__',\n",
       " 'append',\n",
       " 'clear',\n",
       " 'copy',\n",
       " 'count',\n",
       " 'extend',\n",
       " 'index',\n",
       " 'insert',\n",
       " 'pop',\n",
       " 'remove',\n",
       " 'reverse',\n",
       " 'sort']"
      ]
     },
     "execution_count": 26,
     "metadata": {
      "tags": []
     },
     "output_type": "execute_result"
    }
   ],
   "source": [
    "dir([1,2,3]) #list 의 attributes "
   ]
  },
  {
   "cell_type": "markdown",
   "metadata": {
    "id": "FmGUJ0-tHDUT"
   },
   "source": [
    "C언어 기반\n",
    "- function, method 동일\n",
    "- special method 사용하는것은 내부적으로 함수와 동일하게 처리되며 만드는 방식에도 차이 없음"
   ]
  },
  {
   "cell_type": "code",
   "execution_count": null,
   "metadata": {
    "id": "LSgFjkS2GwgI"
   },
   "outputs": [],
   "source": [
    "len() #type :builtin_function_or_method  -> 함수이면서 메소드"
   ]
  },
  {
   "cell_type": "code",
   "execution_count": null,
   "metadata": {
    "colab": {
     "base_uri": "https://localhost:8080/"
    },
    "id": "pqAB9eQBHRPn",
    "outputId": "6c343bf7-9363-4591-d60b-ed316fd1af02"
   },
   "outputs": [
    {
     "data": {
      "text/plain": [
       "['__class__',\n",
       " '__delattr__',\n",
       " '__dict__',\n",
       " '__dir__',\n",
       " '__doc__',\n",
       " '__eq__',\n",
       " '__format__',\n",
       " '__ge__',\n",
       " '__getattribute__',\n",
       " '__gt__',\n",
       " '__hash__',\n",
       " '__init__',\n",
       " '__init_subclass__',\n",
       " '__le__',\n",
       " '__lt__',\n",
       " '__module__',\n",
       " '__ne__',\n",
       " '__new__',\n",
       " '__reduce__',\n",
       " '__reduce_ex__',\n",
       " '__repr__',\n",
       " '__setattr__',\n",
       " '__sizeof__',\n",
       " '__str__',\n",
       " '__subclasshook__',\n",
       " '__weakref__',\n",
       " 'x']"
      ]
     },
     "execution_count": 27,
     "metadata": {
      "tags": []
     },
     "output_type": "execute_result"
    }
   ],
   "source": [
    "class A:\n",
    "  def x(self):\n",
    "    print('X')\n",
    "\n",
    "    \n",
    "dir(A)"
   ]
  },
  {
   "cell_type": "code",
   "execution_count": null,
   "metadata": {
    "colab": {
     "base_uri": "https://localhost:8080/"
    },
    "id": "-nswuIITHXuP",
    "outputId": "c4f2de1f-b3d1-4a98-c614-538254951c46"
   },
   "outputs": [
    {
     "data": {
      "text/plain": [
       "mappingproxy({'__dict__': <attribute '__dict__' of 'A' objects>,\n",
       "              '__doc__': None,\n",
       "              '__module__': '__main__',\n",
       "              '__weakref__': <attribute '__weakref__' of 'A' objects>,\n",
       "              'x': <function __main__.A.x>})"
      ]
     },
     "execution_count": 28,
     "metadata": {
      "tags": []
     },
     "output_type": "execute_result"
    }
   ],
   "source": [
    "vars(A)"
   ]
  },
  {
   "cell_type": "code",
   "execution_count": null,
   "metadata": {
    "colab": {
     "base_uri": "https://localhost:8080/"
    },
    "id": "gdecTjX4Heko",
    "outputId": "32da672d-037f-4a8e-d625-ff8a29e185e0"
   },
   "outputs": [
    {
     "data": {
      "text/plain": [
       "<function __main__.A.x>"
      ]
     },
     "execution_count": 31,
     "metadata": {
      "tags": []
     },
     "output_type": "execute_result"
    }
   ],
   "source": [
    "A.x  #function"
   ]
  },
  {
   "cell_type": "code",
   "execution_count": null,
   "metadata": {
    "colab": {
     "base_uri": "https://localhost:8080/"
    },
    "id": "croFZ5hQHaYo",
    "outputId": "a7ae1240-7dee-4aa9-b1fe-d3229926f17e"
   },
   "outputs": [
    {
     "data": {
      "text/plain": [
       "{}"
      ]
     },
     "execution_count": 29,
     "metadata": {
      "tags": []
     },
     "output_type": "execute_result"
    }
   ],
   "source": [
    "a=A()\n",
    "vars(a)"
   ]
  },
  {
   "cell_type": "code",
   "execution_count": null,
   "metadata": {
    "colab": {
     "base_uri": "https://localhost:8080/"
    },
    "id": "TMGNpIKpHajJ",
    "outputId": "50151804-5657-41d3-d221-98f79fc95e23"
   },
   "outputs": [
    {
     "data": {
      "text/plain": [
       "<bound method A.x of <__main__.A object at 0x7f5f3dea27f0>>"
      ]
     },
     "execution_count": 30,
     "metadata": {
      "tags": []
     },
     "output_type": "execute_result"
    }
   ],
   "source": [
    "a.x # method "
   ]
  },
  {
   "cell_type": "markdown",
   "metadata": {},
   "source": [
    "txt 파일 생성"
   ]
  },
  {
   "cell_type": "code",
   "execution_count": null,
   "metadata": {
    "colab": {
     "base_uri": "https://localhost:8080/"
    },
    "id": "3Jivj92GO2qL",
    "outputId": "c2f49da6-df36-41f4-c500-aa1bdf90a24b"
   },
   "outputs": [
    {
     "name": "stdout",
     "output_type": "stream",
     "text": [
      "Overwriting sun.txt\n"
     ]
    }
   ],
   "source": [
    "%%writefile temp.txt\n",
    "1asdfasdfasdfasdf\n",
    "2dfsdf"
   ]
  },
  {
   "cell_type": "code",
   "execution_count": null,
   "metadata": {
    "colab": {
     "base_uri": "https://localhost:8080/"
    },
    "id": "IJs9D3EBIdkK",
    "outputId": "fe4be47e-abc4-4bd3-d268-1d0a82b57745"
   },
   "outputs": [
    {
     "name": "stdout",
     "output_type": "stream",
     "text": [
      "['1asdfasdfasdfasdf\\n', '2dfsdf']\n"
     ]
    }
   ],
   "source": [
    "with open('temp.txt') as a:\n",
    "  print(a.readlines())"
   ]
  },
  {
   "cell_type": "code",
   "execution_count": null,
   "metadata": {
    "id": "m72pMA-_O09Z"
   },
   "outputs": [],
   "source": [
    "x=open('temp.txt')"
   ]
  },
  {
   "cell_type": "code",
   "execution_count": null,
   "metadata": {
    "colab": {
     "base_uri": "https://localhost:8080/",
     "height": 35
    },
    "id": "fNLvxrqrO7Fj",
    "outputId": "3bec14a3-c477-4a48-c06f-f274d5513627"
   },
   "outputs": [
    {
     "data": {
      "application/vnd.google.colaboratory.intrinsic+json": {
       "type": "string"
      },
      "text/plain": [
       "'1asdfasdfasdfasdf\\n'"
      ]
     },
     "execution_count": 44,
     "metadata": {
      "tags": []
     },
     "output_type": "execute_result"
    }
   ],
   "source": [
    "next(x)  #iterator, generator 가 아니여도 next() 사용 가능"
   ]
  },
  {
   "cell_type": "code",
   "execution_count": null,
   "metadata": {
    "colab": {
     "base_uri": "https://localhost:8080/",
     "height": 35
    },
    "id": "Ld6DNwjBPGUL",
    "outputId": "4a20284d-e8d0-42de-a8b6-d167adc88ace"
   },
   "outputs": [
    {
     "data": {
      "application/vnd.google.colaboratory.intrinsic+json": {
       "type": "string"
      },
      "text/plain": [
       "'2dfsdf'"
      ]
     },
     "execution_count": 45,
     "metadata": {
      "tags": []
     },
     "output_type": "execute_result"
    }
   ],
   "source": [
    "next(x)"
   ]
  },
  {
   "cell_type": "code",
   "execution_count": null,
   "metadata": {
    "colab": {
     "base_uri": "https://localhost:8080/"
    },
    "id": "LAj8h7rSO-lo",
    "outputId": "1c9c726a-6cd0-4390-d576-1a0659b5b5e2"
   },
   "outputs": [
    {
     "data": {
      "text/plain": [
       "<_io.TextIOWrapper name='sun.txt' mode='r' encoding='UTF-8'>"
      ]
     },
     "execution_count": 46,
     "metadata": {
      "tags": []
     },
     "output_type": "execute_result"
    }
   ],
   "source": [
    "x"
   ]
  },
  {
   "cell_type": "markdown",
   "metadata": {
    "id": "AGfAU5F6QHbZ"
   },
   "source": [
    "## Comprehension\n",
    "\n",
    "- 여러개의 값을 동시에 생성하거나 변화시킬때 사용\n",
    "- 내부적으로 최적화되어 데이터 규모가 클 때 속도가 for 보다 빠름\n",
    "- 문이아닌 식으로 사용\n",
    "\n",
    "\n",
    "> Haskel \n",
    "- 함수형 패러다임 언어 \n",
    "하나의 간단한 식으로 여러개의 값을 동시에 만듦\n",
    "\n",
    "- 3가지 종류"
   ]
  },
  {
   "cell_type": "code",
   "execution_count": null,
   "metadata": {
    "colab": {
     "base_uri": "https://localhost:8080/"
    },
    "id": "qzTGhPRlP7Fu",
    "outputId": "9be73ad6-16f0-4d38-dfe7-67b83aead9a5"
   },
   "outputs": [
    {
     "data": {
      "text/plain": [
       "[0, 1, 2, 3, 4, 5, 6, 7, 8, 9]"
      ]
     },
     "execution_count": 63,
     "metadata": {
      "tags": []
     },
     "output_type": "execute_result"
    }
   ],
   "source": [
    "[x for x in range(10)]  "
   ]
  },
  {
   "cell_type": "code",
   "execution_count": null,
   "metadata": {
    "colab": {
     "base_uri": "https://localhost:8080/"
    },
    "id": "vqK8pb6hTBZY",
    "outputId": "e8c0bd67-656c-453e-cae3-972c3b33a6d6"
   },
   "outputs": [
    {
     "data": {
      "text/plain": [
       "[0, 2, 4, 6, 8]"
      ]
     },
     "execution_count": 72,
     "metadata": {
      "tags": []
     },
     "output_type": "execute_result"
    }
   ],
   "source": [
    "[x for x in range(10) if x%2==0]"
   ]
  },
  {
   "cell_type": "code",
   "execution_count": 6,
   "metadata": {
    "colab": {
     "base_uri": "https://localhost:8080/",
     "height": 136
    },
    "id": "9yhFKLKoTND4",
    "outputId": "d6e62c36-a9e4-406a-df0b-60574c63a65e"
   },
   "outputs": [
    {
     "data": {
      "text/plain": [
       "[0, '', 2, '', 4, '', 6, '', 8, '']"
      ]
     },
     "execution_count": 6,
     "metadata": {},
     "output_type": "execute_result"
    }
   ],
   "source": [
    "[x if x%2==0 else '' for x in range(10)]"
   ]
  },
  {
   "cell_type": "code",
   "execution_count": null,
   "metadata": {
    "colab": {
     "base_uri": "https://localhost:8080/"
    },
    "id": "jBLTZWkVTWb8",
    "outputId": "04bee641-2f6e-4464-903f-fec6494beb81",
    "scrolled": true
   },
   "outputs": [
    {
     "data": {
      "text/plain": [
       "[(0, 0),\n",
       " (0, 1),\n",
       " (0, 2),\n",
       " (1, 0),\n",
       " (1, 1),\n",
       " (1, 2),\n",
       " (2, 0),\n",
       " (2, 1),\n",
       " (2, 2),\n",
       " (3, 0),\n",
       " (3, 1),\n",
       " (3, 2),\n",
       " (4, 0),\n",
       " (4, 1),\n",
       " (4, 2),\n",
       " (5, 0),\n",
       " (5, 1),\n",
       " (5, 2),\n",
       " (6, 0),\n",
       " (6, 1),\n",
       " (6, 2),\n",
       " (7, 0),\n",
       " (7, 1),\n",
       " (7, 2),\n",
       " (8, 0),\n",
       " (8, 1),\n",
       " (8, 2),\n",
       " (9, 0),\n",
       " (9, 1),\n",
       " (9, 2)]"
      ]
     },
     "execution_count": 76,
     "metadata": {
      "tags": []
     },
     "output_type": "execute_result"
    }
   ],
   "source": [
    "[(x,y)  for x in range(10) for y in range(3)] #중첩 가능하다"
   ]
  },
  {
   "cell_type": "code",
   "execution_count": null,
   "metadata": {
    "colab": {
     "base_uri": "https://localhost:8080/"
    },
    "id": "UKFnlcCJPx7K",
    "outputId": "15e602bb-0bf9-4f83-ad30-b6a9e8e8fb68"
   },
   "outputs": [
    {
     "data": {
      "text/plain": [
       "[1, 2, 3, 4, 5, 6, 7, 8, 9, 10]"
      ]
     },
     "execution_count": 64,
     "metadata": {
      "tags": []
     },
     "output_type": "execute_result"
    }
   ],
   "source": [
    "[x+1 for x in range(10)] #각 값에 1을 더함"
   ]
  },
  {
   "cell_type": "markdown",
   "metadata": {
    "id": "72b7L2FESF4I"
   },
   "source": [
    "### 문(statement)\n",
    "- 총 21개 \n",
    "- 재사용의 관점"
   ]
  },
  {
   "cell_type": "code",
   "execution_count": null,
   "metadata": {
    "colab": {
     "base_uri": "https://localhost:8080/"
    },
    "id": "Qp0taa5oQGQL",
    "outputId": "7815b545-1e0f-4c80-e572-35d57984499d"
   },
   "outputs": [
    {
     "name": "stdout",
     "output_type": "stream",
     "text": [
      "1000 loops, best of 3: 748 µs per loop\n"
     ]
    }
   ],
   "source": [
    "%%timeit\n",
    "temp=[]\n",
    "for i in range(10000):\n",
    "  temp.append(i)"
   ]
  },
  {
   "cell_type": "markdown",
   "metadata": {
    "id": "V9fmOjcpSG16"
   },
   "source": [
    "### 식(expression)\n",
    "- **하나의 결과값으로 축약** 가능\n",
    "- 일회성 개념이 있음\n",
    "  - lambda는 식\n",
    "- 중첩 가능 "
   ]
  },
  {
   "cell_type": "code",
   "execution_count": null,
   "metadata": {
    "colab": {
     "base_uri": "https://localhost:8080/"
    },
    "id": "fk4ydAL5Qb0U",
    "outputId": "9fcfc945-9fcf-4e89-d79c-a5a3db3167ec"
   },
   "outputs": [
    {
     "name": "stdout",
     "output_type": "stream",
     "text": [
      "1000 loops, best of 3: 398 µs per loop\n"
     ]
    }
   ],
   "source": [
    "%timeit [x for x in range(10000)]  #내부적으로 최적화되어 속도가 빠름"
   ]
  },
  {
   "cell_type": "markdown",
   "metadata": {
    "id": "8aIRPV6zTsaA"
   },
   "source": [
    "iterator , generator 차이는 만드는 방식\n",
    "- 딥러닝에서는 데이터 변화,생성에 사용하지 않음\n",
    "- 함수형 패러다임 3총사 :\n",
    "  - map,filter,reduce\n",
    "\n"
   ]
  },
  {
   "cell_type": "code",
   "execution_count": null,
   "metadata": {
    "colab": {
     "base_uri": "https://localhost:8080/"
    },
    "id": "cNVux8RRThnx",
    "outputId": "5354ce43-9217-4f3f-8ed7-5308209b0add"
   },
   "outputs": [
    {
     "data": {
      "text/plain": [
       "[0, 1, 2, 3, 4, 5, 6, 7, 8, 9]"
      ]
     },
     "execution_count": 77,
     "metadata": {
      "tags": []
     },
     "output_type": "execute_result"
    }
   ],
   "source": [
    "[x for x in range(10)] # list comp"
   ]
  },
  {
   "cell_type": "code",
   "execution_count": null,
   "metadata": {
    "colab": {
     "base_uri": "https://localhost:8080/"
    },
    "id": "6mx9MuDjTz82",
    "outputId": "19be66da-dbac-4ee4-d8c8-0c1696707bf4"
   },
   "outputs": [
    {
     "data": {
      "text/plain": [
       "<generator object <genexpr> at 0x7f5f3dec4d00>"
      ]
     },
     "execution_count": 78,
     "metadata": {
      "tags": []
     },
     "output_type": "execute_result"
    }
   ],
   "source": [
    "(x for x in range(10)) # tuple comp "
   ]
  },
  {
   "cell_type": "code",
   "execution_count": null,
   "metadata": {
    "colab": {
     "base_uri": "https://localhost:8080/"
    },
    "id": "jmjoqDzoT0gY",
    "outputId": "46d87191-4ad4-4a84-f75f-d56b5b098d8c"
   },
   "outputs": [
    {
     "data": {
      "text/plain": [
       "{0: 0, 1: 1, 2: 2, 3: 3, 4: 4, 5: 5, 6: 6, 7: 7, 8: 8, 9: 9}"
      ]
     },
     "execution_count": 79,
     "metadata": {
      "tags": []
     },
     "output_type": "execute_result"
    }
   ],
   "source": [
    "{x:x for x in range(10)} #dictionary comp"
   ]
  },
  {
   "cell_type": "code",
   "execution_count": null,
   "metadata": {
    "colab": {
     "base_uri": "https://localhost:8080/"
    },
    "id": "ECKNEDH5T1xT",
    "outputId": "7f6dee01-02a4-4ad0-e25f-5ff7510f4d62"
   },
   "outputs": [
    {
     "data": {
      "text/plain": [
       "<generator object <genexpr> at 0x7f5f3dec2e60>"
      ]
     },
     "execution_count": 81,
     "metadata": {
      "tags": []
     },
     "output_type": "execute_result"
    }
   ],
   "source": [
    "t=(x for x in range(10)) #tuple 은 generator \n",
    "t"
   ]
  },
  {
   "cell_type": "code",
   "execution_count": null,
   "metadata": {
    "colab": {
     "base_uri": "https://localhost:8080/"
    },
    "id": "ZG08bWYoT2qW",
    "outputId": "88963d89-42f1-4938-d6d1-c92270873d3a"
   },
   "outputs": [
    {
     "data": {
      "text/plain": [
       "['__class__',\n",
       " '__del__',\n",
       " '__delattr__',\n",
       " '__dir__',\n",
       " '__doc__',\n",
       " '__eq__',\n",
       " '__format__',\n",
       " '__ge__',\n",
       " '__getattribute__',\n",
       " '__gt__',\n",
       " '__hash__',\n",
       " '__init__',\n",
       " '__init_subclass__',\n",
       " '__iter__',\n",
       " '__le__',\n",
       " '__lt__',\n",
       " '__name__',\n",
       " '__ne__',\n",
       " '__new__',\n",
       " '__next__',\n",
       " '__qualname__',\n",
       " '__reduce__',\n",
       " '__reduce_ex__',\n",
       " '__repr__',\n",
       " '__setattr__',\n",
       " '__sizeof__',\n",
       " '__str__',\n",
       " '__subclasshook__',\n",
       " 'close',\n",
       " 'gi_code',\n",
       " 'gi_frame',\n",
       " 'gi_running',\n",
       " 'gi_yieldfrom',\n",
       " 'send',\n",
       " 'throw']"
      ]
     },
     "execution_count": 82,
     "metadata": {
      "tags": []
     },
     "output_type": "execute_result"
    }
   ],
   "source": [
    "dir(t) # __iter__"
   ]
  },
  {
   "cell_type": "code",
   "execution_count": null,
   "metadata": {
    "colab": {
     "base_uri": "https://localhost:8080/"
    },
    "id": "dXog7pC3UK1n",
    "outputId": "2b4d6910-8079-4725-fe0c-fe06c5485bbb"
   },
   "outputs": [
    {
     "data": {
      "text/plain": [
       "0"
      ]
     },
     "execution_count": 83,
     "metadata": {
      "tags": []
     },
     "output_type": "execute_result"
    }
   ],
   "source": [
    "next(t)"
   ]
  },
  {
   "cell_type": "markdown",
   "metadata": {
    "id": "GZofW21wVuxh"
   },
   "source": [
    "parameter, argument 차이\n",
    "\n",
    "- argument(인자)\n",
    "  - 함수 사용할때 넣는 인자\n",
    "\n",
    "\n",
    "- parameter(매개변수)\n",
    "  - 함수 정의\n",
    "  - 파라미터 구분\n",
    "  - 5 종류의 파라미터 형태 (중요)"
   ]
  },
  {
   "cell_type": "code",
   "execution_count": null,
   "metadata": {
    "id": "6vCyZEmOVRCv"
   },
   "outputs": [],
   "source": [
    "def x(para):  #파라미터\n",
    "  pass"
   ]
  },
  {
   "cell_type": "code",
   "execution_count": null,
   "metadata": {
    "id": "wWFZN_c5WHE7"
   },
   "outputs": [],
   "source": [
    "x(3) #3은 argument"
   ]
  },
  {
   "cell_type": "code",
   "execution_count": null,
   "metadata": {
    "colab": {
     "base_uri": "https://localhost:8080/"
    },
    "id": "O_X1M0odWIP3",
    "outputId": "f65014a5-f4b4-4488-e812-0aad36be2e81"
   },
   "outputs": [
    {
     "data": {
      "text/plain": [
       "45"
      ]
     },
     "execution_count": 89,
     "metadata": {
      "tags": []
     },
     "output_type": "execute_result"
    }
   ],
   "source": [
    "sum({x for x in range(10)})"
   ]
  },
  {
   "cell_type": "code",
   "execution_count": null,
   "metadata": {
    "colab": {
     "base_uri": "https://localhost:8080/"
    },
    "id": "oAsvDfnAWb8u",
    "outputId": "0e061c08-65a2-4edb-9339-8ea1e37170e8"
   },
   "outputs": [
    {
     "data": {
      "text/plain": [
       "45"
      ]
     },
     "execution_count": 91,
     "metadata": {
      "tags": []
     },
     "output_type": "execute_result"
    }
   ],
   "source": [
    "sum([x for x in range(10)])"
   ]
  },
  {
   "cell_type": "code",
   "execution_count": null,
   "metadata": {
    "colab": {
     "base_uri": "https://localhost:8080/"
    },
    "id": "2yLuX_4YWhFW",
    "outputId": "f32143e0-71b1-406c-dac0-89dcdccb4e72"
   },
   "outputs": [
    {
     "data": {
      "text/plain": [
       "45"
      ]
     },
     "execution_count": 93,
     "metadata": {
      "tags": []
     },
     "output_type": "execute_result"
    }
   ],
   "source": [
    "sum({x:x  for x in range(10)}) #dict comp의 키값을 가져옴"
   ]
  },
  {
   "cell_type": "markdown",
   "metadata": {
    "id": "Yb8IbQrMXJ-K"
   },
   "source": [
    "### 딕셔너리 뷰 \n",
    "- CS에서 다르게 보여주는 것\n",
    "- Python의 Dictionray View\n",
    "  - keys, values, items 의 3가지 형태의 뷰\n",
    " \n",
    "  - 기본적으로 key 관점"
   ]
  },
  {
   "cell_type": "code",
   "execution_count": null,
   "metadata": {
    "colab": {
     "base_uri": "https://localhost:8080/"
    },
    "id": "v8TB9e6cXAUp",
    "outputId": "edace8f4-f7c8-4151-bffa-8b5e91a7ab29"
   },
   "outputs": [
    {
     "data": {
      "text/plain": [
       "dict_keys([0, 1, 2, 3, 4, 5, 6, 7, 8, 9])"
      ]
     },
     "execution_count": 99,
     "metadata": {
      "tags": []
     },
     "output_type": "execute_result"
    }
   ],
   "source": [
    "a={x:x  for x in range(10)}\n",
    "a.keys() #키"
   ]
  },
  {
   "cell_type": "code",
   "execution_count": null,
   "metadata": {
    "colab": {
     "base_uri": "https://localhost:8080/"
    },
    "id": "U4vLv9egXIH5",
    "outputId": "c4baabdc-5725-4637-9dfd-8c2afe46bf7b"
   },
   "outputs": [
    {
     "data": {
      "text/plain": [
       "dict_values([0, 1, 2, 3, 4, 5, 6, 7, 8, 9])"
      ]
     },
     "execution_count": 98,
     "metadata": {
      "tags": []
     },
     "output_type": "execute_result"
    }
   ],
   "source": [
    "a.values() #값"
   ]
  },
  {
   "cell_type": "code",
   "execution_count": null,
   "metadata": {
    "colab": {
     "base_uri": "https://localhost:8080/"
    },
    "id": "Q9V5UW_HXXcJ",
    "outputId": "6cb357f6-5f9b-4b9d-8e6e-9eb58f7dd243"
   },
   "outputs": [
    {
     "data": {
      "text/plain": [
       "dict_items([(0, 0), (1, 1), (2, 2), (3, 3), (4, 4), (5, 5), (6, 6), (7, 7), (8, 8), (9, 9)])"
      ]
     },
     "execution_count": 100,
     "metadata": {
      "tags": []
     },
     "output_type": "execute_result"
    }
   ],
   "source": [
    "a.items() #키 &값"
   ]
  },
  {
   "cell_type": "code",
   "execution_count": null,
   "metadata": {
    "colab": {
     "base_uri": "https://localhost:8080/"
    },
    "id": "bvnuIJotXj6C",
    "outputId": "ad438b38-609c-4403-a29a-7b088b2298cd"
   },
   "outputs": [
    {
     "name": "stdout",
     "output_type": "stream",
     "text": [
      "a\n",
      "b\n"
     ]
    }
   ],
   "source": [
    "for i in {'a':1, 'b':2}:\n",
    "  print(i)"
   ]
  },
  {
   "cell_type": "code",
   "execution_count": null,
   "metadata": {
    "colab": {
     "base_uri": "https://localhost:8080/"
    },
    "id": "h4hV5tJHXpDG",
    "outputId": "5606b0d8-20af-4a5a-93f4-3b773b1f41f5"
   },
   "outputs": [
    {
     "data": {
      "text/plain": [
       "False"
      ]
     },
     "execution_count": 102,
     "metadata": {
      "tags": []
     },
     "output_type": "execute_result"
    }
   ],
   "source": [
    "1 in {'a':1, 'b':2} #멤버쉽"
   ]
  },
  {
   "cell_type": "markdown",
   "metadata": {
    "id": "l3Ah-A8aZGJL"
   },
   "source": [
    "- comprehension, generator expression \n",
    "- next( iter( ) ) 합성함수 방식\n",
    "- type conversion\n",
    "- comp 중첩\n",
    "\n",
    "Pytorch 공식 문서 참고 :https://pytorch.org/tutorials/intermediate/torchvision_tutorial.html"
   ]
  },
  {
   "cell_type": "code",
   "execution_count": null,
   "metadata": {
    "id": "WBP5i9P0bxVP"
   },
   "outputs": [],
   "source": [
    "images,targets = next(iter(data_loader))\n",
    "images = list(image for image in images)\n",
    "targets = [{k: v for k, v in t.items()} for t in targets]"
   ]
  },
  {
   "cell_type": "markdown",
   "metadata": {
    "id": "cDw-m5fcWtmj"
   },
   "source": [
    "comprehension , generator expression 이 함수의 인자로 쓸때는 생략 가능 "
   ]
  },
  {
   "cell_type": "code",
   "execution_count": null,
   "metadata": {
    "colab": {
     "base_uri": "https://localhost:8080/"
    },
    "id": "uXStB8ZWWm46",
    "outputId": "555185b6-9e98-4d66-b64b-75c1b2ffefef"
   },
   "outputs": [
    {
     "data": {
      "text/plain": [
       "45"
      ]
     },
     "execution_count": 94,
     "metadata": {
      "tags": []
     },
     "output_type": "execute_result"
    }
   ],
   "source": [
    "sum((x for x in range(10 )))  #generator 도 가능 "
   ]
  },
  {
   "cell_type": "code",
   "execution_count": null,
   "metadata": {
    "colab": {
     "base_uri": "https://localhost:8080/"
    },
    "id": "SaQsWqIvX44t",
    "outputId": "a6098621-e4ec-468c-ed31-63220a73c2ca"
   },
   "outputs": [
    {
     "data": {
      "text/plain": [
       "45"
      ]
     },
     "execution_count": 104,
     "metadata": {
      "tags": []
     },
     "output_type": "execute_result"
    }
   ],
   "source": [
    "sum ( x for x in range(10 )  )  # 함수의 인자로 사용시 생략 가능 "
   ]
  },
  {
   "cell_type": "code",
   "execution_count": null,
   "metadata": {
    "colab": {
     "base_uri": "https://localhost:8080/"
    },
    "id": "5hOj8-KuWrS9",
    "outputId": "232946ce-4c15-48b2-b556-2e2c6ca2bf6b",
    "scrolled": true
   },
   "outputs": [
    {
     "data": {
      "text/plain": [
       "['__class__',\n",
       " '__del__',\n",
       " '__delattr__',\n",
       " '__dir__',\n",
       " '__doc__',\n",
       " '__eq__',\n",
       " '__format__',\n",
       " '__ge__',\n",
       " '__getattribute__',\n",
       " '__gt__',\n",
       " '__hash__',\n",
       " '__init__',\n",
       " '__init_subclass__',\n",
       " '__iter__',\n",
       " '__le__',\n",
       " '__lt__',\n",
       " '__name__',\n",
       " '__ne__',\n",
       " '__new__',\n",
       " '__next__',\n",
       " '__qualname__',\n",
       " '__reduce__',\n",
       " '__reduce_ex__',\n",
       " '__repr__',\n",
       " '__setattr__',\n",
       " '__sizeof__',\n",
       " '__str__',\n",
       " '__subclasshook__',\n",
       " 'close',\n",
       " 'gi_code',\n",
       " 'gi_frame',\n",
       " 'gi_running',\n",
       " 'gi_yieldfrom',\n",
       " 'send',\n",
       " 'throw']"
      ]
     },
     "execution_count": 95,
     "metadata": {
      "tags": []
     },
     "output_type": "execute_result"
    }
   ],
   "source": [
    "dir(x for x in range(10 )) #__iter__"
   ]
  },
  {
   "cell_type": "code",
   "execution_count": null,
   "metadata": {
    "id": "BZ18enopW5uC"
   },
   "outputs": [],
   "source": [
    "x=3\n",
    "x=x+1"
   ]
  },
  {
   "cell_type": "code",
   "execution_count": null,
   "metadata": {
    "colab": {
     "base_uri": "https://localhost:8080/"
    },
    "id": "CTIgPgNpY8Ma",
    "outputId": "146d4e6d-bb8f-4110-d0f9-63719c82de43"
   },
   "outputs": [
    {
     "data": {
      "text/plain": [
       "4"
      ]
     },
     "execution_count": 106,
     "metadata": {
      "tags": []
     },
     "output_type": "execute_result"
    }
   ],
   "source": [
    "x"
   ]
  },
  {
   "cell_type": "code",
   "execution_count": null,
   "metadata": {
    "id": "rkF8dwaEY89T"
   },
   "outputs": [],
   "source": [
    "images= list(image for image in images ) #값 새로 할당"
   ]
  },
  {
   "cell_type": "code",
   "execution_count": null,
   "metadata": {
    "colab": {
     "base_uri": "https://localhost:8080/"
    },
    "id": "2UCKHffwZG5i",
    "outputId": "1adaeabd-114f-4f03-cbdb-4f544a9d810d"
   },
   "outputs": [
    {
     "data": {
      "text/plain": [
       "type"
      ]
     },
     "execution_count": 109,
     "metadata": {
      "tags": []
     },
     "output_type": "execute_result"
    }
   ],
   "source": [
    "type(list)  #type -> class"
   ]
  },
  {
   "cell_type": "code",
   "execution_count": null,
   "metadata": {
    "colab": {
     "base_uri": "https://localhost:8080/"
    },
    "id": "9pkpj_FCZG80",
    "outputId": "88db2f95-43c1-4759-d14c-08faef6a7dfe"
   },
   "outputs": [
    {
     "data": {
      "text/plain": [
       "['__add__',\n",
       " '__class__',\n",
       " '__contains__',\n",
       " '__delattr__',\n",
       " '__dir__',\n",
       " '__doc__',\n",
       " '__eq__',\n",
       " '__format__',\n",
       " '__ge__',\n",
       " '__getattribute__',\n",
       " '__getitem__',\n",
       " '__getnewargs__',\n",
       " '__gt__',\n",
       " '__hash__',\n",
       " '__init__',\n",
       " '__init_subclass__',\n",
       " '__iter__',\n",
       " '__le__',\n",
       " '__len__',\n",
       " '__lt__',\n",
       " '__mod__',\n",
       " '__mul__',\n",
       " '__ne__',\n",
       " '__new__',\n",
       " '__reduce__',\n",
       " '__reduce_ex__',\n",
       " '__repr__',\n",
       " '__rmod__',\n",
       " '__rmul__',\n",
       " '__setattr__',\n",
       " '__sizeof__',\n",
       " '__str__',\n",
       " '__subclasshook__',\n",
       " 'capitalize',\n",
       " 'casefold',\n",
       " 'center',\n",
       " 'count',\n",
       " 'encode',\n",
       " 'endswith',\n",
       " 'expandtabs',\n",
       " 'find',\n",
       " 'format',\n",
       " 'format_map',\n",
       " 'index',\n",
       " 'isalnum',\n",
       " 'isalpha',\n",
       " 'isdecimal',\n",
       " 'isdigit',\n",
       " 'isidentifier',\n",
       " 'islower',\n",
       " 'isnumeric',\n",
       " 'isprintable',\n",
       " 'isspace',\n",
       " 'istitle',\n",
       " 'isupper',\n",
       " 'join',\n",
       " 'ljust',\n",
       " 'lower',\n",
       " 'lstrip',\n",
       " 'maketrans',\n",
       " 'partition',\n",
       " 'replace',\n",
       " 'rfind',\n",
       " 'rindex',\n",
       " 'rjust',\n",
       " 'rpartition',\n",
       " 'rsplit',\n",
       " 'rstrip',\n",
       " 'split',\n",
       " 'splitlines',\n",
       " 'startswith',\n",
       " 'strip',\n",
       " 'swapcase',\n",
       " 'title',\n",
       " 'translate',\n",
       " 'upper',\n",
       " 'zfill']"
      ]
     },
     "execution_count": 112,
     "metadata": {
      "tags": []
     },
     "output_type": "execute_result"
    }
   ],
   "source": [
    "a='abcde'\n",
    "dir(a) #__iter__"
   ]
  },
  {
   "cell_type": "code",
   "execution_count": null,
   "metadata": {
    "colab": {
     "base_uri": "https://localhost:8080/"
    },
    "id": "0HEh04ymZbN0",
    "outputId": "0b06d0e9-0523-43eb-eaac-638cfd9128df"
   },
   "outputs": [
    {
     "data": {
      "text/plain": [
       "['a', 'b', 'c', 'd', 'e']"
      ]
     },
     "execution_count": 114,
     "metadata": {
      "tags": []
     },
     "output_type": "execute_result"
    }
   ],
   "source": [
    "list('abcde')"
   ]
  },
  {
   "cell_type": "markdown",
   "metadata": {
    "id": "M2cLyqwjZGF2"
   },
   "source": [
    "python에서 객체지향에서 값 만드는 방법\n",
    "1. literal\n",
    "  - 특수기호 사용\n",
    "  - eg. [], {}, (),\" \"...\n",
    "2. 객체 생성\n",
    "  - 객체 인스턴스화\n",
    "  - eg. set(), Frozenset(), list(), tuple()\n",
    "\n",
    " > type conversion\n",
    " - 명시적으로 바꾸는 연산자 없음\n",
    "- coercion 코어션 :데이터 타입을 바꾸기 위한 묵시적 방식"
   ]
  },
  {
   "cell_type": "code",
   "execution_count": null,
   "metadata": {
    "id": "NcLBjRubZ2uq"
   },
   "outputs": [],
   "source": [
    "['a', 'b', 'c', 'd', 'e']"
   ]
  },
  {
   "cell_type": "code",
   "execution_count": null,
   "metadata": {
    "id": "EZRvQr3WZ2yK"
   },
   "outputs": [],
   "source": [
    "image = list(image for image in images)"
   ]
  },
  {
   "cell_type": "code",
   "execution_count": null,
   "metadata": {
    "id": "r8hH72BGZ22H"
   },
   "outputs": [],
   "source": [
    "image = list(images)"
   ]
  },
  {
   "cell_type": "code",
   "execution_count": null,
   "metadata": {
    "colab": {
     "base_uri": "https://localhost:8080/"
    },
    "id": "dxTZNnMHZ26e",
    "outputId": "c1ec7ec9-f471-445d-e07f-d05438b01180"
   },
   "outputs": [
    {
     "data": {
      "text/plain": [
       "[{1, 2, 3}]"
      ]
     },
     "execution_count": 115,
     "metadata": {
      "tags": []
     },
     "output_type": "execute_result"
    }
   ],
   "source": [
    "x={1,2,3}\n",
    "y=[x]\n",
    "y  #통째로 입력됨"
   ]
  },
  {
   "cell_type": "code",
   "execution_count": null,
   "metadata": {
    "colab": {
     "base_uri": "https://localhost:8080/"
    },
    "id": "shbroVuGZ3Cx",
    "outputId": "d55aa354-cd83-4b4a-ddbc-66d546d84553"
   },
   "outputs": [
    {
     "data": {
      "text/plain": [
       "[1, 2, 3]"
      ]
     },
     "execution_count": 118,
     "metadata": {
      "tags": []
     },
     "output_type": "execute_result"
    }
   ],
   "source": [
    "x={1,2,3}\n",
    "y=[i for i in x]\n",
    "y"
   ]
  },
  {
   "cell_type": "code",
   "execution_count": null,
   "metadata": {
    "colab": {
     "base_uri": "https://localhost:8080/"
    },
    "id": "O_A1GY2cZ3Ha",
    "outputId": "e0c4e7fb-cbdd-47b6-9ae9-8485e8cf3da8"
   },
   "outputs": [
    {
     "data": {
      "text/plain": [
       "[1, 2, 3]"
      ]
     },
     "execution_count": 120,
     "metadata": {
      "tags": []
     },
     "output_type": "execute_result"
    }
   ],
   "source": [
    "z=[*x] # unpacking\n",
    "z "
   ]
  },
  {
   "cell_type": "markdown",
   "metadata": {
    "id": "3kKaNpQ0cANl"
   },
   "source": [
    "### generator\n",
    "1. ( ) generator expression\n",
    "2. 함수내에 yield , yield from \n",
    "  - 시스템 만들때 많이 사용함\n",
    "  - 딥러닝에서는 많이 사용하지는 않음\n",
    "  \n",
    "  \n"
   ]
  },
  {
   "cell_type": "code",
   "execution_count": null,
   "metadata": {
    "colab": {
     "base_uri": "https://localhost:8080/"
    },
    "id": "g5_WQPVCcAcq",
    "outputId": "3f1d5b61-7a99-4022-fadc-7406566f76b0"
   },
   "outputs": [
    {
     "data": {
      "text/plain": [
       "<generator object <genexpr> at 0x7f5f3de5cca8>"
      ]
     },
     "execution_count": 121,
     "metadata": {
      "tags": []
     },
     "output_type": "execute_result"
    }
   ],
   "source": [
    "( x for x in range(10)) #generator expression"
   ]
  },
  {
   "cell_type": "code",
   "execution_count": null,
   "metadata": {
    "id": "kI_xGeiIcAfZ"
   },
   "outputs": [],
   "source": [
    "def y():\n",
    "  pass\n",
    "  #return 생략 하는 경우 return None 을 추가해줌"
   ]
  },
  {
   "cell_type": "code",
   "execution_count": null,
   "metadata": {
    "id": "CtO9uO7LcAh-"
   },
   "outputs": [],
   "source": [
    "y()"
   ]
  },
  {
   "cell_type": "code",
   "execution_count": null,
   "metadata": {
    "id": "MrqlXMMncTAN"
   },
   "outputs": [],
   "source": [
    "def y():\n",
    "  return None #상동"
   ]
  },
  {
   "cell_type": "markdown",
   "metadata": {
    "id": "sXUZ1lcKcxKG"
   },
   "source": [
    "\\_\\_iter__, \\_\\_next__ 있음 "
   ]
  },
  {
   "cell_type": "markdown",
   "metadata": {
    "id": "kqyeGSkvc_8o"
   },
   "source": [
    "사용자가 원하는 대로 추출할때 유용\n",
    "- 복잡하게 만들 수 있음"
   ]
  },
  {
   "cell_type": "code",
   "execution_count": null,
   "metadata": {
    "id": "W-6dDV3McVLD"
   },
   "outputs": [],
   "source": [
    "def z():\n",
    "  yield 1\n",
    "  yield 2\n",
    "  return 3"
   ]
  },
  {
   "cell_type": "code",
   "execution_count": null,
   "metadata": {
    "id": "XdL0ngW2c0qP"
   },
   "outputs": [],
   "source": [
    "zz=z()"
   ]
  },
  {
   "cell_type": "code",
   "execution_count": null,
   "metadata": {
    "colab": {
     "base_uri": "https://localhost:8080/"
    },
    "id": "4a5pDyfTc73R",
    "outputId": "64053444-fabf-445e-919e-7b017345d71e"
   },
   "outputs": [
    {
     "data": {
      "text/plain": [
       "1"
      ]
     },
     "execution_count": 129,
     "metadata": {
      "tags": []
     },
     "output_type": "execute_result"
    }
   ],
   "source": [
    "next(zz)"
   ]
  },
  {
   "cell_type": "code",
   "execution_count": null,
   "metadata": {
    "colab": {
     "base_uri": "https://localhost:8080/"
    },
    "id": "r23ke6ZWdAR1",
    "outputId": "77df1977-8dac-468e-a9ce-64dc69308ce0"
   },
   "outputs": [
    {
     "data": {
      "text/plain": [
       "2"
      ]
     },
     "execution_count": 131,
     "metadata": {
      "tags": []
     },
     "output_type": "execute_result"
    }
   ],
   "source": [
    "next(zz)"
   ]
  },
  {
   "cell_type": "code",
   "execution_count": null,
   "metadata": {
    "colab": {
     "base_uri": "https://localhost:8080/",
     "height": 172
    },
    "id": "_6fffupsdBs1",
    "outputId": "0eda77f5-fe4f-4e7e-b425-d5b9d7febfdd"
   },
   "outputs": [
    {
     "ename": "StopIteration",
     "evalue": "ignored",
     "output_type": "error",
     "traceback": [
      "\u001b[0;31m---------------------------------------------------------------------------\u001b[0m",
      "\u001b[0;31mStopIteration\u001b[0m                             Traceback (most recent call last)",
      "\u001b[0;32m<ipython-input-132-d0e328c58dc6>\u001b[0m in \u001b[0;36m<module>\u001b[0;34m()\u001b[0m\n\u001b[0;32m----> 1\u001b[0;31m \u001b[0mnext\u001b[0m\u001b[0;34m(\u001b[0m\u001b[0mzz\u001b[0m\u001b[0;34m)\u001b[0m\u001b[0;34m\u001b[0m\u001b[0;34m\u001b[0m\u001b[0m\n\u001b[0m",
      "\u001b[0;31mStopIteration\u001b[0m: 3"
     ]
    }
   ],
   "source": [
    "next(zz) "
   ]
  },
  {
   "cell_type": "code",
   "execution_count": null,
   "metadata": {
    "id": "6XdHkKd2dckB"
   },
   "outputs": [],
   "source": [
    "def z():\n",
    "  yield from[1,2,3,4,]\n",
    "  return 33"
   ]
  },
  {
   "cell_type": "code",
   "execution_count": null,
   "metadata": {
    "id": "gPOPUNMLdgfR"
   },
   "outputs": [],
   "source": [
    "zz=z()"
   ]
  },
  {
   "cell_type": "code",
   "execution_count": null,
   "metadata": {
    "colab": {
     "base_uri": "https://localhost:8080/"
    },
    "id": "BntPm3jhdh9q",
    "outputId": "ce9eb481-c7e4-49c5-88f7-6e11e73bb191"
   },
   "outputs": [
    {
     "data": {
      "text/plain": [
       "1"
      ]
     },
     "execution_count": 135,
     "metadata": {
      "tags": []
     },
     "output_type": "execute_result"
    }
   ],
   "source": [
    "next(zz)"
   ]
  },
  {
   "cell_type": "code",
   "execution_count": null,
   "metadata": {
    "colab": {
     "base_uri": "https://localhost:8080/"
    },
    "id": "kjQUS9isc8iV",
    "outputId": "78c807b0-b54f-45bf-dbef-7d9f31699ded"
   },
   "outputs": [
    {
     "data": {
      "text/plain": [
       "['__class__',\n",
       " '__del__',\n",
       " '__delattr__',\n",
       " '__dir__',\n",
       " '__doc__',\n",
       " '__eq__',\n",
       " '__format__',\n",
       " '__ge__',\n",
       " '__getattribute__',\n",
       " '__gt__',\n",
       " '__hash__',\n",
       " '__init__',\n",
       " '__init_subclass__',\n",
       " '__iter__',\n",
       " '__le__',\n",
       " '__lt__',\n",
       " '__name__',\n",
       " '__ne__',\n",
       " '__new__',\n",
       " '__next__',\n",
       " '__qualname__',\n",
       " '__reduce__',\n",
       " '__reduce_ex__',\n",
       " '__repr__',\n",
       " '__setattr__',\n",
       " '__sizeof__',\n",
       " '__str__',\n",
       " '__subclasshook__',\n",
       " 'close',\n",
       " 'gi_code',\n",
       " 'gi_frame',\n",
       " 'gi_running',\n",
       " 'gi_yieldfrom',\n",
       " 'send',\n",
       " 'throw']"
      ]
     },
     "execution_count": 130,
     "metadata": {
      "tags": []
     },
     "output_type": "execute_result"
    }
   ],
   "source": [
    "dir(zz)"
   ]
  },
  {
   "cell_type": "markdown",
   "metadata": {
    "id": "yRJgdaNrf4kR"
   },
   "source": [
    "## higher-order function\n",
    "- 함수를 인자로 받거나 함수를 리턴 할 수 있는 함수\n",
    "- map,filter,reduce\n",
    "\n",
    "### map\n",
    "tensorflow > map\n",
    "- 성능 최적화 \n",
    "\n",
    "pytorch > map 없으며 Python에서 제공하는 map\n",
    "\n",
    "- map( 함수, iterabl)\n",
    "- iterable 에서 하나씩 추출해서 함수에 적용"
   ]
  },
  {
   "cell_type": "code",
   "execution_count": null,
   "metadata": {
    "colab": {
     "base_uri": "https://localhost:8080/"
    },
    "id": "w7ASrirofoBE",
    "outputId": "41bde796-2916-4c58-a3b7-683239370206"
   },
   "outputs": [
    {
     "data": {
      "text/plain": [
       "map"
      ]
     },
     "execution_count": 136,
     "metadata": {
      "tags": []
     },
     "output_type": "execute_result"
    }
   ],
   "source": [
    "map  # map(func, *iterables)"
   ]
  },
  {
   "cell_type": "code",
   "execution_count": null,
   "metadata": {
    "colab": {
     "base_uri": "https://localhost:8080/"
    },
    "id": "BCp6O2j1foEI",
    "outputId": "160c1565-a11e-478a-b84e-b6d5d02ee90d"
   },
   "outputs": [
    {
     "data": {
      "text/plain": [
       "[1, 2, 3, 4, 5, 6, 7, 8, 9, 10]"
      ]
     },
     "execution_count": 137,
     "metadata": {
      "tags": []
     },
     "output_type": "execute_result"
    }
   ],
   "source": [
    "[x+1 for x in range(10)]"
   ]
  },
  {
   "cell_type": "markdown",
   "metadata": {
    "id": "D8h0JRW6gayj"
   },
   "source": [
    "< at 메모리 번지>\n",
    "- iterator or generator 일 확률이 높음"
   ]
  },
  {
   "cell_type": "code",
   "execution_count": null,
   "metadata": {
    "colab": {
     "base_uri": "https://localhost:8080/"
    },
    "id": "TXHf7GGnfoHf",
    "outputId": "be5f78d7-5b1f-4330-9b69-5c63da25d69a"
   },
   "outputs": [
    {
     "data": {
      "text/plain": [
       "<map at 0x7f5f3de2b7f0>"
      ]
     },
     "execution_count": 138,
     "metadata": {
      "tags": []
     },
     "output_type": "execute_result"
    }
   ],
   "source": [
    "map(lambda x:x+1, range(10))"
   ]
  },
  {
   "cell_type": "code",
   "execution_count": null,
   "metadata": {
    "colab": {
     "base_uri": "https://localhost:8080/"
    },
    "id": "ED1QewStgZBW",
    "outputId": "11fcf824-3665-4f82-98d8-920043a00600"
   },
   "outputs": [
    {
     "data": {
      "text/plain": [
       "['__class__',\n",
       " '__delattr__',\n",
       " '__dir__',\n",
       " '__doc__',\n",
       " '__eq__',\n",
       " '__format__',\n",
       " '__ge__',\n",
       " '__getattribute__',\n",
       " '__gt__',\n",
       " '__hash__',\n",
       " '__init__',\n",
       " '__init_subclass__',\n",
       " '__iter__',\n",
       " '__le__',\n",
       " '__lt__',\n",
       " '__ne__',\n",
       " '__new__',\n",
       " '__next__',\n",
       " '__reduce__',\n",
       " '__reduce_ex__',\n",
       " '__repr__',\n",
       " '__setattr__',\n",
       " '__sizeof__',\n",
       " '__str__',\n",
       " '__subclasshook__']"
      ]
     },
     "execution_count": 139,
     "metadata": {
      "tags": []
     },
     "output_type": "execute_result"
    }
   ],
   "source": [
    "dir(map(lambda x:x+1, range(10)))"
   ]
  },
  {
   "cell_type": "markdown",
   "metadata": {
    "id": "Ocss1vwWigii"
   },
   "source": [
    "> Elegant Syntax\n",
    "- 상황에 따라 상이함"
   ]
  },
  {
   "cell_type": "code",
   "execution_count": null,
   "metadata": {
    "colab": {
     "base_uri": "https://localhost:8080/"
    },
    "id": "6SCBmLV3grZk",
    "outputId": "0f8cb799-9035-4ad9-af5b-77ab56bdcc63"
   },
   "outputs": [
    {
     "name": "stdout",
     "output_type": "stream",
     "text": [
      "The Zen of Python, by Tim Peters\n",
      "\n",
      "Beautiful is better than ugly.\n",
      "Explicit is better than implicit.\n",
      "Simple is better than complex.\n",
      "Complex is better than complicated.\n",
      "Flat is better than nested.\n",
      "Sparse is better than dense.\n",
      "Readability counts.\n",
      "Special cases aren't special enough to break the rules.\n",
      "Although practicality beats purity.\n",
      "Errors should never pass silently.\n",
      "Unless explicitly silenced.\n",
      "In the face of ambiguity, refuse the temptation to guess.\n",
      "There should be one-- and preferably only one --obvious way to do it.\n",
      "Although that way may not be obvious at first unless you're Dutch.\n",
      "Now is better than never.\n",
      "Although never is often better than *right* now.\n",
      "If the implementation is hard to explain, it's a bad idea.\n",
      "If the implementation is easy to explain, it may be a good idea.\n",
      "Namespaces are one honking great idea -- let's do more of those!\n"
     ]
    }
   ],
   "source": [
    "import this #python 의 철학 : 파이썬의 elegance 는 간결함"
   ]
  },
  {
   "cell_type": "markdown",
   "metadata": {
    "id": "cRdwKSAGgsn2"
   },
   "source": [
    "### map \n",
    "- TensorFlow에서 이미지 처리할때 많이 사용함\n",
    "- 성능  최적화\n",
    "- 일회성의 lambda 사용\n",
    "- 다양한 프레임 워크에서 지원"
   ]
  },
  {
   "cell_type": "code",
   "execution_count": null,
   "metadata": {
    "colab": {
     "base_uri": "https://localhost:8080/"
    },
    "id": "DNxYeSJ-gj0z",
    "outputId": "fd0e6c73-b23b-4481-a220-11c40a4c1424"
   },
   "outputs": [
    {
     "data": {
      "text/plain": [
       "[1, 2, 3, 4, 5, 6, 7, 8, 9, 10]"
      ]
     },
     "execution_count": 141,
     "metadata": {
      "tags": []
     },
     "output_type": "execute_result"
    }
   ],
   "source": [
    "#1\n",
    "list(map(lambda x:x+1, range(10))) #map ( 함수 )"
   ]
  },
  {
   "cell_type": "markdown",
   "metadata": {
    "id": "WTwVTet5hblP"
   },
   "source": []
  },
  {
   "cell_type": "code",
   "execution_count": null,
   "metadata": {
    "colab": {
     "base_uri": "https://localhost:8080/"
    },
    "id": "XrOUJVotgl40",
    "outputId": "aa086a1e-c7eb-4663-e50a-fa80420e87d1"
   },
   "outputs": [
    {
     "data": {
      "text/plain": [
       "[1, 2, 3, 4, 5, 6, 7, 8, 9, 10]"
      ]
     },
     "execution_count": 142,
     "metadata": {
      "tags": []
     },
     "output_type": "execute_result"
    }
   ],
   "source": [
    "#2\n",
    "[x+1 for x in range(10)]          #list comp"
   ]
  },
  {
   "cell_type": "code",
   "execution_count": null,
   "metadata": {
    "colab": {
     "base_uri": "https://localhost:8080/"
    },
    "id": "y4Rk7r6fhG61",
    "outputId": "d98ee0bf-43cc-4eb7-9d5b-bab484a2dff2"
   },
   "outputs": [
    {
     "data": {
      "text/plain": [
       "<map at 0x7f5f3de2b278>"
      ]
     },
     "execution_count": 144,
     "metadata": {
      "tags": []
     },
     "output_type": "execute_result"
    }
   ],
   "source": [
    "map(lambda x:x+1 , [1,2,3,4]) # list 값들이 하나씩 들어가서 1 더해짐"
   ]
  },
  {
   "cell_type": "code",
   "execution_count": null,
   "metadata": {
    "colab": {
     "base_uri": "https://localhost:8080/"
    },
    "id": "If17CAC1iIGk",
    "outputId": "95025a9a-62a6-40ca-a4a1-7dda89d54e77"
   },
   "outputs": [
    {
     "data": {
      "text/plain": [
       "[2, 3, 4, 5]"
      ]
     },
     "execution_count": 145,
     "metadata": {
      "tags": []
     },
     "output_type": "execute_result"
    }
   ],
   "source": [
    "list(map(lambda x:x+1 , [1,2,3,4]))"
   ]
  },
  {
   "cell_type": "markdown",
   "metadata": {
    "id": "az2I0al9iQq2"
   },
   "source": [
    "### filter \n",
    "- filter(predicate, iter) predicate 함수 \n",
    "- is~ ,~able 로 리턴값이 True/False\n"
   ]
  },
  {
   "cell_type": "code",
   "execution_count": null,
   "metadata": {
    "colab": {
     "base_uri": "https://localhost:8080/"
    },
    "id": "NrU_5bGsiNTU",
    "outputId": "5f72f049-249e-415c-b4e8-0ed8f4737316"
   },
   "outputs": [
    {
     "data": {
      "text/plain": [
       "<filter at 0x7f5f3de2b8d0>"
      ]
     },
     "execution_count": 146,
     "metadata": {
      "tags": []
     },
     "output_type": "execute_result"
    }
   ],
   "source": [
    "filter(lambda x:x>2, [1,2,3,4,5])"
   ]
  },
  {
   "cell_type": "code",
   "execution_count": null,
   "metadata": {
    "colab": {
     "base_uri": "https://localhost:8080/"
    },
    "id": "qWigZ3vmjGiH",
    "outputId": "7b487130-403e-4fa8-f6a5-93b776e1d9bc"
   },
   "outputs": [
    {
     "data": {
      "text/plain": [
       "[3, 4, 5]"
      ]
     },
     "execution_count": 147,
     "metadata": {
      "tags": []
     },
     "output_type": "execute_result"
    }
   ],
   "source": [
    "list(filter(lambda x:x>2, [1,2,3,4,5])) #조건에 참인 값만 추출 (2보다 큰값 3,4,5)"
   ]
  },
  {
   "cell_type": "markdown",
   "metadata": {
    "id": "nVv1fulXjv4a"
   },
   "source": [
    "### reduce\n",
    "- **하나의 대표값으로 축약**함"
   ]
  },
  {
   "cell_type": "code",
   "execution_count": null,
   "metadata": {
    "id": "lkb1G6qwkB2P"
   },
   "outputs": [],
   "source": [
    "itertools, functools, operator "
   ]
  },
  {
   "cell_type": "code",
   "execution_count": null,
   "metadata": {
    "id": "eNmsancfjncg"
   },
   "outputs": [],
   "source": [
    "from functools import reduce"
   ]
  },
  {
   "cell_type": "code",
   "execution_count": null,
   "metadata": {
    "colab": {
     "base_uri": "https://localhost:8080/"
    },
    "id": "8xSeSprakJ3f",
    "outputId": "43a84d44-4996-46df-8498-3070b13991db"
   },
   "outputs": [
    {
     "data": {
      "text/plain": [
       "<function _functools.reduce>"
      ]
     },
     "execution_count": 151,
     "metadata": {
      "tags": []
     },
     "output_type": "execute_result"
    }
   ],
   "source": [
    "reduce"
   ]
  },
  {
   "cell_type": "markdown",
   "metadata": {
    "id": "ng9Gh_RalI2r"
   },
   "source": [
    "텐서플로우에서도 많이 사용함"
   ]
  },
  {
   "cell_type": "code",
   "execution_count": null,
   "metadata": {
    "id": "DBGFOpWSkMUH"
   },
   "outputs": [],
   "source": [
    "import tensorflow as tf"
   ]
  },
  {
   "cell_type": "code",
   "execution_count": null,
   "metadata": {
    "id": "bxNnZJJKlC3a"
   },
   "outputs": [],
   "source": [
    "tf.reduce_all , tf.reduce_any... "
   ]
  },
  {
   "cell_type": "code",
   "execution_count": null,
   "metadata": {
    "colab": {
     "base_uri": "https://localhost:8080/"
    },
    "id": "Urh6UtuilN-O",
    "outputId": "b836f00c-b659-401c-ae52-6ec0fd8bac0a"
   },
   "outputs": [
    {
     "data": {
      "text/plain": [
       "15"
      ]
     },
     "execution_count": 155,
     "metadata": {
      "tags": []
     },
     "output_type": "execute_result"
    }
   ],
   "source": [
    "reduce( lambda  x,y : x+y,[1,2,3,4,5])"
   ]
  },
  {
   "cell_type": "markdown",
   "metadata": {
    "id": "xCbJbDuBlkYn"
   },
   "source": [
    "- 1+2=3\n",
    "- 3+3=6\n",
    "- 6+4=10\n",
    "- 10+5=16"
   ]
  },
  {
   "cell_type": "markdown",
   "metadata": {
    "id": "pRjvYDQYluWF"
   },
   "source": [
    "### accumulate\n",
    "- 값을 **누적해서** 최종값을 가져옴"
   ]
  },
  {
   "cell_type": "code",
   "execution_count": null,
   "metadata": {
    "id": "3SJ2IlfQlThg"
   },
   "outputs": [],
   "source": [
    "from itertools import accumulate"
   ]
  },
  {
   "cell_type": "code",
   "execution_count": null,
   "metadata": {
    "id": "VgVD0rF9ltL6"
   },
   "outputs": [],
   "source": [
    "t=accumulate([1,2,3,4,5],lambda x,y:x+y)"
   ]
  },
  {
   "cell_type": "code",
   "execution_count": null,
   "metadata": {
    "colab": {
     "base_uri": "https://localhost:8080/"
    },
    "id": "9A6_Jq0Dl5EB",
    "outputId": "7a2dc4ca-94b4-4aa5-fec2-23f330ff3db1"
   },
   "outputs": [
    {
     "data": {
      "text/plain": [
       "[1, 3, 6, 10, 15]"
      ]
     },
     "execution_count": 164,
     "metadata": {
      "tags": []
     },
     "output_type": "execute_result"
    }
   ],
   "source": [
    "list(t)"
   ]
  },
  {
   "cell_type": "code",
   "execution_count": null,
   "metadata": {
    "colab": {
     "base_uri": "https://localhost:8080/"
    },
    "id": "vNSzjrZ9l8TB",
    "outputId": "a657c33f-be52-462b-f0e0-609825b5a0d9"
   },
   "outputs": [
    {
     "data": {
      "text/plain": [
       "3"
      ]
     },
     "execution_count": 160,
     "metadata": {
      "tags": []
     },
     "output_type": "execute_result"
    }
   ],
   "source": [
    "next(t)"
   ]
  },
  {
   "cell_type": "code",
   "execution_count": null,
   "metadata": {
    "colab": {
     "base_uri": "https://localhost:8080/"
    },
    "id": "YpTcGD7Cl9K5",
    "outputId": "536a5180-df66-46b8-e883-1e21628d1620"
   },
   "outputs": [
    {
     "data": {
      "text/plain": [
       "6"
      ]
     },
     "execution_count": 161,
     "metadata": {
      "tags": []
     },
     "output_type": "execute_result"
    }
   ],
   "source": [
    "next(t)"
   ]
  }
 ],
 "metadata": {
  "colab": {
   "collapsed_sections": [],
   "name": "202125_7기_고급시각저녁",
   "provenance": []
  },
  "kernelspec": {
   "display_name": "Python 3",
   "language": "python",
   "name": "python3"
  },
  "language_info": {
   "codemirror_mode": {
    "name": "ipython",
    "version": 3
   },
   "file_extension": ".py",
   "mimetype": "text/x-python",
   "name": "python",
   "nbconvert_exporter": "python",
   "pygments_lexer": "ipython3",
   "version": "3.7.6"
  }
 },
 "nbformat": 4,
 "nbformat_minor": 1
}
