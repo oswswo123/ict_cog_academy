{
  "nbformat": 4,
  "nbformat_minor": 0,
  "metadata": {
    "colab": {
      "name": "210129_7기_고급시각저녁",
      "provenance": [],
      "collapsed_sections": [],
      "toc_visible": true
    },
    "kernelspec": {
      "name": "python3",
      "display_name": "Python 3"
    }
  },
  "cells": [
    {
      "cell_type": "markdown",
      "metadata": {
        "id": "-_sC3GZJdhbz"
      },
      "source": [
        "# [ICTCOG AI Academy] 7기 고급시각저녁반\r\n",
        "- 함수형 패러다임, 객체지향 패러다임을 복습\r\n",
        "#  영상 처리/딥러닝을 위한 고급 파이썬 - 객체지향 패러다임 (3)\r\n",
        "\r\n"
      ]
    },
    {
      "cell_type": "markdown",
      "metadata": {
        "id": "tnGC8JcXfGHP"
      },
      "source": [
        "### Functional Programming in Python 복습\r\n",
        "- 상황에 따라서 객체지향에 함수형 패러다임 접목 \r\n",
        "\r\n",
        "#### 함수형 프로그래밍 정의\r\n",
        "  - **(입출력이 정확한 수학 함수 ) 함수를 기반**\r\n",
        "  - 입출력의 외의 side effect 고려 대상 아님\r\n",
        "  - 형식적 증명 가능성 (이론과 실제의 간극을 줄임)\r\n",
        "  - 합성합수 \r\n",
        "    - Decorator `@` : 원래 함수에 기능을 추가\r\n",
        "    - Closure\r\n",
        "  - 식 >문\r\n",
        "  - immutable > mutable\r\n",
        "  - recursion > loop\r\n",
        "    \r\n",
        "#### Encapsulation 으로 재사용 \r\n",
        "  - 하나의 이름으로 묶임\r\n",
        "  - 간결함(추상적)\r\n",
        ".   - 하나의 값으로 축약 가능한 **식(expression)**을 이용\r\n",
        "    - accumulate pattern 을 간결하게 comprehension 으로\r\n",
        "      - list, set, dict comprehension (mutable: 자기 자신이 바뀔 수 있음)\r\n",
        "\r\n",
        "\r\n",
        "\r\n",
        "\r\n",
        "#### comprehension"
      ]
    },
    {
      "cell_type": "code",
      "metadata": {
        "id": "LE3aXIDPdtwP"
      },
      "source": [
        "temp =[]\r\n",
        "for i in range(10):\r\n",
        "  temp.append(i)  #문 사용시 i 의 값이 9로 바뀜"
      ],
      "execution_count": 2,
      "outputs": []
    },
    {
      "cell_type": "code",
      "metadata": {
        "colab": {
          "base_uri": "https://localhost:8080/"
        },
        "id": "YIx5QL3pg5Hm",
        "outputId": "608437d0-73d0-4598-f7fe-52120c7a9ac4"
      },
      "source": [
        "i"
      ],
      "execution_count": 7,
      "outputs": [
        {
          "output_type": "execute_result",
          "data": {
            "text/plain": [
              "9"
            ]
          },
          "metadata": {
            "tags": []
          },
          "execution_count": 7
        }
      ]
    },
    {
      "cell_type": "markdown",
      "metadata": {
        "id": "PbRbkaOlhOll"
      },
      "source": [
        "comprehension 사용하면 우아함\r\n"
      ]
    },
    {
      "cell_type": "code",
      "metadata": {
        "colab": {
          "base_uri": "https://localhost:8080/"
        },
        "id": "26mP4o0cg5hp",
        "outputId": "e10cbdda-d7cc-49e8-8e14-eaad8a74cea7"
      },
      "source": [
        "[x for x  in range(10)]  #"
      ],
      "execution_count": 5,
      "outputs": [
        {
          "output_type": "execute_result",
          "data": {
            "text/plain": [
              "[0, 1, 2, 3, 4, 5, 6, 7, 8, 9]"
            ]
          },
          "metadata": {
            "tags": []
          },
          "execution_count": 5
        }
      ]
    },
    {
      "cell_type": "code",
      "metadata": {
        "colab": {
          "base_uri": "https://localhost:8080/",
          "height": 172
        },
        "id": "cfas7z82hF71",
        "outputId": "346f0bd0-71e0-49b0-aef9-b8cd7ecfc586"
      },
      "source": [
        "x  #x는 정의되지 않은 이름"
      ],
      "execution_count": 6,
      "outputs": [
        {
          "output_type": "error",
          "ename": "NameError",
          "evalue": "ignored",
          "traceback": [
            "\u001b[0;31m---------------------------------------------------------------------------\u001b[0m",
            "\u001b[0;31mNameError\u001b[0m                                 Traceback (most recent call last)",
            "\u001b[0;32m<ipython-input-6-6fcf9dfbd479>\u001b[0m in \u001b[0;36m<module>\u001b[0;34m()\u001b[0m\n\u001b[0;32m----> 1\u001b[0;31m \u001b[0mx\u001b[0m\u001b[0;34m\u001b[0m\u001b[0;34m\u001b[0m\u001b[0m\n\u001b[0m",
            "\u001b[0;31mNameError\u001b[0m: name 'x' is not defined"
          ]
        }
      ]
    },
    {
      "cell_type": "markdown",
      "metadata": {
        "id": "xWkjjldehcu1"
      },
      "source": [
        "#### generator \r\n",
        "- lazy 기법 : `next` 하는 순간에 메모리에 올라가기 때문에 효율적으로 사용\r\n",
        "\r\n",
        "1. generator expression/tuple comp ( x for x in rnage )\r\n",
        "2. yield, yield from\r\n",
        "\r\n",
        "\r\n",
        "> iterator  : `iter( iterable )`\r\n",
        "  - iter는 function"
      ]
    },
    {
      "cell_type": "code",
      "metadata": {
        "colab": {
          "base_uri": "https://localhost:8080/"
        },
        "id": "7Ks4IMuPhH-L",
        "outputId": "5e29cc02-300c-4933-c346-3ce59bd87b02"
      },
      "source": [
        "type(iter)"
      ],
      "execution_count": 8,
      "outputs": [
        {
          "output_type": "execute_result",
          "data": {
            "text/plain": [
              "builtin_function_or_method"
            ]
          },
          "metadata": {
            "tags": []
          },
          "execution_count": 8
        }
      ]
    },
    {
      "cell_type": "markdown",
      "metadata": {
        "id": "3ofn4ALrjEtN"
      },
      "source": [
        "\r\n",
        "##### type convrersion \r\n",
        "- 데이터 타입 변경\r\n",
        "- 명시적 방법(연산자) 은 없어서 새로운 객체를 생성해야함\r\n",
        "- 묵시적 방법 coercion \r\n"
      ]
    },
    {
      "cell_type": "code",
      "metadata": {
        "colab": {
          "base_uri": "https://localhost:8080/"
        },
        "id": "ydWNVTrzi_Y6",
        "outputId": "ffc59ce0-e438-4826-8df8-42bf596486af"
      },
      "source": [
        "int(4.1)  #float 을 int 타입으로 변경"
      ],
      "execution_count": 9,
      "outputs": [
        {
          "output_type": "execute_result",
          "data": {
            "text/plain": [
              "4"
            ]
          },
          "metadata": {
            "tags": []
          },
          "execution_count": 9
        }
      ]
    },
    {
      "cell_type": "code",
      "metadata": {
        "colab": {
          "base_uri": "https://localhost:8080/"
        },
        "id": "u-e4-MkcjXcR",
        "outputId": "907eb25d-e2ea-4aee-8d32-0751bd59736e"
      },
      "source": [
        "10/3  #int 연산에서 float 나옴"
      ],
      "execution_count": 11,
      "outputs": [
        {
          "output_type": "execute_result",
          "data": {
            "text/plain": [
              "3.3333333333333335"
            ]
          },
          "metadata": {
            "tags": []
          },
          "execution_count": 11
        }
      ]
    },
    {
      "cell_type": "code",
      "metadata": {
        "id": "V1HWpLqqjk6x"
      },
      "source": [
        "import pandas as pd\r\n",
        "pd.to_numeric  #coerce   "
      ],
      "execution_count": null,
      "outputs": []
    },
    {
      "cell_type": "markdown",
      "metadata": {
        "id": "aTynVQKSkJQd"
      },
      "source": [
        "#### recursion 사용 안함\r\n",
        "\r\n",
        "- 함수형 패러다임은 합성합수와 recursion 이용\r\n",
        "- 자기 자신을 반복해서 호출하여 점화식, 수식에 편리함\r\n",
        "- 파이썬에서는 속도, 메모리 문제 때문에 recursion(재귀) 안 씀\r\n",
        "  - 파이썬에서는 tail recursion elimination 을 지원하지 않음 \r\n",
        "\r\n",
        "  > recursion, dynamic programming 실무에서 중요함\r\n",
        "\r\n",
        "\r\n"
      ]
    },
    {
      "cell_type": "code",
      "metadata": {
        "colab": {
          "base_uri": "https://localhost:8080/"
        },
        "id": "jFbaDTsHkTb8",
        "outputId": "c33c8c1b-198e-4cce-b26b-4246b481d0b5"
      },
      "source": [
        "int(input())"
      ],
      "execution_count": 12,
      "outputs": [
        {
          "output_type": "stream",
          "text": [
            "1\n"
          ],
          "name": "stdout"
        },
        {
          "output_type": "execute_result",
          "data": {
            "text/plain": [
              "1"
            ]
          },
          "metadata": {
            "tags": []
          },
          "execution_count": 12
        }
      ]
    },
    {
      "cell_type": "markdown",
      "metadata": {
        "id": "nc-SKAEjlCiO"
      },
      "source": [
        "#### map , filter , reduce \r\n",
        "- 판다스, 텐서플로우 데이터 처리 핵심 기능\r\n",
        "\r\n",
        "### 2. Callable\r\n",
        "- 파이썬에서는 callable 이면 `()` 사용 가능\r\n",
        "\r\n",
        "- 클래스, 함수 ( generator functions, closure, lambda 포함) , `__call__` 정의된 클래스의 인스턴스 \r\n"
      ]
    },
    {
      "cell_type": "code",
      "metadata": {
        "id": "iBO3utpCkTdu"
      },
      "source": [
        "class A:\r\n",
        "  pass"
      ],
      "execution_count": 13,
      "outputs": []
    },
    {
      "cell_type": "code",
      "metadata": {
        "colab": {
          "base_uri": "https://localhost:8080/",
          "height": 172
        },
        "id": "gbB9XVC9k1DF",
        "outputId": "3ca6d84a-6c81-484b-a439-0f93644bad02"
      },
      "source": [
        "a=A()\r\n",
        "a()"
      ],
      "execution_count": 15,
      "outputs": [
        {
          "output_type": "error",
          "ename": "TypeError",
          "evalue": "ignored",
          "traceback": [
            "\u001b[0;31m---------------------------------------------------------------------------\u001b[0m",
            "\u001b[0;31mTypeError\u001b[0m                                 Traceback (most recent call last)",
            "\u001b[0;32m<ipython-input-15-8d7b4527e81d>\u001b[0m in \u001b[0;36m<module>\u001b[0;34m()\u001b[0m\n\u001b[0;32m----> 1\u001b[0;31m \u001b[0ma\u001b[0m\u001b[0;34m(\u001b[0m\u001b[0;34m)\u001b[0m\u001b[0;34m\u001b[0m\u001b[0;34m\u001b[0m\u001b[0m\n\u001b[0m",
            "\u001b[0;31mTypeError\u001b[0m: 'A' object is not callable"
          ]
        }
      ]
    },
    {
      "cell_type": "code",
      "metadata": {
        "id": "ZbAtflHgkTgK"
      },
      "source": [
        "class A:\r\n",
        "  def __call__(slef):  #클래스 내에 __call__ 정의되어 있음\r\n",
        "    print('__call__')\r\n",
        "  pass"
      ],
      "execution_count": 16,
      "outputs": []
    },
    {
      "cell_type": "code",
      "metadata": {
        "colab": {
          "base_uri": "https://localhost:8080/"
        },
        "id": "xWgJ4n8PkTil",
        "outputId": "fca2cef0-bf7a-4fe7-8648-9844ef9852ec"
      },
      "source": [
        "a=A()\r\n",
        "a()"
      ],
      "execution_count": 17,
      "outputs": [
        {
          "output_type": "stream",
          "text": [
            "__call__\n"
          ],
          "name": "stdout"
        }
      ]
    },
    {
      "cell_type": "markdown",
      "metadata": {
        "id": "T41R4wZwm2nM"
      },
      "source": [
        "decorator( class closure)\r\n",
        "`@classmethod, @staticmethod, @property`(디스크립터- 컴포지션을 알아야함)\r\n",
        "\r\n",
        "### Multiple Dispatch\r\n",
        "-  Multiple Dispatch 지원하지 않아서 별도의 라이브러리 이용\r\n",
        "- 두개 이상의 인자의 상황에 따라서 어떤 함수를 실행\r\n",
        "- 다형성의 오버라이딩 \r\n",
        "\r\n",
        "\r\n",
        "#### 위임 \r\n",
        "- 상속\r\n",
        "\r\n",
        "\r\n"
      ]
    },
    {
      "cell_type": "code",
      "metadata": {
        "id": "yMPazbQ1nHhe"
      },
      "source": [
        "from functools import singledispatch  #인자 1개"
      ],
      "execution_count": null,
      "outputs": []
    },
    {
      "cell_type": "markdown",
      "metadata": {
        "id": "VOpGIDUQnzkl"
      },
      "source": [
        "> Predicate : True/ False 를 반환하는 함수  ( is~ , ~able)\r\n",
        "\r\n",
        "#### Lazy Evaluation\r\n",
        "- `next`할 때만 사용할 때만 메모리에 올라감\r\n",
        "- 메모리에 올라오면 빨리 실행되나 한번에 올리면 올리는 시간, 메모리 용량 문제가 되기 때문\r\n",
        "\r\n",
        "\r\n",
        "### Sequence \r\n",
        "- 스페셜/매직 메소드 `__init__`, `__getitem__`, `__len__ `\r\n",
        "\r\n",
        "Sequence 데이터 타입 특징\r\n",
        "- indexing, slicing 지원\r\n",
        "- list, tuple, range\r\n",
        "\r\n",
        "> 덕 타이핑으로 구현\r\n",
        "  - 상속 없이 상속 효과\r\n",
        "  - 상속쓰면 코드 재사용 "
      ]
    },
    {
      "cell_type": "code",
      "metadata": {
        "id": "FAEURUvlnHj_"
      },
      "source": [
        "a=[1,2,3]\r\n",
        "b=(1,2,3)\r\n",
        "c=range(10)"
      ],
      "execution_count": 18,
      "outputs": []
    },
    {
      "cell_type": "code",
      "metadata": {
        "colab": {
          "base_uri": "https://localhost:8080/"
        },
        "id": "6OnVncUenHmA",
        "outputId": "f69200c3-6311-46ea-8e37-5db0297c3dcb"
      },
      "source": [
        "c[0]"
      ],
      "execution_count": 19,
      "outputs": [
        {
          "output_type": "execute_result",
          "data": {
            "text/plain": [
              "0"
            ]
          },
          "metadata": {
            "tags": []
          },
          "execution_count": 19
        }
      ]
    },
    {
      "cell_type": "code",
      "metadata": {
        "colab": {
          "base_uri": "https://localhost:8080/"
        },
        "id": "zaIYV0wEpQtS",
        "outputId": "3201a2ac-75a1-4275-9e29-b409b7d54cde"
      },
      "source": [
        "c[:]"
      ],
      "execution_count": 20,
      "outputs": [
        {
          "output_type": "execute_result",
          "data": {
            "text/plain": [
              "range(0, 10)"
            ]
          },
          "metadata": {
            "tags": []
          },
          "execution_count": 20
        }
      ]
    },
    {
      "cell_type": "markdown",
      "metadata": {
        "id": "Ji6MU4UTqQ5Y"
      },
      "source": [
        "##### Iterable\r\n",
        "- `__iter__ ` : iteralbe 이다 -> for, iter 에 사용 가능\r\n",
        "- `__next__` : next() 쓸 수 있다."
      ]
    },
    {
      "cell_type": "code",
      "metadata": {
        "id": "0q0bQDyppRRk"
      },
      "source": [
        "import numpy as np\r\n",
        "a=np.array([1,2,3])"
      ],
      "execution_count": 22,
      "outputs": []
    },
    {
      "cell_type": "code",
      "metadata": {
        "colab": {
          "base_uri": "https://localhost:8080/"
        },
        "id": "LdKz0CFBqfrf",
        "outputId": "7bed4723-7bd5-45f2-9e93-df9b63a8630a"
      },
      "source": [
        "'__iter__' in dir(a)"
      ],
      "execution_count": 23,
      "outputs": [
        {
          "output_type": "execute_result",
          "data": {
            "text/plain": [
              "True"
            ]
          },
          "metadata": {
            "tags": []
          },
          "execution_count": 23
        }
      ]
    },
    {
      "cell_type": "code",
      "metadata": {
        "colab": {
          "base_uri": "https://localhost:8080/"
        },
        "id": "_Q9uqpUNqj-k",
        "outputId": "163caffb-c11b-426e-8d64-7b84c2dbe53e"
      },
      "source": [
        "dir(a)"
      ],
      "execution_count": 24,
      "outputs": [
        {
          "output_type": "execute_result",
          "data": {
            "text/plain": [
              "['T',\n",
              " '__abs__',\n",
              " '__add__',\n",
              " '__and__',\n",
              " '__array__',\n",
              " '__array_finalize__',\n",
              " '__array_function__',\n",
              " '__array_interface__',\n",
              " '__array_prepare__',\n",
              " '__array_priority__',\n",
              " '__array_struct__',\n",
              " '__array_ufunc__',\n",
              " '__array_wrap__',\n",
              " '__bool__',\n",
              " '__class__',\n",
              " '__complex__',\n",
              " '__contains__',\n",
              " '__copy__',\n",
              " '__deepcopy__',\n",
              " '__delattr__',\n",
              " '__delitem__',\n",
              " '__dir__',\n",
              " '__divmod__',\n",
              " '__doc__',\n",
              " '__eq__',\n",
              " '__float__',\n",
              " '__floordiv__',\n",
              " '__format__',\n",
              " '__ge__',\n",
              " '__getattribute__',\n",
              " '__getitem__',\n",
              " '__gt__',\n",
              " '__hash__',\n",
              " '__iadd__',\n",
              " '__iand__',\n",
              " '__ifloordiv__',\n",
              " '__ilshift__',\n",
              " '__imatmul__',\n",
              " '__imod__',\n",
              " '__imul__',\n",
              " '__index__',\n",
              " '__init__',\n",
              " '__init_subclass__',\n",
              " '__int__',\n",
              " '__invert__',\n",
              " '__ior__',\n",
              " '__ipow__',\n",
              " '__irshift__',\n",
              " '__isub__',\n",
              " '__iter__',\n",
              " '__itruediv__',\n",
              " '__ixor__',\n",
              " '__le__',\n",
              " '__len__',\n",
              " '__lshift__',\n",
              " '__lt__',\n",
              " '__matmul__',\n",
              " '__mod__',\n",
              " '__mul__',\n",
              " '__ne__',\n",
              " '__neg__',\n",
              " '__new__',\n",
              " '__or__',\n",
              " '__pos__',\n",
              " '__pow__',\n",
              " '__radd__',\n",
              " '__rand__',\n",
              " '__rdivmod__',\n",
              " '__reduce__',\n",
              " '__reduce_ex__',\n",
              " '__repr__',\n",
              " '__rfloordiv__',\n",
              " '__rlshift__',\n",
              " '__rmatmul__',\n",
              " '__rmod__',\n",
              " '__rmul__',\n",
              " '__ror__',\n",
              " '__rpow__',\n",
              " '__rrshift__',\n",
              " '__rshift__',\n",
              " '__rsub__',\n",
              " '__rtruediv__',\n",
              " '__rxor__',\n",
              " '__setattr__',\n",
              " '__setitem__',\n",
              " '__setstate__',\n",
              " '__sizeof__',\n",
              " '__str__',\n",
              " '__sub__',\n",
              " '__subclasshook__',\n",
              " '__truediv__',\n",
              " '__xor__',\n",
              " 'all',\n",
              " 'any',\n",
              " 'argmax',\n",
              " 'argmin',\n",
              " 'argpartition',\n",
              " 'argsort',\n",
              " 'astype',\n",
              " 'base',\n",
              " 'byteswap',\n",
              " 'choose',\n",
              " 'clip',\n",
              " 'compress',\n",
              " 'conj',\n",
              " 'conjugate',\n",
              " 'copy',\n",
              " 'ctypes',\n",
              " 'cumprod',\n",
              " 'cumsum',\n",
              " 'data',\n",
              " 'diagonal',\n",
              " 'dot',\n",
              " 'dtype',\n",
              " 'dump',\n",
              " 'dumps',\n",
              " 'fill',\n",
              " 'flags',\n",
              " 'flat',\n",
              " 'flatten',\n",
              " 'getfield',\n",
              " 'imag',\n",
              " 'item',\n",
              " 'itemset',\n",
              " 'itemsize',\n",
              " 'max',\n",
              " 'mean',\n",
              " 'min',\n",
              " 'nbytes',\n",
              " 'ndim',\n",
              " 'newbyteorder',\n",
              " 'nonzero',\n",
              " 'partition',\n",
              " 'prod',\n",
              " 'ptp',\n",
              " 'put',\n",
              " 'ravel',\n",
              " 'real',\n",
              " 'repeat',\n",
              " 'reshape',\n",
              " 'resize',\n",
              " 'round',\n",
              " 'searchsorted',\n",
              " 'setfield',\n",
              " 'setflags',\n",
              " 'shape',\n",
              " 'size',\n",
              " 'sort',\n",
              " 'squeeze',\n",
              " 'std',\n",
              " 'strides',\n",
              " 'sum',\n",
              " 'swapaxes',\n",
              " 'take',\n",
              " 'tobytes',\n",
              " 'tofile',\n",
              " 'tolist',\n",
              " 'tostring',\n",
              " 'trace',\n",
              " 'transpose',\n",
              " 'var',\n",
              " 'view']"
            ]
          },
          "metadata": {
            "tags": []
          },
          "execution_count": 24
        }
      ]
    },
    {
      "cell_type": "markdown",
      "metadata": {
        "id": "xk8KPItEqvyU"
      },
      "source": [
        "### Itertools 모듈\r\n",
        "- itertools , functiontools, oprator\r\n",
        "\r\n",
        "- 순차적 for 사용하는 방식이 아닌 \r\n",
        "\r\n",
        "\r\n",
        "### higher-order funciton\r\n",
        "- 함수를 인자로 받거나 함수를 리턴함\r\n",
        "- map, filter, reduce\r\n",
        "\r\n",
        "> first class function :  함수를 값처럼\r\n"
      ]
    },
    {
      "cell_type": "markdown",
      "metadata": {
        "id": "VzJ1vsVdsPob"
      },
      "source": [
        "#### 객체지향\r\n",
        "\r\n",
        "- 객체지향.pdf 참고\r\n",
        "\r\n",
        "\r\n",
        "### Python 상속의 문제점\r\n",
        "- 위임을 통해 상속하므로 부모가 변경시 자식의 상속 받은것도 같이 변경됨\r\n",
        "- 피터 코드의 상속 규칙: 과도한 상속 사용을 막기 위한 규칙\r\n",
        "\r\n",
        "\r\n",
        "\r\n",
        "\r\n",
        "\r\n"
      ]
    },
    {
      "cell_type": "code",
      "metadata": {
        "colab": {
          "base_uri": "https://localhost:8080/"
        },
        "id": "FZGRx83jqklW",
        "outputId": "a67eb35b-a71d-4fd1-e94a-c1458afcf070"
      },
      "source": [
        "class A:\r\n",
        "  x=1\r\n",
        "\r\n",
        "class B(A):\r\n",
        "  pass\r\n",
        "\r\n",
        "B.x #위임으로 상속"
      ],
      "execution_count": 25,
      "outputs": [
        {
          "output_type": "execute_result",
          "data": {
            "text/plain": [
              "1"
            ]
          },
          "metadata": {
            "tags": []
          },
          "execution_count": 25
        }
      ]
    },
    {
      "cell_type": "code",
      "metadata": {
        "colab": {
          "base_uri": "https://localhost:8080/"
        },
        "id": "eJEvbSWksegK",
        "outputId": "e92473b7-b81a-451c-be0b-8414acd04d1c"
      },
      "source": [
        "A.x=2\r\n",
        "B.x  #같이 변경됨"
      ],
      "execution_count": 26,
      "outputs": [
        {
          "output_type": "execute_result",
          "data": {
            "text/plain": [
              "2"
            ]
          },
          "metadata": {
            "tags": []
          },
          "execution_count": 26
        }
      ]
    },
    {
      "cell_type": "markdown",
      "metadata": {
        "id": "7JC-MqSptIAm"
      },
      "source": [
        "### composition \r\n",
        "- 내 클래스 정의 안에 상속 받고자 하는 다른 클래스의 인스턴스를 내부에서 포함 시킴\r\n",
        "- 정의한 클래스 이름으로 처리됨\r\n",
        "- 상속을 대신함\r\n",
        "\r\n",
        "\r\n",
        "\r\n",
        " > 딥러닝 sequential /model 에서 레이어 인스턴스들을 묶어서 compile, fit, evaluate 함 \r\n",
        "\r\n",
        "> composite design pattern "
      ]
    },
    {
      "cell_type": "code",
      "metadata": {
        "id": "aFiL0H7Ss2Ff"
      },
      "source": [
        "#상속 예시\r\n",
        "class A:\r\n",
        "  def x(self):\r\n",
        "    print('x')\r\n",
        "  def y(self):\r\n",
        "    print('y')"
      ],
      "execution_count": 27,
      "outputs": []
    },
    {
      "cell_type": "code",
      "metadata": {
        "id": "nYq-pfxps2H_"
      },
      "source": [
        "class B(A):\r\n",
        "  def y(self):  # y 오버라이딩\r\n",
        "    super().y()\r\n",
        "    print('yy')"
      ],
      "execution_count": 31,
      "outputs": []
    },
    {
      "cell_type": "code",
      "metadata": {
        "colab": {
          "base_uri": "https://localhost:8080/"
        },
        "id": "RkgHaNoSs2Kb",
        "outputId": "72400123-9140-4c5e-cbe3-bde268e3a323"
      },
      "source": [
        "b=B()\r\n",
        "b.y()"
      ],
      "execution_count": 33,
      "outputs": [
        {
          "output_type": "stream",
          "text": [
            "y\n",
            "yy\n"
          ],
          "name": "stdout"
        }
      ]
    },
    {
      "cell_type": "code",
      "metadata": {
        "colab": {
          "base_uri": "https://localhost:8080/"
        },
        "id": "QjUlHW4fs2Mb",
        "outputId": "b6f3aba1-8323-4a49-c5a9-83b3f762f98a"
      },
      "source": [
        "class C:\r\n",
        "  def __init__(self):\r\n",
        "    self.__a=A()  #클래스 A 포함\r\n",
        "\r\n",
        "  def x(self):\r\n",
        "    self.__a.x()\r\n",
        "\r\n",
        "  def y(self):\r\n",
        "    self.__a.y()\r\n",
        "    print('yy')\r\n",
        "\r\n",
        "c=C()\r\n",
        "c.x()"
      ],
      "execution_count": 39,
      "outputs": [
        {
          "output_type": "stream",
          "text": [
            "x\n"
          ],
          "name": "stdout"
        }
      ]
    },
    {
      "cell_type": "code",
      "metadata": {
        "colab": {
          "base_uri": "https://localhost:8080/"
        },
        "id": "BBA-YbAct_10",
        "outputId": "98d89a3e-086a-4975-e674-03489bfdceae"
      },
      "source": [
        "c.y() #상속과 동일한 효과"
      ],
      "execution_count": 40,
      "outputs": [
        {
          "output_type": "stream",
          "text": [
            "y\n",
            "yy\n"
          ],
          "name": "stdout"
        }
      ]
    },
    {
      "cell_type": "code",
      "metadata": {
        "id": "lpplYpX9sk2d"
      },
      "source": [
        "class B:\r\n",
        "  __a=1 #mangling  :이름을 바꾸어줌"
      ],
      "execution_count": 35,
      "outputs": []
    },
    {
      "cell_type": "code",
      "metadata": {
        "colab": {
          "base_uri": "https://localhost:8080/"
        },
        "id": "79Ma5yoEtlUB",
        "outputId": "eaaeac6b-34e9-4493-d4c1-f02705b77d59"
      },
      "source": [
        "B._B__a"
      ],
      "execution_count": 36,
      "outputs": [
        {
          "output_type": "execute_result",
          "data": {
            "text/plain": [
              "1"
            ]
          },
          "metadata": {
            "tags": []
          },
          "execution_count": 36
        }
      ]
    },
    {
      "cell_type": "code",
      "metadata": {
        "id": "3PZAIQe2tmYN"
      },
      "source": [
        "#tensorflow 예시\r\n",
        "class MyModel(Model):\r\n",
        "  def __init__(self):   \r\n",
        "    super(MyModel, self).__init__()\r\n",
        "    self.conv1 = Conv2D(32, 3, activation='relu')  # 다른 클래스의 인스턴스를 포함(composition)\r\n",
        "    self.flatten = Flatten()\r\n",
        "    self.d1 = Dense(128, activation='relu')\r\n",
        "    self.d2 = Dense(10, activation='softmax')\r\n",
        "\r\n",
        "  def call(self, x):\r\n",
        "    #합성합수 방식 x로 입력받아서 출력 self.d2(self.d1(self.flatten(self.conv1(x))))\r\n",
        "    x = self.conv1(x)   #\r\n",
        "    x = self.flatten(x)\r\n",
        "    x = self.d1(x)\r\n",
        "    return self.d2(x)\r\n",
        "\r\n",
        "model = MyModel()"
      ],
      "execution_count": null,
      "outputs": []
    },
    {
      "cell_type": "markdown",
      "metadata": {
        "id": "RKnSIA5u0idc"
      },
      "source": [
        "- \r\n",
        "\r\n"
      ]
    },
    {
      "cell_type": "code",
      "metadata": {
        "id": "hXII6euxvG86"
      },
      "source": [
        "hasattr #object ,name"
      ],
      "execution_count": null,
      "outputs": []
    },
    {
      "cell_type": "code",
      "metadata": {
        "colab": {
          "base_uri": "https://localhost:8080/"
        },
        "id": "8HbZvSoo0uXs",
        "outputId": "f2f804f2-dc7b-433a-a975-350245a6fae4"
      },
      "source": [
        "dir(1)  #attribute 리스트들."
      ],
      "execution_count": 41,
      "outputs": [
        {
          "output_type": "execute_result",
          "data": {
            "text/plain": [
              "['__abs__',\n",
              " '__add__',\n",
              " '__and__',\n",
              " '__bool__',\n",
              " '__ceil__',\n",
              " '__class__',\n",
              " '__delattr__',\n",
              " '__dir__',\n",
              " '__divmod__',\n",
              " '__doc__',\n",
              " '__eq__',\n",
              " '__float__',\n",
              " '__floor__',\n",
              " '__floordiv__',\n",
              " '__format__',\n",
              " '__ge__',\n",
              " '__getattribute__',\n",
              " '__getnewargs__',\n",
              " '__gt__',\n",
              " '__hash__',\n",
              " '__index__',\n",
              " '__init__',\n",
              " '__init_subclass__',\n",
              " '__int__',\n",
              " '__invert__',\n",
              " '__le__',\n",
              " '__lshift__',\n",
              " '__lt__',\n",
              " '__mod__',\n",
              " '__mul__',\n",
              " '__ne__',\n",
              " '__neg__',\n",
              " '__new__',\n",
              " '__or__',\n",
              " '__pos__',\n",
              " '__pow__',\n",
              " '__radd__',\n",
              " '__rand__',\n",
              " '__rdivmod__',\n",
              " '__reduce__',\n",
              " '__reduce_ex__',\n",
              " '__repr__',\n",
              " '__rfloordiv__',\n",
              " '__rlshift__',\n",
              " '__rmod__',\n",
              " '__rmul__',\n",
              " '__ror__',\n",
              " '__round__',\n",
              " '__rpow__',\n",
              " '__rrshift__',\n",
              " '__rshift__',\n",
              " '__rsub__',\n",
              " '__rtruediv__',\n",
              " '__rxor__',\n",
              " '__setattr__',\n",
              " '__sizeof__',\n",
              " '__str__',\n",
              " '__sub__',\n",
              " '__subclasshook__',\n",
              " '__truediv__',\n",
              " '__trunc__',\n",
              " '__xor__',\n",
              " 'bit_length',\n",
              " 'conjugate',\n",
              " 'denominator',\n",
              " 'from_bytes',\n",
              " 'imag',\n",
              " 'numerator',\n",
              " 'real',\n",
              " 'to_bytes']"
            ]
          },
          "metadata": {
            "tags": []
          },
          "execution_count": 41
        }
      ]
    },
    {
      "cell_type": "code",
      "metadata": {
        "colab": {
          "base_uri": "https://localhost:8080/"
        },
        "id": "98uA7fzr0xMP",
        "outputId": "6f9c81e8-7ac1-42bd-af0a-ccacdf82c404"
      },
      "source": [
        "hasattr(1,'real') #attribute 갖고 있는지 확인 "
      ],
      "execution_count": 42,
      "outputs": [
        {
          "output_type": "execute_result",
          "data": {
            "text/plain": [
              "True"
            ]
          },
          "metadata": {
            "tags": []
          },
          "execution_count": 42
        }
      ]
    },
    {
      "cell_type": "code",
      "metadata": {
        "colab": {
          "base_uri": "https://localhost:8080/"
        },
        "id": "Hzt22Jaz0u-p",
        "outputId": "bb700a7b-b748-4b32-f66a-0b61111bf96f"
      },
      "source": [
        "getattr(-1, '__abs__')()  # 해당 attribute 사용"
      ],
      "execution_count": 44,
      "outputs": [
        {
          "output_type": "execute_result",
          "data": {
            "text/plain": [
              "1"
            ]
          },
          "metadata": {
            "tags": []
          },
          "execution_count": 44
        }
      ]
    },
    {
      "cell_type": "code",
      "metadata": {
        "colab": {
          "base_uri": "https://localhost:8080/"
        },
        "id": "vKWkWs6G05Gw",
        "outputId": "cb6f163b-7735-4c56-eed6-f73c192a23bc"
      },
      "source": [
        "(-1).__abs__"
      ],
      "execution_count": 45,
      "outputs": [
        {
          "output_type": "execute_result",
          "data": {
            "text/plain": [
              "<method-wrapper '__abs__' of int object at 0xa68a80>"
            ]
          },
          "metadata": {
            "tags": []
          },
          "execution_count": 45
        }
      ]
    },
    {
      "cell_type": "markdown",
      "metadata": {
        "id": "1W4btW_B1Xuw"
      },
      "source": [
        "### EAFP\r\n",
        "- Easier to Ask Forgiveness than Permission  허락보다 용서가 쉽다.\r\n",
        "- 파이썬의 코딩 스타일 \r\n",
        "- LBYL 돌다리도 두들여 보고 건너라 스타일과 반대\r\n",
        "\r\n"
      ]
    },
    {
      "cell_type": "code",
      "metadata": {
        "id": "4xCmDQnM1FqT"
      },
      "source": [
        "if hasattr(-1, '__abs__'): #lbyl 스타일 예시\r\n",
        "  getattr(-1, '__abs__')"
      ],
      "execution_count": 46,
      "outputs": []
    },
    {
      "cell_type": "markdown",
      "metadata": {
        "id": "fMpzwaX32UiK"
      },
      "source": [
        "#### __getattr__\r\n",
        "- attribute Error 발생하면 실행됨\r\n",
        "\r\n",
        "-  getattr() 와 다름"
      ]
    },
    {
      "cell_type": "code",
      "metadata": {
        "id": "qGmOF9xr2BU_"
      },
      "source": [
        "class A:\r\n",
        "  x=1\r\n",
        "  def __getattr__(self,attr):\r\n",
        "    print(attr)"
      ],
      "execution_count": 51,
      "outputs": []
    },
    {
      "cell_type": "code",
      "metadata": {
        "id": "b4XLIwLY2Hs4"
      },
      "source": [
        "a=A()"
      ],
      "execution_count": 52,
      "outputs": []
    },
    {
      "cell_type": "code",
      "metadata": {
        "id": "aM7RNVxe2k7Q"
      },
      "source": [
        ""
      ],
      "execution_count": null,
      "outputs": []
    },
    {
      "cell_type": "code",
      "metadata": {
        "colab": {
          "base_uri": "https://localhost:8080/"
        },
        "id": "GgNLf3X52K0A",
        "outputId": "a968b0fc-5401-4c2a-af07-75bcc2ed03a0"
      },
      "source": [
        "a.x  "
      ],
      "execution_count": 53,
      "outputs": [
        {
          "output_type": "execute_result",
          "data": {
            "text/plain": [
              "1"
            ]
          },
          "metadata": {
            "tags": []
          },
          "execution_count": 53
        }
      ]
    },
    {
      "cell_type": "code",
      "metadata": {
        "colab": {
          "base_uri": "https://localhost:8080/"
        },
        "id": "zTCDYlVp2L3_",
        "outputId": "519b3a20-2f34-4130-d4d9-5fdd01af17c6"
      },
      "source": [
        "a.y"
      ],
      "execution_count": 54,
      "outputs": [
        {
          "output_type": "stream",
          "text": [
            "y\n"
          ],
          "name": "stdout"
        }
      ]
    },
    {
      "cell_type": "code",
      "metadata": {
        "id": "Dzw397952Mot"
      },
      "source": [
        "class X:\r\n",
        "  def a(self):\r\n",
        "    print('a')\r\n",
        "  def b(self):\r\n",
        "    print('b')\r\n",
        "\r\n",
        "class Y(X):\r\n",
        "  pass\r\n",
        "\r\n",
        "class Z: \r\n",
        "  def __init__(self):\r\n",
        "    self.x= X()    #상속대신 composition 방식으로 사용 \r\n",
        "  def __getattr__(self, attr):\r\n",
        "    return getattr(self.x, attr)"
      ],
      "execution_count": 55,
      "outputs": []
    },
    {
      "cell_type": "code",
      "metadata": {
        "id": "6Q0oqOK427-L"
      },
      "source": [
        "z=Z()"
      ],
      "execution_count": 56,
      "outputs": []
    },
    {
      "cell_type": "code",
      "metadata": {
        "colab": {
          "base_uri": "https://localhost:8080/"
        },
        "id": "WSO5xdeh287S",
        "outputId": "40c7ea4b-f8fc-414a-b013-d1e5b93ceb7a"
      },
      "source": [
        "z.a()"
      ],
      "execution_count": 59,
      "outputs": [
        {
          "output_type": "stream",
          "text": [
            "a\n"
          ],
          "name": "stdout"
        }
      ]
    },
    {
      "cell_type": "code",
      "metadata": {
        "colab": {
          "base_uri": "https://localhost:8080/"
        },
        "id": "ofh9ZSmL29ZO",
        "outputId": "be58f423-ff9d-4171-df9a-1029c22dc2a6"
      },
      "source": [
        "z.b()"
      ],
      "execution_count": 60,
      "outputs": [
        {
          "output_type": "stream",
          "text": [
            "b\n"
          ],
          "name": "stdout"
        }
      ]
    },
    {
      "cell_type": "code",
      "metadata": {
        "colab": {
          "base_uri": "https://localhost:8080/",
          "height": 262
        },
        "id": "D9Rh5dES29wH",
        "outputId": "9f124221-0e62-4e0e-9c94-1bea8e4958df"
      },
      "source": [
        "z.c()"
      ],
      "execution_count": 62,
      "outputs": [
        {
          "output_type": "error",
          "ename": "AttributeError",
          "evalue": "ignored",
          "traceback": [
            "\u001b[0;31m---------------------------------------------------------------------------\u001b[0m",
            "\u001b[0;31mAttributeError\u001b[0m                            Traceback (most recent call last)",
            "\u001b[0;32m<ipython-input-62-191f19f24112>\u001b[0m in \u001b[0;36m<module>\u001b[0;34m()\u001b[0m\n\u001b[0;32m----> 1\u001b[0;31m \u001b[0mz\u001b[0m\u001b[0;34m.\u001b[0m\u001b[0mc\u001b[0m\u001b[0;34m(\u001b[0m\u001b[0;34m)\u001b[0m\u001b[0;34m\u001b[0m\u001b[0;34m\u001b[0m\u001b[0m\n\u001b[0m",
            "\u001b[0;32m<ipython-input-55-64af1995b439>\u001b[0m in \u001b[0;36m__getattr__\u001b[0;34m(self, attr)\u001b[0m\n\u001b[1;32m     11\u001b[0m     \u001b[0mself\u001b[0m\u001b[0;34m.\u001b[0m\u001b[0mx\u001b[0m\u001b[0;34m=\u001b[0m\u001b[0mX\u001b[0m\u001b[0;34m(\u001b[0m\u001b[0;34m)\u001b[0m\u001b[0;34m\u001b[0m\u001b[0;34m\u001b[0m\u001b[0m\n\u001b[1;32m     12\u001b[0m   \u001b[0;32mdef\u001b[0m \u001b[0m__getattr__\u001b[0m\u001b[0;34m(\u001b[0m\u001b[0mself\u001b[0m\u001b[0;34m,\u001b[0m \u001b[0mattr\u001b[0m\u001b[0;34m)\u001b[0m\u001b[0;34m:\u001b[0m\u001b[0;34m\u001b[0m\u001b[0;34m\u001b[0m\u001b[0m\n\u001b[0;32m---> 13\u001b[0;31m     \u001b[0;32mreturn\u001b[0m \u001b[0mgetattr\u001b[0m\u001b[0;34m(\u001b[0m\u001b[0mself\u001b[0m\u001b[0;34m.\u001b[0m\u001b[0mx\u001b[0m\u001b[0;34m,\u001b[0m \u001b[0mattr\u001b[0m\u001b[0;34m)\u001b[0m\u001b[0;34m\u001b[0m\u001b[0;34m\u001b[0m\u001b[0m\n\u001b[0m",
            "\u001b[0;31mAttributeError\u001b[0m: 'X' object has no attribute 'c'"
          ]
        }
      ]
    },
    {
      "cell_type": "markdown",
      "metadata": {
        "id": "y6zPGRYW3Sda"
      },
      "source": [
        "### 디스크립터\r\n",
        "- 클래스는 외부에서 내부 접근 가능하나 디스크립터 이용해서 접근 제한\r\n",
        "- get, set , del 3가지 행동을 결정함\r\n",
        "\r\n",
        "- `.` 이용해서 값 조회, 생성\r\n",
        "- get 값 조회 \r\n",
        "- set 값 생성\r\n",
        "\r\n"
      ]
    },
    {
      "cell_type": "code",
      "metadata": {
        "id": "GR3hmYRH3CHV"
      },
      "source": [
        "class Z:\r\n",
        "  x=1"
      ],
      "execution_count": 63,
      "outputs": []
    },
    {
      "cell_type": "code",
      "metadata": {
        "colab": {
          "base_uri": "https://localhost:8080/"
        },
        "id": "du1c9Py1340d",
        "outputId": "df2bb04d-94d8-4472-80f7-23a36404bbf2"
      },
      "source": [
        "Z.x  #get "
      ],
      "execution_count": 64,
      "outputs": [
        {
          "output_type": "execute_result",
          "data": {
            "text/plain": [
              "1"
            ]
          },
          "metadata": {
            "tags": []
          },
          "execution_count": 64
        }
      ]
    },
    {
      "cell_type": "code",
      "metadata": {
        "id": "LXHEJExb35R2"
      },
      "source": [
        "Z.y=2 #set"
      ],
      "execution_count": 65,
      "outputs": []
    },
    {
      "cell_type": "markdown",
      "metadata": {
        "id": "Nz2cVR524wkH"
      },
      "source": [
        "### 디스크립터 만들기 \r\n",
        "\r\n",
        "### 1.composition 방식\r\n",
        "- get, set\r\n",
        "\r\n"
      ]
    },
    {
      "cell_type": "code",
      "metadata": {
        "id": "URGMqwFz36dS"
      },
      "source": [
        "class X:\r\n",
        "  def __init__(self,x):\r\n",
        "    self.x=x\r\n",
        "  def __get__(self,a,b):\r\n",
        "    print('get')\r\n",
        "    return self.x\r\n",
        "  def __set__ (self,a,val):\r\n",
        "    print('set')\r\n",
        "    self.x=val\r\n",
        "  \r\n",
        "class Y:#composition 방식으로 디스크립터 만듦\r\n",
        "  x=X(3)"
      ],
      "execution_count": 68,
      "outputs": []
    },
    {
      "cell_type": "code",
      "metadata": {
        "colab": {
          "base_uri": "https://localhost:8080/"
        },
        "id": "9Weto-si5WU2",
        "outputId": "70dfbf1b-ded3-4d71-a804-5df319d224ed"
      },
      "source": [
        "Y.x #get "
      ],
      "execution_count": 70,
      "outputs": [
        {
          "output_type": "stream",
          "text": [
            "get\n"
          ],
          "name": "stdout"
        },
        {
          "output_type": "execute_result",
          "data": {
            "text/plain": [
              "3"
            ]
          },
          "metadata": {
            "tags": []
          },
          "execution_count": 70
        }
      ]
    },
    {
      "cell_type": "code",
      "metadata": {
        "id": "uHROT3yP5bu-"
      },
      "source": [
        "Y.x=5"
      ],
      "execution_count": 71,
      "outputs": []
    },
    {
      "cell_type": "code",
      "metadata": {
        "colab": {
          "base_uri": "https://localhost:8080/"
        },
        "id": "r_BVBob45ePh",
        "outputId": "7b37a391-2b6c-477f-e4cd-31908cc9cba6"
      },
      "source": [
        "Y.x"
      ],
      "execution_count": 72,
      "outputs": [
        {
          "output_type": "execute_result",
          "data": {
            "text/plain": [
              "5"
            ]
          },
          "metadata": {
            "tags": []
          },
          "execution_count": 72
        }
      ]
    },
    {
      "cell_type": "code",
      "metadata": {
        "colab": {
          "base_uri": "https://localhost:8080/"
        },
        "id": "kV0qNQJg5e69",
        "outputId": "bb752d8c-d3fd-42b4-a7be-906a70295f2f"
      },
      "source": [
        "yy=Y()\r\n",
        "yy.x"
      ],
      "execution_count": 73,
      "outputs": [
        {
          "output_type": "execute_result",
          "data": {
            "text/plain": [
              "5"
            ]
          },
          "metadata": {
            "tags": []
          },
          "execution_count": 73
        }
      ]
    },
    {
      "cell_type": "code",
      "metadata": {
        "id": "ZX7bo-cF5tJ0"
      },
      "source": [
        "#composition 방식\r\n",
        "class Y:\r\n",
        "  def __init__(self,a): \r\n",
        "    self.y=X(a)        # 클래스 X를 클래스 변수로 가져오면 get,set을 자유자재로 변경"
      ],
      "execution_count": 76,
      "outputs": []
    },
    {
      "cell_type": "code",
      "metadata": {
        "id": "gcikGX1E56jR"
      },
      "source": [
        "y = Y(5)"
      ],
      "execution_count": 77,
      "outputs": []
    },
    {
      "cell_type": "code",
      "metadata": {
        "colab": {
          "base_uri": "https://localhost:8080/"
        },
        "id": "rad_8q-M59Ie",
        "outputId": "ef5786c1-8b79-46a3-ab23-5a206f91fac3"
      },
      "source": [
        "y.y"
      ],
      "execution_count": 78,
      "outputs": [
        {
          "output_type": "execute_result",
          "data": {
            "text/plain": [
              "<__main__.X at 0x7f4cb948cc88>"
            ]
          },
          "metadata": {
            "tags": []
          },
          "execution_count": 78
        }
      ]
    },
    {
      "cell_type": "code",
      "metadata": {
        "id": "x0ABfrIf6A9W"
      },
      "source": [
        "class Y:\r\n",
        "  xx=X(4)"
      ],
      "execution_count": 79,
      "outputs": []
    },
    {
      "cell_type": "code",
      "metadata": {
        "id": "skf-y8bg6QR9"
      },
      "source": [
        "y=Y()"
      ],
      "execution_count": 80,
      "outputs": []
    },
    {
      "cell_type": "code",
      "metadata": {
        "colab": {
          "base_uri": "https://localhost:8080/"
        },
        "id": "5fbxyH7r6Rce",
        "outputId": "0dfd8c65-d28c-4f66-bd7b-55d647767a4b"
      },
      "source": [
        "y.xx"
      ],
      "execution_count": 81,
      "outputs": [
        {
          "output_type": "stream",
          "text": [
            "get\n"
          ],
          "name": "stdout"
        },
        {
          "output_type": "execute_result",
          "data": {
            "text/plain": [
              "4"
            ]
          },
          "metadata": {
            "tags": []
          },
          "execution_count": 81
        }
      ]
    },
    {
      "cell_type": "code",
      "metadata": {
        "colab": {
          "base_uri": "https://localhost:8080/"
        },
        "id": "f3recBKL6Sir",
        "outputId": "0003d70f-9b25-4463-d584-27a737cd4790"
      },
      "source": [
        "y.xx=10"
      ],
      "execution_count": 82,
      "outputs": [
        {
          "output_type": "stream",
          "text": [
            "set\n"
          ],
          "name": "stdout"
        }
      ]
    },
    {
      "cell_type": "markdown",
      "metadata": {
        "id": "8JJ_GNWI-KOI"
      },
      "source": [
        "### Property\r\n",
        "- property 로 `.`  커스터마이징 \r\n",
        "\r\n",
        "### 2.property class\r\n",
        "- property class 는 함수를 인자로 받는 클래스"
      ]
    },
    {
      "cell_type": "code",
      "metadata": {
        "id": "Pk-cmoUA6TaD"
      },
      "source": [
        "class C:\r\n",
        "  def __init__(self,x):\r\n",
        "    self._x=x            #정보 은닉(info hiding)\r\n",
        "  def getx(self): \r\n",
        "    print('get')\r\n",
        "    return self._x\r\n",
        "  def setx(self,value):\r\n",
        "    print('set')\r\n",
        "    self._x= value\r\n",
        "  def delx(self):\r\n",
        "    del self._x\r\n",
        "  x= property(getx,setx, delx , 'x의 프로퍼티는 더 우하하게 get,set 바꿈')"
      ],
      "execution_count": 83,
      "outputs": []
    },
    {
      "cell_type": "code",
      "metadata": {
        "id": "1R5Ak1Lh7Euw"
      },
      "source": [
        "c=C(3)"
      ],
      "execution_count": 84,
      "outputs": []
    },
    {
      "cell_type": "code",
      "metadata": {
        "colab": {
          "base_uri": "https://localhost:8080/"
        },
        "id": "yG-e0nRi7Faz",
        "outputId": "5df84e9f-f14e-4217-8ec5-40b03b616b2a"
      },
      "source": [
        "c.x  "
      ],
      "execution_count": 85,
      "outputs": [
        {
          "output_type": "stream",
          "text": [
            "get\n"
          ],
          "name": "stdout"
        },
        {
          "output_type": "execute_result",
          "data": {
            "text/plain": [
              "3"
            ]
          },
          "metadata": {
            "tags": []
          },
          "execution_count": 85
        }
      ]
    },
    {
      "cell_type": "code",
      "metadata": {
        "colab": {
          "base_uri": "https://localhost:8080/"
        },
        "id": "nhN0SvdS7F49",
        "outputId": "fb49ce7e-a30e-44e0-c5c3-a012d3e8f76f"
      },
      "source": [
        "c.x=10"
      ],
      "execution_count": 86,
      "outputs": [
        {
          "output_type": "stream",
          "text": [
            "set\n"
          ],
          "name": "stdout"
        }
      ]
    },
    {
      "cell_type": "code",
      "metadata": {
        "colab": {
          "base_uri": "https://localhost:8080/"
        },
        "id": "tjEHCgpc7Gka",
        "outputId": "3bc7cb44-d30d-495c-9641-52c2c8484d2b"
      },
      "source": [
        "c.x"
      ],
      "execution_count": 87,
      "outputs": [
        {
          "output_type": "stream",
          "text": [
            "get\n"
          ],
          "name": "stdout"
        },
        {
          "output_type": "execute_result",
          "data": {
            "text/plain": [
              "10"
            ]
          },
          "metadata": {
            "tags": []
          },
          "execution_count": 87
        }
      ]
    },
    {
      "cell_type": "code",
      "metadata": {
        "id": "g9D7VkdT7UEL"
      },
      "source": [
        "class C:\r\n",
        "  def __init__(self,x):\r\n",
        "    self._x=x            #정보 은닉(info hiding)\r\n",
        "  def getx(self): \r\n",
        "    print('get')\r\n",
        "    return self._x\r\n",
        "  def setx(self,value):\r\n",
        "    print('set')\r\n",
        "    #self._x= value\r\n",
        "  def delx(self):\r\n",
        "    del self._x\r\n",
        "  x= property(getx,setx, delx , 'x의 프로퍼티는 더 우하하게 get,set 바꿈')"
      ],
      "execution_count": 93,
      "outputs": []
    },
    {
      "cell_type": "code",
      "metadata": {
        "colab": {
          "base_uri": "https://localhost:8080/"
        },
        "id": "KqZU_Oed7YKu",
        "outputId": "70045cff-53fb-4ddf-984a-3c694961fff2"
      },
      "source": [
        "c=C(3) \r\n",
        "c.x=10  #값 변경했지만 변경되지 않음\r\n",
        "c.x     #"
      ],
      "execution_count": 94,
      "outputs": [
        {
          "output_type": "stream",
          "text": [
            "set\n",
            "get\n"
          ],
          "name": "stdout"
        },
        {
          "output_type": "execute_result",
          "data": {
            "text/plain": [
              "3"
            ]
          },
          "metadata": {
            "tags": []
          },
          "execution_count": 94
        }
      ]
    },
    {
      "cell_type": "markdown",
      "metadata": {
        "id": "egJYdI9N7dNG"
      },
      "source": [
        "접근제한을 디스크립터를 이용하여 우아하게 할 수 있음.\r\n",
        "> mangling은 완전히 접근 제한을못하게 하는게 아니기 때문에"
      ]
    },
    {
      "cell_type": "code",
      "metadata": {
        "colab": {
          "base_uri": "https://localhost:8080/"
        },
        "id": "nygVA8HB7arG",
        "outputId": "45af0e1e-85f8-495b-9aec-cf8c07b7ba64"
      },
      "source": [
        "c.x"
      ],
      "execution_count": 90,
      "outputs": [
        {
          "output_type": "stream",
          "text": [
            "get\n"
          ],
          "name": "stdout"
        },
        {
          "output_type": "execute_result",
          "data": {
            "text/plain": [
              "3"
            ]
          },
          "metadata": {
            "tags": []
          },
          "execution_count": 90
        }
      ]
    },
    {
      "cell_type": "code",
      "metadata": {
        "id": "qxZZYgY47rHQ"
      },
      "source": [
        "class D:\r\n",
        "  def x(self):  \r\n",
        "    print('xxxx')"
      ],
      "execution_count": 95,
      "outputs": []
    },
    {
      "cell_type": "code",
      "metadata": {
        "colab": {
          "base_uri": "https://localhost:8080/"
        },
        "id": "nTH4vgi0768B",
        "outputId": "7b60a1a5-339e-418e-a696-13b414a0e47f"
      },
      "source": [
        "d=D()\r\n",
        "d.x() #callable "
      ],
      "execution_count": 96,
      "outputs": [
        {
          "output_type": "stream",
          "text": [
            "xxxx\n"
          ],
          "name": "stdout"
        }
      ]
    },
    {
      "cell_type": "code",
      "metadata": {
        "colab": {
          "base_uri": "https://localhost:8080/"
        },
        "id": "YD_J9jLd79r_",
        "outputId": "c5cf3db8-8924-47c9-de31-24b814fc6377"
      },
      "source": [
        "type(property)  #property는 객체"
      ],
      "execution_count": 97,
      "outputs": [
        {
          "output_type": "execute_result",
          "data": {
            "text/plain": [
              "type"
            ]
          },
          "metadata": {
            "tags": []
          },
          "execution_count": 97
        }
      ]
    },
    {
      "cell_type": "markdown",
      "metadata": {
        "id": "WYv0BV_T-P5A"
      },
      "source": [
        "#### @property 데코레이터\r\n",
        "\r\n",
        "- syntactic sugar `@property` 제공\r\n",
        "  - `()` 없이 사용 할 수 있도록 만들어줌\r\n",
        "  - `@이름.setter`\r\n",
        "    - 오버로딩 지원하지 않지만 property 데코레이터 사용하는 경우 이름 동일하게 지정 해야도 뒤엎음 없음\r\n",
        "\r\n"
      ]
    },
    {
      "cell_type": "code",
      "metadata": {
        "id": "-tlHn3-78Joh"
      },
      "source": [
        "class D:\r\n",
        "\r\n",
        "  @property\r\n",
        "  def x(self):  \r\n",
        "    print('get')"
      ],
      "execution_count": 108,
      "outputs": []
    },
    {
      "cell_type": "code",
      "metadata": {
        "colab": {
          "base_uri": "https://localhost:8080/",
          "height": 208
        },
        "id": "fTofMGlN8Zz1",
        "outputId": "4cae0bfd-7a86-4c52-b11e-060ce4fa2d54"
      },
      "source": [
        "d=D()\r\n",
        "d.x()  #not callable -> () 사용 안해도 됨"
      ],
      "execution_count": 109,
      "outputs": [
        {
          "output_type": "stream",
          "text": [
            "get\n"
          ],
          "name": "stdout"
        },
        {
          "output_type": "error",
          "ename": "TypeError",
          "evalue": "ignored",
          "traceback": [
            "\u001b[0;31m---------------------------------------------------------------------------\u001b[0m",
            "\u001b[0;31mTypeError\u001b[0m                                 Traceback (most recent call last)",
            "\u001b[0;32m<ipython-input-109-00a9ca1bb8a6>\u001b[0m in \u001b[0;36m<module>\u001b[0;34m()\u001b[0m\n\u001b[1;32m      1\u001b[0m \u001b[0md\u001b[0m\u001b[0;34m=\u001b[0m\u001b[0mD\u001b[0m\u001b[0;34m(\u001b[0m\u001b[0;34m)\u001b[0m\u001b[0;34m\u001b[0m\u001b[0;34m\u001b[0m\u001b[0m\n\u001b[0;32m----> 2\u001b[0;31m \u001b[0md\u001b[0m\u001b[0;34m.\u001b[0m\u001b[0mx\u001b[0m\u001b[0;34m(\u001b[0m\u001b[0;34m)\u001b[0m  \u001b[0;31m#not callable -> () 사용 안해도 됨\u001b[0m\u001b[0;34m\u001b[0m\u001b[0;34m\u001b[0m\u001b[0m\n\u001b[0m",
            "\u001b[0;31mTypeError\u001b[0m: 'NoneType' object is not callable"
          ]
        }
      ]
    },
    {
      "cell_type": "code",
      "metadata": {
        "colab": {
          "base_uri": "https://localhost:8080/"
        },
        "id": "c9iiqj1t8a8b",
        "outputId": "ba1250dd-88da-4a70-eebc-5e642b48cc0a"
      },
      "source": [
        "d.x  "
      ],
      "execution_count": 110,
      "outputs": [
        {
          "output_type": "stream",
          "text": [
            "get\n"
          ],
          "name": "stdout"
        }
      ]
    },
    {
      "cell_type": "code",
      "metadata": {
        "colab": {
          "base_uri": "https://localhost:8080/"
        },
        "id": "Byo0-AE68juc",
        "outputId": "95f7c4e0-fc33-46e5-c54a-3a6fc329cca2"
      },
      "source": [
        "a =np.array([1,2,3])\r\n",
        "a.shape  # @property 때문에 ()없이 사용하는 함수가 됨"
      ],
      "execution_count": 102,
      "outputs": [
        {
          "output_type": "execute_result",
          "data": {
            "text/plain": [
              "(3,)"
            ]
          },
          "metadata": {
            "tags": []
          },
          "execution_count": 102
        }
      ]
    },
    {
      "cell_type": "markdown",
      "metadata": {
        "id": "H5QkLsA99E5A"
      },
      "source": [
        "\r\n",
        "property 에서는 이름을 동일하게 해야함. "
      ]
    },
    {
      "cell_type": "code",
      "metadata": {
        "id": "XqjwsShn87ka"
      },
      "source": [
        "class D:\r\n",
        "\r\n",
        "  def __init__(self,x):\r\n",
        "    self._x=x\r\n",
        "  \r\n",
        "  @property\r\n",
        "  def x(self):  \r\n",
        "    print('get')\r\n",
        "    return self._x\r\n",
        "\r\n",
        "  @x.setter     \r\n",
        "  def _(self,a):  #오버로딩 지원하지 않아서 이름 다르게 한 경우 ..\r\n",
        "    print('set')\r\n",
        "    self._x=a"
      ],
      "execution_count": 104,
      "outputs": []
    },
    {
      "cell_type": "code",
      "metadata": {
        "id": "kioQpxOh9PW2"
      },
      "source": [
        "d=D(5)"
      ],
      "execution_count": 105,
      "outputs": []
    },
    {
      "cell_type": "code",
      "metadata": {
        "colab": {
          "base_uri": "https://localhost:8080/"
        },
        "id": "8AI486go9Wc-",
        "outputId": "5d1598ab-f39c-468e-ceec-7ae4e3e0bca4"
      },
      "source": [
        "d.x  "
      ],
      "execution_count": 106,
      "outputs": [
        {
          "output_type": "stream",
          "text": [
            "get\n"
          ],
          "name": "stdout"
        },
        {
          "output_type": "execute_result",
          "data": {
            "text/plain": [
              "5"
            ]
          },
          "metadata": {
            "tags": []
          },
          "execution_count": 106
        }
      ]
    },
    {
      "cell_type": "code",
      "metadata": {
        "colab": {
          "base_uri": "https://localhost:8080/",
          "height": 172
        },
        "id": "khVVLcmw9XN8",
        "outputId": "c56b647d-5c1a-4605-d041-6f4f0e81fe75"
      },
      "source": [
        "d.x=10"
      ],
      "execution_count": 107,
      "outputs": [
        {
          "output_type": "error",
          "ename": "AttributeError",
          "evalue": "ignored",
          "traceback": [
            "\u001b[0;31m---------------------------------------------------------------------------\u001b[0m",
            "\u001b[0;31mAttributeError\u001b[0m                            Traceback (most recent call last)",
            "\u001b[0;32m<ipython-input-107-58a4f00fce1c>\u001b[0m in \u001b[0;36m<module>\u001b[0;34m()\u001b[0m\n\u001b[0;32m----> 1\u001b[0;31m \u001b[0md\u001b[0m\u001b[0;34m.\u001b[0m\u001b[0mx\u001b[0m\u001b[0;34m=\u001b[0m\u001b[0;36m10\u001b[0m\u001b[0;34m\u001b[0m\u001b[0;34m\u001b[0m\u001b[0m\n\u001b[0m",
            "\u001b[0;31mAttributeError\u001b[0m: can't set attribute"
          ]
        }
      ]
    },
    {
      "cell_type": "code",
      "metadata": {
        "id": "leUGfKSU9Xz6"
      },
      "source": [
        "class D:\r\n",
        "\r\n",
        "  def __init__(self,x):\r\n",
        "    self._x=x\r\n",
        "  \r\n",
        "  @property\r\n",
        "  def x(self):  \r\n",
        "    print('get')\r\n",
        "    return self._x\r\n",
        "\r\n",
        "  @x.setter      \r\n",
        "  def x(self,a):   #property 에서는 이름 동일하게 해야함\r\n",
        "    print('set')\r\n",
        "    self._x=a"
      ],
      "execution_count": 111,
      "outputs": []
    },
    {
      "cell_type": "code",
      "metadata": {
        "id": "y6MfZit_9uVo"
      },
      "source": [
        "d=D(5)"
      ],
      "execution_count": 112,
      "outputs": []
    },
    {
      "cell_type": "code",
      "metadata": {
        "colab": {
          "base_uri": "https://localhost:8080/"
        },
        "id": "ZALQ8fqN9vdG",
        "outputId": "edd54653-1864-45b7-963c-bad10328bd6a"
      },
      "source": [
        "d.x=10  #이름을 동일하게 하니 이제 에러 없음"
      ],
      "execution_count": 114,
      "outputs": [
        {
          "output_type": "stream",
          "text": [
            "set\n"
          ],
          "name": "stdout"
        }
      ]
    },
    {
      "cell_type": "code",
      "metadata": {
        "colab": {
          "base_uri": "https://localhost:8080/"
        },
        "id": "N1503tBD9wmy",
        "outputId": "8d067ba7-651c-484f-ed68-9bf22c139e02"
      },
      "source": [
        "d.x"
      ],
      "execution_count": 116,
      "outputs": [
        {
          "output_type": "stream",
          "text": [
            "get\n"
          ],
          "name": "stdout"
        },
        {
          "output_type": "execute_result",
          "data": {
            "text/plain": [
              "10"
            ]
          },
          "metadata": {
            "tags": []
          },
          "execution_count": 116
        }
      ]
    },
    {
      "cell_type": "code",
      "metadata": {
        "id": "q-swfMyV9w6T"
      },
      "source": [
        "from functools import singledispatch # register"
      ],
      "execution_count": 117,
      "outputs": []
    },
    {
      "cell_type": "markdown",
      "metadata": {
        "id": "a5lXvCc2__rT"
      },
      "source": [
        "Python 이름"
      ]
    },
    {
      "cell_type": "code",
      "metadata": {
        "id": "L1TUE1dj_a09"
      },
      "source": [
        "a=print #이름 a 에 프린트 할당  (first-class function )"
      ],
      "execution_count": 118,
      "outputs": []
    },
    {
      "cell_type": "code",
      "metadata": {
        "colab": {
          "base_uri": "https://localhost:8080/",
          "height": 35
        },
        "id": "hqgsVUeeACEs",
        "outputId": "42dc1325-4c44-4327-b6eb-b057eb7f696a"
      },
      "source": [
        "a.__name__ #이름"
      ],
      "execution_count": 119,
      "outputs": [
        {
          "output_type": "execute_result",
          "data": {
            "application/vnd.google.colaboratory.intrinsic+json": {
              "type": "string"
            },
            "text/plain": [
              "'print'"
            ]
          },
          "metadata": {
            "tags": []
          },
          "execution_count": 119
        }
      ]
    },
    {
      "cell_type": "code",
      "metadata": {
        "colab": {
          "base_uri": "https://localhost:8080/"
        },
        "id": "jutS4xYxAKcJ",
        "outputId": "91d23de9-7c75-498c-bf40-70af526c85c1"
      },
      "source": [
        "a('hi')"
      ],
      "execution_count": 120,
      "outputs": [
        {
          "output_type": "stream",
          "text": [
            "hi\n"
          ],
          "name": "stdout"
        }
      ]
    },
    {
      "cell_type": "code",
      "metadata": {
        "colab": {
          "base_uri": "https://localhost:8080/",
          "height": 35
        },
        "id": "OVqgD_BQAOj3",
        "outputId": "0165bf22-8541-4e02-eb85-cfc52706b965"
      },
      "source": [
        "import numpy as np\r\n",
        "np.__name__      #np는 numpy의 alias(별칭)"
      ],
      "execution_count": 121,
      "outputs": [
        {
          "output_type": "execute_result",
          "data": {
            "application/vnd.google.colaboratory.intrinsic+json": {
              "type": "string"
            },
            "text/plain": [
              "'numpy'"
            ]
          },
          "metadata": {
            "tags": []
          },
          "execution_count": 121
        }
      ]
    },
    {
      "cell_type": "markdown",
      "metadata": {
        "id": "SMZZyY-9Atcs"
      },
      "source": [
        "### 추상 클래스\r\n",
        "- 추상화(abstraction)\r\n",
        "  -  필요없는 것을 가지치기하고 핵심만 추출\r\n",
        "- 유지보수 용이하게 만들기 위해 사용\r\n",
        "- Abstract base class(ABC) 추상 클래스 \r\n",
        "  - 공통적인 부분을 기반으로 미리 설계해서 차이있는 부분만 추가\r\n",
        "    - 상속\r\n",
        "    - 추상 클래스 : 구체화해야함\r\n",
        "- 메타 클래스가 더 범용적\r\n",
        "\r\n",
        "> 리팩토링: 만들어 놓고 오류 처리\r\n"
      ]
    },
    {
      "cell_type": "code",
      "metadata": {
        "id": "TcNsItSsAR1a"
      },
      "source": [
        "from sklearn.naive_bayes import ABCMeta #추상클래스"
      ],
      "execution_count": 123,
      "outputs": []
    },
    {
      "cell_type": "code",
      "metadata": {
        "id": "PzDcHJ4tBNrF"
      },
      "source": [
        "from abc import ABCMeta, ABC, abstractmethod"
      ],
      "execution_count": 133,
      "outputs": []
    },
    {
      "cell_type": "code",
      "metadata": {
        "id": "JXO8YRSuDC4K"
      },
      "source": [
        "class MyABC(metaclass=ABCMeta): # ABCMeta 메타클래스\r\n",
        "  pass"
      ],
      "execution_count": 128,
      "outputs": []
    },
    {
      "cell_type": "code",
      "metadata": {
        "id": "sPafKVrODeb7"
      },
      "source": [
        "class MyABC(ABC):               # 클래스로 상속\r\n",
        "  pass"
      ],
      "execution_count": 130,
      "outputs": []
    },
    {
      "cell_type": "code",
      "metadata": {
        "id": "cc-lPGU1EGLQ"
      },
      "source": [
        "class MyABC(ABC):  # 설계만 해두어두고 구체화 하도록 강제시킴\r\n",
        "  @abstractmethod\r\n",
        "  def x(self):\r\n",
        "    print('xxx')"
      ],
      "execution_count": 138,
      "outputs": []
    },
    {
      "cell_type": "code",
      "metadata": {
        "colab": {
          "base_uri": "https://localhost:8080/",
          "height": 190
        },
        "id": "UHMhkXHbEGav",
        "outputId": "c81aec74-55a7-436c-8ec2-ea3cd9758f9d"
      },
      "source": [
        "a=MyABC()   #TypeError: Can't instantiate abstract class MyABC with abstract methods x"
      ],
      "execution_count": 139,
      "outputs": [
        {
          "output_type": "error",
          "ename": "TypeError",
          "evalue": "ignored",
          "traceback": [
            "\u001b[0;31m---------------------------------------------------------------------------\u001b[0m",
            "\u001b[0;31mTypeError\u001b[0m                                 Traceback (most recent call last)",
            "\u001b[0;32m<ipython-input-139-f7bfaefcfc10>\u001b[0m in \u001b[0;36m<module>\u001b[0;34m()\u001b[0m\n\u001b[0;32m----> 1\u001b[0;31m \u001b[0ma\u001b[0m\u001b[0;34m=\u001b[0m\u001b[0mMyABC\u001b[0m\u001b[0;34m(\u001b[0m\u001b[0;34m)\u001b[0m \u001b[0;31m#TypeError: Can't instantiate abstract class MyABC with abstract methods x\u001b[0m\u001b[0;34m\u001b[0m\u001b[0;34m\u001b[0m\u001b[0m\n\u001b[0m",
            "\u001b[0;31mTypeError\u001b[0m: Can't instantiate abstract class MyABC with abstract methods x"
          ]
        }
      ]
    },
    {
      "cell_type": "code",
      "metadata": {
        "colab": {
          "base_uri": "https://localhost:8080/"
        },
        "id": "pLzr98MVEf8s",
        "outputId": "88de7279-0551-41f7-873d-61b6f2d3133b"
      },
      "source": [
        "class MyABC2(MyABC):  #상속 후 구체화해서 사용하는 것\r\n",
        "    def x(self):\r\n",
        "      print('xxx')\r\n",
        "\r\n",
        "x=MyABC2()\r\n",
        "x.x()"
      ],
      "execution_count": 140,
      "outputs": [
        {
          "output_type": "stream",
          "text": [
            "xxx\n"
          ],
          "name": "stdout"
        }
      ]
    },
    {
      "cell_type": "code",
      "metadata": {
        "colab": {
          "base_uri": "https://localhost:8080/"
        },
        "id": "F-nx0jUzFH3j",
        "outputId": "c42c7465-28a3-435a-9d1b-fc1b1a3a7e18"
      },
      "source": [
        "NotImplementedError  "
      ],
      "execution_count": 142,
      "outputs": [
        {
          "output_type": "execute_result",
          "data": {
            "text/plain": [
              "NotImplementedError"
            ]
          },
          "metadata": {
            "tags": []
          },
          "execution_count": 142
        }
      ]
    },
    {
      "cell_type": "code",
      "metadata": {
        "colab": {
          "base_uri": "https://localhost:8080/",
          "height": 172
        },
        "id": "tNFOYrUqFOLj",
        "outputId": "678aae09-14b5-4418-9911-4532e6c3202e"
      },
      "source": [
        "raise NotImplementedError('이 부분을 구현하십시오.') #추상클래스와 같이 사용함"
      ],
      "execution_count": 143,
      "outputs": [
        {
          "output_type": "error",
          "ename": "NotImplementedError",
          "evalue": "ignored",
          "traceback": [
            "\u001b[0;31m---------------------------------------------------------------------------\u001b[0m",
            "\u001b[0;31mNotImplementedError\u001b[0m                       Traceback (most recent call last)",
            "\u001b[0;32m<ipython-input-143-abb6aab77dc7>\u001b[0m in \u001b[0;36m<module>\u001b[0;34m()\u001b[0m\n\u001b[0;32m----> 1\u001b[0;31m \u001b[0;32mraise\u001b[0m \u001b[0mNotImplementedError\u001b[0m\u001b[0;34m(\u001b[0m\u001b[0;34m'이 부분을 구현하십시오.'\u001b[0m\u001b[0;34m)\u001b[0m\u001b[0;34m\u001b[0m\u001b[0;34m\u001b[0m\u001b[0m\n\u001b[0m",
            "\u001b[0;31mNotImplementedError\u001b[0m: 이 부분을 구현하십시오."
          ]
        }
      ]
    },
    {
      "cell_type": "markdown",
      "metadata": {
        "id": "S-dEkNzjFXDu"
      },
      "source": [
        "### 에러 메시지 \r\n"
      ]
    },
    {
      "cell_type": "code",
      "metadata": {
        "id": "fRwWBg7FFpLZ"
      },
      "source": [
        "import builtins"
      ],
      "execution_count": 145,
      "outputs": []
    },
    {
      "cell_type": "code",
      "metadata": {
        "colab": {
          "base_uri": "https://localhost:8080/"
        },
        "id": "4LPFDkO5F0YW",
        "outputId": "bfb72a54-0da2-4dbe-ea91-6d723b90dc17"
      },
      "source": [
        "len([x for x in dir(builtins) if 'Error' in x]) #48개의 에러(버전마다 차이)"
      ],
      "execution_count": 147,
      "outputs": [
        {
          "output_type": "execute_result",
          "data": {
            "text/plain": [
              "48"
            ]
          },
          "metadata": {
            "tags": []
          },
          "execution_count": 147
        }
      ]
    },
    {
      "cell_type": "code",
      "metadata": {
        "colab": {
          "base_uri": "https://localhost:8080/"
        },
        "id": "5EYs4ZYiFtA8",
        "outputId": "453fdc51-c3a6-44f9-edcf-17b471ca44c4"
      },
      "source": [
        "[x for x in dir(builtins) if 'Error' in x]"
      ],
      "execution_count": 146,
      "outputs": [
        {
          "output_type": "execute_result",
          "data": {
            "text/plain": [
              "['ArithmeticError',\n",
              " 'AssertionError',\n",
              " 'AttributeError',\n",
              " 'BlockingIOError',\n",
              " 'BrokenPipeError',\n",
              " 'BufferError',\n",
              " 'ChildProcessError',\n",
              " 'ConnectionAbortedError',\n",
              " 'ConnectionError',\n",
              " 'ConnectionRefusedError',\n",
              " 'ConnectionResetError',\n",
              " 'EOFError',\n",
              " 'EnvironmentError',\n",
              " 'FileExistsError',\n",
              " 'FileNotFoundError',\n",
              " 'FloatingPointError',\n",
              " 'IOError',\n",
              " 'ImportError',\n",
              " 'IndentationError',\n",
              " 'IndexError',\n",
              " 'InterruptedError',\n",
              " 'IsADirectoryError',\n",
              " 'KeyError',\n",
              " 'LookupError',\n",
              " 'MemoryError',\n",
              " 'ModuleNotFoundError',\n",
              " 'NameError',\n",
              " 'NotADirectoryError',\n",
              " 'NotImplementedError',\n",
              " 'OSError',\n",
              " 'OverflowError',\n",
              " 'PermissionError',\n",
              " 'ProcessLookupError',\n",
              " 'RecursionError',\n",
              " 'ReferenceError',\n",
              " 'RuntimeError',\n",
              " 'SyntaxError',\n",
              " 'SystemError',\n",
              " 'TabError',\n",
              " 'TimeoutError',\n",
              " 'TypeError',\n",
              " 'UnboundLocalError',\n",
              " 'UnicodeDecodeError',\n",
              " 'UnicodeEncodeError',\n",
              " 'UnicodeError',\n",
              " 'UnicodeTranslateError',\n",
              " 'ValueError',\n",
              " 'ZeroDivisionError']"
            ]
          },
          "metadata": {
            "tags": []
          },
          "execution_count": 146
        }
      ]
    },
    {
      "cell_type": "code",
      "metadata": {
        "colab": {
          "base_uri": "https://localhost:8080/"
        },
        "id": "HOLJSOqJF5P0",
        "outputId": "c94f7ec5-f0f3-4b97-c8a9-9fdd9b3c8ec4"
      },
      "source": [
        "help(NotImplementedError)"
      ],
      "execution_count": 149,
      "outputs": [
        {
          "output_type": "stream",
          "text": [
            "Help on class NotImplementedError in module builtins:\n",
            "\n",
            "class NotImplementedError(RuntimeError)\n",
            " |  Method or function hasn't been implemented yet.\n",
            " |  \n",
            " |  Method resolution order:\n",
            " |      NotImplementedError\n",
            " |      RuntimeError\n",
            " |      Exception\n",
            " |      BaseException\n",
            " |      object\n",
            " |  \n",
            " |  Methods defined here:\n",
            " |  \n",
            " |  __init__(self, /, *args, **kwargs)\n",
            " |      Initialize self.  See help(type(self)) for accurate signature.\n",
            " |  \n",
            " |  __new__(*args, **kwargs) from builtins.type\n",
            " |      Create and return a new object.  See help(type) for accurate signature.\n",
            " |  \n",
            " |  ----------------------------------------------------------------------\n",
            " |  Methods inherited from BaseException:\n",
            " |  \n",
            " |  __delattr__(self, name, /)\n",
            " |      Implement delattr(self, name).\n",
            " |  \n",
            " |  __getattribute__(self, name, /)\n",
            " |      Return getattr(self, name).\n",
            " |  \n",
            " |  __reduce__(...)\n",
            " |      helper for pickle\n",
            " |  \n",
            " |  __repr__(self, /)\n",
            " |      Return repr(self).\n",
            " |  \n",
            " |  __setattr__(self, name, value, /)\n",
            " |      Implement setattr(self, name, value).\n",
            " |  \n",
            " |  __setstate__(...)\n",
            " |  \n",
            " |  __str__(self, /)\n",
            " |      Return str(self).\n",
            " |  \n",
            " |  with_traceback(...)\n",
            " |      Exception.with_traceback(tb) --\n",
            " |      set self.__traceback__ to tb and return self.\n",
            " |  \n",
            " |  ----------------------------------------------------------------------\n",
            " |  Data descriptors inherited from BaseException:\n",
            " |  \n",
            " |  __cause__\n",
            " |      exception cause\n",
            " |  \n",
            " |  __context__\n",
            " |      exception context\n",
            " |  \n",
            " |  __dict__\n",
            " |  \n",
            " |  __suppress_context__\n",
            " |  \n",
            " |  __traceback__\n",
            " |  \n",
            " |  args\n",
            "\n"
          ],
          "name": "stdout"
        }
      ]
    },
    {
      "cell_type": "markdown",
      "metadata": {
        "id": "pkdRXFF5DvAi"
      },
      "source": [
        "tensorflow , scikit 연동 가능"
      ]
    },
    {
      "cell_type": "code",
      "metadata": {
        "id": "40OT_ziqDm0f"
      },
      "source": [
        "import tensorflow as tf"
      ],
      "execution_count": 131,
      "outputs": []
    },
    {
      "cell_type": "code",
      "metadata": {
        "id": "wrXs7dIyD_PM"
      },
      "source": [
        "tf.keras.wrappers.scikit_learn #"
      ],
      "execution_count": null,
      "outputs": []
    }
  ]
}