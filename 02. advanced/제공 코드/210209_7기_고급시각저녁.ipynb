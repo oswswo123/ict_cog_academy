{
  "nbformat": 4,
  "nbformat_minor": 0,
  "metadata": {
    "colab": {
      "name": "210209_7기_고급시각저녁",
      "provenance": [],
      "collapsed_sections": [],
      "toc_visible": true
    },
    "kernelspec": {
      "name": "python3",
      "display_name": "Python 3"
    }
  },
  "cells": [
    {
      "cell_type": "markdown",
      "metadata": {
        "id": "pGVGqDVXtyWp"
      },
      "source": [
        "# [ICTCOG AI Academy] 7기 고급시각저녁반\r\n",
        "# 다양한 영상 처리 라이브러리 (4) - 기타\r\n",
        "- 기계학습.pdf 참고 \r\n",
        "\r\n",
        "### 기계학습\r\n",
        "- 목적 : 데이터로부터 **Specific 문제 해결**을 위한 최적의 모델을 만들기\r\n",
        "  - 약인공지능: 하나의 알고리즘은 동시에 여러가지 못함\r\n",
        "  - 하이퍼 파라미터 튜닝\r\n",
        "  - 문제에 따라 알고리즘, 데이터양 상이\r\n",
        "\r\n",
        "* 지도학습\r\n",
        "- 비지도학습\r\n",
        "- 강화학습\r\n",
        "\r\n",
        "특성 기반으로 모델 생성\r\n",
        "\r\n",
        "#####차원의 저주\r\n",
        "- overfitting: 모델의 복잡성에 비해 데이터가 부족 \r\n",
        "\r\n",
        "- 해결책\r\n",
        "  - 데이터 양\r\n",
        "    - 중심극한정리 : 데이터 양이 어느정도 많으면 정규분포 근사\r\n",
        "  - 중요한 특징 선택\r\n",
        "    - 차원축소 PCA\r\n",
        "    - 특징 선택 : 특정 특징 선택\r\n",
        "    - 특징 추출 : convolution\r\n"
      ]
    },
    {
      "cell_type": "code",
      "metadata": {
        "id": "PtIT6L92ry_5"
      },
      "source": [
        "from sklearn.model_selection import  GridSearchCV, RandomizedSearchCV, cross_val_score #중요\\"
      ],
      "execution_count": 1,
      "outputs": []
    },
    {
      "cell_type": "code",
      "metadata": {
        "id": "ltXl0y-8JNVY"
      },
      "source": [
        "from sklearn.datasets import load_iris"
      ],
      "execution_count": null,
      "outputs": []
    },
    {
      "cell_type": "code",
      "metadata": {
        "id": "y3az7N03XVtH"
      },
      "source": [
        "data=load_iris()"
      ],
      "execution_count": null,
      "outputs": []
    },
    {
      "cell_type": "markdown",
      "metadata": {
        "id": "-KMNsx7-XwVS"
      },
      "source": [
        "### Laerning Curve\r\n",
        "- epoch 수/학습 데이터 양에 따른 성능 변화 \r\n",
        "- 데이터가 충분하면 수렴함\r\n",
        "- 알고리즘 별로 상이"
      ]
    },
    {
      "cell_type": "code",
      "metadata": {
        "id": "ggq4YTyDXWvN"
      },
      "source": [
        "from sklearn.model_selection import learning_curve"
      ],
      "execution_count": null,
      "outputs": []
    },
    {
      "cell_type": "code",
      "metadata": {
        "id": "rJPTFy1_XY5O"
      },
      "source": [
        "from sklearn.neighbors import KNeighborsClassifier"
      ],
      "execution_count": null,
      "outputs": []
    },
    {
      "cell_type": "code",
      "metadata": {
        "id": "jGWK6en_Xbug"
      },
      "source": [
        "train_size, train_score, test_score =learning_curve(KNeighborsClassifier(), data.data, data.target )"
      ],
      "execution_count": null,
      "outputs": []
    },
    {
      "cell_type": "code",
      "metadata": {
        "colab": {
          "base_uri": "https://localhost:8080/"
        },
        "id": "MqrRjOYyXjcZ",
        "outputId": "ae2d19da-e0b3-4e68-ba3b-31c3d39b5774"
      },
      "source": [
        "learning_curve(KNeighborsClassifier(), data.data, data.target )  #시각화 하여 이해를 도움"
      ],
      "execution_count": null,
      "outputs": [
        {
          "output_type": "execute_result",
          "data": {
            "text/plain": [
              "(array([ 12,  39,  66,  93, 120]),\n",
              " array([[1.        , 1.        , 1.        , 1.        , 1.        ],\n",
              "        [1.        , 1.        , 1.        , 1.        , 1.        ],\n",
              "        [1.        , 1.        , 1.        , 1.        , 1.        ],\n",
              "        [0.98924731, 0.96774194, 0.98924731, 0.97849462, 0.97849462],\n",
              "        [0.96666667, 0.96666667, 0.975     , 0.975     , 0.96666667]]),\n",
              " array([[0.33333333, 0.33333333, 0.33333333, 0.33333333, 0.33333333],\n",
              "        [0.33333333, 0.33333333, 0.33333333, 0.33333333, 0.33333333],\n",
              "        [0.66666667, 0.66666667, 0.66666667, 0.66666667, 0.66666667],\n",
              "        [0.96666667, 0.86666667, 0.86666667, 0.93333333, 0.9       ],\n",
              "        [0.96666667, 1.        , 0.93333333, 0.96666667, 1.        ]]))"
            ]
          },
          "metadata": {
            "tags": []
          },
          "execution_count": 34
        }
      ]
    },
    {
      "cell_type": "code",
      "metadata": {
        "colab": {
          "base_uri": "https://localhost:8080/"
        },
        "id": "mymgnBR-Xhn7",
        "outputId": "c483f54e-4679-4385-b219-6fef6f3ddeea"
      },
      "source": [
        "!pip install sklearn-evaluation"
      ],
      "execution_count": null,
      "outputs": [
        {
          "output_type": "stream",
          "text": [
            "Requirement already satisfied: sklearn-evaluation in /usr/local/lib/python3.6/dist-packages (0.5.4)\n",
            "Requirement already satisfied: decorator in /usr/local/lib/python3.6/dist-packages (from sklearn-evaluation) (4.4.2)\n",
            "Requirement already satisfied: nbformat in /usr/local/lib/python3.6/dist-packages (from sklearn-evaluation) (5.1.2)\n",
            "Requirement already satisfied: jinja2 in /usr/local/lib/python3.6/dist-packages (from sklearn-evaluation) (2.11.3)\n",
            "Requirement already satisfied: pandas in /usr/local/lib/python3.6/dist-packages (from sklearn-evaluation) (1.1.5)\n",
            "Requirement already satisfied: mistune in /usr/local/lib/python3.6/dist-packages (from sklearn-evaluation) (0.8.4)\n",
            "Requirement already satisfied: scikit-learn in /usr/local/lib/python3.6/dist-packages (from sklearn-evaluation) (0.22.2.post1)\n",
            "Requirement already satisfied: matplotlib in /usr/local/lib/python3.6/dist-packages (from sklearn-evaluation) (3.2.2)\n",
            "Requirement already satisfied: tabulate in /usr/local/lib/python3.6/dist-packages (from sklearn-evaluation) (0.8.7)\n",
            "Requirement already satisfied: jupyter-core in /usr/local/lib/python3.6/dist-packages (from nbformat->sklearn-evaluation) (4.7.1)\n",
            "Requirement already satisfied: ipython-genutils in /usr/local/lib/python3.6/dist-packages (from nbformat->sklearn-evaluation) (0.2.0)\n",
            "Requirement already satisfied: traitlets>=4.1 in /usr/local/lib/python3.6/dist-packages (from nbformat->sklearn-evaluation) (4.3.3)\n",
            "Requirement already satisfied: jsonschema!=2.5.0,>=2.4 in /usr/local/lib/python3.6/dist-packages (from nbformat->sklearn-evaluation) (2.6.0)\n",
            "Requirement already satisfied: MarkupSafe>=0.23 in /usr/local/lib/python3.6/dist-packages (from jinja2->sklearn-evaluation) (1.1.1)\n",
            "Requirement already satisfied: pytz>=2017.2 in /usr/local/lib/python3.6/dist-packages (from pandas->sklearn-evaluation) (2018.9)\n",
            "Requirement already satisfied: numpy>=1.15.4 in /usr/local/lib/python3.6/dist-packages (from pandas->sklearn-evaluation) (1.19.5)\n",
            "Requirement already satisfied: python-dateutil>=2.7.3 in /usr/local/lib/python3.6/dist-packages (from pandas->sklearn-evaluation) (2.8.1)\n",
            "Requirement already satisfied: joblib>=0.11 in /usr/local/lib/python3.6/dist-packages (from scikit-learn->sklearn-evaluation) (1.0.0)\n",
            "Requirement already satisfied: scipy>=0.17.0 in /usr/local/lib/python3.6/dist-packages (from scikit-learn->sklearn-evaluation) (1.4.1)\n",
            "Requirement already satisfied: kiwisolver>=1.0.1 in /usr/local/lib/python3.6/dist-packages (from matplotlib->sklearn-evaluation) (1.3.1)\n",
            "Requirement already satisfied: cycler>=0.10 in /usr/local/lib/python3.6/dist-packages (from matplotlib->sklearn-evaluation) (0.10.0)\n",
            "Requirement already satisfied: pyparsing!=2.0.4,!=2.1.2,!=2.1.6,>=2.0.1 in /usr/local/lib/python3.6/dist-packages (from matplotlib->sklearn-evaluation) (2.4.7)\n",
            "Requirement already satisfied: six in /usr/local/lib/python3.6/dist-packages (from traitlets>=4.1->nbformat->sklearn-evaluation) (1.15.0)\n"
          ],
          "name": "stdout"
        }
      ]
    },
    {
      "cell_type": "code",
      "metadata": {
        "id": "CrtyNyoaXo-V"
      },
      "source": [
        "from sklearn_evaluation import plot"
      ],
      "execution_count": null,
      "outputs": []
    },
    {
      "cell_type": "code",
      "metadata": {
        "colab": {
          "base_uri": "https://localhost:8080/",
          "height": 313
        },
        "id": "h-eKS_ktX3R6",
        "outputId": "1b016815-d496-4b20-c337-6fffc4876a37"
      },
      "source": [
        "plot.learning_curve(train_score, test_score, train_size)"
      ],
      "execution_count": null,
      "outputs": [
        {
          "output_type": "execute_result",
          "data": {
            "text/plain": [
              "<matplotlib.axes._subplots.AxesSubplot at 0x7f2c51025780>"
            ]
          },
          "metadata": {
            "tags": []
          },
          "execution_count": 36
        },
        {
          "output_type": "display_data",
          "data": {
            "image/png": "[encoded data removed]",
            "text/plain": [
              "<Figure size 432x288 with 1 Axes>"
            ]
          },
          "metadata": {
            "tags": [],
            "needs_background": "light"
          }
        }
      ]
    },
    {
      "cell_type": "markdown",
      "metadata": {
        "id": "yAjMSMl7fW1q"
      },
      "source": [
        "[이미지 분류 TF 공신문서 참고](https://www.tensorflow.org/tutorials/keras/classification)\r\n",
        "\r\n",
        "1. 문제 정의 / 데이터 수집\r\n",
        "  1. 기계학습 사용할지 여부에 대한 고려\r\n",
        "  2. 딥러닝\r\n",
        "2. 데이터 수집 / 문제 정의"
      ]
    },
    {
      "cell_type": "code",
      "metadata": {
        "id": "m-wENoqMYIHx"
      },
      "source": [
        "import tensorflow as tf"
      ],
      "execution_count": null,
      "outputs": []
    },
    {
      "cell_type": "code",
      "metadata": {
        "colab": {
          "base_uri": "https://localhost:8080/"
        },
        "id": "15K-OVySgOb7",
        "outputId": "b13d5175-af00-4570-f063-11e4db566620"
      },
      "source": [
        "dir(tf.keras.datasets)"
      ],
      "execution_count": null,
      "outputs": [
        {
          "output_type": "execute_result",
          "data": {
            "text/plain": [
              "['__builtins__',\n",
              " '__cached__',\n",
              " '__doc__',\n",
              " '__file__',\n",
              " '__loader__',\n",
              " '__name__',\n",
              " '__package__',\n",
              " '__path__',\n",
              " '__spec__',\n",
              " '_sys',\n",
              " 'boston_housing',\n",
              " 'cifar10',\n",
              " 'cifar100',\n",
              " 'fashion_mnist',\n",
              " 'imdb',\n",
              " 'mnist',\n",
              " 'reuters']"
            ]
          },
          "metadata": {
            "tags": []
          },
          "execution_count": 38
        }
      ]
    },
    {
      "cell_type": "markdown",
      "metadata": {
        "id": "R7Lfd0c5gafp"
      },
      "source": [
        "#### 데이터셋 수집\r\n",
        "- fashion_mnist 연습용 데이터셋 사용\r\n",
        "  - 10개 범주와 70,000개의 28x28 흑백 이미지\r\n",
        "  - mnist 손글씨 숫자 데이터가 너무 단순해서 좀 더 복잡한 연습용 데이터\r\n",
        "- 데이터셋 구성 확인 필요\r\n",
        "  - 머신러닝 목적 :\r\n",
        "  - 기계학습 2차원의 정형화된 데이터\r\n",
        "\r\n",
        "#### 문제정의\r\n",
        "- 이미지로 표현된 10가지의 의류 상품 분류"
      ]
    },
    {
      "cell_type": "code",
      "metadata": {
        "colab": {
          "base_uri": "https://localhost:8080/"
        },
        "id": "BRj7Xl-HgUoz",
        "outputId": "79fd827e-322c-445d-c70d-bd55add95923"
      },
      "source": [
        "tf.keras.datasets.fashion_mnist.load_data() #len technique -> unpacking"
      ],
      "execution_count": null,
      "outputs": [
        {
          "output_type": "stream",
          "text": [
            "Downloading data from https://storage.googleapis.com/tensorflow/tf-keras-datasets/train-labels-idx1-ubyte.gz\n",
            "32768/29515 [=================================] - 0s 0us/step\n",
            "Downloading data from https://storage.googleapis.com/tensorflow/tf-keras-datasets/train-images-idx3-ubyte.gz\n",
            "26427392/26421880 [==============================] - 0s 0us/step\n",
            "Downloading data from https://storage.googleapis.com/tensorflow/tf-keras-datasets/t10k-labels-idx1-ubyte.gz\n",
            "8192/5148 [===============================================] - 0s 0us/step\n",
            "Downloading data from https://storage.googleapis.com/tensorflow/tf-keras-datasets/t10k-images-idx3-ubyte.gz\n",
            "4423680/4422102 [==============================] - 0s 0us/step\n"
          ],
          "name": "stdout"
        },
        {
          "output_type": "execute_result",
          "data": {
            "text/plain": [
              "((array([[[0, 0, 0, ..., 0, 0, 0],\n",
              "          [0, 0, 0, ..., 0, 0, 0],\n",
              "          [0, 0, 0, ..., 0, 0, 0],\n",
              "          ...,\n",
              "          [0, 0, 0, ..., 0, 0, 0],\n",
              "          [0, 0, 0, ..., 0, 0, 0],\n",
              "          [0, 0, 0, ..., 0, 0, 0]],\n",
              "  \n",
              "         [[0, 0, 0, ..., 0, 0, 0],\n",
              "          [0, 0, 0, ..., 0, 0, 0],\n",
              "          [0, 0, 0, ..., 0, 0, 0],\n",
              "          ...,\n",
              "          [0, 0, 0, ..., 0, 0, 0],\n",
              "          [0, 0, 0, ..., 0, 0, 0],\n",
              "          [0, 0, 0, ..., 0, 0, 0]],\n",
              "  \n",
              "         [[0, 0, 0, ..., 0, 0, 0],\n",
              "          [0, 0, 0, ..., 0, 0, 0],\n",
              "          [0, 0, 0, ..., 0, 0, 0],\n",
              "          ...,\n",
              "          [0, 0, 0, ..., 0, 0, 0],\n",
              "          [0, 0, 0, ..., 0, 0, 0],\n",
              "          [0, 0, 0, ..., 0, 0, 0]],\n",
              "  \n",
              "         ...,\n",
              "  \n",
              "         [[0, 0, 0, ..., 0, 0, 0],\n",
              "          [0, 0, 0, ..., 0, 0, 0],\n",
              "          [0, 0, 0, ..., 0, 0, 0],\n",
              "          ...,\n",
              "          [0, 0, 0, ..., 0, 0, 0],\n",
              "          [0, 0, 0, ..., 0, 0, 0],\n",
              "          [0, 0, 0, ..., 0, 0, 0]],\n",
              "  \n",
              "         [[0, 0, 0, ..., 0, 0, 0],\n",
              "          [0, 0, 0, ..., 0, 0, 0],\n",
              "          [0, 0, 0, ..., 0, 0, 0],\n",
              "          ...,\n",
              "          [0, 0, 0, ..., 0, 0, 0],\n",
              "          [0, 0, 0, ..., 0, 0, 0],\n",
              "          [0, 0, 0, ..., 0, 0, 0]],\n",
              "  \n",
              "         [[0, 0, 0, ..., 0, 0, 0],\n",
              "          [0, 0, 0, ..., 0, 0, 0],\n",
              "          [0, 0, 0, ..., 0, 0, 0],\n",
              "          ...,\n",
              "          [0, 0, 0, ..., 0, 0, 0],\n",
              "          [0, 0, 0, ..., 0, 0, 0],\n",
              "          [0, 0, 0, ..., 0, 0, 0]]], dtype=uint8),\n",
              "  array([9, 0, 0, ..., 3, 0, 5], dtype=uint8)),\n",
              " (array([[[0, 0, 0, ..., 0, 0, 0],\n",
              "          [0, 0, 0, ..., 0, 0, 0],\n",
              "          [0, 0, 0, ..., 0, 0, 0],\n",
              "          ...,\n",
              "          [0, 0, 0, ..., 0, 0, 0],\n",
              "          [0, 0, 0, ..., 0, 0, 0],\n",
              "          [0, 0, 0, ..., 0, 0, 0]],\n",
              "  \n",
              "         [[0, 0, 0, ..., 0, 0, 0],\n",
              "          [0, 0, 0, ..., 0, 0, 0],\n",
              "          [0, 0, 0, ..., 0, 0, 0],\n",
              "          ...,\n",
              "          [0, 0, 0, ..., 0, 0, 0],\n",
              "          [0, 0, 0, ..., 0, 0, 0],\n",
              "          [0, 0, 0, ..., 0, 0, 0]],\n",
              "  \n",
              "         [[0, 0, 0, ..., 0, 0, 0],\n",
              "          [0, 0, 0, ..., 0, 0, 0],\n",
              "          [0, 0, 0, ..., 0, 0, 0],\n",
              "          ...,\n",
              "          [0, 0, 0, ..., 0, 0, 0],\n",
              "          [0, 0, 0, ..., 0, 0, 0],\n",
              "          [0, 0, 0, ..., 0, 0, 0]],\n",
              "  \n",
              "         ...,\n",
              "  \n",
              "         [[0, 0, 0, ..., 0, 0, 0],\n",
              "          [0, 0, 0, ..., 0, 0, 0],\n",
              "          [0, 0, 0, ..., 0, 0, 0],\n",
              "          ...,\n",
              "          [0, 0, 0, ..., 0, 0, 0],\n",
              "          [0, 0, 0, ..., 0, 0, 0],\n",
              "          [0, 0, 0, ..., 0, 0, 0]],\n",
              "  \n",
              "         [[0, 0, 0, ..., 0, 0, 0],\n",
              "          [0, 0, 0, ..., 0, 0, 0],\n",
              "          [0, 0, 0, ..., 0, 0, 0],\n",
              "          ...,\n",
              "          [0, 0, 0, ..., 0, 0, 0],\n",
              "          [0, 0, 0, ..., 0, 0, 0],\n",
              "          [0, 0, 0, ..., 0, 0, 0]],\n",
              "  \n",
              "         [[0, 0, 0, ..., 0, 0, 0],\n",
              "          [0, 0, 0, ..., 0, 0, 0],\n",
              "          [0, 0, 0, ..., 0, 0, 0],\n",
              "          ...,\n",
              "          [0, 0, 0, ..., 0, 0, 0],\n",
              "          [0, 0, 0, ..., 0, 0, 0],\n",
              "          [0, 0, 0, ..., 0, 0, 0]]], dtype=uint8),\n",
              "  array([9, 2, 1, ..., 8, 1, 5], dtype=uint8)))"
            ]
          },
          "metadata": {
            "tags": []
          },
          "execution_count": 39
        }
      ]
    },
    {
      "cell_type": "code",
      "metadata": {
        "colab": {
          "base_uri": "https://localhost:8080/"
        },
        "id": "Wqq3Jo4igxvz",
        "outputId": "fb84520d-287b-4d45-d938-a7cd2b7b6915"
      },
      "source": [
        "len(tf.keras.datasets.fashion_mnist.load_data()) #2개"
      ],
      "execution_count": null,
      "outputs": [
        {
          "output_type": "execute_result",
          "data": {
            "text/plain": [
              "2"
            ]
          },
          "metadata": {
            "tags": []
          },
          "execution_count": 47
        }
      ]
    },
    {
      "cell_type": "code",
      "metadata": {
        "id": "Lmx7XOF6g1T5"
      },
      "source": [
        "x,y = tf.keras.datasets.fashion_mnist.load_data()"
      ],
      "execution_count": null,
      "outputs": []
    },
    {
      "cell_type": "code",
      "metadata": {
        "colab": {
          "base_uri": "https://localhost:8080/"
        },
        "id": "uSHkwWY6g4lC",
        "outputId": "e56d3b76-c388-4f4e-c622-f325ab926e16"
      },
      "source": [
        "len(x)  # 또 2개"
      ],
      "execution_count": null,
      "outputs": [
        {
          "output_type": "execute_result",
          "data": {
            "text/plain": [
              "2"
            ]
          },
          "metadata": {
            "tags": []
          },
          "execution_count": 45
        }
      ]
    },
    {
      "cell_type": "code",
      "metadata": {
        "id": "I0HbAC61g8r4"
      },
      "source": [
        "(X_train,y_train),(X_test,y_test) = tf.keras.datasets.fashion_mnist.load_data()"
      ],
      "execution_count": null,
      "outputs": []
    },
    {
      "cell_type": "markdown",
      "metadata": {
        "id": "HvKKDX-bha-1"
      },
      "source": [
        "#### EDA ( Exploratory Data Analysis)\r\n",
        "- 데이터 종류에 따라 방식이 다름\r\n"
      ]
    },
    {
      "cell_type": "code",
      "metadata": {
        "colab": {
          "base_uri": "https://localhost:8080/"
        },
        "id": "lapcg3UOjLsj",
        "outputId": "3d7a6abf-c46d-4149-9652-7fbb01866a21"
      },
      "source": [
        "len(X_train) + len(X_test) #7만개"
      ],
      "execution_count": null,
      "outputs": [
        {
          "output_type": "execute_result",
          "data": {
            "text/plain": [
              "70000"
            ]
          },
          "metadata": {
            "tags": []
          },
          "execution_count": 52
        }
      ]
    },
    {
      "cell_type": "code",
      "metadata": {
        "colab": {
          "base_uri": "https://localhost:8080/"
        },
        "id": "ISi_7RljhFlR",
        "outputId": "2ebe1eb1-2909-4add-8618-5f76c0f61145"
      },
      "source": [
        "X_train[0,:,:]  #0번째 이미지\r\n",
        "X_train[0,...]\r\n",
        "X_train[0]"
      ],
      "execution_count": null,
      "outputs": [
        {
          "output_type": "execute_result",
          "data": {
            "text/plain": [
              "array([[  0,   0,   0,   0,   0,   0,   0,   0,   0,   0,   0,   0,   0,\n",
              "          0,   0,   0,   0,   0,   0,   0,   0,   0,   0,   0,   0,   0,\n",
              "          0,   0],\n",
              "       [  0,   0,   0,   0,   0,   0,   0,   0,   0,   0,   0,   0,   0,\n",
              "          0,   0,   0,   0,   0,   0,   0,   0,   0,   0,   0,   0,   0,\n",
              "          0,   0],\n",
              "       [  0,   0,   0,   0,   0,   0,   0,   0,   0,   0,   0,   0,   0,\n",
              "          0,   0,   0,   0,   0,   0,   0,   0,   0,   0,   0,   0,   0,\n",
              "          0,   0],\n",
              "       [  0,   0,   0,   0,   0,   0,   0,   0,   0,   0,   0,   0,   1,\n",
              "          0,   0,  13,  73,   0,   0,   1,   4,   0,   0,   0,   0,   1,\n",
              "          1,   0],\n",
              "       [  0,   0,   0,   0,   0,   0,   0,   0,   0,   0,   0,   0,   3,\n",
              "          0,  36, 136, 127,  62,  54,   0,   0,   0,   1,   3,   4,   0,\n",
              "          0,   3],\n",
              "       [  0,   0,   0,   0,   0,   0,   0,   0,   0,   0,   0,   0,   6,\n",
              "          0, 102, 204, 176, 134, 144, 123,  23,   0,   0,   0,   0,  12,\n",
              "         10,   0],\n",
              "       [  0,   0,   0,   0,   0,   0,   0,   0,   0,   0,   0,   0,   0,\n",
              "          0, 155, 236, 207, 178, 107, 156, 161, 109,  64,  23,  77, 130,\n",
              "         72,  15],\n",
              "       [  0,   0,   0,   0,   0,   0,   0,   0,   0,   0,   0,   1,   0,\n",
              "         69, 207, 223, 218, 216, 216, 163, 127, 121, 122, 146, 141,  88,\n",
              "        172,  66],\n",
              "       [  0,   0,   0,   0,   0,   0,   0,   0,   0,   1,   1,   1,   0,\n",
              "        200, 232, 232, 233, 229, 223, 223, 215, 213, 164, 127, 123, 196,\n",
              "        229,   0],\n",
              "       [  0,   0,   0,   0,   0,   0,   0,   0,   0,   0,   0,   0,   0,\n",
              "        183, 225, 216, 223, 228, 235, 227, 224, 222, 224, 221, 223, 245,\n",
              "        173,   0],\n",
              "       [  0,   0,   0,   0,   0,   0,   0,   0,   0,   0,   0,   0,   0,\n",
              "        193, 228, 218, 213, 198, 180, 212, 210, 211, 213, 223, 220, 243,\n",
              "        202,   0],\n",
              "       [  0,   0,   0,   0,   0,   0,   0,   0,   0,   1,   3,   0,  12,\n",
              "        219, 220, 212, 218, 192, 169, 227, 208, 218, 224, 212, 226, 197,\n",
              "        209,  52],\n",
              "       [  0,   0,   0,   0,   0,   0,   0,   0,   0,   0,   6,   0,  99,\n",
              "        244, 222, 220, 218, 203, 198, 221, 215, 213, 222, 220, 245, 119,\n",
              "        167,  56],\n",
              "       [  0,   0,   0,   0,   0,   0,   0,   0,   0,   4,   0,   0,  55,\n",
              "        236, 228, 230, 228, 240, 232, 213, 218, 223, 234, 217, 217, 209,\n",
              "         92,   0],\n",
              "       [  0,   0,   1,   4,   6,   7,   2,   0,   0,   0,   0,   0, 237,\n",
              "        226, 217, 223, 222, 219, 222, 221, 216, 223, 229, 215, 218, 255,\n",
              "         77,   0],\n",
              "       [  0,   3,   0,   0,   0,   0,   0,   0,   0,  62, 145, 204, 228,\n",
              "        207, 213, 221, 218, 208, 211, 218, 224, 223, 219, 215, 224, 244,\n",
              "        159,   0],\n",
              "       [  0,   0,   0,   0,  18,  44,  82, 107, 189, 228, 220, 222, 217,\n",
              "        226, 200, 205, 211, 230, 224, 234, 176, 188, 250, 248, 233, 238,\n",
              "        215,   0],\n",
              "       [  0,  57, 187, 208, 224, 221, 224, 208, 204, 214, 208, 209, 200,\n",
              "        159, 245, 193, 206, 223, 255, 255, 221, 234, 221, 211, 220, 232,\n",
              "        246,   0],\n",
              "       [  3, 202, 228, 224, 221, 211, 211, 214, 205, 205, 205, 220, 240,\n",
              "         80, 150, 255, 229, 221, 188, 154, 191, 210, 204, 209, 222, 228,\n",
              "        225,   0],\n",
              "       [ 98, 233, 198, 210, 222, 229, 229, 234, 249, 220, 194, 215, 217,\n",
              "        241,  65,  73, 106, 117, 168, 219, 221, 215, 217, 223, 223, 224,\n",
              "        229,  29],\n",
              "       [ 75, 204, 212, 204, 193, 205, 211, 225, 216, 185, 197, 206, 198,\n",
              "        213, 240, 195, 227, 245, 239, 223, 218, 212, 209, 222, 220, 221,\n",
              "        230,  67],\n",
              "       [ 48, 203, 183, 194, 213, 197, 185, 190, 194, 192, 202, 214, 219,\n",
              "        221, 220, 236, 225, 216, 199, 206, 186, 181, 177, 172, 181, 205,\n",
              "        206, 115],\n",
              "       [  0, 122, 219, 193, 179, 171, 183, 196, 204, 210, 213, 207, 211,\n",
              "        210, 200, 196, 194, 191, 195, 191, 198, 192, 176, 156, 167, 177,\n",
              "        210,  92],\n",
              "       [  0,   0,  74, 189, 212, 191, 175, 172, 175, 181, 185, 188, 189,\n",
              "        188, 193, 198, 204, 209, 210, 210, 211, 188, 188, 194, 192, 216,\n",
              "        170,   0],\n",
              "       [  2,   0,   0,   0,  66, 200, 222, 237, 239, 242, 246, 243, 244,\n",
              "        221, 220, 193, 191, 179, 182, 182, 181, 176, 166, 168,  99,  58,\n",
              "          0,   0],\n",
              "       [  0,   0,   0,   0,   0,   0,   0,  40,  61,  44,  72,  41,  35,\n",
              "          0,   0,   0,   0,   0,   0,   0,   0,   0,   0,   0,   0,   0,\n",
              "          0,   0],\n",
              "       [  0,   0,   0,   0,   0,   0,   0,   0,   0,   0,   0,   0,   0,\n",
              "          0,   0,   0,   0,   0,   0,   0,   0,   0,   0,   0,   0,   0,\n",
              "          0,   0],\n",
              "       [  0,   0,   0,   0,   0,   0,   0,   0,   0,   0,   0,   0,   0,\n",
              "          0,   0,   0,   0,   0,   0,   0,   0,   0,   0,   0,   0,   0,\n",
              "          0,   0]], dtype=uint8)"
            ]
          },
          "metadata": {
            "tags": []
          },
          "execution_count": 49
        }
      ]
    },
    {
      "cell_type": "code",
      "metadata": {
        "colab": {
          "base_uri": "https://localhost:8080/"
        },
        "id": "cf0utwcRjCE4",
        "outputId": "ca0654ca-fc90-4304-bff8-61ad9aabd512"
      },
      "source": [
        "X_train[0].shape #28x28 흑백 이미지 (2차원)"
      ],
      "execution_count": null,
      "outputs": [
        {
          "output_type": "execute_result",
          "data": {
            "text/plain": [
              "(28, 28)"
            ]
          },
          "metadata": {
            "tags": []
          },
          "execution_count": 50
        }
      ]
    },
    {
      "cell_type": "code",
      "metadata": {
        "colab": {
          "base_uri": "https://localhost:8080/"
        },
        "id": "r4cTHFsPjHWT",
        "outputId": "08cc509e-cd29-4f36-a175-4f22ef2f2d2d"
      },
      "source": [
        "X_train[0].size"
      ],
      "execution_count": null,
      "outputs": [
        {
          "output_type": "execute_result",
          "data": {
            "text/plain": [
              "784"
            ]
          },
          "metadata": {
            "tags": []
          },
          "execution_count": 51
        }
      ]
    },
    {
      "cell_type": "code",
      "metadata": {
        "colab": {
          "base_uri": "https://localhost:8080/",
          "height": 265
        },
        "id": "3PO5bxtojnfW",
        "outputId": "85f2d233-a423-432c-df4c-4bbf0d49c5b7"
      },
      "source": [
        "import matplotlib.pyplot as plt\r\n",
        "plt.figure()\r\n",
        "plt.imshow(X_train[0], cmap='gray')\r\n",
        "plt.colorbar()\r\n",
        "plt.grid(False)\r\n",
        "plt.show()"
      ],
      "execution_count": null,
      "outputs": [
        {
          "output_type": "display_data",
          "data": {
            "image/png": "[encoded data removed]",
            "text/plain": [
              "<Figure size 432x288 with 2 Axes>"
            ]
          },
          "metadata": {
            "tags": [],
            "needs_background": "light"
          }
        }
      ]
    },
    {
      "cell_type": "code",
      "metadata": {
        "colab": {
          "base_uri": "https://localhost:8080/",
          "height": 578
        },
        "id": "PMzCogsgj4A6",
        "outputId": "b67a4713-a71a-44b4-e1ce-e0dc55892f57"
      },
      "source": [
        "plt.figure(figsize=(10,10))\r\n",
        "for i in range(25): #25개 시각화 \r\n",
        "  plt.subplot(5,5,i+1)\r\n",
        "  plt.xticks([])\r\n",
        "  plt.yticks([])\r\n",
        "  plt.grid(False)\r\n",
        "  plt.imshow(X_train[i], cmap=plt.cm.binary)"
      ],
      "execution_count": null,
      "outputs": [
        {
          "output_type": "display_data",
          "data": {
            "image/png": "[encoded data removed]",
            "text/plain": [
              "<Figure size 720x720 with 25 Axes>"
            ]
          },
          "metadata": {
            "tags": []
          }
        }
      ]
    },
    {
      "cell_type": "markdown",
      "metadata": {
        "id": "HMFdgyXJl0Lo"
      },
      "source": [
        "- 낙관적 편향 : 학습한 데이터로 평가\r\n",
        "- 새로운 데이터로 평가\r\n",
        "- 데이터 양에 따라 train, test set을 분리함\r\n",
        "  - 데이터가 적은 경우 : **cross validation**\r\n",
        "  - 데이터가 충분한 경우 : **holdout**\r\n",
        "    - data leackage, data shift 되지 않았다고 가정\r\n",
        "      - 가정은 특정 상황에서만 성립\r\n"
      ]
    },
    {
      "cell_type": "code",
      "metadata": {
        "id": "SF4GSgWtkYuM"
      },
      "source": [
        "import mglearn"
      ],
      "execution_count": null,
      "outputs": []
    },
    {
      "cell_type": "code",
      "metadata": {
        "colab": {
          "base_uri": "https://localhost:8080/",
          "height": 207
        },
        "id": "w3qE7avAnxhM",
        "outputId": "1bdf650c-8628-4685-f64f-846509057609"
      },
      "source": [
        "mglearn.plot_cross_validation.plot_cross_validation()"
      ],
      "execution_count": null,
      "outputs": [
        {
          "output_type": "display_data",
          "data": {
            "image/png": "[encoded data removed]",
            "text/plain": [
              "<Figure size 864x144 with 1 Axes>"
            ]
          },
          "metadata": {
            "tags": [],
            "needs_background": "light"
          }
        }
      ]
    },
    {
      "cell_type": "markdown",
      "metadata": {
        "id": "05B5hHSOo0Pp"
      },
      "source": [
        "flatten , ravel, reshape 으로 1차원화\r\n",
        "- copy, view 여부의 차이\r\n",
        "\r\n",
        "\r\n"
      ]
    },
    {
      "cell_type": "code",
      "metadata": {
        "colab": {
          "base_uri": "https://localhost:8080/"
        },
        "id": "IRYl70lVoxvu",
        "outputId": "25cc82e6-d3e3-4bf5-b699-8726b497a1cb"
      },
      "source": [
        "X_train[0].flatten()  #0번째 데이터 1차원화"
      ],
      "execution_count": null,
      "outputs": [
        {
          "output_type": "execute_result",
          "data": {
            "text/plain": [
              "array([  0,   0,   0,   0,   0,   0,   0,   0,   0,   0,   0,   0,   0,\n",
              "         0,   0,   0,   0,   0,   0,   0,   0,   0,   0,   0,   0,   0,\n",
              "         0,   0,   0,   0,   0,   0,   0,   0,   0,   0,   0,   0,   0,\n",
              "         0,   0,   0,   0,   0,   0,   0,   0,   0,   0,   0,   0,   0,\n",
              "         0,   0,   0,   0,   0,   0,   0,   0,   0,   0,   0,   0,   0,\n",
              "         0,   0,   0,   0,   0,   0,   0,   0,   0,   0,   0,   0,   0,\n",
              "         0,   0,   0,   0,   0,   0,   0,   0,   0,   0,   0,   0,   0,\n",
              "         0,   0,   0,   0,   0,   1,   0,   0,  13,  73,   0,   0,   1,\n",
              "         4,   0,   0,   0,   0,   1,   1,   0,   0,   0,   0,   0,   0,\n",
              "         0,   0,   0,   0,   0,   0,   0,   3,   0,  36, 136, 127,  62,\n",
              "        54,   0,   0,   0,   1,   3,   4,   0,   0,   3,   0,   0,   0,\n",
              "         0,   0,   0,   0,   0,   0,   0,   0,   0,   6,   0, 102, 204,\n",
              "       176, 134, 144, 123,  23,   0,   0,   0,   0,  12,  10,   0,   0,\n",
              "         0,   0,   0,   0,   0,   0,   0,   0,   0,   0,   0,   0,   0,\n",
              "       155, 236, 207, 178, 107, 156, 161, 109,  64,  23,  77, 130,  72,\n",
              "        15,   0,   0,   0,   0,   0,   0,   0,   0,   0,   0,   0,   1,\n",
              "         0,  69, 207, 223, 218, 216, 216, 163, 127, 121, 122, 146, 141,\n",
              "        88, 172,  66,   0,   0,   0,   0,   0,   0,   0,   0,   0,   1,\n",
              "         1,   1,   0, 200, 232, 232, 233, 229, 223, 223, 215, 213, 164,\n",
              "       127, 123, 196, 229,   0,   0,   0,   0,   0,   0,   0,   0,   0,\n",
              "         0,   0,   0,   0,   0, 183, 225, 216, 223, 228, 235, 227, 224,\n",
              "       222, 224, 221, 223, 245, 173,   0,   0,   0,   0,   0,   0,   0,\n",
              "         0,   0,   0,   0,   0,   0,   0, 193, 228, 218, 213, 198, 180,\n",
              "       212, 210, 211, 213, 223, 220, 243, 202,   0,   0,   0,   0,   0,\n",
              "         0,   0,   0,   0,   0,   1,   3,   0,  12, 219, 220, 212, 218,\n",
              "       192, 169, 227, 208, 218, 224, 212, 226, 197, 209,  52,   0,   0,\n",
              "         0,   0,   0,   0,   0,   0,   0,   0,   6,   0,  99, 244, 222,\n",
              "       220, 218, 203, 198, 221, 215, 213, 222, 220, 245, 119, 167,  56,\n",
              "         0,   0,   0,   0,   0,   0,   0,   0,   0,   4,   0,   0,  55,\n",
              "       236, 228, 230, 228, 240, 232, 213, 218, 223, 234, 217, 217, 209,\n",
              "        92,   0,   0,   0,   1,   4,   6,   7,   2,   0,   0,   0,   0,\n",
              "         0, 237, 226, 217, 223, 222, 219, 222, 221, 216, 223, 229, 215,\n",
              "       218, 255,  77,   0,   0,   3,   0,   0,   0,   0,   0,   0,   0,\n",
              "        62, 145, 204, 228, 207, 213, 221, 218, 208, 211, 218, 224, 223,\n",
              "       219, 215, 224, 244, 159,   0,   0,   0,   0,   0,  18,  44,  82,\n",
              "       107, 189, 228, 220, 222, 217, 226, 200, 205, 211, 230, 224, 234,\n",
              "       176, 188, 250, 248, 233, 238, 215,   0,   0,  57, 187, 208, 224,\n",
              "       221, 224, 208, 204, 214, 208, 209, 200, 159, 245, 193, 206, 223,\n",
              "       255, 255, 221, 234, 221, 211, 220, 232, 246,   0,   3, 202, 228,\n",
              "       224, 221, 211, 211, 214, 205, 205, 205, 220, 240,  80, 150, 255,\n",
              "       229, 221, 188, 154, 191, 210, 204, 209, 222, 228, 225,   0,  98,\n",
              "       233, 198, 210, 222, 229, 229, 234, 249, 220, 194, 215, 217, 241,\n",
              "        65,  73, 106, 117, 168, 219, 221, 215, 217, 223, 223, 224, 229,\n",
              "        29,  75, 204, 212, 204, 193, 205, 211, 225, 216, 185, 197, 206,\n",
              "       198, 213, 240, 195, 227, 245, 239, 223, 218, 212, 209, 222, 220,\n",
              "       221, 230,  67,  48, 203, 183, 194, 213, 197, 185, 190, 194, 192,\n",
              "       202, 214, 219, 221, 220, 236, 225, 216, 199, 206, 186, 181, 177,\n",
              "       172, 181, 205, 206, 115,   0, 122, 219, 193, 179, 171, 183, 196,\n",
              "       204, 210, 213, 207, 211, 210, 200, 196, 194, 191, 195, 191, 198,\n",
              "       192, 176, 156, 167, 177, 210,  92,   0,   0,  74, 189, 212, 191,\n",
              "       175, 172, 175, 181, 185, 188, 189, 188, 193, 198, 204, 209, 210,\n",
              "       210, 211, 188, 188, 194, 192, 216, 170,   0,   2,   0,   0,   0,\n",
              "        66, 200, 222, 237, 239, 242, 246, 243, 244, 221, 220, 193, 191,\n",
              "       179, 182, 182, 181, 176, 166, 168,  99,  58,   0,   0,   0,   0,\n",
              "         0,   0,   0,   0,   0,  40,  61,  44,  72,  41,  35,   0,   0,\n",
              "         0,   0,   0,   0,   0,   0,   0,   0,   0,   0,   0,   0,   0,\n",
              "         0,   0,   0,   0,   0,   0,   0,   0,   0,   0,   0,   0,   0,\n",
              "         0,   0,   0,   0,   0,   0,   0,   0,   0,   0,   0,   0,   0,\n",
              "         0,   0,   0,   0,   0,   0,   0,   0,   0,   0,   0,   0,   0,\n",
              "         0,   0,   0,   0,   0,   0,   0,   0,   0,   0,   0,   0,   0,\n",
              "         0,   0,   0,   0], dtype=uint8)"
            ]
          },
          "metadata": {
            "tags": []
          },
          "execution_count": 66
        }
      ]
    },
    {
      "cell_type": "code",
      "metadata": {
        "colab": {
          "base_uri": "https://localhost:8080/"
        },
        "id": "cSLgxgZco925",
        "outputId": "0a70991c-c6b1-47ae-b9a0-d5489866f43e"
      },
      "source": [
        "X_train.reshape(60000,-1)  #-1 자동으로 1차원화 \r\n",
        "X_train.reshape(60000,28*28)"
      ],
      "execution_count": null,
      "outputs": [
        {
          "output_type": "execute_result",
          "data": {
            "text/plain": [
              "array([[0, 0, 0, ..., 0, 0, 0],\n",
              "       [0, 0, 0, ..., 0, 0, 0],\n",
              "       [0, 0, 0, ..., 0, 0, 0],\n",
              "       ...,\n",
              "       [0, 0, 0, ..., 0, 0, 0],\n",
              "       [0, 0, 0, ..., 0, 0, 0],\n",
              "       [0, 0, 0, ..., 0, 0, 0]], dtype=uint8)"
            ]
          },
          "metadata": {
            "tags": []
          },
          "execution_count": 68
        }
      ]
    },
    {
      "cell_type": "code",
      "metadata": {
        "id": "Mbu_tTGOpJ0s"
      },
      "source": [
        "X_train =X_train.reshape(60000,-1)  \r\n",
        "X_test = X_test.reshape(10000,-1)  "
      ],
      "execution_count": null,
      "outputs": []
    },
    {
      "cell_type": "code",
      "metadata": {
        "colab": {
          "base_uri": "https://localhost:8080/"
        },
        "id": "7mN3sLptpjxX",
        "outputId": "ea927d4a-b9f4-4014-bb94-ed0a04369361"
      },
      "source": [
        "len(X_test)"
      ],
      "execution_count": null,
      "outputs": [
        {
          "output_type": "execute_result",
          "data": {
            "text/plain": [
              "10000"
            ]
          },
          "metadata": {
            "tags": []
          },
          "execution_count": 69
        }
      ]
    },
    {
      "cell_type": "markdown",
      "metadata": {
        "id": "jDZcczzIqt1J"
      },
      "source": [
        "TensorFlow에서 가져온 데이터를 Scikit-learn에서도 쓸 수 있음"
      ]
    },
    {
      "cell_type": "code",
      "metadata": {
        "id": "1wWMkpA2qsWF"
      },
      "source": [
        "from sklearn.neighbors import KNeighborsClassifier #classification"
      ],
      "execution_count": null,
      "outputs": []
    },
    {
      "cell_type": "code",
      "metadata": {
        "id": "koZRmfEXq8vw"
      },
      "source": [
        "knn=KNeighborsClassifier()"
      ],
      "execution_count": null,
      "outputs": []
    },
    {
      "cell_type": "code",
      "metadata": {
        "colab": {
          "base_uri": "https://localhost:8080/"
        },
        "id": "j29V-JA-q9x4",
        "outputId": "717069a1-b380-43b2-f5e9-c4d2102df6d3"
      },
      "source": [
        "knn.fit(X_train, y_train)"
      ],
      "execution_count": null,
      "outputs": [
        {
          "output_type": "execute_result",
          "data": {
            "text/plain": [
              "KNeighborsClassifier(algorithm='auto', leaf_size=30, metric='minkowski',\n",
              "                     metric_params=None, n_jobs=None, n_neighbors=5, p=2,\n",
              "                     weights='uniform')"
            ]
          },
          "metadata": {
            "tags": []
          },
          "execution_count": 73
        }
      ]
    },
    {
      "cell_type": "markdown",
      "metadata": {
        "id": "JmFHpKHEr4Qg"
      },
      "source": [
        "- 딥러닝은 vectorization 때문에  예측 속도가 빠름"
      ]
    },
    {
      "cell_type": "code",
      "metadata": {
        "colab": {
          "base_uri": "https://localhost:8080/"
        },
        "id": "-YzX0Ajeq_uM",
        "outputId": "c0ea32f4-0183-456b-f954-1bf3930472fe"
      },
      "source": [
        "knn.score(X_test,y_test) #학습에 비해 예측속도가 느림"
      ],
      "execution_count": null,
      "outputs": [
        {
          "output_type": "execute_result",
          "data": {
            "text/plain": [
              "0.8554"
            ]
          },
          "metadata": {
            "tags": []
          },
          "execution_count": 75
        }
      ]
    },
    {
      "cell_type": "code",
      "metadata": {
        "colab": {
          "base_uri": "https://localhost:8080/"
        },
        "id": "NnGiKKgvrU2s",
        "outputId": "6f4c1445-e586-471f-a370-3ba54df5b7a7"
      },
      "source": [
        "knn.predict([X_test[0]]) #학습한 데이터의 차원 맞춰야함"
      ],
      "execution_count": null,
      "outputs": [
        {
          "output_type": "execute_result",
          "data": {
            "text/plain": [
              "array([9], dtype=uint8)"
            ]
          },
          "metadata": {
            "tags": []
          },
          "execution_count": 78
        }
      ]
    },
    {
      "cell_type": "markdown",
      "metadata": {
        "id": "-wfc7oCfs11T"
      },
      "source": [
        "#### openCV 장점\r\n",
        "- GPU 사용 가능 \r\n",
        "- 포팅 용이"
      ]
    },
    {
      "cell_type": "code",
      "metadata": {
        "colab": {
          "base_uri": "https://localhost:8080/"
        },
        "id": "OZ2_gR85uI7Y",
        "outputId": "bbefb658-5e79-495d-fe68-b6009fafb2f5"
      },
      "source": [
        "knn.predict([X_test[3]])"
      ],
      "execution_count": null,
      "outputs": [
        {
          "output_type": "execute_result",
          "data": {
            "text/plain": [
              "array([1], dtype=uint8)"
            ]
          },
          "metadata": {
            "tags": []
          },
          "execution_count": 81
        }
      ]
    },
    {
      "cell_type": "code",
      "metadata": {
        "id": "K60PukGRvqga"
      },
      "source": [
        "from sklearn.model_selection import cross_val_score ,cross_val_predict, cross_validate"
      ],
      "execution_count": null,
      "outputs": []
    },
    {
      "cell_type": "markdown",
      "metadata": {
        "id": "5hCA6vLOvcXX"
      },
      "source": [
        "overfitting: 데이터가 적어서 편차가 큼 \r\n",
        "### cross validation 3총사\r\n",
        "##### cross_val_score\r\n",
        "- 각fold별 평가값\r\n",
        "  - 정확도 accuracy"
      ]
    },
    {
      "cell_type": "code",
      "metadata": {
        "colab": {
          "base_uri": "https://localhost:8080/"
        },
        "id": "44L1D4mcvW5q",
        "outputId": "2d1c6005-d289-4339-aca5-966c85809f7a"
      },
      "source": [
        "#5-folds corss validation\r\n",
        "cross_val_score(KNeighborsClassifier(), X_train[:25], y_train[:25], cv=5)"
      ],
      "execution_count": null,
      "outputs": [
        {
          "output_type": "stream",
          "text": [
            "/usr/local/lib/python3.6/dist-packages/sklearn/model_selection/_split.py:667: UserWarning: The least populated class in y has only 1 members, which is less than n_splits=5.\n",
            "  % (min_groups, self.n_splits)), UserWarning)\n"
          ],
          "name": "stderr"
        },
        {
          "output_type": "execute_result",
          "data": {
            "text/plain": [
              "array([0.6, 0.2, 0.4, 0.2, 0.2])"
            ]
          },
          "metadata": {
            "tags": []
          },
          "execution_count": 89
        }
      ]
    },
    {
      "cell_type": "markdown",
      "metadata": {
        "id": "M0wtNkJTxMZ4"
      },
      "source": [
        "##### cross_val_predict\r\n",
        "- 각 입력의 예측값"
      ]
    },
    {
      "cell_type": "code",
      "metadata": {
        "colab": {
          "base_uri": "https://localhost:8080/"
        },
        "id": "TRyB6hhyvybs",
        "outputId": "18ec2bf4-1e11-4617-c8d4-535cafe00966"
      },
      "source": [
        "cross_val_predict(KNeighborsClassifier(), X_train[:25], y_train[:25], cv=5)"
      ],
      "execution_count": null,
      "outputs": [
        {
          "output_type": "stream",
          "text": [
            "/usr/local/lib/python3.6/dist-packages/sklearn/model_selection/_split.py:667: UserWarning: The least populated class in y has only 1 members, which is less than n_splits=5.\n",
            "  % (min_groups, self.n_splits)), UserWarning)\n"
          ],
          "name": "stderr"
        },
        {
          "output_type": "execute_result",
          "data": {
            "text/plain": [
              "array([9, 0, 1, 4, 0, 0, 5, 0, 5, 5, 0, 4, 5, 7, 5, 4, 0, 0, 0, 5, 0, 0,\n",
              "       1, 9, 0], dtype=uint8)"
            ]
          },
          "metadata": {
            "tags": []
          },
          "execution_count": 91
        }
      ]
    },
    {
      "cell_type": "markdown",
      "metadata": {
        "id": "zowqFXGfxRyZ"
      },
      "source": [
        "##### cross_validate\r\n",
        "각 fold 별로 학습, 예측 시간과 검정"
      ]
    },
    {
      "cell_type": "code",
      "metadata": {
        "colab": {
          "base_uri": "https://localhost:8080/"
        },
        "id": "rGQbYCIcxI7w",
        "outputId": "a0db61a8-1bc3-4f89-84f8-6a4f75e30571"
      },
      "source": [
        "cross_validate(KNeighborsClassifier(), X_train[:25], y_train[:25], cv=5)"
      ],
      "execution_count": null,
      "outputs": [
        {
          "output_type": "stream",
          "text": [
            "/usr/local/lib/python3.6/dist-packages/sklearn/model_selection/_split.py:667: UserWarning: The least populated class in y has only 1 members, which is less than n_splits=5.\n",
            "  % (min_groups, self.n_splits)), UserWarning)\n"
          ],
          "name": "stderr"
        },
        {
          "output_type": "execute_result",
          "data": {
            "text/plain": [
              "{'fit_time': array([0.00081992, 0.00072742, 0.00045848, 0.00050926, 0.00043321]),\n",
              " 'score_time': array([0.00284767, 0.0028708 , 0.00117135, 0.0010581 , 0.00106525]),\n",
              " 'test_score': array([0.6, 0.2, 0.4, 0.2, 0.2])}"
            ]
          },
          "metadata": {
            "tags": []
          },
          "execution_count": 93
        }
      ]
    },
    {
      "cell_type": "markdown",
      "metadata": {
        "id": "WSokgHPNp5nP"
      },
      "source": [
        "### 전처리 \r\n",
        "- 알고리즘 따라 전처리\r\n",
        "> No Free Lunch\r\n",
        "\r\n",
        "#### scaling\r\n",
        "- 모델 성능 향상을 위해 전처리함\r\n",
        "- 신경망은 0~1 사이 값일때 \r\n",
        "\r\n",
        "\r\n",
        "KNN 알고리즘\r\n",
        "1. 전처리 :normalization 사용해서 성능을 높임\r\n",
        "2. 하이퍼 파라미터 튜닝\r\n"
      ]
    },
    {
      "cell_type": "code",
      "metadata": {
        "id": "nROQHesmpkcC"
      },
      "source": [
        "X_train_norm = X_train/255.0\r\n",
        "X_test_norm= X_test/255.0"
      ],
      "execution_count": null,
      "outputs": []
    },
    {
      "cell_type": "markdown",
      "metadata": {
        "id": "OFzpoxtYyZAo"
      },
      "source": [
        ""
      ]
    },
    {
      "cell_type": "code",
      "metadata": {
        "colab": {
          "base_uri": "https://localhost:8080/"
        },
        "id": "K63qS0RRxO3z",
        "outputId": "2ba99936-f3d6-4fd3-99dd-3dd40ad218c4"
      },
      "source": [
        "cross_validate(KNeighborsClassifier(3), X_train[:25], y_train[:25], cv=5)"
      ],
      "execution_count": null,
      "outputs": [
        {
          "output_type": "stream",
          "text": [
            "/usr/local/lib/python3.6/dist-packages/sklearn/model_selection/_split.py:667: UserWarning: The least populated class in y has only 1 members, which is less than n_splits=5.\n",
            "  % (min_groups, self.n_splits)), UserWarning)\n"
          ],
          "name": "stderr"
        },
        {
          "output_type": "execute_result",
          "data": {
            "text/plain": [
              "{'fit_time': array([0.00080919, 0.00050044, 0.00043964, 0.00048041, 0.00042892]),\n",
              " 'score_time': array([0.00202775, 0.00114822, 0.00114298, 0.00104642, 0.00102615]),\n",
              " 'test_score': array([0.2, 0.4, 0.2, 0.2, 0.2])}"
            ]
          },
          "metadata": {
            "tags": []
          },
          "execution_count": 95
        }
      ]
    },
    {
      "cell_type": "markdown",
      "metadata": {
        "id": "mnZdNFUrzTlx"
      },
      "source": [
        "### ensemble\r\n",
        "1. bagging, boosting\r\n",
        "  - 같을 알고리즘을 합치는 방식\r\n",
        "2. stacking\r\n",
        "  - 다른 종류의 알고리즘을 합치는 방식\r\n",
        "\r\n",
        "\r\n",
        "\r\n",
        "> - dropout : ensemble 기법\r\n",
        "\r\n",
        "- 최적의 하이퍼 파라미터에 따라서 분리 시킨것을 다시 합쳐서 재학습해서 최종모델을 만듦\r\n",
        "- 데이터가 적은 경우 편차가 커지기 때문에 spike 침\r\n",
        "\r\n",
        "##### 이미지 전처리\r\n",
        "- PIL(Python Image Library)\r\n",
        "  - Pythonic\r\n",
        "- OpenCV\r\n",
        "  - Numpy기반 \r\n",
        "  - 실용적 toolkit\r\n",
        "- skimage\r\n",
        "  - Sikit-learn Image\r\n",
        "  - Scipy-toolkit 을 쉽게 사용하도록 만듦\r\n",
        "  - 학문적 목적\r\n",
        "\r\n",
        "- 이미지는 array 형태로 불러옴\r\n",
        "- 각각의 특징을 갖음\r\n",
        "- 상황에 맞추어\r\n",
        "\r\n",
        "    "
      ]
    },
    {
      "cell_type": "code",
      "metadata": {
        "id": "kg-Q4PHozCls"
      },
      "source": [
        "import skimage"
      ],
      "execution_count": null,
      "outputs": []
    },
    {
      "cell_type": "code",
      "metadata": {
        "colab": {
          "base_uri": "https://localhost:8080/"
        },
        "id": "gKHM3o2o31pJ",
        "outputId": "00754fe2-ed7f-443e-90a2-3c30fd5e6397"
      },
      "source": [
        "dir(skimage) #scikit image 의 lookfor ()"
      ],
      "execution_count": null,
      "outputs": [
        {
          "output_type": "execute_result",
          "data": {
            "text/plain": [
              "['_INPLACE_MSG',\n",
              " '_STANDARD_MSG',\n",
              " '__SKIMAGE_SETUP__',\n",
              " '__builtins__',\n",
              " '__cached__',\n",
              " '__doc__',\n",
              " '__file__',\n",
              " '__loader__',\n",
              " '__name__',\n",
              " '__package__',\n",
              " '__path__',\n",
              " '__spec__',\n",
              " '__version__',\n",
              " '_raise_build_error',\n",
              " '_shared',\n",
              " 'data',\n",
              " 'data_dir',\n",
              " 'dtype_limits',\n",
              " 'ensure_python_version',\n",
              " 'img_as_bool',\n",
              " 'img_as_float',\n",
              " 'img_as_float32',\n",
              " 'img_as_float64',\n",
              " 'img_as_int',\n",
              " 'img_as_ubyte',\n",
              " 'img_as_uint',\n",
              " 'lookfor',\n",
              " 'util']"
            ]
          },
          "metadata": {
            "tags": []
          },
          "execution_count": 97
        }
      ]
    },
    {
      "cell_type": "code",
      "metadata": {
        "colab": {
          "base_uri": "https://localhost:8080/"
        },
        "id": "YW31dK6l3-HP",
        "outputId": "9e26eeaa-d185-40f5-9624-bac4dcf95359"
      },
      "source": [
        "import numpy as np\r\n",
        "np.lookfor('reshape')  #reshape 포함된 모든 모듈,패키지 검색"
      ],
      "execution_count": null,
      "outputs": [
        {
          "output_type": "stream",
          "text": [
            "Search results for 'reshape'\n",
            "----------------------------\n",
            "numpy.ma.reshape\n",
            "    Returns an array containing the same data with a new shape.\n",
            "numpy.chararray.reshape\n",
            "    Returns an array containing the same data with a new shape.\n",
            "numpy.matrix.squeeze\n",
            "    Return a possibly reshaped matrix.\n",
            "numpy.reshape\n",
            "    Gives a new shape to an array without changing its data.\n",
            "numpy.add\n",
            "    Add arguments element-wise.\n",
            "numpy.dot\n",
            "    Dot product of two arrays. Specifically,\n",
            "numpy.ix_\n",
            "    Construct an open mesh from multiple sequences.\n",
            "numpy.pad\n",
            "    Pad an array.\n",
            "numpy.amax\n",
            "    Return the maximum of an array or maximum along an axis.\n",
            "numpy.amin\n",
            "    Return the minimum of an array or minimum along an axis.\n",
            "numpy.diag\n",
            "    Extract a diagonal or construct a diagonal array.\n",
            "numpy.flip\n",
            "    Reverse the order of elements in an array along the given axis.\n",
            "numpy.fmod\n",
            "    Return the element-wise remainder of division.\n",
            "numpy.isin\n",
            "    Calculates `element in test_elements`, broadcasting over `element` only.\n",
            "numpy.kron\n",
            "    Kronecker product of two arrays.\n",
            "numpy.roll\n",
            "    Roll array elements along a given axis.\n",
            "numpy.inner\n",
            "    Inner product of two arrays.\n",
            "numpy.place\n",
            "    Change elements of an array based on conditional and input values.\n",
            "numpy.ravel\n",
            "    Return a contiguous flattened array.\n",
            "numpy.rot90\n",
            "    Rotate an array by 90 degrees in the plane specified by axes.\n",
            "numpy.trace\n",
            "    Return the sum along diagonals of the array.\n",
            "numpy.trapz\n",
            "    Integrate along the given axis using the composite trapezoidal rule.\n",
            "numpy.argmax\n",
            "    Returns the indices of the maximum values along an axis.\n",
            "numpy.argmin\n",
            "    Returns the indices of the minimum values along an axis.\n",
            "numpy.choose\n",
            "    Construct an array from an index array and a set of arrays to choose from.\n",
            "numpy.dsplit\n",
            "    Split array into multiple sub-arrays along the 3rd axis (depth).\n",
            "numpy.dstack\n",
            "    Stack arrays in sequence depth wise (along third axis).\n",
            "numpy.einsum\n",
            "    einsum(subscripts, *operands, out=None, dtype=None, order='K',\n",
            "numpy.hsplit\n",
            "    Split an array into multiple sub-arrays horizontally (column-wise).\n",
            "numpy.insert\n",
            "    Insert values along the given axis before the given indices.\n",
            "numpy.matmul\n",
            "    Matrix product of two arrays.\n",
            "numpy.resize\n",
            "    Return a new array with the specified shape.\n",
            "numpy.vsplit\n",
            "    Split an array into multiple sub-arrays vertically (row-wise).\n",
            "numpy.average\n",
            "    Compute the weighted average along the specified axis.\n",
            "numpy.extract\n",
            "    Return the elements of an array that satisfy some condition.\n",
            "numpy.indices\n",
            "    Return an array representing the indices of a grid.\n",
            "numpy.putmask\n",
            "    Changes elements of an array based on conditional and input values.\n",
            "numpy.require\n",
            "    Return an ndarray of the provided type that satisfies requirements.\n",
            "numpy.squeeze\n",
            "    Remove single-dimensional entries from the shape of an array.\n",
            "numpy.argwhere\n",
            "    Find the indices of array elements that are non-zero, grouped by element.\n",
            "numpy.diagonal\n",
            "    Return specified diagonals.\n",
            "numpy.flatiter\n",
            "    Flat iterator object to iterate over arrays.\n",
            "numpy.multiply\n",
            "    Multiply arguments element-wise.\n",
            "numpy.subtract\n",
            "    Subtract arguments, element-wise.\n",
            "numpy.chararray\n",
            "    chararray(shape, itemsize=1, unicode=False, buffer=None, offset=0,\n",
            "numpy.ones_like\n",
            "    Return an array of ones with the same shape and type as a given array.\n",
            "numpy.row_stack\n",
            "    Stack arrays in sequence vertically (row wise).\n",
            "numpy.tensordot\n",
            "    Compute tensor dot product along specified axes.\n",
            "numpy.transpose\n",
            "    Reverse or permute the axes of an array; returns the modified array.\n",
            "numpy.atleast_1d\n",
            "    Convert inputs to arrays with at least one dimension.\n",
            "numpy.atleast_3d\n",
            "    View inputs as arrays with at least three dimensions.\n",
            "numpy.zeros_like\n",
            "    Return an array of zeros with the same shape and type as a given array.\n",
            "numpy.expand_dims\n",
            "    Expand the shape of an array.\n",
            "numpy.ma.add\n",
            "    Add arguments element-wise.\n",
            "numpy.diag_indices\n",
            "    Return the indices to access the main diagonal of an array.\n",
            "numpy.mask_indices\n",
            "    Return the indices to access (n, n) arrays, given a masking function.\n",
            "numpy.nested_iters\n",
            "    Create nditers for use in nested loops\n",
            "numpy.tril_indices\n",
            "    Return the indices for the lower-triangle of an (n, m) array.\n",
            "numpy.triu_indices\n",
            "    Return the indices for the upper-triangle of an (n, m) array.\n",
            "numpy.ma.fmod\n",
            "    Return the element-wise remainder of division.\n",
            "numpy.ma.array\n",
            "    An array class with possibly masked values.\n",
            "numpy.ma.count\n",
            "    Count the non-masked elements of the array along the given axis.\n",
            "numpy.ma.inner\n",
            "    Inner product of two arrays.\n",
            "numpy.asfortranarray\n",
            "    Return an array (ndim >= 1) laid out in Fortran order in memory.\n",
            "numpy.ma.where\n",
            "    Return a masked array with elements from `x` or `y`, depending on condition.\n",
            "numpy.ma.argmax\n",
            "    Returns array of indices of the maximum values along the given axis.\n",
            "numpy.ma.dstack\n",
            "    Stack arrays in sequence depth wise (along third axis).\n",
            "numpy.ma.filled\n",
            "    Return input as an array with masked data replaced by a fill value.\n",
            "numpy.ma.hsplit\n",
            "    Split an array into multiple sub-arrays horizontally (column-wise).\n",
            "numpy.apply_over_axes\n",
            "    Apply a function repeatedly over multiple axes.\n",
            "numpy.ma.median\n",
            "    Compute the median along the specified axis.\n",
            "numpy.set_numeric_ops\n",
            "    Set numerical operators for array objects.\n",
            "numpy.ma.asarray\n",
            "    Convert the input to a masked array of the given data-type.\n",
            "numpy.ma.average\n",
            "    Return the weighted average of array over the given axis.\n",
            "numpy.matrix.all\n",
            "    Test whether all matrix elements along a given axis evaluate to True.\n",
            "numpy.matrix.max\n",
            "    Return the maximum value along an axis.\n",
            "numpy.matrix.min\n",
            "    Return the minimum value along an axis.\n",
            "numpy.matrix.ptp\n",
            "    Peak-to-peak (maximum - minimum) value along the given axis.\n",
            "numpy.matrix.std\n",
            "    Return the standard deviation of the array elements along the given axis.\n",
            "numpy.matrix.var\n",
            "    Returns the variance of the matrix elements, along the given axis.\n",
            "numpy.linalg.norm\n",
            "    Matrix or vector norm.\n",
            "numpy.fft.fftshift\n",
            "    Shift the zero-frequency component to the center of the spectrum.\n",
            "numpy.ma.fromflex\n",
            "    Build a masked array from a suitable flexible-type array.\n",
            "numpy.ascontiguousarray\n",
            "    Return a contiguous array (ndim >= 1) in memory (C order).\n",
            "numpy.ma.multiply\n",
            "    Multiply arguments element-wise.\n",
            "numpy.ma.subtract\n",
            "    Subtract arguments, element-wise.\n",
            "numpy.matrix.getA\n",
            "    Return `self` as an `ndarray` object.\n",
            "numpy.matrix.getH\n",
            "    Returns the (complex) conjugate transpose of `self`.\n",
            "numpy.matrix.mean\n",
            "    Returns the average of the matrix elements along the given axis.\n",
            "numpy.matrix.prod\n",
            "    Return the product of the array elements over the given axis.\n",
            "numpy.fft.ifftshift\n",
            "    The inverse of `fftshift`. Although identical for even-length `x`, the\n",
            "numpy.flatiter.copy\n",
            "    copy()\n",
            "numpy.ma.row_stack\n",
            "    Stack arrays in sequence vertically (row wise).\n",
            "numpy.ma.transpose\n",
            "    Permute the dimensions of an array.\n",
            "numpy.chararray.view\n",
            "    New view of array with the same data.\n",
            "numpy.matrix.getA1\n",
            "    Return `self` as a flattened `ndarray`.\n",
            "numpy.ma.asanyarray\n",
            "    Convert the input to a masked array, conserving subclasses.\n",
            "numpy.ma.atleast_1d\n",
            "    Convert inputs to arrays with at least one dimension.\n",
            "numpy.ma.atleast_3d\n",
            "    View inputs as arrays with at least three dimensions.\n",
            "numpy.ufunc.reduce\n",
            "    Reduces `a`'s dimension by one, by applying ufunc along one axis.\n",
            "numpy.matlib.repmat\n",
            "    Repeat a 0-D to 2-D array or matrix MxN times.\n",
            "numpy.matrix.argmax\n",
            "    Indexes of the maximum values along an axis.\n",
            "numpy.matrix.argmin\n",
            "    Indexes of the minimum values along an axis.\n",
            "numpy.matrix.tolist\n",
            "    Return the matrix as a (possibly nested) list.\n",
            "numpy.ma.MaskedArray\n",
            "    An array class with possibly masked values.\n",
            "numpy.chararray.resize\n",
            "    Change shape and size of array in-place.\n",
            "numpy.ma.count_masked\n",
            "    Count the number of masked elements along the given axis.\n",
            "numpy.ufunc.reduceat\n",
            "    Performs a (local) reduce with specified slices over a single axis.\n",
            "numpy.lib.Arrayterator\n",
            "    Buffered iterator for big arrays.\n",
            "numpy.chararray.transpose\n",
            "    a.transpose(*axes)\n",
            "numpy.ma.apply_over_axes\n",
            "    Apply a function repeatedly over multiple axes.\n",
            "numpy.ma.notmasked_edges\n",
            "    Find the indices of the first and last unmasked values along an axis.\n",
            "numpy.ma.compress_rowcols\n",
            "    Suppress the rows and/or columns of a 2-D array that contain\n",
            "numpy.ma.MaskedArray.reshape\n",
            "    Give a new shape to the array without changing its data.\n",
            "numpy.ma.notmasked_contiguous\n",
            "    Find contiguous unmasked data in a masked array along the given axis.\n",
            "numpy.core.tests.test_indexing.TestFloatNonIntegerArgument\n",
            "    These test that ``TypeError`` is raised when you try to use\n",
            "numpy.ma.MaskedArray.mini\n",
            "    Return the array minimum along the specified axis.\n",
            "numpy.ma.MaskedArray.count\n",
            "    Count the non-masked elements of the array along the given axis.\n",
            "numpy.ma.MaskedArray.argmax\n",
            "    Returns array of indices of the maximum values along the given axis.\n",
            "numpy.core._multiarray_umath.dot\n",
            "    Dot product of two arrays. Specifically,\n",
            "numpy.ma.MaskedArray.transpose\n",
            "    a.transpose(*axes)\n",
            "numpy.random.Generator.shuffle\n",
            "    Modify a sequence in-place by shuffling its contents.\n",
            "numpy.core._multiarray_umath.inner\n",
            "    Inner product of two arrays.\n",
            "numpy.polynomial.Polynomial._val\n",
            "    Evaluate a polynomial at points x.\n",
            "numpy.core._multiarray_umath.putmask\n",
            "    Changes elements of an array based on conditional and input values.\n",
            "numpy.random.RandomState.shuffle\n",
            "    shuffle(x)\n",
            "numpy.core._multiarray_umath.c_einsum\n",
            "    c_einsum(subscripts, *operands, out=None, dtype=None, order='K',\n",
            "numpy.random.Generator.permutation\n",
            "    Randomly permute a sequence, or return a permuted range.\n",
            "numpy.polynomial.polyutils.as_series\n",
            "    Return argument as a list of 1-d arrays.\n",
            "numpy.random.RandomState.permutation\n",
            "    permutation(x)\n",
            "numpy.polynomial.polynomial.polyvalfromroots\n",
            "    Evaluate a polynomial specified by its roots at points x.\n",
            "numpy.lib.recfunctions.unstructured_to_structured\n",
            "    Converts and n-D unstructured array into an (n-1)-D structured array.\n",
            "numpy.ma.tests.test_subclassing.MSubArray\n",
            "    An array class with possibly masked values.\n",
            "numpy.core.tests.test_indexing.TestMultiIndexingAutomated._check_multi_index\n",
            "    Check a multi index item getting and simple setting."
          ],
          "name": "stdout"
        }
      ]
    },
    {
      "cell_type": "code",
      "metadata": {
        "colab": {
          "base_uri": "https://localhost:8080/"
        },
        "id": "dHh7Srg640OR",
        "outputId": "caca14fc-ce50-4afc-bf61-99c0b4c92542"
      },
      "source": [
        "skimage.lookfor('image')"
      ],
      "execution_count": null,
      "outputs": [
        {
          "output_type": "stream",
          "text": [
            "Search results for 'image'\n",
            "--------------------------\n",
            "skimage.lookfor\n",
            "    Do a keyword search on scikit-image docstrings.\n",
            "skimage.io.pop\n",
            "    Pop an image from the shared image stack.\n",
            "skimage.io.push\n",
            "    Push an image onto the shared image stack.\n",
            "skimage.io.show\n",
            "    Display pending images.\n",
            "skimage.img_as_int\n",
            "    Convert an image to 16-bit signed integer format.\n",
            "skimage.img_as_bool\n",
            "    Convert an image to boolean format.\n",
            "skimage.img_as_uint\n",
            "    Convert an image to 16-bit unsigned integer format.\n",
            "skimage.data.cell\n",
            "    Cell floating in saline.\n",
            "skimage.data.load\n",
            "    Load an image file located in the data directory.\n",
            "skimage.data.logo\n",
            "    Scikit-image logo, a RGBA image.\n",
            "skimage.data.moon\n",
            "    Surface of the moon.\n",
            "skimage.data.page\n",
            "    Scanned page.\n",
            "skimage.data.text\n",
            "    Gray-level \"text\" image used for corner detection.\n",
            "skimage.io.imread\n",
            "    Load an image from file.\n",
            "skimage.io.imsave\n",
            "    Save an image to file.\n",
            "skimage.io.imshow\n",
            "    Display an image.\n",
            "skimage.dtype_limits\n",
            "    Return intensity limits, i.e. (min, max) tuple, of the image's dtype.\n",
            "skimage.img_as_float\n",
            "    Convert an image to floating point format.\n",
            "skimage.img_as_ubyte\n",
            "    Convert an image to 8-bit unsigned integer format.\n",
            "skimage.data.coins\n",
            "    Greek coins from Pompeii.\n",
            "skimage.data.horse\n",
            "    Black and white silhouette of a horse.\n",
            "skimage.data.camera\n",
            "    Gray-level \"camera\" image.\n",
            "skimage.data.retina\n",
            "    Human retina.\n",
            "skimage.feature.hog\n",
            "    Extract Histogram of Oriented Gradients (HOG) for a given image.\n",
            "skimage.img_as_float32\n",
            "    Convert an image to single-precision (32-bit) floating point format.\n",
            "skimage.img_as_float64\n",
            "    Convert an image to double-precision (64-bit) floating point format.\n",
            "skimage.util.invert\n",
            "    Invert an image.\n",
            "skimage.filters.sato\n",
            "    Filter an image with the Sato tubeness filter.\n",
            "skimage.util.montage\n",
            "    Create a montage of several single- or multichannel images.\n",
            "skimage.feature.canny\n",
            "    Edge filter an image using the Canny algorithm.\n",
            "skimage.feature.daisy\n",
            "    Extract DAISY feature descriptors densely for the given image.\n",
            "skimage.io.MultiImage\n",
            "    A class containing a single multi-frame image.\n",
            "skimage.color.gray2rgb\n",
            "    Create an RGB representation of a gray-level image.\n",
            "skimage.color.rgb2gray\n",
            "    Compute luminance of an RGB image.\n",
            "skimage.data.astronaut\n",
            "    Color image of the astronaut Eileen Collins.\n",
            "skimage.draw.set_color\n",
            "    Set pixel color in the image at the given coordinates.\n",
            "skimage.filters.frangi\n",
            "    Filter an image with the Frangi vesselness filter.\n",
            "skimage.filters.median\n",
            "    Return local median of an image.\n",
            "skimage.color.label2rgb\n",
            "    Return an RGB image where color-coded labels are painted over the image.\n",
            "skimage.transform.warp\n",
            "    Warp an image according to a given coordinate transformation.\n",
            "skimage.filters.hessian\n",
            "    Filter an image with the Hybrid Hessian filter.\n",
            "skimage.filters.laplace\n",
            "    Find the edges of an image using the Laplace operator.\n",
            "skimage.filters.sobel_h\n",
            "    Find the horizontal edges of an image using the Sobel transform.\n",
            "skimage.filters.sobel_v\n",
            "    Find the vertical edges of an image using the Sobel transform.\n",
            "skimage.measure.moments\n",
            "    Calculate all raw image moments up to a certain order.\n",
            "skimage.morphology.thin\n",
            "    Perform morphological thinning of a binary image.\n",
            "skimage.transform.radon\n",
            "    Calculates the radon transform of an image given specified\n",
            "skimage.feature.blob_dog\n",
            "    Finds blobs in the given grayscale image.\n",
            "skimage.feature.blob_doh\n",
            "    Finds blobs in the given grayscale image.\n",
            "skimage.feature.blob_log\n",
            "    Finds blobs in the given grayscale image.\n",
            "skimage.filters.scharr_h\n",
            "    Find the horizontal edges of an image using the Scharr transform.\n",
            "skimage.filters.scharr_v\n",
            "    Find the vertical edges of an image using the Scharr transform.\n",
            "skimage.transform.iradon\n",
            "    Inverse radon transform.\n",
            "skimage.data.binary_blobs\n",
            "    Generate synthetic binary image with several rounded blob-like objects.\n",
            "skimage.transform.resize\n",
            "    Resize image to match a certain size.\n",
            "skimage.data.checkerboard\n",
            "    Checkerboard image.\n",
            "skimage.transform.rotate\n",
            "    Rotate image by a certain angle around its center.\n",
            "skimage.filters.meijering\n",
            "    Filter an image with the Meijering neuriteness filter.\n",
            "skimage.filters.prewitt_h\n",
            "    Find the horizontal edges of an image using the Prewitt transform.\n",
            "skimage.filters.prewitt_v\n",
            "    Find the vertical edges of an image using the Prewitt transform.\n",
            "skimage.measure.perimeter\n",
            "    Calculate total perimeter of all objects in binary image.\n",
            "skimage.segmentation.slic\n",
            "    Segments image using k-means clustering in Color-(x,y,z) space.\n",
            "skimage.transform.rescale\n",
            "    Scale image by a certain factor.\n",
            "skimage.util.random_noise\n",
            "    Function to add random noise of various types to a floating-point image.\n",
            "skimage.draw.random_shapes\n",
            "    Generate an image with random shapes, labeled with bounding boxes.\n",
            "skimage.exposure.histogram\n",
            "    Return histogram of image.\n",
            "skimage.filters.rank_order\n",
            "    Return an image of the same shape where each pixel is the\n",
            "skimage.io.ImageCollection\n",
            "    Load and manage a collection of image files.\n",
            "skimage.measure.moments_hu\n",
            "    Calculate Hu's set of image moments (2D-only).\n",
            "skimage.morphology.closing\n",
            "    Return greyscale morphological closing of an image.\n",
            "skimage.morphology.erosion\n",
            "    Return greyscale morphological erosion of an image.\n",
            "skimage.morphology.opening\n",
            "    Return greyscale morphological opening of an image.\n",
            "skimage.data.microaneurysms\n",
            "    Gray-level \"microaneurysms\" image.\n",
            "skimage.util.regular_seeds\n",
            "    Return an image with ~`n_points` regularly-spaced nonzero pixels.\n",
            "skimage.viewer.ImageViewer\n",
            "    Viewer for displaying images.\n",
            "skimage.exposure.adjust_log\n",
            "    Performs Logarithmic correction on the input image.\n",
            "skimage.feature.corner_fast\n",
            "    Extract FAST corners for a given image.\n",
            "skimage.measure.compare_mse\n",
            "    Compute the mean-squared error between two images.\n",
            "skimage.measure.regionprops\n",
            "    Measure properties of labeled image regions.\n",
            "skimage.morphology.dilation\n",
            "    Return greyscale morphological dilation of an image.\n",
            "skimage.morphology.h_maxima\n",
            "    Determine all maxima of the image with height >= h.\n",
            "skimage.morphology.h_minima\n",
            "    Determine all minima of the image with depth >= h.\n",
            "skimage.morphology.max_tree\n",
            "    Build the max tree from an image.\n",
            "skimage.transform.integrate\n",
            "    Use an integral image to integrate over a given window.\n",
            "skimage.util.compare_images\n",
            "    Return an image showing the differences between two images.\n",
            "skimage.feature.corner_peaks\n",
            "    Find corners in corner measure response image.\n",
            "skimage.io.imread_collection\n",
            "    Load a collection of images.\n",
            "skimage.io.imshow_collection\n",
            "    Display a collection of images.\n",
            "skimage.measure.block_reduce\n",
            "    Down-sample image by applying function to local blocks.\n",
            "skimage.measure.compare_psnr\n",
            "    Compute the peak signal to noise ratio (PSNR) for an image.\n",
            "skimage.measure.compare_ssim\n",
            "    Compute the mean structural similarity index between two images.\n",
            "skimage.measure.profile_line\n",
            "    Return the intensity profile of an image measured along a scan line.\n",
            "skimage.morphology.watershed\n",
            "    Find watershed basins in `image` flooded from given `markers`.\n",
            "skimage.future.graph.RAG\n",
            "    The Region Adjacency Graph (RAG) of an image, subclasses\n",
            "skimage.transform.warp_polar\n",
            "    Remap image to polor or log-polar coordinates space.\n",
            "skimage.exposure.adjust_gamma\n",
            "    Performs Gamma Correction on the input image.\n",
            "skimage.feature.corner_harris\n",
            "    Compute Harris corner measure response image.\n",
            "skimage.io.concatenate_images\n",
            "    Concatenate all images in the image collection into an array.\n",
            "skimage.measure.compare_nrmse\n",
            "    Compute the normalized root mean-squared error (NRMSE) between two\n",
            "skimage.morphology.flood_fill\n",
            "    Perform flood filling on an image.\n",
            "skimage.filters.rank.mean\n",
            "    Return local mean of an image.\n",
            "skimage.transform.iradon_sart\n",
            "    Inverse radon transform.\n",
            "skimage.transform.warp_coords\n",
            "    Build the source coordinates for the output of a 2-D image warp.\n",
            "skimage.data.stereo_motorcycle\n",
            "    Rectified stereo image pair with ground-truth disparities.\n",
            "skimage.exposure.equalize_hist\n",
            "    Return image after histogram equalization.\n",
            "skimage.feature.corner_moravec\n",
            "    Compute Moravec corner measure response image.\n",
            "skimage.feature.match_template\n",
            "    Match a template to a 2-D or 3-D image using normalized correlation.\n",
            "skimage.feature.peak_local_max\n",
            "    Find peaks in an image as coordinate list or boolean mask.\n",
            "skimage.measure.inertia_tensor\n",
            "    Compute the inertia tensor of the input image.\n",
            "skimage.measure.moments_coords\n",
            "    Calculate all raw image moments up to a certain order.\n",
            "skimage.morphology.medial_axis\n",
            "    Compute the medial axis transform of a binary image\n",
            "skimage.morphology.skeletonize\n",
            "    Compute the skeleton of a binary image.\n",
            "skimage.filters.rank.modal\n",
            "    Return local mode of an image.\n",
            "skimage.exposure.adjust_sigmoid\n",
            "    Performs Sigmoid Correction on the input image.\n",
            "skimage.feature.ORB.extract\n",
            "    Extract rBRIEF binary descriptors for given keypoints in image.\n",
            "skimage.filters.threshold_local\n",
            "    Compute a threshold mask image based on local pixel neighborhood.\n",
            "skimage.measure.moments_central\n",
            "    Calculate all central image moments up to a certain order.\n",
            "skimage.measure.shannon_entropy\n",
            "    Calculate the Shannon entropy of an image.\n",
            "skimage.morphology.area_closing\n",
            "    Perform an area closing of the image.\n",
            "skimage.morphology.area_opening\n",
            "    Perform an area opening of the image.\n",
            "skimage.morphology.black_tophat\n",
            "    Return black top hat of an image.\n",
            "skimage.morphology.white_tophat\n",
            "    Return white top hat of an image.\n",
            "skimage.filters.rank.median\n",
            "    Return local median of an image.\n",
            "skimage.filters.rank.tophat\n",
            "    Local top-hat of an image.\n",
            "skimage.color.convert_colorspace\n",
            "    Convert an image array to a new color space.\n",
            "skimage.segmentation.quickshift\n",
            "    Segments image using quickshift clustering in Color-(x,y) space.\n",
            "skimage.viewer.CollectionViewer\n",
            "    Viewer for displaying image collections.\n",
            "skimage.exposure.is_low_contrast\n",
            "    Determine if an image is low contrast.\n",
            "skimage.feature.corner_foerstner\n",
            "    Compute Foerstner corner measure response image.\n",
            "skimage.filters.roberts_neg_diag\n",
            "    Find the cross edges of an image using the Roberts' Cross operator.\n",
            "skimage.filters.roberts_pos_diag\n",
            "    Find the cross edges of an image using Roberts' cross operator.\n",
            "skimage.filters.rank.maximum\n",
            "    Return local maximum of an image.\n",
            "skimage.filters.rank.minimum\n",
            "    Return local minimum of an image.\n",
            "skimage.restoration.unwrap_phase\n",
            "    Recover the original from a wrapped phase image.\n",
            "skimage.transform.integral_image\n",
            "    Integral image / summed area table.\n",
            "skimage.transform.pyramid_expand\n",
            "    Upsample and then smooth image.\n",
            "skimage.transform.pyramid_reduce\n",
            "    Smooth and then downsample image.\n",
            "skimage.feature.BRIEF.extract\n",
            "    Extract BRIEF binary descriptors for given keypoints in image.\n",
            "skimage.exposure.match_histograms\n",
            "    Adjust an image so that its cumulative histogram matches that of another.\n",
            "skimage.feature.corner_shi_tomasi\n",
            "    Compute Shi-Tomasi (Kanade-Tomasi) corner measure response image.\n",
            "skimage.feature.haar_like_feature\n",
            "    Compute the Haar-like features for a region of interest (ROI) of an\n",
            "skimage.filters.threshold_minimum\n",
            "    Return threshold value based on minimum method.\n",
            "skimage.filters.threshold_niblack\n",
            "    Applies Niblack local threshold to an array.\n",
            "skimage.measure.regionprops_table\n",
            "    Compute image properties and return them as a pandas-compatible table.\n",
            "skimage.morphology.binary_closing\n",
            "    Return fast binary morphological closing of an image.\n",
            "skimage.morphology.binary_erosion\n",
            "    Return fast binary morphological erosion of an image.\n",
            "skimage.morphology.binary_opening\n",
            "    Return fast binary morphological opening of an image.\n",
            "skimage.morphology.reconstruction\n",
            "    Perform a morphological reconstruction of an image.\n",
            "skimage.morphology.skeletonize_3d\n",
            "    Compute the skeleton of a binary image.\n",
            "skimage.filters.edges.farid_h\n",
            "    Find the horizontal edges of an image using the Farid transform.\n",
            "skimage.filters.edges.farid_v\n",
            "    Find the vertical edges of an image using the Farid transform.\n",
            "skimage.filters.rank.equalize\n",
            "    Equalize image using local histogram.\n",
            "skimage.filters.rank.gradient\n",
            "    Return local gradient of an image (i.e. local maximum - local minimum).\n",
            "skimage.segmentation.clear_border\n",
            "    Clear objects connected to the label image border.\n",
            "skimage.segmentation.felzenszwalb\n",
            "    Computes Felsenszwalb's efficient graph based image segmentation.\n",
            "skimage.future.graph.show_rag\n",
            "    Show a Region Adjacency Graph on an image.\n",
            "skimage.exposure.rescale_intensity\n",
            "    Return image after stretching or shrinking its intensity levels.\n",
            "skimage.feature.hessian_matrix_det\n",
            "    Compute the approximate Hessian Determinant over an image.\n",
            "skimage.viewer.plugins.Crop\n",
            "    Base class for plugins that interact with an ImageViewer.\n",
            "skimage.measure.moments_normalized\n",
            "    Calculate all normalized central image moments up to a certain order.\n",
            "skimage.metrics.mean_squared_error\n",
            "    Compute the mean-squared error between two images.\n",
            "skimage.morphology.binary_dilation\n",
            "    Return fast binary morphological dilation of an image.\n",
            "skimage.filters.rank.autolevel\n",
            "    Auto-level image using local histogram.\n",
            "skimage.filters.rank.bottomhat\n",
            "    Local bottom-hat of an image.\n",
            "skimage.filters.rank.threshold\n",
            "    Local threshold of an image.\n",
            "skimage.transform.match_histograms\n",
            "    Adjust an image so that its cumulative histogram matches that of another.\n",
            "skimage.transform.pyramid_gaussian\n",
            "    Yield images of the Gaussian pyramid formed by the input image.\n",
            "skimage.filters.threshold_multiotsu\n",
            "    Generate `classes`-1 threshold values to divide gray levels in `image`.\n",
            "skimage.metrics.normalized_root_mse\n",
            "    Compute the normalized root mean-squared error (NRMSE) between two\n",
            "skimage.morphology.diameter_closing\n",
            "    Perform a diameter closing of the image.\n",
            "skimage.morphology.diameter_opening\n",
            "    Perform a diameter opening of the image.\n",
            "skimage.restoration.denoise_wavelet\n",
            "    Perform wavelet denoising on an image.\n",
            "skimage.filters.rank.percentile\n",
            "    Return local percentile of an image.\n",
            "skimage.segmentation.active_contour\n",
            "    Active contour model.\n",
            "skimage.transform.pyramid_laplacian\n",
            "    Yield images of the laplacian pyramid formed by the input image.\n",
            "skimage.external.tifffile.imread\n",
            "    Return image data from TIFF file(s) as numpy array.\n",
            "skimage.external.tifffile.imsave\n",
            "    Write image data to TIFF file.\n",
            "skimage.external.tifffile.imshow\n",
            "    Plot n-dimensional images using matplotlib.pyplot.\n",
            "skimage._shared.testing.roundtrip\n",
            "    Save and read an image using a specified plugin\n",
            "skimage.feature.register_translation\n",
            "    Efficient subpixel image translation registration by cross-correlation.\n",
            "skimage.viewer.plugins.Plugin\n",
            "    Base class for plugins that interact with an ImageViewer.\n",
            "skimage.color.adapt_rgb.adapt_rgb\n",
            "    Return decorator that adapts to RGB images to a gray-scale filter.\n",
            "skimage.color.adapt_rgb.hsv_value\n",
            "    Return color image by applying `image_filter` on HSV-value of `image`.\n",
            "skimage.viewer.utils.figimage\n",
            "    Return figure and axes with figure tightly surrounding image.\n",
            "skimage.morphology.convex_hull_image\n",
            "    Compute the convex hull image of a binary image.\n",
            "skimage.restoration.denoise_nl_means\n",
            "    Perform non-local means denoising on 2-D or 3-D grayscale images, and\n",
            "skimage.segmentation.mark_boundaries\n",
            "    Return image with boundaries between labeled regions highlighted.\n",
            "skimage._shared.testing.mono_check\n",
            "    Check the roundtrip behavior for images that support most types.\n",
            "skimage._shared.testing.setup_test\n",
            "    Default package level setup routine for skimage tests.\n",
            "skimage.viewer.plugins.Measure\n",
            "    Base class for plugins that interact with an ImageViewer.\n",
            "skimage.metrics.structural_similarity\n",
            "    Compute the mean structural similarity index between two images.\n",
            "skimage.morphology.convex_hull_object\n",
            "    Compute the convex hull image of individual objects in a binary image.\n",
            "skimage.restoration.denoise_bilateral\n",
            "    Denoise image using bilateral filter.\n",
            "skimage.color.guess_spatial_dimensions\n",
            "    Make an educated guess about whether an image has a channels dimension.\n",
            "skimage.future.graph.rag_boundary\n",
            "    Comouter RAG based on region boundaries\n",
            "skimage.external.tifffile.TiffFile\n",
            "    Read image and metadata from TIFF, STK, LSM, and FluoView files.\n",
            "skimage._shared.testing.color_check\n",
            "    Check roundtrip behavior for color images.\n",
            "skimage.io.ImageCollection.reload\n",
            "    Clear the image cache.\n",
            "skimage.measure.inertia_tensor_eigvals\n",
            "    Compute the eigenvalues of the inertia tensor of the image.\n",
            "skimage.measure.moments_coords_central\n",
            "    Calculate all central image moments up to a certain order.\n",
            "skimage.measure._moments.centroid\n",
            "    Return the (weighted) centroid of an image.\n",
            "skimage.registration.optical_flow_tvl1\n",
            "    Coarse to fine optical flow estimator.\n",
            "skimage.restoration.inpaint_biharmonic\n",
            "    Inpaint masked points in image with biharmonic equations.\n",
            "skimage.filters.rank.subtract_mean\n",
            "    Return image subtracted from its local mean.\n",
            "skimage.future.graph.cut_threshold\n",
            "    Combine regions separated by weight less than threshold.\n",
            "skimage.transform.downscale_local_mean\n",
            "    Down-sample N-dimensional image by local averaging.\n",
            "skimage.io.ImageCollection.__len__\n",
            "    Number of images in collection.\n",
            "skimage.color.adapt_rgb.each_channel\n",
            "    Return color image by applying `image_filter` on channels of `image`.\n",
            "skimage.metrics.peak_signal_noise_ratio\n",
            "    Compute the peak signal to noise ratio (PSNR) for an image.\n",
            "skimage.filters.rank.geometric_mean\n",
            "    Return local geometric mean of an image.\n",
            "skimage.future.graph.cut_normalized\n",
            "    Perform Normalized Graph cut on the Region Adjacency Graph.\n",
            "skimage.future.graph.rag_mean_color\n",
            "    Compute the Region Adjacency Graph using mean colors.\n",
            "skimage.external.tifffile.TiffWriter\n",
            "    Write image data to TIFF file.\n",
            "skimage.exposure.cumulative_distribution\n",
            "    Return cumulative distribution function (cdf) for the given image.\n",
            "skimage.feature.corner_kitchen_rosenfeld\n",
            "    Compute Kitchen and Rosenfeld corner measure response image.\n",
            "skimage.io.ImageCollection.__init__\n",
            "    Load and manage a collection of images.\n",
            "skimage.io.ImageCollection.__iter__\n",
            "    Iterate over the images.\n",
            "skimage._shared.testing.teardown_test\n",
            "    Default package level teardown routine for skimage tests.\n",
            "skimage.viewer.plugins.PlotPlugin\n",
            "    Plugin for ImageViewer that contains a plot canvas.\n",
            "skimage.future.manual_lasso_segmentation\n",
            "    Return a label image based on freeform selections made with the mouse.\n",
            "skimage.viewer.utils.FigureCanvas\n",
            "    Canvas for displaying images.\n",
            "skimage.morphology.max_tree_local_maxima\n",
            "    Determine all local maxima of the image.\n",
            "skimage.restoration.denoise_tv_chambolle\n",
            "    Perform total-variation denoising on n-dimensional images.\n",
            "skimage.filters.rank.mean_percentile\n",
            "    Return local mean of an image.\n",
            "skimage.transform.pyramids._smooth\n",
            "    Return image with each channel smoothed by the Gaussian filter.\n",
            "skimage.viewer.plugins.CannyPlugin\n",
            "    Canny filter plugin to show edges of an image.\n",
            "skimage.viewer.plugins.LineProfile\n",
            "    Plugin to compute interpolated intensity under a scan line on an image.\n",
            "skimage.viewer.widgets.SaveButtons\n",
            "    Buttons to save image to io.stack or to a file.\n",
            "skimage.filters.rank.enhance_contrast\n",
            "    Enhance contrast of an image.\n",
            "skimage.external.tifffile.TiffSequence\n",
            "    Sequence of image files.\n",
            "skimage.filters.apply_hysteresis_threshold\n",
            "    Apply hysteresis thresholding to ``image``.\n",
            "skimage.viewer.plugins.LabelPainter\n",
            "    Base class for plugins that interact with an ImageViewer.\n",
            "skimage.future.manual_polygon_segmentation\n",
            "    Return a label image based on polygon selections made with the mouse.\n",
            "skimage.draw._draw._coords_inside_image\n",
            "    Return the coordinates inside an image of a given shape.\n",
            "skimage.io.ImageCollection.__getitem__\n",
            "    Return selected image(s) in the collection.\n",
            "skimage.io.ImageCollection.concatenate\n",
            "    Concatenate all images in the collection into an array.\n",
            "skimage.feature.masked_register_translation\n",
            "    Masked image translation registration by masked normalized\n",
            "skimage.viewer.CollectionViewer.show\n",
            "    Show ImageViewer and attached plugins.\n",
            "skimage.viewer.plugins.OverlayPlugin\n",
            "    Plugin for ImageViewer that displays an overlay on top of main image.\n",
            "skimage.viewer.plugins.ColorHistogram\n",
            "    Plugin for ImageViewer that contains a plot canvas.\n",
            "skimage.filters.rank.gradient_percentile\n",
            "    Return local gradient of an image (i.e. local maximum - local minimum).\n",
            "skimage.io.ImageCollection._check_imgnum\n",
            "    Check that the given image number is valid.\n",
            "skimage.viewer.utils.update_axes_image\n",
            "    Update the image displayed by an image plot.\n",
            "skimage.feature.corner_cy._corner_moravec\n",
            "    Compute Moravec corner measure response image.\n",
            "skimage.restoration.uft.image_quad_norm\n",
            "    Return the quadratic norm of images in Fourier space.\n",
            "skimage.viewer.widgets.OKCancelButtons\n",
            "    Buttons that close the parent plugin.\n",
            "skimage.filters.edges._mask_filter_result\n",
            "    Return result after masking.\n",
            "skimage.filters.rank.autolevel_percentile\n",
            "    Return greyscale local autolevel of an image.\n",
            "skimage.filters.rank.threshold_percentile\n",
            "    Local threshold of an image.\n",
            "skimage.feature.Cascade.detect_multi_scale\n",
            "    Search for the object on multiple scales of input image.\n",
            "skimage.viewer.CollectionViewer.__add__\n",
            "    Add plugin to ImageViewer\n",
            "skimage.feature._hog._hog_channel_gradient\n",
            "    Compute unnormalized gradient image along `row` and `col` axes.\n",
            "skimage.segmentation.inverse_gaussian_gradient\n",
            "    Inverse of gradient magnitude.\n",
            "skimage.io._plugins.util.ColorMixer\n",
            "    a class to manage mixing colors in an image.\n",
            "skimage.io._plugins.util.histograms\n",
            "    Calculate the channel histograms of the current image.\n",
            "skimage.feature.util._mask_border_keypoints\n",
            "    Mask coordinates that are within certain distance from the image border.\n",
            "skimage.data.tests.test_data.test_cell\n",
            "    Test that \"cell\" image can be loaded.\n",
            "skimage.data.tests.test_data.test_logo\n",
            "    Test that \"logo\" image can be loaded.\n",
            "skimage.data.tests.test_data.test_moon\n",
            "    Test that \"moon\" image can be loaded.\n",
            "skimage.data.tests.test_data.test_page\n",
            "    Test that \"page\" image can be loaded.\n",
            "skimage.data.tests.test_data.test_text\n",
            "    Test that \"text\" image can be loaded.\n",
            "skimage.viewer.CollectionViewer.open_file\n",
            "    Open image file and display in viewer.\n",
            "skimage.feature._hoghistogram.hog_histograms\n",
            "    Extract Histogram of Oriented Gradients (HOG) for a given image.\n",
            "skimage.viewer.plugins.Crop.attach\n",
            "    Attach the plugin to an ImageViewer.\n",
            "skimage.data.tests.test_data.test_clock\n",
            "    Test that \"clock\" image can be loaded.\n",
            "skimage.data.tests.test_data.test_horse\n",
            "    Test that \"horse\" image can be loaded.\n",
            "skimage.io._plugins.pil_plugin.imread\n",
            "    Load an image from file.\n",
            "skimage.io._plugins.pil_plugin.imsave\n",
            "    Save an image to disk.\n",
            "skimage.morphology._max_tree._direct_filter\n",
            "    Apply a direct filtering.\n",
            "skimage.transform._warps._clip_warp_output\n",
            "    Clip output image to range of values of input image.\n",
            "skimage.io._plugins.fits_plugin.imread\n",
            "    Load an image from a FITS file.\n",
            "skimage.io._plugins.gdal_plugin.imread\n",
            "    Load an image from file.\n",
            "skimage.data.tests.test_data.test_camera\n",
            "    Test that \"camera\" image can be loaded.\n",
            "skimage.filters.rank.subtract_mean_percentile\n",
            "    Return image subtracted from its local mean.\n",
            "skimage.data.tests.test_data.test_coffee\n",
            "    Test that \"coffee\" image can be loaded.\n",
            "skimage.data.tests.test_data.test_hubble\n",
            "    Test that \"Hubble\" image can be loaded.\n",
            "skimage.data.tests.test_data.test_rocket\n",
            "    Test that \"rocket\" image can be loaded.\n",
            "skimage.viewer.plugins.Plugin.attach\n",
            "    Attach the plugin to an ImageViewer.\n",
            "skimage.io._plugins._colormixer.hsv_add\n",
            "    Modify the image color by specifying additive HSV Values.\n",
            "skimage.data.tests.test_data.test_chelsea\n",
            "    Test that \"chelsea\" image can be loaded.\n",
            "skimage.morphology._skeletonize._table_lookup\n",
            "    Perform a morphological transform on an image, directed by its\n",
            "skimage.morphology.extrema._add_constant_clip\n",
            "    Add constant to the image while handling overflow issues gracefully.\n",
            "skimage.feature._haar.haar_like_feature_wrapper\n",
            "    Compute the Haar-like features for a region of interest (ROI) of an\n",
            "skimage.viewer.CollectionViewer.save_to_file\n",
            "    Save current image to file.\n",
            "skimage.viewer.CollectionViewer.update_image\n",
            "    Update displayed image.\n",
            "skimage.viewer.CollectionViewer.update_index\n",
            "    Select image on display using index into image collection.\n",
            "skimage.external.tifffile.TiffWriter.save\n",
            "    Write image data and tags to TIFF file.\n",
            "skimage.viewer.plugins.Measure.attach\n",
            "    Attach the plugin to an ImageViewer.\n",
            "skimage.transform._geometric._to_ndimage_mode\n",
            "    Convert from `numpy.pad` mode name to the corresponding ndimage mode.\n",
            "skimage.morphology._skeletonize.skeletonize_2d\n",
            "    Return the skeleton of a 2D binary image.\n",
            "skimage.external.tifffile.TiffFile.__len__\n",
            "    Return number of image pages in file.\n",
            "skimage.external.tifffile.TiffFile.asarray\n",
            "    Return image data from multiple TIFF pages as numpy array.\n",
            "skimage.segmentation._chan_vese._cv_large_disk\n",
            "    Generates a disk level set function.\n",
            "skimage.segmentation._chan_vese._cv_small_disk\n",
            "    Generates a disk level set function.\n",
            "skimage.filters.rank.enhance_contrast_percentile\n",
            "    Enhance contrast of an image.\n",
            "skimage.data.tests.test_data.test_astronaut\n",
            "    Test that \"astronaut\" image can be loaded.\n",
            "skimage.morphology._watershed.watershed_raveled\n",
            "    Perform watershed algorithm using a raveled image and neighborhood.\n",
            "skimage.io._plugins._colormixer.brightness\n",
            "    Modify the brightness of an image.\n",
            "skimage.io._plugins._histograms.histograms\n",
            "    Calculate the channel histograms of the current image.\n",
            "skimage.io._plugins.tifffile_plugin.imread\n",
            "    Load a tiff image from file.\n",
            "skimage.feature.util.FeatureDetector.detect\n",
            "    Detect keypoints in image.\n",
            "skimage.viewer.plugins.PlotPlugin.attach\n",
            "    Attach the plugin to an ImageViewer.\n",
            "skimage.measure.profile._line_profile_coordinates\n",
            "    Return the coordinates of the profile of an image along a scan line.\n",
            "skimage.filters.ridges.compute_hessian_eigenvalues\n",
            "    Compute Hessian eigenvalues of nD images.\n",
            "skimage.io.tests.test_mpl_imshow.n_subplots\n",
            "    Return the number of subplots in the figure containing an ``AxesImage``.\n",
            "skimage.exposure.tests.test_exposure.peak_snr\n",
            "    Peak signal to noise ratio of two images\n",
            "skimage.viewer.plugins.CannyPlugin.attach\n",
            "    Attach the plugin to an ImageViewer.\n",
            "skimage.viewer.plugins.CannyPlugin.output\n",
            "    Return the overlaid image.\n",
            "skimage.viewer.plugins.LineProfile.attach\n",
            "    Attach the plugin to an ImageViewer.\n",
            "skimage.io._plugins._colormixer.hsv_multiply\n",
            "    Modify the image color by specifying multiplicative HSV Values.\n",
            "skimage.data.tests.test_data.test_checkerboard\n",
            "    Test that \"checkerboard\" image can be loaded.\n",
            "skimage.io._plugins.matplotlib_plugin.imshow\n",
            "    Show the input image and return the current axes.\n",
            "skimage.morphology.extrema._subtract_constant_clip\n",
            "    Subtract constant from image while handling underflow issues.\n",
            "skimage.feature._canny.smooth_with_function_and_mask\n",
            "    Smooth an image with a linear function, ignoring masked pixels.\n",
            "skimage.external.tifffile.TiffFile._lsm_series\n",
            "    Return image series in LSM file.\n",
            "skimage.external.tifffile.TiffFile._nih_series\n",
            "    Return image series in NIH file.\n",
            "skimage.external.tifffile.TiffFile._ome_series\n",
            "    Return image series in OME-TIFF file(s).\n",
            "skimage.external.tifffile.TiffSequence.__str__\n",
            "    Return string with information about image sequence.\n",
            "skimage.external.tifffile.TiffSequence.asarray\n",
            "    Read image data from all files and return as single numpy array.\n",
            "skimage.viewer.plugins.LabelPainter.attach\n",
            "    Attach the plugin to an ImageViewer.\n",
            "skimage.morphology._max_tree._max_tree_local_maxima\n",
            "    Find the local maxima in image from the max-tree representation.\n",
            "skimage.draw.line\n",
            "    Generate line pixel coordinates.\n",
            "skimage.feature._hessian_det_appx._hessian_matrix_det\n",
            "    Computes the approximate Hessian Determinant over an image.\n",
            "skimage.viewer.plugins.OverlayPlugin.attach\n",
            "    Attach the plugin to an ImageViewer.\n",
            "skimage.transform._radon_transform.bilinear_ray_sum\n",
            "    Compute the projection of an image along a ray.\n",
            "skimage.data.brick\n",
            "    Brick wall.\n",
            "skimage.data.clock\n",
            "    Motion blurred clock.\n",
            "skimage.data.grass\n",
            "    Grass.\n",
            "skimage.feature.Cascade._get_contiguous_integral_image\n",
            "    Get a c-contiguous array that represents the integral image.\n",
            "skimage.registration._optical_flow_utils.get_pyramid\n",
            "    Construct image pyramid.\n",
            "skimage.feature.tests.test_corner.test_num_peaks\n",
            "    For a bunch of different values of num_peaks, check that\n",
            "skimage.viewer.plugins.ColorHistogram.attach\n",
            "    Attach the plugin to an ImageViewer.\n",
            "skimage.viewer.plugins.ColorHistogram.output\n",
            "    Return the image mask and the histogram data.\n",
            "skimage.feature.tests.test_template.test_no_nans\n",
            "    Test that `match_template` doesn't return NaN values.\n",
            "skimage.feature.util.DescriptorExtractor.extract\n",
            "    Extract feature descriptors in image for given keypoints.\n",
            "skimage.data.coffee\n",
            "    Coffee cup.\n",
            "skimage.data.gravel\n",
            "    Gravel\n",
            "skimage.data.rocket\n",
            "    Launch photo of DSCOVR on Falcon 9 by SpaceX.\n",
            "skimage.draw.circle\n",
            "    Generate coordinates of pixels within circle.\n",
            "skimage.feature.ORB\n",
            "    Oriented FAST and rotated BRIEF feature detector and binary descriptor\n",
            "skimage.restoration._denoise._denoise_tv_chambolle_nd\n",
            "    Perform total-variation denoising on n-dimensional images.\n",
            "skimage.external.tifffile.TiffFile._imagej_series\n",
            "    Return image series in ImageJ file.\n",
            "skimage.viewer.plugins.CannyPlugin.closeEvent\n",
            "    On close disconnect all artists and events from ImageViewer.\n",
            "skimage.io.tests.test_fits._same_ImageCollection\n",
            "    Ancillary function to compare two ImageCollection objects, checking that\n",
            "skimage.morphology._skeletonize_cy._table_lookup_index\n",
            "    Return an index into a table per pixel of a binary image\n",
            "skimage.data.chelsea\n",
            "    Chelsea the cat.\n",
            "skimage.morphology._util._offsets_to_raveled_neighbors\n",
            "    Compute offsets to a samples neighbors if the image would be raveled.\n",
            "skimage.draw.ellipse\n",
            "    Generate coordinates of pixels within ellipse.\n",
            "skimage.draw.line_aa\n",
            "    Generate anti-aliased line pixel coordinates.\n",
            "skimage.draw.polygon\n",
            "    Generate coordinates of pixels within polygon.\n",
            "skimage.io.load_sift\n",
            "    Read SIFT or SURF features from externally generated file.\n",
            "skimage.io.load_surf\n",
            "    Read SIFT or SURF features from externally generated file.\n",
            "skimage.feature.tests.test_corner.test_rotated_img\n",
            "    The harris filter should yield the same results with an image and it's\n",
            "skimage.segmentation._quickshift_cy._quickshift_cython\n",
            "    Segments image using quickshift clustering in Color-(x,y) space.\n",
            "skimage.io._plugins.fits_plugin.imread_collection\n",
            "    Load a collection of images from one or more FITS files\n",
            "skimage.feature.tests.test_template.test_pad_input\n",
            "    Test `match_template` when `pad_input=True`.\n",
            "skimage.data.tests.test_data.test_stereo_motorcycle\n",
            "    Test that \"stereo_motorcycle\" image can be loaded.\n",
            "skimage.color.hed2rgb\n",
            "    Haematoxylin-Eosin-DAB (HED) to RGB color space conversion.\n",
            "skimage.color.hsv2rgb\n",
            "    HSV to RGB color space conversion.\n",
            "skimage.color.lab2lch\n",
            "    CIE-LAB to CIE-LCH color space conversion.\n",
            "skimage.color.lab2rgb\n",
            "    Lab to RGB color space conversion.\n",
            "skimage.color.lab2xyz\n",
            "    CIE-LAB to XYZcolor space conversion.\n",
            "skimage.color.lch2lab\n",
            "    CIE-LCH to CIE-LAB color space conversion.\n",
            "skimage.color.rgb2hed\n",
            "    RGB to Haematoxylin-Eosin-DAB (HED) color space conversion.\n",
            "skimage.color.rgb2hsv\n",
            "    RGB to HSV color space conversion.\n",
            "skimage.color.rgb2lab\n",
            "    RGB to lab color space conversion.\n",
            "skimage.color.rgb2xyz\n",
            "    RGB to XYZ color space conversion.\n",
            "skimage.color.rgb2yiq\n",
            "    RGB to YIQ color space conversion.\n",
            "skimage.color.rgb2yuv\n",
            "    RGB to YUV color space conversion.\n",
            "skimage.color.xyz2lab\n",
            "    XYZ to CIE-LAB color space conversion.\n",
            "skimage.color.xyz2rgb\n",
            "    XYZ to RGB color space conversion.\n",
            "skimage.color.yiq2rgb\n",
            "    YIQ to RGB color space conversion.\n",
            "skimage.color.yuv2rgb\n",
            "    YUV to RGB color space conversion.\n",
            "skimage.io._plugins.util.ColorMixer.hsv_add\n",
            "    Adjust the H, S, V channels of an image by a constant ammount.\n",
            "skimage.feature.BRIEF\n",
            "    BRIEF binary descriptor extractor.\n",
            "skimage.external.tifffile.TiffFile._fluoview_series\n",
            "    Return image series in FluoView file.\n",
            "skimage.filters.gabor\n",
            "    Return real and imaginary responses to Gabor filter.\n",
            "skimage.filters.sobel\n",
            "    Find the edge magnitude using the Sobel transform.\n",
            "skimage.io.use_plugin\n",
            "    Set the default plugin for a specified operation.  The plugin\n",
            "skimage.measure.label\n",
            "    Label connected regions of an integer array.\n",
            "skimage.viewer.plugins.CannyPlugin.filter_image\n",
            "    Call `image_filter` with widget args and kwargs\n",
            "skimage.color.rgba2rgb\n",
            "    RGBA to RGB conversion.\n",
            "skimage.filters.tests.test_edges.test_laplace_zeros\n",
            "    Laplace on a square image.\n",
            "skimage.draw.rectangle\n",
            "    Generate coordinates of pixels within a rectangle.\n",
            "skimage.filters.scharr\n",
            "    Find the edge magnitude using the Scharr transform.\n",
            "skimage.filters.wiener\n",
            "    Minimum Mean Square Error (Wiener) inverse filter.\n",
            "skimage.measure.ransac\n",
            "    Fit a model to data with the RANSAC (random sample consensus) algorithm.\n",
            "skimage.viewer.plugins.CannyPlugin._on_new_image\n",
            "    Override this method to update your plugin for new images.\n",
            "skimage.viewer.plugins.ColorHistogram.closeEvent\n",
            "    On close disconnect all artists and events from ImageViewer.\n",
            "skimage.segmentation.random_walker_segmentation._buildAB\n",
            "    Build the matrix A and rhs B of the linear system to solve.\n",
            "skimage.color.rgb2ycbcr\n",
            "    RGB to YCbCr color space conversion.\n",
            "skimage.color.rgb2ydbdr\n",
            "    RGB to YDbDr color space conversion.\n",
            "skimage.color.rgb2ypbpr\n",
            "    RGB to YPbPr color space conversion.\n",
            "skimage.transform.frt2\n",
            "    Compute the 2-dimensional finite radon transform (FRT) for an n x n\n",
            "skimage.color.ycbcr2rgb\n",
            "    YCbCr to RGB color space conversion.\n",
            "skimage.color.ydbdr2rgb\n",
            "    YDbDr to RGB color space conversion.\n",
            "skimage.color.ypbpr2rgb\n",
            "    YPbPr to RGB color space conversion.\n",
            "skimage.morphology._skeletonize_3d_cy._compute_thin_image\n",
            "    Compute a thin image.\n",
            "skimage.data.colorwheel\n",
            "    Color Wheel.\n",
            "skimage.data.lfw_subset\n",
            "    Subset of data from the LFW dataset.\n",
            "skimage.data.rough_wall\n",
            "    Rough wall.\n",
            "skimage.feature.CENSURE\n",
            "    CENSURE keypoint detector.\n",
            "skimage.filters.inverse\n",
            "    Apply the filter in reverse to the given data.\n",
            "skimage.filters.prewitt\n",
            "    Find the edge magnitude using the Prewitt transform.\n",
            "skimage.filters.roberts\n",
            "    Find the edge magnitude using Roberts' cross operator.\n",
            "skimage.viewer.plugins.LabelPainter._on_new_image\n",
            "    Update plugin for new images.\n",
            "skimage.data.tests.test_data.test_immunohistochemistry\n",
            "    Test that \"immunohistochemistry\" image can be loaded.\n",
            "skimage.color.rgb2rgbcie\n",
            "    RGB to RGB CIE color space conversion.\n",
            "skimage.transform._geometric._center_and_normalize_points\n",
            "    Center and normalize image points.\n",
            "skimage.color.rgbcie2rgb\n",
            "    RGB CIE to RGB color space conversion.\n",
            "skimage.transform.ifrt2\n",
            "    Compute the 2-dimensional inverse finite radon transform (iFRT) for\n",
            "skimage.io._plugins.util.ColorMixer.brightness\n",
            "    Adjust the brightness off an image with an offset and factor.\n",
            "skimage.transform.swirl\n",
            "    Perform a swirl transformation.\n",
            "skimage.filters.gaussian\n",
            "    Multi-dimensional Gaussian filter.\n",
            "skimage.morphology.flood\n",
            "    Mask corresponding to a flood fill.\n",
            "skimage.io._plugins.matplotlib_plugin.ImageProperties\n",
            "    \n",
            "skimage.io._plugins.matplotlib_plugin._raise_warnings\n",
            "    Raise the appropriate warning for each nonstandard image type.\n",
            "skimage.draw.bezier_curve\n",
            "    Generate Bezier curve coordinates.\n",
            "skimage.draw.polygon2mask\n",
            "    Compute a mask from polygon.\n",
            "skimage.viewer.plugins.ColorHistogram._on_new_image\n",
            "    Override this method to update your plugin for new images.\n",
            "skimage.viewer.tests.test_plugins.test_line_profile\n",
            "    Test a line profile using an ndim=2 image\n",
            "skimage.io._plugins.util.ColorMixer.hsv_multiply\n",
            "    Adjust the H, S, V channels of an image by a constant ammount.\n",
            "skimage.util.regular_grid\n",
            "    Find `n_points` regularly spaced along `ar_shape`.\n",
            "skimage.exposure.tests.test_exposure.norm_brightness_err\n",
            "    Normalized Absolute Mean Brightness Error between two images\n",
            "skimage.restoration.wiener\n",
            "    Wiener-Hunt deconvolution\n",
            "skimage.io._plugins.matplotlib_plugin.imshow_collection\n",
            "    Display all images in the collection.\n",
            "skimage.exposure.tests.test_exposure.test_adapthist_alpha\n",
            "    Test an RGBA color image\n",
            "skimage.exposure.tests.test_exposure.test_adapthist_color\n",
            "    Test an RGB color uint16 image\n",
            "skimage.feature.greycoprops\n",
            "    Calculate texture properties of a GLCM.\n",
            "skimage.feature.shape_index\n",
            "    Compute the shape index.\n",
            "skimage.color.combine_stains\n",
            "    Stain to RGB color space conversion.\n",
            "skimage.io._plugins.matplotlib_plugin._get_display_range\n",
            "    Return the display range for a given set of image properties.\n",
            "skimage.util.view_as_blocks\n",
            "    Block view of the input n-dimensional array (using re-striding).\n",
            "skimage.morphology.tests.test_reconstruction.test_zeros\n",
            "    Test reconstruction with image and mask of zeros\n",
            "skimage.exposure.tests.test_exposure.test_adjust_gamma_one\n",
            "    Same image should be returned for gamma equal to one\n",
            "skimage.feature.greycomatrix\n",
            "    Calculate the grey-level co-occurrence matrix.\n",
            "skimage.feature.plot_matches\n",
            "    Plot matched features.\n",
            "skimage.restoration._nl_means_denoising._nl_means_denoising_2d\n",
            "    Perform non-local means denoising on 2-D RGB image\n",
            "skimage.filters.gabor_kernel\n",
            "    Return complex 2D Gabor filter kernel.\n",
            "skimage.filters.threshold_li\n",
            "    Compute threshold value by Li's iterative Minimum Cross Entropy method.\n",
            "skimage.filters.unsharp_mask\n",
            "    Unsharp masking filter.\n",
            "skimage.filters.rank.pop\n",
            "    Return the local number (population) of pixels.\n",
            "skimage.filters.rank.sum\n",
            "    Return the local sum of pixels.\n",
            "skimage.color.separate_stains\n",
            "    RGB to stain color space conversion.\n",
            "skimage.transform.hough_line\n",
            "    Perform a straight line Hough transform.\n",
            "skimage.util.view_as_windows\n",
            "    Rolling window view of the input n-dimensional array.\n",
            "skimage.draw.circle_perimeter\n",
            "    Generate circle perimeter coordinates.\n",
            "skimage.exposure.tests.test_exposure.test_adjust_gamma_zero\n",
            "    White image should be returned for gamma equal to zero\n",
            "skimage.feature.corner_subpix\n",
            "    Determine subpixel position of corners.\n",
            "skimage.util.tests.test_random_noise.test_singleton_dim\n",
            "    Ensure images where size of a given dimension is 1 work correctly.\n",
            "skimage.filters.threshold_yen\n",
            "    Return threshold value based on Yen's method.\n",
            "skimage.viewer.plugins.CannyPlugin.remove_image_artists\n",
            "    Remove artists that are connected to the image viewer.\n",
            "skimage.filters.rank.otsu\n",
            "    Local Otsu's threshold value for each pixel.\n",
            "skimage.viewer.tests.test_plugins.test_line_profile_rgb\n",
            "    Test a line profile using an ndim=3 image\n",
            "skimage.data.hubble_deep_field\n",
            "    Hubble eXtreme Deep Field.\n",
            "skimage.draw.ellipse_perimeter\n",
            "    Generate ellipse perimeter coordinates.\n",
            "skimage.draw.polygon_perimeter\n",
            "    Generate polygon perimeter coordinates.\n",
            "skimage.feature.ORB.detect\n",
            "    Detect oriented FAST keypoints along with the corresponding scale.\n",
            "skimage.feature.hessian_matrix\n",
            "    Compute Hessian matrix.\n",
            "skimage.feature.multiblock_lbp\n",
            "    Multi-block local binary pattern (MB-LBP).\n",
            "skimage.restoration._denoise._scale_sigma_and_image_consistently\n",
            "    If the ``image`` is rescaled, also rescale ``sigma`` consistently.\n",
            "skimage.filters.threshold_mean\n",
            "    Return threshold value based on the mean of grayscale values.\n",
            "skimage.filters.threshold_otsu\n",
            "    Return threshold value based on Otsu's method.\n",
            "skimage.feature.tests.test_canny.TestCanny.test_dtype\n",
            "    Check that the same output is produced regardless of image dtype.\n",
            "skimage.restoration.cycle_spin\n",
            "    Cycle spinning (repeatedly apply func to shifted versions of x).\n",
            "skimage.draw._draw._polygon\n",
            "    Generate coordinates of pixels within polygon.\n",
            "skimage.segmentation.chan_vese\n",
            "    Chan-Vese segmentation algorithm.\n",
            "skimage.io._plugins.matplotlib_plugin._get_image_properties\n",
            "    Determine nonstandard properties of an input image.\n",
            "skimage.io.tests.test_collection.test_imagecollection_input\n",
            "    Test function for ImageCollection. The new behavior (implemented\n",
            "skimage.transform.hough_circle\n",
            "    Perform a circular Hough transform.\n",
            "skimage.exposure.tests.test_exposure.test_adapthist_grayscale\n",
            "    Test a grayscale float image\n",
            "skimage.external.tifffile.TiffWriter._write_image_description\n",
            "    Write meta data to image_description tag.\n",
            "skimage.viewer.plugins.CannyPlugin._update_original_image\n",
            "    Update the original image argument passed to the filter function.\n",
            "skimage.viewer.plugins.CannyPlugin.display_filtered_image\n",
            "    Display filtered image as an overlay on top of image in viewer.\n",
            "skimage.morphology.local_maxima\n",
            "    Find local maxima of n-dimensional array.\n",
            "skimage.morphology.local_minima\n",
            "    Find local minima of n-dimensional array.\n",
            "skimage.filters.edges.farid\n",
            "    Find the edge magnitude using the Farid transform.\n",
            "skimage.transform.hough_ellipse\n",
            "    Perform an elliptical Hough transform.\n",
            "skimage.data.shepp_logan_phantom\n",
            "    Shepp Logan Phantom.\n",
            "skimage.draw.circle_perimeter_aa\n",
            "    Generate anti-aliased circle perimeter coordinates.\n",
            "skimage.draw.rectangle_perimeter\n",
            "    Generate coordinates of pixels that are exactly around a rectangle.\n",
            "skimage.feature.structure_tensor\n",
            "    Compute structure tensor using sum of squared differences.\n",
            "skimage.restoration.tests.test_restoration.test_image_shape\n",
            "    Test that shape of output image in deconvolution is same as input.\n",
            "skimage.filters.rank.entropy\n",
            "    Local entropy.\n",
            "skimage.data.immunohistochemistry\n",
            "    Immunohistochemical (IHC) staining with hematoxylin counterstaining.\n",
            "skimage.exposure.tests.test_exposure.test_equalize_uint8_approx\n",
            "    Check integer bins used for uint8 images.\n",
            "skimage.feature.match_descriptors\n",
            "    Brute-force matching of descriptors.\n",
            "skimage.filters.threshold_isodata\n",
            "    Return threshold value(s) based on ISODATA method.\n",
            "skimage.filters.threshold_sauvola\n",
            "    Applies Sauvola local threshold to an array. Sauvola is a\n",
            "skimage.filters.try_all_threshold\n",
            "    Returns a figure comparing the outputs of different thresholding methods.\n",
            "skimage.graph.route_through_array\n",
            "    Simple example of how to use the MCP and MCP_Geometric classes.\n",
            "skimage.measure.mesh_surface_area\n",
            "    Compute surface area, given vertices & triangular faces\n",
            "skimage.metrics.contingency_table\n",
            "    Return the contingency table for all regions in matched segmentations.\n",
            "skimage.filters.rank.majority\n",
            "    Majority filter assign to each pixel the most occuring value within\n",
            "skimage.viewer.tests.test_plugins.test_line_profile_dynamic\n",
            "    Test a line profile updating after an image transform\n",
            "skimage.feature.CENSURE.detect\n",
            "    Detect CENSURE keypoints along with the corresponding scale.\n",
            "skimage.color.colorconv.luv2rgb\n",
            "    Luv to RGB color space conversion.\n",
            "skimage.color.colorconv.luv2xyz\n",
            "    CIE-Luv to XYZ color space conversion.\n",
            "skimage.color.colorconv.rgb2luv\n",
            "    RGB to CIE-Luv color space conversion.\n",
            "skimage.filters.threshold_triangle\n",
            "    Return threshold value based on the triangle algorithm.\n",
            "skimage.color.colorconv.xyz2luv\n",
            "    XYZ to CIE-Luv color space conversion.\n",
            "skimage.metrics.adapted_rand_error\n",
            "    Compute Adapted Rand error as defined by the SNEMI3D contest. [1]_\n",
            "skimage.viewer.plugins.ColorHistogram._update_original_image\n",
            "    Update the original image argument passed to the filter function.\n",
            "skimage.viewer.plugins.ColorHistogram.display_filtered_image\n",
            "    Display the filtered image on image viewer.\n",
            "skimage.segmentation.random_walker_segmentation._make_graph_edges_3d\n",
            "    Returns a list of edges for a 3D image.\n",
            "skimage.restoration.estimate_sigma\n",
            "    Robust wavelet-based estimator of the (Gaussian) noise standard deviation.\n",
            "skimage.segmentation.random_walker\n",
            "    Random walker algorithm for segmentation from markers.\n",
            "skimage.transform.hough_line_peaks\n",
            "    Return peaks in a straight line Hough transform.\n",
            "skimage.exposure.equalize_adapthist\n",
            "    Contrast Limited Adaptive Histogram Equalization (CLAHE).\n",
            "skimage.feature.corner_orientations\n",
            "    Compute the orientation of corners.\n",
            "skimage.feature.draw_multiblock_lbp\n",
            "    Multi-block local binary pattern visualization.\n",
            "skimage.draw._draw._bezier_curve\n",
            "    Generate Bezier curve coordinates.\n",
            "skimage.restoration.richardson_lucy\n",
            "    Richardson-Lucy deconvolution.\n",
            "skimage.feature.local_binary_pattern\n",
            "    Gray scale and rotation invariant LBP (Local Binary Patterns).\n",
            "skimage.segmentation.find_boundaries\n",
            "    Return bool array where boundaries between labeled regions are True.\n",
            "skimage.io._plugins.matplotlib_plugin.ImageProperties._make\n",
            "    Make a new ImageProperties object from a sequence or iterable\n",
            "skimage.transform.estimate_transform\n",
            "    Estimate 2D geometric transformation parameters.\n",
            "skimage.transform.hough_circle_peaks\n",
            "    Return peaks in a circle Hough transform.\n",
            "skimage.feature.tests.test_brief.test_color_image_unsupported_error\n",
            "    Brief descriptors can be evaluated on gray-scale images only.\n",
            "skimage.morphology.remove_small_holes\n",
            "    Remove contiguous holes smaller than the specified size.\n",
            "skimage.filters.rank.noise_filter\n",
            "    Noise feature.\n",
            "skimage.segmentation.circle_level_set\n",
            "    Create a circle level set with binary values.\n",
            "skimage.filters.ridges._sortbyabs\n",
            "    Sort array along a given axis by absolute values.\n",
            "skimage.exposure._adapthist._clahe\n",
            "    Contrast Limited Adaptive Histogram Equalization.\n",
            "skimage.morphology.selem.ellipse\n",
            "    Generates a flat, ellipse-shaped structuring element.\n",
            "skimage.feature.draw_haar_like_feature\n",
            "    Visualization of Haar-like features.\n",
            "skimage.feature.hessian_matrix_eigvals\n",
            "    Compute Eigenvalues of Hessian matrix.\n",
            "skimage.restoration.tests.test_denoise.test_denoise_bilateral_pad\n",
            "    This test checks if the bilateral filter is returning an image\n",
            "skimage.measure.marching_cubes_classic\n",
            "    Classic marching cubes algorithm to find surfaces in 3d volumetric data.\n",
            "skimage.measure.marching_cubes_lewiner\n",
            "    Lewiner marching cubes algorithm to find surfaces in 3d volumetric data.\n",
            "skimage.filters.lpi_filter.forward\n",
            "    Apply the given filter to data.\n",
            "skimage.restoration.denoise_tv_bregman\n",
            "    Perform total-variation denoising using split-Bregman optimization.\n",
            "skimage.filters.rank.pop_bilateral\n",
            "    Return the local number (population) of pixels.\n",
            "skimage.filters.rank.sum_bilateral\n",
            "    Apply a flat kernel bilateral filter.\n",
            "skimage.draw.draw._ellipse_in_shape\n",
            "    Generate coordinates of points within ellipse bounded by shape.\n",
            "skimage.io._plugins.matplotlib_plugin.ImageProperties.__new__\n",
            "    \n",
            "skimage.feature.haar_like_feature_coord\n",
            "    Compute the coordinates of Haar-like features.\n",
            "skimage.feature._texture._glcm_loop\n",
            "    Perform co-occurrence matrix accumulation.\n",
            "skimage.feature.tests.test_censure.test_censure_on_rectangular_images\n",
            "    Censure feature detector should work on 2D image of any shape.\n",
            "skimage.morphology.remove_small_objects\n",
            "    Remove objects smaller than the specified size.\n",
            "skimage.draw._draw._circle_perimeter\n",
            "    Generate circle perimeter coordinates.\n",
            "skimage.filters.rank.mean_bilateral\n",
            "    Apply a flat kernel bilateral filter.\n",
            "skimage.restoration.unsupervised_wiener\n",
            "    Unsupervised Wiener-Hunt deconvolution.\n",
            "skimage.filters.rank.pop_percentile\n",
            "    Return the local number (population) of pixels.\n",
            "skimage.filters.rank.sum_percentile\n",
            "    Return the local sum of pixels.\n",
            "skimage.segmentation.join_segmentations\n",
            "    Return the join of the two input segmentations.\n",
            "skimage.segmentation.relabel_sequential\n",
            "    Relabel arbitrary labels to {`offset`, ... `offset` + number_of_labels}.\n",
            "skimage.io._plugins.matplotlib_plugin.ImageProperties._replace\n",
            "    Return a new ImageProperties object replacing specified fields with new values\n",
            "skimage.morphology.tests.test_reconstruction.test_image_equals_mask\n",
            "    Test reconstruction where the image and mask are the same\n",
            "skimage.feature.structure_tensor_eigvals\n",
            "    Compute Eigen values of structure tensor.\n",
            "skimage.restoration.tests.test_denoise.test_denoise_tv_chambolle_3d\n",
            "    Apply the TV denoising algorithm on a 3D image representing a sphere.\n",
            "skimage.metrics.variation_of_information\n",
            "    Return symmetric conditional entropies associated with the VI. [1]_\n",
            "skimage.draw._draw._ellipse_perimeter\n",
            "    Generate ellipse perimeter coordinates.\n",
            "skimage.feature.peak._prominent_peaks\n",
            "    Return peaks with non-maximum suppression.\n",
            "skimage.feature.tests.test_canny.TestCanny.test_00_01_zeros_mask\n",
            "    Test that the Canny filter finds no points in a masked image\n",
            "skimage.transform._warps._stackcopy\n",
            "    Copy b into each color layer of a, such that::\n",
            "skimage.morphology.extrema._fast_pad\n",
            "    Pad an array on all axes with one constant value.\n",
            "skimage.morphology.tests.test_reconstruction.test_zero_image_one_mask\n",
            "    Test reconstruction with an image of all zeros and a mask that's not\n",
            "skimage.feature.ORB.detect_and_extract\n",
            "    Detect oriented FAST keypoints and extract rBRIEF descriptors.\n",
            "skimage.viewer.canvastools.LineTool\n",
            "    Widget for line selection in a plot.\n",
            "skimage.restoration.tests.test_denoise.test_wavelet_denoising_scaling\n",
            "    Test cases for images without prescaling via img_as_float.\n",
            "skimage.viewer.utils.LinearColormap\n",
            "    LinearSegmentedColormap in which color varies smoothly.\n",
            "skimage.morphology.tests.test_extrema.TestLocalMaxima.test_empty\n",
            "    Test result with empty image.\n",
            "skimage.draw._draw._circle_perimeter_aa\n",
            "    Generate anti-aliased circle perimeter coordinates.\n",
            "skimage.transform.EssentialMatrixTransform\n",
            "    Essential matrix transformation.\n",
            "skimage.exposure._adapthist.interpolate\n",
            "    Find the new grayscale level for a region using bilinear interpolation.\n",
            "skimage.transform.probabilistic_hough_line\n",
            "    Return lines from a progressive probabilistic line Hough transform.\n",
            "skimage.morphology.tests.test_reconstruction.test_image_less_than_mask\n",
            "    Test reconstruction where the image is uniform and less than mask\n",
            "skimage.morphology.misc.default_selem\n",
            "    Decorator to add a default structuring element to morphology functions.\n",
            "skimage._shared._tempfile.temporary_file\n",
            "    Yield a writeable temporary filename that is deleted on context exit.\n",
            "skimage.viewer.canvastools.PaintTool\n",
            "    Widget for painting on top of a plot.\n",
            "skimage.filters.rank.windowed_histogram\n",
            "    Normalized sliding window histogram\n",
            "skimage.segmentation.checkerboard_level_set\n",
            "    Create a checkerboard level set with binary values.\n",
            "skimage.morphology._max_tree._max_tree\n",
            "    Build a max-tree.\n",
            "skimage.feature._texture._multiblock_lbp\n",
            "    Multi-block local binary pattern (MB-LBP) [1]_.\n",
            "skimage.segmentation.morphological_chan_vese\n",
            "    Morphological Active Contours without Edges (MorphACWE)\n",
            "skimage.transform.FundamentalMatrixTransform\n",
            "    Fundamental matrix transformation.\n",
            "skimage.transform._warps_cy._warp_fast\n",
            "    Projective transformation (homography).\n",
            "skimage.morphology.selem._default_selem\n",
            "    Generates a cross-shaped structuring element (connectivity=1).\n",
            "skimage.morphology.tests.test_extrema.TestLocalMaxima.test_constant\n",
            "    Test behaviour for 'flat' images.\n",
            "skimage.segmentation._slic._slic_cython\n",
            "    Helper function for SLIC segmentation.\n",
            "skimage._shared._warnings.expected_warnings\n",
            "    Context for use in testing to catch known warnings matching regexes\n",
            "skimage.registration._optical_flow._tvl1\n",
            "    TV-L1 solver for optical flow estimation.\n",
            "skimage.io._plugins._colormixer.add\n",
            "    Add a given amount to a color channel of `stateimg`, and\n",
            "skimage.viewer.canvastools.RectangleTool\n",
            "    Widget for selecting a rectangular region in a plot.\n",
            "skimage.viewer.canvastools.ThickLineTool\n",
            "    Widget for line selection in a plot.\n",
            "skimage.feature.corner._compute_derivatives\n",
            "    Compute derivatives in x and y direction using the Sobel operator.\n",
            "skimage.future.graph._ncut.ncut_cost\n",
            "    Returns the N-cut cost of a bi-partition of a graph.\n",
            "skimage.feature.corner._hessian_matrix_image\n",
            "    Convert the upper-diagonal elements of the Hessian matrix to a matrix.\n",
            "skimage.feature.tests.test_canny.TestCanny.test_01_02_circle_with_noise\n",
            "    Test that the Canny filter finds the circle outlines\n",
            "skimage.morphology.tests.test_watershed.TestWatershed.test_watershed09\n",
            "    Test on an image of reasonable size\n",
            "skimage.viewer.plugins.Crop.output\n",
            "    Return the plugin's representation and data.\n",
            "skimage.restoration._denoise._sigma_est_dwt\n",
            "    Calculate the robust median estimator of the noise standard deviation.\n",
            "skimage.morphology._extrema_cy._local_maxima\n",
            "    Detect local maxima in n-dimensional array.\n",
            "skimage.transform._warps._log_polar_mapping\n",
            "    Inverse mapping function to convert from cartesion to polar coordinates\n",
            "skimage.feature._texture._local_binary_pattern\n",
            "    Gray scale and rotation invariant LBP (Local Binary Patterns).\n",
            "skimage.feature.corner_cy._corner_orientations\n",
            "    Compute the orientation of corners.\n",
            "skimage.morphology.tests.test_extrema.TestLocalMaxima.test_allow_borders\n",
            "    Test maxima detection at the image border.\n",
            "skimage.morphology._convex_hull.possible_hull\n",
            "    Return positions of pixels that possibly belong to the convex hull.\n",
            "skimage.feature.tests.test_match.test_binary_descriptors_rotation_crosscheck_true\n",
            "    Verify matched keypoints and their corresponding masks results between\n",
            "skimage.io._plugins._colormixer.multiply\n",
            "    Multiply a color channel of `stateimg` by a certain amount, and\n",
            "skimage.feature.tests.test_match.test_binary_descriptors_rotation_crosscheck_false\n",
            "    Verify matched keypoints and their corresponding masks results between\n",
            "skimage.draw._random_shapes._generate_circle_mask\n",
            "    Generate a mask for a filled circle shape.\n",
            "skimage.transform._hough_transform._hough_line\n",
            "    Perform a straight line Hough transform.\n",
            "skimage.transform._warps._linear_polar_mapping\n",
            "    Inverse mapping function to convert from cartesion to polar coordinates\n",
            "skimage.morphology._util._validate_connectivity\n",
            "    Convert any valid connectivity to a structuring element and offset.\n",
            "skimage.external.tifffile.TiffFile.__init__\n",
            "    Initialize instance from file.\n",
            "skimage.restoration._denoise._compute_color_lut\n",
            "    Helping function. Define a lookup table containing Gaussian filter\n",
            "skimage.restoration._denoise._wavelet_threshold\n",
            "    Perform wavelet thresholding.\n",
            "skimage.draw._random_shapes._generate_random_colors\n",
            "    Generate an array of random colors.\n",
            "skimage.draw._random_shapes._generate_triangle_mask\n",
            "    Generate a mask for a filled equilateral triangle shape.\n",
            "skimage.transform._hough_transform._hough_circle\n",
            "    Perform a circular Hough transform.\n",
            "skimage.external.tifffile.TiffWriter.__init__\n",
            "    Open a TIFF file for writing.\n",
            "skimage.viewer.plugins.LineProfile.output\n",
            "    Return the drawn line and the resulting scan.\n",
            "skimage.draw._random_shapes._generate_rectangle_mask\n",
            "    Generate a mask for a filled rectangle shape.\n",
            "skimage.io._plugins.util.prepare_for_display\n",
            "    Convert a 2D or 3D numpy array of any dtype into a\n",
            "skimage.transform._hough_transform._hough_ellipse\n",
            "    Perform an elliptical Hough transform.\n",
            "skimage.transform.EssentialMatrixTransform.inverse\n",
            "    Apply inverse transformation.\n",
            "skimage.morphology._flood_fill_cy._flood_fill_equal\n",
            "    Find connected areas to fill, requiring strict equality.\n",
            "skimage.io.tests.test_io._named_tempfile_func\n",
            "    Create a mock function for NamedTemporaryFile that always raises.\n",
            "skimage.morphology.extrema._set_edge_values_inplace\n",
            "    Set edge values along all axes to a constant value.\n",
            "skimage.external.tifffile.TiffSequence.__init__\n",
            "    Initialize instance from multiple files.\n",
            "skimage.feature.tests.test_censure.test_keypoints_censure_color_image_unsupported_error\n",
            "    Censure keypoints can be extracted from gray-scale images only.\n",
            "skimage.transform.EssentialMatrixTransform.__call__\n",
            "    Apply forward transformation.\n",
            "skimage.morphology._skeletonize_cy._fast_skeletonize\n",
            "    Optimized parts of the Zhang-Suen [1]_ skeletonization.\n",
            "skimage.morphology._skeletonize_cy._skeletonize_loop\n",
            "    Inner loop of skeletonize function\n",
            "skimage.segmentation.morphological_geodesic_active_contour\n",
            "    Morphological Geodesic Active Contours (MorphGAC).\n",
            "skimage.viewer.canvastools.base.CanvasToolBase\n",
            "    Base canvas tool for matplotlib axes.\n",
            "skimage.morphology._flood_fill_cy._flood_fill_tolerance\n",
            "    Find connected areas to fill, within a tolerance.\n",
            "skimage.transform._radon_transform.bilinear_ray_update\n",
            "    Compute the update along a ray using bilinear interpolation.\n",
            "skimage.registration._optical_flow_utils.coarse_to_fine\n",
            "    Generic coarse to fine solver.\n",
            "skimage.viewer.plugins.CannyPlugin.update_plugin\n",
            "    Update keyword parameters of the plugin itself.\n",
            "skimage.feature.tests.test_masked_register_translation.test_masked_registration_random_masks\n",
            "    masked_register_translation should be able to register translations\n",
            "skimage.segmentation.boundaries._find_boundaries_subpixel\n",
            "    Notes\n",
            "skimage.transform._radon_transform.sart_projection_update\n",
            "    Compute update to a reconstruction estimate from a single projection\n",
            "skimage.exposure.tests.test_histogram_matching.TestMatchHistogram.test_match_histograms\n",
            "    Assert that pdf of matched image is close to the reference's pdf for\n",
            "skimage.segmentation._felzenszwalb_cy._felzenszwalb_cython\n",
            "    Felzenszwalb's efficient graph based segmentation for\n",
            "skimage.transform._hough_transform._probabilistic_hough_line\n",
            "    Return lines from a progressive probabilistic line Hough transform.\n",
            "skimage.restoration._nl_means_denoising._nl_means_denoising_3d\n",
            "    Perform non-local means denoising on 3-D array\n",
            "skimage.measure._marching_cubes_classic._correct_mesh_orientation\n",
            "    Correct orientations of mesh faces.\n",
            "skimage.restoration._nl_means_denoising._fast_nl_means_denoising_2d\n",
            "    Perform fast non-local means denoising on 2-D array, with the outer\n",
            "skimage.restoration._nl_means_denoising._fast_nl_means_denoising_3d\n",
            "    Perform fast non-local means denoising on 3-D array, with the outer\n",
            "skimage.exposure.tests.test_histogram_matching.TestMatchHistogram._calculate_image_empirical_pdf\n",
            "    Helper function for calculating empirical probability density\n",
            "skimage.feature.tests.test_masked_register_translation.test_masked_registration_random_masks_non_equal_sizes\n",
            "    masked_register_translation should be able to register\n",
            "skimage.viewer.canvastools.RectangleTool._shape_klass.set_snap\n",
            "    Set the snapping behavior.\n",
            "skimage.viewer.canvastools.RectangleTool._shape_klass.get_cursor_data\n",
            "    Return the cursor data for a given event."
          ],
          "name": "stdout"
        }
      ]
    },
    {
      "cell_type": "code",
      "metadata": {
        "colab": {
          "base_uri": "https://localhost:8080/"
        },
        "id": "KUCJQC_m5StQ",
        "outputId": "ee8689c2-4cd5-4082-c9ed-05c0d3f051a7"
      },
      "source": [
        "skimage.io.imread('dog.jpg')  #array -> Numpy array"
      ],
      "execution_count": null,
      "outputs": [
        {
          "output_type": "execute_result",
          "data": {
            "text/plain": [
              "array([[[231, 232, 237],\n",
              "        [231, 232, 237],\n",
              "        [232, 233, 238],\n",
              "        ..., \n",
              "        [222, 222, 222],\n",
              "        [222, 222, 222],\n",
              "        [222, 222, 222]],\n",
              "\n",
              "       [[231, 232, 237],\n",
              "        [231, 232, 237],\n",
              "        [232, 233, 238],\n",
              "        ..., \n",
              "        [222, 222, 222],\n",
              "        [222, 222, 222],\n",
              "        [222, 222, 222]],\n",
              "\n",
              "       [[231, 232, 237],\n",
              "        [231, 232, 237],\n",
              "        [232, 233, 238],\n",
              "        ..., \n",
              "        [222, 222, 222],\n",
              "        [222, 222, 222],\n",
              "        [222, 222, 222]],\n",
              "\n",
              "       ..., \n",
              "       [[242, 245, 252],\n",
              "        [242, 245, 252],\n",
              "        [242, 245, 252],\n",
              "        ..., \n",
              "        [226, 231, 237],\n",
              "        [226, 231, 237],\n",
              "        [226, 231, 237]],\n",
              "\n",
              "       [[242, 245, 252],\n",
              "        [242, 245, 252],\n",
              "        [241, 244, 251],\n",
              "        ..., \n",
              "        [226, 231, 237],\n",
              "        [226, 231, 237],\n",
              "        [226, 231, 237]],\n",
              "\n",
              "       [[241, 244, 251],\n",
              "        [241, 244, 251],\n",
              "        [241, 244, 251],\n",
              "        ..., \n",
              "        [226, 231, 237],\n",
              "        [226, 231, 237],\n",
              "        [225, 230, 236]]], dtype=uint8)"
            ]
          },
          "metadata": {
            "tags": []
          },
          "execution_count": 100
        }
      ]
    },
    {
      "cell_type": "code",
      "metadata": {
        "id": "78hlJFiK5j7W"
      },
      "source": [
        "from skimage import data"
      ],
      "execution_count": null,
      "outputs": []
    },
    {
      "cell_type": "code",
      "metadata": {
        "colab": {
          "base_uri": "https://localhost:8080/"
        },
        "id": "ANoCPyUu5vau",
        "outputId": "21ca8851-b3ad-495f-bab4-9ff2571d5b41"
      },
      "source": [
        "dir(data) #skimage 연습용 데이터 세트들"
      ],
      "execution_count": null,
      "outputs": [
        {
          "output_type": "execute_result",
          "data": {
            "text/plain": [
              "['__all__',\n",
              " '__builtins__',\n",
              " '__cached__',\n",
              " '__doc__',\n",
              " '__file__',\n",
              " '__loader__',\n",
              " '__name__',\n",
              " '__package__',\n",
              " '__path__',\n",
              " '__spec__',\n",
              " '_binary_blobs',\n",
              " '_detect',\n",
              " '_load',\n",
              " '_np',\n",
              " '_os',\n",
              " 'astronaut',\n",
              " 'binary_blobs',\n",
              " 'brick',\n",
              " 'camera',\n",
              " 'cell',\n",
              " 'checkerboard',\n",
              " 'chelsea',\n",
              " 'clock',\n",
              " 'coffee',\n",
              " 'coins',\n",
              " 'colorwheel',\n",
              " 'data_dir',\n",
              " 'grass',\n",
              " 'gravel',\n",
              " 'horse',\n",
              " 'hubble_deep_field',\n",
              " 'img_as_bool',\n",
              " 'immunohistochemistry',\n",
              " 'lbp_frontal_face_cascade_filename',\n",
              " 'lfw_subset',\n",
              " 'load',\n",
              " 'logo',\n",
              " 'microaneurysms',\n",
              " 'moon',\n",
              " 'osp',\n",
              " 'page',\n",
              " 'retina',\n",
              " 'rocket',\n",
              " 'rough_wall',\n",
              " 'shepp_logan_phantom',\n",
              " 'stereo_motorcycle',\n",
              " 'tests',\n",
              " 'text',\n",
              " 'warn']"
            ]
          },
          "metadata": {
            "tags": []
          },
          "execution_count": 102
        }
      ]
    },
    {
      "cell_type": "code",
      "metadata": {
        "colab": {
          "base_uri": "https://localhost:8080/"
        },
        "id": "1iIcb6af5w6d",
        "outputId": "d4dc5288-9be6-4f9f-b711-ab1886fee19c"
      },
      "source": [
        "data.coffee #커피 데이터 세트"
      ],
      "execution_count": null,
      "outputs": [
        {
          "output_type": "execute_result",
          "data": {
            "text/plain": [
              "<function skimage.data.coffee>"
            ]
          },
          "metadata": {
            "tags": []
          },
          "execution_count": 103
        }
      ]
    }
  ]
}