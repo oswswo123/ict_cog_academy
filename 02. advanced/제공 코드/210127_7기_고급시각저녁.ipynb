{
  "nbformat": 4,
  "nbformat_minor": 0,
  "metadata": {
    "colab": {
      "name": "202127_7기_고급시각저녁반",
      "provenance": [],
      "collapsed_sections": [],
      "toc_visible": true
    },
    "kernelspec": {
      "name": "python3",
      "display_name": "Python 3"
    }
  },
  "cells": [
    {
      "cell_type": "markdown",
      "metadata": {
        "id": "A7xD_xskKDON"
      },
      "source": [
        "# [ICTCOG AI Academy] 7기 고급시각저녁반\r\n",
        "#  영상 처리/딥러닝을 위한 고급 파이썬 - 객체지향 패러다임 (1)\r\n",
        "\r\n",
        "- 기계학습/딥러닝을 위한 중급 파이썬 - 필수적인 기법\r\n",
        "\r\n",
        "\r\n",
        "#### 1. 함수형 패러다임(프로그래밍)\r\n",
        "  - **재사용** \r\n",
        "    - 행위\r\n",
        "    >   - 재사용 안하는 객체 :  metaclass\r\n",
        "  - 유지보수 용이\r\n",
        "  - 간결성\r\n",
        "  - 생산성\r\n",
        "  - 재사용성\r\n",
        "  - 이론과 실제의 간극을 줄임\r\n",
        "  - 재귀\r\n",
        "    - [함수형 프로그래밍 복습 Python HOW TO](https://docs.python.org/ko/3/howto/functional.html)\r\n",
        "\r\n",
        "\r\n",
        "#### 2. 객체지향 패러다임\r\n",
        "  - 선언/정의를 통해서 객체 = **재사용** \r\n",
        "    -  데이터, 행위 재사용\r\n",
        "    - **파이썬은 기본적으로 데이터는 접근 가능하며 descriptor로 제한**\r\n",
        "      - 다른 프로그래밍 언어에서는 Public, Private, Protected, package, default 등으로 제한함\r\n",
        "    > We're all consenting adults  : 책임을 질 수 있는 어른이다. \r\n",
        "\r\n",
        "\r\n",
        "- 명령형 프로그래밍 - 절차에 따라 순차적인 프로그래밍\r\n",
        "  - OOP\r\n",
        "- 선언형 프로그래밍 - 조합으로 프로그래밍\r\n",
        "  - FP\r\n",
        "\r\n",
        "\r\n",
        "참고 : https://docs.python.org/ko/3/tutorial/classes.html\r\n"
      ]
    },
    {
      "cell_type": "code",
      "metadata": {
        "id": "qvaEqNO5KBdZ"
      },
      "source": [
        "import antigravity #Python 관련 만화가 있는 링크로 이동"
      ],
      "execution_count": null,
      "outputs": []
    },
    {
      "cell_type": "code",
      "metadata": {
        "colab": {
          "base_uri": "https://localhost:8080/"
        },
        "id": "VudKTy9KKb6l",
        "outputId": "510e7afa-9ddb-428b-fce1-9dbcf30f16e6"
      },
      "source": [
        "import this "
      ],
      "execution_count": null,
      "outputs": [
        {
          "output_type": "stream",
          "text": [
            "The Zen of Python, by Tim Peters\n",
            "\n",
            "Beautiful is better than ugly.\n",
            "Explicit is better than implicit.\n",
            "Simple is better than complex.\n",
            "Complex is better than complicated.\n",
            "Flat is better than nested.\n",
            "Sparse is better than dense.\n",
            "Readability counts.\n",
            "Special cases aren't special enough to break the rules.\n",
            "Although practicality beats purity.\n",
            "Errors should never pass silently.\n",
            "Unless explicitly silenced.\n",
            "In the face of ambiguity, refuse the temptation to guess.\n",
            "There should be one-- and preferably only one --obvious way to do it.\n",
            "Although that way may not be obvious at first unless you're Dutch.\n",
            "Now is better than never.\n",
            "Although never is often better than *right* now.\n",
            "If the implementation is hard to explain, it's a bad idea.\n",
            "If the implementation is easy to explain, it may be a good idea.\n",
            "Namespaces are one honking great idea -- let's do more of those!\n"
          ],
          "name": "stdout"
        }
      ]
    },
    {
      "cell_type": "markdown",
      "metadata": {
        "id": "IG1RMlIKMVsl"
      },
      "source": [
        "> Although that way may not be obvious at first unless you're Dutch.\r\n",
        "네덜란드인(파이썬 창시자 귀도반로썸)이 아니라면 처음볼때 명백하지 않을 수 있다. (한번에 이해 어려움)\r\n"
      ]
    },
    {
      "cell_type": "markdown",
      "metadata": {
        "id": "SCxmbulnNol-"
      },
      "source": [
        "\r\n",
        "####  명명규칙\r\n",
        "PEP8 \r\n",
        "\r\n",
        "- 이름을 통해서 프로토콜이 만들어져 의사소통이 가능\r\n",
        "- 생산성 향상\r\n",
        "\r\n",
        "- 함수 : snake 방식 \r\n",
        "  - load_boston\r\n",
        "- class: \r\n",
        "  - camel \r\n",
        "    - \r\n",
        "  - capsword/pascal 방식\r\n",
        "\r\n"
      ]
    },
    {
      "cell_type": "code",
      "metadata": {
        "id": "PJQWOmY_Kb9q"
      },
      "source": [
        "from sklearn.datasets import load_boston  #snake  -> 함수"
      ],
      "execution_count": null,
      "outputs": []
    },
    {
      "cell_type": "code",
      "metadata": {
        "id": "Uy7hz288Kb_l"
      },
      "source": [
        "from sklearn.neighbors import KNeighborsClassifier # 클래스"
      ],
      "execution_count": null,
      "outputs": []
    },
    {
      "cell_type": "markdown",
      "metadata": {
        "id": "X7-eGEx4Rn8P"
      },
      "source": [
        "### Class\r\n",
        "- class 에 object 가 생략되어 있음\r\n",
        "- 객체지향 4가지 기본 개념\r\n",
        "  - encapsulation\r\n",
        "  - inheritance\r\n",
        "  - abstaction\r\n",
        "  - Polymorphism"
      ]
    },
    {
      "cell_type": "code",
      "metadata": {
        "id": "2yy6-gEcKcCE"
      },
      "source": [
        "class A(object):\r\n",
        "  pass\r\n"
      ],
      "execution_count": null,
      "outputs": []
    },
    {
      "cell_type": "code",
      "metadata": {
        "id": "s_McIn00KcEW"
      },
      "source": [
        "class A : #상동\r\n",
        "  pass"
      ],
      "execution_count": null,
      "outputs": []
    },
    {
      "cell_type": "markdown",
      "metadata": {
        "id": "EfGz1hWESYv6"
      },
      "source": [
        "### class 속성\r\n",
        "- class attribute \r\n",
        "  - 클래스가 사용 할 수 있음\r\n",
        "  - 클래스 attribute 는 인스턴스간에 공유하는 값\r\n",
        "- instance  method/attribute \r\n",
        "  - 클래스 instance 가 사용 할 수 있음 \r\n",
        "  - 인스턴스 변수는 인스턴스가 갖는 값. \r\n",
        "\r\n",
        "> - 함수 실제 사용할때 - 함수 : call 호출 `함수()`\r\n",
        "> - 클래스 실제 사용할때 \r\n",
        "    - 클래스 인스턴스화 `클래스()`\r\n",
        "  - metaclass 를 배우면 더 이해가 잘 될됨\r\n",
        "\r\n"
      ]
    },
    {
      "cell_type": "code",
      "metadata": {
        "id": "OYap6kC_KcIC"
      },
      "source": [
        "class A:\r\n",
        "  x=1            # class attribute / variable\r\n",
        "  def xx(self):  # instance method(attr)\r\n",
        "    self.y=1     # instance attribute / variable\r\n",
        "    print('xx')"
      ],
      "execution_count": null,
      "outputs": []
    },
    {
      "cell_type": "code",
      "metadata": {
        "colab": {
          "base_uri": "https://localhost:8080/"
        },
        "id": "UnNb00wHKcKF",
        "outputId": "120b356d-6333-42b4-f32f-7ae07a24be2d"
      },
      "source": [
        "A.x   # class attribute / variable 접근 가능"
      ],
      "execution_count": null,
      "outputs": [
        {
          "output_type": "execute_result",
          "data": {
            "text/plain": [
              "1"
            ]
          },
          "metadata": {
            "tags": []
          },
          "execution_count": 7
        }
      ]
    },
    {
      "cell_type": "code",
      "metadata": {
        "colab": {
          "base_uri": "https://localhost:8080/",
          "height": 172
        },
        "id": "qwkk67xrUj9_",
        "outputId": "1990c8d5-66cf-462f-cac9-0d585b1c7465"
      },
      "source": [
        "A.y  # instance attribute / variable 접근 불가 "
      ],
      "execution_count": null,
      "outputs": [
        {
          "output_type": "error",
          "ename": "AttributeError",
          "evalue": "ignored",
          "traceback": [
            "\u001b[0;31m---------------------------------------------------------------------------\u001b[0m",
            "\u001b[0;31mAttributeError\u001b[0m                            Traceback (most recent call last)",
            "\u001b[0;32m<ipython-input-8-90c912edee1d>\u001b[0m in \u001b[0;36m<module>\u001b[0;34m()\u001b[0m\n\u001b[0;32m----> 1\u001b[0;31m \u001b[0mA\u001b[0m\u001b[0;34m.\u001b[0m\u001b[0my\u001b[0m\u001b[0;34m\u001b[0m\u001b[0;34m\u001b[0m\u001b[0m\n\u001b[0m",
            "\u001b[0;31mAttributeError\u001b[0m: type object 'A' has no attribute 'y'"
          ]
        }
      ]
    },
    {
      "cell_type": "code",
      "metadata": {
        "id": "lkkf3mseUrhq"
      },
      "source": [
        "class A:\r\n",
        "  x=1            # class attribute / variable\r\n",
        "  def xx(self):  # instance method(attr)\r\n",
        "    self.y=1     # instance attribute / variable\r\n",
        "    print('xx')\r\n",
        "  @classmethod   # class method\r\n",
        "  def yy(cls):\r\n",
        "    print('yy')"
      ],
      "execution_count": null,
      "outputs": []
    },
    {
      "cell_type": "code",
      "metadata": {
        "colab": {
          "base_uri": "https://localhost:8080/"
        },
        "id": "p-9pBCJiVBIP",
        "outputId": "47f4df00-44ba-44d9-ece4-bd33e52cd935"
      },
      "source": [
        "A.yy #class method는 클래스 접근 가능 "
      ],
      "execution_count": null,
      "outputs": [
        {
          "output_type": "execute_result",
          "data": {
            "text/plain": [
              "<bound method A.yy of <class '__main__.A'>>"
            ]
          },
          "metadata": {
            "tags": []
          },
          "execution_count": 11
        }
      ]
    },
    {
      "cell_type": "markdown",
      "metadata": {
        "id": "ADHUpPJhVJAS"
      },
      "source": [
        "#### 인스턴스\r\n",
        "- 객체지향의 기본은 인스턴스(객체) 사용"
      ]
    },
    {
      "cell_type": "code",
      "metadata": {
        "id": "dvcPFug3VVFA"
      },
      "source": [
        "from sklearn.neighbors import KNeighborsClassifier # 클래스\r\n",
        "knn= KNeighborsClassifier() #인스턴스"
      ],
      "execution_count": null,
      "outputs": []
    },
    {
      "cell_type": "code",
      "metadata": {
        "id": "q4mkvKh-VCK4"
      },
      "source": [
        "import tensorflow as tf\r\n",
        "model=tf.keras.models.Sequential() #인스턴스"
      ],
      "execution_count": null,
      "outputs": []
    },
    {
      "cell_type": "code",
      "metadata": {
        "colab": {
          "base_uri": "https://localhost:8080/"
        },
        "id": "WtQx7VcuVqI3",
        "outputId": "f3f3a834-2578-4bf4-f7a7-e2ac33121ea4"
      },
      "source": [
        "import pandas as pd\r\n",
        "pd.DataFrame.from_dict #"
      ],
      "execution_count": null,
      "outputs": [
        {
          "output_type": "execute_result",
          "data": {
            "text/plain": [
              "<bound method DataFrame.from_dict of <class 'pandas.core.frame.DataFrame'>>"
            ]
          },
          "metadata": {
            "tags": []
          },
          "execution_count": 14
        }
      ]
    },
    {
      "cell_type": "code",
      "metadata": {
        "id": "NlLltCWPUiHZ"
      },
      "source": [
        "a=A() # 클래스 A 인스턴스"
      ],
      "execution_count": null,
      "outputs": []
    },
    {
      "cell_type": "markdown",
      "metadata": {
        "id": "ncWWSsMUV7OW"
      },
      "source": [
        "##### type\r\n",
        "class의 type은 type 리턴\r\n",
        "instance 의 type 은 해당 클래스가 리턴\r\n",
        "\r\n",
        "- `type()` 함수방식\r\n",
        "- `__class__` 메소드 방식\r\n",
        " > 파이썬은 내부적으로 함수,메소드 동일하게 취급"
      ]
    },
    {
      "cell_type": "code",
      "metadata": {
        "colab": {
          "base_uri": "https://localhost:8080/"
        },
        "id": "MntyzVu6V5Hy",
        "outputId": "f430eeb8-9e74-4ce6-eec6-0878a23262b2"
      },
      "source": [
        "type(a) #현재 파일에서 작업한 __main__"
      ],
      "execution_count": null,
      "outputs": [
        {
          "output_type": "execute_result",
          "data": {
            "text/plain": [
              "__main__.A"
            ]
          },
          "metadata": {
            "tags": []
          },
          "execution_count": 16
        }
      ]
    },
    {
      "cell_type": "code",
      "metadata": {
        "colab": {
          "base_uri": "https://localhost:8080/"
        },
        "id": "HPVSiL_nWFjK",
        "outputId": "73c49730-cd0c-4e19-c29a-a6b6c3bcb196"
      },
      "source": [
        "a.__class__ #type()과 동일"
      ],
      "execution_count": null,
      "outputs": [
        {
          "output_type": "execute_result",
          "data": {
            "text/plain": [
              "__main__.A"
            ]
          },
          "metadata": {
            "tags": []
          },
          "execution_count": 18
        }
      ]
    },
    {
      "cell_type": "code",
      "metadata": {
        "colab": {
          "base_uri": "https://localhost:8080/"
        },
        "id": "A3xyqVCyWEUQ",
        "outputId": "396d2e83-eff6-4311-9054-841545a86106"
      },
      "source": [
        "type(A)  "
      ],
      "execution_count": null,
      "outputs": [
        {
          "output_type": "execute_result",
          "data": {
            "text/plain": [
              "type"
            ]
          },
          "metadata": {
            "tags": []
          },
          "execution_count": 17
        }
      ]
    },
    {
      "cell_type": "code",
      "metadata": {
        "colab": {
          "base_uri": "https://localhost:8080/"
        },
        "id": "C7iViFw7WX7s",
        "outputId": "2ea4c969-2633-46d9-89e3-1c132d405481"
      },
      "source": [
        "A.__class__"
      ],
      "execution_count": null,
      "outputs": [
        {
          "output_type": "execute_result",
          "data": {
            "text/plain": [
              "type"
            ]
          },
          "metadata": {
            "tags": []
          },
          "execution_count": 19
        }
      ]
    },
    {
      "cell_type": "markdown",
      "metadata": {
        "id": "2KcK5OA3WqjL"
      },
      "source": [
        "- python 기본 내장 데이터 타입일 경우 소문자로 명명함"
      ]
    },
    {
      "cell_type": "code",
      "metadata": {
        "id": "aSBImKiEWZK3"
      },
      "source": [
        "int # 클래스"
      ],
      "execution_count": null,
      "outputs": []
    },
    {
      "cell_type": "code",
      "metadata": {
        "colab": {
          "base_uri": "https://localhost:8080/"
        },
        "id": "UGMvN4WoWsLq",
        "outputId": "9e091211-db3f-482d-b4b9-a5678d1c12c8"
      },
      "source": [
        "type(int) #클래스"
      ],
      "execution_count": null,
      "outputs": [
        {
          "output_type": "execute_result",
          "data": {
            "text/plain": [
              "type"
            ]
          },
          "metadata": {
            "tags": []
          },
          "execution_count": 22
        }
      ]
    },
    {
      "cell_type": "code",
      "metadata": {
        "colab": {
          "base_uri": "https://localhost:8080/"
        },
        "id": "lznUa2WWWtbC",
        "outputId": "e948714d-725a-4ca8-c8a7-bcb82ea2a35a"
      },
      "source": [
        "int(10)  #인스턴스해서 사용"
      ],
      "execution_count": null,
      "outputs": [
        {
          "output_type": "execute_result",
          "data": {
            "text/plain": [
              "10"
            ]
          },
          "metadata": {
            "tags": []
          },
          "execution_count": 23
        }
      ]
    },
    {
      "cell_type": "code",
      "metadata": {
        "colab": {
          "base_uri": "https://localhost:8080/"
        },
        "id": "MTMtmZ1mWuJB",
        "outputId": "41507970-d06d-4e12-a5f7-a2a09eb70e8e"
      },
      "source": [
        "type(float)"
      ],
      "execution_count": null,
      "outputs": [
        {
          "output_type": "execute_result",
          "data": {
            "text/plain": [
              "type"
            ]
          },
          "metadata": {
            "tags": []
          },
          "execution_count": 24
        }
      ]
    },
    {
      "cell_type": "code",
      "metadata": {
        "colab": {
          "base_uri": "https://localhost:8080/"
        },
        "id": "22BhHiIQXNo2",
        "outputId": "495d5650-66e5-4b65-8193-583792b4128d"
      },
      "source": [
        "float(10)"
      ],
      "execution_count": null,
      "outputs": [
        {
          "output_type": "execute_result",
          "data": {
            "text/plain": [
              "10.0"
            ]
          },
          "metadata": {
            "tags": []
          },
          "execution_count": 25
        }
      ]
    },
    {
      "cell_type": "code",
      "metadata": {
        "colab": {
          "base_uri": "https://localhost:8080/"
        },
        "id": "EBGPYXbqXOdT",
        "outputId": "e7f65d79-8863-4409-c30a-8f7976f3446c"
      },
      "source": [
        "a=A()"
      ],
      "execution_count": null,
      "outputs": [
        {
          "output_type": "execute_result",
          "data": {
            "text/plain": [
              "['__class__',\n",
              " '__delattr__',\n",
              " '__dict__',\n",
              " '__dir__',\n",
              " '__doc__',\n",
              " '__eq__',\n",
              " '__format__',\n",
              " '__ge__',\n",
              " '__getattribute__',\n",
              " '__gt__',\n",
              " '__hash__',\n",
              " '__init__',\n",
              " '__init_subclass__',\n",
              " '__le__',\n",
              " '__lt__',\n",
              " '__module__',\n",
              " '__ne__',\n",
              " '__new__',\n",
              " '__reduce__',\n",
              " '__reduce_ex__',\n",
              " '__repr__',\n",
              " '__setattr__',\n",
              " '__sizeof__',\n",
              " '__str__',\n",
              " '__subclasshook__',\n",
              " '__weakref__',\n",
              " 'x',\n",
              " 'xx',\n",
              " 'yy']"
            ]
          },
          "metadata": {
            "tags": []
          },
          "execution_count": 26
        }
      ]
    },
    {
      "cell_type": "code",
      "metadata": {
        "colab": {
          "base_uri": "https://localhost:8080/"
        },
        "id": "l1pLvqZgXrTr",
        "outputId": "86af8efd-6cdc-4f93-af81-52733d7cb7ec"
      },
      "source": [
        "dir(a) #모든 attributes 을 나열 "
      ],
      "execution_count": null,
      "outputs": [
        {
          "output_type": "execute_result",
          "data": {
            "text/plain": [
              "['__class__',\n",
              " '__delattr__',\n",
              " '__dict__',\n",
              " '__dir__',\n",
              " '__doc__',\n",
              " '__eq__',\n",
              " '__format__',\n",
              " '__ge__',\n",
              " '__getattribute__',\n",
              " '__gt__',\n",
              " '__hash__',\n",
              " '__init__',\n",
              " '__init_subclass__',\n",
              " '__le__',\n",
              " '__lt__',\n",
              " '__module__',\n",
              " '__ne__',\n",
              " '__new__',\n",
              " '__reduce__',\n",
              " '__reduce_ex__',\n",
              " '__repr__',\n",
              " '__setattr__',\n",
              " '__sizeof__',\n",
              " '__str__',\n",
              " '__subclasshook__',\n",
              " '__weakref__',\n",
              " 'x',\n",
              " 'xx',\n",
              " 'yy']"
            ]
          },
          "metadata": {
            "tags": []
          },
          "execution_count": 28
        }
      ]
    },
    {
      "cell_type": "code",
      "metadata": {
        "colab": {
          "base_uri": "https://localhost:8080/"
        },
        "id": "6FVLF9NmXXd1",
        "outputId": "49b655f3-31db-4fe9-caba-548ede20faef"
      },
      "source": [
        "dir(A)"
      ],
      "execution_count": null,
      "outputs": [
        {
          "output_type": "execute_result",
          "data": {
            "text/plain": [
              "['__class__',\n",
              " '__delattr__',\n",
              " '__dict__',\n",
              " '__dir__',\n",
              " '__doc__',\n",
              " '__eq__',\n",
              " '__format__',\n",
              " '__ge__',\n",
              " '__getattribute__',\n",
              " '__gt__',\n",
              " '__hash__',\n",
              " '__init__',\n",
              " '__init_subclass__',\n",
              " '__le__',\n",
              " '__lt__',\n",
              " '__module__',\n",
              " '__ne__',\n",
              " '__new__',\n",
              " '__reduce__',\n",
              " '__reduce_ex__',\n",
              " '__repr__',\n",
              " '__setattr__',\n",
              " '__sizeof__',\n",
              " '__str__',\n",
              " '__subclasshook__',\n",
              " '__weakref__',\n",
              " 'x',\n",
              " 'xx',\n",
              " 'yy']"
            ]
          },
          "metadata": {
            "tags": []
          },
          "execution_count": 27
        }
      ]
    },
    {
      "cell_type": "code",
      "metadata": {
        "colab": {
          "base_uri": "https://localhost:8080/"
        },
        "id": "pxLkESPnXo86",
        "outputId": "3e67dae7-afe5-42af-9850-fadfb4bf7734"
      },
      "source": [
        "set(dir(a)) - set(dir(A))  #동일함"
      ],
      "execution_count": null,
      "outputs": [
        {
          "output_type": "execute_result",
          "data": {
            "text/plain": [
              "set()"
            ]
          },
          "metadata": {
            "tags": []
          },
          "execution_count": 29
        }
      ]
    },
    {
      "cell_type": "code",
      "metadata": {
        "colab": {
          "base_uri": "https://localhost:8080/"
        },
        "id": "uscVIC-LXvNv",
        "outputId": "6e67b016-7057-4c62-d0b5-313d700b4fe9"
      },
      "source": [
        "set(dir(A)) - set(dir(a))"
      ],
      "execution_count": null,
      "outputs": [
        {
          "output_type": "execute_result",
          "data": {
            "text/plain": [
              "set()"
            ]
          },
          "metadata": {
            "tags": []
          },
          "execution_count": 30
        }
      ]
    },
    {
      "cell_type": "markdown",
      "metadata": {
        "id": "-yVVCH3nYi5H"
      },
      "source": [
        "-  어트리뷰트 추가,변경, 삭제 가능\r\n",
        "> Dynamic type 유동적으로 생성\r\n",
        "- 이름/문법이 다르면 다른 역할을 함"
      ]
    },
    {
      "cell_type": "code",
      "metadata": {
        "id": "UUmQHABCXx_a"
      },
      "source": [
        "class B:\r\n",
        "  x=1  #클래스 어트리뷰트"
      ],
      "execution_count": null,
      "outputs": []
    },
    {
      "cell_type": "code",
      "metadata": {
        "colab": {
          "base_uri": "https://localhost:8080/"
        },
        "id": "ab7usdPkYEYT",
        "outputId": "e5bcaa45-1317-4808-ab79-186f74ad5675"
      },
      "source": [
        "B.x"
      ],
      "execution_count": null,
      "outputs": [
        {
          "output_type": "execute_result",
          "data": {
            "text/plain": [
              "1"
            ]
          },
          "metadata": {
            "tags": []
          },
          "execution_count": 33
        }
      ]
    },
    {
      "cell_type": "code",
      "metadata": {
        "colab": {
          "base_uri": "https://localhost:8080/",
          "height": 172
        },
        "id": "U0qylm2VYFv7",
        "outputId": "224acad5-4613-4c8c-aabb-98ca07705931"
      },
      "source": [
        "B.y #정의하지 않아 없음  AttributeError"
      ],
      "execution_count": null,
      "outputs": [
        {
          "output_type": "error",
          "ename": "AttributeError",
          "evalue": "ignored",
          "traceback": [
            "\u001b[0;31m---------------------------------------------------------------------------\u001b[0m",
            "\u001b[0;31mAttributeError\u001b[0m                            Traceback (most recent call last)",
            "\u001b[0;32m<ipython-input-34-9652da32fe31>\u001b[0m in \u001b[0;36m<module>\u001b[0;34m()\u001b[0m\n\u001b[0;32m----> 1\u001b[0;31m \u001b[0mB\u001b[0m\u001b[0;34m.\u001b[0m\u001b[0my\u001b[0m\u001b[0;34m\u001b[0m\u001b[0;34m\u001b[0m\u001b[0m\n\u001b[0m",
            "\u001b[0;31mAttributeError\u001b[0m: type object 'B' has no attribute 'y'"
          ]
        }
      ]
    },
    {
      "cell_type": "code",
      "metadata": {
        "id": "syuZxCbRYOeq"
      },
      "source": [
        "B.y=2"
      ],
      "execution_count": null,
      "outputs": []
    },
    {
      "cell_type": "code",
      "metadata": {
        "colab": {
          "base_uri": "https://localhost:8080/"
        },
        "id": "2VvD98WCYf6G",
        "outputId": "6fe648aa-bee5-4cb9-995b-0d66b901ec03"
      },
      "source": [
        "B.y"
      ],
      "execution_count": null,
      "outputs": [
        {
          "output_type": "execute_result",
          "data": {
            "text/plain": [
              "2"
            ]
          },
          "metadata": {
            "tags": []
          },
          "execution_count": 38
        }
      ]
    },
    {
      "cell_type": "code",
      "metadata": {
        "colab": {
          "base_uri": "https://localhost:8080/"
        },
        "id": "CTKhFBOoYZ2j",
        "outputId": "a02f9aeb-6a8d-413d-c6af-dfb80caf6366"
      },
      "source": [
        "dir(B) #class attribute y 생성됨"
      ],
      "execution_count": null,
      "outputs": [
        {
          "output_type": "execute_result",
          "data": {
            "text/plain": [
              "['__class__',\n",
              " '__delattr__',\n",
              " '__dict__',\n",
              " '__dir__',\n",
              " '__doc__',\n",
              " '__eq__',\n",
              " '__format__',\n",
              " '__ge__',\n",
              " '__getattribute__',\n",
              " '__gt__',\n",
              " '__hash__',\n",
              " '__init__',\n",
              " '__init_subclass__',\n",
              " '__le__',\n",
              " '__lt__',\n",
              " '__module__',\n",
              " '__ne__',\n",
              " '__new__',\n",
              " '__reduce__',\n",
              " '__reduce_ex__',\n",
              " '__repr__',\n",
              " '__setattr__',\n",
              " '__sizeof__',\n",
              " '__str__',\n",
              " '__subclasshook__',\n",
              " '__weakref__',\n",
              " 'x',\n",
              " 'y']"
            ]
          },
          "metadata": {
            "tags": []
          },
          "execution_count": 37
        }
      ]
    },
    {
      "cell_type": "code",
      "metadata": {
        "id": "XxJo8XCJYack"
      },
      "source": [
        "del B.x"
      ],
      "execution_count": null,
      "outputs": []
    },
    {
      "cell_type": "code",
      "metadata": {
        "colab": {
          "base_uri": "https://localhost:8080/",
          "height": 172
        },
        "id": "idXH2N_KYoYK",
        "outputId": "49795510-3a2f-49d1-f864-f22dae4007c1"
      },
      "source": [
        "B.x  #제거됨"
      ],
      "execution_count": null,
      "outputs": [
        {
          "output_type": "error",
          "ename": "AttributeError",
          "evalue": "ignored",
          "traceback": [
            "\u001b[0;31m---------------------------------------------------------------------------\u001b[0m",
            "\u001b[0;31mAttributeError\u001b[0m                            Traceback (most recent call last)",
            "\u001b[0;32m<ipython-input-40-e0a37e59e8e6>\u001b[0m in \u001b[0;36m<module>\u001b[0;34m()\u001b[0m\n\u001b[0;32m----> 1\u001b[0;31m \u001b[0mB\u001b[0m\u001b[0;34m.\u001b[0m\u001b[0mx\u001b[0m\u001b[0;34m\u001b[0m\u001b[0;34m\u001b[0m\u001b[0m\n\u001b[0m",
            "\u001b[0;31mAttributeError\u001b[0m: type object 'B' has no attribute 'x'"
          ]
        }
      ]
    },
    {
      "cell_type": "markdown",
      "metadata": {
        "id": "SjIjS0LBZjhC"
      },
      "source": [
        "- 인스턴스는 인스턴스 어트리뷰트를 찾음\r\n",
        "- 없으면 클래스 어트리뷰트로 접근함\r\n"
      ]
    },
    {
      "cell_type": "code",
      "metadata": {
        "id": "W3Sh8uv1Yo_z"
      },
      "source": [
        "class B:\r\n",
        "  x=1 \r\n",
        "  \r\n",
        "b=B()"
      ],
      "execution_count": null,
      "outputs": []
    },
    {
      "cell_type": "code",
      "metadata": {
        "colab": {
          "base_uri": "https://localhost:8080/"
        },
        "id": "cyvlONC1Y9kV",
        "outputId": "3166755e-a839-48c0-e106-0448f51a1c22"
      },
      "source": [
        "b.x    #인스턴스 어트리뷰트 없어 클래스 어트리뷰트로 접근함"
      ],
      "execution_count": null,
      "outputs": [
        {
          "output_type": "execute_result",
          "data": {
            "text/plain": [
              "1"
            ]
          },
          "metadata": {
            "tags": []
          },
          "execution_count": 43
        }
      ]
    },
    {
      "cell_type": "code",
      "metadata": {
        "id": "LCQVqddfZBVC"
      },
      "source": [
        "b.x=2   #인스턴스 어트리뷰트 생성"
      ],
      "execution_count": null,
      "outputs": []
    },
    {
      "cell_type": "code",
      "metadata": {
        "colab": {
          "base_uri": "https://localhost:8080/"
        },
        "id": "PZ7p-UDjZPM8",
        "outputId": "298cab41-def8-44ca-da9c-d5da7b61b7c5"
      },
      "source": [
        "B.x     #클래스 어트리뷰트는 변하지 않음"
      ],
      "execution_count": null,
      "outputs": [
        {
          "output_type": "execute_result",
          "data": {
            "text/plain": [
              "1"
            ]
          },
          "metadata": {
            "tags": []
          },
          "execution_count": 46
        }
      ]
    },
    {
      "cell_type": "code",
      "metadata": {
        "colab": {
          "base_uri": "https://localhost:8080/"
        },
        "id": "--G6Z-hxZOuS",
        "outputId": "25d5456a-e90e-4999-eb60-5c2b692a7464"
      },
      "source": [
        "b.x  "
      ],
      "execution_count": null,
      "outputs": [
        {
          "output_type": "execute_result",
          "data": {
            "text/plain": [
              "2"
            ]
          },
          "metadata": {
            "tags": []
          },
          "execution_count": 45
        }
      ]
    },
    {
      "cell_type": "markdown",
      "metadata": {
        "id": "YHOConAEZfsT"
      },
      "source": [
        "- "
      ]
    },
    {
      "cell_type": "code",
      "metadata": {
        "id": "PhCADm_BZQQQ"
      },
      "source": [
        "c=B()"
      ],
      "execution_count": null,
      "outputs": []
    },
    {
      "cell_type": "code",
      "metadata": {
        "colab": {
          "base_uri": "https://localhost:8080/"
        },
        "id": "n3VeEHF1Z_59",
        "outputId": "3707973f-9a5d-4b49-df4a-1090899630e2"
      },
      "source": [
        "c.x  #인스턴스 어트리뷰트 없어 클래스 어트리뷰트로 접근함"
      ],
      "execution_count": null,
      "outputs": [
        {
          "output_type": "execute_result",
          "data": {
            "text/plain": [
              "1"
            ]
          },
          "metadata": {
            "tags": []
          },
          "execution_count": 48
        }
      ]
    },
    {
      "cell_type": "markdown",
      "metadata": {
        "id": "RBtIfXSZaPSV"
      },
      "source": [
        "#### vars\r\n",
        "- 갖고 있는 attribute 값을 보여줌"
      ]
    },
    {
      "cell_type": "code",
      "metadata": {
        "colab": {
          "base_uri": "https://localhost:8080/"
        },
        "id": "HhwJOcCpaAl2",
        "outputId": "a5a3b8ad-13f8-439a-887b-e3d96d0a9c78"
      },
      "source": [
        "vars(b)  #인스턴스 어트리뷰트 x =2"
      ],
      "execution_count": null,
      "outputs": [
        {
          "output_type": "execute_result",
          "data": {
            "text/plain": [
              "{'x': 2}"
            ]
          },
          "metadata": {
            "tags": []
          },
          "execution_count": 49
        }
      ]
    },
    {
      "cell_type": "code",
      "metadata": {
        "colab": {
          "base_uri": "https://localhost:8080/"
        },
        "id": "HnG8ztq7aRTc",
        "outputId": "de748df9-d980-45be-b383-f18d666f7798"
      },
      "source": [
        "vars(c) #인스턴스 어트리뷰트 없음"
      ],
      "execution_count": null,
      "outputs": [
        {
          "output_type": "execute_result",
          "data": {
            "text/plain": [
              "{}"
            ]
          },
          "metadata": {
            "tags": []
          },
          "execution_count": 50
        }
      ]
    },
    {
      "cell_type": "code",
      "metadata": {
        "colab": {
          "base_uri": "https://localhost:8080/"
        },
        "id": "V0YMUXT0aV1P",
        "outputId": "86037503-df65-49c7-86d3-43061f8ebb3b"
      },
      "source": [
        "vars(B) #클래스 어트리뷰트 =1 "
      ],
      "execution_count": null,
      "outputs": [
        {
          "output_type": "execute_result",
          "data": {
            "text/plain": [
              "mappingproxy({'__dict__': <attribute '__dict__' of 'B' objects>,\n",
              "              '__doc__': None,\n",
              "              '__module__': '__main__',\n",
              "              '__weakref__': <attribute '__weakref__' of 'B' objects>,\n",
              "              'x': 1})"
            ]
          },
          "metadata": {
            "tags": []
          },
          "execution_count": 51
        }
      ]
    },
    {
      "cell_type": "code",
      "metadata": {
        "id": "Rt3S7JM5aWvL"
      },
      "source": [
        "B.x=10"
      ],
      "execution_count": null,
      "outputs": []
    },
    {
      "cell_type": "code",
      "metadata": {
        "colab": {
          "base_uri": "https://localhost:8080/"
        },
        "id": "n2p3N4MqaicM",
        "outputId": "435d3ec6-05f3-439f-f1e7-d9c66b4dad99"
      },
      "source": [
        "b.x #인스턴스 어트리뷰트 있음"
      ],
      "execution_count": null,
      "outputs": [
        {
          "output_type": "execute_result",
          "data": {
            "text/plain": [
              "2"
            ]
          },
          "metadata": {
            "tags": []
          },
          "execution_count": 53
        }
      ]
    },
    {
      "cell_type": "code",
      "metadata": {
        "colab": {
          "base_uri": "https://localhost:8080/"
        },
        "id": "IIvUdrUHajFF",
        "outputId": "aa54ee2c-51b2-476a-f8f1-213c78e93aff"
      },
      "source": [
        "c.x #인스턴스 어트리뷰트 없어서 클래스 어트리뷰트 "
      ],
      "execution_count": null,
      "outputs": [
        {
          "output_type": "execute_result",
          "data": {
            "text/plain": [
              "10"
            ]
          },
          "metadata": {
            "tags": []
          },
          "execution_count": 54
        }
      ]
    },
    {
      "cell_type": "code",
      "metadata": {
        "id": "P5ppZS5CgU_H"
      },
      "source": [
        "c=C() #() 붙이면 __init__ 실행"
      ],
      "execution_count": null,
      "outputs": []
    },
    {
      "cell_type": "code",
      "metadata": {
        "id": "VJJTNsO2aksn"
      },
      "source": [
        "class C:\r\n",
        "  pass"
      ],
      "execution_count": null,
      "outputs": []
    },
    {
      "cell_type": "markdown",
      "metadata": {
        "id": "f3M7B9z2hC2V"
      },
      "source": [
        "- `__new__` : 리턴 있음, 생성\r\n",
        "- `__init__ ` : 리턴값 없음, 값 초기화\r\n",
        "  - () 붙이면 `__init__` 실행\r\n",
        "\r\n",
        "동시에 생성자 역할을 함"
      ]
    },
    {
      "cell_type": "code",
      "metadata": {
        "id": "sOf7VOjKgVx_"
      },
      "source": [
        "class C:\r\n",
        "  def __init__(self):  \r\n",
        "    print('CCC')\r\n",
        "  pass"
      ],
      "execution_count": null,
      "outputs": []
    },
    {
      "cell_type": "code",
      "metadata": {
        "id": "wK--Ltj4gkH5"
      },
      "source": [
        "class C:\r\n",
        "  def __new__(cls):\r\n",
        "    super().__new__(cls)\r\n",
        "    print('new')\r\n",
        "  def __init__(self):   \r\n",
        "    print('init')\r\n",
        "  pass"
      ],
      "execution_count": null,
      "outputs": []
    },
    {
      "cell_type": "code",
      "metadata": {
        "colab": {
          "base_uri": "https://localhost:8080/"
        },
        "id": "XNHDvTHzhRuX",
        "outputId": "41af3097-473a-406e-ff51-c2db88c75b5e"
      },
      "source": [
        "c=C() #__new__만 print됨"
      ],
      "execution_count": null,
      "outputs": [
        {
          "output_type": "stream",
          "text": [
            "new\n"
          ],
          "name": "stdout"
        }
      ]
    },
    {
      "cell_type": "code",
      "metadata": {
        "id": "-9JZwF89hSis"
      },
      "source": [
        "class C:\r\n",
        "  def __new__(cls):\r\n",
        "    super().__new__(cls)\r\n",
        "    return super().__new__(cls) #객체 반환\r\n",
        "  def __init__(self):   \r\n",
        "    print('init')\r\n",
        "  pass"
      ],
      "execution_count": null,
      "outputs": []
    },
    {
      "cell_type": "code",
      "metadata": {
        "id": "ZtytOPqDhavS"
      },
      "source": [
        "class C:\r\n",
        "  def __init__(self):\r\n",
        "    self.a=1\r\n",
        "  def xx(self):\r\n",
        "    self.b=2"
      ],
      "execution_count": null,
      "outputs": []
    },
    {
      "cell_type": "markdown",
      "metadata": {
        "id": "hXjK7ld_iPcz"
      },
      "source": [
        "- **인스턴스 변수는 시점에 따라서 달라진다.**\r\n"
      ]
    },
    {
      "cell_type": "code",
      "metadata": {
        "id": "29hY2vMWh81W"
      },
      "source": [
        "c=C() #인스턴스 변수 1개"
      ],
      "execution_count": null,
      "outputs": []
    },
    {
      "cell_type": "code",
      "metadata": {
        "colab": {
          "base_uri": "https://localhost:8080/"
        },
        "id": "IyHeu7ZJivM-",
        "outputId": "4642c08d-b188-41f3-b369-e6383500229e"
      },
      "source": [
        "vars(c)"
      ],
      "execution_count": null,
      "outputs": [
        {
          "output_type": "execute_result",
          "data": {
            "text/plain": [
              "{'a': 1}"
            ]
          },
          "metadata": {
            "tags": []
          },
          "execution_count": 73
        }
      ]
    },
    {
      "cell_type": "code",
      "metadata": {
        "colab": {
          "base_uri": "https://localhost:8080/"
        },
        "id": "eOp_xS2eh9Rd",
        "outputId": "f388bf0a-ad2a-48d6-f0a8-c05bd64519f7"
      },
      "source": [
        "c.a"
      ],
      "execution_count": null,
      "outputs": [
        {
          "output_type": "execute_result",
          "data": {
            "text/plain": [
              "1"
            ]
          },
          "metadata": {
            "tags": []
          },
          "execution_count": 72
        }
      ]
    },
    {
      "cell_type": "code",
      "metadata": {
        "colab": {
          "base_uri": "https://localhost:8080/",
          "height": 172
        },
        "id": "yFORo96BiCsz",
        "outputId": "4602c61c-1519-461c-c033-913e63bc7f34"
      },
      "source": [
        "c.b #현재 시점에  없음"
      ],
      "execution_count": null,
      "outputs": [
        {
          "output_type": "error",
          "ename": "AttributeError",
          "evalue": "ignored",
          "traceback": [
            "\u001b[0;31m---------------------------------------------------------------------------\u001b[0m",
            "\u001b[0;31mAttributeError\u001b[0m                            Traceback (most recent call last)",
            "\u001b[0;32m<ipython-input-66-fb7149e4a3ea>\u001b[0m in \u001b[0;36m<module>\u001b[0;34m()\u001b[0m\n\u001b[0;32m----> 1\u001b[0;31m \u001b[0mc\u001b[0m\u001b[0;34m.\u001b[0m\u001b[0mb\u001b[0m\u001b[0;34m\u001b[0m\u001b[0;34m\u001b[0m\u001b[0m\n\u001b[0m",
            "\u001b[0;31mAttributeError\u001b[0m: 'C' object has no attribute 'b'"
          ]
        }
      ]
    },
    {
      "cell_type": "markdown",
      "metadata": {
        "id": "i3sbbhtnik_Z"
      },
      "source": [
        "실행 이후 인스턴스 어트리뷰트 생김"
      ]
    },
    {
      "cell_type": "code",
      "metadata": {
        "id": "RzG0SHVkiDDQ"
      },
      "source": [
        "c.xx()"
      ],
      "execution_count": null,
      "outputs": []
    },
    {
      "cell_type": "code",
      "metadata": {
        "colab": {
          "base_uri": "https://localhost:8080/"
        },
        "id": "TqybxYmgiiV1",
        "outputId": "9ea53143-b526-42f7-94d1-505a6ddf497d"
      },
      "source": [
        "c.b #현재 시점에서 생김"
      ],
      "execution_count": null,
      "outputs": [
        {
          "output_type": "execute_result",
          "data": {
            "text/plain": [
              "2"
            ]
          },
          "metadata": {
            "tags": []
          },
          "execution_count": 68
        }
      ]
    },
    {
      "cell_type": "code",
      "metadata": {
        "colab": {
          "base_uri": "https://localhost:8080/"
        },
        "id": "d5splkUXiijp",
        "outputId": "6b3fee3a-543c-43fe-a2f1-b65a95e8783a"
      },
      "source": [
        "vars(c)"
      ],
      "execution_count": null,
      "outputs": [
        {
          "output_type": "execute_result",
          "data": {
            "text/plain": [
              "{'a': 1, 'b': 2}"
            ]
          },
          "metadata": {
            "tags": []
          },
          "execution_count": 69
        }
      ]
    },
    {
      "cell_type": "markdown",
      "metadata": {
        "id": "-lcNFhs0jCXd"
      },
      "source": [
        "Scikit learn\r\n",
        "- 머신러닝 프레임 워크"
      ]
    },
    {
      "cell_type": "code",
      "metadata": {
        "id": "KPABdWh0isLp"
      },
      "source": [
        "from sklearn.datasets import load_iris #연습용 데이터"
      ],
      "execution_count": null,
      "outputs": []
    },
    {
      "cell_type": "code",
      "metadata": {
        "id": "LZ1cfNj0iy39"
      },
      "source": [
        "data=load_iris() #함수의 결과값을 data"
      ],
      "execution_count": null,
      "outputs": []
    },
    {
      "cell_type": "code",
      "metadata": {
        "colab": {
          "base_uri": "https://localhost:8080/"
        },
        "id": "X4_p1-7yjJkB",
        "outputId": "fc2d48fc-ec02-4d72-d433-c7115b5f911f"
      },
      "source": [
        "dir(data) #갖고 있는 어트리뷰트"
      ],
      "execution_count": null,
      "outputs": [
        {
          "output_type": "execute_result",
          "data": {
            "text/plain": [
              "['DESCR', 'data', 'feature_names', 'filename', 'target', 'target_names']"
            ]
          },
          "metadata": {
            "tags": []
          },
          "execution_count": 79
        }
      ]
    },
    {
      "cell_type": "code",
      "metadata": {
        "colab": {
          "base_uri": "https://localhost:8080/"
        },
        "id": "kbSOf-2XjVDg",
        "outputId": "b95af9e6-3992-4df2-d624-dcec4c6d5caa"
      },
      "source": [
        "type(data)  # . , dictionary 형태로 접근"
      ],
      "execution_count": null,
      "outputs": [
        {
          "output_type": "execute_result",
          "data": {
            "text/plain": [
              "sklearn.utils.Bunch"
            ]
          },
          "metadata": {
            "tags": []
          },
          "execution_count": 82
        }
      ]
    },
    {
      "cell_type": "code",
      "metadata": {
        "colab": {
          "base_uri": "https://localhost:8080/"
        },
        "id": "86GmudEhjQud",
        "outputId": "8493ebcf-37b7-4587-c3ff-aa51abd973f6"
      },
      "source": [
        "data.feature_names #. 접근 가능"
      ],
      "execution_count": null,
      "outputs": [
        {
          "output_type": "execute_result",
          "data": {
            "text/plain": [
              "['sepal length (cm)',\n",
              " 'sepal width (cm)',\n",
              " 'petal length (cm)',\n",
              " 'petal width (cm)']"
            ]
          },
          "metadata": {
            "tags": []
          },
          "execution_count": 81
        }
      ]
    },
    {
      "cell_type": "code",
      "metadata": {
        "id": "dON0ZmoPi0VG"
      },
      "source": [
        "from sklearn.neighbors import KNeighborsClassifier"
      ],
      "execution_count": null,
      "outputs": []
    },
    {
      "cell_type": "code",
      "metadata": {
        "id": "8ZBmXJfgi48s"
      },
      "source": [
        "knn=KNeighborsClassifier() #클래스 인스턴스화"
      ],
      "execution_count": null,
      "outputs": []
    },
    {
      "cell_type": "code",
      "metadata": {
        "colab": {
          "base_uri": "https://localhost:8080/"
        },
        "id": "UM0dOChii6jt",
        "outputId": "1f9aa552-9dfd-4eb1-92f0-8bc714fbe99c"
      },
      "source": [
        "vars(knn) #기본 어트리뷰트"
      ],
      "execution_count": null,
      "outputs": [
        {
          "output_type": "execute_result",
          "data": {
            "text/plain": [
              "{'algorithm': 'auto',\n",
              " 'leaf_size': 30,\n",
              " 'metric': 'minkowski',\n",
              " 'metric_params': None,\n",
              " 'n_jobs': None,\n",
              " 'n_neighbors': 5,\n",
              " 'p': 2,\n",
              " 'radius': None,\n",
              " 'weights': 'uniform'}"
            ]
          },
          "metadata": {
            "tags": []
          },
          "execution_count": 83
        }
      ]
    },
    {
      "cell_type": "code",
      "metadata": {
        "colab": {
          "base_uri": "https://localhost:8080/"
        },
        "id": "4uOKbsxOjicz",
        "outputId": "7dd3eea0-95a8-4e7b-cdcb-4d81e953ee9f"
      },
      "source": [
        "knn.fit(data.data, data.target) #학습"
      ],
      "execution_count": null,
      "outputs": [
        {
          "output_type": "execute_result",
          "data": {
            "text/plain": [
              "KNeighborsClassifier(algorithm='auto', leaf_size=30, metric='minkowski',\n",
              "                     metric_params=None, n_jobs=None, n_neighbors=5, p=2,\n",
              "                     weights='uniform')"
            ]
          },
          "metadata": {
            "tags": []
          },
          "execution_count": 84
        }
      ]
    },
    {
      "cell_type": "code",
      "metadata": {
        "colab": {
          "base_uri": "https://localhost:8080/"
        },
        "id": "qIK4RSkXjqhW",
        "outputId": "2e338453-d1fa-4213-b51a-a41c58d12b4d"
      },
      "source": [
        "vars(knn) # 학습한 이후에 값들이 변하고 추가됨"
      ],
      "execution_count": null,
      "outputs": [
        {
          "output_type": "execute_result",
          "data": {
            "text/plain": [
              "{'_fit_X': array([[5.1, 3.5, 1.4, 0.2],\n",
              "        [4.9, 3. , 1.4, 0.2],\n",
              "        [4.7, 3.2, 1.3, 0.2],\n",
              "        [4.6, 3.1, 1.5, 0.2],\n",
              "        [5. , 3.6, 1.4, 0.2],\n",
              "        [5.4, 3.9, 1.7, 0.4],\n",
              "        [4.6, 3.4, 1.4, 0.3],\n",
              "        [5. , 3.4, 1.5, 0.2],\n",
              "        [4.4, 2.9, 1.4, 0.2],\n",
              "        [4.9, 3.1, 1.5, 0.1],\n",
              "        [5.4, 3.7, 1.5, 0.2],\n",
              "        [4.8, 3.4, 1.6, 0.2],\n",
              "        [4.8, 3. , 1.4, 0.1],\n",
              "        [4.3, 3. , 1.1, 0.1],\n",
              "        [5.8, 4. , 1.2, 0.2],\n",
              "        [5.7, 4.4, 1.5, 0.4],\n",
              "        [5.4, 3.9, 1.3, 0.4],\n",
              "        [5.1, 3.5, 1.4, 0.3],\n",
              "        [5.7, 3.8, 1.7, 0.3],\n",
              "        [5.1, 3.8, 1.5, 0.3],\n",
              "        [5.4, 3.4, 1.7, 0.2],\n",
              "        [5.1, 3.7, 1.5, 0.4],\n",
              "        [4.6, 3.6, 1. , 0.2],\n",
              "        [5.1, 3.3, 1.7, 0.5],\n",
              "        [4.8, 3.4, 1.9, 0.2],\n",
              "        [5. , 3. , 1.6, 0.2],\n",
              "        [5. , 3.4, 1.6, 0.4],\n",
              "        [5.2, 3.5, 1.5, 0.2],\n",
              "        [5.2, 3.4, 1.4, 0.2],\n",
              "        [4.7, 3.2, 1.6, 0.2],\n",
              "        [4.8, 3.1, 1.6, 0.2],\n",
              "        [5.4, 3.4, 1.5, 0.4],\n",
              "        [5.2, 4.1, 1.5, 0.1],\n",
              "        [5.5, 4.2, 1.4, 0.2],\n",
              "        [4.9, 3.1, 1.5, 0.2],\n",
              "        [5. , 3.2, 1.2, 0.2],\n",
              "        [5.5, 3.5, 1.3, 0.2],\n",
              "        [4.9, 3.6, 1.4, 0.1],\n",
              "        [4.4, 3. , 1.3, 0.2],\n",
              "        [5.1, 3.4, 1.5, 0.2],\n",
              "        [5. , 3.5, 1.3, 0.3],\n",
              "        [4.5, 2.3, 1.3, 0.3],\n",
              "        [4.4, 3.2, 1.3, 0.2],\n",
              "        [5. , 3.5, 1.6, 0.6],\n",
              "        [5.1, 3.8, 1.9, 0.4],\n",
              "        [4.8, 3. , 1.4, 0.3],\n",
              "        [5.1, 3.8, 1.6, 0.2],\n",
              "        [4.6, 3.2, 1.4, 0.2],\n",
              "        [5.3, 3.7, 1.5, 0.2],\n",
              "        [5. , 3.3, 1.4, 0.2],\n",
              "        [7. , 3.2, 4.7, 1.4],\n",
              "        [6.4, 3.2, 4.5, 1.5],\n",
              "        [6.9, 3.1, 4.9, 1.5],\n",
              "        [5.5, 2.3, 4. , 1.3],\n",
              "        [6.5, 2.8, 4.6, 1.5],\n",
              "        [5.7, 2.8, 4.5, 1.3],\n",
              "        [6.3, 3.3, 4.7, 1.6],\n",
              "        [4.9, 2.4, 3.3, 1. ],\n",
              "        [6.6, 2.9, 4.6, 1.3],\n",
              "        [5.2, 2.7, 3.9, 1.4],\n",
              "        [5. , 2. , 3.5, 1. ],\n",
              "        [5.9, 3. , 4.2, 1.5],\n",
              "        [6. , 2.2, 4. , 1. ],\n",
              "        [6.1, 2.9, 4.7, 1.4],\n",
              "        [5.6, 2.9, 3.6, 1.3],\n",
              "        [6.7, 3.1, 4.4, 1.4],\n",
              "        [5.6, 3. , 4.5, 1.5],\n",
              "        [5.8, 2.7, 4.1, 1. ],\n",
              "        [6.2, 2.2, 4.5, 1.5],\n",
              "        [5.6, 2.5, 3.9, 1.1],\n",
              "        [5.9, 3.2, 4.8, 1.8],\n",
              "        [6.1, 2.8, 4. , 1.3],\n",
              "        [6.3, 2.5, 4.9, 1.5],\n",
              "        [6.1, 2.8, 4.7, 1.2],\n",
              "        [6.4, 2.9, 4.3, 1.3],\n",
              "        [6.6, 3. , 4.4, 1.4],\n",
              "        [6.8, 2.8, 4.8, 1.4],\n",
              "        [6.7, 3. , 5. , 1.7],\n",
              "        [6. , 2.9, 4.5, 1.5],\n",
              "        [5.7, 2.6, 3.5, 1. ],\n",
              "        [5.5, 2.4, 3.8, 1.1],\n",
              "        [5.5, 2.4, 3.7, 1. ],\n",
              "        [5.8, 2.7, 3.9, 1.2],\n",
              "        [6. , 2.7, 5.1, 1.6],\n",
              "        [5.4, 3. , 4.5, 1.5],\n",
              "        [6. , 3.4, 4.5, 1.6],\n",
              "        [6.7, 3.1, 4.7, 1.5],\n",
              "        [6.3, 2.3, 4.4, 1.3],\n",
              "        [5.6, 3. , 4.1, 1.3],\n",
              "        [5.5, 2.5, 4. , 1.3],\n",
              "        [5.5, 2.6, 4.4, 1.2],\n",
              "        [6.1, 3. , 4.6, 1.4],\n",
              "        [5.8, 2.6, 4. , 1.2],\n",
              "        [5. , 2.3, 3.3, 1. ],\n",
              "        [5.6, 2.7, 4.2, 1.3],\n",
              "        [5.7, 3. , 4.2, 1.2],\n",
              "        [5.7, 2.9, 4.2, 1.3],\n",
              "        [6.2, 2.9, 4.3, 1.3],\n",
              "        [5.1, 2.5, 3. , 1.1],\n",
              "        [5.7, 2.8, 4.1, 1.3],\n",
              "        [6.3, 3.3, 6. , 2.5],\n",
              "        [5.8, 2.7, 5.1, 1.9],\n",
              "        [7.1, 3. , 5.9, 2.1],\n",
              "        [6.3, 2.9, 5.6, 1.8],\n",
              "        [6.5, 3. , 5.8, 2.2],\n",
              "        [7.6, 3. , 6.6, 2.1],\n",
              "        [4.9, 2.5, 4.5, 1.7],\n",
              "        [7.3, 2.9, 6.3, 1.8],\n",
              "        [6.7, 2.5, 5.8, 1.8],\n",
              "        [7.2, 3.6, 6.1, 2.5],\n",
              "        [6.5, 3.2, 5.1, 2. ],\n",
              "        [6.4, 2.7, 5.3, 1.9],\n",
              "        [6.8, 3. , 5.5, 2.1],\n",
              "        [5.7, 2.5, 5. , 2. ],\n",
              "        [5.8, 2.8, 5.1, 2.4],\n",
              "        [6.4, 3.2, 5.3, 2.3],\n",
              "        [6.5, 3. , 5.5, 1.8],\n",
              "        [7.7, 3.8, 6.7, 2.2],\n",
              "        [7.7, 2.6, 6.9, 2.3],\n",
              "        [6. , 2.2, 5. , 1.5],\n",
              "        [6.9, 3.2, 5.7, 2.3],\n",
              "        [5.6, 2.8, 4.9, 2. ],\n",
              "        [7.7, 2.8, 6.7, 2. ],\n",
              "        [6.3, 2.7, 4.9, 1.8],\n",
              "        [6.7, 3.3, 5.7, 2.1],\n",
              "        [7.2, 3.2, 6. , 1.8],\n",
              "        [6.2, 2.8, 4.8, 1.8],\n",
              "        [6.1, 3. , 4.9, 1.8],\n",
              "        [6.4, 2.8, 5.6, 2.1],\n",
              "        [7.2, 3. , 5.8, 1.6],\n",
              "        [7.4, 2.8, 6.1, 1.9],\n",
              "        [7.9, 3.8, 6.4, 2. ],\n",
              "        [6.4, 2.8, 5.6, 2.2],\n",
              "        [6.3, 2.8, 5.1, 1.5],\n",
              "        [6.1, 2.6, 5.6, 1.4],\n",
              "        [7.7, 3. , 6.1, 2.3],\n",
              "        [6.3, 3.4, 5.6, 2.4],\n",
              "        [6.4, 3.1, 5.5, 1.8],\n",
              "        [6. , 3. , 4.8, 1.8],\n",
              "        [6.9, 3.1, 5.4, 2.1],\n",
              "        [6.7, 3.1, 5.6, 2.4],\n",
              "        [6.9, 3.1, 5.1, 2.3],\n",
              "        [5.8, 2.7, 5.1, 1.9],\n",
              "        [6.8, 3.2, 5.9, 2.3],\n",
              "        [6.7, 3.3, 5.7, 2.5],\n",
              "        [6.7, 3. , 5.2, 2.3],\n",
              "        [6.3, 2.5, 5. , 1.9],\n",
              "        [6.5, 3. , 5.2, 2. ],\n",
              "        [6.2, 3.4, 5.4, 2.3],\n",
              "        [5.9, 3. , 5.1, 1.8]]),\n",
              " '_fit_method': 'kd_tree',\n",
              " '_tree': <sklearn.neighbors._kd_tree.KDTree at 0x6520318>,\n",
              " '_y': array([0, 0, 0, 0, 0, 0, 0, 0, 0, 0, 0, 0, 0, 0, 0, 0, 0, 0, 0, 0, 0, 0,\n",
              "        0, 0, 0, 0, 0, 0, 0, 0, 0, 0, 0, 0, 0, 0, 0, 0, 0, 0, 0, 0, 0, 0,\n",
              "        0, 0, 0, 0, 0, 0, 1, 1, 1, 1, 1, 1, 1, 1, 1, 1, 1, 1, 1, 1, 1, 1,\n",
              "        1, 1, 1, 1, 1, 1, 1, 1, 1, 1, 1, 1, 1, 1, 1, 1, 1, 1, 1, 1, 1, 1,\n",
              "        1, 1, 1, 1, 1, 1, 1, 1, 1, 1, 1, 1, 2, 2, 2, 2, 2, 2, 2, 2, 2, 2,\n",
              "        2, 2, 2, 2, 2, 2, 2, 2, 2, 2, 2, 2, 2, 2, 2, 2, 2, 2, 2, 2, 2, 2,\n",
              "        2, 2, 2, 2, 2, 2, 2, 2, 2, 2, 2, 2, 2, 2, 2, 2, 2, 2]),\n",
              " 'algorithm': 'auto',\n",
              " 'classes_': array([0, 1, 2]),\n",
              " 'effective_metric_': 'euclidean',\n",
              " 'effective_metric_params_': {},\n",
              " 'leaf_size': 30,\n",
              " 'metric': 'minkowski',\n",
              " 'metric_params': None,\n",
              " 'n_jobs': None,\n",
              " 'n_neighbors': 5,\n",
              " 'n_samples_fit_': 150,\n",
              " 'outputs_2d_': False,\n",
              " 'p': 2,\n",
              " 'radius': None,\n",
              " 'weights': 'uniform'}"
            ]
          },
          "metadata": {
            "tags": []
          },
          "execution_count": 85
        }
      ]
    },
    {
      "cell_type": "markdown",
      "metadata": {
        "id": "HxTi_EcclLCo"
      },
      "source": [
        "### 메소드와 함수의 차이점\r\n",
        "- 내부적으로는 같음\r\n",
        "- **인스턴스가 사용하면 메소드**\r\n",
        "  - 메소드는 첫번째 인자 내부적으로 전달됨\r\n",
        "- **클래스가 사용하면 함수**\r\n"
      ]
    },
    {
      "cell_type": "code",
      "metadata": {
        "id": "Quu_Yt7tjszu"
      },
      "source": [
        "class C:\r\n",
        "  def __init__(cls):\r\n",
        "    cls.a=1\r\n",
        "  def xx(self):  #인스턴스 메소드\r\n",
        "    print('xx')\r\n",
        "    self.b=2"
      ],
      "execution_count": null,
      "outputs": []
    },
    {
      "cell_type": "code",
      "metadata": {
        "id": "u8kKV7m2kXle"
      },
      "source": [
        "c=C( ) # self는 객체로 대체됨 "
      ],
      "execution_count": null,
      "outputs": []
    },
    {
      "cell_type": "code",
      "metadata": {
        "colab": {
          "base_uri": "https://localhost:8080/"
        },
        "id": "3c767cgekpip",
        "outputId": "202c5d0f-c4de-44cf-e199-f46e03c2f78a"
      },
      "source": [
        "dir(C) #"
      ],
      "execution_count": null,
      "outputs": [
        {
          "output_type": "execute_result",
          "data": {
            "text/plain": [
              "['__class__',\n",
              " '__delattr__',\n",
              " '__dict__',\n",
              " '__dir__',\n",
              " '__doc__',\n",
              " '__eq__',\n",
              " '__format__',\n",
              " '__ge__',\n",
              " '__getattribute__',\n",
              " '__gt__',\n",
              " '__hash__',\n",
              " '__init__',\n",
              " '__init_subclass__',\n",
              " '__le__',\n",
              " '__lt__',\n",
              " '__module__',\n",
              " '__ne__',\n",
              " '__new__',\n",
              " '__reduce__',\n",
              " '__reduce_ex__',\n",
              " '__repr__',\n",
              " '__setattr__',\n",
              " '__sizeof__',\n",
              " '__str__',\n",
              " '__subclasshook__',\n",
              " '__weakref__',\n",
              " 'xx']"
            ]
          },
          "metadata": {
            "tags": []
          },
          "execution_count": 95
        }
      ]
    },
    {
      "cell_type": "markdown",
      "metadata": {
        "id": "dJgBVKmAkuD1"
      },
      "source": [
        ""
      ]
    },
    {
      "cell_type": "code",
      "metadata": {
        "colab": {
          "base_uri": "https://localhost:8080/"
        },
        "id": "OYwEpKcPkquE",
        "outputId": "cdaf3cd7-cc54-443e-d158-0c6e62721d65"
      },
      "source": [
        "C.xx  # <function __main__.C.xx> "
      ],
      "execution_count": null,
      "outputs": [
        {
          "output_type": "execute_result",
          "data": {
            "text/plain": [
              "<function __main__.C.xx>"
            ]
          },
          "metadata": {
            "tags": []
          },
          "execution_count": 96
        }
      ]
    },
    {
      "cell_type": "code",
      "metadata": {
        "colab": {
          "base_uri": "https://localhost:8080/",
          "height": 172
        },
        "id": "9stzZ-W2k2fc",
        "outputId": "e99d0c6f-80c8-41ab-848a-93e4982bce44"
      },
      "source": [
        "C.xx() #positional"
      ],
      "execution_count": null,
      "outputs": [
        {
          "output_type": "error",
          "ename": "TypeError",
          "evalue": "ignored",
          "traceback": [
            "\u001b[0;31m---------------------------------------------------------------------------\u001b[0m",
            "\u001b[0;31mTypeError\u001b[0m                                 Traceback (most recent call last)",
            "\u001b[0;32m<ipython-input-97-1a0f2f60a6dd>\u001b[0m in \u001b[0;36m<module>\u001b[0;34m()\u001b[0m\n\u001b[0;32m----> 1\u001b[0;31m \u001b[0mC\u001b[0m\u001b[0;34m.\u001b[0m\u001b[0mxx\u001b[0m\u001b[0;34m(\u001b[0m\u001b[0;34m)\u001b[0m \u001b[0;31m#positional\u001b[0m\u001b[0;34m\u001b[0m\u001b[0;34m\u001b[0m\u001b[0m\n\u001b[0m",
            "\u001b[0;31mTypeError\u001b[0m: xx() missing 1 required positional argument: 'self'"
          ]
        }
      ]
    },
    {
      "cell_type": "code",
      "metadata": {
        "colab": {
          "base_uri": "https://localhost:8080/"
        },
        "id": "ygVDBu9pk_v0",
        "outputId": "082c40c2-ed9e-4606-83b0-3415ad66689c"
      },
      "source": [
        "C.xx(c) #함수는 인자 갯수 정확히 맞춰야함"
      ],
      "execution_count": null,
      "outputs": [
        {
          "output_type": "stream",
          "text": [
            "xx\n"
          ],
          "name": "stdout"
        }
      ]
    },
    {
      "cell_type": "code",
      "metadata": {
        "id": "BbhXVO2Gkw_8"
      },
      "source": [
        "def x():\r\n",
        "  return 1"
      ],
      "execution_count": null,
      "outputs": []
    },
    {
      "cell_type": "code",
      "metadata": {
        "colab": {
          "base_uri": "https://localhost:8080/"
        },
        "id": "xJhxJKrrk2Sz",
        "outputId": "03b7589a-bd69-4174-ea6d-061e3cad723f"
      },
      "source": [
        "x #함수 x"
      ],
      "execution_count": null,
      "outputs": [
        {
          "output_type": "execute_result",
          "data": {
            "text/plain": [
              "<function __main__.x>"
            ]
          },
          "metadata": {
            "tags": []
          },
          "execution_count": 90
        }
      ]
    },
    {
      "cell_type": "code",
      "metadata": {
        "id": "X3c2mloEk8Fb"
      },
      "source": [
        "int #Init Signature:  -> Init  -> 클래스임을 알 수 있음"
      ],
      "execution_count": null,
      "outputs": []
    },
    {
      "cell_type": "markdown",
      "metadata": {
        "id": "-w6fR38QmBAM"
      },
      "source": [
        ""
      ]
    },
    {
      "cell_type": "code",
      "metadata": {
        "id": "Z82XhmJdl7b6"
      },
      "source": [
        "class C:\r\n",
        "  def __init__(self,a): # 내부적으로 첫번째 인자 전달됨\r\n",
        "    self.a=a\r\n",
        "  def xx(self):         # 인스턴스 메소드\r\n",
        "    print('xx')\r\n",
        "    self.b=2"
      ],
      "execution_count": null,
      "outputs": []
    },
    {
      "cell_type": "markdown",
      "metadata": {
        "id": "l8Tap1VLm3Wv"
      },
      "source": [
        "- 초기화: 시작할때 설정 init 에서 설정되면 생성되자마자 self.a 가 생김\r\n",
        "\r\n"
      ]
    },
    {
      "cell_type": "code",
      "metadata": {
        "id": "aeXZEs6MmQci"
      },
      "source": [
        "c=C(1) # 내부적으로 첫번째 인자 전달되어 인자 1개만 넣으면 됨"
      ],
      "execution_count": null,
      "outputs": []
    },
    {
      "cell_type": "code",
      "metadata": {
        "id": "B6KVoIn9mRgb"
      },
      "source": [
        "len #funtion or method"
      ],
      "execution_count": null,
      "outputs": []
    },
    {
      "cell_type": "code",
      "metadata": {
        "colab": {
          "base_uri": "https://localhost:8080/"
        },
        "id": "46bAEPtanL3H",
        "outputId": "f5b39877-da09-4236-9f5f-ef0421f02b0b"
      },
      "source": [
        "C.xx #function"
      ],
      "execution_count": null,
      "outputs": [
        {
          "output_type": "execute_result",
          "data": {
            "text/plain": [
              "<function __main__.C.xx>"
            ]
          },
          "metadata": {
            "tags": []
          },
          "execution_count": 104
        }
      ]
    },
    {
      "cell_type": "code",
      "metadata": {
        "colab": {
          "base_uri": "https://localhost:8080/"
        },
        "id": "quzqXgyynQS9",
        "outputId": "6e21cd56-a383-46b6-9daa-e2f3544566ce"
      },
      "source": [
        "c=C(1) \r\n",
        "c.xx  #method"
      ],
      "execution_count": null,
      "outputs": [
        {
          "output_type": "execute_result",
          "data": {
            "text/plain": [
              "<bound method C.xx of <__main__.C object at 0x7f741ea0ab38>>"
            ]
          },
          "metadata": {
            "tags": []
          },
          "execution_count": 105
        }
      ]
    },
    {
      "cell_type": "markdown",
      "metadata": {
        "id": "h82JIDIuooGh"
      },
      "source": [
        "## 상속\r\n",
        "- 객체지향에서 중요한 이유: \r\n",
        "  - 있는 것 그대로 갖다 쓸 수 있다.\r\n",
        "  - 있는 것 내맘대로 변화시킬 수 있다.(overriding) \r\n",
        "  - 없는 것 추가시킬 수 있다.\r\n",
        "  - 일부/완전히 바꾸어 버림\r\n",
        "- 기본적으로 object 로 상속 받음\r\n",
        "- object 는 생략 가능\r\n",
        "- Python은 다중 상속 언어\r\n",
        "\r\n",
        "\r\n",
        "- 복습 시 객체지향.pdf  참고\r\n"
      ]
    },
    {
      "cell_type": "code",
      "metadata": {
        "id": "sl35zi21o1nD"
      },
      "source": [
        "class D(object):  # D클래스는 object 한테 attributes 상속 받음\r\n",
        "  pass"
      ],
      "execution_count": null,
      "outputs": []
    },
    {
      "cell_type": "code",
      "metadata": {
        "id": "wd8ipO9qnt10"
      },
      "source": [
        "class D:  #생략가능\r\n",
        "  pass"
      ],
      "execution_count": null,
      "outputs": []
    },
    {
      "cell_type": "code",
      "metadata": {
        "colab": {
          "base_uri": "https://localhost:8080/"
        },
        "id": "NBGhP8BLm2_C",
        "outputId": "d528b531-8e71-4a0e-a63f-5d4688474def"
      },
      "source": [
        "dir(D) #기본적으로 정의되어 있는 attributes 나옴 -> object 에서부터 상속 "
      ],
      "execution_count": null,
      "outputs": [
        {
          "output_type": "execute_result",
          "data": {
            "text/plain": [
              "['__class__',\n",
              " '__delattr__',\n",
              " '__dict__',\n",
              " '__dir__',\n",
              " '__doc__',\n",
              " '__eq__',\n",
              " '__format__',\n",
              " '__ge__',\n",
              " '__getattribute__',\n",
              " '__gt__',\n",
              " '__hash__',\n",
              " '__init__',\n",
              " '__init_subclass__',\n",
              " '__le__',\n",
              " '__lt__',\n",
              " '__module__',\n",
              " '__ne__',\n",
              " '__new__',\n",
              " '__reduce__',\n",
              " '__reduce_ex__',\n",
              " '__repr__',\n",
              " '__setattr__',\n",
              " '__sizeof__',\n",
              " '__str__',\n",
              " '__subclasshook__',\n",
              " '__weakref__']"
            ]
          },
          "metadata": {
            "tags": []
          },
          "execution_count": 107
        }
      ]
    },
    {
      "cell_type": "code",
      "metadata": {
        "colab": {
          "base_uri": "https://localhost:8080/"
        },
        "id": "5FgcBad_pR1Y",
        "outputId": "10a61fd4-7468-4dd4-e60e-a27179afe3c5"
      },
      "source": [
        "dir(object)"
      ],
      "execution_count": null,
      "outputs": [
        {
          "output_type": "execute_result",
          "data": {
            "text/plain": [
              "['__class__',\n",
              " '__delattr__',\n",
              " '__dir__',\n",
              " '__doc__',\n",
              " '__eq__',\n",
              " '__format__',\n",
              " '__ge__',\n",
              " '__getattribute__',\n",
              " '__gt__',\n",
              " '__hash__',\n",
              " '__init__',\n",
              " '__init_subclass__',\n",
              " '__le__',\n",
              " '__lt__',\n",
              " '__ne__',\n",
              " '__new__',\n",
              " '__reduce__',\n",
              " '__reduce_ex__',\n",
              " '__repr__',\n",
              " '__setattr__',\n",
              " '__sizeof__',\n",
              " '__str__',\n",
              " '__subclasshook__']"
            ]
          },
          "metadata": {
            "tags": []
          },
          "execution_count": 108
        }
      ]
    },
    {
      "cell_type": "code",
      "metadata": {
        "colab": {
          "base_uri": "https://localhost:8080/"
        },
        "id": "PH0cjEfbpS1u",
        "outputId": "b0066301-566d-4d7d-8ec1-d11e29956cd8"
      },
      "source": [
        "set(dir(object) )- set(dir(D))"
      ],
      "execution_count": null,
      "outputs": [
        {
          "output_type": "execute_result",
          "data": {
            "text/plain": [
              "set()"
            ]
          },
          "metadata": {
            "tags": []
          },
          "execution_count": 112
        }
      ]
    },
    {
      "cell_type": "code",
      "metadata": {
        "id": "FIxbSNXPpVXQ"
      },
      "source": [
        "class B:\r\n",
        "  x=1\r\n",
        "\r\n",
        "class D(C): #C로부터 상속받음\r\n",
        "  y=1\r\n",
        "  pass"
      ],
      "execution_count": null,
      "outputs": []
    },
    {
      "cell_type": "code",
      "metadata": {
        "colab": {
          "base_uri": "https://localhost:8080/"
        },
        "id": "-dj3UZztphCB",
        "outputId": "7e9ed346-6a4d-4927-f3aa-7d9e28f292ed"
      },
      "source": [
        "D.x "
      ],
      "execution_count": null,
      "outputs": [
        {
          "output_type": "execute_result",
          "data": {
            "text/plain": [
              "10"
            ]
          },
          "metadata": {
            "tags": []
          },
          "execution_count": 122
        }
      ]
    },
    {
      "cell_type": "markdown",
      "metadata": {
        "id": "dm_Dt3J8pn-f"
      },
      "source": [
        "### 다중 상속\r\n",
        "- Python은 다중 상속 언어\r\n",
        "- 2개 이상의 클래스로부터 상속 받음\r\n",
        "- 상속 순서 문제가 생길 수 있음"
      ]
    },
    {
      "cell_type": "code",
      "metadata": {
        "id": "88qvkuLypkf_"
      },
      "source": [
        "class B:\r\n",
        "  x=1\r\n",
        "class C:\r\n",
        "  y=2\r\n",
        "\r\n",
        "class D(B,C): \r\n",
        "  pass"
      ],
      "execution_count": null,
      "outputs": []
    },
    {
      "cell_type": "code",
      "metadata": {
        "colab": {
          "base_uri": "https://localhost:8080/"
        },
        "id": "FYwsvUPMp4if",
        "outputId": "47719677-6724-425e-c736-8b9b731c6a6e"
      },
      "source": [
        "D.x"
      ],
      "execution_count": null,
      "outputs": [
        {
          "output_type": "execute_result",
          "data": {
            "text/plain": [
              "1"
            ]
          },
          "metadata": {
            "tags": []
          },
          "execution_count": 130
        }
      ]
    },
    {
      "cell_type": "code",
      "metadata": {
        "colab": {
          "base_uri": "https://localhost:8080/"
        },
        "id": "AgaZoM8hp60S",
        "outputId": "96886a64-6014-42be-e4ca-473baea5a274"
      },
      "source": [
        "D.y"
      ],
      "execution_count": null,
      "outputs": [
        {
          "output_type": "execute_result",
          "data": {
            "text/plain": [
              "2"
            ]
          },
          "metadata": {
            "tags": []
          },
          "execution_count": 131
        }
      ]
    },
    {
      "cell_type": "code",
      "metadata": {
        "id": "IN3RbHump7P9"
      },
      "source": [
        "class B:\r\n",
        "  x=1\r\n",
        "class C:\r\n",
        "  x=2\r\n",
        "\r\n",
        "class D(B,C): \r\n",
        "  pass"
      ],
      "execution_count": null,
      "outputs": []
    },
    {
      "cell_type": "code",
      "metadata": {
        "colab": {
          "base_uri": "https://localhost:8080/"
        },
        "id": "1raUXDjCqr9t",
        "outputId": "16dafcad-a7fd-4633-8e08-c4ec3b0620fb"
      },
      "source": [
        "D.x #B 클래스"
      ],
      "execution_count": null,
      "outputs": [
        {
          "output_type": "execute_result",
          "data": {
            "text/plain": [
              "1"
            ]
          },
          "metadata": {
            "tags": []
          },
          "execution_count": 133
        }
      ]
    },
    {
      "cell_type": "code",
      "metadata": {
        "id": "A7hcq2-prmQF"
      },
      "source": [
        "class B:\r\n",
        "  x=1\r\n",
        "  y=2\r\n",
        "  z=3\r\n",
        "  def z(self):\r\n",
        "    print('z')\r\n",
        "\r\n",
        "class D(B):\r\n",
        "  y=11         #오버라이딩해서 y 값 바꿈\r\n",
        "\r\n",
        "  def a(self): #추가\r\n",
        "    print('a')"
      ],
      "execution_count": null,
      "outputs": []
    },
    {
      "cell_type": "code",
      "metadata": {
        "colab": {
          "base_uri": "https://localhost:8080/"
        },
        "id": "KKpNLgwrsD68",
        "outputId": "96e2b076-3d45-43fa-e084-64e1a6c5d13a"
      },
      "source": [
        "D.y #변경 "
      ],
      "execution_count": null,
      "outputs": [
        {
          "output_type": "execute_result",
          "data": {
            "text/plain": [
              "11"
            ]
          },
          "metadata": {
            "tags": []
          },
          "execution_count": 138
        }
      ]
    },
    {
      "cell_type": "code",
      "metadata": {
        "colab": {
          "base_uri": "https://localhost:8080/"
        },
        "id": "PjV5c89HsFB6",
        "outputId": "450196f8-4d88-458a-a569-87da57173b00"
      },
      "source": [
        "D.a  #추가"
      ],
      "execution_count": null,
      "outputs": [
        {
          "output_type": "execute_result",
          "data": {
            "text/plain": [
              "<function __main__.D.a>"
            ]
          },
          "metadata": {
            "tags": []
          },
          "execution_count": 139
        }
      ]
    },
    {
      "cell_type": "markdown",
      "metadata": {
        "id": "PkVim9p8sSON"
      },
      "source": [
        "- 위임(deletation): D.x가 없으므로 상속 받은 부모 B의 x 상속 받음\r\n",
        "   > class attribute, instance attribute 관계와 비슷\r\n"
      ]
    },
    {
      "cell_type": "code",
      "metadata": {
        "colab": {
          "base_uri": "https://localhost:8080/"
        },
        "id": "1LkScX_msFre",
        "outputId": "f71274f4-2021-42be-c3f7-f938f793b02a"
      },
      "source": [
        "D.x is B.x  # 위임: D.x가 없으므로 부모 B의 x 상속받음"
      ],
      "execution_count": null,
      "outputs": [
        {
          "output_type": "execute_result",
          "data": {
            "text/plain": [
              "True"
            ]
          },
          "metadata": {
            "tags": []
          },
          "execution_count": 140
        }
      ]
    },
    {
      "cell_type": "code",
      "metadata": {
        "id": "0oYyGE7asXbR"
      },
      "source": [
        "a=1000\r\n",
        "b=1000"
      ],
      "execution_count": null,
      "outputs": []
    },
    {
      "cell_type": "code",
      "metadata": {
        "colab": {
          "base_uri": "https://localhost:8080/"
        },
        "id": "nmT-xcsZsXew",
        "outputId": "11fab2d6-1620-48eb-c4da-afeff4c8ff26"
      },
      "source": [
        "a==b #값 같음"
      ],
      "execution_count": null,
      "outputs": [
        {
          "output_type": "execute_result",
          "data": {
            "text/plain": [
              "True"
            ]
          },
          "metadata": {
            "tags": []
          },
          "execution_count": 142
        }
      ]
    },
    {
      "cell_type": "code",
      "metadata": {
        "colab": {
          "base_uri": "https://localhost:8080/"
        },
        "id": "nVha-torsaa3",
        "outputId": "e385dc2e-7520-4458-f936-12ee4682d746"
      },
      "source": [
        "a is b #메모리 값 다름"
      ],
      "execution_count": null,
      "outputs": [
        {
          "output_type": "execute_result",
          "data": {
            "text/plain": [
              "False"
            ]
          },
          "metadata": {
            "tags": []
          },
          "execution_count": 143
        }
      ]
    },
    {
      "cell_type": "code",
      "metadata": {
        "colab": {
          "base_uri": "https://localhost:8080/"
        },
        "id": "Tx_Hgry2sfu6",
        "outputId": "eda9f084-295b-4b0f-8823-c412c2552fc1"
      },
      "source": [
        "id(a) == id(b)"
      ],
      "execution_count": null,
      "outputs": [
        {
          "output_type": "execute_result",
          "data": {
            "text/plain": [
              "False"
            ]
          },
          "metadata": {
            "tags": []
          },
          "execution_count": 144
        }
      ]
    },
    {
      "cell_type": "markdown",
      "metadata": {
        "id": "Jj0Oi4WVtd9h"
      },
      "source": [
        "- 부모로부터 상속받기 때문에 부모의 값이 바뀌면 같이 바뀌게 되는 문제점 발생\r\n",
        "- 이러한 문제점 때문에 다른 방식 사용"
      ]
    },
    {
      "cell_type": "code",
      "metadata": {
        "id": "hvtk_jButPg_"
      },
      "source": [
        "class X:\r\n",
        "  a=1\r\n",
        "class Y(X):\r\n",
        "  pass"
      ],
      "execution_count": null,
      "outputs": []
    },
    {
      "cell_type": "code",
      "metadata": {
        "colab": {
          "base_uri": "https://localhost:8080/"
        },
        "id": "jQoHeTemtYQ2",
        "outputId": "7c3810bf-ed5c-4a23-a4de-1b71cffd0c70"
      },
      "source": [
        "Y.a"
      ],
      "execution_count": null,
      "outputs": [
        {
          "output_type": "execute_result",
          "data": {
            "text/plain": [
              "1"
            ]
          },
          "metadata": {
            "tags": []
          },
          "execution_count": 150
        }
      ]
    },
    {
      "cell_type": "code",
      "metadata": {
        "id": "JJtJL4oitYzH"
      },
      "source": [
        "X.a=2"
      ],
      "execution_count": null,
      "outputs": []
    },
    {
      "cell_type": "code",
      "metadata": {
        "colab": {
          "base_uri": "https://localhost:8080/"
        },
        "id": "g3SYG9REtZX4",
        "outputId": "0207949f-990d-455d-8d1d-687f6a262601"
      },
      "source": [
        "Y.a"
      ],
      "execution_count": null,
      "outputs": [
        {
          "output_type": "execute_result",
          "data": {
            "text/plain": [
              "2"
            ]
          },
          "metadata": {
            "tags": []
          },
          "execution_count": 152
        }
      ]
    },
    {
      "cell_type": "code",
      "metadata": {
        "id": "T6_qPYrGtaCb"
      },
      "source": [
        "class X:\r\n",
        "  a=1\r\n",
        "  def tt(self):\r\n",
        "    print('t')\r\n",
        "class Y(X):\r\n",
        "  def tt(self):\r\n",
        "    x.tt(self)\r\n",
        "    print('tt')"
      ],
      "execution_count": null,
      "outputs": []
    },
    {
      "cell_type": "code",
      "metadata": {
        "id": "ScKa2NfPyUUP"
      },
      "source": [
        "class A:\r\n",
        "  def __init__(self):\r\n",
        "    print('A')\r\n",
        "\r\n",
        "class B(AttributeError):\r\n",
        "  def __init__(self):\r\n",
        "    print('B')\r\n",
        "\r\n",
        "class C(A):\r\n",
        "  def __init__(self):\r\n",
        "    print('C')\r\n",
        " \r\n",
        "class D(B,C):\r\n",
        "  def __init__(self):\r\n",
        "    B.__init__(self)\r\n",
        "    C.__init__(self)\r\n",
        "    print('D')\r\n",
        "             "
      ],
      "execution_count": null,
      "outputs": []
    },
    {
      "cell_type": "code",
      "metadata": {
        "colab": {
          "base_uri": "https://localhost:8080/"
        },
        "id": "yrJRbg5myf3O",
        "outputId": "07653536-8fd2-43b7-bf88-c7e8a3b68d2e"
      },
      "source": [
        "d=D() "
      ],
      "execution_count": null,
      "outputs": [
        {
          "output_type": "stream",
          "text": [
            "B\n",
            "C\n",
            "D\n"
          ],
          "name": "stdout"
        }
      ]
    },
    {
      "cell_type": "code",
      "metadata": {
        "id": "c4CCX9ify4lt"
      },
      "source": [
        "class A:\r\n",
        "  def __init__(self):\r\n",
        "    print('A')\r\n",
        "\r\n",
        "class B(A):\r\n",
        "  def __init__(self): \r\n",
        "    A.__init__(self)\r\n",
        "    print('B')\r\n",
        "\r\n",
        "class C(A):\r\n",
        "\r\n",
        "  def __init__(self):\r\n",
        "    A.__init__(self)\r\n",
        "    print('C')\r\n",
        " \r\n",
        "class D(B,C):\r\n",
        "  def __init__(self):\r\n",
        "    B.__init__(self)\r\n",
        "    C.__init__(self)\r\n",
        "    print('D')"
      ],
      "execution_count": null,
      "outputs": []
    },
    {
      "cell_type": "code",
      "metadata": {
        "colab": {
          "base_uri": "https://localhost:8080/"
        },
        "id": "vgN8CdaHzI-4",
        "outputId": "24c38c5d-1457-4e2c-855d-da0f3b033016"
      },
      "source": [
        "d=D()  #다중 상속 순서 문제가 생김 "
      ],
      "execution_count": null,
      "outputs": [
        {
          "output_type": "stream",
          "text": [
            "A\n",
            "B\n",
            "A\n",
            "C\n",
            "D\n"
          ],
          "name": "stdout"
        }
      ]
    },
    {
      "cell_type": "markdown",
      "metadata": {
        "id": "7NN3JkMYzgwO"
      },
      "source": [
        "### super\r\n",
        "- `super(class, self )/ super()` 인스턴스 (첫 인자 생략되어 잇음)\r\n",
        "- **다중상속으로부터 중복되는 절차를 내부적으로 선형화**하여 순서를 찾아줌\r\n",
        "  > recursion : tail recursion elimination "
      ]
    },
    {
      "cell_type": "code",
      "metadata": {
        "id": "Uk5WhPu9zRxG"
      },
      "source": [
        "class A:\r\n",
        "  def __init__(self):\r\n",
        "    print('A')\r\n",
        "\r\n",
        "class B(A):\r\n",
        "  def __init__(self): \r\n",
        "    super(B,self).__init__( )  # super().__init__( ) 와 같이 생략 가능(편리)\r\n",
        "    print('B')\r\n",
        "\r\n",
        "class C(A):\r\n",
        "\r\n",
        "  def __init__(self):\r\n",
        "    super().__init__( )\r\n",
        "    print('C')\r\n",
        " \r\n",
        "class D(B,C):\r\n",
        "  def __init__(self):\r\n",
        "    super().__init__( )\r\n",
        "    print('D')"
      ],
      "execution_count": null,
      "outputs": []
    },
    {
      "cell_type": "markdown",
      "metadata": {
        "id": "BlL2gTwr3jcs"
      },
      "source": [
        "- stack 이여서 FILO(First In Last Out)\r\n",
        "- 입력 : A -> C -> B -> D\r\n",
        "- 출력 : D -> B -> C -> A"
      ]
    },
    {
      "cell_type": "code",
      "metadata": {
        "colab": {
          "base_uri": "https://localhost:8080/"
        },
        "id": "2D6sepWQzfaN",
        "outputId": "a8b42984-7300-4566-b1d6-e83b1c84ed4c"
      },
      "source": [
        "d=D()  #  D -> B -> C -> A"
      ],
      "execution_count": null,
      "outputs": [
        {
          "output_type": "stream",
          "text": [
            "A\n",
            "C\n",
            "B\n",
            "D\n"
          ],
          "name": "stdout"
        }
      ]
    },
    {
      "cell_type": "markdown",
      "metadata": {
        "id": "xs9CBhD_3JKj"
      },
      "source": [
        "#### mro\r\n",
        "- method resolution order\r\n",
        "- 파이썬에서 **상속받는 순서**를 알려줌"
      ]
    },
    {
      "cell_type": "code",
      "metadata": {
        "colab": {
          "base_uri": "https://localhost:8080/"
        },
        "id": "vmVQET_Z285W",
        "outputId": "4a891bd7-00dc-4a09-e920-49a5c67e36cd"
      },
      "source": [
        "D.mro() # method resolution order: #  D -> B -> C -> A 순"
      ],
      "execution_count": null,
      "outputs": [
        {
          "output_type": "execute_result",
          "data": {
            "text/plain": [
              "[__main__.D, __main__.B, __main__.C, __main__.A, object]"
            ]
          },
          "metadata": {
            "tags": []
          },
          "execution_count": 162
        }
      ]
    },
    {
      "cell_type": "code",
      "metadata": {
        "colab": {
          "base_uri": "https://localhost:8080/"
        },
        "id": "oNMwvjD-3MFh",
        "outputId": "147476ef-6890-4bc7-ff2e-fe64af39f0cb"
      },
      "source": [
        "dir(D) #mro 없음 "
      ],
      "execution_count": null,
      "outputs": [
        {
          "output_type": "execute_result",
          "data": {
            "text/plain": [
              "['__class__',\n",
              " '__delattr__',\n",
              " '__dict__',\n",
              " '__dir__',\n",
              " '__doc__',\n",
              " '__eq__',\n",
              " '__format__',\n",
              " '__ge__',\n",
              " '__getattribute__',\n",
              " '__gt__',\n",
              " '__hash__',\n",
              " '__init__',\n",
              " '__init_subclass__',\n",
              " '__le__',\n",
              " '__lt__',\n",
              " '__module__',\n",
              " '__ne__',\n",
              " '__new__',\n",
              " '__reduce__',\n",
              " '__reduce_ex__',\n",
              " '__repr__',\n",
              " '__setattr__',\n",
              " '__sizeof__',\n",
              " '__str__',\n",
              " '__subclasshook__',\n",
              " '__weakref__']"
            ]
          },
          "metadata": {
            "tags": []
          },
          "execution_count": 163
        }
      ]
    },
    {
      "cell_type": "code",
      "metadata": {
        "colab": {
          "base_uri": "https://localhost:8080/"
        },
        "id": "hRNtqO5x3cAM",
        "outputId": "02590e19-ed52-4e4e-970d-e9fa44b64916"
      },
      "source": [
        "dir(type(D)) #mro 있음"
      ],
      "execution_count": null,
      "outputs": [
        {
          "output_type": "execute_result",
          "data": {
            "text/plain": [
              "['__abstractmethods__',\n",
              " '__base__',\n",
              " '__bases__',\n",
              " '__basicsize__',\n",
              " '__call__',\n",
              " '__class__',\n",
              " '__delattr__',\n",
              " '__dict__',\n",
              " '__dictoffset__',\n",
              " '__dir__',\n",
              " '__doc__',\n",
              " '__eq__',\n",
              " '__flags__',\n",
              " '__format__',\n",
              " '__ge__',\n",
              " '__getattribute__',\n",
              " '__gt__',\n",
              " '__hash__',\n",
              " '__init__',\n",
              " '__init_subclass__',\n",
              " '__instancecheck__',\n",
              " '__itemsize__',\n",
              " '__le__',\n",
              " '__lt__',\n",
              " '__module__',\n",
              " '__mro__',\n",
              " '__name__',\n",
              " '__ne__',\n",
              " '__new__',\n",
              " '__prepare__',\n",
              " '__qualname__',\n",
              " '__reduce__',\n",
              " '__reduce_ex__',\n",
              " '__repr__',\n",
              " '__setattr__',\n",
              " '__sizeof__',\n",
              " '__str__',\n",
              " '__subclasscheck__',\n",
              " '__subclasses__',\n",
              " '__subclasshook__',\n",
              " '__text_signature__',\n",
              " '__weakrefoffset__',\n",
              " 'mro']"
            ]
          },
          "metadata": {
            "tags": []
          },
          "execution_count": 164
        }
      ]
    },
    {
      "cell_type": "markdown",
      "metadata": {
        "id": "xi0fErytn2-S"
      },
      "source": [
        "- 텐서플로우 예시\r\n",
        "\r\n",
        "\r\n",
        "> - 오버라이딩: 부모에 상속받은것을 뒤엎어서 재정의\r\n",
        "> - 오버로딩 (메소드, 연산자)\r\n",
        "  - Python 에서는 이름이 동일한 2개를 다른 함수로 간주하는  메소드 오버로딩 지원하지 않음\r\n"
      ]
    },
    {
      "cell_type": "code",
      "metadata": {
        "id": "xYQHDLzCnL83"
      },
      "source": [
        "from tensorflow.keras.layers import Dense, Flatten, Conv2D\r\n",
        "from tensorflow.keras import Model\r\n",
        "\r\n",
        "class MyModel(Model):  # Model 상속받음\r\n",
        "  def __init__(self):  # __init__ 은 메소드\r\n",
        "\r\n",
        "    # 오버라이딩으로 뒤엎어서 수정\r\n",
        "    super(MyModel, self).__init__()           # super( ).__init__()  사용해서 알아서 상속체계 순서 정리\r\n",
        "    #일부 변경해서 초기화, 객체지향의 composition 기법 \r\n",
        "    self.conv1 = Conv2D(32, 3, activation='relu')\r\n",
        "    self.flatten = Flatten()                 \r\n",
        "    self.d1 = Dense(128, activation='relu')  \r\n",
        "    self.d2 = Dense(10, activation='softmax')\r\n",
        "\r\n",
        "  def call(self, x):    #__call__ , build 를 동시에 부름 -> 인스턴스에 () 사용 가능\r\n",
        "\r\n",
        "    #오버라이딩으로 뒤엎어서 수정\r\n",
        "    x = self.conv1(x)\r\n",
        "    x = self.flatten(x)\r\n",
        "    x = self.d1(x)\r\n",
        "    return self.d2(x)\r\n",
        "\r\n",
        "model = MyModel()  #인스턴스화"
      ],
      "execution_count": null,
      "outputs": []
    },
    {
      "cell_type": "code",
      "metadata": {
        "id": "OJQW397E5vky"
      },
      "source": [
        "@tf.function\r\n",
        "def test_step(images, labels):\r\n",
        "  predictions = model(images)   # 함수형 패러다임의 closure 처럼 인스턴스에 () 사용 가능\r\n",
        "  t_loss = loss_object(labels, predictions)\r\n",
        "\r\n",
        "  test_loss(t_loss)\r\n",
        "  test_accuracy(labels, predictions)"
      ],
      "execution_count": null,
      "outputs": []
    },
    {
      "cell_type": "markdown",
      "metadata": {
        "id": "bp5semaX2f5d"
      },
      "source": [
        "#### metaclass\r\n",
        "- 클래스의 클래스\r\n",
        "- 객체 재사용 못하도록 할 수 있음"
      ]
    },
    {
      "cell_type": "code",
      "metadata": {
        "id": "J8mnk9xw2vjI"
      },
      "source": [
        "from sklearn.naive_bayes import ABCMeta, abstractmethod "
      ],
      "execution_count": null,
      "outputs": []
    },
    {
      "cell_type": "markdown",
      "metadata": {
        "id": "oWU3mxgL29B_"
      },
      "source": [
        "#### closure \r\n",
        "- `()()`2개 사용함"
      ]
    },
    {
      "cell_type": "code",
      "metadata": {
        "id": "qJFzWL_ozv_g"
      },
      "source": [
        "def x(m):\r\n",
        "  def y(n):\r\n",
        "    return m+n\r\n",
        "  return y"
      ],
      "execution_count": null,
      "outputs": []
    },
    {
      "cell_type": "code",
      "metadata": {
        "colab": {
          "base_uri": "https://localhost:8080/"
        },
        "id": "SHEdgXku4Ii0",
        "outputId": "5b529526-3a3f-4495-917d-a8899977717c"
      },
      "source": [
        "x(3)(4)"
      ],
      "execution_count": null,
      "outputs": [
        {
          "output_type": "execute_result",
          "data": {
            "text/plain": [
              "7"
            ]
          },
          "metadata": {
            "tags": []
          },
          "execution_count": 166
        }
      ]
    },
    {
      "cell_type": "markdown",
      "metadata": {
        "id": "-hyNsULO4Pck"
      },
      "source": [
        "\r\n",
        "\r\n",
        "- 인스턴스할때 `__init__` 실행됨\r\n",
        "- `__init__` 없는 경우 object 에 정의된 `__init__` 실행\r\n",
        "\r\n",
        "### \\_\\_call__\r\n",
        "- closure 처럼 class `()()` 2개 사용 가능 \r\n",
        "- 인스턴스에 `()` 붙일 수 있음"
      ]
    },
    {
      "cell_type": "code",
      "metadata": {
        "id": "uJTFgNMJ4JXw"
      },
      "source": [
        "class A:\r\n",
        "  def __call__(self):\r\n",
        "    print('__call__')\r\n",
        "    return 1 "
      ],
      "execution_count": null,
      "outputs": []
    },
    {
      "cell_type": "code",
      "metadata": {
        "id": "ctZw2rxY4UDl"
      },
      "source": [
        "a=A()  "
      ],
      "execution_count": null,
      "outputs": []
    },
    {
      "cell_type": "code",
      "metadata": {
        "colab": {
          "base_uri": "https://localhost:8080/"
        },
        "id": "5VYw8ePB4VIi",
        "outputId": "8b5a301c-a183-4cc9-c7ae-2d6fb9838ba1"
      },
      "source": [
        "A()() "
      ],
      "execution_count": null,
      "outputs": [
        {
          "output_type": "stream",
          "text": [
            "__call__\n"
          ],
          "name": "stdout"
        },
        {
          "output_type": "execute_result",
          "data": {
            "text/plain": [
              "1"
            ]
          },
          "metadata": {
            "tags": []
          },
          "execution_count": 169
        }
      ]
    },
    {
      "cell_type": "code",
      "metadata": {
        "colab": {
          "base_uri": "https://localhost:8080/"
        },
        "id": "pfxvO1oO4kSm",
        "outputId": "0f1919e0-7dfe-457b-d6e8-401db86b830b"
      },
      "source": [
        "a() # 인스턴스에() 붙일 수 있음"
      ],
      "execution_count": null,
      "outputs": [
        {
          "output_type": "stream",
          "text": [
            "__call__\n"
          ],
          "name": "stdout"
        },
        {
          "output_type": "execute_result",
          "data": {
            "text/plain": [
              "1"
            ]
          },
          "metadata": {
            "tags": []
          },
          "execution_count": 170
        }
      ]
    },
    {
      "cell_type": "code",
      "metadata": {
        "id": "lEl9Sc1g4nN2"
      },
      "source": [
        "class Y :\r\n",
        "  def __init__(self,a):\r\n",
        "    self.a=a\r\n",
        "  def __call__(self,b):\r\n",
        "    return self.a+b"
      ],
      "execution_count": null,
      "outputs": []
    },
    {
      "cell_type": "code",
      "metadata": {
        "colab": {
          "base_uri": "https://localhost:8080/"
        },
        "id": "WJop9GSd5Gu3",
        "outputId": "e9c9afac-dbd2-4bd0-e23b-b7ec11add99c"
      },
      "source": [
        "Y(3)"
      ],
      "execution_count": null,
      "outputs": [
        {
          "output_type": "execute_result",
          "data": {
            "text/plain": [
              "<__main__.Y at 0x7f741983e0b8>"
            ]
          },
          "metadata": {
            "tags": []
          },
          "execution_count": 174
        }
      ]
    },
    {
      "cell_type": "code",
      "metadata": {
        "colab": {
          "base_uri": "https://localhost:8080/"
        },
        "id": "wykHEpAF5CRH",
        "outputId": "f914c29a-63be-4735-d86b-3d5facb83866"
      },
      "source": [
        "Y(3)(4) #3+4"
      ],
      "execution_count": null,
      "outputs": [
        {
          "output_type": "execute_result",
          "data": {
            "text/plain": [
              "7"
            ]
          },
          "metadata": {
            "tags": []
          },
          "execution_count": 173
        }
      ]
    }
  ]
}