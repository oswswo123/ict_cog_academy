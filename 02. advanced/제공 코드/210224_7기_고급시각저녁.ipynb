{
  "nbformat": 4,
  "nbformat_minor": 0,
  "metadata": {
    "colab": {
      "name": "210224_7기_고급시각저녁",
      "provenance": [],
      "collapsed_sections": [],
      "toc_visible": true
    },
    "kernelspec": {
      "name": "python3",
      "display_name": "Python 3"
    }
  },
  "cells": [
    {
      "cell_type": "markdown",
      "metadata": {
        "id": "WJBFnFqJV8X2"
      },
      "source": [
        "# [ICTCOG AI Academy] 7기 고급시각저녁반\r\n",
        "# \t다양한 CNN 모델 (1)\r\n",
        "\r\n",
        "CNN_advanced.pdf 참고\r\n",
        "### convolution\r\n",
        "\r\n",
        "- 각각의 특징을 탐지하는 convolution 필터 여러개가 존재\r\n",
        "  - 예. 고양이의 눈,귀,코\r\n",
        "  - 유사할수록 값이 값이 최대화됨 ( element-wise )\r\n",
        "\r\n",
        "- 아미지의 다양한 경우를 고려\r\n",
        "- 위치에 덜 민감함\r\n",
        "  - > NN은 1차원화하기 때문에 위치에 민감함\r\n",
        "- 학습을 통해서 찾은 convolution 사람은 이해 불가\r\n",
        "  - black box model\r\n",
        "-  레이어가 깊어질수록 추상적인 특성을 추출"
      ]
    },
    {
      "cell_type": "code",
      "metadata": {
        "id": "yDS6-KKdVorj"
      },
      "source": [
        "import tensorflow as tf"
      ],
      "execution_count": 1,
      "outputs": []
    },
    {
      "cell_type": "code",
      "metadata": {
        "id": "Kno3GnSuWC5N"
      },
      "source": [
        "(X_train,y_train),(X_test,y_test) = tf.keras.datasets.mnist.load_data()"
      ],
      "execution_count": 3,
      "outputs": []
    },
    {
      "cell_type": "code",
      "metadata": {
        "colab": {
          "base_uri": "https://localhost:8080/"
        },
        "id": "S6zaSqiscrhd",
        "outputId": "22cb119a-14b3-4043-c35e-098557accc0f"
      },
      "source": [
        "X_train.shape"
      ],
      "execution_count": 4,
      "outputs": [
        {
          "output_type": "execute_result",
          "data": {
            "text/plain": [
              "(60000, 28, 28)"
            ]
          },
          "metadata": {
            "tags": []
          },
          "execution_count": 4
        }
      ]
    },
    {
      "cell_type": "code",
      "metadata": {
        "id": "HTKMNzI8cvzt"
      },
      "source": [
        "X_train_3d = X_train.reshape(-1,28,28,1) #dataset 3차원화"
      ],
      "execution_count": 11,
      "outputs": []
    },
    {
      "cell_type": "code",
      "metadata": {
        "id": "21ukimYDcbBs"
      },
      "source": [
        "#가장 간단한 뼈대\r\n",
        "inputs= tf.keras.layers.Input( shape=(28,28,1)) #channel last\r\n",
        "x= tf.keras.layers.Conv2D( 32,3 )(inputs)       #3x3 32개 \r\n",
        "x=tf.keras.layers.Flatten()(x)\r\n",
        "outputs=tf.keras.layers.Dense(10)(x)"
      ],
      "execution_count": 25,
      "outputs": []
    },
    {
      "cell_type": "code",
      "metadata": {
        "colab": {
          "base_uri": "https://localhost:8080/"
        },
        "id": "wXa5L93-dAKc",
        "outputId": "60fc2293-f67d-481b-a148-37ac1f5b5fb7"
      },
      "source": [
        "model=tf.keras.models.Model(inputs=inputs, outputs=outputs )\r\n",
        "model.summary() #학습파라미터 216,650"
      ],
      "execution_count": 26,
      "outputs": [
        {
          "output_type": "stream",
          "text": [
            "Model: \"model_6\"\n",
            "_________________________________________________________________\n",
            "Layer (type)                 Output Shape              Param #   \n",
            "=================================================================\n",
            "input_7 (InputLayer)         [(None, 28, 28, 1)]       0         \n",
            "_________________________________________________________________\n",
            "conv2d_10 (Conv2D)           (None, 26, 26, 32)        320       \n",
            "_________________________________________________________________\n",
            "flatten_6 (Flatten)          (None, 21632)             0         \n",
            "_________________________________________________________________\n",
            "dense_4 (Dense)              (None, 10)                216330    \n",
            "=================================================================\n",
            "Total params: 216,650\n",
            "Trainable params: 216,650\n",
            "Non-trainable params: 0\n",
            "_________________________________________________________________\n"
          ],
          "name": "stdout"
        }
      ]
    },
    {
      "cell_type": "code",
      "metadata": {
        "id": "-RdgeX6AevAD"
      },
      "source": [
        "# 컨볼루션 더 깊게 쌓기\r\n",
        "inputs= tf.keras.layers.Input( shape=(28,28,1)) #channel last\r\n",
        "x= tf.keras.layers.Conv2D( 32,3 )(inputs)       #3x3 32개 \r\n",
        "x=tf.keras.layers.Activation('relu')(x)\r\n",
        "x= tf.keras.layers.Conv2D( 64,3 )(x)       #3x3 64개 \r\n",
        "x=tf.keras.layers.Activation('relu')(x)\r\n",
        "x=tf.keras.layers.Flatten()(x)\r\n",
        "outputs=tf.keras.layers.Dense(10)(x)\r\n",
        "\r\n",
        "model=tf.keras.models.Model(inputs=inputs, outputs=outputs )"
      ],
      "execution_count": 23,
      "outputs": []
    },
    {
      "cell_type": "code",
      "metadata": {
        "colab": {
          "base_uri": "https://localhost:8080/"
        },
        "id": "mpAUle1AgTnS",
        "outputId": "2192e28d-0733-4a85-bf83-c71ca2cfb8e0"
      },
      "source": [
        "model.summary() #학습파라미터 387,466"
      ],
      "execution_count": 24,
      "outputs": [
        {
          "output_type": "stream",
          "text": [
            "Model: \"model_5\"\n",
            "_________________________________________________________________\n",
            "Layer (type)                 Output Shape              Param #   \n",
            "=================================================================\n",
            "input_6 (InputLayer)         [(None, 28, 28, 1)]       0         \n",
            "_________________________________________________________________\n",
            "conv2d_8 (Conv2D)            (None, 26, 26, 32)        320       \n",
            "_________________________________________________________________\n",
            "activation_6 (Activation)    (None, 26, 26, 32)        0         \n",
            "_________________________________________________________________\n",
            "conv2d_9 (Conv2D)            (None, 24, 24, 64)        18496     \n",
            "_________________________________________________________________\n",
            "activation_7 (Activation)    (None, 24, 24, 64)        0         \n",
            "_________________________________________________________________\n",
            "flatten_5 (Flatten)          (None, 36864)             0         \n",
            "_________________________________________________________________\n",
            "dense_3 (Dense)              (None, 10)                368650    \n",
            "=================================================================\n",
            "Total params: 387,466\n",
            "Trainable params: 387,466\n",
            "Non-trainable params: 0\n",
            "_________________________________________________________________\n"
          ],
          "name": "stdout"
        }
      ]
    },
    {
      "cell_type": "markdown",
      "metadata": {
        "id": "IQAgakGviKfd"
      },
      "source": [
        "학습파라미터가 클수록 데이터가 많이 필요함"
      ]
    },
    {
      "cell_type": "markdown",
      "metadata": {
        "id": "g-gCYHMEhGfE"
      },
      "source": [
        "### Pooling\r\n",
        "- pooling으로 학습파라미터 크기를 줄임\r\n",
        "- 이미지가 작은 경우 특징을 잘 추출하기 힘듦"
      ]
    },
    {
      "cell_type": "code",
      "metadata": {
        "colab": {
          "base_uri": "https://localhost:8080/"
        },
        "id": "ayV5wuiPe0Zd",
        "outputId": "41ce2d7d-1af3-4844-cd74-e18a4683a250"
      },
      "source": [
        "# 컨볼루션 더 깊게 쌓기\r\n",
        "inputs= tf.keras.layers.Input( shape=(28,28,1))\r\n",
        "x= tf.keras.layers.Conv2D( 32,3 )(inputs)       \r\n",
        "x=tf.keras.layers.Activation('relu')(x)\r\n",
        "x=tf.keras.layers.MaxPool2D(2)(x)             # pooling\r\n",
        "x= tf.keras.layers.Conv2D( 64,3 )(x)       \r\n",
        "x=tf.keras.layers.Activation('relu')(x)\r\n",
        "x=tf.keras.layers.MaxPool2D(2)(x)\r\n",
        "x= tf.keras.layers.Conv2D( 64,3 )(x)        \r\n",
        "x=tf.keras.layers.Activation('relu')(x)\r\n",
        "\r\n",
        "x=tf.keras.layers.Flatten()(x)\r\n",
        "outputs=tf.keras.layers.Dense(10)(x)\r\n",
        "\r\n",
        "model=tf.keras.models.Model(inputs=inputs, outputs=outputs )\r\n",
        "model.summary()                                # 학습 파라미터 급격히 줄어듦"
      ],
      "execution_count": 29,
      "outputs": [
        {
          "output_type": "stream",
          "text": [
            "Model: \"model_9\"\n",
            "_________________________________________________________________\n",
            "Layer (type)                 Output Shape              Param #   \n",
            "=================================================================\n",
            "input_10 (InputLayer)        [(None, 28, 28, 1)]       0         \n",
            "_________________________________________________________________\n",
            "conv2d_15 (Conv2D)           (None, 26, 26, 32)        320       \n",
            "_________________________________________________________________\n",
            "activation_12 (Activation)   (None, 26, 26, 32)        0         \n",
            "_________________________________________________________________\n",
            "max_pooling2d_2 (MaxPooling2 (None, 13, 13, 32)        0         \n",
            "_________________________________________________________________\n",
            "conv2d_16 (Conv2D)           (None, 11, 11, 64)        18496     \n",
            "_________________________________________________________________\n",
            "activation_13 (Activation)   (None, 11, 11, 64)        0         \n",
            "_________________________________________________________________\n",
            "max_pooling2d_3 (MaxPooling2 (None, 5, 5, 64)          0         \n",
            "_________________________________________________________________\n",
            "conv2d_17 (Conv2D)           (None, 3, 3, 64)          36928     \n",
            "_________________________________________________________________\n",
            "activation_14 (Activation)   (None, 3, 3, 64)          0         \n",
            "_________________________________________________________________\n",
            "flatten_9 (Flatten)          (None, 576)               0         \n",
            "_________________________________________________________________\n",
            "dense_7 (Dense)              (None, 10)                5770      \n",
            "=================================================================\n",
            "Total params: 61,514\n",
            "Trainable params: 61,514\n",
            "Non-trainable params: 0\n",
            "_________________________________________________________________\n"
          ],
          "name": "stdout"
        }
      ]
    },
    {
      "cell_type": "markdown",
      "metadata": {
        "id": "C7-D-3HOivCH"
      },
      "source": [
        "#### FCNN\r\n",
        "-  로컬 특징 잃음\r\n",
        "- computational power $$$\r\n",
        "\r\n",
        "#### LCNN\r\n",
        "- locally connected\r\n",
        "- FCNN보다 학습파라미터가 적음\r\n",
        "\r\n",
        "#### CNN\r\n",
        "- shared weights\r\n",
        "- **translational invariance**\r\n",
        ">  Local Contrast Normalization\r\n",
        "  - LCN 효과가 없음을 실험을 통해 밝혀냄\r\n",
        "\r\n",
        "### CNN 가정\r\n",
        "- stationarity of statistics 통계적 안정성\r\n",
        "- locality of pixel dependencies \r\n",
        "-  예측모델의 품질 측정 방법\r\n",
        "    - statistical efficiency상대적으로 적은 데이터로 학습시켜도 좋은 성능을 내야함 \r\n",
        "  - 필터 (H_f,W_f, C,_i, C_o) \r\n",
        "\r\n",
        "### CNN 문제점\r\n",
        "- 위치에 상관없이 특징을 파악하는게 단점이 되기도함\r\n",
        "- 캡슐 네트워크 by Hinton\r\n",
        "  - CNN 문제점 보완\r\n",
        "\r\n",
        "### Pooling\r\n",
        "- pooling해서 하나의 대표값으로 바꾸어 특징 파악 가능\r\n",
        "- 정확한 값 만 고려\r\n",
        "- 모델의 경우를 유연성 추가\r\n",
        "  - 약간의 회전에도 잘 파악하는 이유\r\n",
        "- 하나의 대표값으로 바꿈\r\n",
        "\r\n",
        "#### padding\r\n",
        "-  크기를 동일하게 유지하고 싶은 경우 \r\n",
        "- 가변 값들은 특징 파악이 잘 안되는 경우\r\n",
        "- zero-padding  일반적\r\n",
        "\r\n",
        "> No Free Lunch\r\n",
        "\r\n",
        "\r\n",
        "### 논문\r\n",
        "### Gradient-Based Learning Applied to Document Recognition by Yann LeCun, Yoshua Bengio\r\n",
        "#### LeNet5\r\n",
        "- 최초의 모델 소개\r\n",
        "- feature maps\r\n",
        "  - 컨볼루션한 결과\r\n",
        "- subsampling\r\n",
        "  - 대표값으로 줄임\r\n",
        "- maxpooling \r\n",
        "- computing power의 한계\r\n",
        "- 이미지가 작은 경우 kernel/filter 갯수 많음\r\n",
        "\r\n"
      ]
    },
    {
      "cell_type": "code",
      "metadata": {
        "colab": {
          "base_uri": "https://localhost:8080/"
        },
        "id": "AXNUBnLXwhoW",
        "outputId": "62a2fc11-2b4b-47ee-f0dc-31c348e8426f"
      },
      "source": [
        "model.layers"
      ],
      "execution_count": 31,
      "outputs": [
        {
          "output_type": "execute_result",
          "data": {
            "text/plain": [
              "[<tensorflow.python.keras.engine.input_layer.InputLayer at 0x7f3935c979d0>,\n",
              " <tensorflow.python.keras.layers.convolutional.Conv2D at 0x7f3935c8cc50>,\n",
              " <tensorflow.python.keras.layers.core.Activation at 0x7f3935cd57d0>,\n",
              " <tensorflow.python.keras.layers.pooling.MaxPooling2D at 0x7f3935d44490>,\n",
              " <tensorflow.python.keras.layers.convolutional.Conv2D at 0x7f3935cc5a90>,\n",
              " <tensorflow.python.keras.layers.core.Activation at 0x7f3935c98950>,\n",
              " <tensorflow.python.keras.layers.pooling.MaxPooling2D at 0x7f3935c9a290>,\n",
              " <tensorflow.python.keras.layers.convolutional.Conv2D at 0x7f3935ca2a10>,\n",
              " <tensorflow.python.keras.layers.core.Activation at 0x7f3935c26290>,\n",
              " <tensorflow.python.keras.layers.core.Flatten at 0x7f3935c284d0>,\n",
              " <tensorflow.python.keras.layers.core.Dense at 0x7f3935c2c290>]"
            ]
          },
          "metadata": {
            "tags": []
          },
          "execution_count": 31
        }
      ]
    },
    {
      "cell_type": "code",
      "metadata": {
        "colab": {
          "base_uri": "https://localhost:8080/"
        },
        "id": "XzcuxKpmh5Oi",
        "outputId": "7685b853-1240-47a1-9bd9-bb2ed93050c8"
      },
      "source": [
        "model.layers[1].weights"
      ],
      "execution_count": 32,
      "outputs": [
        {
          "output_type": "execute_result",
          "data": {
            "text/plain": [
              "[<tf.Variable 'conv2d_15/kernel:0' shape=(3, 3, 1, 32) dtype=float32, numpy=\n",
              " array([[[[-0.10464747,  0.09557877,  0.11799447, -0.10255449,\n",
              "            0.1392379 ,  0.01726529,  0.10698991, -0.04620139,\n",
              "           -0.03272938, -0.06362067, -0.10697258, -0.1014405 ,\n",
              "            0.11675908,  0.09906514,  0.02982171, -0.06852186,\n",
              "           -0.14018679,  0.09533614, -0.06171113,  0.01816937,\n",
              "           -0.01694323, -0.11196334, -0.01497936, -0.04581403,\n",
              "            0.13030244, -0.098335  ,  0.00497927, -0.03364054,\n",
              "           -0.03437515, -0.10441165, -0.11840166, -0.12051989]],\n",
              " \n",
              "         [[-0.01083001,  0.0347655 , -0.1372103 , -0.08354002,\n",
              "            0.02445978, -0.09108914, -0.11538833,  0.07897568,\n",
              "           -0.08985642, -0.05794017,  0.12519334,  0.10769187,\n",
              "            0.07565434,  0.12376811,  0.00316538,  0.11313693,\n",
              "           -0.03250701,  0.12885307, -0.03211127,  0.04137519,\n",
              "            0.00455365, -0.09672806, -0.08972979,  0.07300831,\n",
              "            0.12717514, -0.0681629 ,  0.03698729, -0.12238377,\n",
              "           -0.11583253, -0.03092779, -0.14177763,  0.00698395]],\n",
              " \n",
              "         [[ 0.0950909 , -0.11082815,  0.08832353, -0.10171682,\n",
              "            0.07805003, -0.06526665,  0.08120929,  0.08013842,\n",
              "           -0.06713648,  0.10569571, -0.03640924, -0.06172915,\n",
              "            0.06899832,  0.13792728,  0.04259928, -0.02558789,\n",
              "            0.12261559,  0.06862648, -0.07822873, -0.09004345,\n",
              "           -0.05111022, -0.08212611,  0.06522612,  0.07600358,\n",
              "            0.07952806, -0.02893051, -0.09535563, -0.06959257,\n",
              "            0.08969316, -0.02577624, -0.0210925 ,  0.11720492]]],\n",
              " \n",
              " \n",
              "        [[[-0.08302629, -0.03257746, -0.10064832, -0.03707075,\n",
              "           -0.01191607, -0.06425298, -0.00206839,  0.02584398,\n",
              "            0.04182552,  0.05598085,  0.08163257,  0.14093326,\n",
              "           -0.11871417, -0.0009118 , -0.00097175, -0.07167701,\n",
              "            0.0634205 ,  0.09124029, -0.09053214, -0.0633774 ,\n",
              "           -0.11670049,  0.09482804,  0.00807518,  0.03650327,\n",
              "            0.06148414, -0.12240599, -0.06449097,  0.01251395,\n",
              "           -0.11940968,  0.04787594, -0.10224658, -0.06493286]],\n",
              " \n",
              "         [[-0.02373588, -0.02190179, -0.13760185,  0.03135233,\n",
              "           -0.03769479, -0.09498537,  0.0231681 ,  0.08665366,\n",
              "           -0.100596  , -0.11315347, -0.00826831,  0.10399544,\n",
              "           -0.07545583, -0.10133891, -0.07706656,  0.06324571,\n",
              "           -0.0035824 ,  0.03607033, -0.09717494,  0.06985557,\n",
              "           -0.10197142,  0.01488343, -0.14112902,  0.12420098,\n",
              "           -0.12952   , -0.04184033, -0.00232302,  0.05434202,\n",
              "           -0.02937538,  0.07046774,  0.03551251,  0.13594149]],\n",
              " \n",
              "         [[-0.13665316,  0.13556768, -0.11525939, -0.11115675,\n",
              "            0.06598255, -0.00402066, -0.10346839, -0.09067894,\n",
              "            0.00937121,  0.08405599,  0.13556187, -0.07471997,\n",
              "            0.07192832,  0.13693698,  0.09070764, -0.1367008 ,\n",
              "            0.12974404, -0.03115568, -0.10141607, -0.01641282,\n",
              "           -0.12370405,  0.10268092, -0.03010667,  0.06357083,\n",
              "           -0.03693067,  0.10760929, -0.05226706, -0.11630936,\n",
              "           -0.0029954 , -0.0635509 ,  0.09466754, -0.08450019]]],\n",
              " \n",
              " \n",
              "        [[[ 0.11518873,  0.02206489, -0.13292953, -0.1415878 ,\n",
              "           -0.09671336, -0.02024592, -0.00243311, -0.12302004,\n",
              "           -0.0111613 , -0.07984309, -0.06366923,  0.08771467,\n",
              "           -0.06430713, -0.01975307, -0.03068943,  0.10337564,\n",
              "           -0.11775048,  0.11435495, -0.08698254, -0.06191614,\n",
              "            0.10872246, -0.09043193,  0.04141091,  0.01910925,\n",
              "           -0.13248146, -0.02539989,  0.0991827 ,  0.12333547,\n",
              "           -0.10646454, -0.02610281, -0.0548366 ,  0.045747  ]],\n",
              " \n",
              "         [[ 0.12831767, -0.11921547, -0.04154144,  0.08906525,\n",
              "           -0.11061337,  0.07341625,  0.09365435, -0.08094162,\n",
              "           -0.10474283, -0.08024316, -0.04028381, -0.06553192,\n",
              "           -0.11874457,  0.1038343 ,  0.11647581,  0.05592862,\n",
              "           -0.04385158, -0.13864101,  0.08269894, -0.09301357,\n",
              "            0.00689408, -0.05309306,  0.08730078, -0.12020756,\n",
              "           -0.0156018 , -0.02887025, -0.12262796, -0.1277219 ,\n",
              "            0.1311362 , -0.04921032,  0.05306128, -0.0829636 ]],\n",
              " \n",
              "         [[-0.13749424, -0.08577716, -0.12386874, -0.1338043 ,\n",
              "            0.13412021,  0.11750968,  0.02197497, -0.09657004,\n",
              "            0.08849849,  0.03050928, -0.12985596,  0.07318358,\n",
              "            0.0142394 ,  0.03028397,  0.05321899,  0.09031448,\n",
              "           -0.14072664, -0.02395655, -0.05987538, -0.13852993,\n",
              "           -0.10702036,  0.09877327, -0.00851165, -0.03285415,\n",
              "           -0.0382401 , -0.04818197, -0.06299721,  0.07605241,\n",
              "           -0.06323043,  0.01031208, -0.0916004 , -0.04496559]]]],\n",
              "       dtype=float32)>,\n",
              " <tf.Variable 'conv2d_15/bias:0' shape=(32,) dtype=float32, numpy=\n",
              " array([0., 0., 0., 0., 0., 0., 0., 0., 0., 0., 0., 0., 0., 0., 0., 0., 0.,\n",
              "        0., 0., 0., 0., 0., 0., 0., 0., 0., 0., 0., 0., 0., 0., 0.],\n",
              "       dtype=float32)>]"
            ]
          },
          "metadata": {
            "tags": []
          },
          "execution_count": 32
        }
      ]
    },
    {
      "cell_type": "code",
      "metadata": {
        "colab": {
          "base_uri": "https://localhost:8080/"
        },
        "id": "gxBFlKX7wqeg",
        "outputId": "54ae3506-417a-44c4-c680-6fb67ed24031"
      },
      "source": [
        "model.layers[1].kernel"
      ],
      "execution_count": 38,
      "outputs": [
        {
          "output_type": "execute_result",
          "data": {
            "text/plain": [
              "<tf.Variable 'conv2d_15/kernel:0' shape=(3, 3, 1, 32) dtype=float32, numpy=\n",
              "array([[[[-0.10464747,  0.09557877,  0.11799447, -0.10255449,\n",
              "           0.1392379 ,  0.01726529,  0.10698991, -0.04620139,\n",
              "          -0.03272938, -0.06362067, -0.10697258, -0.1014405 ,\n",
              "           0.11675908,  0.09906514,  0.02982171, -0.06852186,\n",
              "          -0.14018679,  0.09533614, -0.06171113,  0.01816937,\n",
              "          -0.01694323, -0.11196334, -0.01497936, -0.04581403,\n",
              "           0.13030244, -0.098335  ,  0.00497927, -0.03364054,\n",
              "          -0.03437515, -0.10441165, -0.11840166, -0.12051989]],\n",
              "\n",
              "        [[-0.01083001,  0.0347655 , -0.1372103 , -0.08354002,\n",
              "           0.02445978, -0.09108914, -0.11538833,  0.07897568,\n",
              "          -0.08985642, -0.05794017,  0.12519334,  0.10769187,\n",
              "           0.07565434,  0.12376811,  0.00316538,  0.11313693,\n",
              "          -0.03250701,  0.12885307, -0.03211127,  0.04137519,\n",
              "           0.00455365, -0.09672806, -0.08972979,  0.07300831,\n",
              "           0.12717514, -0.0681629 ,  0.03698729, -0.12238377,\n",
              "          -0.11583253, -0.03092779, -0.14177763,  0.00698395]],\n",
              "\n",
              "        [[ 0.0950909 , -0.11082815,  0.08832353, -0.10171682,\n",
              "           0.07805003, -0.06526665,  0.08120929,  0.08013842,\n",
              "          -0.06713648,  0.10569571, -0.03640924, -0.06172915,\n",
              "           0.06899832,  0.13792728,  0.04259928, -0.02558789,\n",
              "           0.12261559,  0.06862648, -0.07822873, -0.09004345,\n",
              "          -0.05111022, -0.08212611,  0.06522612,  0.07600358,\n",
              "           0.07952806, -0.02893051, -0.09535563, -0.06959257,\n",
              "           0.08969316, -0.02577624, -0.0210925 ,  0.11720492]]],\n",
              "\n",
              "\n",
              "       [[[-0.08302629, -0.03257746, -0.10064832, -0.03707075,\n",
              "          -0.01191607, -0.06425298, -0.00206839,  0.02584398,\n",
              "           0.04182552,  0.05598085,  0.08163257,  0.14093326,\n",
              "          -0.11871417, -0.0009118 , -0.00097175, -0.07167701,\n",
              "           0.0634205 ,  0.09124029, -0.09053214, -0.0633774 ,\n",
              "          -0.11670049,  0.09482804,  0.00807518,  0.03650327,\n",
              "           0.06148414, -0.12240599, -0.06449097,  0.01251395,\n",
              "          -0.11940968,  0.04787594, -0.10224658, -0.06493286]],\n",
              "\n",
              "        [[-0.02373588, -0.02190179, -0.13760185,  0.03135233,\n",
              "          -0.03769479, -0.09498537,  0.0231681 ,  0.08665366,\n",
              "          -0.100596  , -0.11315347, -0.00826831,  0.10399544,\n",
              "          -0.07545583, -0.10133891, -0.07706656,  0.06324571,\n",
              "          -0.0035824 ,  0.03607033, -0.09717494,  0.06985557,\n",
              "          -0.10197142,  0.01488343, -0.14112902,  0.12420098,\n",
              "          -0.12952   , -0.04184033, -0.00232302,  0.05434202,\n",
              "          -0.02937538,  0.07046774,  0.03551251,  0.13594149]],\n",
              "\n",
              "        [[-0.13665316,  0.13556768, -0.11525939, -0.11115675,\n",
              "           0.06598255, -0.00402066, -0.10346839, -0.09067894,\n",
              "           0.00937121,  0.08405599,  0.13556187, -0.07471997,\n",
              "           0.07192832,  0.13693698,  0.09070764, -0.1367008 ,\n",
              "           0.12974404, -0.03115568, -0.10141607, -0.01641282,\n",
              "          -0.12370405,  0.10268092, -0.03010667,  0.06357083,\n",
              "          -0.03693067,  0.10760929, -0.05226706, -0.11630936,\n",
              "          -0.0029954 , -0.0635509 ,  0.09466754, -0.08450019]]],\n",
              "\n",
              "\n",
              "       [[[ 0.11518873,  0.02206489, -0.13292953, -0.1415878 ,\n",
              "          -0.09671336, -0.02024592, -0.00243311, -0.12302004,\n",
              "          -0.0111613 , -0.07984309, -0.06366923,  0.08771467,\n",
              "          -0.06430713, -0.01975307, -0.03068943,  0.10337564,\n",
              "          -0.11775048,  0.11435495, -0.08698254, -0.06191614,\n",
              "           0.10872246, -0.09043193,  0.04141091,  0.01910925,\n",
              "          -0.13248146, -0.02539989,  0.0991827 ,  0.12333547,\n",
              "          -0.10646454, -0.02610281, -0.0548366 ,  0.045747  ]],\n",
              "\n",
              "        [[ 0.12831767, -0.11921547, -0.04154144,  0.08906525,\n",
              "          -0.11061337,  0.07341625,  0.09365435, -0.08094162,\n",
              "          -0.10474283, -0.08024316, -0.04028381, -0.06553192,\n",
              "          -0.11874457,  0.1038343 ,  0.11647581,  0.05592862,\n",
              "          -0.04385158, -0.13864101,  0.08269894, -0.09301357,\n",
              "           0.00689408, -0.05309306,  0.08730078, -0.12020756,\n",
              "          -0.0156018 , -0.02887025, -0.12262796, -0.1277219 ,\n",
              "           0.1311362 , -0.04921032,  0.05306128, -0.0829636 ]],\n",
              "\n",
              "        [[-0.13749424, -0.08577716, -0.12386874, -0.1338043 ,\n",
              "           0.13412021,  0.11750968,  0.02197497, -0.09657004,\n",
              "           0.08849849,  0.03050928, -0.12985596,  0.07318358,\n",
              "           0.0142394 ,  0.03028397,  0.05321899,  0.09031448,\n",
              "          -0.14072664, -0.02395655, -0.05987538, -0.13852993,\n",
              "          -0.10702036,  0.09877327, -0.00851165, -0.03285415,\n",
              "          -0.0382401 , -0.04818197, -0.06299721,  0.07605241,\n",
              "          -0.06323043,  0.01031208, -0.0916004 , -0.04496559]]]],\n",
              "      dtype=float32)>"
            ]
          },
          "metadata": {
            "tags": []
          },
          "execution_count": 38
        }
      ]
    },
    {
      "cell_type": "code",
      "metadata": {
        "colab": {
          "base_uri": "https://localhost:8080/"
        },
        "id": "MwOPwB8hwoLs",
        "outputId": "9f57b28c-17c1-40d6-fcd5-21a5da21bd49"
      },
      "source": [
        "model.layers[1].bias"
      ],
      "execution_count": 34,
      "outputs": [
        {
          "output_type": "execute_result",
          "data": {
            "text/plain": [
              "<tf.Variable 'conv2d_15/bias:0' shape=(32,) dtype=float32, numpy=\n",
              "array([0., 0., 0., 0., 0., 0., 0., 0., 0., 0., 0., 0., 0., 0., 0., 0., 0.,\n",
              "       0., 0., 0., 0., 0., 0., 0., 0., 0., 0., 0., 0., 0., 0., 0.],\n",
              "      dtype=float32)>"
            ]
          },
          "metadata": {
            "tags": []
          },
          "execution_count": 34
        }
      ]
    },
    {
      "cell_type": "code",
      "metadata": {
        "id": "lZqldOAww5-v"
      },
      "source": [
        "#초기화된 weights는 학습을 통해서 바뀌게 됨\r\n",
        "tf.keras.layers.Conv2D(kernel_initializer=)"
      ],
      "execution_count": null,
      "outputs": []
    },
    {
      "cell_type": "markdown",
      "metadata": {
        "id": "i3nFA-bkxVK0"
      },
      "source": [
        "### Invariance vs equivariance\r\n",
        "\r\n",
        "##### translational invariance\r\n",
        "- input **위치에 상관없이 output이 동일한 값**을 갖는것\r\n",
        "- CNN의 특성 \r\n",
        ">  크기, 회전, illumination Invariance 등이 있음\r\n",
        "- > Convolution 자체만으로 예측모델 사용 불가(segmentation에서 다시 다룰 예정)\r\n",
        "  - data augmentation 하는 이유\r\n",
        "\r\n",
        "> Convnet 은 convolution + FCNN => invariant \r\n",
        "- 이미지 크기 중요함 \r\n",
        "\r\n",
        "##### equivariance\r\n",
        "  - 변환하고 어떤값을 넣는 경우\r\n",
        "  - 위치에 따라 결과값 상이함\r\n",
        "> 학습된 이후에는 classifier 일반 ML 모델로도 가능\r\n",
        "\r\n",
        "#### Pooling\r\n",
        "- 계산 복잡도 줄임\r\n",
        "- 값을 대표하면서 어느정도까지** scale, rotation 까지 invariant**하게 됨\r\n",
        "- 유연성 증가\r\n",
        "- pooling 사용하지 않는 이유\r\n",
        "  - Hinton은 Pooling 통해서 복잡도를 줄일 필요 없다함\r\n",
        "  - 논문 Striving for Simplicity : The All Convolutional Net\r\n",
        "  - VAEs, GANs 에서 pooling 사용하지 않을때 더 좋은 성능이 나옴\r\n",
        "  - >  No Free Lunch : 상황에 따라 다르다.\r\n",
        "\r\n",
        "### Data Augmentaion \r\n",
        "- 기존의 데이터를 이용해서 새로운 데이터를 생성하면 overfitting을 방지하나 성능은 어느정도만 향상\r\n",
        "-  feature cross (특성 교차)\r\n",
        "- [CNN Explainer](https://poloclub.github.io/cnn-explainer/) \r\n",
        "  - CNN 시각적으로 이해 도움\r\n",
        "  - 개념 익히기 좋음\r\n",
        "[Deep Larning 책 ](https://www.deeplearningbook.org/)\r\n",
        "\r\n",
        "- Partial Convolutional based Padding\r\n",
        "   - Padding 에 따른 성능 비교 \r\n",
        "\r\n"
      ]
    },
    {
      "cell_type": "code",
      "metadata": {
        "id": "KKcWvpAxws1n"
      },
      "source": [
        "import numpy as np\r\n",
        "import scipy"
      ],
      "execution_count": 39,
      "outputs": []
    },
    {
      "cell_type": "code",
      "metadata": {
        "id": "mwSaNRq5Ew3N"
      },
      "source": [
        "np.convolve()          # mode='full','same','valid'\r\n",
        "scipy.ndimage.convolve # 여러가지 모드 지원"
      ],
      "execution_count": null,
      "outputs": []
    },
    {
      "cell_type": "code",
      "metadata": {
        "id": "WNpcWVY2GTfX"
      },
      "source": [
        "(train_images, train_labels), (test_images, test_labels) = tf.keras.datasets.mnist.load_data()\r\n",
        "\r\n",
        "train_images = train_images.reshape((60000, 28, 28, 1))\r\n",
        "test_images = test_images.reshape((10000, 28, 28, 1))\r\n",
        "\r\n",
        "#MinMaxScaler\r\n",
        "train_images, test_images = train_images / 255.0, test_images / 255.0"
      ],
      "execution_count": 41,
      "outputs": []
    },
    {
      "cell_type": "markdown",
      "metadata": {
        "id": "J75FzU6JGcbf"
      },
      "source": [
        "### scaler\r\n",
        "- 성능 향상\r\n",
        "  - 1 ~  0 양의 값만 갖음 \r\n",
        "  - 1 ~ -1 양,음 둘다 나옴\r\n",
        "    - 복잡하고, underfitting인 경우\r\n"
      ]
    },
    {
      "cell_type": "code",
      "metadata": {
        "id": "ZSooIMSSGwvh"
      },
      "source": [
        "model = tf.keras.models.Sequential()\r\n",
        "#1. Feature Extractor \r\n",
        "# 3x3 필터 32개\r\n",
        "model.add(tf.keras.layers.Conv2D(32, (3, 3), activation='relu', input_shape=(28, 28, 1)))\r\n",
        "model.add(tf.keras.layers.MaxPooling2D((2, 2)))\r\n",
        "model.add(tf.keras.layers.Conv2D(64, (3, 3), activation='relu')) #크기를 늘림\r\n",
        "model.add(tf.keras.layers.MaxPooling2D((2, 2)))\r\n",
        "model.add(tf.keras.layers.Conv2D(64, (3, 3), activation='relu'))"
      ],
      "execution_count": 44,
      "outputs": []
    },
    {
      "cell_type": "code",
      "metadata": {
        "colab": {
          "base_uri": "https://localhost:8080/"
        },
        "id": "1EHWccRQHKVU",
        "outputId": "326db177-bd76-46ad-af30-61be4a6da9bb"
      },
      "source": [
        "model.summary()"
      ],
      "execution_count": 45,
      "outputs": [
        {
          "output_type": "stream",
          "text": [
            "Model: \"sequential_2\"\n",
            "_________________________________________________________________\n",
            "Layer (type)                 Output Shape              Param #   \n",
            "=================================================================\n",
            "conv2d_18 (Conv2D)           (None, 26, 26, 32)        320       \n",
            "_________________________________________________________________\n",
            "max_pooling2d_4 (MaxPooling2 (None, 13, 13, 32)        0         \n",
            "_________________________________________________________________\n",
            "conv2d_19 (Conv2D)           (None, 11, 11, 64)        18496     \n",
            "_________________________________________________________________\n",
            "max_pooling2d_5 (MaxPooling2 (None, 5, 5, 64)          0         \n",
            "_________________________________________________________________\n",
            "conv2d_20 (Conv2D)           (None, 3, 3, 64)          36928     \n",
            "=================================================================\n",
            "Total params: 55,744\n",
            "Trainable params: 55,744\n",
            "Non-trainable params: 0\n",
            "_________________________________________________________________\n"
          ],
          "name": "stdout"
        }
      ]
    },
    {
      "cell_type": "code",
      "metadata": {
        "id": "u3s1VK5KHW1t"
      },
      "source": [
        "#2. Classifier 연결(위보다 간단함)\r\n",
        "model.add(tf.keras.layers.Flatten())  #Flatten 한 후 연결\r\n",
        "model.add(tf.keras.layers.Dense(64, activation='relu'))\r\n",
        "model.add(tf.keras.layers.Dense(10, activation='softmax'))"
      ],
      "execution_count": 47,
      "outputs": []
    },
    {
      "cell_type": "code",
      "metadata": {
        "colab": {
          "base_uri": "https://localhost:8080/"
        },
        "id": "PnEZTrPBH_pX",
        "outputId": "028c65fc-fa92-431a-d309-33d1fa66e2e5"
      },
      "source": [
        "model.summary()"
      ],
      "execution_count": 48,
      "outputs": [
        {
          "output_type": "stream",
          "text": [
            "Model: \"sequential_2\"\n",
            "_________________________________________________________________\n",
            "Layer (type)                 Output Shape              Param #   \n",
            "=================================================================\n",
            "conv2d_18 (Conv2D)           (None, 26, 26, 32)        320       \n",
            "_________________________________________________________________\n",
            "max_pooling2d_4 (MaxPooling2 (None, 13, 13, 32)        0         \n",
            "_________________________________________________________________\n",
            "conv2d_19 (Conv2D)           (None, 11, 11, 64)        18496     \n",
            "_________________________________________________________________\n",
            "max_pooling2d_5 (MaxPooling2 (None, 5, 5, 64)          0         \n",
            "_________________________________________________________________\n",
            "conv2d_20 (Conv2D)           (None, 3, 3, 64)          36928     \n",
            "_________________________________________________________________\n",
            "flatten_10 (Flatten)         (None, 576)               0         \n",
            "_________________________________________________________________\n",
            "dense_8 (Dense)              (None, 64)                36928     \n",
            "_________________________________________________________________\n",
            "dense_9 (Dense)              (None, 10)                650       \n",
            "_________________________________________________________________\n",
            "flatten_11 (Flatten)         (None, 10)                0         \n",
            "_________________________________________________________________\n",
            "dense_10 (Dense)             (None, 64)                704       \n",
            "_________________________________________________________________\n",
            "dense_11 (Dense)             (None, 10)                650       \n",
            "=================================================================\n",
            "Total params: 94,676\n",
            "Trainable params: 94,676\n",
            "Non-trainable params: 0\n",
            "_________________________________________________________________\n"
          ],
          "name": "stdout"
        }
      ]
    },
    {
      "cell_type": "markdown",
      "metadata": {
        "id": "jaRdmZKmJN33"
      },
      "source": [
        "> 논문 보는법\r\n",
        "  1. Abstract 확인\r\n",
        "  2. Experiments 확인\r\n",
        "    - 실험 내용,결과 "
      ]
    }
  ]
}