{
  "nbformat": 4,
  "nbformat_minor": 0,
  "metadata": {
    "colab": {
      "name": "210317_7기_고급시각저녁",
      "provenance": []
    },
    "kernelspec": {
      "name": "python3",
      "display_name": "Python 3"
    }
  },
  "cells": [
    {
      "cell_type": "code",
      "metadata": {
        "id": "pE1JnHn6k_qR"
      },
      "source": [
        "import tensorflow as tf"
      ],
      "execution_count": 1,
      "outputs": []
    },
    {
      "cell_type": "code",
      "metadata": {
        "id": "4-ZqJnASjgda"
      },
      "source": [
        "import tensorflow_probability as tfp #확률 관련 라이브러리리mport tensorflow_probability #확률 관련 라이브러리"
      ],
      "execution_count": 2,
      "outputs": []
    },
    {
      "cell_type": "code",
      "metadata": {
        "id": "OkNR8iwNmTtM"
      },
      "source": [
        "!pip install tensorflow-probability==0.11.1 #아무 숫자를 넣으면 사용 할 수있는 낮은 버전으로 재설치 하는 테크닉닉"
      ],
      "execution_count": null,
      "outputs": []
    },
    {
      "cell_type": "code",
      "metadata": {
        "colab": {
          "base_uri": "https://localhost:8080/"
        },
        "id": "kT6z8pVOmaEQ",
        "outputId": "12f61d14-d1d5-42df-a69b-9d201e7b2aad"
      },
      "source": [
        "dir(tfp)"
      ],
      "execution_count": 3,
      "outputs": [
        {
          "output_type": "execute_result",
          "data": {
            "text/plain": [
              "['__builtins__',\n",
              " '__cached__',\n",
              " '__doc__',\n",
              " '__file__',\n",
              " '__loader__',\n",
              " '__name__',\n",
              " '__package__',\n",
              " '__path__',\n",
              " '__spec__',\n",
              " '__version__',\n",
              " 'bijectors',\n",
              " 'debugging',\n",
              " 'distributions',\n",
              " 'experimental',\n",
              " 'glm',\n",
              " 'layers',\n",
              " 'math',\n",
              " 'mcmc',\n",
              " 'monte_carlo',\n",
              " 'optimizer',\n",
              " 'python',\n",
              " 'random',\n",
              " 'stats',\n",
              " 'sts',\n",
              " 'substrates',\n",
              " 'util',\n",
              " 'vi']"
            ]
          },
          "metadata": {
            "tags": []
          },
          "execution_count": 3
        }
      ]
    },
    {
      "cell_type": "markdown",
      "metadata": {
        "id": "EsjxopILm-x3"
      },
      "source": [
        "텐서플로우 추가 모듈 설치\r\n",
        "- tensorflow hub, datasets, probability , addons"
      ]
    },
    {
      "cell_type": "code",
      "metadata": {
        "id": "8iutITwLmilX"
      },
      "source": [
        "(X_train,_),(X_test,_) = tf.keras.datasets.mnist.load_data()"
      ],
      "execution_count": 5,
      "outputs": []
    },
    {
      "cell_type": "code",
      "metadata": {
        "id": "7VuSRIW1nVjK"
      },
      "source": [
        "X_train = X_train.reshape(60000,28,28,1)/255\r\n",
        "X_test = X_test.reshape(60000,28,28,1)/255"
      ],
      "execution_count": null,
      "outputs": []
    },
    {
      "cell_type": "code",
      "metadata": {
        "id": "0xEpNitynvRm"
      },
      "source": [
        "import numpy as np"
      ],
      "execution_count": 6,
      "outputs": []
    },
    {
      "cell_type": "code",
      "metadata": {
        "colab": {
          "base_uri": "https://localhost:8080/"
        },
        "id": "7Qz1iPCOnw-U",
        "outputId": "d5ed6dad-62ee-4543-fe22-a475257b34ab"
      },
      "source": [
        "x=np.array([1,2,3,4])\r\n",
        "np.where(x>2,100,0) #조건에 따라 값 바꿈꿈"
      ],
      "execution_count": 8,
      "outputs": [
        {
          "output_type": "execute_result",
          "data": {
            "text/plain": [
              "array([  0,   0, 100, 100])"
            ]
          },
          "metadata": {
            "tags": []
          },
          "execution_count": 8
        }
      ]
    },
    {
      "cell_type": "code",
      "metadata": {
        "id": "kb7bhbF9oRPM"
      },
      "source": [
        "np.where(X_train>0.5,1.0,0.0) #"
      ],
      "execution_count": null,
      "outputs": []
    },
    {
      "cell_type": "code",
      "metadata": {
        "colab": {
          "base_uri": "https://localhost:8080/"
        },
        "id": "TSbrBE_Ko0US",
        "outputId": "0c291831-60e0-4d72-c964-631b69c8e1eb"
      },
      "source": [
        "tf.data.Dataset.from_tensor_slices(X_train) #shuffle, batch, prefetch"
      ],
      "execution_count": 10,
      "outputs": [
        {
          "output_type": "execute_result",
          "data": {
            "text/plain": [
              "<TensorSliceDataset shapes: (28, 28), types: tf.uint8>"
            ]
          },
          "metadata": {
            "tags": []
          },
          "execution_count": 10
        }
      ]
    },
    {
      "cell_type": "code",
      "metadata": {
        "id": "_CTW6P7Trf3U"
      },
      "source": [
        "tf.keras.layers.Input       #tensor\r\n",
        "tf.keras.layers.InputLayers #layer"
      ],
      "execution_count": null,
      "outputs": []
    },
    {
      "cell_type": "code",
      "metadata": {
        "id": "w4dceChMvvkE"
      },
      "source": [
        "tf.keras.layers.Lambda #lambda 레이어tf.keras.layers.Lambda #lambda 레이어"
      ],
      "execution_count": null,
      "outputs": []
    },
    {
      "cell_type": "code",
      "metadata": {
        "colab": {
          "base_uri": "https://localhost:8080/"
        },
        "id": "IF6s1NK5w_O0",
        "outputId": "9be368f8-c792-4995-e80d-a116bd821608"
      },
      "source": [
        "#크기 확인할때 하단과 같이 확인크기 확인할때 하단과 같이 확인\r\n",
        "m =  tf.keras.Sequential([\r\n",
        "            tf.keras.layers.Conv2D(32, 3, strides=(2, 2), activation='relu',input_shape=(28, 28, 1)),\r\n",
        "            tf.keras.layers.Conv2D(64, 3, strides=(2, 2), activation='relu'),\r\n",
        "            tf.keras.layers.Flatten(  )])\r\n",
        "m.summary()"
      ],
      "execution_count": 11,
      "outputs": [
        {
          "output_type": "stream",
          "text": [
            "Model: \"sequential\"\n",
            "_________________________________________________________________\n",
            "Layer (type)                 Output Shape              Param #   \n",
            "=================================================================\n",
            "conv2d (Conv2D)              (None, 13, 13, 32)        320       \n",
            "_________________________________________________________________\n",
            "conv2d_1 (Conv2D)            (None, 6, 6, 64)          18496     \n",
            "_________________________________________________________________\n",
            "flatten (Flatten)            (None, 2304)              0         \n",
            "=================================================================\n",
            "Total params: 18,816\n",
            "Trainable params: 18,816\n",
            "Non-trainable params: 0\n",
            "_________________________________________________________________\n"
          ],
          "name": "stdout"
        }
      ]
    },
    {
      "cell_type": "code",
      "metadata": {
        "id": "JVtnelPDxF1C"
      },
      "source": [
        "tf.keras.layers.Conv2DTranspos # 컨볼루션 전 원본을 찾음(deconvolution) -> 이미지 크기 커짐짐"
      ],
      "execution_count": null,
      "outputs": []
    },
    {
      "cell_type": "markdown",
      "metadata": {
        "id": "PvmhWMsT2Gi0"
      },
      "source": [
        "상속을 통해서 모델 구축"
      ]
    },
    {
      "cell_type": "code",
      "metadata": {
        "id": "zprolE6mo-yH"
      },
      "source": [
        "class CVAE(tf.keras.models.Model):\r\n",
        "  def __init__(self, latent_dim):\r\n",
        "    super(CVAE, self).__init__()\r\n",
        "    self.latent_dim = latent_dim\r\n",
        "\r\n",
        "    #encoder\r\n",
        "    self.encoder = tf.keras.Sequential([\r\n",
        "            #tf.keras.layers.InputLayer(input_shape=(28, 28, 1)),\r\n",
        "            tf.keras.layers.Conv2D(32, 3, strides=(2, 2), activation='relu',input_shape=(28, 28, 1)),\r\n",
        "            tf.keras.layers.Conv2D(64, 3, strides=(2, 2), activation='relu'),\r\n",
        "            tf.keras.layers.Flatten(  ),\r\n",
        "            #tf.keras.layers.Dense(latent_dim + latent_dim), \r\n",
        "            tf.keras.layers.Dense(latent_dim *2), \r\n",
        "\r\n",
        "        ])\r\n",
        "     \r\n",
        "    #decoder\r\n",
        "    self.decoder = tf.keras.Sequential(        [\r\n",
        "            tf.keras.layers.Dense(7*7*32, activation='relu',input_shape=(latent_dim,)),\r\n",
        "            tf.keras.layers.Reshape(target_shape=(7, 7, 32)),  #3차원 형태 변경\r\n",
        "            tf.keras.layers.Conv2DTranspose(64, 3, strides=2, padding='same',activation='relu'),\r\n",
        "            tf.keras.layers.Conv2DTranspose(32, 3, strides=2, padding='same', activation='relu'),\r\n",
        "            tf.keras.layers.Conv2DTranspose(1, 3, padding='same') #strides=1 생략 가능\r\n",
        "        ]    )\r\n",
        "  def call(self): #실행할때 \r\n",
        "    pass\r\n",
        "  def encoder_summary(self): #추가 기능\r\n",
        "    print(self.encoder.summary())"
      ],
      "execution_count": 25,
      "outputs": []
    },
    {
      "cell_type": "code",
      "metadata": {
        "colab": {
          "base_uri": "https://localhost:8080/",
          "height": 334
        },
        "id": "F7Syd4No0FQa",
        "outputId": "a65d4bbc-c31e-4ad5-8cff-88278f591e1f"
      },
      "source": [
        "t=CVAE(32)\r\n",
        "t.summary() #아직 built 되지 않음 "
      ],
      "execution_count": 22,
      "outputs": [
        {
          "output_type": "error",
          "ename": "ValueError",
          "evalue": "ignored",
          "traceback": [
            "\u001b[0;31m---------------------------------------------------------------------------\u001b[0m",
            "\u001b[0;31mValueError\u001b[0m                                Traceback (most recent call last)",
            "\u001b[0;32m<ipython-input-22-73b81aca0300>\u001b[0m in \u001b[0;36m<module>\u001b[0;34m()\u001b[0m\n\u001b[1;32m      1\u001b[0m \u001b[0mt\u001b[0m\u001b[0;34m=\u001b[0m\u001b[0mCVAE\u001b[0m\u001b[0;34m(\u001b[0m\u001b[0;36m32\u001b[0m\u001b[0;34m)\u001b[0m\u001b[0;34m\u001b[0m\u001b[0;34m\u001b[0m\u001b[0m\n\u001b[0;32m----> 2\u001b[0;31m \u001b[0mt\u001b[0m\u001b[0;34m.\u001b[0m\u001b[0msummary\u001b[0m\u001b[0;34m(\u001b[0m\u001b[0;34m)\u001b[0m \u001b[0;31m#아직 built 되지 않음\u001b[0m\u001b[0;34m\u001b[0m\u001b[0;34m\u001b[0m\u001b[0m\n\u001b[0m",
            "\u001b[0;32m/usr/local/lib/python3.7/dist-packages/tensorflow/python/keras/engine/training.py\u001b[0m in \u001b[0;36msummary\u001b[0;34m(self, line_length, positions, print_fn)\u001b[0m\n\u001b[1;32m   2374\u001b[0m     \"\"\"\n\u001b[1;32m   2375\u001b[0m     \u001b[0;32mif\u001b[0m \u001b[0;32mnot\u001b[0m \u001b[0mself\u001b[0m\u001b[0;34m.\u001b[0m\u001b[0mbuilt\u001b[0m\u001b[0;34m:\u001b[0m\u001b[0;34m\u001b[0m\u001b[0;34m\u001b[0m\u001b[0m\n\u001b[0;32m-> 2376\u001b[0;31m       raise ValueError('This model has not yet been built. '\n\u001b[0m\u001b[1;32m   2377\u001b[0m                        \u001b[0;34m'Build the model first by calling `build()` or calling '\u001b[0m\u001b[0;34m\u001b[0m\u001b[0;34m\u001b[0m\u001b[0m\n\u001b[1;32m   2378\u001b[0m                        \u001b[0;34m'`fit()` with some data, or specify '\u001b[0m\u001b[0;34m\u001b[0m\u001b[0;34m\u001b[0m\u001b[0m\n",
            "\u001b[0;31mValueError\u001b[0m: This model has not yet been built. Build the model first by calling `build()` or calling `fit()` with some data, or specify an `input_shape` argument in the first layer(s) for automatic build."
          ]
        }
      ]
    },
    {
      "cell_type": "code",
      "metadata": {
        "colab": {
          "base_uri": "https://localhost:8080/"
        },
        "id": "rujCSK6p0UDD",
        "outputId": "6292bd3f-1e8d-4bb9-d7d7-aafa019165fc"
      },
      "source": [
        "t.encoder.summary()"
      ],
      "execution_count": 23,
      "outputs": [
        {
          "output_type": "stream",
          "text": [
            "Model: \"sequential_6\"\n",
            "_________________________________________________________________\n",
            "Layer (type)                 Output Shape              Param #   \n",
            "=================================================================\n",
            "conv2d_4 (Conv2D)            (None, 13, 13, 32)        320       \n",
            "_________________________________________________________________\n",
            "conv2d_5 (Conv2D)            (None, 6, 6, 64)          18496     \n",
            "_________________________________________________________________\n",
            "flatten_2 (Flatten)          (None, 2304)              0         \n",
            "_________________________________________________________________\n",
            "dense_4 (Dense)              (None, 64)                147520    \n",
            "=================================================================\n",
            "Total params: 166,336\n",
            "Trainable params: 166,336\n",
            "Non-trainable params: 0\n",
            "_________________________________________________________________\n"
          ],
          "name": "stdout"
        }
      ]
    },
    {
      "cell_type": "code",
      "metadata": {
        "colab": {
          "base_uri": "https://localhost:8080/"
        },
        "id": "ukVv9ccb0Wn0",
        "outputId": "d6668811-39c7-47c8-cde6-19a529bf65a2"
      },
      "source": [
        "t.decoder.summary()"
      ],
      "execution_count": 24,
      "outputs": [
        {
          "output_type": "stream",
          "text": [
            "Model: \"sequential_7\"\n",
            "_________________________________________________________________\n",
            "Layer (type)                 Output Shape              Param #   \n",
            "=================================================================\n",
            "dense_5 (Dense)              (None, 1568)              51744     \n",
            "_________________________________________________________________\n",
            "reshape_4 (Reshape)          (None, 7, 7, 32)          0         \n",
            "_________________________________________________________________\n",
            "conv2d_transpose_12 (Conv2DT (None, 14, 14, 64)        18496     \n",
            "_________________________________________________________________\n",
            "conv2d_transpose_13 (Conv2DT (None, 28, 28, 32)        18464     \n",
            "_________________________________________________________________\n",
            "conv2d_transpose_14 (Conv2DT (None, 28, 28, 1)         289       \n",
            "=================================================================\n",
            "Total params: 88,993\n",
            "Trainable params: 88,993\n",
            "Non-trainable params: 0\n",
            "_________________________________________________________________\n"
          ],
          "name": "stdout"
        }
      ]
    },
    {
      "cell_type": "code",
      "metadata": {
        "colab": {
          "base_uri": "https://localhost:8080/"
        },
        "id": "JYL65jru175T",
        "outputId": "9a2a34a6-7852-43b1-df1c-024741cd31ef"
      },
      "source": [
        "a=CVAE(64)\r\n",
        "a.encoder_summary() #추가 기능"
      ],
      "execution_count": 26,
      "outputs": [
        {
          "output_type": "stream",
          "text": [
            "Model: \"sequential_8\"\n",
            "_________________________________________________________________\n",
            "Layer (type)                 Output Shape              Param #   \n",
            "=================================================================\n",
            "conv2d_6 (Conv2D)            (None, 13, 13, 32)        320       \n",
            "_________________________________________________________________\n",
            "conv2d_7 (Conv2D)            (None, 6, 6, 64)          18496     \n",
            "_________________________________________________________________\n",
            "flatten_3 (Flatten)          (None, 2304)              0         \n",
            "_________________________________________________________________\n",
            "dense_6 (Dense)              (None, 128)               295040    \n",
            "=================================================================\n",
            "Total params: 313,856\n",
            "Trainable params: 313,856\n",
            "Non-trainable params: 0\n",
            "_________________________________________________________________\n",
            "None\n"
          ],
          "name": "stdout"
        }
      ]
    },
    {
      "cell_type": "code",
      "metadata": {
        "id": "U3GaiMGdppHV"
      },
      "source": [
        "#원본\r\n",
        "class CVAE(tf.keras.Model):\r\n",
        "  \"\"\"Convolutional variational autoencoder.\"\"\"\r\n",
        "\r\n",
        "  def __init__(self, latent_dim):\r\n",
        "    super(CVAE, self).__init__()\r\n",
        "    self.latent_dim = latent_dim\r\n",
        "    self.encoder = tf.keras.Sequential(\r\n",
        "        [\r\n",
        "            tf.keras.layers.InputLayer(input_shape=(28, 28, 1)),\r\n",
        "            tf.keras.layers.Conv2D(\r\n",
        "                filters=32, kernel_size=3, strides=(2, 2), activation='relu'),\r\n",
        "            tf.keras.layers.Conv2D(\r\n",
        "                filters=64, kernel_size=3, strides=(2, 2), activation='relu'),\r\n",
        "            tf.keras.layers.Flatten(),\r\n",
        "            # No activation\r\n",
        "            tf.keras.layers.Dense(latent_dim + latent_dim),\r\n",
        "        ]\r\n",
        "    )\r\n",
        "\r\n",
        "    self.decoder = tf.keras.Sequential(\r\n",
        "        [\r\n",
        "            tf.keras.layers.InputLayer(input_shape=(latent_dim,)),\r\n",
        "            tf.keras.layers.Dense(units=7*7*32, activation=tf.nn.relu),\r\n",
        "            tf.keras.layers.Reshape(target_shape=(7, 7, 32)),\r\n",
        "            tf.keras.layers.Conv2DTranspose(\r\n",
        "                filters=64, kernel_size=3, strides=2, padding='same',\r\n",
        "                activation='relu'),\r\n",
        "            tf.keras.layers.Conv2DTranspose(\r\n",
        "                filters=32, kernel_size=3, strides=2, padding='same',\r\n",
        "                activation='relu'),\r\n",
        "            # No activation\r\n",
        "            tf.keras.layers.Conv2DTranspose(\r\n",
        "                filters=1, kernel_size=3, strides=1, padding='same'),\r\n",
        "        ]\r\n",
        "    )\r\n",
        "    #Sequential 단방향 모델\r\n",
        "\r\n",
        "  @tf.function\r\n",
        "  def sample(self, eps=None):\r\n",
        "    if eps is None:\r\n",
        "      eps = tf.random.normal(shape=(100, self.latent_dim))\r\n",
        "    return self.decode(eps, apply_sigmoid=True)\r\n",
        "\r\n",
        "  def encode(self, x): #평군, 분산으로 나눔\r\n",
        "    mean, logvar = tf.split(self.encoder(x), num_or_size_splits=2, axis=1) \r\n",
        "    return mean, logvar\r\n",
        "\r\n",
        "  def reparameterize(self, mean, logvar):\r\n",
        "    eps = tf.random.normal(shape=mean.shape)\r\n",
        "    return eps * tf.exp(logvar * .5) + mean\r\n",
        "\r\n",
        "  def decode(self, z, apply_sigmoid=False):\r\n",
        "    logits = self.decoder(z)\r\n",
        "    if apply_sigmoid:\r\n",
        "      probs = tf.sigmoid(logits)\r\n",
        "      return probs\r\n",
        "    return logits"
      ],
      "execution_count": null,
      "outputs": []
    },
    {
      "cell_type": "markdown",
      "metadata": {
        "id": "t2W2m7BH2-nR"
      },
      "source": [
        "[Dive into Deep Learning](http://d2l.ai/)\r\n",
        "- 핵심 개념들이 구현되어 있음(기초)\r\n",
        "- [Numerical Stability and Initialization](http://d2l.ai/chapter_multilayer-perceptrons/numerical-stability-and-init.html)\r\n",
        "수치 안정성성"
      ]
    },
    {
      "cell_type": "code",
      "metadata": {
        "colab": {
          "base_uri": "https://localhost:8080/"
        },
        "id": "Dq219gIwCyOK",
        "outputId": "1955fc94-4f8b-4644-cbf1-4f2e183c2210"
      },
      "source": [
        "x=np.float32(1)\r\n",
        "x"
      ],
      "execution_count": 28,
      "outputs": [
        {
          "output_type": "execute_result",
          "data": {
            "text/plain": [
              "1.0"
            ]
          },
          "metadata": {
            "tags": []
          },
          "execution_count": 28
        }
      ]
    },
    {
      "cell_type": "code",
      "metadata": {
        "colab": {
          "base_uri": "https://localhost:8080/"
        },
        "id": "gvKUdOpOCx6Q",
        "outputId": "a5aaac07-8f54-43b7-a03d-34f9f6c73861"
      },
      "source": [
        "y=np.float32(1e-50)\r\n",
        "y"
      ],
      "execution_count": 30,
      "outputs": [
        {
          "output_type": "execute_result",
          "data": {
            "text/plain": [
              "0.0"
            ]
          },
          "metadata": {
            "tags": []
          },
          "execution_count": 30
        }
      ]
    },
    {
      "cell_type": "code",
      "metadata": {
        "colab": {
          "base_uri": "https://localhost:8080/"
        },
        "id": "pKy1cC4-295s",
        "outputId": "25f02a5a-722f-4a71-edf8-d22c66f79fc0"
      },
      "source": [
        "1e3 == 1*10*10*10"
      ],
      "execution_count": 33,
      "outputs": [
        {
          "output_type": "execute_result",
          "data": {
            "text/plain": [
              "True"
            ]
          },
          "metadata": {
            "tags": []
          },
          "execution_count": 33
        }
      ]
    },
    {
      "cell_type": "code",
      "metadata": {
        "colab": {
          "base_uri": "https://localhost:8080/"
        },
        "id": "daYUh7HiDQrW",
        "outputId": "37012e4a-6e83-445b-f30a-25b54a25748f"
      },
      "source": [
        "z=x*y/y  #\r\n",
        "z        #nan -> numerically unstable"
      ],
      "execution_count": 35,
      "outputs": [
        {
          "output_type": "stream",
          "text": [
            "/usr/local/lib/python3.7/dist-packages/ipykernel_launcher.py:1: RuntimeWarning: invalid value encountered in float_scalars\n",
            "  \"\"\"Entry point for launching an IPython kernel.\n"
          ],
          "name": "stderr"
        },
        {
          "output_type": "execute_result",
          "data": {
            "text/plain": [
              "nan"
            ]
          },
          "metadata": {
            "tags": []
          },
          "execution_count": 35
        }
      ]
    },
    {
      "cell_type": "code",
      "metadata": {
        "colab": {
          "base_uri": "https://localhost:8080/"
        },
        "id": "IB2kt4OYDZw_",
        "outputId": "c5a01b6d-a828-455a-d140-4fab66c1f598"
      },
      "source": [
        "np.finfo(np.float32)  #최소,최대값, 타입에대한 정보보"
      ],
      "execution_count": 36,
      "outputs": [
        {
          "output_type": "execute_result",
          "data": {
            "text/plain": [
              "finfo(resolution=1e-06, min=-3.4028235e+38, max=3.4028235e+38, dtype=float32)"
            ]
          },
          "metadata": {
            "tags": []
          },
          "execution_count": 36
        }
      ]
    },
    {
      "cell_type": "code",
      "metadata": {
        "colab": {
          "base_uri": "https://localhost:8080/"
        },
        "id": "Tm53uveTDyFB",
        "outputId": "1574d17a-8f69-44fe-9a8b-5a3b828d1573"
      },
      "source": [
        "np.nextafter(np.float(0)  ,np.float(1))"
      ],
      "execution_count": 38,
      "outputs": [
        {
          "output_type": "execute_result",
          "data": {
            "text/plain": [
              "5e-324"
            ]
          },
          "metadata": {
            "tags": []
          },
          "execution_count": 38
        }
      ]
    },
    {
      "cell_type": "code",
      "metadata": {
        "id": "GmBCuJnCEFVf"
      },
      "source": [
        "tf.keras.losses.BinaryCrossentropy(from_logits=True) #수치적 안정성 제공"
      ],
      "execution_count": null,
      "outputs": []
    },
    {
      "cell_type": "code",
      "metadata": {
        "id": "mL5i5Az6Fx9P"
      },
      "source": [
        "def softmax(logits):\r\n",
        "  exp = tf.exp(logits)\r\n",
        "  return exp/tf.reduce_sum(exp)"
      ],
      "execution_count": 39,
      "outputs": []
    },
    {
      "cell_type": "code",
      "metadata": {
        "colab": {
          "base_uri": "https://localhost:8080/"
        },
        "id": "kJi_EnsbF2ly",
        "outputId": "9dbf5189-a674-49f2-b367-a36ac0d3733a"
      },
      "source": [
        "softmax([1000. , 0.]).numpy()  #nan 으로 나옴 수치적 불안정성 "
      ],
      "execution_count": 40,
      "outputs": [
        {
          "output_type": "execute_result",
          "data": {
            "text/plain": [
              "array([nan,  0.], dtype=float32)"
            ]
          },
          "metadata": {
            "tags": []
          },
          "execution_count": 40
        }
      ]
    },
    {
      "cell_type": "markdown",
      "metadata": {
        "id": "6ZoP2GDTIrTz"
      },
      "source": [
        "incremental learning\r\n",
        "- catastrophic forgetting: 기존에 학습 후 새로운 데이터를 학습하면 기존에 학습된 것을 까먹게 됨 \r\n",
        "- 파라미터 초기화 중요\r\n"
      ]
    },
    {
      "cell_type": "markdown",
      "metadata": {
        "id": "J6WUqsaCKAB9"
      },
      "source": [
        "#### GradientTape\r\n",
        "- 지원하지 않는 것을 새로 만들어야함"
      ]
    },
    {
      "cell_type": "code",
      "metadata": {
        "id": "wq2hrc9fF5Ur"
      },
      "source": [
        "optimizer = tf.keras.optimizers.Adam(1e-4)\r\n",
        "\r\n",
        "\r\n",
        "def log_normal_pdf(sample, mean, logvar, raxis=1):\r\n",
        "  log2pi = tf.math.log(2. * np.pi)\r\n",
        "  return tf.reduce_sum(\r\n",
        "      -.5 * ((sample - mean) ** 2. * tf.exp(-logvar) + logvar + log2pi),\r\n",
        "      axis=raxis)\r\n",
        "\r\n",
        "\r\n",
        "def compute_loss(model, x):\r\n",
        "  mean, logvar = model.encode(x) #encode 에서 split해서 구한 mean,logvar\r\n",
        "  z = model.reparameterize(mean, logvar)\r\n",
        "  x_logit = model.decode(z)      #decode 함수형 패러다임\r\n",
        "  cross_ent = tf.nn.sigmoid_cross_entropy_with_logits(logits=x_logit, labels=x)\r\n",
        "  logpx_z = -tf.reduce_sum(cross_ent, axis=[1, 2, 3])\r\n",
        "  logpz = log_normal_pdf(z, 0., 0.)\r\n",
        "  logqz_x = log_normal_pdf(z, mean, logvar)\r\n",
        "  return -tf.reduce_mean(logpx_z + logpz - logqz_x)\r\n",
        "\r\n",
        "\r\n",
        "@tf.function\r\n",
        "def train_step(model, x, optimizer):\r\n",
        "  \"\"\"Executes one training step and returns the loss.\r\n",
        "\r\n",
        "  This function computes the loss and gradients, and uses the latter to\r\n",
        "  update the model's parameters.\r\n",
        "  \"\"\"\r\n",
        "  with tf.GradientTape() as tape:\r\n",
        "    loss = compute_loss(model, x)\r\n",
        "  gradients = tape.gradient(loss, model.trainable_variables)\r\n",
        "  optimizer.apply_gradients(zip(gradients, model.trainable_variables))"
      ],
      "execution_count": null,
      "outputs": []
    },
    {
      "cell_type": "markdown",
      "metadata": {
        "id": "IIJfJgl8Kxva"
      },
      "source": [
        "# tensorflow 고급의 기본\r\n",
        "1. layer\r\n",
        "  - 제공하지 않는 모델 구현 tensorflow , pytorch\r\n",
        "2. callbacks \r\n",
        "  - 학습 테크닉\r\n",
        "3. tf.GradientTape\r\n",
        "  - 학습도 조절\r\n",
        "4. model"
      ]
    },
    {
      "cell_type": "code",
      "metadata": {
        "id": "H7BBOmKwLk9v"
      },
      "source": [
        "x=tf.Variable([1,2,3], dtype=tf.float32)"
      ],
      "execution_count": 41,
      "outputs": []
    },
    {
      "cell_type": "code",
      "metadata": {
        "id": "KfyOLSsyLM_3"
      },
      "source": [
        "with tf.GradientTape()as t:\r\n",
        "  y=x*x"
      ],
      "execution_count": 43,
      "outputs": []
    },
    {
      "cell_type": "code",
      "metadata": {
        "colab": {
          "base_uri": "https://localhost:8080/"
        },
        "id": "7FACrJUkLq45",
        "outputId": "1556d68b-b573-4f23-e9e7-89d754e2b851"
      },
      "source": [
        "t.gradient(y,x)"
      ],
      "execution_count": 44,
      "outputs": [
        {
          "output_type": "execute_result",
          "data": {
            "text/plain": [
              "<tf.Tensor: shape=(3,), dtype=float32, numpy=array([2., 4., 6.], dtype=float32)>"
            ]
          },
          "metadata": {
            "tags": []
          },
          "execution_count": 44
        }
      ]
    },
    {
      "cell_type": "code",
      "metadata": {
        "id": "3Kj_D9DOLtSD"
      },
      "source": [
        "@tf.function()\r\n",
        "@tf.function"
      ],
      "execution_count": null,
      "outputs": []
    },
    {
      "cell_type": "markdown",
      "metadata": {
        "id": "MqEba2RRNb7F"
      },
      "source": [
        "#Tensorflow optimization"
      ]
    },
    {
      "cell_type": "code",
      "metadata": {
        "id": "9Wl9YBRsNbFX"
      },
      "source": [
        "tf.data.Dataset.prefetch  #최화"
      ],
      "execution_count": null,
      "outputs": []
    },
    {
      "cell_type": "code",
      "metadata": {
        "id": "ZF8sFD1UNtLD"
      },
      "source": [
        "def x(a,b):\r\n",
        "  return a+b"
      ],
      "execution_count": 45,
      "outputs": []
    },
    {
      "cell_type": "code",
      "metadata": {
        "colab": {
          "base_uri": "https://localhost:8080/"
        },
        "id": "3UH4MlGJN1GJ",
        "outputId": "c6aa501a-f932-44bd-d2e1-7e7541a94c88"
      },
      "source": [
        "x(1,3)"
      ],
      "execution_count": 46,
      "outputs": [
        {
          "output_type": "execute_result",
          "data": {
            "text/plain": [
              "4"
            ]
          },
          "metadata": {
            "tags": []
          },
          "execution_count": 46
        }
      ]
    },
    {
      "cell_type": "code",
      "metadata": {
        "colab": {
          "base_uri": "https://localhost:8080/"
        },
        "id": "DV1Hceo0N1dt",
        "outputId": "8a1dcf44-c224-4389-9001-3a94b7d724e7"
      },
      "source": [
        "x([1,2],[3,4])"
      ],
      "execution_count": 47,
      "outputs": [
        {
          "output_type": "execute_result",
          "data": {
            "text/plain": [
              "[1, 2, 3, 4]"
            ]
          },
          "metadata": {
            "tags": []
          },
          "execution_count": 47
        }
      ]
    },
    {
      "cell_type": "code",
      "metadata": {
        "id": "HwBDf062N2ap"
      },
      "source": [
        "@np.vectorize\r\n",
        "def x(a,b):\r\n",
        "  return a+b"
      ],
      "execution_count": 49,
      "outputs": []
    },
    {
      "cell_type": "code",
      "metadata": {
        "colab": {
          "base_uri": "https://localhost:8080/"
        },
        "id": "MmKL7BzZOEWb",
        "outputId": "7aabdfb8-9bb2-44c4-88ce-94e8964667e0"
      },
      "source": [
        "x([1,2],[3,4]) #넘파이 벡터 연산"
      ],
      "execution_count": 50,
      "outputs": [
        {
          "output_type": "execute_result",
          "data": {
            "text/plain": [
              "array([4, 6])"
            ]
          },
          "metadata": {
            "tags": []
          },
          "execution_count": 50
        }
      ]
    },
    {
      "cell_type": "markdown",
      "metadata": {
        "id": "IHY8H9n6OPUO"
      },
      "source": [
        "### @tf.function\r\n",
        "- 내부적으로 compiling\r\n",
        "- 속도 최적화"
      ]
    },
    {
      "cell_type": "code",
      "metadata": {
        "id": "NwcQnINVOImK"
      },
      "source": [
        "@tf.function\r\n",
        "def x(a,b):\r\n",
        "  return a+b"
      ],
      "execution_count": 51,
      "outputs": []
    },
    {
      "cell_type": "code",
      "metadata": {
        "colab": {
          "base_uri": "https://localhost:8080/"
        },
        "id": "8Vp16-g5OL1l",
        "outputId": "d97bdbba-72f9-42b1-e964-553d83f832d6"
      },
      "source": [
        "x([1,2],[3,4]) #텐서로 바뀜"
      ],
      "execution_count": 52,
      "outputs": [
        {
          "output_type": "execute_result",
          "data": {
            "text/plain": [
              "[<tf.Tensor: shape=(), dtype=int32, numpy=1>,\n",
              " <tf.Tensor: shape=(), dtype=int32, numpy=2>,\n",
              " <tf.Tensor: shape=(), dtype=int32, numpy=3>,\n",
              " <tf.Tensor: shape=(), dtype=int32, numpy=4>]"
            ]
          },
          "metadata": {
            "tags": []
          },
          "execution_count": 52
        }
      ]
    },
    {
      "cell_type": "markdown",
      "metadata": {
        "id": "En9Leyx1Ou8d"
      },
      "source": [
        "GAN은 모델은 쉬우나 학습테크닉을 배워야 함"
      ]
    }
  ]
}