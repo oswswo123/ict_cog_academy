{
  "nbformat": 4,
  "nbformat_minor": 0,
  "metadata": {
    "colab": {
      "name": "210215_7기_고급시각저녁",
      "provenance": [],
      "collapsed_sections": []
    },
    "kernelspec": {
      "name": "python3",
      "display_name": "Python 3"
    }
  },
  "cells": [
    {
      "cell_type": "markdown",
      "metadata": {
        "id": "YuX_eS-hCR_i"
      },
      "source": [
        "# [ICTCOG AI Academy] 7기 고급시각저녁반\r\n",
        "# Tensorflow를 활용한 기계학습/딥러닝 (1)\r\n",
        "\r\n",
        "## 학습목표\r\n",
        "1. Pytorch 를 통한 Tensorflow 이해\r\n",
        "2. Tensorflow 구현 방법 이해\r\n",
        "  \r\n",
        "### 1. Pytorch 를 통한 Tensorflow 이해\r\n",
        "- [튜토리얼 : 초보자, 고급](https://www.tensorflow.org/lite/tutorials?hl=ko)\r\n",
        "- [가이드](https://www.tensorflow.org/lite/guide?hl=ko)\r\n",
        "- [ LEARNING PYTORCH WITH EXAMPLES ](https://pytorch.org/tutorials/beginner/pytorch_with_examples.html) \r\n",
        "\r\n",
        "- backpropagation 신경망 학습 \r\n",
        "  - computer로 구현하는 4가지 기법(논문) 중 2가지\r\n",
        "    - Numpy : array, matrix 지원\r\n",
        "      - 저수준\r\n",
        "      - 현대적이지 않음 ( GPU 지원하지 않음)\r\n",
        "    - 자동미분  Autograd, Auto differentiation 지원\r\n",
        "      - 상위개념\r\n",
        " \r\n",
        "#### Pytorch, Tensorflow\r\n",
        "- 객체지향 \r\n",
        "  - 상속, 오버라이딩 활용\r\n",
        "  - 모델을 객체로 만들어서 재사용\r\n",
        "\r\n",
        "- 함수형 패러다임\r\n",
        "  - custom 가능\r\n",
        "  - 모델 복잡 할 수록 control flow 조절\r\n",
        "\r\n",
        "### 2. Tensorflow 구현 방법 이해\r\n",
        "##### Tensorflow2 5가지 \r\n",
        "- 각 방법은 서로 목적이 상이함\r\n",
        "\r\n",
        "1. tf.nn \r\n",
        "  - 가장 저수준\r\n",
        "    - 가장 기본적이고 나머지 직접 구현해야함\r\n",
        "  - 텐서에서 지원하지 않는 새로운 기법들\r\n",
        "  - 특히 연구용 -> PyTorch\r\n",
        "\r\n",
        "2. Estimator  기존에 정의된 것을 이용한 prototype\r\n",
        "  - TF에서 NN은 Keras 사용 권장\r\n",
        "  - ensemble 의 **boosting** 기법 : xgboost, LightGBM\r\n",
        "    - TF에서는 기본적으로 기계학습에 필요한 필수적 기능이 없어서 Scikit-learn과 연동시켜서 활용\r\n",
        "    - Scikit-learn GPU 사용 불가\r\n",
        "      - > Q: Will you add GPU support?\r\n",
        "          - A: No, or at least not in the near future. The main reason is that GPU support will introduce many **software dependencies** and introduce platform specific issues .... \r\n",
        "    - TensorFlow에서 GPU 사용하도록 지원\r\n",
        "\r\n",
        "3. ### keras\r\n",
        "  - 상속: 커스터마이징 \r\n",
        "  - **함수형 패러다임 방식**\r\n",
        "    -  multi-inputs, multi-outputs 사용\r\n",
        "  - 기본적 객체지향\r\n",
        "    - 이미 만들어진 모델 가져와서 composition 방식으로 재조합\r\n"
      ]
    },
    {
      "cell_type": "code",
      "metadata": {
        "colab": {
          "base_uri": "https://localhost:8080/"
        },
        "id": "wiuSVHAgBsPp",
        "outputId": "a4d4b7c3-9f77-45af-cf81-3a932075abe4"
      },
      "source": [
        "import this  #명백한 방법은 1가지 "
      ],
      "execution_count": null,
      "outputs": [
        {
          "output_type": "stream",
          "text": [
            "The Zen of Python, by Tim Peters\n",
            "\n",
            "Beautiful is better than ugly.\n",
            "Explicit is better than implicit.\n",
            "Simple is better than complex.\n",
            "Complex is better than complicated.\n",
            "Flat is better than nested.\n",
            "Sparse is better than dense.\n",
            "Readability counts.\n",
            "Special cases aren't special enough to break the rules.\n",
            "Although practicality beats purity.\n",
            "Errors should never pass silently.\n",
            "Unless explicitly silenced.\n",
            "In the face of ambiguity, refuse the temptation to guess.\n",
            "There should be one-- and preferably only one --obvious way to do it.\n",
            "Although that way may not be obvious at first unless you're Dutch.\n",
            "Now is better than never.\n",
            "Although never is often better than *right* now.\n",
            "If the implementation is hard to explain, it's a bad idea.\n",
            "If the implementation is easy to explain, it may be a good idea.\n",
            "Namespaces are one honking great idea -- let's do more of those!\n"
          ],
          "name": "stdout"
        }
      ]
    },
    {
      "cell_type": "code",
      "metadata": {
        "id": "qwCRAyRpHb5-"
      },
      "source": [
        "import tensorflow as tf"
      ],
      "execution_count": null,
      "outputs": []
    },
    {
      "cell_type": "code",
      "metadata": {
        "colab": {
          "base_uri": "https://localhost:8080/"
        },
        "id": "GvvG8zZsH7If",
        "outputId": "1abae94a-04f9-4da6-8061-efb95e355ab6"
      },
      "source": [
        "dir(tf.nn)  #신경망 기반 "
      ],
      "execution_count": null,
      "outputs": [
        {
          "output_type": "execute_result",
          "data": {
            "text/plain": [
              "['RNNCellDeviceWrapper',\n",
              " 'RNNCellDropoutWrapper',\n",
              " 'RNNCellResidualWrapper',\n",
              " '__builtins__',\n",
              " '__cached__',\n",
              " '__doc__',\n",
              " '__file__',\n",
              " '__loader__',\n",
              " '__name__',\n",
              " '__package__',\n",
              " '__path__',\n",
              " '__spec__',\n",
              " '_sys',\n",
              " 'all_candidate_sampler',\n",
              " 'atrous_conv2d',\n",
              " 'atrous_conv2d_transpose',\n",
              " 'avg_pool',\n",
              " 'avg_pool1d',\n",
              " 'avg_pool2d',\n",
              " 'avg_pool3d',\n",
              " 'batch_norm_with_global_normalization',\n",
              " 'batch_normalization',\n",
              " 'bias_add',\n",
              " 'collapse_repeated',\n",
              " 'compute_accidental_hits',\n",
              " 'compute_average_loss',\n",
              " 'conv1d',\n",
              " 'conv1d_transpose',\n",
              " 'conv2d',\n",
              " 'conv2d_transpose',\n",
              " 'conv3d',\n",
              " 'conv3d_transpose',\n",
              " 'conv_transpose',\n",
              " 'convolution',\n",
              " 'crelu',\n",
              " 'ctc_beam_search_decoder',\n",
              " 'ctc_greedy_decoder',\n",
              " 'ctc_loss',\n",
              " 'ctc_unique_labels',\n",
              " 'depth_to_space',\n",
              " 'depthwise_conv2d',\n",
              " 'depthwise_conv2d_backprop_filter',\n",
              " 'depthwise_conv2d_backprop_input',\n",
              " 'dilation2d',\n",
              " 'dropout',\n",
              " 'elu',\n",
              " 'embedding_lookup',\n",
              " 'embedding_lookup_sparse',\n",
              " 'erosion2d',\n",
              " 'fixed_unigram_candidate_sampler',\n",
              " 'fractional_avg_pool',\n",
              " 'fractional_max_pool',\n",
              " 'gelu',\n",
              " 'in_top_k',\n",
              " 'isotonic_regression',\n",
              " 'l2_loss',\n",
              " 'l2_normalize',\n",
              " 'leaky_relu',\n",
              " 'learned_unigram_candidate_sampler',\n",
              " 'local_response_normalization',\n",
              " 'log_poisson_loss',\n",
              " 'log_softmax',\n",
              " 'lrn',\n",
              " 'max_pool',\n",
              " 'max_pool1d',\n",
              " 'max_pool2d',\n",
              " 'max_pool3d',\n",
              " 'max_pool_with_argmax',\n",
              " 'moments',\n",
              " 'nce_loss',\n",
              " 'normalize_moments',\n",
              " 'pool',\n",
              " 'relu',\n",
              " 'relu6',\n",
              " 'safe_embedding_lookup_sparse',\n",
              " 'sampled_softmax_loss',\n",
              " 'scale_regularization_loss',\n",
              " 'selu',\n",
              " 'separable_conv2d',\n",
              " 'sigmoid',\n",
              " 'sigmoid_cross_entropy_with_logits',\n",
              " 'silu',\n",
              " 'softmax',\n",
              " 'softmax_cross_entropy_with_logits',\n",
              " 'softplus',\n",
              " 'softsign',\n",
              " 'space_to_batch',\n",
              " 'space_to_depth',\n",
              " 'sparse_softmax_cross_entropy_with_logits',\n",
              " 'sufficient_statistics',\n",
              " 'swish',\n",
              " 'tanh',\n",
              " 'top_k',\n",
              " 'weighted_cross_entropy_with_logits',\n",
              " 'weighted_moments',\n",
              " 'with_space_to_batch',\n",
              " 'zero_fraction']"
            ]
          },
          "metadata": {
            "tags": []
          },
          "execution_count": 3
        }
      ]
    },
    {
      "cell_type": "markdown",
      "metadata": {
        "id": "JkbTblwSOHsr"
      },
      "source": [
        "#### Numpy 와 Tensor 차이\r\n",
        "1. **immutable** 데이터 타입\r\n",
        "    - 자기 자신이 바뀌지 않음\r\n",
        "    - 상수(재할당 불가), 변수 ( 재할당 할 수 있음)\r\n",
        "    - 함수형 패러다임\r\n",
        "2. **GPU 지원 여부**\r\n",
        "  > 텐서플로우 tf.experimental.numpy : **Numpy API 넘파이도 최적화**하여 효율적으로 사용할 수있도록 지원(정식버전 아님)\r\n",
        "3. method 명, numerical stability 로 인한 차이\r\n",
        "  - method 명이 같은 경우라도 사용 방식이 다름\r\n",
        "  - Tensorflow가 **elegant**(명확)\r\n",
        "\r\n",
        "###### 프로그래밍 패러다임\r\n",
        "- 명령형\r\n",
        "  - 절처적\r\n",
        "  - 객체지향\r\n",
        "- 선언형\r\n",
        "  - 함수형\r\n",
        "> TF : 유기적으로 객체지향,함수형, array programming 을 상황에 맞게 유기적으로 연동\r\n",
        "\r\n",
        "\r\n",
        "###### Numpy, Tensor호환 \r\n",
        "1. Numpy -> Tensorflow  method\r\n",
        "  - tensor로 변환\r\n",
        "    - 연습용 데이터가 numpy로 구성된 이유\r\n",
        "    - 변환 resource 필요\r\n",
        "      - 호스트 메모리 복사가 필요함\r\n",
        "      - 영상처리에서는 민감한 사항(처리)\r\n",
        "2.  Tensorflow -> Numpy method\r\n",
        "  - Numpy로 변환\r\n",
        "  - 상대적으로 resource 덜 필요\r\n",
        "  - > 메모리를 **공유**하기 때문에 이러한 변환은 일반적으로 간단\r\n",
        "\r\n",
        "\r\n"
      ]
    },
    {
      "cell_type": "code",
      "metadata": {
        "colab": {
          "base_uri": "https://localhost:8080/"
        },
        "id": "jVu9MUJHH9Dn",
        "outputId": "6ab429fc-ff10-4cfc-9db4-b14df1a13ac3"
      },
      "source": [
        "dir(tf) #numpy/Tensor 데이터 타입인지 체크해서 변환해서 실행"
      ],
      "execution_count": null,
      "outputs": [
        {
          "output_type": "execute_result",
          "data": {
            "text/plain": [
              "['AggregationMethod',\n",
              " 'Assert',\n",
              " 'CriticalSection',\n",
              " 'DType',\n",
              " 'DeviceSpec',\n",
              " 'GradientTape',\n",
              " 'Graph',\n",
              " 'IndexedSlices',\n",
              " 'IndexedSlicesSpec',\n",
              " 'Module',\n",
              " 'Operation',\n",
              " 'OptionalSpec',\n",
              " 'RaggedTensor',\n",
              " 'RaggedTensorSpec',\n",
              " 'RegisterGradient',\n",
              " 'SparseTensor',\n",
              " 'SparseTensorSpec',\n",
              " 'Tensor',\n",
              " 'TensorArray',\n",
              " 'TensorArraySpec',\n",
              " 'TensorShape',\n",
              " 'TensorSpec',\n",
              " 'TypeSpec',\n",
              " 'UnconnectedGradients',\n",
              " 'Variable',\n",
              " 'VariableAggregation',\n",
              " 'VariableSynchronization',\n",
              " '_API_MODULE',\n",
              " '_LazyLoader',\n",
              " '__all__',\n",
              " '__builtins__',\n",
              " '__cached__',\n",
              " '__compiler_version__',\n",
              " '__cxx11_abi_flag__',\n",
              " '__doc__',\n",
              " '__file__',\n",
              " '__git_version__',\n",
              " '__internal__',\n",
              " '__loader__',\n",
              " '__monolithic_build__',\n",
              " '__name__',\n",
              " '__operators__',\n",
              " '__package__',\n",
              " '__path__',\n",
              " '__spec__',\n",
              " '__version__',\n",
              " '_absolute_import',\n",
              " '_api',\n",
              " '_compat',\n",
              " '_current_file_location',\n",
              " '_current_module',\n",
              " '_distutils',\n",
              " '_division',\n",
              " '_estimator_module',\n",
              " '_fi',\n",
              " '_inspect',\n",
              " '_ll',\n",
              " '_logging',\n",
              " '_main_dir',\n",
              " '_major_api_version',\n",
              " '_module_dir',\n",
              " '_module_util',\n",
              " '_names_with_underscore',\n",
              " '_os',\n",
              " '_plugin_dir',\n",
              " '_print_function',\n",
              " '_running_from_pip_package',\n",
              " '_s',\n",
              " '_site',\n",
              " '_site_packages_dirs',\n",
              " '_six',\n",
              " '_sys',\n",
              " '_tf2',\n",
              " '_tf_api_dir',\n",
              " '_typing',\n",
              " 'abs',\n",
              " 'acos',\n",
              " 'acosh',\n",
              " 'add',\n",
              " 'add_n',\n",
              " 'argmax',\n",
              " 'argmin',\n",
              " 'argsort',\n",
              " 'as_dtype',\n",
              " 'as_string',\n",
              " 'asin',\n",
              " 'asinh',\n",
              " 'assert_equal',\n",
              " 'assert_greater',\n",
              " 'assert_less',\n",
              " 'assert_rank',\n",
              " 'atan',\n",
              " 'atan2',\n",
              " 'atanh',\n",
              " 'audio',\n",
              " 'autodiff',\n",
              " 'autograph',\n",
              " 'batch_to_space',\n",
              " 'bfloat16',\n",
              " 'bitcast',\n",
              " 'bitwise',\n",
              " 'bool',\n",
              " 'boolean_mask',\n",
              " 'broadcast_dynamic_shape',\n",
              " 'broadcast_static_shape',\n",
              " 'broadcast_to',\n",
              " 'case',\n",
              " 'cast',\n",
              " 'clip_by_global_norm',\n",
              " 'clip_by_norm',\n",
              " 'clip_by_value',\n",
              " 'compat',\n",
              " 'complex',\n",
              " 'complex128',\n",
              " 'complex64',\n",
              " 'concat',\n",
              " 'cond',\n",
              " 'config',\n",
              " 'constant',\n",
              " 'constant_initializer',\n",
              " 'control_dependencies',\n",
              " 'convert_to_tensor',\n",
              " 'cos',\n",
              " 'cosh',\n",
              " 'cumsum',\n",
              " 'custom_gradient',\n",
              " 'data',\n",
              " 'debugging',\n",
              " 'device',\n",
              " 'distribute',\n",
              " 'divide',\n",
              " 'double',\n",
              " 'dtypes',\n",
              " 'dynamic_partition',\n",
              " 'dynamic_stitch',\n",
              " 'edit_distance',\n",
              " 'eig',\n",
              " 'eigvals',\n",
              " 'einsum',\n",
              " 'ensure_shape',\n",
              " 'equal',\n",
              " 'errors',\n",
              " 'estimator',\n",
              " 'executing_eagerly',\n",
              " 'exp',\n",
              " 'expand_dims',\n",
              " 'experimental',\n",
              " 'extract_volume_patches',\n",
              " 'eye',\n",
              " 'feature_column',\n",
              " 'fill',\n",
              " 'fingerprint',\n",
              " 'float16',\n",
              " 'float32',\n",
              " 'float64',\n",
              " 'floor',\n",
              " 'foldl',\n",
              " 'foldr',\n",
              " 'function',\n",
              " 'gather',\n",
              " 'gather_nd',\n",
              " 'get_logger',\n",
              " 'get_static_value',\n",
              " 'grad_pass_through',\n",
              " 'gradients',\n",
              " 'graph_util',\n",
              " 'greater',\n",
              " 'greater_equal',\n",
              " 'group',\n",
              " 'guarantee_const',\n",
              " 'half',\n",
              " 'hessians',\n",
              " 'histogram_fixed_width',\n",
              " 'histogram_fixed_width_bins',\n",
              " 'identity',\n",
              " 'identity_n',\n",
              " 'image',\n",
              " 'import_graph_def',\n",
              " 'init_scope',\n",
              " 'initializers',\n",
              " 'inside_function',\n",
              " 'int16',\n",
              " 'int32',\n",
              " 'int64',\n",
              " 'int8',\n",
              " 'io',\n",
              " 'is_tensor',\n",
              " 'keras',\n",
              " 'less',\n",
              " 'less_equal',\n",
              " 'linalg',\n",
              " 'linspace',\n",
              " 'lite',\n",
              " 'load_library',\n",
              " 'load_op_library',\n",
              " 'logical_and',\n",
              " 'logical_not',\n",
              " 'logical_or',\n",
              " 'lookup',\n",
              " 'losses',\n",
              " 'make_ndarray',\n",
              " 'make_tensor_proto',\n",
              " 'map_fn',\n",
              " 'math',\n",
              " 'matmul',\n",
              " 'matrix_square_root',\n",
              " 'maximum',\n",
              " 'meshgrid',\n",
              " 'metrics',\n",
              " 'minimum',\n",
              " 'mixed_precision',\n",
              " 'mlir',\n",
              " 'multiply',\n",
              " 'name_scope',\n",
              " 'negative',\n",
              " 'nest',\n",
              " 'newaxis',\n",
              " 'nn',\n",
              " 'no_gradient',\n",
              " 'no_op',\n",
              " 'nondifferentiable_batch_function',\n",
              " 'norm',\n",
              " 'not_equal',\n",
              " 'numpy_function',\n",
              " 'one_hot',\n",
              " 'ones',\n",
              " 'ones_initializer',\n",
              " 'ones_like',\n",
              " 'optimizers',\n",
              " 'pad',\n",
              " 'parallel_stack',\n",
              " 'pow',\n",
              " 'print',\n",
              " 'profiler',\n",
              " 'py_function',\n",
              " 'qint16',\n",
              " 'qint32',\n",
              " 'qint8',\n",
              " 'quantization',\n",
              " 'quantize_and_dequantize_v4',\n",
              " 'queue',\n",
              " 'quint16',\n",
              " 'quint8',\n",
              " 'ragged',\n",
              " 'random',\n",
              " 'random_normal_initializer',\n",
              " 'random_uniform_initializer',\n",
              " 'range',\n",
              " 'rank',\n",
              " 'raw_ops',\n",
              " 'realdiv',\n",
              " 'recompute_grad',\n",
              " 'reduce_all',\n",
              " 'reduce_any',\n",
              " 'reduce_logsumexp',\n",
              " 'reduce_max',\n",
              " 'reduce_mean',\n",
              " 'reduce_min',\n",
              " 'reduce_prod',\n",
              " 'reduce_sum',\n",
              " 'register_tensor_conversion_function',\n",
              " 'repeat',\n",
              " 'required_space_to_batch_paddings',\n",
              " 'reshape',\n",
              " 'resource',\n",
              " 'reverse',\n",
              " 'reverse_sequence',\n",
              " 'roll',\n",
              " 'round',\n",
              " 'saturate_cast',\n",
              " 'saved_model',\n",
              " 'scalar_mul',\n",
              " 'scan',\n",
              " 'scatter_nd',\n",
              " 'searchsorted',\n",
              " 'sequence_mask',\n",
              " 'sets',\n",
              " 'shape',\n",
              " 'shape_n',\n",
              " 'sigmoid',\n",
              " 'sign',\n",
              " 'signal',\n",
              " 'sin',\n",
              " 'sinh',\n",
              " 'size',\n",
              " 'slice',\n",
              " 'sort',\n",
              " 'space_to_batch',\n",
              " 'space_to_batch_nd',\n",
              " 'sparse',\n",
              " 'split',\n",
              " 'sqrt',\n",
              " 'square',\n",
              " 'squeeze',\n",
              " 'stack',\n",
              " 'stop_gradient',\n",
              " 'strided_slice',\n",
              " 'string',\n",
              " 'strings',\n",
              " 'subtract',\n",
              " 'summary',\n",
              " 'switch_case',\n",
              " 'sysconfig',\n",
              " 'tan',\n",
              " 'tanh',\n",
              " 'tensor_scatter_nd_add',\n",
              " 'tensor_scatter_nd_max',\n",
              " 'tensor_scatter_nd_min',\n",
              " 'tensor_scatter_nd_sub',\n",
              " 'tensor_scatter_nd_update',\n",
              " 'tensordot',\n",
              " 'test',\n",
              " 'tile',\n",
              " 'timestamp',\n",
              " 'tools',\n",
              " 'tpu',\n",
              " 'train',\n",
              " 'transpose',\n",
              " 'truediv',\n",
              " 'truncatediv',\n",
              " 'truncatemod',\n",
              " 'tuple',\n",
              " 'type_spec_from_value',\n",
              " 'types',\n",
              " 'uint16',\n",
              " 'uint32',\n",
              " 'uint64',\n",
              " 'uint8',\n",
              " 'unique',\n",
              " 'unique_with_counts',\n",
              " 'unravel_index',\n",
              " 'unstack',\n",
              " 'variable_creator_scope',\n",
              " 'variant',\n",
              " 'vectorized_map',\n",
              " 'version',\n",
              " 'where',\n",
              " 'while_loop',\n",
              " 'xla',\n",
              " 'zeros',\n",
              " 'zeros_initializer',\n",
              " 'zeros_like']"
            ]
          },
          "metadata": {
            "tags": []
          },
          "execution_count": 4
        }
      ]
    },
    {
      "cell_type": "code",
      "metadata": {
        "id": "YL7Q39fMRucU"
      },
      "source": [
        "import numpy as np"
      ],
      "execution_count": null,
      "outputs": []
    },
    {
      "cell_type": "code",
      "metadata": {
        "id": "uNkpbDOYSoP_"
      },
      "source": [
        "x= tf.constant([1,2,3])"
      ],
      "execution_count": null,
      "outputs": []
    },
    {
      "cell_type": "code",
      "metadata": {
        "colab": {
          "base_uri": "https://localhost:8080/"
        },
        "id": "P5QiAuPISscI",
        "outputId": "cf709cc0-24bf-4e21-8311-fd0718c08259"
      },
      "source": [
        "x.numpy()  # tensor -> numpy array"
      ],
      "execution_count": null,
      "outputs": [
        {
          "output_type": "execute_result",
          "data": {
            "text/plain": [
              "array([1, 2, 3], dtype=int32)"
            ]
          },
          "metadata": {
            "tags": []
          },
          "execution_count": 8
        }
      ]
    },
    {
      "cell_type": "code",
      "metadata": {
        "colab": {
          "base_uri": "https://localhost:8080/"
        },
        "id": "9QzzBA3OSqsx",
        "outputId": "86f26e85-25a7-44f3-f758-1489775b6090"
      },
      "source": [
        "np.add(x,x) # tensor -> numpy array"
      ],
      "execution_count": null,
      "outputs": [
        {
          "output_type": "execute_result",
          "data": {
            "text/plain": [
              "array([2, 4, 6], dtype=int32)"
            ]
          },
          "metadata": {
            "tags": []
          },
          "execution_count": 7
        }
      ]
    },
    {
      "cell_type": "code",
      "metadata": {
        "colab": {
          "base_uri": "https://localhost:8080/"
        },
        "id": "VvQiFTFSS6mz",
        "outputId": "223bf610-c687-4317-bd08-e6c2b946d480"
      },
      "source": [
        "import seaborn as sns\r\n",
        "iris= sns.load_dataset('iris')\r\n",
        "type(iris)   # DataFrame"
      ],
      "execution_count": null,
      "outputs": [
        {
          "output_type": "execute_result",
          "data": {
            "text/plain": [
              "pandas.core.frame.DataFrame"
            ]
          },
          "metadata": {
            "tags": []
          },
          "execution_count": 11
        }
      ]
    },
    {
      "cell_type": "code",
      "metadata": {
        "colab": {
          "base_uri": "https://localhost:8080/"
        },
        "id": "zGKukfxXS7kT",
        "outputId": "2cdcb246-84ed-4626-f44b-3f679a5059cb"
      },
      "source": [
        "iris.values  # numpy array"
      ],
      "execution_count": null,
      "outputs": [
        {
          "output_type": "execute_result",
          "data": {
            "text/plain": [
              "array([[5.1, 3.5, 1.4, 0.2, 'setosa'],\n",
              "       [4.9, 3.0, 1.4, 0.2, 'setosa'],\n",
              "       [4.7, 3.2, 1.3, 0.2, 'setosa'],\n",
              "       [4.6, 3.1, 1.5, 0.2, 'setosa'],\n",
              "       [5.0, 3.6, 1.4, 0.2, 'setosa'],\n",
              "       [5.4, 3.9, 1.7, 0.4, 'setosa'],\n",
              "       [4.6, 3.4, 1.4, 0.3, 'setosa'],\n",
              "       [5.0, 3.4, 1.5, 0.2, 'setosa'],\n",
              "       [4.4, 2.9, 1.4, 0.2, 'setosa'],\n",
              "       [4.9, 3.1, 1.5, 0.1, 'setosa'],\n",
              "       [5.4, 3.7, 1.5, 0.2, 'setosa'],\n",
              "       [4.8, 3.4, 1.6, 0.2, 'setosa'],\n",
              "       [4.8, 3.0, 1.4, 0.1, 'setosa'],\n",
              "       [4.3, 3.0, 1.1, 0.1, 'setosa'],\n",
              "       [5.8, 4.0, 1.2, 0.2, 'setosa'],\n",
              "       [5.7, 4.4, 1.5, 0.4, 'setosa'],\n",
              "       [5.4, 3.9, 1.3, 0.4, 'setosa'],\n",
              "       [5.1, 3.5, 1.4, 0.3, 'setosa'],\n",
              "       [5.7, 3.8, 1.7, 0.3, 'setosa'],\n",
              "       [5.1, 3.8, 1.5, 0.3, 'setosa'],\n",
              "       [5.4, 3.4, 1.7, 0.2, 'setosa'],\n",
              "       [5.1, 3.7, 1.5, 0.4, 'setosa'],\n",
              "       [4.6, 3.6, 1.0, 0.2, 'setosa'],\n",
              "       [5.1, 3.3, 1.7, 0.5, 'setosa'],\n",
              "       [4.8, 3.4, 1.9, 0.2, 'setosa'],\n",
              "       [5.0, 3.0, 1.6, 0.2, 'setosa'],\n",
              "       [5.0, 3.4, 1.6, 0.4, 'setosa'],\n",
              "       [5.2, 3.5, 1.5, 0.2, 'setosa'],\n",
              "       [5.2, 3.4, 1.4, 0.2, 'setosa'],\n",
              "       [4.7, 3.2, 1.6, 0.2, 'setosa'],\n",
              "       [4.8, 3.1, 1.6, 0.2, 'setosa'],\n",
              "       [5.4, 3.4, 1.5, 0.4, 'setosa'],\n",
              "       [5.2, 4.1, 1.5, 0.1, 'setosa'],\n",
              "       [5.5, 4.2, 1.4, 0.2, 'setosa'],\n",
              "       [4.9, 3.1, 1.5, 0.2, 'setosa'],\n",
              "       [5.0, 3.2, 1.2, 0.2, 'setosa'],\n",
              "       [5.5, 3.5, 1.3, 0.2, 'setosa'],\n",
              "       [4.9, 3.6, 1.4, 0.1, 'setosa'],\n",
              "       [4.4, 3.0, 1.3, 0.2, 'setosa'],\n",
              "       [5.1, 3.4, 1.5, 0.2, 'setosa'],\n",
              "       [5.0, 3.5, 1.3, 0.3, 'setosa'],\n",
              "       [4.5, 2.3, 1.3, 0.3, 'setosa'],\n",
              "       [4.4, 3.2, 1.3, 0.2, 'setosa'],\n",
              "       [5.0, 3.5, 1.6, 0.6, 'setosa'],\n",
              "       [5.1, 3.8, 1.9, 0.4, 'setosa'],\n",
              "       [4.8, 3.0, 1.4, 0.3, 'setosa'],\n",
              "       [5.1, 3.8, 1.6, 0.2, 'setosa'],\n",
              "       [4.6, 3.2, 1.4, 0.2, 'setosa'],\n",
              "       [5.3, 3.7, 1.5, 0.2, 'setosa'],\n",
              "       [5.0, 3.3, 1.4, 0.2, 'setosa'],\n",
              "       [7.0, 3.2, 4.7, 1.4, 'versicolor'],\n",
              "       [6.4, 3.2, 4.5, 1.5, 'versicolor'],\n",
              "       [6.9, 3.1, 4.9, 1.5, 'versicolor'],\n",
              "       [5.5, 2.3, 4.0, 1.3, 'versicolor'],\n",
              "       [6.5, 2.8, 4.6, 1.5, 'versicolor'],\n",
              "       [5.7, 2.8, 4.5, 1.3, 'versicolor'],\n",
              "       [6.3, 3.3, 4.7, 1.6, 'versicolor'],\n",
              "       [4.9, 2.4, 3.3, 1.0, 'versicolor'],\n",
              "       [6.6, 2.9, 4.6, 1.3, 'versicolor'],\n",
              "       [5.2, 2.7, 3.9, 1.4, 'versicolor'],\n",
              "       [5.0, 2.0, 3.5, 1.0, 'versicolor'],\n",
              "       [5.9, 3.0, 4.2, 1.5, 'versicolor'],\n",
              "       [6.0, 2.2, 4.0, 1.0, 'versicolor'],\n",
              "       [6.1, 2.9, 4.7, 1.4, 'versicolor'],\n",
              "       [5.6, 2.9, 3.6, 1.3, 'versicolor'],\n",
              "       [6.7, 3.1, 4.4, 1.4, 'versicolor'],\n",
              "       [5.6, 3.0, 4.5, 1.5, 'versicolor'],\n",
              "       [5.8, 2.7, 4.1, 1.0, 'versicolor'],\n",
              "       [6.2, 2.2, 4.5, 1.5, 'versicolor'],\n",
              "       [5.6, 2.5, 3.9, 1.1, 'versicolor'],\n",
              "       [5.9, 3.2, 4.8, 1.8, 'versicolor'],\n",
              "       [6.1, 2.8, 4.0, 1.3, 'versicolor'],\n",
              "       [6.3, 2.5, 4.9, 1.5, 'versicolor'],\n",
              "       [6.1, 2.8, 4.7, 1.2, 'versicolor'],\n",
              "       [6.4, 2.9, 4.3, 1.3, 'versicolor'],\n",
              "       [6.6, 3.0, 4.4, 1.4, 'versicolor'],\n",
              "       [6.8, 2.8, 4.8, 1.4, 'versicolor'],\n",
              "       [6.7, 3.0, 5.0, 1.7, 'versicolor'],\n",
              "       [6.0, 2.9, 4.5, 1.5, 'versicolor'],\n",
              "       [5.7, 2.6, 3.5, 1.0, 'versicolor'],\n",
              "       [5.5, 2.4, 3.8, 1.1, 'versicolor'],\n",
              "       [5.5, 2.4, 3.7, 1.0, 'versicolor'],\n",
              "       [5.8, 2.7, 3.9, 1.2, 'versicolor'],\n",
              "       [6.0, 2.7, 5.1, 1.6, 'versicolor'],\n",
              "       [5.4, 3.0, 4.5, 1.5, 'versicolor'],\n",
              "       [6.0, 3.4, 4.5, 1.6, 'versicolor'],\n",
              "       [6.7, 3.1, 4.7, 1.5, 'versicolor'],\n",
              "       [6.3, 2.3, 4.4, 1.3, 'versicolor'],\n",
              "       [5.6, 3.0, 4.1, 1.3, 'versicolor'],\n",
              "       [5.5, 2.5, 4.0, 1.3, 'versicolor'],\n",
              "       [5.5, 2.6, 4.4, 1.2, 'versicolor'],\n",
              "       [6.1, 3.0, 4.6, 1.4, 'versicolor'],\n",
              "       [5.8, 2.6, 4.0, 1.2, 'versicolor'],\n",
              "       [5.0, 2.3, 3.3, 1.0, 'versicolor'],\n",
              "       [5.6, 2.7, 4.2, 1.3, 'versicolor'],\n",
              "       [5.7, 3.0, 4.2, 1.2, 'versicolor'],\n",
              "       [5.7, 2.9, 4.2, 1.3, 'versicolor'],\n",
              "       [6.2, 2.9, 4.3, 1.3, 'versicolor'],\n",
              "       [5.1, 2.5, 3.0, 1.1, 'versicolor'],\n",
              "       [5.7, 2.8, 4.1, 1.3, 'versicolor'],\n",
              "       [6.3, 3.3, 6.0, 2.5, 'virginica'],\n",
              "       [5.8, 2.7, 5.1, 1.9, 'virginica'],\n",
              "       [7.1, 3.0, 5.9, 2.1, 'virginica'],\n",
              "       [6.3, 2.9, 5.6, 1.8, 'virginica'],\n",
              "       [6.5, 3.0, 5.8, 2.2, 'virginica'],\n",
              "       [7.6, 3.0, 6.6, 2.1, 'virginica'],\n",
              "       [4.9, 2.5, 4.5, 1.7, 'virginica'],\n",
              "       [7.3, 2.9, 6.3, 1.8, 'virginica'],\n",
              "       [6.7, 2.5, 5.8, 1.8, 'virginica'],\n",
              "       [7.2, 3.6, 6.1, 2.5, 'virginica'],\n",
              "       [6.5, 3.2, 5.1, 2.0, 'virginica'],\n",
              "       [6.4, 2.7, 5.3, 1.9, 'virginica'],\n",
              "       [6.8, 3.0, 5.5, 2.1, 'virginica'],\n",
              "       [5.7, 2.5, 5.0, 2.0, 'virginica'],\n",
              "       [5.8, 2.8, 5.1, 2.4, 'virginica'],\n",
              "       [6.4, 3.2, 5.3, 2.3, 'virginica'],\n",
              "       [6.5, 3.0, 5.5, 1.8, 'virginica'],\n",
              "       [7.7, 3.8, 6.7, 2.2, 'virginica'],\n",
              "       [7.7, 2.6, 6.9, 2.3, 'virginica'],\n",
              "       [6.0, 2.2, 5.0, 1.5, 'virginica'],\n",
              "       [6.9, 3.2, 5.7, 2.3, 'virginica'],\n",
              "       [5.6, 2.8, 4.9, 2.0, 'virginica'],\n",
              "       [7.7, 2.8, 6.7, 2.0, 'virginica'],\n",
              "       [6.3, 2.7, 4.9, 1.8, 'virginica'],\n",
              "       [6.7, 3.3, 5.7, 2.1, 'virginica'],\n",
              "       [7.2, 3.2, 6.0, 1.8, 'virginica'],\n",
              "       [6.2, 2.8, 4.8, 1.8, 'virginica'],\n",
              "       [6.1, 3.0, 4.9, 1.8, 'virginica'],\n",
              "       [6.4, 2.8, 5.6, 2.1, 'virginica'],\n",
              "       [7.2, 3.0, 5.8, 1.6, 'virginica'],\n",
              "       [7.4, 2.8, 6.1, 1.9, 'virginica'],\n",
              "       [7.9, 3.8, 6.4, 2.0, 'virginica'],\n",
              "       [6.4, 2.8, 5.6, 2.2, 'virginica'],\n",
              "       [6.3, 2.8, 5.1, 1.5, 'virginica'],\n",
              "       [6.1, 2.6, 5.6, 1.4, 'virginica'],\n",
              "       [7.7, 3.0, 6.1, 2.3, 'virginica'],\n",
              "       [6.3, 3.4, 5.6, 2.4, 'virginica'],\n",
              "       [6.4, 3.1, 5.5, 1.8, 'virginica'],\n",
              "       [6.0, 3.0, 4.8, 1.8, 'virginica'],\n",
              "       [6.9, 3.1, 5.4, 2.1, 'virginica'],\n",
              "       [6.7, 3.1, 5.6, 2.4, 'virginica'],\n",
              "       [6.9, 3.1, 5.1, 2.3, 'virginica'],\n",
              "       [5.8, 2.7, 5.1, 1.9, 'virginica'],\n",
              "       [6.8, 3.2, 5.9, 2.3, 'virginica'],\n",
              "       [6.7, 3.3, 5.7, 2.5, 'virginica'],\n",
              "       [6.7, 3.0, 5.2, 2.3, 'virginica'],\n",
              "       [6.3, 2.5, 5.0, 1.9, 'virginica'],\n",
              "       [6.5, 3.0, 5.2, 2.0, 'virginica'],\n",
              "       [6.2, 3.4, 5.4, 2.3, 'virginica'],\n",
              "       [5.9, 3.0, 5.1, 1.8, 'virginica']], dtype=object)"
            ]
          },
          "metadata": {
            "tags": []
          },
          "execution_count": 12
        }
      ]
    },
    {
      "cell_type": "code",
      "metadata": {
        "colab": {
          "base_uri": "https://localhost:8080/"
        },
        "id": "T6rb1-bAS8YZ",
        "outputId": "8bf1899d-428a-4229-eedd-e81077a5bc2a"
      },
      "source": [
        "iris.to_numpy() #DataFrame - > numpy array 로 변환"
      ],
      "execution_count": null,
      "outputs": [
        {
          "output_type": "execute_result",
          "data": {
            "text/plain": [
              "array([[5.1, 3.5, 1.4, 0.2, 'setosa'],\n",
              "       [4.9, 3.0, 1.4, 0.2, 'setosa'],\n",
              "       [4.7, 3.2, 1.3, 0.2, 'setosa'],\n",
              "       [4.6, 3.1, 1.5, 0.2, 'setosa'],\n",
              "       [5.0, 3.6, 1.4, 0.2, 'setosa'],\n",
              "       [5.4, 3.9, 1.7, 0.4, 'setosa'],\n",
              "       [4.6, 3.4, 1.4, 0.3, 'setosa'],\n",
              "       [5.0, 3.4, 1.5, 0.2, 'setosa'],\n",
              "       [4.4, 2.9, 1.4, 0.2, 'setosa'],\n",
              "       [4.9, 3.1, 1.5, 0.1, 'setosa'],\n",
              "       [5.4, 3.7, 1.5, 0.2, 'setosa'],\n",
              "       [4.8, 3.4, 1.6, 0.2, 'setosa'],\n",
              "       [4.8, 3.0, 1.4, 0.1, 'setosa'],\n",
              "       [4.3, 3.0, 1.1, 0.1, 'setosa'],\n",
              "       [5.8, 4.0, 1.2, 0.2, 'setosa'],\n",
              "       [5.7, 4.4, 1.5, 0.4, 'setosa'],\n",
              "       [5.4, 3.9, 1.3, 0.4, 'setosa'],\n",
              "       [5.1, 3.5, 1.4, 0.3, 'setosa'],\n",
              "       [5.7, 3.8, 1.7, 0.3, 'setosa'],\n",
              "       [5.1, 3.8, 1.5, 0.3, 'setosa'],\n",
              "       [5.4, 3.4, 1.7, 0.2, 'setosa'],\n",
              "       [5.1, 3.7, 1.5, 0.4, 'setosa'],\n",
              "       [4.6, 3.6, 1.0, 0.2, 'setosa'],\n",
              "       [5.1, 3.3, 1.7, 0.5, 'setosa'],\n",
              "       [4.8, 3.4, 1.9, 0.2, 'setosa'],\n",
              "       [5.0, 3.0, 1.6, 0.2, 'setosa'],\n",
              "       [5.0, 3.4, 1.6, 0.4, 'setosa'],\n",
              "       [5.2, 3.5, 1.5, 0.2, 'setosa'],\n",
              "       [5.2, 3.4, 1.4, 0.2, 'setosa'],\n",
              "       [4.7, 3.2, 1.6, 0.2, 'setosa'],\n",
              "       [4.8, 3.1, 1.6, 0.2, 'setosa'],\n",
              "       [5.4, 3.4, 1.5, 0.4, 'setosa'],\n",
              "       [5.2, 4.1, 1.5, 0.1, 'setosa'],\n",
              "       [5.5, 4.2, 1.4, 0.2, 'setosa'],\n",
              "       [4.9, 3.1, 1.5, 0.2, 'setosa'],\n",
              "       [5.0, 3.2, 1.2, 0.2, 'setosa'],\n",
              "       [5.5, 3.5, 1.3, 0.2, 'setosa'],\n",
              "       [4.9, 3.6, 1.4, 0.1, 'setosa'],\n",
              "       [4.4, 3.0, 1.3, 0.2, 'setosa'],\n",
              "       [5.1, 3.4, 1.5, 0.2, 'setosa'],\n",
              "       [5.0, 3.5, 1.3, 0.3, 'setosa'],\n",
              "       [4.5, 2.3, 1.3, 0.3, 'setosa'],\n",
              "       [4.4, 3.2, 1.3, 0.2, 'setosa'],\n",
              "       [5.0, 3.5, 1.6, 0.6, 'setosa'],\n",
              "       [5.1, 3.8, 1.9, 0.4, 'setosa'],\n",
              "       [4.8, 3.0, 1.4, 0.3, 'setosa'],\n",
              "       [5.1, 3.8, 1.6, 0.2, 'setosa'],\n",
              "       [4.6, 3.2, 1.4, 0.2, 'setosa'],\n",
              "       [5.3, 3.7, 1.5, 0.2, 'setosa'],\n",
              "       [5.0, 3.3, 1.4, 0.2, 'setosa'],\n",
              "       [7.0, 3.2, 4.7, 1.4, 'versicolor'],\n",
              "       [6.4, 3.2, 4.5, 1.5, 'versicolor'],\n",
              "       [6.9, 3.1, 4.9, 1.5, 'versicolor'],\n",
              "       [5.5, 2.3, 4.0, 1.3, 'versicolor'],\n",
              "       [6.5, 2.8, 4.6, 1.5, 'versicolor'],\n",
              "       [5.7, 2.8, 4.5, 1.3, 'versicolor'],\n",
              "       [6.3, 3.3, 4.7, 1.6, 'versicolor'],\n",
              "       [4.9, 2.4, 3.3, 1.0, 'versicolor'],\n",
              "       [6.6, 2.9, 4.6, 1.3, 'versicolor'],\n",
              "       [5.2, 2.7, 3.9, 1.4, 'versicolor'],\n",
              "       [5.0, 2.0, 3.5, 1.0, 'versicolor'],\n",
              "       [5.9, 3.0, 4.2, 1.5, 'versicolor'],\n",
              "       [6.0, 2.2, 4.0, 1.0, 'versicolor'],\n",
              "       [6.1, 2.9, 4.7, 1.4, 'versicolor'],\n",
              "       [5.6, 2.9, 3.6, 1.3, 'versicolor'],\n",
              "       [6.7, 3.1, 4.4, 1.4, 'versicolor'],\n",
              "       [5.6, 3.0, 4.5, 1.5, 'versicolor'],\n",
              "       [5.8, 2.7, 4.1, 1.0, 'versicolor'],\n",
              "       [6.2, 2.2, 4.5, 1.5, 'versicolor'],\n",
              "       [5.6, 2.5, 3.9, 1.1, 'versicolor'],\n",
              "       [5.9, 3.2, 4.8, 1.8, 'versicolor'],\n",
              "       [6.1, 2.8, 4.0, 1.3, 'versicolor'],\n",
              "       [6.3, 2.5, 4.9, 1.5, 'versicolor'],\n",
              "       [6.1, 2.8, 4.7, 1.2, 'versicolor'],\n",
              "       [6.4, 2.9, 4.3, 1.3, 'versicolor'],\n",
              "       [6.6, 3.0, 4.4, 1.4, 'versicolor'],\n",
              "       [6.8, 2.8, 4.8, 1.4, 'versicolor'],\n",
              "       [6.7, 3.0, 5.0, 1.7, 'versicolor'],\n",
              "       [6.0, 2.9, 4.5, 1.5, 'versicolor'],\n",
              "       [5.7, 2.6, 3.5, 1.0, 'versicolor'],\n",
              "       [5.5, 2.4, 3.8, 1.1, 'versicolor'],\n",
              "       [5.5, 2.4, 3.7, 1.0, 'versicolor'],\n",
              "       [5.8, 2.7, 3.9, 1.2, 'versicolor'],\n",
              "       [6.0, 2.7, 5.1, 1.6, 'versicolor'],\n",
              "       [5.4, 3.0, 4.5, 1.5, 'versicolor'],\n",
              "       [6.0, 3.4, 4.5, 1.6, 'versicolor'],\n",
              "       [6.7, 3.1, 4.7, 1.5, 'versicolor'],\n",
              "       [6.3, 2.3, 4.4, 1.3, 'versicolor'],\n",
              "       [5.6, 3.0, 4.1, 1.3, 'versicolor'],\n",
              "       [5.5, 2.5, 4.0, 1.3, 'versicolor'],\n",
              "       [5.5, 2.6, 4.4, 1.2, 'versicolor'],\n",
              "       [6.1, 3.0, 4.6, 1.4, 'versicolor'],\n",
              "       [5.8, 2.6, 4.0, 1.2, 'versicolor'],\n",
              "       [5.0, 2.3, 3.3, 1.0, 'versicolor'],\n",
              "       [5.6, 2.7, 4.2, 1.3, 'versicolor'],\n",
              "       [5.7, 3.0, 4.2, 1.2, 'versicolor'],\n",
              "       [5.7, 2.9, 4.2, 1.3, 'versicolor'],\n",
              "       [6.2, 2.9, 4.3, 1.3, 'versicolor'],\n",
              "       [5.1, 2.5, 3.0, 1.1, 'versicolor'],\n",
              "       [5.7, 2.8, 4.1, 1.3, 'versicolor'],\n",
              "       [6.3, 3.3, 6.0, 2.5, 'virginica'],\n",
              "       [5.8, 2.7, 5.1, 1.9, 'virginica'],\n",
              "       [7.1, 3.0, 5.9, 2.1, 'virginica'],\n",
              "       [6.3, 2.9, 5.6, 1.8, 'virginica'],\n",
              "       [6.5, 3.0, 5.8, 2.2, 'virginica'],\n",
              "       [7.6, 3.0, 6.6, 2.1, 'virginica'],\n",
              "       [4.9, 2.5, 4.5, 1.7, 'virginica'],\n",
              "       [7.3, 2.9, 6.3, 1.8, 'virginica'],\n",
              "       [6.7, 2.5, 5.8, 1.8, 'virginica'],\n",
              "       [7.2, 3.6, 6.1, 2.5, 'virginica'],\n",
              "       [6.5, 3.2, 5.1, 2.0, 'virginica'],\n",
              "       [6.4, 2.7, 5.3, 1.9, 'virginica'],\n",
              "       [6.8, 3.0, 5.5, 2.1, 'virginica'],\n",
              "       [5.7, 2.5, 5.0, 2.0, 'virginica'],\n",
              "       [5.8, 2.8, 5.1, 2.4, 'virginica'],\n",
              "       [6.4, 3.2, 5.3, 2.3, 'virginica'],\n",
              "       [6.5, 3.0, 5.5, 1.8, 'virginica'],\n",
              "       [7.7, 3.8, 6.7, 2.2, 'virginica'],\n",
              "       [7.7, 2.6, 6.9, 2.3, 'virginica'],\n",
              "       [6.0, 2.2, 5.0, 1.5, 'virginica'],\n",
              "       [6.9, 3.2, 5.7, 2.3, 'virginica'],\n",
              "       [5.6, 2.8, 4.9, 2.0, 'virginica'],\n",
              "       [7.7, 2.8, 6.7, 2.0, 'virginica'],\n",
              "       [6.3, 2.7, 4.9, 1.8, 'virginica'],\n",
              "       [6.7, 3.3, 5.7, 2.1, 'virginica'],\n",
              "       [7.2, 3.2, 6.0, 1.8, 'virginica'],\n",
              "       [6.2, 2.8, 4.8, 1.8, 'virginica'],\n",
              "       [6.1, 3.0, 4.9, 1.8, 'virginica'],\n",
              "       [6.4, 2.8, 5.6, 2.1, 'virginica'],\n",
              "       [7.2, 3.0, 5.8, 1.6, 'virginica'],\n",
              "       [7.4, 2.8, 6.1, 1.9, 'virginica'],\n",
              "       [7.9, 3.8, 6.4, 2.0, 'virginica'],\n",
              "       [6.4, 2.8, 5.6, 2.2, 'virginica'],\n",
              "       [6.3, 2.8, 5.1, 1.5, 'virginica'],\n",
              "       [6.1, 2.6, 5.6, 1.4, 'virginica'],\n",
              "       [7.7, 3.0, 6.1, 2.3, 'virginica'],\n",
              "       [6.3, 3.4, 5.6, 2.4, 'virginica'],\n",
              "       [6.4, 3.1, 5.5, 1.8, 'virginica'],\n",
              "       [6.0, 3.0, 4.8, 1.8, 'virginica'],\n",
              "       [6.9, 3.1, 5.4, 2.1, 'virginica'],\n",
              "       [6.7, 3.1, 5.6, 2.4, 'virginica'],\n",
              "       [6.9, 3.1, 5.1, 2.3, 'virginica'],\n",
              "       [5.8, 2.7, 5.1, 1.9, 'virginica'],\n",
              "       [6.8, 3.2, 5.9, 2.3, 'virginica'],\n",
              "       [6.7, 3.3, 5.7, 2.5, 'virginica'],\n",
              "       [6.7, 3.0, 5.2, 2.3, 'virginica'],\n",
              "       [6.3, 2.5, 5.0, 1.9, 'virginica'],\n",
              "       [6.5, 3.0, 5.2, 2.0, 'virginica'],\n",
              "       [6.2, 3.4, 5.4, 2.3, 'virginica'],\n",
              "       [5.9, 3.0, 5.1, 1.8, 'virginica']], dtype=object)"
            ]
          },
          "metadata": {
            "tags": []
          },
          "execution_count": 13
        }
      ]
    },
    {
      "cell_type": "markdown",
      "metadata": {
        "id": "O59EQGqHZsMC"
      },
      "source": [
        "#### Numpy vs Tensorflow\r\n",
        "- method 명 차이\r\n",
        "  - tensor가 elegant\r\n",
        "  - `.numpy()` 모든 tensor는 numpy로 바꿀 수 있음\r\n",
        "  - numpy가 연산을 효율적으로 함\r\n",
        "  - broadcasting\r\n",
        "\r\n",
        "  "
      ]
    },
    {
      "cell_type": "code",
      "metadata": {
        "id": "cW014KKITCbz"
      },
      "source": [
        "import numpy as np\r\n",
        "import tensorflow as tf"
      ],
      "execution_count": null,
      "outputs": []
    },
    {
      "cell_type": "code",
      "metadata": {
        "colab": {
          "base_uri": "https://localhost:8080/"
        },
        "id": "4dkkVCWWZrgK",
        "outputId": "69eedad9-1d4e-4d4a-fe11-90158e4f500a"
      },
      "source": [
        "x = np.random.normal(size=[10,10])  #size\r\n",
        "x"
      ],
      "execution_count": null,
      "outputs": [
        {
          "output_type": "execute_result",
          "data": {
            "text/plain": [
              "array([[-0.58656441, -1.44971611,  0.17396113, -0.3219968 , -1.24995412,\n",
              "        -2.04296749, -0.21081203,  0.15012722, -0.05707896, -1.54306507],\n",
              "       [ 1.16793246, -2.22064506,  1.47054248,  1.97522578, -0.14700766,\n",
              "        -1.79946269, -0.2209306 , -0.33353088,  0.54952405,  0.07181854],\n",
              "       [ 0.88516167,  1.97397307, -0.86078962, -0.85112211, -0.55603749,\n",
              "         0.82479245, -0.2848654 , -0.61565763, -0.03807773, -0.68547521],\n",
              "       [ 0.03271972, -1.00819712, -1.41400247, -0.70584963, -1.12129613,\n",
              "        -0.94671053, -0.27165996, -0.18252284,  1.65240444, -0.68681266],\n",
              "       [-0.47187196, -0.79591338, -0.01295625,  0.40418035,  0.07053242,\n",
              "         0.24367051, -0.66643909, -1.05521969, -0.65524724, -0.16750839],\n",
              "       [-0.83141564,  0.88567092,  2.54072104, -1.86791693, -0.79352988,\n",
              "         0.54089653,  0.54750206, -1.10308137,  0.29666695, -0.15613442],\n",
              "       [ 0.1770898 ,  0.74040794,  0.15836509,  0.49401704, -3.08208757,\n",
              "         0.5193929 , -0.24960203, -2.21834951,  1.75449005, -0.65115575],\n",
              "       [-0.35858149, -0.05865168, -0.50091334, -1.96898454,  0.90998147,\n",
              "        -0.33795643,  0.30688633, -0.00766915, -0.47830493,  0.45932824],\n",
              "       [ 1.77872864,  1.26419868,  0.07637119,  1.1187663 , -0.65222403,\n",
              "         0.13718475,  1.51726203,  0.44324736, -1.54168442, -0.5323428 ],\n",
              "       [ 0.33384699, -0.5758697 , -1.02161066, -0.89231397,  1.44655394,\n",
              "         0.05510951, -1.4473161 , -0.31742445,  0.13905069,  1.33341855]])"
            ]
          },
          "metadata": {
            "tags": []
          },
          "execution_count": 16
        }
      ]
    },
    {
      "cell_type": "code",
      "metadata": {
        "colab": {
          "base_uri": "https://localhost:8080/"
        },
        "id": "4sdZnzu7ZyTP",
        "outputId": "107ad71b-80d9-4250-bfad-af1be8f7d1fb"
      },
      "source": [
        "y = np.random.normal(size=[10,10])  #10x10 matrix\r\n",
        "y"
      ],
      "execution_count": null,
      "outputs": [
        {
          "output_type": "execute_result",
          "data": {
            "text/plain": [
              "array([[ 2.21159505, -0.82045357,  1.06493654,  0.26689604,  1.76949729,\n",
              "        -0.51726031,  0.19742402, -2.04101978,  0.43934248,  0.0398356 ],\n",
              "       [ 0.47888088, -0.56054611, -0.49584922, -0.37723654,  0.58923914,\n",
              "         0.86401991, -2.00559931,  0.44750716, -1.19033049, -1.63506248],\n",
              "       [ 0.47032089,  0.45385186, -0.89348449, -0.13313212, -1.03920576,\n",
              "         0.54637909,  0.41609226, -0.06735599,  0.71320067,  0.3152394 ],\n",
              "       [ 0.70048696, -0.29757607,  1.21838232,  0.06802417,  0.66042324,\n",
              "        -1.49160126, -0.25712714,  1.28543995, -0.24985386, -0.84163575],\n",
              "       [-1.72347207, -0.56028456,  0.65624616,  1.12712705,  0.31416126,\n",
              "        -1.04748206, -0.67097652,  0.26376474,  1.70459957, -0.25964155],\n",
              "       [ 0.80032055, -1.50636926,  0.07092325, -0.72655486, -0.45366208,\n",
              "         0.97943282,  0.94996982,  2.31980406, -0.72223422,  0.715532  ],\n",
              "       [-1.39136923,  1.37845261, -0.48165484, -0.4654942 ,  1.41682109,\n",
              "        -0.18512752,  0.12206723,  0.20023412, -2.35963917, -0.11605584],\n",
              "       [-0.85125615,  1.49250697, -1.73812044, -0.99758625, -0.8300538 ,\n",
              "        -0.43067025, -0.77599455,  0.78554096, -0.50100645,  0.58021626],\n",
              "       [-0.47091358,  1.11192175, -1.11938597,  0.10345815, -0.57429397,\n",
              "         0.23227842,  2.13661432, -0.12376168, -0.83732797,  0.82823379],\n",
              "       [-1.01626502,  0.23379563,  1.01813203,  1.15179778, -0.56438213,\n",
              "         2.10521058, -0.48731191,  0.41348584,  0.69931941,  1.07212851]])"
            ]
          },
          "metadata": {
            "tags": []
          },
          "execution_count": 17
        }
      ]
    },
    {
      "cell_type": "code",
      "metadata": {
        "colab": {
          "base_uri": "https://localhost:8080/"
        },
        "id": "T0TFx3L-Z5gP",
        "outputId": "03e4a3bb-c9e9-4c15-ba0a-1141a4f8a2f9"
      },
      "source": [
        "z= np.dot(x,y) #array\r\n",
        "z"
      ],
      "execution_count": null,
      "outputs": [
        {
          "output_type": "execute_result",
          "data": {
            "text/plain": [
              "array([[ 0.14457382,  4.75568845, -3.08528266, -1.41409562, -1.2710976 ,\n",
              "        -4.35284578,  2.33262525, -5.50142378,  0.4082138 , -0.05448147],\n",
              "       [ 2.66758381,  2.9846686 ,  3.35757578,  2.80486464,  0.91232301,\n",
              "        -5.81066929,  4.54847543, -5.4952739 ,  5.03925215,  1.59342048],\n",
              "       [ 5.15527436, -4.41518446, -0.05842916, -1.72438211,  3.02917098,\n",
              "         2.30314603, -2.07129508, -1.01204443, -3.37241995, -3.10340158],\n",
              "       [ 0.05813073,  3.19081646, -1.96568864, -0.35828636, -0.25040379,\n",
              "        -1.29363246,  5.44837259, -4.50825053, -1.97670076,  1.96967182],\n",
              "       [ 1.23006878, -2.96075927,  3.17775172,  1.20815452, -0.70944325,\n",
              "        -0.81579415,  0.99707434,  0.76068712,  3.10684513, -0.16284515],\n",
              "       [ 0.4685928 ,  0.92616544, -5.19035377, -1.61230694, -3.70886925,\n",
              "         6.84457997,  2.27606559, -0.29164159, -1.98092359,  0.8596028 ],\n",
              "       [ 8.96553155, -1.54735996, -0.35484095, -2.31009461,  0.55503794,\n",
              "         3.67321406,  6.80722881, -1.29276537, -6.66693285, -0.90068742],\n",
              "       [-4.93678608,  0.67203059, -0.86241769,  1.47474483, -0.5530612 ,\n",
              "         2.31623263, -1.78930956, -2.03107246,  1.8436357 ,  1.15903227],\n",
              "       [ 5.37132264, -1.39315089,  1.82647064, -2.69214744,  7.2523202 ,\n",
              "        -2.58781641, -5.06556917, -0.86282969, -5.04290646, -4.41272389],\n",
              "       [-2.22859469, -3.04518412,  3.8706616 ,  4.51265176, -1.46629688,\n",
              "         1.88534663, -0.17606749, -1.5129168 ,  7.14270625,  2.57623763]])"
            ]
          },
          "metadata": {
            "tags": []
          },
          "execution_count": 19
        }
      ]
    },
    {
      "cell_type": "code",
      "metadata": {
        "colab": {
          "base_uri": "https://localhost:8080/"
        },
        "id": "eE0CJ-_HZ-FN",
        "outputId": "bc0c03f3-1e58-4f60-cdca-d2cbb63e991f"
      },
      "source": [
        "print(z) # list로 보임"
      ],
      "execution_count": null,
      "outputs": [
        {
          "output_type": "stream",
          "text": [
            "[[ 0.14457382  4.75568845 -3.08528266 -1.41409562 -1.2710976  -4.35284578\n",
            "   2.33262525 -5.50142378  0.4082138  -0.05448147]\n",
            " [ 2.66758381  2.9846686   3.35757578  2.80486464  0.91232301 -5.81066929\n",
            "   4.54847543 -5.4952739   5.03925215  1.59342048]\n",
            " [ 5.15527436 -4.41518446 -0.05842916 -1.72438211  3.02917098  2.30314603\n",
            "  -2.07129508 -1.01204443 -3.37241995 -3.10340158]\n",
            " [ 0.05813073  3.19081646 -1.96568864 -0.35828636 -0.25040379 -1.29363246\n",
            "   5.44837259 -4.50825053 -1.97670076  1.96967182]\n",
            " [ 1.23006878 -2.96075927  3.17775172  1.20815452 -0.70944325 -0.81579415\n",
            "   0.99707434  0.76068712  3.10684513 -0.16284515]\n",
            " [ 0.4685928   0.92616544 -5.19035377 -1.61230694 -3.70886925  6.84457997\n",
            "   2.27606559 -0.29164159 -1.98092359  0.8596028 ]\n",
            " [ 8.96553155 -1.54735996 -0.35484095 -2.31009461  0.55503794  3.67321406\n",
            "   6.80722881 -1.29276537 -6.66693285 -0.90068742]\n",
            " [-4.93678608  0.67203059 -0.86241769  1.47474483 -0.5530612   2.31623263\n",
            "  -1.78930956 -2.03107246  1.8436357   1.15903227]\n",
            " [ 5.37132264 -1.39315089  1.82647064 -2.69214744  7.2523202  -2.58781641\n",
            "  -5.06556917 -0.86282969 -5.04290646 -4.41272389]\n",
            " [-2.22859469 -3.04518412  3.8706616   4.51265176 -1.46629688  1.88534663\n",
            "  -0.17606749 -1.5129168   7.14270625  2.57623763]]\n"
          ],
          "name": "stdout"
        }
      ]
    },
    {
      "cell_type": "markdown",
      "metadata": {
        "id": "SAFMKp7jaZYk"
      },
      "source": [
        "numpy대신 tensor 사용하지 않는 이유\r\n",
        "- NN 기반 아닐 경우, GPU 가 성능향상 미비\r\n",
        "- GPU 는 platform dependent 해서 범용적이지 못함\r\n",
        "- Numpy 다양한 메소드 지원"
      ]
    },
    {
      "cell_type": "code",
      "metadata": {
        "colab": {
          "base_uri": "https://localhost:8080/"
        },
        "id": "Q_RlPI1nZ__e",
        "outputId": "3c2ff3b2-ec3a-4561-9005-5ff688005287"
      },
      "source": [
        "xx = tf.random.normal([10,10] )  # shape  10x10 ; 기본 dtype float32, \r\n",
        "xx"
      ],
      "execution_count": null,
      "outputs": [
        {
          "output_type": "execute_result",
          "data": {
            "text/plain": [
              "<tf.Tensor: shape=(10, 10), dtype=float32, numpy=\n",
              "array([[-1.8004117 ,  0.12082984,  1.0753385 , -0.04630368,  0.20902982,\n",
              "        -1.1294465 ,  0.44027522, -0.20458777,  0.17131874,  0.23528777],\n",
              "       [-1.1255958 , -0.9423221 , -0.22508086,  2.4745536 ,  0.84882   ,\n",
              "        -0.5859348 ,  1.2550557 ,  2.2290576 ,  0.60170716, -0.68877596],\n",
              "       [-0.4083108 , -0.30175054,  0.30496922,  0.13767713, -0.98358727,\n",
              "        -1.1745007 , -0.91338986,  1.0383446 ,  0.5057797 ,  0.64041406],\n",
              "       [-1.2675546 , -0.67615175, -1.2692634 ,  0.7844826 , -0.3545462 ,\n",
              "        -2.5669277 ,  0.15864544, -0.61057246, -1.5688559 , -1.3448335 ],\n",
              "       [-1.0376859 ,  0.06693215,  1.2674869 ,  1.4594126 , -0.2505913 ,\n",
              "        -0.7636152 ,  0.01987569,  0.01010553, -0.17264955, -0.7287092 ],\n",
              "       [ 0.66256285, -0.95512897,  1.4681269 , -0.20209633,  0.7619833 ,\n",
              "        -0.2802632 , -0.90252715,  0.22961937,  0.09292863, -0.09639087],\n",
              "       [ 0.8050617 , -1.50617   , -0.41049966,  0.595928  ,  0.15285139,\n",
              "        -0.03240962,  1.8131981 , -2.6737134 ,  0.75289136,  0.26107755],\n",
              "       [-0.21101563,  0.6177408 ,  0.99624753,  0.01732492, -0.79003054,\n",
              "        -0.9358426 , -1.4736557 , -0.4220345 , -1.055438  ,  0.76110107],\n",
              "       [-0.05274085, -1.0684865 ,  0.7302337 , -0.7727654 ,  0.37111974,\n",
              "         1.6449466 , -0.509149  ,  0.03361297,  1.1924301 ,  0.6747248 ],\n",
              "       [-0.18539242,  1.745178  , -0.39393926,  0.73439896, -0.49763915,\n",
              "         2.8859296 ,  0.28655759,  0.15605192, -0.24693564,  0.15827969]],\n",
              "      dtype=float32)>"
            ]
          },
          "metadata": {
            "tags": []
          },
          "execution_count": 22
        }
      ]
    },
    {
      "cell_type": "code",
      "metadata": {
        "colab": {
          "base_uri": "https://localhost:8080/"
        },
        "id": "vo32PVLlaQUj",
        "outputId": "4c3b516a-a13d-431d-dc82-5794b2f1a7c5"
      },
      "source": [
        "print(xx) #tf.Tensor 라고 명시되어 있음"
      ],
      "execution_count": null,
      "outputs": [
        {
          "output_type": "stream",
          "text": [
            "tf.Tensor(\n",
            "[[-1.8004117   0.12082984  1.0753385  -0.04630368  0.20902982 -1.1294465\n",
            "   0.44027522 -0.20458777  0.17131874  0.23528777]\n",
            " [-1.1255958  -0.9423221  -0.22508086  2.4745536   0.84882    -0.5859348\n",
            "   1.2550557   2.2290576   0.60170716 -0.68877596]\n",
            " [-0.4083108  -0.30175054  0.30496922  0.13767713 -0.98358727 -1.1745007\n",
            "  -0.91338986  1.0383446   0.5057797   0.64041406]\n",
            " [-1.2675546  -0.67615175 -1.2692634   0.7844826  -0.3545462  -2.5669277\n",
            "   0.15864544 -0.61057246 -1.5688559  -1.3448335 ]\n",
            " [-1.0376859   0.06693215  1.2674869   1.4594126  -0.2505913  -0.7636152\n",
            "   0.01987569  0.01010553 -0.17264955 -0.7287092 ]\n",
            " [ 0.66256285 -0.95512897  1.4681269  -0.20209633  0.7619833  -0.2802632\n",
            "  -0.90252715  0.22961937  0.09292863 -0.09639087]\n",
            " [ 0.8050617  -1.50617    -0.41049966  0.595928    0.15285139 -0.03240962\n",
            "   1.8131981  -2.6737134   0.75289136  0.26107755]\n",
            " [-0.21101563  0.6177408   0.99624753  0.01732492 -0.79003054 -0.9358426\n",
            "  -1.4736557  -0.4220345  -1.055438    0.76110107]\n",
            " [-0.05274085 -1.0684865   0.7302337  -0.7727654   0.37111974  1.6449466\n",
            "  -0.509149    0.03361297  1.1924301   0.6747248 ]\n",
            " [-0.18539242  1.745178   -0.39393926  0.73439896 -0.49763915  2.8859296\n",
            "   0.28655759  0.15605192 -0.24693564  0.15827969]], shape=(10, 10), dtype=float32)\n"
          ],
          "name": "stdout"
        }
      ]
    },
    {
      "cell_type": "markdown",
      "metadata": {
        "id": "M2p47is-cHLT"
      },
      "source": [
        "#### Numpy\r\n",
        "- mutable: 재할당 없이 자신의 값 변화 가능\r\n",
        "\r\n",
        "#### TensorFlow\r\n",
        "- **immutable** \r\n",
        "- 상수 constant : python에서는 존재하지 않음,재할당 할 수 없음\r\n",
        "- 변수 Varaiable : 재할당 할 수 있음\r\n",
        "  - mutable 은 아니지만 비슷함\r\n",
        "  - 활용 : 학습\r\n"
      ]
    },
    {
      "cell_type": "code",
      "metadata": {
        "colab": {
          "base_uri": "https://localhost:8080/"
        },
        "id": "d6lu-Lw8bCIy",
        "outputId": "3472f1d8-9c69-4ce9-d36e-381d4a2f84d7"
      },
      "source": [
        "a= tf.constant([1,2,3])  #상수\r\n",
        "a"
      ],
      "execution_count": null,
      "outputs": [
        {
          "output_type": "execute_result",
          "data": {
            "text/plain": [
              "<tf.Tensor: shape=(3,), dtype=int32, numpy=array([1, 2, 3], dtype=int32)>"
            ]
          },
          "metadata": {
            "tags": []
          },
          "execution_count": 26
        }
      ]
    },
    {
      "cell_type": "code",
      "metadata": {
        "id": "YOy1EHX-diLA"
      },
      "source": [
        "a.assign # 재할당 불가 "
      ],
      "execution_count": null,
      "outputs": []
    },
    {
      "cell_type": "code",
      "metadata": {
        "colab": {
          "base_uri": "https://localhost:8080/"
        },
        "id": "LROghhSVcXAz",
        "outputId": "3cef2e27-57cb-4e9e-ee3b-dafbac341f8b"
      },
      "source": [
        "b=tf.Variable([1,2,3]) #변수\r\n",
        "b"
      ],
      "execution_count": null,
      "outputs": [
        {
          "output_type": "execute_result",
          "data": {
            "text/plain": [
              "<tf.Variable 'Variable:0' shape=(3,) dtype=int32, numpy=array([1, 2, 3], dtype=int32)>"
            ]
          },
          "metadata": {
            "tags": []
          },
          "execution_count": 28
        }
      ]
    },
    {
      "cell_type": "markdown",
      "metadata": {
        "id": "5wSMtOZqc-GC"
      },
      "source": [
        "#### 재할당\r\n",
        "\r\n",
        "- 내부적으로 자기 자신 재할당\r\n",
        "- id 동일"
      ]
    },
    {
      "cell_type": "code",
      "metadata": {
        "colab": {
          "base_uri": "https://localhost:8080/"
        },
        "id": "Zt8wj5xpcqpD",
        "outputId": "cf6dd21b-e746-4517-8b27-230b8df280d0"
      },
      "source": [
        "# 내부적으로 b= b+x 처리 자기자신 재할당\r\n",
        "b.assign_add([3,4,5]) "
      ],
      "execution_count": null,
      "outputs": [
        {
          "output_type": "execute_result",
          "data": {
            "text/plain": [
              "<tf.Variable 'UnreadVariable' shape=(3,) dtype=int32, numpy=array([4, 6, 8], dtype=int32)>"
            ]
          },
          "metadata": {
            "tags": []
          },
          "execution_count": 30
        }
      ]
    },
    {
      "cell_type": "code",
      "metadata": {
        "colab": {
          "base_uri": "https://localhost:8080/"
        },
        "id": "WJCpr5IEdAbh",
        "outputId": "3fba3b2b-eb5f-4030-9466-80571426855a"
      },
      "source": [
        "id(b)"
      ],
      "execution_count": null,
      "outputs": [
        {
          "output_type": "execute_result",
          "data": {
            "text/plain": [
              "139892033732056"
            ]
          },
          "metadata": {
            "tags": []
          },
          "execution_count": 29
        }
      ]
    },
    {
      "cell_type": "code",
      "metadata": {
        "colab": {
          "base_uri": "https://localhost:8080/"
        },
        "id": "0SmNCbgBdBTd",
        "outputId": "ca3f817f-57be-4fef-8914-97049f876e90"
      },
      "source": [
        "id(b) #id값이 동일함 "
      ],
      "execution_count": null,
      "outputs": [
        {
          "output_type": "execute_result",
          "data": {
            "text/plain": [
              "139892033732056"
            ]
          },
          "metadata": {
            "tags": []
          },
          "execution_count": 31
        }
      ]
    },
    {
      "cell_type": "code",
      "metadata": {
        "colab": {
          "base_uri": "https://localhost:8080/"
        },
        "id": "cTLJOEFPdE95",
        "outputId": "f27f4ac5-4c82-411f-d1b9-9b01b29fa9c8"
      },
      "source": [
        "b.assign_sub([3,4,5])"
      ],
      "execution_count": null,
      "outputs": [
        {
          "output_type": "execute_result",
          "data": {
            "text/plain": [
              "<tf.Variable 'UnreadVariable' shape=(3,) dtype=int32, numpy=array([1, 2, 3], dtype=int32)>"
            ]
          },
          "metadata": {
            "tags": []
          },
          "execution_count": 32
        }
      ]
    },
    {
      "cell_type": "markdown",
      "metadata": {
        "id": "YPuEyjV-dsB_"
      },
      "source": [
        "### broadcasting\r\n",
        "- Numpy와 동일하게 broadcasting 지원\r\n",
        "- 모양이 상이해도 자동으로 맞추어서 계산"
      ]
    },
    {
      "cell_type": "code",
      "metadata": {
        "colab": {
          "base_uri": "https://localhost:8080/"
        },
        "id": "jeIYadtydFPA",
        "outputId": "16285e86-ef42-4039-8c02-ee65b5be94bd"
      },
      "source": [
        "np.array([[1,2,3],[4,5,6]])+ 1.0 #broadcasting"
      ],
      "execution_count": null,
      "outputs": [
        {
          "output_type": "execute_result",
          "data": {
            "text/plain": [
              "array([[2., 3., 4.],\n",
              "       [5., 6., 7.]])"
            ]
          },
          "metadata": {
            "tags": []
          },
          "execution_count": 37
        }
      ]
    },
    {
      "cell_type": "code",
      "metadata": {
        "colab": {
          "base_uri": "https://localhost:8080/"
        },
        "id": "HcSd3gf3dvGt",
        "outputId": "2a5f1523-7c8a-4002-a735-1ac4544dd072"
      },
      "source": [
        "np.array([[1,2,3],[4,5,6]]) + np.ones((2,3))"
      ],
      "execution_count": null,
      "outputs": [
        {
          "output_type": "execute_result",
          "data": {
            "text/plain": [
              "array([[2., 3., 4.],\n",
              "       [5., 6., 7.]])"
            ]
          },
          "metadata": {
            "tags": []
          },
          "execution_count": 36
        }
      ]
    },
    {
      "cell_type": "code",
      "metadata": {
        "colab": {
          "base_uri": "https://localhost:8080/"
        },
        "id": "MdFQWBoOd2af",
        "outputId": "2357bf19-a4f3-461a-962f-d9ede19b0791"
      },
      "source": [
        "bb= np.array([[1,2],[3,4]])\r\n",
        "bb"
      ],
      "execution_count": null,
      "outputs": [
        {
          "output_type": "execute_result",
          "data": {
            "text/plain": [
              "array([[1, 2],\n",
              "       [3, 4]])"
            ]
          },
          "metadata": {
            "tags": []
          },
          "execution_count": 38
        }
      ]
    },
    {
      "cell_type": "code",
      "metadata": {
        "id": "qyFtV3oCeBKm"
      },
      "source": [
        "cc= np.array([[1],[2]])"
      ],
      "execution_count": null,
      "outputs": []
    },
    {
      "cell_type": "code",
      "metadata": {
        "colab": {
          "base_uri": "https://localhost:8080/"
        },
        "id": "ha1cPqEEeGrZ",
        "outputId": "297d1f31-3a3f-400e-fcd2-a74c9027e32e"
      },
      "source": [
        "cc.shape"
      ],
      "execution_count": null,
      "outputs": [
        {
          "output_type": "execute_result",
          "data": {
            "text/plain": [
              "(2, 1)"
            ]
          },
          "metadata": {
            "tags": []
          },
          "execution_count": 42
        }
      ]
    },
    {
      "cell_type": "code",
      "metadata": {
        "colab": {
          "base_uri": "https://localhost:8080/"
        },
        "id": "eQtg1g0GeJXP",
        "outputId": "5a99b89f-4855-4fd2-b061-69a347abc5a4"
      },
      "source": [
        "bb+cc   # broadcasting"
      ],
      "execution_count": null,
      "outputs": [
        {
          "output_type": "execute_result",
          "data": {
            "text/plain": [
              "array([[2, 3],\n",
              "       [5, 6]])"
            ]
          },
          "metadata": {
            "tags": []
          },
          "execution_count": 43
        }
      ]
    },
    {
      "cell_type": "code",
      "metadata": {
        "colab": {
          "base_uri": "https://localhost:8080/"
        },
        "id": "3-qVy9oheLma",
        "outputId": "0e83e935-4ebf-43ec-dbe1-66cba6c048aa"
      },
      "source": [
        "a = tf.constant([[1,2],[3,4]])\r\n",
        "a"
      ],
      "execution_count": null,
      "outputs": [
        {
          "output_type": "execute_result",
          "data": {
            "text/plain": [
              "<tf.Tensor: shape=(2, 2), dtype=int32, numpy=\n",
              "array([[1, 2],\n",
              "       [3, 4]], dtype=int32)>"
            ]
          },
          "metadata": {
            "tags": []
          },
          "execution_count": 48
        }
      ]
    },
    {
      "cell_type": "code",
      "metadata": {
        "colab": {
          "base_uri": "https://localhost:8080/"
        },
        "id": "CltLAFlKecH8",
        "outputId": "0cbbaa96-17b9-43e4-8138-575039436925"
      },
      "source": [
        "b =  tf.constant([[1],[2]])\r\n",
        "b"
      ],
      "execution_count": null,
      "outputs": [
        {
          "output_type": "execute_result",
          "data": {
            "text/plain": [
              "<tf.Tensor: shape=(2, 1), dtype=int32, numpy=\n",
              "array([[1],\n",
              "       [2]], dtype=int32)>"
            ]
          },
          "metadata": {
            "tags": []
          },
          "execution_count": 47
        }
      ]
    },
    {
      "cell_type": "code",
      "metadata": {
        "colab": {
          "base_uri": "https://localhost:8080/"
        },
        "id": "u86Jur6Teh2e",
        "outputId": "0515d23f-264e-49d5-a9c5-a4a2cc52d3e4"
      },
      "source": [
        "a+b  # broadcasting"
      ],
      "execution_count": null,
      "outputs": [
        {
          "output_type": "execute_result",
          "data": {
            "text/plain": [
              "<tf.Tensor: shape=(2, 2), dtype=int32, numpy=\n",
              "array([[2, 3],\n",
              "       [5, 6]], dtype=int32)>"
            ]
          },
          "metadata": {
            "tags": []
          },
          "execution_count": 49
        }
      ]
    },
    {
      "cell_type": "code",
      "metadata": {
        "id": "W6LGsusWeijX"
      },
      "source": [
        "np.broadcast\r\n",
        "tf.broadcast_dynamic_shape # 나중에 다룰 예정 \r\n",
        "tf.broadcast_static_shape"
      ],
      "execution_count": null,
      "outputs": []
    },
    {
      "cell_type": "code",
      "metadata": {
        "colab": {
          "base_uri": "https://localhost:8080/"
        },
        "id": "nUBC2UHWe7fr",
        "outputId": "a668adea-ca0f-4f2a-dc0d-b69809ccb6cc"
      },
      "source": [
        "np.repeat(b,2)  #원소 반복"
      ],
      "execution_count": null,
      "outputs": [
        {
          "output_type": "execute_result",
          "data": {
            "text/plain": [
              "array([1, 1, 2, 2], dtype=int32)"
            ]
          },
          "metadata": {
            "tags": []
          },
          "execution_count": 53
        }
      ]
    },
    {
      "cell_type": "code",
      "metadata": {
        "colab": {
          "base_uri": "https://localhost:8080/"
        },
        "id": "lDmcTF42fI4_",
        "outputId": "1bbf3c6b-9a6a-4636-9535-c4ea96f929ec"
      },
      "source": [
        "np.tile(b,2)  # 원소 반복"
      ],
      "execution_count": null,
      "outputs": [
        {
          "output_type": "execute_result",
          "data": {
            "text/plain": [
              "array([[1, 1],\n",
              "       [2, 2]], dtype=int32)"
            ]
          },
          "metadata": {
            "tags": []
          },
          "execution_count": 54
        }
      ]
    },
    {
      "cell_type": "code",
      "metadata": {
        "colab": {
          "base_uri": "https://localhost:8080/"
        },
        "id": "ul7qvD31fPOj",
        "outputId": "c9503c12-4bb0-4d90-a9e8-108de0b08b0d"
      },
      "source": [
        "a + tf.tile(b,[1,2]) #이름은 동일하지만 사용방식 상이함"
      ],
      "execution_count": null,
      "outputs": [
        {
          "output_type": "execute_result",
          "data": {
            "text/plain": [
              "<tf.Tensor: shape=(2, 2), dtype=int32, numpy=\n",
              "array([[2, 3],\n",
              "       [5, 6]], dtype=int32)>"
            ]
          },
          "metadata": {
            "tags": []
          },
          "execution_count": 57
        }
      ]
    },
    {
      "cell_type": "markdown",
      "metadata": {
        "id": "crGjM82te7ui"
      },
      "source": [
        "ufunc"
      ]
    },
    {
      "cell_type": "code",
      "metadata": {
        "colab": {
          "base_uri": "https://localhost:8080/"
        },
        "id": "SwHNib2CgTkX",
        "outputId": "0dc9fbde-7984-4636-903e-ae9ef40e7bf5"
      },
      "source": [
        "sum([1,2,3])  #mutable만 가능"
      ],
      "execution_count": null,
      "outputs": [
        {
          "output_type": "execute_result",
          "data": {
            "text/plain": [
              "6"
            ]
          },
          "metadata": {
            "tags": []
          },
          "execution_count": 58
        }
      ]
    },
    {
      "cell_type": "code",
      "metadata": {
        "colab": {
          "base_uri": "https://localhost:8080/"
        },
        "id": "-Cr056dVgWpo",
        "outputId": "e7edfe9b-6cd4-4bae-b998-dfc57eff473d"
      },
      "source": [
        "np.sum(4)  #ufunc"
      ],
      "execution_count": null,
      "outputs": [
        {
          "output_type": "execute_result",
          "data": {
            "text/plain": [
              "4"
            ]
          },
          "metadata": {
            "tags": []
          },
          "execution_count": 60
        }
      ]
    },
    {
      "cell_type": "code",
      "metadata": {
        "colab": {
          "base_uri": "https://localhost:8080/"
        },
        "id": "FyRsF-VngscT",
        "outputId": "14032193-f20a-4167-b7e4-6e681803564e"
      },
      "source": [
        "tf.add(1,2)"
      ],
      "execution_count": null,
      "outputs": [
        {
          "output_type": "execute_result",
          "data": {
            "text/plain": [
              "<tf.Tensor: shape=(), dtype=int32, numpy=3>"
            ]
          },
          "metadata": {
            "tags": []
          },
          "execution_count": 61
        }
      ]
    },
    {
      "cell_type": "code",
      "metadata": {
        "colab": {
          "base_uri": "https://localhost:8080/"
        },
        "id": "wM9RC4-PgtdD",
        "outputId": "cd5665e0-5c24-40bd-d895-1817fcbfc317"
      },
      "source": [
        "tf.add([1,2],[3,4])"
      ],
      "execution_count": null,
      "outputs": [
        {
          "output_type": "execute_result",
          "data": {
            "text/plain": [
              "<tf.Tensor: shape=(2,), dtype=int32, numpy=array([4, 6], dtype=int32)>"
            ]
          },
          "metadata": {
            "tags": []
          },
          "execution_count": 62
        }
      ]
    },
    {
      "cell_type": "code",
      "metadata": {
        "colab": {
          "base_uri": "https://localhost:8080/"
        },
        "id": "xWs2iq-8gz0d",
        "outputId": "ed76c92e-0486-481a-d9eb-77489f957382"
      },
      "source": [
        "np.add.reduce([1,2,3,4,5])"
      ],
      "execution_count": null,
      "outputs": [
        {
          "output_type": "execute_result",
          "data": {
            "text/plain": [
              "15"
            ]
          },
          "metadata": {
            "tags": []
          },
          "execution_count": 65
        }
      ]
    },
    {
      "cell_type": "code",
      "metadata": {
        "colab": {
          "base_uri": "https://localhost:8080/"
        },
        "id": "hc4ZPjVcgwIv",
        "outputId": "d1502272-eab6-4b37-a245-1177792720fb"
      },
      "source": [
        "tf.reduce_sum([1,2,3,4,5])  #직관적, 우아함 , numerical stability ( 나중에 다시 다룰 예정)"
      ],
      "execution_count": null,
      "outputs": [
        {
          "output_type": "execute_result",
          "data": {
            "text/plain": [
              "<tf.Tensor: shape=(), dtype=int32, numpy=15>"
            ]
          },
          "metadata": {
            "tags": []
          },
          "execution_count": 64
        }
      ]
    },
    {
      "cell_type": "code",
      "metadata": {
        "colab": {
          "base_uri": "https://localhost:8080/"
        },
        "id": "pMgMpJVlg58Y",
        "outputId": "eae5e94d-5eb5-4bd0-b218-f8e462c784e0"
      },
      "source": [
        "tf.add([1,2,],[3,4]) + tf.square(3)"
      ],
      "execution_count": null,
      "outputs": [
        {
          "output_type": "execute_result",
          "data": {
            "text/plain": [
              "<tf.Tensor: shape=(2,), dtype=int32, numpy=array([13, 15], dtype=int32)>"
            ]
          },
          "metadata": {
            "tags": []
          },
          "execution_count": 66
        }
      ]
    },
    {
      "cell_type": "markdown",
      "metadata": {
        "id": "3cHzVChwhAIQ"
      },
      "source": [
        "#### 연산자 오버로딩\r\n",
        "- 모든 연산자는 대응하는 메소드가 있어 데이터 타입에 따른 연산자 기능 바꿀 수 있음\r\n",
        "- 모든 메소드는 대응하는 함수로 바꿀 수 있음\r\n",
        "\r\n",
        "- python에서는 메소드 오버로딩은 없지만 연산자 오버로딩은 있음"
      ]
    },
    {
      "cell_type": "code",
      "metadata": {
        "id": "ZviaD8yJhW9O"
      },
      "source": [
        "from operator import add"
      ],
      "execution_count": null,
      "outputs": []
    },
    {
      "cell_type": "code",
      "metadata": {
        "colab": {
          "base_uri": "https://localhost:8080/"
        },
        "id": "PF0e2iqKh3Ad",
        "outputId": "6c594610-f45a-4a9c-bc0d-2c8eb090d06d"
      },
      "source": [
        "tf.square(2) + tf.square(3)"
      ],
      "execution_count": null,
      "outputs": [
        {
          "output_type": "execute_result",
          "data": {
            "text/plain": [
              "<tf.Tensor: shape=(), dtype=int32, numpy=13>"
            ]
          },
          "metadata": {
            "tags": []
          },
          "execution_count": 69
        }
      ]
    },
    {
      "cell_type": "code",
      "metadata": {
        "colab": {
          "base_uri": "https://localhost:8080/"
        },
        "id": "cO_LkRSHiBXM",
        "outputId": "cea57f96-994e-4ab8-be50-a13c710feb37"
      },
      "source": [
        "tf.constant([[1,2],[3,4]])"
      ],
      "execution_count": null,
      "outputs": [
        {
          "output_type": "execute_result",
          "data": {
            "text/plain": [
              "<tf.Tensor: shape=(2, 2), dtype=int32, numpy=\n",
              "array([[1, 2],\n",
              "       [3, 4]], dtype=int32)>"
            ]
          },
          "metadata": {
            "tags": []
          },
          "execution_count": 70
        }
      ]
    },
    {
      "cell_type": "markdown",
      "metadata": {
        "id": "KUIaxIQvmv3V"
      },
      "source": [
        "#### numerical stability \r\n",
        "- operator overloading 과도 관련 있음\r\n",
        "- 언급 안한 부분은 Numpy와 비슷함!!!\r\n",
        "- "
      ]
    },
    {
      "cell_type": "code",
      "metadata": {
        "id": "1ihfJt1CiQlF"
      },
      "source": [
        "x= tf.constant([1,2,3,4])"
      ],
      "execution_count": null,
      "outputs": []
    },
    {
      "cell_type": "code",
      "metadata": {
        "colab": {
          "base_uri": "https://localhost:8080/"
        },
        "id": "84dh0EbMnEWm",
        "outputId": "dea44710-86f7-4acf-f144-17174ffef599"
      },
      "source": [
        "dir(x) #  __iter__ -> itarable  -> for 사용;  __getitem__  인덱싱, 슬라이싱 지원"
      ],
      "execution_count": null,
      "outputs": [
        {
          "output_type": "execute_result",
          "data": {
            "text/plain": [
              "['OVERLOADABLE_OPERATORS',\n",
              " '_USE_EQUALITY',\n",
              " '__abs__',\n",
              " '__add__',\n",
              " '__and__',\n",
              " '__array__',\n",
              " '__array_priority__',\n",
              " '__bool__',\n",
              " '__class__',\n",
              " '__complex__',\n",
              " '__copy__',\n",
              " '__deepcopy__',\n",
              " '__delattr__',\n",
              " '__dict__',\n",
              " '__dir__',\n",
              " '__div__',\n",
              " '__doc__',\n",
              " '__eq__',\n",
              " '__float__',\n",
              " '__floordiv__',\n",
              " '__format__',\n",
              " '__ge__',\n",
              " '__getattribute__',\n",
              " '__getitem__',\n",
              " '__gt__',\n",
              " '__hash__',\n",
              " '__index__',\n",
              " '__init__',\n",
              " '__init_subclass__',\n",
              " '__int__',\n",
              " '__invert__',\n",
              " '__iter__',\n",
              " '__le__',\n",
              " '__len__',\n",
              " '__long__',\n",
              " '__lt__',\n",
              " '__matmul__',\n",
              " '__mod__',\n",
              " '__module__',\n",
              " '__mul__',\n",
              " '__ne__',\n",
              " '__neg__',\n",
              " '__new__',\n",
              " '__nonzero__',\n",
              " '__or__',\n",
              " '__pow__',\n",
              " '__radd__',\n",
              " '__rand__',\n",
              " '__rdiv__',\n",
              " '__reduce__',\n",
              " '__reduce_ex__',\n",
              " '__repr__',\n",
              " '__rfloordiv__',\n",
              " '__rmatmul__',\n",
              " '__rmod__',\n",
              " '__rmul__',\n",
              " '__ror__',\n",
              " '__rpow__',\n",
              " '__rsub__',\n",
              " '__rtruediv__',\n",
              " '__rxor__',\n",
              " '__setattr__',\n",
              " '__sizeof__',\n",
              " '__str__',\n",
              " '__sub__',\n",
              " '__subclasshook__',\n",
              " '__truediv__',\n",
              " '__weakref__',\n",
              " '__xor__',\n",
              " '_add_consumer',\n",
              " '_as_node_def_input',\n",
              " '_as_tf_output',\n",
              " '_c_api_shape',\n",
              " '_copy',\n",
              " '_copy_nograd',\n",
              " '_copy_to_device',\n",
              " '_create_with_tf_output',\n",
              " '_datatype_enum',\n",
              " '_disallow_bool_casting',\n",
              " '_disallow_in_graph_mode',\n",
              " '_disallow_iteration',\n",
              " '_disallow_when_autograph_disabled',\n",
              " '_disallow_when_autograph_enabled',\n",
              " '_handle_data',\n",
              " '_id',\n",
              " '_num_elements',\n",
              " '_numpy',\n",
              " '_numpy_internal',\n",
              " '_override_operator',\n",
              " '_rank',\n",
              " '_shape',\n",
              " '_shape_as_list',\n",
              " '_shape_tuple',\n",
              " '_tensor_shape',\n",
              " '_tf_api_names',\n",
              " '_tf_api_names_v1',\n",
              " 'backing_device',\n",
              " 'consumers',\n",
              " 'cpu',\n",
              " 'device',\n",
              " 'dtype',\n",
              " 'eval',\n",
              " 'experimental_ref',\n",
              " 'get_shape',\n",
              " 'gpu',\n",
              " 'graph',\n",
              " 'is_packed',\n",
              " 'name',\n",
              " 'ndim',\n",
              " 'numpy',\n",
              " 'op',\n",
              " 'ref',\n",
              " 'set_shape',\n",
              " 'shape',\n",
              " 'value_index']"
            ]
          },
          "metadata": {
            "tags": []
          },
          "execution_count": 72
        }
      ]
    },
    {
      "cell_type": "markdown",
      "metadata": {
        "id": "uOvDE3iPnjCt"
      },
      "source": [
        "모든 연산자는 대응하는 메소드가 있다."
      ]
    },
    {
      "cell_type": "code",
      "metadata": {
        "colab": {
          "base_uri": "https://localhost:8080/"
        },
        "id": "ZkNd8BdandzK",
        "outputId": "ee2ac3ce-1b10-443c-f96e-36677d278135"
      },
      "source": [
        "x[:3]"
      ],
      "execution_count": null,
      "outputs": [
        {
          "output_type": "execute_result",
          "data": {
            "text/plain": [
              "<tf.Tensor: shape=(3,), dtype=int32, numpy=array([1, 2, 3], dtype=int32)>"
            ]
          },
          "metadata": {
            "tags": []
          },
          "execution_count": 74
        }
      ]
    },
    {
      "cell_type": "code",
      "metadata": {
        "colab": {
          "base_uri": "https://localhost:8080/"
        },
        "id": "Sf1GqGQdnEv5",
        "outputId": "738c02da-d78b-4bd7-a741-8554bf122047"
      },
      "source": [
        "tf.slice(x,[0],[3])"
      ],
      "execution_count": null,
      "outputs": [
        {
          "output_type": "execute_result",
          "data": {
            "text/plain": [
              "<tf.Tensor: shape=(3,), dtype=int32, numpy=array([1, 2, 3], dtype=int32)>"
            ]
          },
          "metadata": {
            "tags": []
          },
          "execution_count": 80
        }
      ]
    },
    {
      "cell_type": "markdown",
      "metadata": {
        "id": "nGm6f8XSn2hc"
      },
      "source": [
        "### reduce "
      ]
    },
    {
      "cell_type": "code",
      "metadata": {
        "id": "1ZM4k9bWnou0"
      },
      "source": [
        "x=tf.random.uniform([500,100])"
      ],
      "execution_count": null,
      "outputs": []
    },
    {
      "cell_type": "code",
      "metadata": {
        "colab": {
          "base_uri": "https://localhost:8080/"
        },
        "id": "KVcceBcjn9C1",
        "outputId": "3a7fd774-05b5-4359-c2d0-9345c0929d86"
      },
      "source": [
        "z=tf.zeros([100])\r\n",
        "z"
      ],
      "execution_count": null,
      "outputs": [
        {
          "output_type": "execute_result",
          "data": {
            "text/plain": [
              "<tf.Tensor: shape=(100,), dtype=float32, numpy=\n",
              "array([0., 0., 0., 0., 0., 0., 0., 0., 0., 0., 0., 0., 0., 0., 0., 0., 0.,\n",
              "       0., 0., 0., 0., 0., 0., 0., 0., 0., 0., 0., 0., 0., 0., 0., 0., 0.,\n",
              "       0., 0., 0., 0., 0., 0., 0., 0., 0., 0., 0., 0., 0., 0., 0., 0., 0.,\n",
              "       0., 0., 0., 0., 0., 0., 0., 0., 0., 0., 0., 0., 0., 0., 0., 0., 0.,\n",
              "       0., 0., 0., 0., 0., 0., 0., 0., 0., 0., 0., 0., 0., 0., 0., 0., 0.,\n",
              "       0., 0., 0., 0., 0., 0., 0., 0., 0., 0., 0., 0., 0., 0., 0.],\n",
              "      dtype=float32)>"
            ]
          },
          "metadata": {
            "tags": []
          },
          "execution_count": 85
        }
      ]
    },
    {
      "cell_type": "code",
      "metadata": {
        "colab": {
          "base_uri": "https://localhost:8080/"
        },
        "id": "rkv3ESoNoANc",
        "outputId": "50437a34-db44-4ece-c455-8c23c47eb5c5"
      },
      "source": [
        "%%time\r\n",
        "for i in range(500):\r\n",
        "  z += x[i]  #UnboundLocalError   함수 2개 중첩하는 경우                          lo"
      ],
      "execution_count": null,
      "outputs": [
        {
          "output_type": "stream",
          "text": [
            "CPU times: user 59.2 ms, sys: 0 ns, total: 59.2 ms\n",
            "Wall time: 58.9 ms\n"
          ],
          "name": "stdout"
        }
      ]
    },
    {
      "cell_type": "code",
      "metadata": {
        "colab": {
          "base_uri": "https://localhost:8080/"
        },
        "id": "b50fpbvpoKmK",
        "outputId": "e484a818-2a4a-4327-af62-71946414d45a"
      },
      "source": [
        "z"
      ],
      "execution_count": null,
      "outputs": [
        {
          "output_type": "execute_result",
          "data": {
            "text/plain": [
              "<tf.Tensor: shape=(100,), dtype=float32, numpy=\n",
              "array([244.15952, 257.11884, 249.86745, 250.84879, 242.79626, 254.66704,\n",
              "       255.15791, 240.4988 , 255.67686, 255.75911, 251.50172, 250.73367,\n",
              "       250.52681, 244.18956, 251.71777, 254.64616, 256.96478, 240.43103,\n",
              "       249.14424, 255.56577, 258.42242, 256.85535, 233.9249 , 244.55524,\n",
              "       239.81029, 249.5583 , 255.82655, 246.23015, 249.17886, 253.17743,\n",
              "       246.04164, 246.10744, 259.76297, 256.99982, 263.3804 , 248.72911,\n",
              "       246.54456, 248.07649, 240.11418, 250.29999, 252.06647, 254.49033,\n",
              "       249.94167, 248.80566, 255.00354, 243.14394, 247.2759 , 254.95132,\n",
              "       262.01532, 253.06075, 250.54771, 249.61807, 247.61543, 251.57497,\n",
              "       244.54082, 247.52473, 243.73497, 253.63907, 250.37299, 252.9175 ,\n",
              "       260.21268, 254.43533, 256.5002 , 242.49641, 250.51106, 242.24074,\n",
              "       245.10173, 242.31387, 242.26434, 249.25156, 241.71948, 241.09032,\n",
              "       248.13347, 251.0922 , 248.80914, 256.11646, 242.72144, 262.78195,\n",
              "       250.16899, 249.24362, 253.19029, 241.97507, 237.25534, 247.75575,\n",
              "       251.48077, 255.9482 , 237.572  , 248.00438, 257.3815 , 234.88576,\n",
              "       253.7313 , 250.58377, 245.63222, 241.04291, 245.42876, 245.79637,\n",
              "       244.29218, 258.17133, 244.45062, 244.58952], dtype=float32)>"
            ]
          },
          "metadata": {
            "tags": []
          },
          "execution_count": 92
        }
      ]
    },
    {
      "cell_type": "code",
      "metadata": {
        "colab": {
          "base_uri": "https://localhost:8080/"
        },
        "id": "OjxF9XnSoO0N",
        "outputId": "ee5a7a44-141a-40d8-de89-53aa2cac93c1"
      },
      "source": [
        "len(tf.unstack(z)) #100개의 list"
      ],
      "execution_count": null,
      "outputs": [
        {
          "output_type": "execute_result",
          "data": {
            "text/plain": [
              "100"
            ]
          },
          "metadata": {
            "tags": []
          },
          "execution_count": 94
        }
      ]
    },
    {
      "cell_type": "code",
      "metadata": {
        "colab": {
          "base_uri": "https://localhost:8080/"
        },
        "id": "Eij7r-GMov6Z",
        "outputId": "3fefa600-05c1-4fc3-f5ee-65dc5a3af4da"
      },
      "source": [
        "list(tf.unstack(z))"
      ],
      "execution_count": null,
      "outputs": [
        {
          "output_type": "execute_result",
          "data": {
            "text/plain": [
              "[<tf.Tensor: shape=(), dtype=float32, numpy=244.15952>,\n",
              " <tf.Tensor: shape=(), dtype=float32, numpy=257.11884>,\n",
              " <tf.Tensor: shape=(), dtype=float32, numpy=249.86745>,\n",
              " <tf.Tensor: shape=(), dtype=float32, numpy=250.84879>,\n",
              " <tf.Tensor: shape=(), dtype=float32, numpy=242.79626>,\n",
              " <tf.Tensor: shape=(), dtype=float32, numpy=254.66704>,\n",
              " <tf.Tensor: shape=(), dtype=float32, numpy=255.15791>,\n",
              " <tf.Tensor: shape=(), dtype=float32, numpy=240.4988>,\n",
              " <tf.Tensor: shape=(), dtype=float32, numpy=255.67686>,\n",
              " <tf.Tensor: shape=(), dtype=float32, numpy=255.75911>,\n",
              " <tf.Tensor: shape=(), dtype=float32, numpy=251.50172>,\n",
              " <tf.Tensor: shape=(), dtype=float32, numpy=250.73367>,\n",
              " <tf.Tensor: shape=(), dtype=float32, numpy=250.52681>,\n",
              " <tf.Tensor: shape=(), dtype=float32, numpy=244.18956>,\n",
              " <tf.Tensor: shape=(), dtype=float32, numpy=251.71777>,\n",
              " <tf.Tensor: shape=(), dtype=float32, numpy=254.64616>,\n",
              " <tf.Tensor: shape=(), dtype=float32, numpy=256.96478>,\n",
              " <tf.Tensor: shape=(), dtype=float32, numpy=240.43103>,\n",
              " <tf.Tensor: shape=(), dtype=float32, numpy=249.14424>,\n",
              " <tf.Tensor: shape=(), dtype=float32, numpy=255.56577>,\n",
              " <tf.Tensor: shape=(), dtype=float32, numpy=258.42242>,\n",
              " <tf.Tensor: shape=(), dtype=float32, numpy=256.85535>,\n",
              " <tf.Tensor: shape=(), dtype=float32, numpy=233.9249>,\n",
              " <tf.Tensor: shape=(), dtype=float32, numpy=244.55524>,\n",
              " <tf.Tensor: shape=(), dtype=float32, numpy=239.81029>,\n",
              " <tf.Tensor: shape=(), dtype=float32, numpy=249.5583>,\n",
              " <tf.Tensor: shape=(), dtype=float32, numpy=255.82655>,\n",
              " <tf.Tensor: shape=(), dtype=float32, numpy=246.23015>,\n",
              " <tf.Tensor: shape=(), dtype=float32, numpy=249.17886>,\n",
              " <tf.Tensor: shape=(), dtype=float32, numpy=253.17743>,\n",
              " <tf.Tensor: shape=(), dtype=float32, numpy=246.04164>,\n",
              " <tf.Tensor: shape=(), dtype=float32, numpy=246.10744>,\n",
              " <tf.Tensor: shape=(), dtype=float32, numpy=259.76297>,\n",
              " <tf.Tensor: shape=(), dtype=float32, numpy=256.99982>,\n",
              " <tf.Tensor: shape=(), dtype=float32, numpy=263.3804>,\n",
              " <tf.Tensor: shape=(), dtype=float32, numpy=248.72911>,\n",
              " <tf.Tensor: shape=(), dtype=float32, numpy=246.54456>,\n",
              " <tf.Tensor: shape=(), dtype=float32, numpy=248.07649>,\n",
              " <tf.Tensor: shape=(), dtype=float32, numpy=240.11418>,\n",
              " <tf.Tensor: shape=(), dtype=float32, numpy=250.29999>,\n",
              " <tf.Tensor: shape=(), dtype=float32, numpy=252.06647>,\n",
              " <tf.Tensor: shape=(), dtype=float32, numpy=254.49033>,\n",
              " <tf.Tensor: shape=(), dtype=float32, numpy=249.94167>,\n",
              " <tf.Tensor: shape=(), dtype=float32, numpy=248.80566>,\n",
              " <tf.Tensor: shape=(), dtype=float32, numpy=255.00354>,\n",
              " <tf.Tensor: shape=(), dtype=float32, numpy=243.14394>,\n",
              " <tf.Tensor: shape=(), dtype=float32, numpy=247.2759>,\n",
              " <tf.Tensor: shape=(), dtype=float32, numpy=254.95132>,\n",
              " <tf.Tensor: shape=(), dtype=float32, numpy=262.01532>,\n",
              " <tf.Tensor: shape=(), dtype=float32, numpy=253.06075>,\n",
              " <tf.Tensor: shape=(), dtype=float32, numpy=250.54771>,\n",
              " <tf.Tensor: shape=(), dtype=float32, numpy=249.61807>,\n",
              " <tf.Tensor: shape=(), dtype=float32, numpy=247.61543>,\n",
              " <tf.Tensor: shape=(), dtype=float32, numpy=251.57497>,\n",
              " <tf.Tensor: shape=(), dtype=float32, numpy=244.54082>,\n",
              " <tf.Tensor: shape=(), dtype=float32, numpy=247.52473>,\n",
              " <tf.Tensor: shape=(), dtype=float32, numpy=243.73497>,\n",
              " <tf.Tensor: shape=(), dtype=float32, numpy=253.63907>,\n",
              " <tf.Tensor: shape=(), dtype=float32, numpy=250.37299>,\n",
              " <tf.Tensor: shape=(), dtype=float32, numpy=252.9175>,\n",
              " <tf.Tensor: shape=(), dtype=float32, numpy=260.21268>,\n",
              " <tf.Tensor: shape=(), dtype=float32, numpy=254.43533>,\n",
              " <tf.Tensor: shape=(), dtype=float32, numpy=256.5002>,\n",
              " <tf.Tensor: shape=(), dtype=float32, numpy=242.49641>,\n",
              " <tf.Tensor: shape=(), dtype=float32, numpy=250.51106>,\n",
              " <tf.Tensor: shape=(), dtype=float32, numpy=242.24074>,\n",
              " <tf.Tensor: shape=(), dtype=float32, numpy=245.10173>,\n",
              " <tf.Tensor: shape=(), dtype=float32, numpy=242.31387>,\n",
              " <tf.Tensor: shape=(), dtype=float32, numpy=242.26434>,\n",
              " <tf.Tensor: shape=(), dtype=float32, numpy=249.25156>,\n",
              " <tf.Tensor: shape=(), dtype=float32, numpy=241.71948>,\n",
              " <tf.Tensor: shape=(), dtype=float32, numpy=241.09032>,\n",
              " <tf.Tensor: shape=(), dtype=float32, numpy=248.13347>,\n",
              " <tf.Tensor: shape=(), dtype=float32, numpy=251.0922>,\n",
              " <tf.Tensor: shape=(), dtype=float32, numpy=248.80914>,\n",
              " <tf.Tensor: shape=(), dtype=float32, numpy=256.11646>,\n",
              " <tf.Tensor: shape=(), dtype=float32, numpy=242.72144>,\n",
              " <tf.Tensor: shape=(), dtype=float32, numpy=262.78195>,\n",
              " <tf.Tensor: shape=(), dtype=float32, numpy=250.16899>,\n",
              " <tf.Tensor: shape=(), dtype=float32, numpy=249.24362>,\n",
              " <tf.Tensor: shape=(), dtype=float32, numpy=253.19029>,\n",
              " <tf.Tensor: shape=(), dtype=float32, numpy=241.97507>,\n",
              " <tf.Tensor: shape=(), dtype=float32, numpy=237.25534>,\n",
              " <tf.Tensor: shape=(), dtype=float32, numpy=247.75575>,\n",
              " <tf.Tensor: shape=(), dtype=float32, numpy=251.48077>,\n",
              " <tf.Tensor: shape=(), dtype=float32, numpy=255.9482>,\n",
              " <tf.Tensor: shape=(), dtype=float32, numpy=237.572>,\n",
              " <tf.Tensor: shape=(), dtype=float32, numpy=248.00438>,\n",
              " <tf.Tensor: shape=(), dtype=float32, numpy=257.3815>,\n",
              " <tf.Tensor: shape=(), dtype=float32, numpy=234.88576>,\n",
              " <tf.Tensor: shape=(), dtype=float32, numpy=253.7313>,\n",
              " <tf.Tensor: shape=(), dtype=float32, numpy=250.58377>,\n",
              " <tf.Tensor: shape=(), dtype=float32, numpy=245.63222>,\n",
              " <tf.Tensor: shape=(), dtype=float32, numpy=241.04291>,\n",
              " <tf.Tensor: shape=(), dtype=float32, numpy=245.42876>,\n",
              " <tf.Tensor: shape=(), dtype=float32, numpy=245.79637>,\n",
              " <tf.Tensor: shape=(), dtype=float32, numpy=244.29218>,\n",
              " <tf.Tensor: shape=(), dtype=float32, numpy=258.17133>,\n",
              " <tf.Tensor: shape=(), dtype=float32, numpy=244.45062>,\n",
              " <tf.Tensor: shape=(), dtype=float32, numpy=244.58952>]"
            ]
          },
          "metadata": {
            "tags": []
          },
          "execution_count": 95
        }
      ]
    },
    {
      "cell_type": "code",
      "metadata": {
        "colab": {
          "base_uri": "https://localhost:8080/"
        },
        "id": "jMReL8Qro3ZB",
        "outputId": "e6062150-df4b-4d96-885f-ad9eae1f6807"
      },
      "source": [
        "%%time\r\n",
        "for j in tf.unstack(x):\r\n",
        "  z +=j                #속도가 4배 바름"
      ],
      "execution_count": null,
      "outputs": [
        {
          "output_type": "stream",
          "text": [
            "CPU times: user 9.84 ms, sys: 1.94 ms, total: 11.8 ms\n",
            "Wall time: 14.5 ms\n"
          ],
          "name": "stdout"
        }
      ]
    },
    {
      "cell_type": "code",
      "metadata": {
        "colab": {
          "base_uri": "https://localhost:8080/"
        },
        "id": "5ZYLUQMYpD6i",
        "outputId": "6299f5d7-17e2-48f0-8274-338288092c98"
      },
      "source": [
        "%time tf.reduce_sum(z)  #빠름!!!!"
      ],
      "execution_count": null,
      "outputs": [
        {
          "output_type": "stream",
          "text": [
            "CPU times: user 700 µs, sys: 0 ns, total: 700 µs\n",
            "Wall time: 768 µs\n"
          ],
          "name": "stdout"
        },
        {
          "output_type": "execute_result",
          "data": {
            "text/plain": [
              "<tf.Tensor: shape=(), dtype=float32, numpy=49869.562>"
            ]
          },
          "metadata": {
            "tags": []
          },
          "execution_count": 99
        }
      ]
    },
    {
      "cell_type": "markdown",
      "metadata": {
        "id": "v01HUsJqptZp"
      },
      "source": [
        "연산자 오버로딩\r\n"
      ]
    },
    {
      "cell_type": "code",
      "metadata": {
        "colab": {
          "base_uri": "https://localhost:8080/",
          "height": 415
        },
        "id": "l0pltIj7pVS0",
        "outputId": "820815bb-ff84-4d82-dd84-85964cd3d537"
      },
      "source": [
        ""
      ],
      "execution_count": null,
      "outputs": [
        {
          "output_type": "error",
          "ename": "AttributeError",
          "evalue": "ignored",
          "traceback": [
            "\u001b[0;31m---------------------------------------------------------------------------\u001b[0m",
            "\u001b[0;31mAttributeError\u001b[0m                            Traceback (most recent call last)",
            "\u001b[0;32m<ipython-input-100-b8935ce8dd38>\u001b[0m in \u001b[0;36m<module>\u001b[0;34m()\u001b[0m\n\u001b[0;32m----> 1\u001b[0;31m \u001b[0mget_ipython\u001b[0m\u001b[0;34m(\u001b[0m\u001b[0;34m)\u001b[0m\u001b[0;34m.\u001b[0m\u001b[0mmagic\u001b[0m\u001b[0;34m(\u001b[0m\u001b[0;34m'time np.reduce.usm(z)'\u001b[0m\u001b[0;34m)\u001b[0m\u001b[0;34m\u001b[0m\u001b[0;34m\u001b[0m\u001b[0m\n\u001b[0m",
            "\u001b[0;32m/usr/local/lib/python3.6/dist-packages/IPython/core/interactiveshell.py\u001b[0m in \u001b[0;36mmagic\u001b[0;34m(self, arg_s)\u001b[0m\n\u001b[1;32m   2158\u001b[0m         \u001b[0mmagic_name\u001b[0m\u001b[0;34m,\u001b[0m \u001b[0m_\u001b[0m\u001b[0;34m,\u001b[0m \u001b[0mmagic_arg_s\u001b[0m \u001b[0;34m=\u001b[0m \u001b[0marg_s\u001b[0m\u001b[0;34m.\u001b[0m\u001b[0mpartition\u001b[0m\u001b[0;34m(\u001b[0m\u001b[0;34m' '\u001b[0m\u001b[0;34m)\u001b[0m\u001b[0;34m\u001b[0m\u001b[0;34m\u001b[0m\u001b[0m\n\u001b[1;32m   2159\u001b[0m         \u001b[0mmagic_name\u001b[0m \u001b[0;34m=\u001b[0m \u001b[0mmagic_name\u001b[0m\u001b[0;34m.\u001b[0m\u001b[0mlstrip\u001b[0m\u001b[0;34m(\u001b[0m\u001b[0mprefilter\u001b[0m\u001b[0;34m.\u001b[0m\u001b[0mESC_MAGIC\u001b[0m\u001b[0;34m)\u001b[0m\u001b[0;34m\u001b[0m\u001b[0;34m\u001b[0m\u001b[0m\n\u001b[0;32m-> 2160\u001b[0;31m         \u001b[0;32mreturn\u001b[0m \u001b[0mself\u001b[0m\u001b[0;34m.\u001b[0m\u001b[0mrun_line_magic\u001b[0m\u001b[0;34m(\u001b[0m\u001b[0mmagic_name\u001b[0m\u001b[0;34m,\u001b[0m \u001b[0mmagic_arg_s\u001b[0m\u001b[0;34m)\u001b[0m\u001b[0;34m\u001b[0m\u001b[0;34m\u001b[0m\u001b[0m\n\u001b[0m\u001b[1;32m   2161\u001b[0m \u001b[0;34m\u001b[0m\u001b[0m\n\u001b[1;32m   2162\u001b[0m     \u001b[0;31m#-------------------------------------------------------------------------\u001b[0m\u001b[0;34m\u001b[0m\u001b[0;34m\u001b[0m\u001b[0;34m\u001b[0m\u001b[0m\n",
            "\u001b[0;32m/usr/local/lib/python3.6/dist-packages/IPython/core/interactiveshell.py\u001b[0m in \u001b[0;36mrun_line_magic\u001b[0;34m(self, magic_name, line)\u001b[0m\n\u001b[1;32m   2079\u001b[0m                 \u001b[0mkwargs\u001b[0m\u001b[0;34m[\u001b[0m\u001b[0;34m'local_ns'\u001b[0m\u001b[0;34m]\u001b[0m \u001b[0;34m=\u001b[0m \u001b[0msys\u001b[0m\u001b[0;34m.\u001b[0m\u001b[0m_getframe\u001b[0m\u001b[0;34m(\u001b[0m\u001b[0mstack_depth\u001b[0m\u001b[0;34m)\u001b[0m\u001b[0;34m.\u001b[0m\u001b[0mf_locals\u001b[0m\u001b[0;34m\u001b[0m\u001b[0;34m\u001b[0m\u001b[0m\n\u001b[1;32m   2080\u001b[0m             \u001b[0;32mwith\u001b[0m \u001b[0mself\u001b[0m\u001b[0;34m.\u001b[0m\u001b[0mbuiltin_trap\u001b[0m\u001b[0;34m:\u001b[0m\u001b[0;34m\u001b[0m\u001b[0;34m\u001b[0m\u001b[0m\n\u001b[0;32m-> 2081\u001b[0;31m                 \u001b[0mresult\u001b[0m \u001b[0;34m=\u001b[0m \u001b[0mfn\u001b[0m\u001b[0;34m(\u001b[0m\u001b[0;34m*\u001b[0m\u001b[0margs\u001b[0m\u001b[0;34m,\u001b[0m\u001b[0;34m**\u001b[0m\u001b[0mkwargs\u001b[0m\u001b[0;34m)\u001b[0m\u001b[0;34m\u001b[0m\u001b[0;34m\u001b[0m\u001b[0m\n\u001b[0m\u001b[1;32m   2082\u001b[0m             \u001b[0;32mreturn\u001b[0m \u001b[0mresult\u001b[0m\u001b[0;34m\u001b[0m\u001b[0;34m\u001b[0m\u001b[0m\n\u001b[1;32m   2083\u001b[0m \u001b[0;34m\u001b[0m\u001b[0m\n",
            "\u001b[0;32m<decorator-gen-60>\u001b[0m in \u001b[0;36mtime\u001b[0;34m(self, line, cell, local_ns)\u001b[0m\n",
            "\u001b[0;32m/usr/local/lib/python3.6/dist-packages/IPython/core/magic.py\u001b[0m in \u001b[0;36m<lambda>\u001b[0;34m(f, *a, **k)\u001b[0m\n\u001b[1;32m    186\u001b[0m     \u001b[0;31m# but it's overkill for just that one bit of state.\u001b[0m\u001b[0;34m\u001b[0m\u001b[0;34m\u001b[0m\u001b[0;34m\u001b[0m\u001b[0m\n\u001b[1;32m    187\u001b[0m     \u001b[0;32mdef\u001b[0m \u001b[0mmagic_deco\u001b[0m\u001b[0;34m(\u001b[0m\u001b[0marg\u001b[0m\u001b[0;34m)\u001b[0m\u001b[0;34m:\u001b[0m\u001b[0;34m\u001b[0m\u001b[0;34m\u001b[0m\u001b[0m\n\u001b[0;32m--> 188\u001b[0;31m         \u001b[0mcall\u001b[0m \u001b[0;34m=\u001b[0m \u001b[0;32mlambda\u001b[0m \u001b[0mf\u001b[0m\u001b[0;34m,\u001b[0m \u001b[0;34m*\u001b[0m\u001b[0ma\u001b[0m\u001b[0;34m,\u001b[0m \u001b[0;34m**\u001b[0m\u001b[0mk\u001b[0m\u001b[0;34m:\u001b[0m \u001b[0mf\u001b[0m\u001b[0;34m(\u001b[0m\u001b[0;34m*\u001b[0m\u001b[0ma\u001b[0m\u001b[0;34m,\u001b[0m \u001b[0;34m**\u001b[0m\u001b[0mk\u001b[0m\u001b[0;34m)\u001b[0m\u001b[0;34m\u001b[0m\u001b[0;34m\u001b[0m\u001b[0m\n\u001b[0m\u001b[1;32m    189\u001b[0m \u001b[0;34m\u001b[0m\u001b[0m\n\u001b[1;32m    190\u001b[0m         \u001b[0;32mif\u001b[0m \u001b[0mcallable\u001b[0m\u001b[0;34m(\u001b[0m\u001b[0marg\u001b[0m\u001b[0;34m)\u001b[0m\u001b[0;34m:\u001b[0m\u001b[0;34m\u001b[0m\u001b[0;34m\u001b[0m\u001b[0m\n",
            "\u001b[0;32m/usr/local/lib/python3.6/dist-packages/IPython/core/magics/execution.py\u001b[0m in \u001b[0;36mtime\u001b[0;34m(self, line, cell, local_ns)\u001b[0m\n\u001b[1;32m   1187\u001b[0m         \u001b[0;32mif\u001b[0m \u001b[0mmode\u001b[0m\u001b[0;34m==\u001b[0m\u001b[0;34m'eval'\u001b[0m\u001b[0;34m:\u001b[0m\u001b[0;34m\u001b[0m\u001b[0;34m\u001b[0m\u001b[0m\n\u001b[1;32m   1188\u001b[0m             \u001b[0mst\u001b[0m \u001b[0;34m=\u001b[0m \u001b[0mclock2\u001b[0m\u001b[0;34m(\u001b[0m\u001b[0;34m)\u001b[0m\u001b[0;34m\u001b[0m\u001b[0;34m\u001b[0m\u001b[0m\n\u001b[0;32m-> 1189\u001b[0;31m             \u001b[0mout\u001b[0m \u001b[0;34m=\u001b[0m \u001b[0meval\u001b[0m\u001b[0;34m(\u001b[0m\u001b[0mcode\u001b[0m\u001b[0;34m,\u001b[0m \u001b[0mglob\u001b[0m\u001b[0;34m,\u001b[0m \u001b[0mlocal_ns\u001b[0m\u001b[0;34m)\u001b[0m\u001b[0;34m\u001b[0m\u001b[0;34m\u001b[0m\u001b[0m\n\u001b[0m\u001b[1;32m   1190\u001b[0m             \u001b[0mend\u001b[0m \u001b[0;34m=\u001b[0m \u001b[0mclock2\u001b[0m\u001b[0;34m(\u001b[0m\u001b[0;34m)\u001b[0m\u001b[0;34m\u001b[0m\u001b[0;34m\u001b[0m\u001b[0m\n\u001b[1;32m   1191\u001b[0m         \u001b[0;32melse\u001b[0m\u001b[0;34m:\u001b[0m\u001b[0;34m\u001b[0m\u001b[0;34m\u001b[0m\u001b[0m\n",
            "\u001b[0;32m<timed eval>\u001b[0m in \u001b[0;36m<module>\u001b[0;34m()\u001b[0m\n",
            "\u001b[0;31mAttributeError\u001b[0m: module 'numpy' has no attribute 'reduce'"
          ]
        }
      ]
    },
    {
      "cell_type": "code",
      "metadata": {
        "id": "_P-A7lJFpa3O"
      },
      "source": [
        "zz=-z"
      ],
      "execution_count": null,
      "outputs": []
    },
    {
      "cell_type": "code",
      "metadata": {
        "colab": {
          "base_uri": "https://localhost:8080/"
        },
        "id": "kKT5kNR9p1TR",
        "outputId": "89a111ac-3a32-42e1-ed87-3583a6de6c6d"
      },
      "source": [
        "zz"
      ],
      "execution_count": null,
      "outputs": [
        {
          "output_type": "execute_result",
          "data": {
            "text/plain": [
              "<tf.Tensor: shape=(100,), dtype=float32, numpy=\n",
              "array([-488.3191 , -514.2375 , -499.7347 , -501.69748, -485.59256,\n",
              "       -509.33395, -510.31598, -480.99738, -511.35364, -511.51813,\n",
              "       -503.0034 , -501.4669 , -501.0538 , -488.37946, -503.43542,\n",
              "       -509.29245, -513.9297 , -480.86206, -498.28824, -511.1314 ,\n",
              "       -516.8452 , -513.71075, -467.84988, -489.1104 , -479.62082,\n",
              "       -499.11642, -511.65353, -492.46072, -498.3582 , -506.35477,\n",
              "       -492.083  , -492.2148 , -519.52563, -513.99945, -526.7612 ,\n",
              "       -497.45816, -493.0895 , -496.15314, -480.22806, -500.60004,\n",
              "       -504.13306, -508.98044, -499.88333, -497.61145, -510.00787,\n",
              "       -486.28793, -494.5515 , -509.9029 , -524.0304 , -506.12155,\n",
              "       -501.0956 , -499.23608, -495.23068, -503.1496 , -489.08173,\n",
              "       -495.0491 , -487.46994, -507.2779 , -500.7455 , -505.83505,\n",
              "       -520.42554, -508.87128, -513.0002 , -484.99323, -501.02188,\n",
              "       -484.48117, -490.20346, -484.62753, -484.52902, -498.50305,\n",
              "       -483.43863, -482.18048, -496.26712, -502.1845 , -497.61853,\n",
              "       -512.233  , -485.44308, -525.564  , -500.33823, -498.48743,\n",
              "       -506.38004, -483.94998, -474.51053, -495.51144, -502.96152,\n",
              "       -511.8963 , -475.14413, -496.00836, -514.76294, -469.77133,\n",
              "       -507.4624 , -501.16736, -491.26425, -482.08566, -490.85724,\n",
              "       -491.59302, -488.58392, -516.3425 , -488.90176, -489.17902],\n",
              "      dtype=float32)>"
            ]
          },
          "metadata": {
            "tags": []
          },
          "execution_count": 103
        }
      ]
    },
    {
      "cell_type": "code",
      "metadata": {
        "colab": {
          "base_uri": "https://localhost:8080/"
        },
        "id": "bvmyOVpkp1qY",
        "outputId": "442b0f7a-122d-4476-b3c4-fb793ec52d7b"
      },
      "source": [
        "tf.negative(z)"
      ],
      "execution_count": null,
      "outputs": [
        {
          "output_type": "execute_result",
          "data": {
            "text/plain": [
              "<tf.Tensor: shape=(100,), dtype=float32, numpy=\n",
              "array([-488.3191 , -514.2375 , -499.7347 , -501.69748, -485.59256,\n",
              "       -509.33395, -510.31598, -480.99738, -511.35364, -511.51813,\n",
              "       -503.0034 , -501.4669 , -501.0538 , -488.37946, -503.43542,\n",
              "       -509.29245, -513.9297 , -480.86206, -498.28824, -511.1314 ,\n",
              "       -516.8452 , -513.71075, -467.84988, -489.1104 , -479.62082,\n",
              "       -499.11642, -511.65353, -492.46072, -498.3582 , -506.35477,\n",
              "       -492.083  , -492.2148 , -519.52563, -513.99945, -526.7612 ,\n",
              "       -497.45816, -493.0895 , -496.15314, -480.22806, -500.60004,\n",
              "       -504.13306, -508.98044, -499.88333, -497.61145, -510.00787,\n",
              "       -486.28793, -494.5515 , -509.9029 , -524.0304 , -506.12155,\n",
              "       -501.0956 , -499.23608, -495.23068, -503.1496 , -489.08173,\n",
              "       -495.0491 , -487.46994, -507.2779 , -500.7455 , -505.83505,\n",
              "       -520.42554, -508.87128, -513.0002 , -484.99323, -501.02188,\n",
              "       -484.48117, -490.20346, -484.62753, -484.52902, -498.50305,\n",
              "       -483.43863, -482.18048, -496.26712, -502.1845 , -497.61853,\n",
              "       -512.233  , -485.44308, -525.564  , -500.33823, -498.48743,\n",
              "       -506.38004, -483.94998, -474.51053, -495.51144, -502.96152,\n",
              "       -511.8963 , -475.14413, -496.00836, -514.76294, -469.77133,\n",
              "       -507.4624 , -501.16736, -491.26425, -482.08566, -490.85724,\n",
              "       -491.59302, -488.58392, -516.3425 , -488.90176, -489.17902],\n",
              "      dtype=float32)>"
            ]
          },
          "metadata": {
            "tags": []
          },
          "execution_count": 104
        }
      ]
    },
    {
      "cell_type": "markdown",
      "metadata": {
        "id": "HmxwdNmEqLhw"
      },
      "source": [
        "모든 연산자에는 대응하는 function이 있다"
      ]
    },
    {
      "cell_type": "code",
      "metadata": {
        "colab": {
          "base_uri": "https://localhost:8080/"
        },
        "id": "bDs_rkJzp4IZ",
        "outputId": "a4af08d5-7c26-4849-a56c-2bcfbb8718d2"
      },
      "source": [
        "tf.add(z,z)\r\n",
        "tf.subtract(z,z)\r\n",
        "tf.multiply(z,z)\r\n",
        "tf.divide(z,z)\r\n",
        "tf.pow([1,2],2)"
      ],
      "execution_count": null,
      "outputs": [
        {
          "output_type": "execute_result",
          "data": {
            "text/plain": [
              "<tf.Tensor: shape=(2,), dtype=int32, numpy=array([1, 4], dtype=int32)>"
            ]
          },
          "metadata": {
            "tags": []
          },
          "execution_count": 107
        }
      ]
    },
    {
      "cell_type": "markdown",
      "metadata": {
        "id": "fF4f3Ev0qRoc"
      },
      "source": [
        "[tensor](https://www.tensorflow.org/guide/tensor?hl=ko)\r\n",
        "Numpy\r\n",
        "- homogeneous container\r\n",
        " - 동일한 데이터 타입\r\n",
        "\r\n",
        "\r\n"
      ]
    },
    {
      "cell_type": "code",
      "metadata": {
        "colab": {
          "base_uri": "https://localhost:8080/"
        },
        "id": "WAR7jaC1rrUe",
        "outputId": "1ee53286-0dc4-48a3-81df-e0e4e0e1cb24"
      },
      "source": [
        "np.array([1,2,'1']) # 자동으로  ]"
      ],
      "execution_count": null,
      "outputs": [
        {
          "output_type": "execute_result",
          "data": {
            "text/plain": [
              "array(['1', '2', '1'], dtype='<U21')"
            ]
          },
          "metadata": {
            "tags": []
          },
          "execution_count": 110
        }
      ]
    },
    {
      "cell_type": "code",
      "metadata": {
        "colab": {
          "base_uri": "https://localhost:8080/",
          "height": 342
        },
        "id": "kQcxQxvDqA0U",
        "outputId": "b3f2289d-f925-42ba-9330-39083e88ff07"
      },
      "source": [
        "tf.constant([1,1,'1']) #강제로 에러 발생 -> pythonic!"
      ],
      "execution_count": null,
      "outputs": [
        {
          "output_type": "error",
          "ename": "ValueError",
          "evalue": "ignored",
          "traceback": [
            "\u001b[0;31m---------------------------------------------------------------------------\u001b[0m",
            "\u001b[0;31mValueError\u001b[0m                                Traceback (most recent call last)",
            "\u001b[0;32m<ipython-input-108-155e82008b7d>\u001b[0m in \u001b[0;36m<module>\u001b[0;34m()\u001b[0m\n\u001b[0;32m----> 1\u001b[0;31m \u001b[0mtf\u001b[0m\u001b[0;34m.\u001b[0m\u001b[0mconstant\u001b[0m\u001b[0;34m(\u001b[0m\u001b[0;34m[\u001b[0m\u001b[0;36m1\u001b[0m\u001b[0;34m,\u001b[0m\u001b[0;36m1\u001b[0m\u001b[0;34m,\u001b[0m\u001b[0;34m'1'\u001b[0m\u001b[0;34m]\u001b[0m\u001b[0;34m)\u001b[0m\u001b[0;34m\u001b[0m\u001b[0;34m\u001b[0m\u001b[0m\n\u001b[0m",
            "\u001b[0;32m/usr/local/lib/python3.6/dist-packages/tensorflow/python/framework/constant_op.py\u001b[0m in \u001b[0;36mconstant\u001b[0;34m(value, dtype, shape, name)\u001b[0m\n\u001b[1;32m    263\u001b[0m   \"\"\"\n\u001b[1;32m    264\u001b[0m   return _constant_impl(value, dtype, shape, name, verify_shape=False,\n\u001b[0;32m--> 265\u001b[0;31m                         allow_broadcast=True)\n\u001b[0m\u001b[1;32m    266\u001b[0m \u001b[0;34m\u001b[0m\u001b[0m\n\u001b[1;32m    267\u001b[0m \u001b[0;34m\u001b[0m\u001b[0m\n",
            "\u001b[0;32m/usr/local/lib/python3.6/dist-packages/tensorflow/python/framework/constant_op.py\u001b[0m in \u001b[0;36m_constant_impl\u001b[0;34m(value, dtype, shape, name, verify_shape, allow_broadcast)\u001b[0m\n\u001b[1;32m    274\u001b[0m       \u001b[0;32mwith\u001b[0m \u001b[0mtrace\u001b[0m\u001b[0;34m.\u001b[0m\u001b[0mTrace\u001b[0m\u001b[0;34m(\u001b[0m\u001b[0;34m\"tf.constant\"\u001b[0m\u001b[0;34m)\u001b[0m\u001b[0;34m:\u001b[0m\u001b[0;34m\u001b[0m\u001b[0;34m\u001b[0m\u001b[0m\n\u001b[1;32m    275\u001b[0m         \u001b[0;32mreturn\u001b[0m \u001b[0m_constant_eager_impl\u001b[0m\u001b[0;34m(\u001b[0m\u001b[0mctx\u001b[0m\u001b[0;34m,\u001b[0m \u001b[0mvalue\u001b[0m\u001b[0;34m,\u001b[0m \u001b[0mdtype\u001b[0m\u001b[0;34m,\u001b[0m \u001b[0mshape\u001b[0m\u001b[0;34m,\u001b[0m \u001b[0mverify_shape\u001b[0m\u001b[0;34m)\u001b[0m\u001b[0;34m\u001b[0m\u001b[0;34m\u001b[0m\u001b[0m\n\u001b[0;32m--> 276\u001b[0;31m     \u001b[0;32mreturn\u001b[0m \u001b[0m_constant_eager_impl\u001b[0m\u001b[0;34m(\u001b[0m\u001b[0mctx\u001b[0m\u001b[0;34m,\u001b[0m \u001b[0mvalue\u001b[0m\u001b[0;34m,\u001b[0m \u001b[0mdtype\u001b[0m\u001b[0;34m,\u001b[0m \u001b[0mshape\u001b[0m\u001b[0;34m,\u001b[0m \u001b[0mverify_shape\u001b[0m\u001b[0;34m)\u001b[0m\u001b[0;34m\u001b[0m\u001b[0;34m\u001b[0m\u001b[0m\n\u001b[0m\u001b[1;32m    277\u001b[0m \u001b[0;34m\u001b[0m\u001b[0m\n\u001b[1;32m    278\u001b[0m   \u001b[0mg\u001b[0m \u001b[0;34m=\u001b[0m \u001b[0mops\u001b[0m\u001b[0;34m.\u001b[0m\u001b[0mget_default_graph\u001b[0m\u001b[0;34m(\u001b[0m\u001b[0;34m)\u001b[0m\u001b[0;34m\u001b[0m\u001b[0;34m\u001b[0m\u001b[0m\n",
            "\u001b[0;32m/usr/local/lib/python3.6/dist-packages/tensorflow/python/framework/constant_op.py\u001b[0m in \u001b[0;36m_constant_eager_impl\u001b[0;34m(ctx, value, dtype, shape, verify_shape)\u001b[0m\n\u001b[1;32m    299\u001b[0m \u001b[0;32mdef\u001b[0m \u001b[0m_constant_eager_impl\u001b[0m\u001b[0;34m(\u001b[0m\u001b[0mctx\u001b[0m\u001b[0;34m,\u001b[0m \u001b[0mvalue\u001b[0m\u001b[0;34m,\u001b[0m \u001b[0mdtype\u001b[0m\u001b[0;34m,\u001b[0m \u001b[0mshape\u001b[0m\u001b[0;34m,\u001b[0m \u001b[0mverify_shape\u001b[0m\u001b[0;34m)\u001b[0m\u001b[0;34m:\u001b[0m\u001b[0;34m\u001b[0m\u001b[0;34m\u001b[0m\u001b[0m\n\u001b[1;32m    300\u001b[0m   \u001b[0;34m\"\"\"Implementation of eager constant.\"\"\"\u001b[0m\u001b[0;34m\u001b[0m\u001b[0;34m\u001b[0m\u001b[0m\n\u001b[0;32m--> 301\u001b[0;31m   \u001b[0mt\u001b[0m \u001b[0;34m=\u001b[0m \u001b[0mconvert_to_eager_tensor\u001b[0m\u001b[0;34m(\u001b[0m\u001b[0mvalue\u001b[0m\u001b[0;34m,\u001b[0m \u001b[0mctx\u001b[0m\u001b[0;34m,\u001b[0m \u001b[0mdtype\u001b[0m\u001b[0;34m)\u001b[0m\u001b[0;34m\u001b[0m\u001b[0;34m\u001b[0m\u001b[0m\n\u001b[0m\u001b[1;32m    302\u001b[0m   \u001b[0;32mif\u001b[0m \u001b[0mshape\u001b[0m \u001b[0;32mis\u001b[0m \u001b[0;32mNone\u001b[0m\u001b[0;34m:\u001b[0m\u001b[0;34m\u001b[0m\u001b[0;34m\u001b[0m\u001b[0m\n\u001b[1;32m    303\u001b[0m     \u001b[0;32mreturn\u001b[0m \u001b[0mt\u001b[0m\u001b[0;34m\u001b[0m\u001b[0;34m\u001b[0m\u001b[0m\n",
            "\u001b[0;32m/usr/local/lib/python3.6/dist-packages/tensorflow/python/framework/constant_op.py\u001b[0m in \u001b[0;36mconvert_to_eager_tensor\u001b[0;34m(value, ctx, dtype)\u001b[0m\n\u001b[1;32m     96\u001b[0m       \u001b[0mdtype\u001b[0m \u001b[0;34m=\u001b[0m \u001b[0mdtypes\u001b[0m\u001b[0;34m.\u001b[0m\u001b[0mas_dtype\u001b[0m\u001b[0;34m(\u001b[0m\u001b[0mdtype\u001b[0m\u001b[0;34m)\u001b[0m\u001b[0;34m.\u001b[0m\u001b[0mas_datatype_enum\u001b[0m\u001b[0;34m\u001b[0m\u001b[0;34m\u001b[0m\u001b[0m\n\u001b[1;32m     97\u001b[0m   \u001b[0mctx\u001b[0m\u001b[0;34m.\u001b[0m\u001b[0mensure_initialized\u001b[0m\u001b[0;34m(\u001b[0m\u001b[0;34m)\u001b[0m\u001b[0;34m\u001b[0m\u001b[0;34m\u001b[0m\u001b[0m\n\u001b[0;32m---> 98\u001b[0;31m   \u001b[0;32mreturn\u001b[0m \u001b[0mops\u001b[0m\u001b[0;34m.\u001b[0m\u001b[0mEagerTensor\u001b[0m\u001b[0;34m(\u001b[0m\u001b[0mvalue\u001b[0m\u001b[0;34m,\u001b[0m \u001b[0mctx\u001b[0m\u001b[0;34m.\u001b[0m\u001b[0mdevice_name\u001b[0m\u001b[0;34m,\u001b[0m \u001b[0mdtype\u001b[0m\u001b[0;34m)\u001b[0m\u001b[0;34m\u001b[0m\u001b[0;34m\u001b[0m\u001b[0m\n\u001b[0m\u001b[1;32m     99\u001b[0m \u001b[0;34m\u001b[0m\u001b[0m\n\u001b[1;32m    100\u001b[0m \u001b[0;34m\u001b[0m\u001b[0m\n",
            "\u001b[0;31mValueError\u001b[0m: Can't convert Python sequence with mixed types to Tensor."
          ]
        }
      ]
    },
    {
      "cell_type": "markdown",
      "metadata": {
        "id": "r_ubOMm6rz4w"
      },
      "source": [
        "> EAFP: 허락보다는 용서를 구하기 쉽다.\r\n",
        "\r\n",
        "- #type casting 형변환 as ,from\r\n",
        "\r\n",
        "\r\n"
      ]
    },
    {
      "cell_type": "code",
      "metadata": {
        "colab": {
          "base_uri": "https://localhost:8080/"
        },
        "id": "Z3D5eCl5rvvw",
        "outputId": "3b2d40e8-919c-4d63-dfe8-217df40492b2"
      },
      "source": [
        "tf.dtypes.cast #type casting"
      ],
      "execution_count": null,
      "outputs": [
        {
          "output_type": "execute_result",
          "data": {
            "text/plain": [
              "<function tensorflow.python.ops.math_ops.cast>"
            ]
          },
          "metadata": {
            "tags": []
          },
          "execution_count": 112
        }
      ]
    },
    {
      "cell_type": "code",
      "metadata": {
        "colab": {
          "base_uri": "https://localhost:8080/"
        },
        "id": "1ZNF0vmJsccu",
        "outputId": "25e8090b-685d-432d-bf05-fb94bd419622"
      },
      "source": [
        "tf.dtypes.DType #지원하는 모든 데이터 타입 확인"
      ],
      "execution_count": null,
      "outputs": [
        {
          "output_type": "execute_result",
          "data": {
            "text/plain": [
              "tensorflow.python.framework.dtypes.DType"
            ]
          },
          "metadata": {
            "tags": []
          },
          "execution_count": 111
        }
      ]
    },
    {
      "cell_type": "markdown",
      "metadata": {
        "id": "p-ZjzPcesfnO"
      },
      "source": [
        "- 내부적으로 넘파이처럼 C로 만들어짐\r\n",
        "- C++, Java Script용 동시 지원\r\n"
      ]
    },
    {
      "cell_type": "code",
      "metadata": {
        "colab": {
          "base_uri": "https://localhost:8080/"
        },
        "id": "eJzxFRzlrtTu",
        "outputId": "d2a7fba4-1a52-460e-b3d5-24cfb549a6e1"
      },
      "source": [
        "#matlab 3개 2x5 \r\n",
        "np.moveaxis\r\n",
        "np.swapaxes\r\n",
        "np.transpose\r\n",
        "tf.transpose  #있는 것과 없는 것이 있음"
      ],
      "execution_count": null,
      "outputs": [
        {
          "output_type": "execute_result",
          "data": {
            "text/plain": [
              "<function numpy.transpose>"
            ]
          },
          "metadata": {
            "tags": []
          },
          "execution_count": 113
        }
      ]
    },
    {
      "cell_type": "markdown",
      "metadata": {
        "id": "T0qdfeXWth4S"
      },
      "source": [
        "모든 종류의 연산에 사용\r\n",
        "\r\n",
        "shape,axis, size , rank\r\n",
        "- shape ,dtype 이 가장 중요함\r\n",
        "- indexing, slicing 도 동일"
      ]
    },
    {
      "cell_type": "code",
      "metadata": {
        "id": "F5gGrDwotT_N"
      },
      "source": [
        "x=tf.constant([[1,2],[3,4]])"
      ],
      "execution_count": null,
      "outputs": []
    },
    {
      "cell_type": "code",
      "metadata": {
        "colab": {
          "base_uri": "https://localhost:8080/"
        },
        "id": "4pzOXNfbuFQ9",
        "outputId": "8428f0a9-baf9-4838-9f7a-b5f7d07827f0"
      },
      "source": [
        "x[...]"
      ],
      "execution_count": null,
      "outputs": [
        {
          "output_type": "execute_result",
          "data": {
            "text/plain": [
              "<tf.Tensor: shape=(2, 2), dtype=int32, numpy=\n",
              "array([[1, 2],\n",
              "       [3, 4]], dtype=int32)>"
            ]
          },
          "metadata": {
            "tags": []
          },
          "execution_count": 117
        }
      ]
    },
    {
      "cell_type": "markdown",
      "metadata": {
        "id": "aNBNvAL-uOLA"
      },
      "source": [
        "type 변환\r\n",
        "- Numpy : as,from\r\n",
        "- Tensor : tf.cast"
      ]
    },
    {
      "cell_type": "markdown",
      "metadata": {
        "id": "r5QJ1Ll_vPjX"
      },
      "source": [
        "### 기본 데이터 타입\r\n",
        "- 텐서플로우: 32 \r\n",
        "- Pandas: 64\r\n",
        "- Numpy: 시스템 플랫폼 따라\r\n",
        "  - 연동하는 경우 내부적으로 알아서 타입변환함\r\n"
      ]
    },
    {
      "cell_type": "code",
      "metadata": {
        "id": "AMxN760juGvF"
      },
      "source": [
        "x=np.array([1,2,3])"
      ],
      "execution_count": null,
      "outputs": []
    },
    {
      "cell_type": "code",
      "metadata": {
        "colab": {
          "base_uri": "https://localhost:8080/"
        },
        "id": "Ak8S0n8WuV2r",
        "outputId": "539e6d10-e8c2-4367-a55f-da590eb68cf8"
      },
      "source": [
        "x.shape"
      ],
      "execution_count": null,
      "outputs": [
        {
          "output_type": "execute_result",
          "data": {
            "text/plain": [
              "(3,)"
            ]
          },
          "metadata": {
            "tags": []
          },
          "execution_count": 119
        }
      ]
    },
    {
      "cell_type": "code",
      "metadata": {
        "colab": {
          "base_uri": "https://localhost:8080/"
        },
        "id": "99rg_OSWuWrS",
        "outputId": "89b8023f-bb51-4895-a64e-02fd0c52230f"
      },
      "source": [
        "x.astype('f4')  #타입 변화"
      ],
      "execution_count": null,
      "outputs": [
        {
          "output_type": "execute_result",
          "data": {
            "text/plain": [
              "array([1., 2., 3.], dtype=float32)"
            ]
          },
          "metadata": {
            "tags": []
          },
          "execution_count": 120
        }
      ]
    },
    {
      "cell_type": "code",
      "metadata": {
        "colab": {
          "base_uri": "https://localhost:8080/"
        },
        "id": "GOU5h2eDuX38",
        "outputId": "1447112e-9cfc-4675-bd34-89f824c2244b"
      },
      "source": [
        "np.asfarray(x)"
      ],
      "execution_count": null,
      "outputs": [
        {
          "output_type": "execute_result",
          "data": {
            "text/plain": [
              "array([1., 2., 3.])"
            ]
          },
          "metadata": {
            "tags": []
          },
          "execution_count": 121
        }
      ]
    },
    {
      "cell_type": "code",
      "metadata": {
        "colab": {
          "base_uri": "https://localhost:8080/"
        },
        "id": "UKFA4G1ivn7A",
        "outputId": "b3c3fcec-a565-41bf-944e-e7cf35475900"
      },
      "source": [
        "np.cast  #다름"
      ],
      "execution_count": null,
      "outputs": [
        {
          "output_type": "execute_result",
          "data": {
            "text/plain": [
              "{numpy.bool_: <function numpy.core.numerictypes.<lambda>>,\n",
              " numpy.bytes_: <function numpy.core.numerictypes.<lambda>>,\n",
              " numpy.complex128: <function numpy.core.numerictypes.<lambda>>,\n",
              " numpy.complex256: <function numpy.core.numerictypes.<lambda>>,\n",
              " numpy.complex64: <function numpy.core.numerictypes.<lambda>>,\n",
              " numpy.datetime64: <function numpy.core.numerictypes.<lambda>>,\n",
              " numpy.float128: <function numpy.core.numerictypes.<lambda>>,\n",
              " numpy.float16: <function numpy.core.numerictypes.<lambda>>,\n",
              " numpy.float32: <function numpy.core.numerictypes.<lambda>>,\n",
              " numpy.float64: <function numpy.core.numerictypes.<lambda>>,\n",
              " numpy.int16: <function numpy.core.numerictypes.<lambda>>,\n",
              " numpy.int32: <function numpy.core.numerictypes.<lambda>>,\n",
              " numpy.int64: <function numpy.core.numerictypes.<lambda>>,\n",
              " numpy.int8: <function numpy.core.numerictypes.<lambda>>,\n",
              " numpy.longlong: <function numpy.core.numerictypes.<lambda>>,\n",
              " numpy.object_: <function numpy.core.numerictypes.<lambda>>,\n",
              " numpy.str_: <function numpy.core.numerictypes.<lambda>>,\n",
              " numpy.timedelta64: <function numpy.core.numerictypes.<lambda>>,\n",
              " numpy.uint16: <function numpy.core.numerictypes.<lambda>>,\n",
              " numpy.uint32: <function numpy.core.numerictypes.<lambda>>,\n",
              " numpy.uint64: <function numpy.core.numerictypes.<lambda>>,\n",
              " numpy.uint8: <function numpy.core.numerictypes.<lambda>>,\n",
              " numpy.ulonglong: <function numpy.core.numerictypes.<lambda>>,\n",
              " numpy.void: <function numpy.core.numerictypes.<lambda>>}"
            ]
          },
          "metadata": {
            "tags": []
          },
          "execution_count": 130
        }
      ]
    },
    {
      "cell_type": "code",
      "metadata": {
        "colab": {
          "base_uri": "https://localhost:8080/"
        },
        "id": "yUhsewOcuZpH",
        "outputId": "66dabfde-45eb-463c-dea3-301491b7c7e0"
      },
      "source": [
        "tf.cast(x, 'int8') # 명시적, 유형별 캐스팅, 함수형"
      ],
      "execution_count": null,
      "outputs": [
        {
          "output_type": "execute_result",
          "data": {
            "text/plain": [
              "<tf.Tensor: shape=(3,), dtype=int8, numpy=array([1, 2, 3], dtype=int8)>"
            ]
          },
          "metadata": {
            "tags": []
          },
          "execution_count": 122
        }
      ]
    },
    {
      "cell_type": "markdown",
      "metadata": {
        "id": "cEwqY9cZuzv1"
      },
      "source": [
        ""
      ]
    },
    {
      "cell_type": "code",
      "metadata": {
        "id": "uXjBBvPyufdP"
      },
      "source": [
        "x = tf.constant([x for x in range(10)]) "
      ],
      "execution_count": null,
      "outputs": []
    },
    {
      "cell_type": "code",
      "metadata": {
        "colab": {
          "base_uri": "https://localhost:8080/"
        },
        "id": "EhedkKxuuwOP",
        "outputId": "1dd2e4f7-1899-42b0-e0dd-99fc16f4e964"
      },
      "source": [
        "x.ref"
      ],
      "execution_count": null,
      "outputs": [
        {
          "output_type": "execute_result",
          "data": {
            "text/plain": [
              "<bound method Tensor.ref of <tf.Tensor: shape=(10,), dtype=int32, numpy=array([0, 1, 2, 3, 4, 5, 6, 7, 8, 9], dtype=int32)>>"
            ]
          },
          "metadata": {
            "tags": []
          },
          "execution_count": 124
        }
      ]
    },
    {
      "cell_type": "code",
      "metadata": {
        "colab": {
          "base_uri": "https://localhost:8080/"
        },
        "id": "r-Zf3OJsu-YF",
        "outputId": "6ecfa2a6-8a86-4a11-b472-b9ea424d2eaf"
      },
      "source": [
        "x= np.arange(10).reshape(2,5) #\r\n",
        "x"
      ],
      "execution_count": null,
      "outputs": [
        {
          "output_type": "execute_result",
          "data": {
            "text/plain": [
              "array([[0, 1, 2, 3, 4],\n",
              "       [5, 6, 7, 8, 9]])"
            ]
          },
          "metadata": {
            "tags": []
          },
          "execution_count": 126
        }
      ]
    },
    {
      "cell_type": "code",
      "metadata": {
        "colab": {
          "base_uri": "https://localhost:8080/"
        },
        "id": "oGkfMaFRuxGl",
        "outputId": "d09efba4-972b-4116-973c-bc98fc52fd26"
      },
      "source": [
        "tf.reshape(x,[2,5])  # 통일성"
      ],
      "execution_count": null,
      "outputs": [
        {
          "output_type": "execute_result",
          "data": {
            "text/plain": [
              "<tf.Tensor: shape=(2, 5), dtype=int64, numpy=\n",
              "array([[0, 1, 2, 3, 4],\n",
              "       [5, 6, 7, 8, 9]])>"
            ]
          },
          "metadata": {
            "tags": []
          },
          "execution_count": 129
        }
      ]
    },
    {
      "cell_type": "markdown",
      "metadata": {
        "id": "8lt6FQDwu7pq"
      },
      "source": [
        "메모리에서 복사가 일어나지 않아서 속도가 빠름"
      ]
    },
    {
      "cell_type": "code",
      "metadata": {
        "colab": {
          "base_uri": "https://localhost:8080/"
        },
        "id": "JMhFmUMGvhPF",
        "outputId": "c7d15d49-bdb0-4138-f680-5b058daef0cb"
      },
      "source": [
        "tf.broadcast_to(tf.constant([1,2,3]),[3,3]) #(1,3) -> (3,3)"
      ],
      "execution_count": null,
      "outputs": [
        {
          "output_type": "execute_result",
          "data": {
            "text/plain": [
              "<tf.Tensor: shape=(3, 3), dtype=int32, numpy=\n",
              "array([[1, 2, 3],\n",
              "       [1, 2, 3],\n",
              "       [1, 2, 3]], dtype=int32)>"
            ]
          },
          "metadata": {
            "tags": []
          },
          "execution_count": 133
        }
      ]
    },
    {
      "cell_type": "code",
      "metadata": {
        "colab": {
          "base_uri": "https://localhost:8080/"
        },
        "id": "eJJb0SduwQoU",
        "outputId": "cb23045e-bc2c-4276-a2a2-fb9208c5e447"
      },
      "source": [
        "np.broadcast_to(np.array([1,2,3]),(3,3))"
      ],
      "execution_count": null,
      "outputs": [
        {
          "output_type": "execute_result",
          "data": {
            "text/plain": [
              "array([[1, 2, 3],\n",
              "       [1, 2, 3],\n",
              "       [1, 2, 3]])"
            ]
          },
          "metadata": {
            "tags": []
          },
          "execution_count": 135
        }
      ]
    },
    {
      "cell_type": "markdown",
      "metadata": {
        "id": "jVay8RS7wrW8"
      },
      "source": [
        "> 영상에서는 다루지 않는 텐서\r\n",
        "  - 비정형 텐서 ragged tensor\r\n",
        "  - 희소 텐서 sparse"
      ]
    }
  ]
}