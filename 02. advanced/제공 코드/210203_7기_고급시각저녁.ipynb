{
  "nbformat": 4,
  "nbformat_minor": 0,
  "metadata": {
    "colab": {
      "name": "210203_7기_고급시각저녁",
      "provenance": [],
      "collapsed_sections": []
    },
    "kernelspec": {
      "name": "python3",
      "display_name": "Python 3"
    }
  },
  "cells": [
    {
      "cell_type": "markdown",
      "metadata": {
        "id": "gX9QYqZhNdnS"
      },
      "source": [
        "# [ICTCOG AI Academy] 7기 고급시각저녁반\r\n",
        "\r\n",
        "#  영상 처리/딥러닝을 위한 Vectorize 기법 (3)\r\n",
        "\r\n",
        "## Matplotlib\r\n",
        "- state machine 방식 \r\n",
        "- 상위 객체 생략 가능 (기본값으로 사용하는 경우)\r\n",
        "\r\n",
        "### plt.subplots\r\n",
        "\r\n",
        "1. state machine 방식\r\n",
        "2. 객체지향 방식\r\n",
        "3. 두 방식 혼합  <--\r\n"
      ]
    },
    {
      "cell_type": "code",
      "metadata": {
        "id": "86YxG-PDNUvT"
      },
      "source": [
        "import matplotlib.pyplot as plt"
      ],
      "execution_count": 1,
      "outputs": []
    },
    {
      "cell_type": "markdown",
      "metadata": {
        "id": "U7U8WIOiP3wa"
      },
      "source": [
        "#### 객체지향 방식"
      ]
    },
    {
      "cell_type": "code",
      "metadata": {
        "colab": {
          "base_uri": "https://localhost:8080/",
          "height": 304
        },
        "id": "-4EwqlmkQAsH",
        "outputId": "9bb1c605-9e77-41ec-d154-c85df7080494"
      },
      "source": [
        "plt.subplots()  #len technique ->  unpacking 가능 "
      ],
      "execution_count": 3,
      "outputs": [
        {
          "output_type": "execute_result",
          "data": {
            "text/plain": [
              "(<Figure size 432x288 with 1 Axes>,\n",
              " <matplotlib.axes._subplots.AxesSubplot at 0x7faa0b030b70>)"
            ]
          },
          "metadata": {
            "tags": []
          },
          "execution_count": 3
        },
        {
          "output_type": "display_data",
          "data": {
            "image/png": "[encoded data removed]",
            "text/plain": [
              "<Figure size 432x288 with 1 Axes>"
            ]
          },
          "metadata": {
            "tags": [],
            "needs_background": "light"
          }
        }
      ]
    },
    {
      "cell_type": "code",
      "metadata": {
        "colab": {
          "base_uri": "https://localhost:8080/",
          "height": 286
        },
        "id": "WwRsCxsdPWBo",
        "outputId": "8ac778a7-49e1-4c6f-e2cc-5309fe2c73e7"
      },
      "source": [
        "plt.subplot()"
      ],
      "execution_count": 2,
      "outputs": [
        {
          "output_type": "execute_result",
          "data": {
            "text/plain": [
              "<matplotlib.axes._subplots.AxesSubplot at 0x7faa0b46c780>"
            ]
          },
          "metadata": {
            "tags": []
          },
          "execution_count": 2
        },
        {
          "output_type": "display_data",
          "data": {
            "image/png": "[encoded data removed]",
            "text/plain": [
              "<Figure size 432x288 with 1 Axes>"
            ]
          },
          "metadata": {
            "tags": [],
            "needs_background": "light"
          }
        }
      ]
    },
    {
      "cell_type": "code",
      "metadata": {
        "colab": {
          "base_uri": "https://localhost:8080/",
          "height": 286
        },
        "id": "I9xf_EesQCUP",
        "outputId": "871cdc6f-a7f8-42a7-b3aa-cfa148a80e1c"
      },
      "source": [
        "len(plt.subplots() ) #결과 2개"
      ],
      "execution_count": 4,
      "outputs": [
        {
          "output_type": "execute_result",
          "data": {
            "text/plain": [
              "2"
            ]
          },
          "metadata": {
            "tags": []
          },
          "execution_count": 4
        },
        {
          "output_type": "display_data",
          "data": {
            "image/png": "[encoded data removed]",
            "text/plain": [
              "<Figure size 432x288 with 1 Axes>"
            ]
          },
          "metadata": {
            "tags": [],
            "needs_background": "light"
          }
        }
      ]
    },
    {
      "cell_type": "code",
      "metadata": {
        "colab": {
          "base_uri": "https://localhost:8080/",
          "height": 269
        },
        "id": "RA_dA6FmQNXj",
        "outputId": "2c3657ee-658a-488f-cfcc-944b856b65e3"
      },
      "source": [
        "fig, axes =plt.subplots()  #unpakcing"
      ],
      "execution_count": 9,
      "outputs": [
        {
          "output_type": "display_data",
          "data": {
            "image/png": "[encoded data removed]",
            "text/plain": [
              "<Figure size 432x288 with 1 Axes>"
            ]
          },
          "metadata": {
            "tags": [],
            "needs_background": "light"
          }
        }
      ]
    },
    {
      "cell_type": "code",
      "metadata": {
        "colab": {
          "base_uri": "https://localhost:8080/",
          "height": 269
        },
        "id": "VaW4ogWOQQUo",
        "outputId": "26f49c3e-e36a-4082-9bd6-6a1d1dad0e0d"
      },
      "source": [
        "fig  #<Figure size 432x288 with '1' Axes> "
      ],
      "execution_count": 10,
      "outputs": [
        {
          "output_type": "execute_result",
          "data": {
            "image/png": "[encoded data removed]",
            "text/plain": [
              "<Figure size 432x288 with 1 Axes>"
            ]
          },
          "metadata": {
            "tags": []
          },
          "execution_count": 10
        }
      ]
    },
    {
      "cell_type": "code",
      "metadata": {
        "colab": {
          "base_uri": "https://localhost:8080/"
        },
        "id": "FVSBsv0ZQQjq",
        "outputId": "7fc01170-7e80-41a9-a375-b93752d2bc8a"
      },
      "source": [
        "axes"
      ],
      "execution_count": 11,
      "outputs": [
        {
          "output_type": "execute_result",
          "data": {
            "text/plain": [
              "<matplotlib.axes._subplots.AxesSubplot at 0x7faa02db23c8>"
            ]
          },
          "metadata": {
            "tags": []
          },
          "execution_count": 11
        }
      ]
    },
    {
      "cell_type": "code",
      "metadata": {
        "colab": {
          "base_uri": "https://localhost:8080/",
          "height": 52
        },
        "id": "jgPz-zTqQQ0V",
        "outputId": "a06ec2bc-85a2-4678-835c-0b36a6833577"
      },
      "source": [
        "plt.figure()  #0 axes"
      ],
      "execution_count": 12,
      "outputs": [
        {
          "output_type": "execute_result",
          "data": {
            "text/plain": [
              "<Figure size 432x288 with 0 Axes>"
            ]
          },
          "metadata": {
            "tags": []
          },
          "execution_count": 12
        },
        {
          "output_type": "display_data",
          "data": {
            "text/plain": [
              "<Figure size 432x288 with 0 Axes>"
            ]
          },
          "metadata": {
            "tags": []
          }
        }
      ]
    },
    {
      "cell_type": "code",
      "metadata": {
        "colab": {
          "base_uri": "https://localhost:8080/"
        },
        "id": "6H9NdDyEQa1N",
        "outputId": "950c1a69-c02c-477a-c240-4992093490f0"
      },
      "source": [
        "dir(fig)  #__class__  -> 객체 -> 객체지향 방식"
      ],
      "execution_count": 13,
      "outputs": [
        {
          "output_type": "execute_result",
          "data": {
            "text/plain": [
              "['__class__',\n",
              " '__delattr__',\n",
              " '__dict__',\n",
              " '__dir__',\n",
              " '__doc__',\n",
              " '__eq__',\n",
              " '__format__',\n",
              " '__ge__',\n",
              " '__getattribute__',\n",
              " '__getstate__',\n",
              " '__gt__',\n",
              " '__hash__',\n",
              " '__init__',\n",
              " '__init_subclass__',\n",
              " '__le__',\n",
              " '__lt__',\n",
              " '__module__',\n",
              " '__ne__',\n",
              " '__new__',\n",
              " '__reduce__',\n",
              " '__reduce_ex__',\n",
              " '__repr__',\n",
              " '__setattr__',\n",
              " '__setstate__',\n",
              " '__sizeof__',\n",
              " '__str__',\n",
              " '__subclasshook__',\n",
              " '__weakref__',\n",
              " '_add_axes_internal',\n",
              " '_agg_filter',\n",
              " '_align_xlabel_grp',\n",
              " '_align_ylabel_grp',\n",
              " '_alpha',\n",
              " '_animated',\n",
              " '_axobservers',\n",
              " '_axstack',\n",
              " '_cachedRenderer',\n",
              " '_clipon',\n",
              " '_clippath',\n",
              " '_constrained',\n",
              " '_constrained_layout_pads',\n",
              " '_contains',\n",
              " '_default_contains',\n",
              " '_dpi',\n",
              " '_gci',\n",
              " '_get_axes',\n",
              " '_get_clipping_extent_bbox',\n",
              " '_get_dpi',\n",
              " '_gid',\n",
              " '_gridspecs',\n",
              " '_in_layout',\n",
              " '_label',\n",
              " '_layoutbox',\n",
              " '_make_key',\n",
              " '_mouseover',\n",
              " '_oid',\n",
              " '_path_effects',\n",
              " '_picker',\n",
              " '_process_projection_requirements',\n",
              " '_prop_order',\n",
              " '_propobservers',\n",
              " '_rasterized',\n",
              " '_remove_ax',\n",
              " '_remove_method',\n",
              " '_repr_html_',\n",
              " '_set_artist_props',\n",
              " '_set_dpi',\n",
              " '_set_gc_clip',\n",
              " '_sketch',\n",
              " '_snap',\n",
              " '_stale',\n",
              " '_sticky_edges',\n",
              " '_suptitle',\n",
              " '_tight',\n",
              " '_tight_parameters',\n",
              " '_transform',\n",
              " '_transformSet',\n",
              " '_url',\n",
              " '_visible',\n",
              " 'add_artist',\n",
              " 'add_axes',\n",
              " 'add_axobserver',\n",
              " 'add_callback',\n",
              " 'add_gridspec',\n",
              " 'add_subplot',\n",
              " 'align_labels',\n",
              " 'align_xlabels',\n",
              " 'align_ylabels',\n",
              " 'aname',\n",
              " 'artists',\n",
              " 'autofmt_xdate',\n",
              " 'axes',\n",
              " 'bbox',\n",
              " 'bbox_inches',\n",
              " 'callbacks',\n",
              " 'canvas',\n",
              " 'clear',\n",
              " 'clf',\n",
              " 'clipbox',\n",
              " 'colorbar',\n",
              " 'contains',\n",
              " 'convert_xunits',\n",
              " 'convert_yunits',\n",
              " 'delaxes',\n",
              " 'dpi',\n",
              " 'dpi_scale_trans',\n",
              " 'draw',\n",
              " 'draw_artist',\n",
              " 'eventson',\n",
              " 'execute_constrained_layout',\n",
              " 'figimage',\n",
              " 'figure',\n",
              " 'findobj',\n",
              " 'format_cursor_data',\n",
              " 'frameon',\n",
              " 'gca',\n",
              " 'get_agg_filter',\n",
              " 'get_alpha',\n",
              " 'get_animated',\n",
              " 'get_axes',\n",
              " 'get_children',\n",
              " 'get_clip_box',\n",
              " 'get_clip_on',\n",
              " 'get_clip_path',\n",
              " 'get_constrained_layout',\n",
              " 'get_constrained_layout_pads',\n",
              " 'get_contains',\n",
              " 'get_cursor_data',\n",
              " 'get_default_bbox_extra_artists',\n",
              " 'get_dpi',\n",
              " 'get_edgecolor',\n",
              " 'get_facecolor',\n",
              " 'get_figheight',\n",
              " 'get_figure',\n",
              " 'get_figwidth',\n",
              " 'get_frameon',\n",
              " 'get_gid',\n",
              " 'get_in_layout',\n",
              " 'get_label',\n",
              " 'get_path_effects',\n",
              " 'get_picker',\n",
              " 'get_rasterized',\n",
              " 'get_size_inches',\n",
              " 'get_sketch_params',\n",
              " 'get_snap',\n",
              " 'get_tight_layout',\n",
              " 'get_tightbbox',\n",
              " 'get_transform',\n",
              " 'get_transformed_clip_path_and_affine',\n",
              " 'get_url',\n",
              " 'get_visible',\n",
              " 'get_window_extent',\n",
              " 'get_zorder',\n",
              " 'ginput',\n",
              " 'have_units',\n",
              " 'images',\n",
              " 'init_layoutbox',\n",
              " 'is_transform_set',\n",
              " 'legend',\n",
              " 'legends',\n",
              " 'lines',\n",
              " 'mouseover',\n",
              " 'number',\n",
              " 'patch',\n",
              " 'patches',\n",
              " 'pchanged',\n",
              " 'pick',\n",
              " 'pickable',\n",
              " 'properties',\n",
              " 'remove',\n",
              " 'remove_callback',\n",
              " 'savefig',\n",
              " 'sca',\n",
              " 'set',\n",
              " 'set_agg_filter',\n",
              " 'set_alpha',\n",
              " 'set_animated',\n",
              " 'set_canvas',\n",
              " 'set_clip_box',\n",
              " 'set_clip_on',\n",
              " 'set_clip_path',\n",
              " 'set_constrained_layout',\n",
              " 'set_constrained_layout_pads',\n",
              " 'set_contains',\n",
              " 'set_dpi',\n",
              " 'set_edgecolor',\n",
              " 'set_facecolor',\n",
              " 'set_figheight',\n",
              " 'set_figure',\n",
              " 'set_figwidth',\n",
              " 'set_frameon',\n",
              " 'set_gid',\n",
              " 'set_in_layout',\n",
              " 'set_label',\n",
              " 'set_path_effects',\n",
              " 'set_picker',\n",
              " 'set_rasterized',\n",
              " 'set_size_inches',\n",
              " 'set_sketch_params',\n",
              " 'set_snap',\n",
              " 'set_tight_layout',\n",
              " 'set_transform',\n",
              " 'set_url',\n",
              " 'set_visible',\n",
              " 'set_zorder',\n",
              " 'show',\n",
              " 'stale',\n",
              " 'stale_callback',\n",
              " 'sticky_edges',\n",
              " 'subplotpars',\n",
              " 'subplots',\n",
              " 'subplots_adjust',\n",
              " 'suppressComposite',\n",
              " 'suptitle',\n",
              " 'text',\n",
              " 'texts',\n",
              " 'tight_layout',\n",
              " 'transFigure',\n",
              " 'update',\n",
              " 'update_from',\n",
              " 'waitforbuttonpress',\n",
              " 'zorder']"
            ]
          },
          "metadata": {
            "tags": []
          },
          "execution_count": 13
        }
      ]
    },
    {
      "cell_type": "code",
      "metadata": {
        "colab": {
          "base_uri": "https://localhost:8080/",
          "height": 373
        },
        "id": "gxV6YlILQn7A",
        "outputId": "88bd50dc-d850-4a75-ecd2-cb2b662f1114"
      },
      "source": [
        "plt.subplots(2,2) #한번에 여러그래프를 그림 2x2 형태"
      ],
      "execution_count": 14,
      "outputs": [
        {
          "output_type": "execute_result",
          "data": {
            "text/plain": [
              "(<Figure size 432x288 with 4 Axes>,\n",
              " array([[<matplotlib.axes._subplots.AxesSubplot object at 0x7faa02d3dcf8>,\n",
              "         <matplotlib.axes._subplots.AxesSubplot object at 0x7faa02d028d0>],\n",
              "        [<matplotlib.axes._subplots.AxesSubplot object at 0x7faa02cb9b00>,\n",
              "         <matplotlib.axes._subplots.AxesSubplot object at 0x7faa02c6ed30>]],\n",
              "       dtype=object))"
            ]
          },
          "metadata": {
            "tags": []
          },
          "execution_count": 14
        },
        {
          "output_type": "display_data",
          "data": {
            "image/png": "[encoded data removed]",
            "text/plain": [
              "<Figure size 432x288 with 4 Axes>"
            ]
          },
          "metadata": {
            "tags": [],
            "needs_background": "light"
          }
        }
      ]
    },
    {
      "cell_type": "code",
      "metadata": {
        "colab": {
          "base_uri": "https://localhost:8080/",
          "height": 269
        },
        "id": "fcSY0N6tQ-ou",
        "outputId": "8afed4b1-6583-4443-83ab-0e78f34a0090"
      },
      "source": [
        "axes.set_title('title') #method 방식\r\n",
        "fig, axes =plt.subplots() "
      ],
      "execution_count": 17,
      "outputs": [
        {
          "output_type": "display_data",
          "data": {
            "image/png": "[encoded data removed]",
            "text/plain": [
              "<Figure size 432x288 with 1 Axes>"
            ]
          },
          "metadata": {
            "tags": [],
            "needs_background": "light"
          }
        }
      ]
    },
    {
      "cell_type": "code",
      "metadata": {
        "colab": {
          "base_uri": "https://localhost:8080/",
          "height": 269
        },
        "id": "v11s5y_mRnwm",
        "outputId": "e4873139-cac8-4120-bb71-8d3459e02fd6"
      },
      "source": [
        "fig, axes =plt.subplots(1,1) "
      ],
      "execution_count": 21,
      "outputs": [
        {
          "output_type": "display_data",
          "data": {
            "image/png": "[encoded data removed]",
            "text/plain": [
              "<Figure size 432x288 with 1 Axes>"
            ]
          },
          "metadata": {
            "tags": [],
            "needs_background": "light"
          }
        }
      ]
    },
    {
      "cell_type": "code",
      "metadata": {
        "colab": {
          "base_uri": "https://localhost:8080/"
        },
        "id": "X1DKmvW3RenK",
        "outputId": "248c61f1-e61e-49f8-d839-948e82f5151f"
      },
      "source": [
        "type(axes)"
      ],
      "execution_count": 22,
      "outputs": [
        {
          "output_type": "execute_result",
          "data": {
            "text/plain": [
              "matplotlib.axes._subplots.AxesSubplot"
            ]
          },
          "metadata": {
            "tags": []
          },
          "execution_count": 22
        }
      ]
    },
    {
      "cell_type": "code",
      "metadata": {
        "colab": {
          "base_uri": "https://localhost:8080/",
          "height": 269
        },
        "id": "YrqeY9clRPte",
        "outputId": "0c224b28-3139-4ead-c45b-58ff1d71086d"
      },
      "source": [
        "fig, axes =plt.subplots(2,2) "
      ],
      "execution_count": 25,
      "outputs": [
        {
          "output_type": "display_data",
          "data": {
            "image/png": "[encoded data removed]",
            "text/plain": [
              "<Figure size 432x288 with 4 Axes>"
            ]
          },
          "metadata": {
            "tags": [],
            "needs_background": "light"
          }
        }
      ]
    },
    {
      "cell_type": "code",
      "metadata": {
        "colab": {
          "base_uri": "https://localhost:8080/"
        },
        "id": "Tk656kFPRolJ",
        "outputId": "c9bb8e84-f013-4979-a36b-b530b217b1cf"
      },
      "source": [
        "type(axes) #numpy.ndarray  내부적으로 Numpy로 되어 있음 "
      ],
      "execution_count": 26,
      "outputs": [
        {
          "output_type": "execute_result",
          "data": {
            "text/plain": [
              "numpy.ndarray"
            ]
          },
          "metadata": {
            "tags": []
          },
          "execution_count": 26
        }
      ]
    },
    {
      "cell_type": "code",
      "metadata": {
        "colab": {
          "base_uri": "https://localhost:8080/"
        },
        "id": "d-PQWknvRf_N",
        "outputId": "c6dd9cd9-2163-46f6-f597-d7779c741f8f"
      },
      "source": [
        "import numpy as np\r\n",
        "np.size(axes)"
      ],
      "execution_count": 27,
      "outputs": [
        {
          "output_type": "execute_result",
          "data": {
            "text/plain": [
              "4"
            ]
          },
          "metadata": {
            "tags": []
          },
          "execution_count": 27
        }
      ]
    },
    {
      "cell_type": "code",
      "metadata": {
        "colab": {
          "base_uri": "https://localhost:8080/"
        },
        "id": "MwpbG4aYRwnZ",
        "outputId": "9cf3737b-24de-48ae-cf0d-a92bc4ca836f"
      },
      "source": [
        "axes.shape"
      ],
      "execution_count": 28,
      "outputs": [
        {
          "output_type": "execute_result",
          "data": {
            "text/plain": [
              "(2, 2)"
            ]
          },
          "metadata": {
            "tags": []
          },
          "execution_count": 28
        }
      ]
    },
    {
      "cell_type": "markdown",
      "metadata": {
        "id": "ZjOdpIbVSPRr"
      },
      "source": [
        "#### 두 방식 혼합  \r\n",
        "- state machine  & 객체지향 방식 혼합"
      ]
    },
    {
      "cell_type": "code",
      "metadata": {
        "colab": {
          "base_uri": "https://localhost:8080/",
          "height": 298
        },
        "id": "jEugW0wPRzYs",
        "outputId": "c5a252ed-8a07-4a7b-f84d-975e6cc9122d"
      },
      "source": [
        "fig, axes =plt.subplots(2,2) \r\n",
        "\r\n",
        "axes[0,1].set_title('2')  #순서 상관없이 객체 지정해서 사용\r\n",
        "axes[0,1].plot([1,2,3])\r\n",
        "\r\n",
        "axes[0,0].set_title('1')"
      ],
      "execution_count": 40,
      "outputs": [
        {
          "output_type": "execute_result",
          "data": {
            "text/plain": [
              "Text(0.5, 1.0, '1')"
            ]
          },
          "metadata": {
            "tags": []
          },
          "execution_count": 40
        },
        {
          "output_type": "display_data",
          "data": {
            "image/png": "[encoded data removed]",
            "text/plain": [
              "<Figure size 432x288 with 4 Axes>"
            ]
          },
          "metadata": {
            "tags": [],
            "needs_background": "light"
          }
        }
      ]
    },
    {
      "cell_type": "code",
      "metadata": {
        "colab": {
          "base_uri": "https://localhost:8080/",
          "height": 286
        },
        "id": "KEaD1gy9R97l",
        "outputId": "8cc176b2-11c6-4366-b52c-50c71c2354e1"
      },
      "source": [
        "plt.subplot() #out 1개"
      ],
      "execution_count": 30,
      "outputs": [
        {
          "output_type": "execute_result",
          "data": {
            "text/plain": [
              "<matplotlib.axes._subplots.AxesSubplot at 0x7faa02872198>"
            ]
          },
          "metadata": {
            "tags": []
          },
          "execution_count": 30
        },
        {
          "output_type": "display_data",
          "data": {
            "image/png": "[encoded data removed]",
            "text/plain": [
              "<Figure size 432x288 with 1 Axes>"
            ]
          },
          "metadata": {
            "tags": [],
            "needs_background": "light"
          }
        }
      ]
    },
    {
      "cell_type": "markdown",
      "metadata": {
        "id": "EfZQz3-WSab7"
      },
      "source": [
        "\r\n",
        "#### plt.subplot\r\n",
        "#### state machine 방식\r\n",
        "\r\n",
        " - 순서가 중요함"
      ]
    },
    {
      "cell_type": "markdown",
      "metadata": {
        "id": "0Y2z95F4TLTb"
      },
      "source": [
        "순서가 중요함"
      ]
    },
    {
      "cell_type": "code",
      "metadata": {
        "colab": {
          "base_uri": "https://localhost:8080/",
          "height": 304
        },
        "id": "eqIuXGgSSWoF",
        "outputId": "31e77027-c866-4411-81f1-5dc11a194b71"
      },
      "source": [
        "plt.subplot(221)   #2,2 의 1번째\r\n",
        "plt.title('1st')\r\n",
        "plt.axis('off')    #전체 축 생략\r\n",
        "\r\n",
        "plt.subplot(222)   #2,2 의 2번째\r\n",
        "plt.title('2nd')\r\n",
        "\r\n",
        "plt.subplot(223)   #2,2 의 3번째\r\n",
        "plt.tight_layout() #자동으로 간격 맞추어줌 \r\n",
        "plt.xticks([])     # x 축 생략"
      ],
      "execution_count": 38,
      "outputs": [
        {
          "output_type": "execute_result",
          "data": {
            "text/plain": [
              "([], <a list of 0 Text major ticklabel objects>)"
            ]
          },
          "metadata": {
            "tags": []
          },
          "execution_count": 38
        },
        {
          "output_type": "display_data",
          "data": {
            "image/png": "[encoded data removed]",
            "text/plain": [
              "<Figure size 432x288 with 3 Axes>"
            ]
          },
          "metadata": {
            "tags": [],
            "needs_background": "light"
          }
        }
      ]
    },
    {
      "cell_type": "markdown",
      "metadata": {
        "id": "WS9Li88VSp-w"
      },
      "source": [
        "- `__array__ , __array_interface__` 를 갖고 있는 경우 Numpy 호환 가능\r\n"
      ]
    },
    {
      "cell_type": "code",
      "metadata": {
        "colab": {
          "base_uri": "https://localhost:8080/"
        },
        "id": "Y3C68K1OSceL",
        "outputId": "1b6887d0-4f5f-467a-dda6-49149af6bcf6"
      },
      "source": [
        "dir(axes) #__array__ , __array_interface__ -> 접근 통로  "
      ],
      "execution_count": 41,
      "outputs": [
        {
          "output_type": "execute_result",
          "data": {
            "text/plain": [
              "['T',\n",
              " '__abs__',\n",
              " '__add__',\n",
              " '__and__',\n",
              " '__array__',\n",
              " '__array_finalize__',\n",
              " '__array_function__',\n",
              " '__array_interface__',\n",
              " '__array_prepare__',\n",
              " '__array_priority__',\n",
              " '__array_struct__',\n",
              " '__array_ufunc__',\n",
              " '__array_wrap__',\n",
              " '__bool__',\n",
              " '__class__',\n",
              " '__complex__',\n",
              " '__contains__',\n",
              " '__copy__',\n",
              " '__deepcopy__',\n",
              " '__delattr__',\n",
              " '__delitem__',\n",
              " '__dir__',\n",
              " '__divmod__',\n",
              " '__doc__',\n",
              " '__eq__',\n",
              " '__float__',\n",
              " '__floordiv__',\n",
              " '__format__',\n",
              " '__ge__',\n",
              " '__getattribute__',\n",
              " '__getitem__',\n",
              " '__gt__',\n",
              " '__hash__',\n",
              " '__iadd__',\n",
              " '__iand__',\n",
              " '__ifloordiv__',\n",
              " '__ilshift__',\n",
              " '__imatmul__',\n",
              " '__imod__',\n",
              " '__imul__',\n",
              " '__index__',\n",
              " '__init__',\n",
              " '__init_subclass__',\n",
              " '__int__',\n",
              " '__invert__',\n",
              " '__ior__',\n",
              " '__ipow__',\n",
              " '__irshift__',\n",
              " '__isub__',\n",
              " '__iter__',\n",
              " '__itruediv__',\n",
              " '__ixor__',\n",
              " '__le__',\n",
              " '__len__',\n",
              " '__lshift__',\n",
              " '__lt__',\n",
              " '__matmul__',\n",
              " '__mod__',\n",
              " '__mul__',\n",
              " '__ne__',\n",
              " '__neg__',\n",
              " '__new__',\n",
              " '__or__',\n",
              " '__pos__',\n",
              " '__pow__',\n",
              " '__radd__',\n",
              " '__rand__',\n",
              " '__rdivmod__',\n",
              " '__reduce__',\n",
              " '__reduce_ex__',\n",
              " '__repr__',\n",
              " '__rfloordiv__',\n",
              " '__rlshift__',\n",
              " '__rmatmul__',\n",
              " '__rmod__',\n",
              " '__rmul__',\n",
              " '__ror__',\n",
              " '__rpow__',\n",
              " '__rrshift__',\n",
              " '__rshift__',\n",
              " '__rsub__',\n",
              " '__rtruediv__',\n",
              " '__rxor__',\n",
              " '__setattr__',\n",
              " '__setitem__',\n",
              " '__setstate__',\n",
              " '__sizeof__',\n",
              " '__str__',\n",
              " '__sub__',\n",
              " '__subclasshook__',\n",
              " '__truediv__',\n",
              " '__xor__',\n",
              " 'all',\n",
              " 'any',\n",
              " 'argmax',\n",
              " 'argmin',\n",
              " 'argpartition',\n",
              " 'argsort',\n",
              " 'astype',\n",
              " 'base',\n",
              " 'byteswap',\n",
              " 'choose',\n",
              " 'clip',\n",
              " 'compress',\n",
              " 'conj',\n",
              " 'conjugate',\n",
              " 'copy',\n",
              " 'ctypes',\n",
              " 'cumprod',\n",
              " 'cumsum',\n",
              " 'data',\n",
              " 'diagonal',\n",
              " 'dot',\n",
              " 'dtype',\n",
              " 'dump',\n",
              " 'dumps',\n",
              " 'fill',\n",
              " 'flags',\n",
              " 'flat',\n",
              " 'flatten',\n",
              " 'getfield',\n",
              " 'imag',\n",
              " 'item',\n",
              " 'itemset',\n",
              " 'itemsize',\n",
              " 'max',\n",
              " 'mean',\n",
              " 'min',\n",
              " 'nbytes',\n",
              " 'ndim',\n",
              " 'newbyteorder',\n",
              " 'nonzero',\n",
              " 'partition',\n",
              " 'prod',\n",
              " 'ptp',\n",
              " 'put',\n",
              " 'ravel',\n",
              " 'real',\n",
              " 'repeat',\n",
              " 'reshape',\n",
              " 'resize',\n",
              " 'round',\n",
              " 'searchsorted',\n",
              " 'setfield',\n",
              " 'setflags',\n",
              " 'shape',\n",
              " 'size',\n",
              " 'sort',\n",
              " 'squeeze',\n",
              " 'std',\n",
              " 'strides',\n",
              " 'sum',\n",
              " 'swapaxes',\n",
              " 'take',\n",
              " 'tobytes',\n",
              " 'tofile',\n",
              " 'tolist',\n",
              " 'tostring',\n",
              " 'trace',\n",
              " 'transpose',\n",
              " 'var',\n",
              " 'view']"
            ]
          },
          "metadata": {
            "tags": []
          },
          "execution_count": 41
        }
      ]
    },
    {
      "cell_type": "markdown",
      "metadata": {
        "id": "xishv33aURSf"
      },
      "source": [
        "### train_test_split\r\n",
        "- 자주 사용하는 데이터셋 holdout 에 필요한 방법들을 구현해 놓음\r\n",
        "- numpy 기반으로 hsplit, vsplit, split을 기계학습용으로 학습데이터 holdout을 위해서 만듦\r\n",
        "\r\n",
        "> - 기계학습 목적 : 데이터로 부터 specific 문제 해결을 위해 **최적의 모델을만들고 선택하는 과정**\r\n",
        "  - hyperparameter tuning 통해서 model selection \r\n",
        "  "
      ]
    },
    {
      "cell_type": "code",
      "metadata": {
        "id": "MTZyMFHAT19e"
      },
      "source": [
        "from sklearn.model_selection import train_test_split"
      ],
      "execution_count": 44,
      "outputs": []
    },
    {
      "cell_type": "code",
      "metadata": {
        "id": "tBu8R_ybVI4e"
      },
      "source": [
        "import inspect"
      ],
      "execution_count": 45,
      "outputs": []
    },
    {
      "cell_type": "code",
      "metadata": {
        "colab": {
          "base_uri": "https://localhost:8080/"
        },
        "id": "cx6OZ9sPVJ_M",
        "outputId": "a8437ea2-a8fb-4eb3-fc34-2da0373f03e0"
      },
      "source": [
        "print(inspect.getsource(train_test_split))  # next -> lazy 기법"
      ],
      "execution_count": 47,
      "outputs": [
        {
          "output_type": "stream",
          "text": [
            "def train_test_split(*arrays, **options):\n",
            "    \"\"\"Split arrays or matrices into random train and test subsets\n",
            "\n",
            "    Quick utility that wraps input validation and\n",
            "    ``next(ShuffleSplit().split(X, y))`` and application to input data\n",
            "    into a single call for splitting (and optionally subsampling) data in a\n",
            "    oneliner.\n",
            "\n",
            "    Read more in the :ref:`User Guide <cross_validation>`.\n",
            "\n",
            "    Parameters\n",
            "    ----------\n",
            "    *arrays : sequence of indexables with same length / shape[0]\n",
            "        Allowed inputs are lists, numpy arrays, scipy-sparse\n",
            "        matrices or pandas dataframes.\n",
            "\n",
            "    test_size : float, int or None, optional (default=None)\n",
            "        If float, should be between 0.0 and 1.0 and represent the proportion\n",
            "        of the dataset to include in the test split. If int, represents the\n",
            "        absolute number of test samples. If None, the value is set to the\n",
            "        complement of the train size. If ``train_size`` is also None, it will\n",
            "        be set to 0.25.\n",
            "\n",
            "    train_size : float, int, or None, (default=None)\n",
            "        If float, should be between 0.0 and 1.0 and represent the\n",
            "        proportion of the dataset to include in the train split. If\n",
            "        int, represents the absolute number of train samples. If None,\n",
            "        the value is automatically set to the complement of the test size.\n",
            "\n",
            "    random_state : int, RandomState instance or None, optional (default=None)\n",
            "        If int, random_state is the seed used by the random number generator;\n",
            "        If RandomState instance, random_state is the random number generator;\n",
            "        If None, the random number generator is the RandomState instance used\n",
            "        by `np.random`.\n",
            "\n",
            "    shuffle : boolean, optional (default=True)\n",
            "        Whether or not to shuffle the data before splitting. If shuffle=False\n",
            "        then stratify must be None.\n",
            "\n",
            "    stratify : array-like or None (default=None)\n",
            "        If not None, data is split in a stratified fashion, using this as\n",
            "        the class labels.\n",
            "\n",
            "    Returns\n",
            "    -------\n",
            "    splitting : list, length=2 * len(arrays)\n",
            "        List containing train-test split of inputs.\n",
            "\n",
            "        .. versionadded:: 0.16\n",
            "            If the input is sparse, the output will be a\n",
            "            ``scipy.sparse.csr_matrix``. Else, output type is the same as the\n",
            "            input type.\n",
            "\n",
            "    Examples\n",
            "    --------\n",
            "    >>> import numpy as np\n",
            "    >>> from sklearn.model_selection import train_test_split\n",
            "    >>> X, y = np.arange(10).reshape((5, 2)), range(5)\n",
            "    >>> X\n",
            "    array([[0, 1],\n",
            "           [2, 3],\n",
            "           [4, 5],\n",
            "           [6, 7],\n",
            "           [8, 9]])\n",
            "    >>> list(y)\n",
            "    [0, 1, 2, 3, 4]\n",
            "\n",
            "    >>> X_train, X_test, y_train, y_test = train_test_split(\n",
            "    ...     X, y, test_size=0.33, random_state=42)\n",
            "    ...\n",
            "    >>> X_train\n",
            "    array([[4, 5],\n",
            "           [0, 1],\n",
            "           [6, 7]])\n",
            "    >>> y_train\n",
            "    [2, 0, 3]\n",
            "    >>> X_test\n",
            "    array([[2, 3],\n",
            "           [8, 9]])\n",
            "    >>> y_test\n",
            "    [1, 4]\n",
            "\n",
            "    >>> train_test_split(y, shuffle=False)\n",
            "    [[0, 1, 2], [3, 4]]\n",
            "\n",
            "    \"\"\"\n",
            "    n_arrays = len(arrays)\n",
            "    if n_arrays == 0:\n",
            "        raise ValueError(\"At least one array required as input\")\n",
            "    test_size = options.pop('test_size', None)\n",
            "    train_size = options.pop('train_size', None)\n",
            "    random_state = options.pop('random_state', None)\n",
            "    stratify = options.pop('stratify', None)\n",
            "    shuffle = options.pop('shuffle', True)\n",
            "\n",
            "    if options:\n",
            "        raise TypeError(\"Invalid parameters passed: %s\" % str(options))\n",
            "\n",
            "    arrays = indexable(*arrays)\n",
            "\n",
            "    n_samples = _num_samples(arrays[0])\n",
            "    n_train, n_test = _validate_shuffle_split(n_samples, test_size, train_size,\n",
            "                                              default_test_size=0.25)\n",
            "\n",
            "    if shuffle is False:\n",
            "        if stratify is not None:\n",
            "            raise ValueError(\n",
            "                \"Stratified train/test split is not implemented for \"\n",
            "                \"shuffle=False\")\n",
            "\n",
            "        train = np.arange(n_train)\n",
            "        test = np.arange(n_train, n_train + n_test)\n",
            "\n",
            "    else:\n",
            "        if stratify is not None:\n",
            "            CVClass = StratifiedShuffleSplit\n",
            "        else:\n",
            "            CVClass = ShuffleSplit\n",
            "\n",
            "        cv = CVClass(test_size=n_test,\n",
            "                     train_size=n_train,\n",
            "                     random_state=random_state)\n",
            "\n",
            "        train, test = next(cv.split(X=arrays[0], y=stratify))\n",
            "\n",
            "    return list(chain.from_iterable((_safe_indexing(a, train),\n",
            "                                     _safe_indexing(a, test)) for a in arrays))\n",
            "\n"
          ],
          "name": "stdout"
        }
      ]
    },
    {
      "cell_type": "code",
      "metadata": {
        "id": "I0VNlJJuVRRg"
      },
      "source": [
        "train_test_split #*arrays , **options "
      ],
      "execution_count": null,
      "outputs": []
    },
    {
      "cell_type": "code",
      "metadata": {
        "id": "NJRCQiTEVonq"
      },
      "source": [
        "a=np.arange(24).reshape(4,6)"
      ],
      "execution_count": 48,
      "outputs": []
    },
    {
      "cell_type": "code",
      "metadata": {
        "colab": {
          "base_uri": "https://localhost:8080/"
        },
        "id": "FZnQlWsVVqp6",
        "outputId": "6f28003f-0f26-4afc-b020-c8aa910b696f"
      },
      "source": [
        "a"
      ],
      "execution_count": 49,
      "outputs": [
        {
          "output_type": "execute_result",
          "data": {
            "text/plain": [
              "array([[ 0,  1,  2,  3,  4,  5],\n",
              "       [ 6,  7,  8,  9, 10, 11],\n",
              "       [12, 13, 14, 15, 16, 17],\n",
              "       [18, 19, 20, 21, 22, 23]])"
            ]
          },
          "metadata": {
            "tags": []
          },
          "execution_count": 49
        }
      ]
    },
    {
      "cell_type": "code",
      "metadata": {
        "colab": {
          "base_uri": "https://localhost:8080/"
        },
        "id": "zDpPHiQLVrPs",
        "outputId": "38f1c399-6144-4aa3-8c90-103dc90c15ee"
      },
      "source": [
        "train_test_split(a)  #len technique ->unpacking"
      ],
      "execution_count": 51,
      "outputs": [
        {
          "output_type": "execute_result",
          "data": {
            "text/plain": [
              "[array([[ 0,  1,  2,  3,  4,  5],\n",
              "        [18, 19, 20, 21, 22, 23],\n",
              "        [ 6,  7,  8,  9, 10, 11]]), array([[12, 13, 14, 15, 16, 17]])]"
            ]
          },
          "metadata": {
            "tags": []
          },
          "execution_count": 51
        }
      ]
    },
    {
      "cell_type": "markdown",
      "metadata": {
        "id": "-fS-3ZTMV3Ro"
      },
      "source": [
        "- shuffle : 데이터 순서를 랜덤하게 섞음"
      ]
    },
    {
      "cell_type": "code",
      "metadata": {
        "colab": {
          "base_uri": "https://localhost:8080/"
        },
        "id": "cR-q9jiYVssW",
        "outputId": "a48b074d-3713-41c6-eb90-fb0e39b14705"
      },
      "source": [
        "len(train_test_split(a))"
      ],
      "execution_count": 52,
      "outputs": [
        {
          "output_type": "execute_result",
          "data": {
            "text/plain": [
              "2"
            ]
          },
          "metadata": {
            "tags": []
          },
          "execution_count": 52
        }
      ]
    },
    {
      "cell_type": "code",
      "metadata": {
        "id": "dRzclRY3Vxtw"
      },
      "source": [
        "x,y = train_test_split(a)"
      ],
      "execution_count": 53,
      "outputs": []
    },
    {
      "cell_type": "code",
      "metadata": {
        "colab": {
          "base_uri": "https://localhost:8080/"
        },
        "id": "13rBS2UsVzaZ",
        "outputId": "6c1514f6-b5b1-464a-9428-ae5ade54149d"
      },
      "source": [
        "y"
      ],
      "execution_count": 54,
      "outputs": [
        {
          "output_type": "execute_result",
          "data": {
            "text/plain": [
              "array([[ 6,  7,  8,  9, 10, 11]])"
            ]
          },
          "metadata": {
            "tags": []
          },
          "execution_count": 54
        }
      ]
    },
    {
      "cell_type": "code",
      "metadata": {
        "colab": {
          "base_uri": "https://localhost:8080/"
        },
        "id": "PrplAMw7V0A2",
        "outputId": "3f8767b9-820c-44f6-fd6a-e0b79d8a9cd4"
      },
      "source": [
        "x"
      ],
      "execution_count": 55,
      "outputs": [
        {
          "output_type": "execute_result",
          "data": {
            "text/plain": [
              "array([[12, 13, 14, 15, 16, 17],\n",
              "       [ 0,  1,  2,  3,  4,  5],\n",
              "       [18, 19, 20, 21, 22, 23]])"
            ]
          },
          "metadata": {
            "tags": []
          },
          "execution_count": 55
        }
      ]
    },
    {
      "cell_type": "code",
      "metadata": {
        "colab": {
          "base_uri": "https://localhost:8080/"
        },
        "id": "yYUI3u60V0bn",
        "outputId": "406e5538-09e3-49a7-e16d-df1b4db5b712"
      },
      "source": [
        "x,y = train_test_split(a, shuffle=True)   #순서 바뀌었음\r\n",
        "x"
      ],
      "execution_count": 59,
      "outputs": [
        {
          "output_type": "execute_result",
          "data": {
            "text/plain": [
              "array([[ 6,  7,  8,  9, 10, 11],\n",
              "       [12, 13, 14, 15, 16, 17],\n",
              "       [ 0,  1,  2,  3,  4,  5]])"
            ]
          },
          "metadata": {
            "tags": []
          },
          "execution_count": 59
        }
      ]
    },
    {
      "cell_type": "code",
      "metadata": {
        "colab": {
          "base_uri": "https://localhost:8080/"
        },
        "id": "3otUBZefWHG8",
        "outputId": "0363e6bb-29f2-4fd2-ca56-b2467818f304"
      },
      "source": [
        "x,y = train_test_split(a, shuffle=False)  # 안 바뀜\r\n",
        "x"
      ],
      "execution_count": 60,
      "outputs": [
        {
          "output_type": "execute_result",
          "data": {
            "text/plain": [
              "array([[ 0,  1,  2,  3,  4,  5],\n",
              "       [ 6,  7,  8,  9, 10, 11],\n",
              "       [12, 13, 14, 15, 16, 17]])"
            ]
          },
          "metadata": {
            "tags": []
          },
          "execution_count": 60
        }
      ]
    },
    {
      "cell_type": "markdown",
      "metadata": {
        "id": "FP_VhCQLW4js"
      },
      "source": [
        "##### 2개로 쪼개는 경우"
      ]
    },
    {
      "cell_type": "code",
      "metadata": {
        "colab": {
          "base_uri": "https://localhost:8080/"
        },
        "id": "NIGYaT4HWjBa",
        "outputId": "26822d48-a43a-4f72-9c65-bb136ed5563b"
      },
      "source": [
        "train_test_split(a)"
      ],
      "execution_count": 65,
      "outputs": [
        {
          "output_type": "execute_result",
          "data": {
            "text/plain": [
              "[array([[12, 13, 14, 15, 16, 17],\n",
              "        [ 0,  1,  2,  3,  4,  5],\n",
              "        [ 6,  7,  8,  9, 10, 11]]), array([[18, 19, 20, 21, 22, 23]])]"
            ]
          },
          "metadata": {
            "tags": []
          },
          "execution_count": 65
        }
      ]
    },
    {
      "cell_type": "code",
      "metadata": {
        "colab": {
          "base_uri": "https://localhost:8080/"
        },
        "id": "dU-PexzYWq7n",
        "outputId": "a92d2dcd-94af-438e-dd65-33deca3ac491"
      },
      "source": [
        "len(train_test_split(a))"
      ],
      "execution_count": 68,
      "outputs": [
        {
          "output_type": "execute_result",
          "data": {
            "text/plain": [
              "2"
            ]
          },
          "metadata": {
            "tags": []
          },
          "execution_count": 68
        }
      ]
    },
    {
      "cell_type": "markdown",
      "metadata": {
        "id": "Hqgh7UfzWlgA"
      },
      "source": [
        "##### 4개로 쪼개는 경우"
      ]
    },
    {
      "cell_type": "code",
      "metadata": {
        "id": "fmTkcDbsWLx3"
      },
      "source": [
        "b=np.array([1,2,1,2])"
      ],
      "execution_count": 61,
      "outputs": []
    },
    {
      "cell_type": "code",
      "metadata": {
        "colab": {
          "base_uri": "https://localhost:8080/"
        },
        "id": "Bq0KxwvtWVC6",
        "outputId": "045e6b93-19d0-4e2c-9bbf-839c3d007de1"
      },
      "source": [
        "train_test_split(a, b)"
      ],
      "execution_count": 70,
      "outputs": [
        {
          "output_type": "execute_result",
          "data": {
            "text/plain": [
              "[array([[18, 19, 20, 21, 22, 23],\n",
              "        [12, 13, 14, 15, 16, 17],\n",
              "        [ 0,  1,  2,  3,  4,  5]]),\n",
              " array([[ 6,  7,  8,  9, 10, 11]]),\n",
              " array([2, 1, 1]),\n",
              " array([2])]"
            ]
          },
          "metadata": {
            "tags": []
          },
          "execution_count": 70
        }
      ]
    },
    {
      "cell_type": "code",
      "metadata": {
        "colab": {
          "base_uri": "https://localhost:8080/"
        },
        "id": "r6uwd1mZWYg9",
        "outputId": "3af81ae2-dc6f-49fc-ba31-6bf988230e5c"
      },
      "source": [
        "len( train_test_split(a, b) ) #4개  "
      ],
      "execution_count": 71,
      "outputs": [
        {
          "output_type": "execute_result",
          "data": {
            "text/plain": [
              "4"
            ]
          },
          "metadata": {
            "tags": []
          },
          "execution_count": 71
        }
      ]
    },
    {
      "cell_type": "code",
      "metadata": {
        "id": "99US-ExWWbbn"
      },
      "source": [
        "X_train,y_train, X_test,y_test =train_test_split(a, b) "
      ],
      "execution_count": 72,
      "outputs": []
    },
    {
      "cell_type": "code",
      "metadata": {
        "colab": {
          "base_uri": "https://localhost:8080/"
        },
        "id": "p4b8mGWoWsq-",
        "outputId": "00254d4c-34d9-4e98-c771-5ba60e18b810"
      },
      "source": [
        "X_train, y_train"
      ],
      "execution_count": 73,
      "outputs": [
        {
          "output_type": "execute_result",
          "data": {
            "text/plain": [
              "(array([[18, 19, 20, 21, 22, 23],\n",
              "        [12, 13, 14, 15, 16, 17],\n",
              "        [ 6,  7,  8,  9, 10, 11]]), array([[0, 1, 2, 3, 4, 5]]))"
            ]
          },
          "metadata": {
            "tags": []
          },
          "execution_count": 73
        }
      ]
    },
    {
      "cell_type": "code",
      "metadata": {
        "colab": {
          "base_uri": "https://localhost:8080/"
        },
        "id": "T1i3TWetW-G9",
        "outputId": "37a4c028-693f-4e36-bdc4-ce374b63f904"
      },
      "source": [
        "X_test,y_test"
      ],
      "execution_count": 74,
      "outputs": [
        {
          "output_type": "execute_result",
          "data": {
            "text/plain": [
              "(array([2, 1, 2]), array([1]))"
            ]
          },
          "metadata": {
            "tags": []
          },
          "execution_count": 74
        }
      ]
    },
    {
      "cell_type": "code",
      "metadata": {
        "id": "F0CM3JILXIiS"
      },
      "source": [
        "X_train,y_train, X_test,y_test =train_test_split(a, b, test_size=0.5) "
      ],
      "execution_count": 75,
      "outputs": []
    },
    {
      "cell_type": "code",
      "metadata": {
        "colab": {
          "base_uri": "https://localhost:8080/"
        },
        "id": "cFi5oGVzXK6G",
        "outputId": "f92b892d-422d-4e81-ed27-466c253b5400"
      },
      "source": [
        " X_test,y_test   #0.5 비율로 나누었음 "
      ],
      "execution_count": 76,
      "outputs": [
        {
          "output_type": "execute_result",
          "data": {
            "text/plain": [
              "(array([1, 2]), array([1, 2]))"
            ]
          },
          "metadata": {
            "tags": []
          },
          "execution_count": 76
        }
      ]
    },
    {
      "cell_type": "markdown",
      "metadata": {
        "id": "DqGz98fcXU68"
      },
      "source": [
        "stratify\r\n",
        "- y값의 비율에 맞추어 쪼개줌 "
      ]
    },
    {
      "cell_type": "code",
      "metadata": {
        "id": "3xIPRl3FXPV3"
      },
      "source": [
        "X_train,y_train, X_test,y_test = train_test_split(a, b,stratify=b,test_size=0.5)  "
      ],
      "execution_count": 80,
      "outputs": []
    },
    {
      "cell_type": "code",
      "metadata": {
        "colab": {
          "base_uri": "https://localhost:8080/"
        },
        "id": "1zo_1CvzXNLK",
        "outputId": "7e5bbac6-d1af-49da-d86b-d4ecb43b686e"
      },
      "source": [
        "X_train,y_train"
      ],
      "execution_count": 82,
      "outputs": [
        {
          "output_type": "execute_result",
          "data": {
            "text/plain": [
              "(array([[18, 19, 20, 21, 22, 23],\n",
              "        [12, 13, 14, 15, 16, 17]]), array([[ 0,  1,  2,  3,  4,  5],\n",
              "        [ 6,  7,  8,  9, 10, 11]]))"
            ]
          },
          "metadata": {
            "tags": []
          },
          "execution_count": 82
        }
      ]
    },
    {
      "cell_type": "markdown",
      "metadata": {
        "id": "xns-5HV4ZGE5"
      },
      "source": [
        "#### flat\r\n",
        "-` next() ` 사용해서 하나씩 추출 가능"
      ]
    },
    {
      "cell_type": "code",
      "metadata": {
        "colab": {
          "base_uri": "https://localhost:8080/"
        },
        "id": "qKHSqsqhYZXQ",
        "outputId": "d872983e-da6a-4470-9c50-606a8d98bddf"
      },
      "source": [
        "X_train.flat  # 메모리 번지 나오면 iter일 확률이 높음"
      ],
      "execution_count": 89,
      "outputs": [
        {
          "output_type": "execute_result",
          "data": {
            "text/plain": [
              "<numpy.flatiter at 0x62e2100>"
            ]
          },
          "metadata": {
            "tags": []
          },
          "execution_count": 89
        }
      ]
    },
    {
      "cell_type": "code",
      "metadata": {
        "colab": {
          "base_uri": "https://localhost:8080/"
        },
        "id": "U4_QXnKKYwo-",
        "outputId": "e9c3cdeb-2f3e-4746-f878-c9777443a780"
      },
      "source": [
        "dir(X_train.flat ) #__next__"
      ],
      "execution_count": 90,
      "outputs": [
        {
          "output_type": "execute_result",
          "data": {
            "text/plain": [
              "['__array__',\n",
              " '__class__',\n",
              " '__delattr__',\n",
              " '__delitem__',\n",
              " '__dir__',\n",
              " '__doc__',\n",
              " '__eq__',\n",
              " '__format__',\n",
              " '__ge__',\n",
              " '__getattribute__',\n",
              " '__getitem__',\n",
              " '__gt__',\n",
              " '__hash__',\n",
              " '__init__',\n",
              " '__init_subclass__',\n",
              " '__iter__',\n",
              " '__le__',\n",
              " '__len__',\n",
              " '__lt__',\n",
              " '__ne__',\n",
              " '__new__',\n",
              " '__next__',\n",
              " '__reduce__',\n",
              " '__reduce_ex__',\n",
              " '__repr__',\n",
              " '__setattr__',\n",
              " '__setitem__',\n",
              " '__sizeof__',\n",
              " '__str__',\n",
              " '__subclasshook__',\n",
              " 'base',\n",
              " 'coords',\n",
              " 'copy',\n",
              " 'index']"
            ]
          },
          "metadata": {
            "tags": []
          },
          "execution_count": 90
        }
      ]
    },
    {
      "cell_type": "code",
      "metadata": {
        "colab": {
          "base_uri": "https://localhost:8080/"
        },
        "id": "fulPe7pWY4zN",
        "outputId": "90dd7637-1fb7-4b76-b230-9aed293f5f3c"
      },
      "source": [
        "next(X_train.flat )"
      ],
      "execution_count": 91,
      "outputs": [
        {
          "output_type": "execute_result",
          "data": {
            "text/plain": [
              "18"
            ]
          },
          "metadata": {
            "tags": []
          },
          "execution_count": 91
        }
      ]
    },
    {
      "cell_type": "markdown",
      "metadata": {
        "id": "1cuNG26SZWA-"
      },
      "source": [
        "### copy\r\n",
        "- 다른 메모리에 값만 따로 보관\r\n",
        "- 실수를 대비한 원본 보관용\r\n",
        "\r\n",
        "### Python에서의 copy\r\n",
        "- copy = shallow copy\r\n",
        "- deepcopy =deep copy"
      ]
    },
    {
      "cell_type": "code",
      "metadata": {
        "id": "-JXm-bdOY60O"
      },
      "source": [
        "a = [1,2,3]\r\n",
        "b=a      #값 공유"
      ],
      "execution_count": 92,
      "outputs": []
    },
    {
      "cell_type": "code",
      "metadata": {
        "colab": {
          "base_uri": "https://localhost:8080/"
        },
        "id": "yRgTYst4ZxjF",
        "outputId": "49b425fb-92ce-4a4e-d22d-36160f6b64b1"
      },
      "source": [
        "b[0]=100  #b 의 0번째 값 100 변경\r\n",
        "a         #b 따라서 바뀜"
      ],
      "execution_count": 94,
      "outputs": [
        {
          "output_type": "execute_result",
          "data": {
            "text/plain": [
              "[100, 2, 3]"
            ]
          },
          "metadata": {
            "tags": []
          },
          "execution_count": 94
        }
      ]
    },
    {
      "cell_type": "code",
      "metadata": {
        "colab": {
          "base_uri": "https://localhost:8080/"
        },
        "id": "n0cXKW8iZxQz",
        "outputId": "a8dc3ad1-c102-4178-d6f8-bb7600db1c4a"
      },
      "source": [
        "a = [1,2,3]\r\n",
        "b=a.copy()  \r\n",
        "b[0]=100  #b 의 0번째 값 100 변경\r\n",
        "a "
      ],
      "execution_count": 95,
      "outputs": [
        {
          "output_type": "execute_result",
          "data": {
            "text/plain": [
              "[1, 2, 3]"
            ]
          },
          "metadata": {
            "tags": []
          },
          "execution_count": 95
        }
      ]
    },
    {
      "cell_type": "code",
      "metadata": {
        "colab": {
          "base_uri": "https://localhost:8080/"
        },
        "id": "ZamQggm_Z3c7",
        "outputId": "d2c65b8a-30db-4073-8759-4bdc8732b1da"
      },
      "source": [
        "a[:] #전체 슬라이싱    -> copy 기법"
      ],
      "execution_count": 96,
      "outputs": [
        {
          "output_type": "execute_result",
          "data": {
            "text/plain": [
              "[1, 2, 3]"
            ]
          },
          "metadata": {
            "tags": []
          },
          "execution_count": 96
        }
      ]
    },
    {
      "cell_type": "code",
      "metadata": {
        "colab": {
          "base_uri": "https://localhost:8080/"
        },
        "id": "6uoN_8hHaZEv",
        "outputId": "e690b8b3-1764-4bfc-f252-f3cbf7751522"
      },
      "source": [
        "a = [1,2,3]\r\n",
        "c=a[:] \r\n",
        "c[0]=100  #c 의 0번째 값 100 변경\r\n",
        "a "
      ],
      "execution_count": 97,
      "outputs": [
        {
          "output_type": "execute_result",
          "data": {
            "text/plain": [
              "[1, 2, 3]"
            ]
          },
          "metadata": {
            "tags": []
          },
          "execution_count": 97
        }
      ]
    },
    {
      "cell_type": "code",
      "metadata": {
        "colab": {
          "base_uri": "https://localhost:8080/"
        },
        "id": "AUo5Kw5Jagzq",
        "outputId": "3218709a-5794-45ed-e933-7b63382321c1"
      },
      "source": [
        "aa=[[1,2],[3,4]] #2차원 \r\n",
        "bb=aa.copy()\r\n",
        "bb[0][0]=100\r\n",
        "aa          # copy 했지만 바뀌었음"
      ],
      "execution_count": 101,
      "outputs": [
        {
          "output_type": "execute_result",
          "data": {
            "text/plain": [
              "[[100, 2], [3, 4]]"
            ]
          },
          "metadata": {
            "tags": []
          },
          "execution_count": 101
        }
      ]
    },
    {
      "cell_type": "markdown",
      "metadata": {
        "id": "UkCx_DKYbdCd"
      },
      "source": [
        "### deepcopy\r\n",
        "- Numpy는 기본적으로 "
      ]
    },
    {
      "cell_type": "code",
      "metadata": {
        "id": "9DJECJSaazJM"
      },
      "source": [
        "import copy "
      ],
      "execution_count": 102,
      "outputs": []
    },
    {
      "cell_type": "code",
      "metadata": {
        "colab": {
          "base_uri": "https://localhost:8080/"
        },
        "id": "kPqdqJJna2jq",
        "outputId": "8eeabd28-301d-4ed4-f82a-0ea2a9cf3aab"
      },
      "source": [
        "aa=[[1,2],[3,4]] #2차원 \r\n",
        "bb=copy.deepcopy(aa)  #deep copy\r\n",
        "bb[0][0]=100\r\n",
        "aa          # deep copy해서 변경되지 않음 "
      ],
      "execution_count": 103,
      "outputs": [
        {
          "output_type": "execute_result",
          "data": {
            "text/plain": [
              "[[1, 2], [3, 4]]"
            ]
          },
          "metadata": {
            "tags": []
          },
          "execution_count": 103
        }
      ]
    },
    {
      "cell_type": "markdown",
      "metadata": {
        "id": "znHQSKVYbzkL"
      },
      "source": [
        "### Numpy에서의 copy\r\n",
        "- Numpy에서의 copy는 python의 copy와  다름\r\n",
        "  - view()=shallow copy\r\n",
        "  - copy()=deep copy"
      ]
    },
    {
      "cell_type": "code",
      "metadata": {
        "colab": {
          "base_uri": "https://localhost:8080/"
        },
        "id": "LMb4GfgMbYAf",
        "outputId": "2f448398-3f3b-4cba-cf69-7ea8dea1481e"
      },
      "source": [
        "a=np.arange(12).reshape(3,4)\r\n",
        "b=a\r\n",
        "b[0,0]=100\r\n",
        "a          #같이 바뀌었음 "
      ],
      "execution_count": 106,
      "outputs": [
        {
          "output_type": "execute_result",
          "data": {
            "text/plain": [
              "array([[100,   1,   2,   3],\n",
              "       [  4,   5,   6,   7],\n",
              "       [  8,   9,  10,  11]])"
            ]
          },
          "metadata": {
            "tags": []
          },
          "execution_count": 106
        }
      ]
    },
    {
      "cell_type": "code",
      "metadata": {
        "colab": {
          "base_uri": "https://localhost:8080/"
        },
        "id": "uLtG5ChZbmBQ",
        "outputId": "dbc117c4-45b9-4f3c-802b-41f814bd1dd3"
      },
      "source": [
        "a=np.arange(12).reshape(3,4)\r\n",
        "b=a.copy()\r\n",
        "b[0,0]=100\r\n",
        "a          #Numpy에서는 copy해도 변경되지 않음"
      ],
      "execution_count": 107,
      "outputs": [
        {
          "output_type": "execute_result",
          "data": {
            "text/plain": [
              "array([[ 0,  1,  2,  3],\n",
              "       [ 4,  5,  6,  7],\n",
              "       [ 8,  9, 10, 11]])"
            ]
          },
          "metadata": {
            "tags": []
          },
          "execution_count": 107
        }
      ]
    },
    {
      "cell_type": "code",
      "metadata": {
        "colab": {
          "base_uri": "https://localhost:8080/"
        },
        "id": "Lr13Z0Rjbu8W",
        "outputId": "80872af7-1d26-499b-d137-248dbf5a2735"
      },
      "source": [
        "a=np.arange(12).reshape(3,4)\r\n",
        "b=a.view()\r\n",
        "b[0,0]=100\r\n",
        "a   "
      ],
      "execution_count": 108,
      "outputs": [
        {
          "output_type": "execute_result",
          "data": {
            "text/plain": [
              "array([[100,   1,   2,   3],\n",
              "       [  4,   5,   6,   7],\n",
              "       [  8,   9,  10,  11]])"
            ]
          },
          "metadata": {
            "tags": []
          },
          "execution_count": 108
        }
      ]
    },
    {
      "cell_type": "markdown",
      "metadata": {
        "id": "8R0E92MschRD"
      },
      "source": [
        "### flatten\r\n",
        "- 1차원화 함 \r\n",
        "- copy 개념"
      ]
    },
    {
      "cell_type": "code",
      "metadata": {
        "colab": {
          "base_uri": "https://localhost:8080/"
        },
        "id": "Fe2A1_7JcELY",
        "outputId": "6daec08d-7410-4a3e-c3da-48493bc30e2d"
      },
      "source": [
        "t=X_train.flatten()\r\n",
        "t[0]=100\r\n",
        "X_train"
      ],
      "execution_count": 109,
      "outputs": [
        {
          "output_type": "execute_result",
          "data": {
            "text/plain": [
              "array([[18, 19, 20, 21, 22, 23],\n",
              "       [12, 13, 14, 15, 16, 17]])"
            ]
          },
          "metadata": {
            "tags": []
          },
          "execution_count": 109
        }
      ]
    },
    {
      "cell_type": "markdown",
      "metadata": {
        "id": "xcJSeqB5c2TP"
      },
      "source": [
        "### ravel\r\n",
        "- 1차원화 함\r\n",
        "- view 개념\r\n",
        "- 원본이 중간에 변경되면 재활용 불가\r\n"
      ]
    },
    {
      "cell_type": "code",
      "metadata": {
        "id": "q8ef90BfcsKk"
      },
      "source": [
        "s=X_train.ravel()"
      ],
      "execution_count": 110,
      "outputs": []
    },
    {
      "cell_type": "code",
      "metadata": {
        "colab": {
          "base_uri": "https://localhost:8080/"
        },
        "id": "jNXofvGkct8J",
        "outputId": "9eeadef4-870c-42d3-8e2d-606f154e01dc"
      },
      "source": [
        "s[0]=100\r\n",
        "X_train"
      ],
      "execution_count": 111,
      "outputs": [
        {
          "output_type": "execute_result",
          "data": {
            "text/plain": [
              "array([[100,  19,  20,  21,  22,  23],\n",
              "       [ 12,  13,  14,  15,  16,  17]])"
            ]
          },
          "metadata": {
            "tags": []
          },
          "execution_count": 111
        }
      ]
    },
    {
      "cell_type": "markdown",
      "metadata": {
        "id": "RIRetv51YB7A"
      },
      "source": [
        "### 합치기\r\n",
        "1. append\r\n",
        "2. concatenate\r\n",
        "3. np.r_ , np.c_ \r\n",
        "4. stack\r\n",
        "\r\n",
        "#### append\r\n",
        "- 1차원으로 만들어서 한 행으로 붙임\r\n",
        "  > - `Flatten` :고차원을 1차원화\r\n",
        "- stride  내부적으로 1차원으로 되어있는데 "
      ]
    },
    {
      "cell_type": "code",
      "metadata": {
        "colab": {
          "base_uri": "https://localhost:8080/"
        },
        "id": "RRUh95eaX-zq",
        "outputId": "7e700ce2-563f-4265-b51c-01a6bd1531d5"
      },
      "source": [
        "np.append(X_train, b) #arr,values "
      ],
      "execution_count": 87,
      "outputs": [
        {
          "output_type": "execute_result",
          "data": {
            "text/plain": [
              "array([18, 19, 20, 21, 22, 23, 12, 13, 14, 15, 16, 17,  1,  2,  1,  2])"
            ]
          },
          "metadata": {
            "tags": []
          },
          "execution_count": 87
        }
      ]
    },
    {
      "cell_type": "code",
      "metadata": {
        "colab": {
          "base_uri": "https://localhost:8080/"
        },
        "id": "sI4i6bv5YRQc",
        "outputId": "7b2e8e29-2af9-45e3-8a75-3024cd9e3e42"
      },
      "source": [
        "a"
      ],
      "execution_count": 85,
      "outputs": [
        {
          "output_type": "execute_result",
          "data": {
            "text/plain": [
              "array([[ 0,  1,  2,  3,  4,  5],\n",
              "       [ 6,  7,  8,  9, 10, 11],\n",
              "       [12, 13, 14, 15, 16, 17],\n",
              "       [18, 19, 20, 21, 22, 23]])"
            ]
          },
          "metadata": {
            "tags": []
          },
          "execution_count": 85
        }
      ]
    },
    {
      "cell_type": "code",
      "metadata": {
        "colab": {
          "base_uri": "https://localhost:8080/"
        },
        "id": "LhTr7I7xYXQ2",
        "outputId": "fd27ad8a-bd16-435e-a4f2-f5fed0e68067"
      },
      "source": [
        "b"
      ],
      "execution_count": 86,
      "outputs": [
        {
          "output_type": "execute_result",
          "data": {
            "text/plain": [
              "array([1, 2, 1, 2])"
            ]
          },
          "metadata": {
            "tags": []
          },
          "execution_count": 86
        }
      ]
    },
    {
      "cell_type": "code",
      "metadata": {
        "colab": {
          "base_uri": "https://localhost:8080/"
        },
        "id": "_5g6_YtEcvti",
        "outputId": "4be49a49-ff6c-4571-a0f8-94d63c7718e4"
      },
      "source": [
        "ss= np.append(X_train,X_test)\r\n",
        "ss[0]=1\r\n",
        "ss"
      ],
      "execution_count": 114,
      "outputs": [
        {
          "output_type": "execute_result",
          "data": {
            "text/plain": [
              "array([ 1, 19, 20, 21, 22, 23, 12, 13, 14, 15, 16, 17,  2,  1])"
            ]
          },
          "metadata": {
            "tags": []
          },
          "execution_count": 114
        }
      ]
    },
    {
      "cell_type": "markdown",
      "metadata": {
        "id": "DJIheHnBdPpZ"
      },
      "source": [
        "### join"
      ]
    },
    {
      "cell_type": "code",
      "metadata": {
        "id": "akhpkB1udHnM"
      },
      "source": [
        "import pandas as pd\r\n",
        "import seaborn as sns\r\n",
        "iris= sns.load_dataset('iris')"
      ],
      "execution_count": 115,
      "outputs": []
    },
    {
      "cell_type": "code",
      "metadata": {
        "id": "jidcaAkEdatf"
      },
      "source": [
        "iris.join # SQL 방식 "
      ],
      "execution_count": null,
      "outputs": []
    },
    {
      "cell_type": "markdown",
      "metadata": {
        "id": "iYaIuG1TdhPK"
      },
      "source": [
        "### concatenate\r\n",
        "- axis 개념이 들어감"
      ]
    },
    {
      "cell_type": "markdown",
      "metadata": {
        "id": "42yVOh8sdqXx"
      },
      "source": [
        "\r\n",
        "> 들여쓴 블록\r\n",
        "\r\n"
      ]
    },
    {
      "cell_type": "code",
      "metadata": {
        "colab": {
          "base_uri": "https://localhost:8080/"
        },
        "id": "2eN0vNFVdzpo",
        "outputId": "c5c09363-c6d7-4fdd-ac78-c4946d8a03c7"
      },
      "source": [
        "a=np.arange(24).reshape(4,6)\r\n",
        "b=np.arange(24).reshape(4,6)\r\n",
        "np.concatenate(  ( a,b ),axis=0)"
      ],
      "execution_count": 119,
      "outputs": [
        {
          "output_type": "execute_result",
          "data": {
            "text/plain": [
              "array([[ 0,  1,  2,  3,  4,  5],\n",
              "       [ 6,  7,  8,  9, 10, 11],\n",
              "       [12, 13, 14, 15, 16, 17],\n",
              "       [18, 19, 20, 21, 22, 23],\n",
              "       [ 0,  1,  2,  3,  4,  5],\n",
              "       [ 6,  7,  8,  9, 10, 11],\n",
              "       [12, 13, 14, 15, 16, 17],\n",
              "       [18, 19, 20, 21, 22, 23]])"
            ]
          },
          "metadata": {
            "tags": []
          },
          "execution_count": 119
        }
      ]
    },
    {
      "cell_type": "code",
      "metadata": {
        "colab": {
          "base_uri": "https://localhost:8080/"
        },
        "id": "qXcRfMJTd1qx",
        "outputId": "7e2b86a2-c55d-4a62-80a9-884b8767d466"
      },
      "source": [
        "np.concatenate(  ( a,b ),axis=1)  "
      ],
      "execution_count": 120,
      "outputs": [
        {
          "output_type": "execute_result",
          "data": {
            "text/plain": [
              "array([[ 0,  1,  2,  3,  4,  5,  0,  1,  2,  3,  4,  5],\n",
              "       [ 6,  7,  8,  9, 10, 11,  6,  7,  8,  9, 10, 11],\n",
              "       [12, 13, 14, 15, 16, 17, 12, 13, 14, 15, 16, 17],\n",
              "       [18, 19, 20, 21, 22, 23, 18, 19, 20, 21, 22, 23]])"
            ]
          },
          "metadata": {
            "tags": []
          },
          "execution_count": 120
        }
      ]
    },
    {
      "cell_type": "code",
      "metadata": {
        "colab": {
          "base_uri": "https://localhost:8080/"
        },
        "id": "IveUGSnFeCxR",
        "outputId": "b72afb13-5667-48d2-b3f4-88f5f118859f"
      },
      "source": [
        "c=np.arange(4)\r\n",
        "d=np.arange(4)\r\n",
        "np.concatenate((c,d), axis=0)  #1"
      ],
      "execution_count": 122,
      "outputs": [
        {
          "output_type": "execute_result",
          "data": {
            "text/plain": [
              "array([0, 1, 2, 3, 0, 1, 2, 3])"
            ]
          },
          "metadata": {
            "tags": []
          },
          "execution_count": 122
        }
      ]
    },
    {
      "cell_type": "code",
      "metadata": {
        "colab": {
          "base_uri": "https://localhost:8080/",
          "height": 202
        },
        "id": "ZBiJoYomeSpI",
        "outputId": "0afed8f6-df4b-48dc-c612-2d1890327244"
      },
      "source": [
        "np.concatenate((c,d), axis=1)  #1차원에서는 axis 개념 1차원 이상 없음"
      ],
      "execution_count": 123,
      "outputs": [
        {
          "output_type": "error",
          "ename": "AxisError",
          "evalue": "ignored",
          "traceback": [
            "\u001b[0;31m---------------------------------------------------------------------------\u001b[0m",
            "\u001b[0;31mAxisError\u001b[0m                                 Traceback (most recent call last)",
            "\u001b[0;32m<ipython-input-123-4b9db90c9ee3>\u001b[0m in \u001b[0;36m<module>\u001b[0;34m()\u001b[0m\n\u001b[0;32m----> 1\u001b[0;31m \u001b[0mnp\u001b[0m\u001b[0;34m.\u001b[0m\u001b[0mconcatenate\u001b[0m\u001b[0;34m(\u001b[0m\u001b[0;34m(\u001b[0m\u001b[0mc\u001b[0m\u001b[0;34m,\u001b[0m\u001b[0md\u001b[0m\u001b[0;34m)\u001b[0m\u001b[0;34m,\u001b[0m \u001b[0maxis\u001b[0m\u001b[0;34m=\u001b[0m\u001b[0;36m1\u001b[0m\u001b[0;34m)\u001b[0m\u001b[0;34m\u001b[0m\u001b[0;34m\u001b[0m\u001b[0m\n\u001b[0m",
            "\u001b[0;32m<__array_function__ internals>\u001b[0m in \u001b[0;36mconcatenate\u001b[0;34m(*args, **kwargs)\u001b[0m\n",
            "\u001b[0;31mAxisError\u001b[0m: axis 1 is out of bounds for array of dimension 1"
          ]
        }
      ]
    },
    {
      "cell_type": "markdown",
      "metadata": {
        "id": "zaJY_jfVennh"
      },
      "source": [
        "### np.r_\r\n",
        "- indexer 방식 [] 으로 사용\r\n",
        "- rowwise"
      ]
    },
    {
      "cell_type": "code",
      "metadata": {
        "colab": {
          "base_uri": "https://localhost:8080/"
        },
        "id": "7RgihoUQegrf",
        "outputId": "55986d6d-10c3-454a-e02c-d337fc1d846d"
      },
      "source": [
        "np.r_[c,d]"
      ],
      "execution_count": 126,
      "outputs": [
        {
          "output_type": "execute_result",
          "data": {
            "text/plain": [
              "array([0, 1, 2, 3, 0, 1, 2, 3])"
            ]
          },
          "metadata": {
            "tags": []
          },
          "execution_count": 126
        }
      ]
    },
    {
      "cell_type": "code",
      "metadata": {
        "colab": {
          "base_uri": "https://localhost:8080/"
        },
        "id": "e-VRdFnweW_U",
        "outputId": "0a586f6f-04b8-4ec2-8d8a-e83ef3ef0b7e"
      },
      "source": [
        "np.append(c,d)  #상동"
      ],
      "execution_count": 124,
      "outputs": [
        {
          "output_type": "execute_result",
          "data": {
            "text/plain": [
              "array([0, 1, 2, 3, 0, 1, 2, 3])"
            ]
          },
          "metadata": {
            "tags": []
          },
          "execution_count": 124
        }
      ]
    },
    {
      "cell_type": "markdown",
      "metadata": {
        "id": "H6vfmobbevCz"
      },
      "source": [
        "### np.c_\r\n",
        "- indexer 방식 [] 으로 사용\r\n",
        "- column wise\r\n"
      ]
    },
    {
      "cell_type": "code",
      "metadata": {
        "colab": {
          "base_uri": "https://localhost:8080/"
        },
        "id": "y6rl453belJC",
        "outputId": "c4adce78-a524-4516-c5d1-55698e748513"
      },
      "source": [
        "np.c_[c,d]"
      ],
      "execution_count": 127,
      "outputs": [
        {
          "output_type": "execute_result",
          "data": {
            "text/plain": [
              "array([[0, 0],\n",
              "       [1, 1],\n",
              "       [2, 2],\n",
              "       [3, 3]])"
            ]
          },
          "metadata": {
            "tags": []
          },
          "execution_count": 127
        }
      ]
    },
    {
      "cell_type": "markdown",
      "metadata": {
        "id": "fkRUFFFLe5ib"
      },
      "source": [
        "### np.stack\r\n",
        "- axis에 따라서 합쳐지는 방향 상이"
      ]
    },
    {
      "cell_type": "code",
      "metadata": {
        "colab": {
          "base_uri": "https://localhost:8080/"
        },
        "id": "HpuZFouUetVa",
        "outputId": "8d06ecc5-198f-4926-8ff8-05bf04645ccd"
      },
      "source": [
        "np.stack((c,d))  #"
      ],
      "execution_count": 128,
      "outputs": [
        {
          "output_type": "execute_result",
          "data": {
            "text/plain": [
              "array([[0, 1, 2, 3],\n",
              "       [0, 1, 2, 3]])"
            ]
          },
          "metadata": {
            "tags": []
          },
          "execution_count": 128
        }
      ]
    },
    {
      "cell_type": "code",
      "metadata": {
        "colab": {
          "base_uri": "https://localhost:8080/"
        },
        "id": "Fbk_TUzyjcY_",
        "outputId": "abce36d0-c76b-4819-ffd0-61e639b67625"
      },
      "source": [
        "np.stack((c,d),axis=0) "
      ],
      "execution_count": 129,
      "outputs": [
        {
          "output_type": "execute_result",
          "data": {
            "text/plain": [
              "array([[0, 1, 2, 3],\n",
              "       [0, 1, 2, 3]])"
            ]
          },
          "metadata": {
            "tags": []
          },
          "execution_count": 129
        }
      ]
    },
    {
      "cell_type": "code",
      "metadata": {
        "colab": {
          "base_uri": "https://localhost:8080/"
        },
        "id": "RTmRNh5ejqdl",
        "outputId": "57fbed88-97f2-49dd-d5d8-da56999a0d54"
      },
      "source": [
        "np.stack((c,d),axis=1) "
      ],
      "execution_count": 130,
      "outputs": [
        {
          "output_type": "execute_result",
          "data": {
            "text/plain": [
              "array([[0, 0],\n",
              "       [1, 1],\n",
              "       [2, 2],\n",
              "       [3, 3]])"
            ]
          },
          "metadata": {
            "tags": []
          },
          "execution_count": 130
        }
      ]
    },
    {
      "cell_type": "code",
      "metadata": {
        "colab": {
          "base_uri": "https://localhost:8080/",
          "height": 324
        },
        "id": "yE3Z7YThjriW",
        "outputId": "6a8d4252-2bb4-44f4-977b-95906e5caf7a"
      },
      "source": [
        "np.stack((c,d),axis=2) "
      ],
      "execution_count": 131,
      "outputs": [
        {
          "output_type": "error",
          "ename": "AxisError",
          "evalue": "ignored",
          "traceback": [
            "\u001b[0;31m---------------------------------------------------------------------------\u001b[0m",
            "\u001b[0;31mAxisError\u001b[0m                                 Traceback (most recent call last)",
            "\u001b[0;32m<ipython-input-131-2e54d604f7be>\u001b[0m in \u001b[0;36m<module>\u001b[0;34m()\u001b[0m\n\u001b[0;32m----> 1\u001b[0;31m \u001b[0mnp\u001b[0m\u001b[0;34m.\u001b[0m\u001b[0mstack\u001b[0m\u001b[0;34m(\u001b[0m\u001b[0;34m(\u001b[0m\u001b[0mc\u001b[0m\u001b[0;34m,\u001b[0m\u001b[0md\u001b[0m\u001b[0;34m)\u001b[0m\u001b[0;34m,\u001b[0m\u001b[0maxis\u001b[0m\u001b[0;34m=\u001b[0m\u001b[0;36m2\u001b[0m\u001b[0;34m)\u001b[0m\u001b[0;34m\u001b[0m\u001b[0;34m\u001b[0m\u001b[0m\n\u001b[0m",
            "\u001b[0;32m<__array_function__ internals>\u001b[0m in \u001b[0;36mstack\u001b[0;34m(*args, **kwargs)\u001b[0m\n",
            "\u001b[0;32m/usr/local/lib/python3.6/dist-packages/numpy/core/shape_base.py\u001b[0m in \u001b[0;36mstack\u001b[0;34m(arrays, axis, out)\u001b[0m\n\u001b[1;32m    428\u001b[0m \u001b[0;34m\u001b[0m\u001b[0m\n\u001b[1;32m    429\u001b[0m     \u001b[0mresult_ndim\u001b[0m \u001b[0;34m=\u001b[0m \u001b[0marrays\u001b[0m\u001b[0;34m[\u001b[0m\u001b[0;36m0\u001b[0m\u001b[0;34m]\u001b[0m\u001b[0;34m.\u001b[0m\u001b[0mndim\u001b[0m \u001b[0;34m+\u001b[0m \u001b[0;36m1\u001b[0m\u001b[0;34m\u001b[0m\u001b[0;34m\u001b[0m\u001b[0m\n\u001b[0;32m--> 430\u001b[0;31m     \u001b[0maxis\u001b[0m \u001b[0;34m=\u001b[0m \u001b[0mnormalize_axis_index\u001b[0m\u001b[0;34m(\u001b[0m\u001b[0maxis\u001b[0m\u001b[0;34m,\u001b[0m \u001b[0mresult_ndim\u001b[0m\u001b[0;34m)\u001b[0m\u001b[0;34m\u001b[0m\u001b[0;34m\u001b[0m\u001b[0m\n\u001b[0m\u001b[1;32m    431\u001b[0m \u001b[0;34m\u001b[0m\u001b[0m\n\u001b[1;32m    432\u001b[0m     \u001b[0msl\u001b[0m \u001b[0;34m=\u001b[0m \u001b[0;34m(\u001b[0m\u001b[0mslice\u001b[0m\u001b[0;34m(\u001b[0m\u001b[0;32mNone\u001b[0m\u001b[0;34m)\u001b[0m\u001b[0;34m,\u001b[0m\u001b[0;34m)\u001b[0m \u001b[0;34m*\u001b[0m \u001b[0maxis\u001b[0m \u001b[0;34m+\u001b[0m \u001b[0;34m(\u001b[0m\u001b[0m_nx\u001b[0m\u001b[0;34m.\u001b[0m\u001b[0mnewaxis\u001b[0m\u001b[0;34m,\u001b[0m\u001b[0;34m)\u001b[0m\u001b[0;34m\u001b[0m\u001b[0;34m\u001b[0m\u001b[0m\n",
            "\u001b[0;31mAxisError\u001b[0m: axis 2 is out of bounds for array of dimension 2"
          ]
        }
      ]
    },
    {
      "cell_type": "code",
      "metadata": {
        "colab": {
          "base_uri": "https://localhost:8080/"
        },
        "id": "ZkDo740EjwUd",
        "outputId": "76537bff-cdf1-432b-efde-a51b1bd51ec5"
      },
      "source": [
        "np.hstack((c,d))  #차원 변화 없음"
      ],
      "execution_count": 132,
      "outputs": [
        {
          "output_type": "execute_result",
          "data": {
            "text/plain": [
              "array([0, 1, 2, 3, 0, 1, 2, 3])"
            ]
          },
          "metadata": {
            "tags": []
          },
          "execution_count": 132
        }
      ]
    },
    {
      "cell_type": "code",
      "metadata": {
        "colab": {
          "base_uri": "https://localhost:8080/"
        },
        "id": "I32a2nCEkAc5",
        "outputId": "6ed8eec6-f913-4559-fd5b-e1a55d855539"
      },
      "source": [
        "np.vstack((c,d))"
      ],
      "execution_count": 133,
      "outputs": [
        {
          "output_type": "execute_result",
          "data": {
            "text/plain": [
              "array([[0, 1, 2, 3],\n",
              "       [0, 1, 2, 3]])"
            ]
          },
          "metadata": {
            "tags": []
          },
          "execution_count": 133
        }
      ]
    },
    {
      "cell_type": "code",
      "metadata": {
        "colab": {
          "base_uri": "https://localhost:8080/"
        },
        "id": "XDTwtCIBkBtl",
        "outputId": "2f72b610-743d-42fd-c488-b0aa71d1c444"
      },
      "source": [
        "np.stack((c,d))"
      ],
      "execution_count": 136,
      "outputs": [
        {
          "output_type": "execute_result",
          "data": {
            "text/plain": [
              "array([[0, 1, 2, 3],\n",
              "       [0, 1, 2, 3]])"
            ]
          },
          "metadata": {
            "tags": []
          },
          "execution_count": 136
        }
      ]
    },
    {
      "cell_type": "code",
      "metadata": {
        "colab": {
          "base_uri": "https://localhost:8080/"
        },
        "id": "kVIK9vtaknee",
        "outputId": "f6ae9920-2218-490e-eb13-fdcf047ee8e6"
      },
      "source": [
        "np.row_stack((c,d))  #2차원"
      ],
      "execution_count": 139,
      "outputs": [
        {
          "output_type": "execute_result",
          "data": {
            "text/plain": [
              "array([[0, 1, 2, 3],\n",
              "       [0, 1, 2, 3]])"
            ]
          },
          "metadata": {
            "tags": []
          },
          "execution_count": 139
        }
      ]
    },
    {
      "cell_type": "code",
      "metadata": {
        "colab": {
          "base_uri": "https://localhost:8080/"
        },
        "id": "1WIWHg0EkNS4",
        "outputId": "522f245b-b4a6-4a64-d26d-1611051a2863"
      },
      "source": [
        "np.dstack((c,d))  #차원으로 붙임"
      ],
      "execution_count": 137,
      "outputs": [
        {
          "output_type": "execute_result",
          "data": {
            "text/plain": [
              "array([[[0, 0],\n",
              "        [1, 1],\n",
              "        [2, 2],\n",
              "        [3, 3]]])"
            ]
          },
          "metadata": {
            "tags": []
          },
          "execution_count": 137
        }
      ]
    },
    {
      "cell_type": "code",
      "metadata": {
        "colab": {
          "base_uri": "https://localhost:8080/"
        },
        "id": "tuZ5KOf5kXld",
        "outputId": "e10936aa-6c16-4ba9-c82e-16ed462910b7"
      },
      "source": [
        "np.column_stack((c,d)) #2차원"
      ],
      "execution_count": 138,
      "outputs": [
        {
          "output_type": "execute_result",
          "data": {
            "text/plain": [
              "array([[0, 0],\n",
              "       [1, 1],\n",
              "       [2, 2],\n",
              "       [3, 3]])"
            ]
          },
          "metadata": {
            "tags": []
          },
          "execution_count": 138
        }
      ]
    },
    {
      "cell_type": "markdown",
      "metadata": {
        "id": "-pMA2RZDkyDM"
      },
      "source": [
        "#### 데이터 구축\r\n",
        "- 구축된 데이터를 형태는 알고리즘 따라서 차원 조작\r\n",
        "  - 전통적 머신러닝 2차원\r\n",
        "  - ocnvolution layer 3차원\r\n",
        "\r\n",
        "axis 개념, flatten, ravel 1차원화 , reshape \r\n",
        "\r\n",
        "### reshape\r\n",
        "- 데이터를 원하는 형태로 조작\r\n",
        "- immutable로 변하지 않음 \r\n",
        "- 원소크기 주의\r\n",
        "\r\n",
        "\r\n",
        "##### mutable 3가지 유형의 return\r\n",
        "1. 자신은 변함, return 없음 \r\n",
        "2. 자신은 변함, return 있음\r\n",
        "  - pop \r\n",
        "3. 자신은 무변, return 있음 (일반적)"
      ]
    },
    {
      "cell_type": "code",
      "metadata": {
        "colab": {
          "base_uri": "https://localhost:8080/"
        },
        "id": "qR1Kgx1akoqE",
        "outputId": "a95e6722-e542-4f4d-a70a-46e7b5c24ae1"
      },
      "source": [
        "a=np.arange(12)\r\n",
        "a.reshape(3,4)  #order =\"C\" -> "
      ],
      "execution_count": 179,
      "outputs": [
        {
          "output_type": "execute_result",
          "data": {
            "text/plain": [
              "array([[ 0,  1,  2,  3],\n",
              "       [ 4,  5,  6,  7],\n",
              "       [ 8,  9, 10, 11]])"
            ]
          },
          "metadata": {
            "tags": []
          },
          "execution_count": 179
        }
      ]
    },
    {
      "cell_type": "code",
      "metadata": {
        "colab": {
          "base_uri": "https://localhost:8080/"
        },
        "id": "91KWW-hYkrPi",
        "outputId": "e7c44202-121e-426d-c725-91435278b421"
      },
      "source": [
        "a.reshape((3,4) ) # 예외적으로 shape에 ( ) 없이 사용 가능"
      ],
      "execution_count": 180,
      "outputs": [
        {
          "output_type": "execute_result",
          "data": {
            "text/plain": [
              "array([[ 0,  1,  2,  3],\n",
              "       [ 4,  5,  6,  7],\n",
              "       [ 8,  9, 10, 11]])"
            ]
          },
          "metadata": {
            "tags": []
          },
          "execution_count": 180
        }
      ]
    },
    {
      "cell_type": "code",
      "metadata": {
        "colab": {
          "base_uri": "https://localhost:8080/"
        },
        "id": "vtJL5BzUmwR-",
        "outputId": "b9439cb2-39df-49e1-e7c6-c010193abde5"
      },
      "source": [
        "a         #무변"
      ],
      "execution_count": 181,
      "outputs": [
        {
          "output_type": "execute_result",
          "data": {
            "text/plain": [
              "array([ 0,  1,  2,  3,  4,  5,  6,  7,  8,  9, 10, 11])"
            ]
          },
          "metadata": {
            "tags": []
          },
          "execution_count": 181
        }
      ]
    },
    {
      "cell_type": "markdown",
      "metadata": {
        "id": "Y9JtKuBgp3b2"
      },
      "source": [
        "##### -1 technique\r\n",
        "- indexing 에서는 거꾸로 하기 위해\r\n",
        "- 자동으로 대치해줌 "
      ]
    },
    {
      "cell_type": "code",
      "metadata": {
        "colab": {
          "base_uri": "https://localhost:8080/"
        },
        "id": "PRGi20o2pp57",
        "outputId": "50117a41-5549-424f-d6e2-f3ece6347932"
      },
      "source": [
        "a.reshape(3,-1)  #알아서 바꾸어줌  "
      ],
      "execution_count": 183,
      "outputs": [
        {
          "output_type": "execute_result",
          "data": {
            "text/plain": [
              "array([[ 0,  1,  2,  3],\n",
              "       [ 4,  5,  6,  7],\n",
              "       [ 8,  9, 10, 11]])"
            ]
          },
          "metadata": {
            "tags": []
          },
          "execution_count": 183
        }
      ]
    },
    {
      "cell_type": "code",
      "metadata": {
        "id": "SlRxYJsFppNK"
      },
      "source": [
        "from sklearn.model_selection import cross_val_score\r\n",
        "cross_val_score(n_jobs=-1) # 전체 cpu 사용"
      ],
      "execution_count": 182,
      "outputs": []
    },
    {
      "cell_type": "code",
      "metadata": {
        "colab": {
          "base_uri": "https://localhost:8080/"
        },
        "id": "2CDCHjkrnDc4",
        "outputId": "09395241-15fa-4a27-fd26-c8f91db2fd51"
      },
      "source": [
        "#1. 변함, return 없음\r\n",
        "a=[1,2,3,4]\r\n",
        "a.append(5) \r\n",
        "a"
      ],
      "execution_count": 147,
      "outputs": [
        {
          "output_type": "execute_result",
          "data": {
            "text/plain": [
              "[1, 2, 3, 4, 5]"
            ]
          },
          "metadata": {
            "tags": []
          },
          "execution_count": 147
        }
      ]
    },
    {
      "cell_type": "code",
      "metadata": {
        "colab": {
          "base_uri": "https://localhost:8080/"
        },
        "id": "n4mjK8BpnLwB",
        "outputId": "781dce53-f9d7-47f9-b8e6-1561c441d527"
      },
      "source": [
        "#2.자신은 변함, return 있음\r\n",
        "a.pop()"
      ],
      "execution_count": 150,
      "outputs": [
        {
          "output_type": "execute_result",
          "data": {
            "text/plain": [
              "5"
            ]
          },
          "metadata": {
            "tags": []
          },
          "execution_count": 150
        }
      ]
    },
    {
      "cell_type": "code",
      "metadata": {
        "colab": {
          "base_uri": "https://localhost:8080/"
        },
        "id": "YBPWVM7bnb73",
        "outputId": "d776884e-ce42-459d-e8f9-e6fdf704a1db"
      },
      "source": [
        "a"
      ],
      "execution_count": 151,
      "outputs": [
        {
          "output_type": "execute_result",
          "data": {
            "text/plain": [
              "[1, 2, 3, 4]"
            ]
          },
          "metadata": {
            "tags": []
          },
          "execution_count": 151
        }
      ]
    },
    {
      "cell_type": "code",
      "metadata": {
        "colab": {
          "base_uri": "https://localhost:8080/"
        },
        "id": "Ix44oL2HnLkW",
        "outputId": "2e5796d7-2027-4491-eadb-6337126549ce"
      },
      "source": [
        "#3.자신은 무변, return 있음\r\n",
        "a.index(1)"
      ],
      "execution_count": 152,
      "outputs": [
        {
          "output_type": "execute_result",
          "data": {
            "text/plain": [
              "0"
            ]
          },
          "metadata": {
            "tags": []
          },
          "execution_count": 152
        }
      ]
    },
    {
      "cell_type": "code",
      "metadata": {
        "colab": {
          "base_uri": "https://localhost:8080/"
        },
        "id": "cXM5A95LnLnF",
        "outputId": "a149773f-3046-4f56-de83-3d53b56bdaeb"
      },
      "source": [
        "a"
      ],
      "execution_count": 153,
      "outputs": [
        {
          "output_type": "execute_result",
          "data": {
            "text/plain": [
              "[1, 2, 3, 4]"
            ]
          },
          "metadata": {
            "tags": []
          },
          "execution_count": 153
        }
      ]
    },
    {
      "cell_type": "code",
      "metadata": {
        "colab": {
          "base_uri": "https://localhost:8080/"
        },
        "id": "gsi0U5gPnclG",
        "outputId": "e9389be3-0fdf-462a-8dbf-a3dc887435ad"
      },
      "source": [
        "a=np.arange(12).reshape(3,4) #reassignment(재할당) technique\r\n",
        "a"
      ],
      "execution_count": 155,
      "outputs": [
        {
          "output_type": "execute_result",
          "data": {
            "text/plain": [
              "array([[ 0,  1,  2,  3],\n",
              "       [ 4,  5,  6,  7],\n",
              "       [ 8,  9, 10, 11]])"
            ]
          },
          "metadata": {
            "tags": []
          },
          "execution_count": 155
        }
      ]
    },
    {
      "cell_type": "markdown",
      "metadata": {
        "id": "N1g08AmRoCB3"
      },
      "source": [
        "### resize \r\n",
        "- 리턴 없이 변함\r\n",
        "- 원소 갯수 상관 없이 사이즈 바꿈, \r\n",
        "  - 원소갯수보다 크기가 더 큰 경우 0으로 채움"
      ]
    },
    {
      "cell_type": "code",
      "metadata": {
        "id": "sJjqYDZBn3UD"
      },
      "source": [
        "a.resize(3,4) #리턴 없음"
      ],
      "execution_count": 162,
      "outputs": []
    },
    {
      "cell_type": "code",
      "metadata": {
        "colab": {
          "base_uri": "https://localhost:8080/"
        },
        "id": "TX027lPVo-WU",
        "outputId": "441eec22-ebd8-4136-8f97-3ebc193bcfb5"
      },
      "source": [
        "a=np.arange(12)\r\n",
        "a.resize(2,20)  #zero-padding  :0으로 채움\r\n",
        "a"
      ],
      "execution_count": 171,
      "outputs": [
        {
          "output_type": "execute_result",
          "data": {
            "text/plain": [
              "array([[ 0,  1,  2,  3,  4,  5,  6,  7,  8,  9, 10, 11,  0,  0,  0,  0,\n",
              "         0,  0,  0,  0],\n",
              "       [ 0,  0,  0,  0,  0,  0,  0,  0,  0,  0,  0,  0,  0,  0,  0,  0,\n",
              "         0,  0,  0,  0]])"
            ]
          },
          "metadata": {
            "tags": []
          },
          "execution_count": 171
        }
      ]
    },
    {
      "cell_type": "code",
      "metadata": {
        "colab": {
          "base_uri": "https://localhost:8080/"
        },
        "id": "k8RzIEpYoA16",
        "outputId": "5823134f-26fe-41ae-ce72-fa448467e814"
      },
      "source": [
        "a.shape"
      ],
      "execution_count": 160,
      "outputs": [
        {
          "output_type": "execute_result",
          "data": {
            "text/plain": [
              "(3, 4)"
            ]
          },
          "metadata": {
            "tags": []
          },
          "execution_count": 160
        }
      ]
    },
    {
      "cell_type": "code",
      "metadata": {
        "colab": {
          "base_uri": "https://localhost:8080/"
        },
        "id": "OGWRz__xoOFH",
        "outputId": "299d5fb0-0e06-44b8-e0e7-e58d0e32623d"
      },
      "source": [
        "import this "
      ],
      "execution_count": 163,
      "outputs": [
        {
          "output_type": "stream",
          "text": [
            "The Zen of Python, by Tim Peters\n",
            "\n",
            "Beautiful is better than ugly.\n",
            "Explicit is better than implicit.\n",
            "Simple is better than complex.\n",
            "Complex is better than complicated.\n",
            "Flat is better than nested.\n",
            "Sparse is better than dense.\n",
            "Readability counts.\n",
            "Special cases aren't special enough to break the rules.\n",
            "Although practicality beats purity.\n",
            "Errors should never pass silently.\n",
            "Unless explicitly silenced.\n",
            "In the face of ambiguity, refuse the temptation to guess.\n",
            "There should be one-- and preferably only one --obvious way to do it.\n",
            "Although that way may not be obvious at first unless you're Dutch.\n",
            "Now is better than never.\n",
            "Although never is often better than *right* now.\n",
            "If the implementation is hard to explain, it's a bad idea.\n",
            "If the implementation is easy to explain, it may be a good idea.\n",
            "Namespaces are one honking great idea -- let's do more of those!\n"
          ],
          "name": "stdout"
        }
      ]
    },
    {
      "cell_type": "code",
      "metadata": {
        "colab": {
          "base_uri": "https://localhost:8080/"
        },
        "id": "cwKIboDcok50",
        "outputId": "adf6ccac-8b01-48fe-f640-3b70a52ec64f"
      },
      "source": [
        "a"
      ],
      "execution_count": 164,
      "outputs": [
        {
          "output_type": "execute_result",
          "data": {
            "text/plain": [
              "array([[ 0,  1,  2,  3],\n",
              "       [ 4,  5,  6,  7],\n",
              "       [ 8,  9, 10, 11]])"
            ]
          },
          "metadata": {
            "tags": []
          },
          "execution_count": 164
        }
      ]
    },
    {
      "cell_type": "markdown",
      "metadata": {
        "id": "ISM8WPMrrO3c"
      },
      "source": [
        "### 차원\r\n",
        "  > - 오캄의 면도날 :간단할 수록 좋음\r\n",
        "- 머신러닝에서 차원 줄이려는게 일반적 \r\n",
        "- SVM :kernel trick으로 차원을 증가해서 구분 kernel\r\n",
        "\r\n",
        "\r\n",
        "### reshape\r\n"
      ]
    },
    {
      "cell_type": "code",
      "metadata": {
        "colab": {
          "base_uri": "https://localhost:8080/"
        },
        "id": "DDg1ZG66qcdD",
        "outputId": "58b039bf-ca55-4a2c-b19e-6065e45c10ee"
      },
      "source": [
        "a.reshape(1,12) #모양 유지한채로 차원 증가함"
      ],
      "execution_count": 185,
      "outputs": [
        {
          "output_type": "execute_result",
          "data": {
            "text/plain": [
              "array([[ 0,  1,  2,  3,  4,  5,  6,  7,  8,  9, 10, 11]])"
            ]
          },
          "metadata": {
            "tags": []
          },
          "execution_count": 185
        }
      ]
    },
    {
      "cell_type": "markdown",
      "metadata": {
        "id": "0ruygDR8r5rQ"
      },
      "source": [
        "#### np.expand_dims\r\n",
        "- axis에 따라서 차원 증가\r\n",
        "  - axis=0인 경우를 많이 사용할 예정\r\n",
        "- 자주 쓰기때문에 단축 표현 있음\r\n"
      ]
    },
    {
      "cell_type": "code",
      "metadata": {
        "colab": {
          "base_uri": "https://localhost:8080/"
        },
        "id": "apxjnuh8o-ee",
        "outputId": "66d06384-a6f3-419f-ab42-8fda681b2aa1"
      },
      "source": [
        "a=np.arange(24).reshape(4,6)\r\n",
        "np.expand_dims(a, 0)  # 차원 증가"
      ],
      "execution_count": 188,
      "outputs": [
        {
          "output_type": "execute_result",
          "data": {
            "text/plain": [
              "array([[[ 0,  1,  2,  3,  4,  5],\n",
              "        [ 6,  7,  8,  9, 10, 11],\n",
              "        [12, 13, 14, 15, 16, 17],\n",
              "        [18, 19, 20, 21, 22, 23]]])"
            ]
          },
          "metadata": {
            "tags": []
          },
          "execution_count": 188
        }
      ]
    },
    {
      "cell_type": "code",
      "metadata": {
        "colab": {
          "base_uri": "https://localhost:8080/"
        },
        "id": "oYq639r_sDR9",
        "outputId": "1c143b85-76d1-40dc-9a69-cc3ee23044e9"
      },
      "source": [
        "np.expand_dims(a, 0).shape  #4x6 1개 있다."
      ],
      "execution_count": 191,
      "outputs": [
        {
          "output_type": "execute_result",
          "data": {
            "text/plain": [
              "(1, 4, 6)"
            ]
          },
          "metadata": {
            "tags": []
          },
          "execution_count": 191
        }
      ]
    },
    {
      "cell_type": "code",
      "metadata": {
        "colab": {
          "base_uri": "https://localhost:8080/"
        },
        "id": "-ypl2sivruQt",
        "outputId": "393243cf-6298-4f1d-b0d7-a7d2576ad464"
      },
      "source": [
        "np.expand_dims(a, 1)"
      ],
      "execution_count": 189,
      "outputs": [
        {
          "output_type": "execute_result",
          "data": {
            "text/plain": [
              "array([[[ 0,  1,  2,  3,  4,  5]],\n",
              "\n",
              "       [[ 6,  7,  8,  9, 10, 11]],\n",
              "\n",
              "       [[12, 13, 14, 15, 16, 17]],\n",
              "\n",
              "       [[18, 19, 20, 21, 22, 23]]])"
            ]
          },
          "metadata": {
            "tags": []
          },
          "execution_count": 189
        }
      ]
    },
    {
      "cell_type": "code",
      "metadata": {
        "colab": {
          "base_uri": "https://localhost:8080/"
        },
        "id": "Wnhdlh8rsE6o",
        "outputId": "d56c3227-2c13-4b2e-85dd-113e0d2b4ab1"
      },
      "source": [
        "np.expand_dims(a, 1).shape #1x6 이 4개있다."
      ],
      "execution_count": 192,
      "outputs": [
        {
          "output_type": "execute_result",
          "data": {
            "text/plain": [
              "(4, 1, 6)"
            ]
          },
          "metadata": {
            "tags": []
          },
          "execution_count": 192
        }
      ]
    },
    {
      "cell_type": "code",
      "metadata": {
        "colab": {
          "base_uri": "https://localhost:8080/"
        },
        "id": "XEB5o1Uar-Qm",
        "outputId": "bcbf6c92-8b97-4c23-b94e-592714ca8f0e"
      },
      "source": [
        "np.expand_dims(a, 2)"
      ],
      "execution_count": 190,
      "outputs": [
        {
          "output_type": "execute_result",
          "data": {
            "text/plain": [
              "array([[[ 0],\n",
              "        [ 1],\n",
              "        [ 2],\n",
              "        [ 3],\n",
              "        [ 4],\n",
              "        [ 5]],\n",
              "\n",
              "       [[ 6],\n",
              "        [ 7],\n",
              "        [ 8],\n",
              "        [ 9],\n",
              "        [10],\n",
              "        [11]],\n",
              "\n",
              "       [[12],\n",
              "        [13],\n",
              "        [14],\n",
              "        [15],\n",
              "        [16],\n",
              "        [17]],\n",
              "\n",
              "       [[18],\n",
              "        [19],\n",
              "        [20],\n",
              "        [21],\n",
              "        [22],\n",
              "        [23]]])"
            ]
          },
          "metadata": {
            "tags": []
          },
          "execution_count": 190
        }
      ]
    },
    {
      "cell_type": "code",
      "metadata": {
        "colab": {
          "base_uri": "https://localhost:8080/"
        },
        "id": "_IfZSiBxr_Ju",
        "outputId": "e103c3df-e26b-48f0-8e10-48cc65696452"
      },
      "source": [
        "np.expand_dims(a, 2).shape #6x1 4개 있다."
      ],
      "execution_count": 193,
      "outputs": [
        {
          "output_type": "execute_result",
          "data": {
            "text/plain": [
              "(4, 6, 1)"
            ]
          },
          "metadata": {
            "tags": []
          },
          "execution_count": 193
        }
      ]
    },
    {
      "cell_type": "markdown",
      "metadata": {
        "id": "IhFpRELf0eu1"
      },
      "source": [
        "### newaxis\r\n",
        "- 간단하게  차원 추가"
      ]
    },
    {
      "cell_type": "code",
      "metadata": {
        "id": "_5fRBK1asH07"
      },
      "source": [
        "[tf.newaxis] # 5분 연습 15분 휴식"
      ],
      "execution_count": null,
      "outputs": []
    },
    {
      "cell_type": "code",
      "metadata": {
        "colab": {
          "base_uri": "https://localhost:8080/"
        },
        "id": "ZuspjdLpsnQj",
        "outputId": "824bd0b6-a180-4e75-c28e-94b0c7bfbca4"
      },
      "source": [
        "import tensorflow as tf\r\n",
        "tf.expand_dims  #텐서플로우에도 존재함. "
      ],
      "execution_count": 194,
      "outputs": [
        {
          "output_type": "execute_result",
          "data": {
            "text/plain": [
              "<function tensorflow.python.ops.array_ops.expand_dims_v2>"
            ]
          },
          "metadata": {
            "tags": []
          },
          "execution_count": 194
        }
      ]
    },
    {
      "cell_type": "code",
      "metadata": {
        "id": "zwMNY9MGsqYs"
      },
      "source": [
        "[...,tf.newaxis]"
      ],
      "execution_count": null,
      "outputs": []
    },
    {
      "cell_type": "code",
      "metadata": {
        "colab": {
          "base_uri": "https://localhost:8080/"
        },
        "id": "kqEFgI7Lyc2i",
        "outputId": "700837bd-20c5-479a-f5ef-94c1b897b064"
      },
      "source": [
        "a[np.newaxis]  #axis=0에 차원 추가 됨 "
      ],
      "execution_count": 195,
      "outputs": [
        {
          "output_type": "execute_result",
          "data": {
            "text/plain": [
              "array([[[ 0,  1,  2,  3,  4,  5],\n",
              "        [ 6,  7,  8,  9, 10, 11],\n",
              "        [12, 13, 14, 15, 16, 17],\n",
              "        [18, 19, 20, 21, 22, 23]]])"
            ]
          },
          "metadata": {
            "tags": []
          },
          "execution_count": 195
        }
      ]
    },
    {
      "cell_type": "code",
      "metadata": {
        "colab": {
          "base_uri": "https://localhost:8080/"
        },
        "id": "EF7nRLJoyh7L",
        "outputId": "214879c9-398f-4761-881a-9964b3c2b609"
      },
      "source": [
        "a"
      ],
      "execution_count": 196,
      "outputs": [
        {
          "output_type": "execute_result",
          "data": {
            "text/plain": [
              "array([[ 0,  1,  2,  3,  4,  5],\n",
              "       [ 6,  7,  8,  9, 10, 11],\n",
              "       [12, 13, 14, 15, 16, 17],\n",
              "       [18, 19, 20, 21, 22, 23]])"
            ]
          },
          "metadata": {
            "tags": []
          },
          "execution_count": 196
        }
      ]
    },
    {
      "cell_type": "code",
      "metadata": {
        "colab": {
          "base_uri": "https://localhost:8080/"
        },
        "id": "oHwGHjX7yx1E",
        "outputId": "97656339-b2eb-4a6c-884a-83ce1ef45c44"
      },
      "source": [
        "np.newaxis is None # None  "
      ],
      "execution_count": 201,
      "outputs": [
        {
          "output_type": "execute_result",
          "data": {
            "text/plain": [
              "True"
            ]
          },
          "metadata": {
            "tags": []
          },
          "execution_count": 201
        }
      ]
    },
    {
      "cell_type": "code",
      "metadata": {
        "colab": {
          "base_uri": "https://localhost:8080/"
        },
        "id": "PrQN-0kHy6qP",
        "outputId": "b76ce0bc-60b1-4a1a-8a14-e3e3f24a26df"
      },
      "source": [
        "tf.newaxis is None"
      ],
      "execution_count": 200,
      "outputs": [
        {
          "output_type": "execute_result",
          "data": {
            "text/plain": [
              "True"
            ]
          },
          "metadata": {
            "tags": []
          },
          "execution_count": 200
        }
      ]
    },
    {
      "cell_type": "code",
      "metadata": {
        "colab": {
          "base_uri": "https://localhost:8080/"
        },
        "id": "wHpMNeL3y8qf",
        "outputId": "765a3355-7339-4d38-dd3a-e6cacb91ebd6"
      },
      "source": [
        "a[None] #뜻이 모호하기 때문에 newaxis 생성해서 명확히함"
      ],
      "execution_count": 202,
      "outputs": [
        {
          "output_type": "execute_result",
          "data": {
            "text/plain": [
              "array([[[ 0,  1,  2,  3,  4,  5],\n",
              "        [ 6,  7,  8,  9, 10, 11],\n",
              "        [12, 13, 14, 15, 16, 17],\n",
              "        [18, 19, 20, 21, 22, 23]]])"
            ]
          },
          "metadata": {
            "tags": []
          },
          "execution_count": 202
        }
      ]
    },
    {
      "cell_type": "code",
      "metadata": {
        "colab": {
          "base_uri": "https://localhost:8080/"
        },
        "id": "KfL6Pl4vyiw9",
        "outputId": "ba00d085-2ba7-41a5-fdcc-20d448c6ef60"
      },
      "source": [
        "a[np.newaxis]     #axis=0에 차원 추가\r\n",
        "a[np.newaxis,:]\r\n",
        "a[np.newaxis,...]  "
      ],
      "execution_count": 197,
      "outputs": [
        {
          "output_type": "execute_result",
          "data": {
            "text/plain": [
              "array([[[ 0,  1,  2,  3,  4,  5],\n",
              "        [ 6,  7,  8,  9, 10, 11],\n",
              "        [12, 13, 14, 15, 16, 17],\n",
              "        [18, 19, 20, 21, 22, 23]]])"
            ]
          },
          "metadata": {
            "tags": []
          },
          "execution_count": 197
        }
      ]
    },
    {
      "cell_type": "code",
      "metadata": {
        "colab": {
          "base_uri": "https://localhost:8080/"
        },
        "id": "XVQceonizmB3",
        "outputId": "2e1567dc-fa5a-41bd-a6bf-41d015406853"
      },
      "source": [
        "a[:,np.newaxis]  #axis=1에 차원 추가\r\n",
        "a[:,np.newaxis,:]\r\n",
        "a[:,np.newaxis,...]"
      ],
      "execution_count": 204,
      "outputs": [
        {
          "output_type": "execute_result",
          "data": {
            "text/plain": [
              "array([[[ 0,  1,  2,  3,  4,  5]],\n",
              "\n",
              "       [[ 6,  7,  8,  9, 10, 11]],\n",
              "\n",
              "       [[12, 13, 14, 15, 16, 17]],\n",
              "\n",
              "       [[18, 19, 20, 21, 22, 23]]])"
            ]
          },
          "metadata": {
            "tags": []
          },
          "execution_count": 204
        }
      ]
    },
    {
      "cell_type": "code",
      "metadata": {
        "colab": {
          "base_uri": "https://localhost:8080/"
        },
        "id": "PYeb21G2zrYB",
        "outputId": "81535e81-e005-4b58-be58-558601430c49"
      },
      "source": [
        "a[:,:, np.newaxis]  #axis=2 에 차원 추가\r\n",
        "a[ ... , np.newaxis]"
      ],
      "execution_count": 207,
      "outputs": [
        {
          "output_type": "execute_result",
          "data": {
            "text/plain": [
              "array([[[ 0],\n",
              "        [ 1],\n",
              "        [ 2],\n",
              "        [ 3],\n",
              "        [ 4],\n",
              "        [ 5]],\n",
              "\n",
              "       [[ 6],\n",
              "        [ 7],\n",
              "        [ 8],\n",
              "        [ 9],\n",
              "        [10],\n",
              "        [11]],\n",
              "\n",
              "       [[12],\n",
              "        [13],\n",
              "        [14],\n",
              "        [15],\n",
              "        [16],\n",
              "        [17]],\n",
              "\n",
              "       [[18],\n",
              "        [19],\n",
              "        [20],\n",
              "        [21],\n",
              "        [22],\n",
              "        [23]]])"
            ]
          },
          "metadata": {
            "tags": []
          },
          "execution_count": 207
        }
      ]
    },
    {
      "cell_type": "markdown",
      "metadata": {
        "id": "TAXtVFHS07Pf"
      },
      "source": [
        "### moveaxis"
      ]
    },
    {
      "cell_type": "code",
      "metadata": {
        "colab": {
          "base_uri": "https://localhost:8080/"
        },
        "id": "xcEyoAPAzyZF",
        "outputId": "e8314636-72bb-4f30-d4aa-37a521169bb4"
      },
      "source": [
        "np.moveaxis(a, -1, -0) #axis 이동 시킴"
      ],
      "execution_count": 208,
      "outputs": [
        {
          "output_type": "execute_result",
          "data": {
            "text/plain": [
              "array([[ 0,  6, 12, 18],\n",
              "       [ 1,  7, 13, 19],\n",
              "       [ 2,  8, 14, 20],\n",
              "       [ 3,  9, 15, 21],\n",
              "       [ 4, 10, 16, 22],\n",
              "       [ 5, 11, 17, 23]])"
            ]
          },
          "metadata": {
            "tags": []
          },
          "execution_count": 208
        }
      ]
    },
    {
      "cell_type": "code",
      "metadata": {
        "colab": {
          "base_uri": "https://localhost:8080/"
        },
        "id": "UgyCwCyA0_mv",
        "outputId": "4a665f27-de57-4a25-d594-6f28bdfad4a0"
      },
      "source": [
        "np.swapaxes(a ,1,0) # 각 axes swapping"
      ],
      "execution_count": 209,
      "outputs": [
        {
          "output_type": "execute_result",
          "data": {
            "text/plain": [
              "array([[ 0,  6, 12, 18],\n",
              "       [ 1,  7, 13, 19],\n",
              "       [ 2,  8, 14, 20],\n",
              "       [ 3,  9, 15, 21],\n",
              "       [ 4, 10, 16, 22],\n",
              "       [ 5, 11, 17, 23]])"
            ]
          },
          "metadata": {
            "tags": []
          },
          "execution_count": 209
        }
      ]
    },
    {
      "cell_type": "code",
      "metadata": {
        "colab": {
          "base_uri": "https://localhost:8080/"
        },
        "id": "In9a8dXQ1E8U",
        "outputId": "9fe695c4-6cc2-4bdc-a255-63ca0610f541"
      },
      "source": [
        "np.transpose(a) #전치 행렬"
      ],
      "execution_count": 210,
      "outputs": [
        {
          "output_type": "execute_result",
          "data": {
            "text/plain": [
              "array([[ 0,  6, 12, 18],\n",
              "       [ 1,  7, 13, 19],\n",
              "       [ 2,  8, 14, 20],\n",
              "       [ 3,  9, 15, 21],\n",
              "       [ 4, 10, 16, 22],\n",
              "       [ 5, 11, 17, 23]])"
            ]
          },
          "metadata": {
            "tags": []
          },
          "execution_count": 210
        }
      ]
    },
    {
      "cell_type": "code",
      "metadata": {
        "colab": {
          "base_uri": "https://localhost:8080/"
        },
        "id": "in2uBOFJ1KFx",
        "outputId": "1aa8d485-d29e-4743-e87b-e5b8fc322922"
      },
      "source": [
        "a.T"
      ],
      "execution_count": 211,
      "outputs": [
        {
          "output_type": "execute_result",
          "data": {
            "text/plain": [
              "array([[ 0,  6, 12, 18],\n",
              "       [ 1,  7, 13, 19],\n",
              "       [ 2,  8, 14, 20],\n",
              "       [ 3,  9, 15, 21],\n",
              "       [ 4, 10, 16, 22],\n",
              "       [ 5, 11, 17, 23]])"
            ]
          },
          "metadata": {
            "tags": []
          },
          "execution_count": 211
        }
      ]
    },
    {
      "cell_type": "markdown",
      "metadata": {
        "id": "l3ztkVOx1Or8"
      },
      "source": [
        "### tile \r\n",
        "- 행렬을 월하는 형태로 반복함"
      ]
    },
    {
      "cell_type": "code",
      "metadata": {
        "colab": {
          "base_uri": "https://localhost:8080/"
        },
        "id": "JECJuH-41YQE",
        "outputId": "b31dc36c-b4a0-4fe0-94f5-a8a104a0e841"
      },
      "source": [
        "a"
      ],
      "execution_count": 212,
      "outputs": [
        {
          "output_type": "execute_result",
          "data": {
            "text/plain": [
              "array([[ 0,  1,  2,  3,  4,  5],\n",
              "       [ 6,  7,  8,  9, 10, 11],\n",
              "       [12, 13, 14, 15, 16, 17],\n",
              "       [18, 19, 20, 21, 22, 23]])"
            ]
          },
          "metadata": {
            "tags": []
          },
          "execution_count": 212
        }
      ]
    },
    {
      "cell_type": "code",
      "metadata": {
        "colab": {
          "base_uri": "https://localhost:8080/"
        },
        "id": "A48TIfpe1Kie",
        "outputId": "bdb35e33-ea97-49db-cc15-63dc251a97f6"
      },
      "source": [
        "np.tile(a,(2,1))  #행에 2개 , 열에 1개"
      ],
      "execution_count": 213,
      "outputs": [
        {
          "output_type": "execute_result",
          "data": {
            "text/plain": [
              "array([[ 0,  1,  2,  3,  4,  5],\n",
              "       [ 6,  7,  8,  9, 10, 11],\n",
              "       [12, 13, 14, 15, 16, 17],\n",
              "       [18, 19, 20, 21, 22, 23],\n",
              "       [ 0,  1,  2,  3,  4,  5],\n",
              "       [ 6,  7,  8,  9, 10, 11],\n",
              "       [12, 13, 14, 15, 16, 17],\n",
              "       [18, 19, 20, 21, 22, 23]])"
            ]
          },
          "metadata": {
            "tags": []
          },
          "execution_count": 213
        }
      ]
    },
    {
      "cell_type": "code",
      "metadata": {
        "colab": {
          "base_uri": "https://localhost:8080/"
        },
        "id": "WGE-_6Rf1aw3",
        "outputId": "28157412-38a9-44ba-e096-31e047996f24"
      },
      "source": [
        " np.tile(a,(2,2))"
      ],
      "execution_count": 214,
      "outputs": [
        {
          "output_type": "execute_result",
          "data": {
            "text/plain": [
              "array([[ 0,  1,  2,  3,  4,  5,  0,  1,  2,  3,  4,  5],\n",
              "       [ 6,  7,  8,  9, 10, 11,  6,  7,  8,  9, 10, 11],\n",
              "       [12, 13, 14, 15, 16, 17, 12, 13, 14, 15, 16, 17],\n",
              "       [18, 19, 20, 21, 22, 23, 18, 19, 20, 21, 22, 23],\n",
              "       [ 0,  1,  2,  3,  4,  5,  0,  1,  2,  3,  4,  5],\n",
              "       [ 6,  7,  8,  9, 10, 11,  6,  7,  8,  9, 10, 11],\n",
              "       [12, 13, 14, 15, 16, 17, 12, 13, 14, 15, 16, 17],\n",
              "       [18, 19, 20, 21, 22, 23, 18, 19, 20, 21, 22, 23]])"
            ]
          },
          "metadata": {
            "tags": []
          },
          "execution_count": 214
        }
      ]
    },
    {
      "cell_type": "markdown",
      "metadata": {
        "id": "xbAdipHe1quy"
      },
      "source": [
        "### repeat\r\n",
        "- 각 원소를 원하는 횟수만큼 반복"
      ]
    },
    {
      "cell_type": "code",
      "metadata": {
        "colab": {
          "base_uri": "https://localhost:8080/"
        },
        "id": "IQSgEwXR1jzc",
        "outputId": "7d195836-7038-4806-901e-0b5752409acd"
      },
      "source": [
        "np.repeat(a, 3)"
      ],
      "execution_count": 215,
      "outputs": [
        {
          "output_type": "execute_result",
          "data": {
            "text/plain": [
              "array([ 0,  0,  0,  1,  1,  1,  2,  2,  2,  3,  3,  3,  4,  4,  4,  5,  5,\n",
              "        5,  6,  6,  6,  7,  7,  7,  8,  8,  8,  9,  9,  9, 10, 10, 10, 11,\n",
              "       11, 11, 12, 12, 12, 13, 13, 13, 14, 14, 14, 15, 15, 15, 16, 16, 16,\n",
              "       17, 17, 17, 18, 18, 18, 19, 19, 19, 20, 20, 20, 21, 21, 21, 22, 22,\n",
              "       22, 23, 23, 23])"
            ]
          },
          "metadata": {
            "tags": []
          },
          "execution_count": 215
        }
      ]
    },
    {
      "cell_type": "markdown",
      "metadata": {
        "id": "k2nd6rrU2GZD"
      },
      "source": [
        "### np.einsum\r\n",
        "- 논문에서 자주 사용됨\r\n",
        "- domain specific/mini language 특정 규칙에 의해 사용  \r\n",
        "- 아인슈타인이 vector, matrix 에사용한 방법 흉내내서 **텐서 연산** \r\n",
        "- 간략하고 최적화되어 있음\r\n",
        "-  pytorch , tensorflow, numpy 등의 프레임워크에 최적화 되어 있음\r\n"
      ]
    },
    {
      "cell_type": "code",
      "metadata": {
        "colab": {
          "base_uri": "https://localhost:8080/"
        },
        "id": "ws_iM3El1pcA",
        "outputId": "5f0291db-0e30-4929-e625-3abe13410a18"
      },
      "source": [
        "print('%.2{}'.format('3')) #문자열 포맷 규칙 "
      ],
      "execution_count": 216,
      "outputs": [
        {
          "output_type": "stream",
          "text": [
            "%.23\n"
          ],
          "name": "stdout"
        }
      ]
    },
    {
      "cell_type": "code",
      "metadata": {
        "colab": {
          "base_uri": "https://localhost:8080/"
        },
        "id": "xLJc_-5q3LAU",
        "outputId": "1d788bd4-0ea0-46ba-fbae-8807fdea3c7a"
      },
      "source": [
        "print('%s'.format('3'))  #규칙이 숨어있음 -> mini language"
      ],
      "execution_count": 217,
      "outputs": [
        {
          "output_type": "stream",
          "text": [
            "%s\n"
          ],
          "name": "stdout"
        }
      ]
    },
    {
      "cell_type": "code",
      "metadata": {
        "colab": {
          "base_uri": "https://localhost:8080/"
        },
        "id": "Dee94YC53Ljz",
        "outputId": "2b99363c-169a-45db-a47f-841d7ed3dc6f"
      },
      "source": [
        "print('{}'.format('3'))"
      ],
      "execution_count": 218,
      "outputs": [
        {
          "output_type": "stream",
          "text": [
            "3\n"
          ],
          "name": "stdout"
        }
      ]
    },
    {
      "cell_type": "code",
      "metadata": {
        "colab": {
          "base_uri": "https://localhost:8080/"
        },
        "id": "3eZL14em3L1d",
        "outputId": "43f85e93-9bd4-4bc9-cf89-d7c247de7012"
      },
      "source": [
        "print('{0:<10}'.format('3'))"
      ],
      "execution_count": 219,
      "outputs": [
        {
          "output_type": "stream",
          "text": [
            "3         \n"
          ],
          "name": "stdout"
        }
      ]
    },
    {
      "cell_type": "code",
      "metadata": {
        "colab": {
          "base_uri": "https://localhost:8080/"
        },
        "id": "AHKbi-Po3m7q",
        "outputId": "e9e941b3-3f99-4677-d783-024f6e1b1286"
      },
      "source": [
        "print('{0:-<10}'.format('3'))"
      ],
      "execution_count": 220,
      "outputs": [
        {
          "output_type": "stream",
          "text": [
            "3---------\n"
          ],
          "name": "stdout"
        }
      ]
    },
    {
      "cell_type": "markdown",
      "metadata": {
        "id": "VAPqwWEg4MH3"
      },
      "source": [
        "- 첫 인자 문자열로 규칙\r\n",
        "- -> return 값 차원 지정"
      ]
    },
    {
      "cell_type": "code",
      "metadata": {
        "id": "eMwqoWbW4M7N"
      },
      "source": [
        "x=np.array([1,2,3])\r\n",
        "y=np.array([1,2,3])"
      ],
      "execution_count": 223,
      "outputs": []
    },
    {
      "cell_type": "code",
      "metadata": {
        "colab": {
          "base_uri": "https://localhost:8080/"
        },
        "id": "vBBtTB_I4gjK",
        "outputId": "93b61c52-a069-44b6-bdeb-5af802a2b893"
      },
      "source": [
        "np.einsum(\"i\",x) #그대로 나옴 "
      ],
      "execution_count": 225,
      "outputs": [
        {
          "output_type": "execute_result",
          "data": {
            "text/plain": [
              "array([1, 2, 3])"
            ]
          },
          "metadata": {
            "tags": []
          },
          "execution_count": 225
        }
      ]
    },
    {
      "cell_type": "code",
      "metadata": {
        "colab": {
          "base_uri": "https://localhost:8080/"
        },
        "id": "ou2dal7S4lqg",
        "outputId": "007b715b-8845-4189-a3bb-9727503be00c"
      },
      "source": [
        "np.einsum(\"j\",x)"
      ],
      "execution_count": 227,
      "outputs": [
        {
          "output_type": "execute_result",
          "data": {
            "text/plain": [
              "array([1, 2, 3])"
            ]
          },
          "metadata": {
            "tags": []
          },
          "execution_count": 227
        }
      ]
    },
    {
      "cell_type": "code",
      "metadata": {
        "colab": {
          "base_uri": "https://localhost:8080/",
          "height": 334
        },
        "id": "8x5jk-gd4uSz",
        "outputId": "85662d50-587d-4304-edb0-20a400884bc0"
      },
      "source": [
        "np.einsum(\"kk\",x) #차원에 맞지 않음"
      ],
      "execution_count": 229,
      "outputs": [
        {
          "output_type": "error",
          "ename": "ValueError",
          "evalue": "ignored",
          "traceback": [
            "\u001b[0;31m---------------------------------------------------------------------------\u001b[0m",
            "\u001b[0;31mValueError\u001b[0m                                Traceback (most recent call last)",
            "\u001b[0;32m<ipython-input-229-7ba186293407>\u001b[0m in \u001b[0;36m<module>\u001b[0;34m()\u001b[0m\n\u001b[0;32m----> 1\u001b[0;31m \u001b[0mnp\u001b[0m\u001b[0;34m.\u001b[0m\u001b[0meinsum\u001b[0m\u001b[0;34m(\u001b[0m\u001b[0;34m\"kk\"\u001b[0m\u001b[0;34m,\u001b[0m\u001b[0mx\u001b[0m\u001b[0;34m)\u001b[0m\u001b[0;34m\u001b[0m\u001b[0;34m\u001b[0m\u001b[0m\n\u001b[0m",
            "\u001b[0;32m<__array_function__ internals>\u001b[0m in \u001b[0;36meinsum\u001b[0;34m(*args, **kwargs)\u001b[0m\n",
            "\u001b[0;32m/usr/local/lib/python3.6/dist-packages/numpy/core/einsumfunc.py\u001b[0m in \u001b[0;36meinsum\u001b[0;34m(out, optimize, *operands, **kwargs)\u001b[0m\n\u001b[1;32m   1348\u001b[0m         \u001b[0;32mif\u001b[0m \u001b[0mspecified_out\u001b[0m\u001b[0;34m:\u001b[0m\u001b[0;34m\u001b[0m\u001b[0;34m\u001b[0m\u001b[0m\n\u001b[1;32m   1349\u001b[0m             \u001b[0mkwargs\u001b[0m\u001b[0;34m[\u001b[0m\u001b[0;34m'out'\u001b[0m\u001b[0;34m]\u001b[0m \u001b[0;34m=\u001b[0m \u001b[0mout\u001b[0m\u001b[0;34m\u001b[0m\u001b[0;34m\u001b[0m\u001b[0m\n\u001b[0;32m-> 1350\u001b[0;31m         \u001b[0;32mreturn\u001b[0m \u001b[0mc_einsum\u001b[0m\u001b[0;34m(\u001b[0m\u001b[0;34m*\u001b[0m\u001b[0moperands\u001b[0m\u001b[0;34m,\u001b[0m \u001b[0;34m**\u001b[0m\u001b[0mkwargs\u001b[0m\u001b[0;34m)\u001b[0m\u001b[0;34m\u001b[0m\u001b[0;34m\u001b[0m\u001b[0m\n\u001b[0m\u001b[1;32m   1351\u001b[0m \u001b[0;34m\u001b[0m\u001b[0m\n\u001b[1;32m   1352\u001b[0m     \u001b[0;31m# Check the kwargs to avoid a more cryptic error later, without having to\u001b[0m\u001b[0;34m\u001b[0m\u001b[0;34m\u001b[0m\u001b[0;34m\u001b[0m\u001b[0m\n",
            "\u001b[0;31mValueError\u001b[0m: einstein sum subscripts string contains too many subscripts for operand 0"
          ]
        }
      ]
    },
    {
      "cell_type": "code",
      "metadata": {
        "id": "D-UsWCo-4yKQ"
      },
      "source": [
        "xx=np.arange(4).reshape(2,2)\r\n",
        "yy=np.arange(4,8).reshape(2,2)"
      ],
      "execution_count": 234,
      "outputs": []
    },
    {
      "cell_type": "code",
      "metadata": {
        "colab": {
          "base_uri": "https://localhost:8080/"
        },
        "id": "ElDSTrwa474L",
        "outputId": "f22f1f71-fe31-46aa-8164-fc54e47ee904"
      },
      "source": [
        "np.einsum('kk',xx) #대각원소의 합"
      ],
      "execution_count": 232,
      "outputs": [
        {
          "output_type": "execute_result",
          "data": {
            "text/plain": [
              "3"
            ]
          },
          "metadata": {
            "tags": []
          },
          "execution_count": 232
        }
      ]
    },
    {
      "cell_type": "code",
      "metadata": {
        "colab": {
          "base_uri": "https://localhost:8080/"
        },
        "id": "0t6-Rbox5FtV",
        "outputId": "52e08458-6d82-4bea-bacd-4f02663a4f73"
      },
      "source": [
        "np.einsum('kk',yy) "
      ],
      "execution_count": 235,
      "outputs": [
        {
          "output_type": "execute_result",
          "data": {
            "text/plain": [
              "11"
            ]
          },
          "metadata": {
            "tags": []
          },
          "execution_count": 235
        }
      ]
    },
    {
      "cell_type": "code",
      "metadata": {
        "colab": {
          "base_uri": "https://localhost:8080/"
        },
        "id": "Iq32NuzU5wB1",
        "outputId": "0327d9b6-eb38-47ac-d5c5-e5a336f7c7c6"
      },
      "source": [
        "np.einsum('kk->',yy)  #대각원소의 합"
      ],
      "execution_count": 238,
      "outputs": [
        {
          "output_type": "execute_result",
          "data": {
            "text/plain": [
              "11"
            ]
          },
          "metadata": {
            "tags": []
          },
          "execution_count": 238
        }
      ]
    },
    {
      "cell_type": "code",
      "metadata": {
        "colab": {
          "base_uri": "https://localhost:8080/"
        },
        "id": "0rk39Gzv4-R3",
        "outputId": "500632ce-a48b-4abd-f61a-e61594fedce2"
      },
      "source": [
        "np.einsum('ik',xx) #그대로"
      ],
      "execution_count": 233,
      "outputs": [
        {
          "output_type": "execute_result",
          "data": {
            "text/plain": [
              "array([[0, 1],\n",
              "       [2, 3]])"
            ]
          },
          "metadata": {
            "tags": []
          },
          "execution_count": 233
        }
      ]
    },
    {
      "cell_type": "code",
      "metadata": {
        "colab": {
          "base_uri": "https://localhost:8080/"
        },
        "id": "rG_wP7qO5Oeg",
        "outputId": "d370629d-b3ef-41eb-c276-19914e4f0eb3"
      },
      "source": [
        "np.einsum('ik->',xx) #전체 원소의 합"
      ],
      "execution_count": 236,
      "outputs": [
        {
          "output_type": "execute_result",
          "data": {
            "text/plain": [
              "6"
            ]
          },
          "metadata": {
            "tags": []
          },
          "execution_count": 236
        }
      ]
    },
    {
      "cell_type": "code",
      "metadata": {
        "colab": {
          "base_uri": "https://localhost:8080/"
        },
        "id": "yVl4Fgqg5kMx",
        "outputId": "330d361d-9453-41d7-fd9c-f4299f619c9d"
      },
      "source": [
        "np.sum(xx)"
      ],
      "execution_count": 237,
      "outputs": [
        {
          "output_type": "execute_result",
          "data": {
            "text/plain": [
              "6"
            ]
          },
          "metadata": {
            "tags": []
          },
          "execution_count": 237
        }
      ]
    },
    {
      "cell_type": "code",
      "metadata": {
        "id": "8XuwxiYW5neW"
      },
      "source": [
        "z= np.arange(24).reshape(2,3,4) #3차원"
      ],
      "execution_count": 239,
      "outputs": []
    },
    {
      "cell_type": "code",
      "metadata": {
        "colab": {
          "base_uri": "https://localhost:8080/"
        },
        "id": "gALPyvhF6EB0",
        "outputId": "90b2ab35-cd01-4134-c083-7f095e16211f"
      },
      "source": [
        "np.einsum('ijk->',z) #3차원을 0차원 결과값"
      ],
      "execution_count": 240,
      "outputs": [
        {
          "output_type": "execute_result",
          "data": {
            "text/plain": [
              "276"
            ]
          },
          "metadata": {
            "tags": []
          },
          "execution_count": 240
        }
      ]
    },
    {
      "cell_type": "code",
      "metadata": {
        "colab": {
          "base_uri": "https://localhost:8080/"
        },
        "id": "oyU28Dw_6G_b",
        "outputId": "956aa889-0256-4e4a-f047-4d715aace481"
      },
      "source": [
        "np.sum(z)"
      ],
      "execution_count": 242,
      "outputs": [
        {
          "output_type": "execute_result",
          "data": {
            "text/plain": [
              "276"
            ]
          },
          "metadata": {
            "tags": []
          },
          "execution_count": 242
        }
      ]
    },
    {
      "cell_type": "markdown",
      "metadata": {
        "id": "tInFIilH6sMP"
      },
      "source": [
        "axis의 개념처람 사용 가능"
      ]
    },
    {
      "cell_type": "code",
      "metadata": {
        "colab": {
          "base_uri": "https://localhost:8080/"
        },
        "id": "9wjfUhaW6H-R",
        "outputId": "75ef7e32-6019-4eb1-9abd-fd99fb1bfe61"
      },
      "source": [
        "np.einsum('ik->i',xx)  #각 행의 합"
      ],
      "execution_count": 243,
      "outputs": [
        {
          "output_type": "execute_result",
          "data": {
            "text/plain": [
              "array([1, 5])"
            ]
          },
          "metadata": {
            "tags": []
          },
          "execution_count": 243
        }
      ]
    },
    {
      "cell_type": "code",
      "metadata": {
        "colab": {
          "base_uri": "https://localhost:8080/"
        },
        "id": "2RhWyAUf6ZyE",
        "outputId": "c5a4aaba-7ea7-4001-a5d7-85e46e591519"
      },
      "source": [
        "np.einsum('ik->k',xx) #각 열의 합"
      ],
      "execution_count": 245,
      "outputs": [
        {
          "output_type": "execute_result",
          "data": {
            "text/plain": [
              "array([2, 4])"
            ]
          },
          "metadata": {
            "tags": []
          },
          "execution_count": 245
        }
      ]
    },
    {
      "cell_type": "code",
      "metadata": {
        "colab": {
          "base_uri": "https://localhost:8080/"
        },
        "id": "8aS9clRg6cLI",
        "outputId": "1c17c00e-2d4f-4185-ee11-30ff18e5fde7"
      },
      "source": [
        "np.einsum('kk->k',xx) #대각 원소 "
      ],
      "execution_count": 246,
      "outputs": [
        {
          "output_type": "execute_result",
          "data": {
            "text/plain": [
              "array([0, 3])"
            ]
          },
          "metadata": {
            "tags": []
          },
          "execution_count": 246
        }
      ]
    },
    {
      "cell_type": "code",
      "metadata": {
        "colab": {
          "base_uri": "https://localhost:8080/"
        },
        "id": "IzxToXSI6x2P",
        "outputId": "bb715a9c-f47b-4e28-c50b-2a22eaf73a1b"
      },
      "source": [
        "np.einsum('kk->',xx) # 대각 원소 합"
      ],
      "execution_count": 247,
      "outputs": [
        {
          "output_type": "execute_result",
          "data": {
            "text/plain": [
              "3"
            ]
          },
          "metadata": {
            "tags": []
          },
          "execution_count": 247
        }
      ]
    },
    {
      "cell_type": "code",
      "metadata": {
        "colab": {
          "base_uri": "https://localhost:8080/"
        },
        "id": "Umju70SN7BYc",
        "outputId": "4e33813e-a27f-4be3-ad42-c5e2f1ce5a7f"
      },
      "source": [
        "np.einsum('ik->ki',xx)  #전치"
      ],
      "execution_count": 249,
      "outputs": [
        {
          "output_type": "execute_result",
          "data": {
            "text/plain": [
              "array([[0, 2],\n",
              "       [1, 3]])"
            ]
          },
          "metadata": {
            "tags": []
          },
          "execution_count": 249
        }
      ]
    },
    {
      "cell_type": "code",
      "metadata": {
        "colab": {
          "base_uri": "https://localhost:8080/"
        },
        "id": "CoAVR3qg7KKi",
        "outputId": "7cdd3797-1e7e-4f25-adb5-60b800a1e9c9"
      },
      "source": [
        "zz = np.arange(6).reshape(1,2,3)\r\n",
        "np.einsum('abc->ab',zz)"
      ],
      "execution_count": 251,
      "outputs": [
        {
          "output_type": "execute_result",
          "data": {
            "text/plain": [
              "array([[ 3, 12]])"
            ]
          },
          "metadata": {
            "tags": []
          },
          "execution_count": 251
        }
      ]
    },
    {
      "cell_type": "code",
      "metadata": {
        "colab": {
          "base_uri": "https://localhost:8080/"
        },
        "id": "Z5r-6DPD7itE",
        "outputId": "f7ac9794-e915-4eb0-9078-4364335d52a2"
      },
      "source": [
        "zz"
      ],
      "execution_count": 252,
      "outputs": [
        {
          "output_type": "execute_result",
          "data": {
            "text/plain": [
              "array([[[0, 1, 2],\n",
              "        [3, 4, 5]]])"
            ]
          },
          "metadata": {
            "tags": []
          },
          "execution_count": 252
        }
      ]
    },
    {
      "cell_type": "code",
      "metadata": {
        "colab": {
          "base_uri": "https://localhost:8080/"
        },
        "id": "ALL4Sj987pHw",
        "outputId": "d737be46-885e-4440-de0c-d62231670a00"
      },
      "source": [
        "np.sum(zz,axis=0)"
      ],
      "execution_count": 253,
      "outputs": [
        {
          "output_type": "execute_result",
          "data": {
            "text/plain": [
              "array([[0, 1, 2],\n",
              "       [3, 4, 5]])"
            ]
          },
          "metadata": {
            "tags": []
          },
          "execution_count": 253
        }
      ]
    },
    {
      "cell_type": "code",
      "metadata": {
        "colab": {
          "base_uri": "https://localhost:8080/"
        },
        "id": "8V5XLV7m7rU-",
        "outputId": "81ff434f-69bf-4df5-aee3-26710b964739"
      },
      "source": [
        "np.einsum('abc->ac',zz)"
      ],
      "execution_count": 254,
      "outputs": [
        {
          "output_type": "execute_result",
          "data": {
            "text/plain": [
              "array([[3, 5, 7]])"
            ]
          },
          "metadata": {
            "tags": []
          },
          "execution_count": 254
        }
      ]
    },
    {
      "cell_type": "code",
      "metadata": {
        "colab": {
          "base_uri": "https://localhost:8080/"
        },
        "id": "LCWMn25e7vI_",
        "outputId": "972bc735-92e7-4f5c-f565-cdc3e1abc1ff"
      },
      "source": [
        "np.sum(zz,axis=1)"
      ],
      "execution_count": 255,
      "outputs": [
        {
          "output_type": "execute_result",
          "data": {
            "text/plain": [
              "array([[3, 5, 7]])"
            ]
          },
          "metadata": {
            "tags": []
          },
          "execution_count": 255
        }
      ]
    },
    {
      "cell_type": "code",
      "metadata": {
        "colab": {
          "base_uri": "https://localhost:8080/"
        },
        "id": "5wJ4bOQL7xS7",
        "outputId": "0303e931-82dd-4092-efa0-5ebcd51a49bd"
      },
      "source": [
        "np.einsum('abc->bc',zz) #3차원에서 2차원으로 변경됨 "
      ],
      "execution_count": 256,
      "outputs": [
        {
          "output_type": "execute_result",
          "data": {
            "text/plain": [
              "array([[0, 1, 2],\n",
              "       [3, 4, 5]])"
            ]
          },
          "metadata": {
            "tags": []
          },
          "execution_count": 256
        }
      ]
    },
    {
      "cell_type": "markdown",
      "metadata": {
        "id": "6MLTtyJN8A-t"
      },
      "source": [
        "다른 벡터/매트릭스 간의 행렬곱과 합"
      ]
    },
    {
      "cell_type": "code",
      "metadata": {
        "colab": {
          "base_uri": "https://localhost:8080/"
        },
        "id": "jo9TLgRU70W7",
        "outputId": "1c89de2e-4729-4341-f9fd-0ba3a6f01dcf"
      },
      "source": [
        "zz"
      ],
      "execution_count": 258,
      "outputs": [
        {
          "output_type": "execute_result",
          "data": {
            "text/plain": [
              "array([[[0, 1, 2],\n",
              "        [3, 4, 5]]])"
            ]
          },
          "metadata": {
            "tags": []
          },
          "execution_count": 258
        }
      ]
    },
    {
      "cell_type": "code",
      "metadata": {
        "colab": {
          "base_uri": "https://localhost:8080/",
          "height": 334
        },
        "id": "l6ZsMqKm8JNY",
        "outputId": "30a12833-181d-430a-b384-7b8d95a2c4e6"
      },
      "source": [
        "np.einsum('ij,ij->',zz,zz)"
      ],
      "execution_count": 264,
      "outputs": [
        {
          "output_type": "error",
          "ename": "ValueError",
          "evalue": "ignored",
          "traceback": [
            "\u001b[0;31m---------------------------------------------------------------------------\u001b[0m",
            "\u001b[0;31mValueError\u001b[0m                                Traceback (most recent call last)",
            "\u001b[0;32m<ipython-input-264-378a7eaf89a0>\u001b[0m in \u001b[0;36m<module>\u001b[0;34m()\u001b[0m\n\u001b[0;32m----> 1\u001b[0;31m \u001b[0mnp\u001b[0m\u001b[0;34m.\u001b[0m\u001b[0meinsum\u001b[0m\u001b[0;34m(\u001b[0m\u001b[0;34m'ij,ij->'\u001b[0m\u001b[0;34m,\u001b[0m\u001b[0mzz\u001b[0m\u001b[0;34m,\u001b[0m\u001b[0mzz\u001b[0m\u001b[0;34m)\u001b[0m\u001b[0;34m\u001b[0m\u001b[0;34m\u001b[0m\u001b[0m\n\u001b[0m",
            "\u001b[0;32m<__array_function__ internals>\u001b[0m in \u001b[0;36meinsum\u001b[0;34m(*args, **kwargs)\u001b[0m\n",
            "\u001b[0;32m/usr/local/lib/python3.6/dist-packages/numpy/core/einsumfunc.py\u001b[0m in \u001b[0;36meinsum\u001b[0;34m(out, optimize, *operands, **kwargs)\u001b[0m\n\u001b[1;32m   1348\u001b[0m         \u001b[0;32mif\u001b[0m \u001b[0mspecified_out\u001b[0m\u001b[0;34m:\u001b[0m\u001b[0;34m\u001b[0m\u001b[0;34m\u001b[0m\u001b[0m\n\u001b[1;32m   1349\u001b[0m             \u001b[0mkwargs\u001b[0m\u001b[0;34m[\u001b[0m\u001b[0;34m'out'\u001b[0m\u001b[0;34m]\u001b[0m \u001b[0;34m=\u001b[0m \u001b[0mout\u001b[0m\u001b[0;34m\u001b[0m\u001b[0;34m\u001b[0m\u001b[0m\n\u001b[0;32m-> 1350\u001b[0;31m         \u001b[0;32mreturn\u001b[0m \u001b[0mc_einsum\u001b[0m\u001b[0;34m(\u001b[0m\u001b[0;34m*\u001b[0m\u001b[0moperands\u001b[0m\u001b[0;34m,\u001b[0m \u001b[0;34m**\u001b[0m\u001b[0mkwargs\u001b[0m\u001b[0;34m)\u001b[0m\u001b[0;34m\u001b[0m\u001b[0;34m\u001b[0m\u001b[0m\n\u001b[0m\u001b[1;32m   1351\u001b[0m \u001b[0;34m\u001b[0m\u001b[0m\n\u001b[1;32m   1352\u001b[0m     \u001b[0;31m# Check the kwargs to avoid a more cryptic error later, without having to\u001b[0m\u001b[0;34m\u001b[0m\u001b[0;34m\u001b[0m\u001b[0;34m\u001b[0m\u001b[0m\n",
            "\u001b[0;31mValueError\u001b[0m: operand has more dimensions than subscripts given in einstein sum, but no '...' ellipsis provided to broadcast the extra dimensions."
          ]
        }
      ]
    },
    {
      "cell_type": "code",
      "metadata": {
        "colab": {
          "base_uri": "https://localhost:8080/"
        },
        "id": "7Xny-9iL8Ujb",
        "outputId": "672f530f-3fd6-4f0c-a7b0-4f5a944cf139"
      },
      "source": [
        "a=np.array([1,2,3])\r\n",
        "b=np.array([4,5,6])\r\n",
        "a*b"
      ],
      "execution_count": 265,
      "outputs": [
        {
          "output_type": "execute_result",
          "data": {
            "text/plain": [
              "array([ 4, 10, 18])"
            ]
          },
          "metadata": {
            "tags": []
          },
          "execution_count": 265
        }
      ]
    },
    {
      "cell_type": "code",
      "metadata": {
        "colab": {
          "base_uri": "https://localhost:8080/"
        },
        "id": "Zvzgfkeb8twN",
        "outputId": "ac4b083d-267c-4021-898b-6f19b3b9b584"
      },
      "source": [
        "np.einsum('i,j->',a,b)#outer product 외적"
      ],
      "execution_count": 267,
      "outputs": [
        {
          "output_type": "execute_result",
          "data": {
            "text/plain": [
              "90"
            ]
          },
          "metadata": {
            "tags": []
          },
          "execution_count": 267
        }
      ]
    },
    {
      "cell_type": "code",
      "metadata": {
        "colab": {
          "base_uri": "https://localhost:8080/"
        },
        "id": "36bXQeAX9IWJ",
        "outputId": "bd37841b-b2a3-4c9b-de8d-234d79dd540f"
      },
      "source": [
        "#outer product 외적"
      ],
      "execution_count": 276,
      "outputs": [
        {
          "output_type": "execute_result",
          "data": {
            "text/plain": [
              "array([ 4, 10, 18])"
            ]
          },
          "metadata": {
            "tags": []
          },
          "execution_count": 276
        }
      ]
    },
    {
      "cell_type": "code",
      "metadata": {
        "colab": {
          "base_uri": "https://localhost:8080/"
        },
        "id": "Z41svA2y8xWQ",
        "outputId": "0d73ccc2-c86a-4eb7-b18a-108d42e820f3"
      },
      "source": [
        "np.einsum('i,i->',a,b) #벡터간의 inner porduct"
      ],
      "execution_count": 271,
      "outputs": [
        {
          "output_type": "execute_result",
          "data": {
            "text/plain": [
              "32"
            ]
          },
          "metadata": {
            "tags": []
          },
          "execution_count": 271
        }
      ]
    },
    {
      "cell_type": "code",
      "metadata": {
        "colab": {
          "base_uri": "https://localhost:8080/"
        },
        "id": "E8kxMQ_n82eS",
        "outputId": "600cc097-c67d-4ef3-feef-ba5bc7b7bf88"
      },
      "source": [
        "a@b"
      ],
      "execution_count": 272,
      "outputs": [
        {
          "output_type": "execute_result",
          "data": {
            "text/plain": [
              "32"
            ]
          },
          "metadata": {
            "tags": []
          },
          "execution_count": 272
        }
      ]
    },
    {
      "cell_type": "code",
      "metadata": {
        "id": "JrE8lBfA9BBT"
      },
      "source": [
        "a=np.arange(4).reshape(2,2)\r\n",
        "b=np.arange(4).reshape(2,2)"
      ],
      "execution_count": 277,
      "outputs": []
    },
    {
      "cell_type": "code",
      "metadata": {
        "colab": {
          "base_uri": "https://localhost:8080/"
        },
        "id": "btw_qvOm9uju",
        "outputId": "82cf0485-9ad7-4772-ab3f-f2141c87a5ca"
      },
      "source": [
        "np.einsum('ii->',a) #대각원소 합"
      ],
      "execution_count": 279,
      "outputs": [
        {
          "output_type": "execute_result",
          "data": {
            "text/plain": [
              "3"
            ]
          },
          "metadata": {
            "tags": []
          },
          "execution_count": 279
        }
      ]
    },
    {
      "cell_type": "code",
      "metadata": {
        "colab": {
          "base_uri": "https://localhost:8080/"
        },
        "id": "kdvKkI2R9w8n",
        "outputId": "b048bbbc-3473-4231-d369-ced31839ad38"
      },
      "source": [
        "np.einsum('ij->',a) #전체 합"
      ],
      "execution_count": 280,
      "outputs": [
        {
          "output_type": "execute_result",
          "data": {
            "text/plain": [
              "6"
            ]
          },
          "metadata": {
            "tags": []
          },
          "execution_count": 280
        }
      ]
    },
    {
      "cell_type": "code",
      "metadata": {
        "colab": {
          "base_uri": "https://localhost:8080/"
        },
        "id": "opZuw3TT92Of",
        "outputId": "8038c3ea-973b-4163-d73f-114b86395f24"
      },
      "source": [
        "np.einsum('ij,ij->',a,a)"
      ],
      "execution_count": 282,
      "outputs": [
        {
          "output_type": "execute_result",
          "data": {
            "text/plain": [
              "14"
            ]
          },
          "metadata": {
            "tags": []
          },
          "execution_count": 282
        }
      ]
    },
    {
      "cell_type": "code",
      "metadata": {
        "colab": {
          "base_uri": "https://localhost:8080/"
        },
        "id": "0fPwIKJ798pT",
        "outputId": "8ad48001-f7c9-46f0-aebd-19753a634a93"
      },
      "source": [
        "np.sum(a*a)"
      ],
      "execution_count": 287,
      "outputs": [
        {
          "output_type": "execute_result",
          "data": {
            "text/plain": [
              "14"
            ]
          },
          "metadata": {
            "tags": []
          },
          "execution_count": 287
        }
      ]
    },
    {
      "cell_type": "code",
      "metadata": {
        "colab": {
          "base_uri": "https://localhost:8080/"
        },
        "id": "ID4VNq1z-Cyp",
        "outputId": "1c78c183-43ab-4249-ffb7-9ad1eaca047e"
      },
      "source": [
        "np.einsum('ij,ji->',a,a) "
      ],
      "execution_count": 291,
      "outputs": [
        {
          "output_type": "execute_result",
          "data": {
            "text/plain": [
              "13"
            ]
          },
          "metadata": {
            "tags": []
          },
          "execution_count": 291
        }
      ]
    },
    {
      "cell_type": "code",
      "metadata": {
        "colab": {
          "base_uri": "https://localhost:8080/"
        },
        "id": "m6Lj9Rru-ave",
        "outputId": "7073ff95-a8f0-452e-a8ae-79bc913b488c"
      },
      "source": [
        "np.sum(a*a.T)"
      ],
      "execution_count": 303,
      "outputs": [
        {
          "output_type": "execute_result",
          "data": {
            "text/plain": [
              "13"
            ]
          },
          "metadata": {
            "tags": []
          },
          "execution_count": 303
        }
      ]
    },
    {
      "cell_type": "code",
      "metadata": {
        "colab": {
          "base_uri": "https://localhost:8080/"
        },
        "id": "0j37hKSt_K3u",
        "outputId": "533b0803-beae-402b-ba53-1c235bbc6c69"
      },
      "source": [
        "np.einsum('ii,ii->i',a,a) "
      ],
      "execution_count": 301,
      "outputs": [
        {
          "output_type": "execute_result",
          "data": {
            "text/plain": [
              "array([0, 9])"
            ]
          },
          "metadata": {
            "tags": []
          },
          "execution_count": 301
        }
      ]
    },
    {
      "cell_type": "code",
      "metadata": {
        "colab": {
          "base_uri": "https://localhost:8080/"
        },
        "id": "AFJBD0ly-YdD",
        "outputId": "fad3d071-a467-4337-b7d6-a304ad9a10f4"
      },
      "source": [
        "np.einsum('ii,ii->',a,a) "
      ],
      "execution_count": 296,
      "outputs": [
        {
          "output_type": "execute_result",
          "data": {
            "text/plain": [
              "9"
            ]
          },
          "metadata": {
            "tags": []
          },
          "execution_count": 296
        }
      ]
    },
    {
      "cell_type": "code",
      "metadata": {
        "colab": {
          "base_uri": "https://localhost:8080/"
        },
        "id": "4WHKxqDi-7F2",
        "outputId": "ea3739f2-1eac-4dff-fff7-81e972bfa714"
      },
      "source": [
        "np.einsum('ij->j',a) #2차원을 1차원으로 표현 열의 합 "
      ],
      "execution_count": 304,
      "outputs": [
        {
          "output_type": "execute_result",
          "data": {
            "text/plain": [
              "array([2, 4])"
            ]
          },
          "metadata": {
            "tags": []
          },
          "execution_count": 304
        }
      ]
    },
    {
      "cell_type": "code",
      "metadata": {
        "colab": {
          "base_uri": "https://localhost:8080/"
        },
        "id": "hjbi3aAs_jnG",
        "outputId": "c89d4907-9066-4c66-89ed-a6193d451098"
      },
      "source": [
        "a"
      ],
      "execution_count": 306,
      "outputs": [
        {
          "output_type": "execute_result",
          "data": {
            "text/plain": [
              "array([[0, 1],\n",
              "       [2, 3]])"
            ]
          },
          "metadata": {
            "tags": []
          },
          "execution_count": 306
        }
      ]
    },
    {
      "cell_type": "code",
      "metadata": {
        "colab": {
          "base_uri": "https://localhost:8080/"
        },
        "id": "HAUmd8Cc_nB8",
        "outputId": "b2466d23-0df5-456f-dbcd-3cd513df4a1c"
      },
      "source": [
        "np.einsum('ij->i',a) #2차원을 1차원으로 표현 행의 합 "
      ],
      "execution_count": 307,
      "outputs": [
        {
          "output_type": "execute_result",
          "data": {
            "text/plain": [
              "array([1, 5])"
            ]
          },
          "metadata": {
            "tags": []
          },
          "execution_count": 307
        }
      ]
    },
    {
      "cell_type": "code",
      "metadata": {
        "colab": {
          "base_uri": "https://localhost:8080/"
        },
        "id": "SWlfUxbU_4hm",
        "outputId": "eb727375-2566-492d-c233-382a5e74f129"
      },
      "source": [
        "np.einsum('ij->',a)#전체합"
      ],
      "execution_count": 308,
      "outputs": [
        {
          "output_type": "execute_result",
          "data": {
            "text/plain": [
              "6"
            ]
          },
          "metadata": {
            "tags": []
          },
          "execution_count": 308
        }
      ]
    },
    {
      "cell_type": "code",
      "metadata": {
        "colab": {
          "base_uri": "https://localhost:8080/"
        },
        "id": "TvmdYcd4_-Fh",
        "outputId": "8f535d1a-47af-47b6-c26d-9c122e7507b7"
      },
      "source": [
        "np.einsum('ii->i',a) #대각원소"
      ],
      "execution_count": 311,
      "outputs": [
        {
          "output_type": "execute_result",
          "data": {
            "text/plain": [
              "array([0, 3])"
            ]
          },
          "metadata": {
            "tags": []
          },
          "execution_count": 311
        }
      ]
    },
    {
      "cell_type": "code",
      "metadata": {
        "colab": {
          "base_uri": "https://localhost:8080/"
        },
        "id": "YxmNmP8VAFNy",
        "outputId": "70fd8d16-193b-4c25-d54e-e77ebe452d54"
      },
      "source": [
        "np.einsum('ii->',a) #대각원소 합"
      ],
      "execution_count": 312,
      "outputs": [
        {
          "output_type": "execute_result",
          "data": {
            "text/plain": [
              "3"
            ]
          },
          "metadata": {
            "tags": []
          },
          "execution_count": 312
        }
      ]
    },
    {
      "cell_type": "code",
      "metadata": {
        "colab": {
          "base_uri": "https://localhost:8080/"
        },
        "id": "sWG9SocfARiD",
        "outputId": "14cb795e-0f83-4128-bd23-ca741f29387c"
      },
      "source": [
        "np.einsum('ii->',b)"
      ],
      "execution_count": 315,
      "outputs": [
        {
          "output_type": "execute_result",
          "data": {
            "text/plain": [
              "3"
            ]
          },
          "metadata": {
            "tags": []
          },
          "execution_count": 315
        }
      ]
    },
    {
      "cell_type": "code",
      "metadata": {
        "colab": {
          "base_uri": "https://localhost:8080/"
        },
        "id": "m-J63jYTALHV",
        "outputId": "3a3d81fd-1f9c-4c91-9499-62b8a09e59ce"
      },
      "source": [
        "np.einsum('ii,jj->',a,b)  #각 행렬의 대각원소를 곱함"
      ],
      "execution_count": 313,
      "outputs": [
        {
          "output_type": "execute_result",
          "data": {
            "text/plain": [
              "9"
            ]
          },
          "metadata": {
            "tags": []
          },
          "execution_count": 313
        }
      ]
    },
    {
      "cell_type": "code",
      "metadata": {
        "colab": {
          "base_uri": "https://localhost:8080/"
        },
        "id": "Bv4TGLbbAq7K",
        "outputId": "9f2b53ac-1947-479b-8bc4-ab199daa1cb1"
      },
      "source": [
        "np.einsum('ij,jj->',a,b)# 행렬 a 전체와 b의 대각 원소간의 곱의 합"
      ],
      "execution_count": 316,
      "outputs": [
        {
          "output_type": "execute_result",
          "data": {
            "text/plain": [
              "12"
            ]
          },
          "metadata": {
            "tags": []
          },
          "execution_count": 316
        }
      ]
    },
    {
      "cell_type": "code",
      "metadata": {
        "colab": {
          "base_uri": "https://localhost:8080/"
        },
        "id": "7dstPC73AvCq",
        "outputId": "43258735-dfbc-4c8e-ba45-e7b4ca6e5575"
      },
      "source": [
        "np.sum(a*np.array([0,3])) "
      ],
      "execution_count": 319,
      "outputs": [
        {
          "output_type": "execute_result",
          "data": {
            "text/plain": [
              "12"
            ]
          },
          "metadata": {
            "tags": []
          },
          "execution_count": 319
        }
      ]
    },
    {
      "cell_type": "code",
      "metadata": {
        "id": "nBW7SDEvA1bn"
      },
      "source": [
        ""
      ],
      "execution_count": null,
      "outputs": []
    }
  ]
}