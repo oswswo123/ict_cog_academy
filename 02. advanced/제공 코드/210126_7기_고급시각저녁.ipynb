{
  "nbformat": 4,
  "nbformat_minor": 0,
  "metadata": {
    "colab": {
      "name": "210126_7기_고급시각반",
      "provenance": [],
      "collapsed_sections": []
    },
    "kernelspec": {
      "name": "python3",
      "display_name": "Python 3"
    }
  },
  "cells": [
    {
      "cell_type": "markdown",
      "metadata": {
        "id": "btr4eHegDK2a"
      },
      "source": [
        "# [ICTCOG AI Academy] 7기 고급시각저녁반\r\n",
        "# 영상 처리/딥러닝을 위한 고급 파이썬 - 함수형 패러다임 (2)\r\n",
        "## 함수 \r\n",
        "### 함수 정의/선언\r\n",
        "- 함수를 정의, 선언은 **재사용** 위해서\r\n",
        "- 문 (statement)\r\n",
        "\r\n",
        "> Python에서의 정의/선언 2가지 \r\n",
        "  - 함수 정의\r\n",
        "  - 클래스 정의\r\n",
        "\r\n"
      ]
    },
    {
      "cell_type": "code",
      "metadata": {
        "id": "nV9NHRgDCrvG"
      },
      "source": [
        "def sun(x):\r\n",
        "  return x+1"
      ],
      "execution_count": null,
      "outputs": []
    },
    {
      "cell_type": "code",
      "metadata": {
        "colab": {
          "base_uri": "https://localhost:8080/"
        },
        "id": "XhcRzboNC8MF",
        "outputId": "6186024f-26f1-438f-f5f9-0db3df5c39e9"
      },
      "source": [
        "sun #함수는 가로 붙이지 않은것!"
      ],
      "execution_count": null,
      "outputs": [
        {
          "output_type": "execute_result",
          "data": {
            "text/plain": [
              "<function __main__.sun>"
            ]
          },
          "metadata": {
            "tags": []
          },
          "execution_count": 2
        }
      ]
    },
    {
      "cell_type": "code",
      "metadata": {
        "colab": {
          "base_uri": "https://localhost:8080/"
        },
        "id": "brs_jHFAC8zH",
        "outputId": "cddf2de3-509a-472d-a7fa-db8e6c9f3173"
      },
      "source": [
        "map(sun, [1,2,3,4]) #위의 함수 사용 가능"
      ],
      "execution_count": null,
      "outputs": [
        {
          "output_type": "execute_result",
          "data": {
            "text/plain": [
              "<map at 0x7f7d914619b0>"
            ]
          },
          "metadata": {
            "tags": []
          },
          "execution_count": 3
        }
      ]
    },
    {
      "cell_type": "markdown",
      "metadata": {
        "id": "AB5XlEhcEaM0"
      },
      "source": [
        "#### callable\r\n",
        "- predicate: True/ False 로 반환\r\n",
        "- `()` 를 붙있수 있는\r\n",
        "- 함수를 사용/호출 가능한"
      ]
    },
    {
      "cell_type": "code",
      "metadata": {
        "colab": {
          "base_uri": "https://localhost:8080/"
        },
        "id": "OInMufr2C-l-",
        "outputId": "b77844ee-dcf1-471b-9c9c-8680693a25e4"
      },
      "source": [
        "callable # predicate "
      ],
      "execution_count": null,
      "outputs": [
        {
          "output_type": "execute_result",
          "data": {
            "text/plain": [
              "<function callable>"
            ]
          },
          "metadata": {
            "tags": []
          },
          "execution_count": 4
        }
      ]
    },
    {
      "cell_type": "code",
      "metadata": {
        "colab": {
          "base_uri": "https://localhost:8080/"
        },
        "id": "8q_mb196DOb2",
        "outputId": "cc2f5b8e-5917-4d60-c840-a1d1c62a4176"
      },
      "source": [
        "callable(sun) # ()를 붙일 수 있음"
      ],
      "execution_count": null,
      "outputs": [
        {
          "output_type": "execute_result",
          "data": {
            "text/plain": [
              "True"
            ]
          },
          "metadata": {
            "tags": []
          },
          "execution_count": 5
        }
      ]
    },
    {
      "cell_type": "markdown",
      "metadata": {
        "id": "rfBEFmt-DgYg"
      },
      "source": [
        "** () 붙일 수 있는 3가지 **\r\n",
        "1. class\r\n",
        "2. function\r\n",
        "3. class 내에 정의된 `__call__` 이 있는 클래스 인스턴스"
      ]
    },
    {
      "cell_type": "code",
      "metadata": {
        "id": "OB9MuK1xDdk0"
      },
      "source": [
        "class A: \r\n",
        "  pass"
      ],
      "execution_count": null,
      "outputs": []
    },
    {
      "cell_type": "code",
      "metadata": {
        "colab": {
          "base_uri": "https://localhost:8080/"
        },
        "id": "H2b7zq0xDq7T",
        "outputId": "ffa11156-1436-44ce-9018-19a4d23a5ee5"
      },
      "source": [
        "A()"
      ],
      "execution_count": null,
      "outputs": [
        {
          "output_type": "execute_result",
          "data": {
            "text/plain": [
              "<__main__.A at 0x7f7d99abbc50>"
            ]
          },
          "metadata": {
            "tags": []
          },
          "execution_count": 7
        }
      ]
    },
    {
      "cell_type": "code",
      "metadata": {
        "colab": {
          "base_uri": "https://localhost:8080/"
        },
        "id": "_Mce2cJTDrML",
        "outputId": "8f069bcc-505b-43c5-a43f-41fa11ada3cb"
      },
      "source": [
        "callable(A)"
      ],
      "execution_count": null,
      "outputs": [
        {
          "output_type": "execute_result",
          "data": {
            "text/plain": [
              "True"
            ]
          },
          "metadata": {
            "tags": []
          },
          "execution_count": 8
        }
      ]
    },
    {
      "cell_type": "code",
      "metadata": {
        "colab": {
          "base_uri": "https://localhost:8080/"
        },
        "id": "2_N3daOLDr6n",
        "outputId": "bffbcab1-bbec-44d3-d202-bc3cc0343a52"
      },
      "source": [
        "A #현재 작업하는 파일 명 "
      ],
      "execution_count": null,
      "outputs": [
        {
          "output_type": "execute_result",
          "data": {
            "text/plain": [
              "__main__.A"
            ]
          },
          "metadata": {
            "tags": []
          },
          "execution_count": 9
        }
      ]
    },
    {
      "cell_type": "code",
      "metadata": {
        "id": "89IsMCc1DuYa"
      },
      "source": [
        "class B:\r\n",
        "   # __call__ 정의되어 있는 클래스 \r\n",
        "  def __call__(self):\r\n",
        "    print('call')"
      ],
      "execution_count": null,
      "outputs": []
    },
    {
      "cell_type": "code",
      "metadata": {
        "id": "h9GhIgO-D5XR"
      },
      "source": [
        "b=B() #인스턴스화"
      ],
      "execution_count": null,
      "outputs": []
    },
    {
      "cell_type": "code",
      "metadata": {
        "colab": {
          "base_uri": "https://localhost:8080/"
        },
        "id": "jyFI17WVD56e",
        "outputId": "c4488480-7bed-40fc-a408-23a94ab3cc41"
      },
      "source": [
        "b()"
      ],
      "execution_count": null,
      "outputs": [
        {
          "output_type": "stream",
          "text": [
            "call\n"
          ],
          "name": "stdout"
        }
      ]
    },
    {
      "cell_type": "code",
      "metadata": {
        "id": "2nwyFmqiD6R9"
      },
      "source": [
        "class B:\r\n",
        "  def __init__(self):\r\n",
        "    print('init')\r\n",
        "  def __call__(self):\r\n",
        "    print('call')"
      ],
      "execution_count": null,
      "outputs": []
    },
    {
      "cell_type": "code",
      "metadata": {
        "colab": {
          "base_uri": "https://localhost:8080/"
        },
        "id": "var2FC1XEJMC",
        "outputId": "fcef45a9-9ae9-481e-9fa9-0cb280acf9fd"
      },
      "source": [
        "b=B()"
      ],
      "execution_count": null,
      "outputs": [
        {
          "output_type": "stream",
          "text": [
            "init\n"
          ],
          "name": "stdout"
        }
      ]
    },
    {
      "cell_type": "markdown",
      "metadata": {
        "id": "4ck_WaSBEY9S"
      },
      "source": [
        "#### lambda \r\n",
        "- **일회성**으로 재사용의 목적이 아님\r\n",
        "- 메모리 힙영역에 올라가지는 않음\r\n",
        "- 식(expression)"
      ]
    },
    {
      "cell_type": "code",
      "metadata": {
        "id": "YGt8BoATEKZj"
      },
      "source": [
        "a= lambda x:x+1 #재사용 가능하긴 함"
      ],
      "execution_count": null,
      "outputs": []
    },
    {
      "cell_type": "markdown",
      "metadata": {
        "id": "oSJr6y_JGJQn"
      },
      "source": [
        "- ''' ''' 함수 docstrng 으로 사용 \r\n",
        "  - 함수 재사용을 할때 다른 사용자가 보고 쉽게 이용할 수 있도록 함"
      ]
    },
    {
      "cell_type": "code",
      "metadata": {
        "id": "oSWSF9JlGG9W"
      },
      "source": [
        "def sun(): #shift+tab 하면 설명으로 나옴\r\n",
        "  '''\r\n",
        "  docstring: 함수 설명\r\n",
        "  arg\r\n",
        "'''"
      ],
      "execution_count": null,
      "outputs": []
    },
    {
      "cell_type": "code",
      "metadata": {
        "id": "DIv3lKjVGYyK"
      },
      "source": [
        "sentence =' abc\r\n",
        "dfsdf  '"
      ],
      "execution_count": null,
      "outputs": []
    },
    {
      "cell_type": "code",
      "metadata": {
        "id": "sSIV0_pJGb-4"
      },
      "source": [
        "sentence=''' abc\r\n",
        "def'''"
      ],
      "execution_count": null,
      "outputs": []
    },
    {
      "cell_type": "code",
      "metadata": {
        "colab": {
          "base_uri": "https://localhost:8080/"
        },
        "id": "M1TfxkSjGhJG",
        "outputId": "4143b0f1-aa53-445c-f3fa-c8884044cac7"
      },
      "source": [
        "help(sun)"
      ],
      "execution_count": null,
      "outputs": [
        {
          "output_type": "stream",
          "text": [
            "Help on function sun in module __main__:\n",
            "\n",
            "sun(x)\n",
            "\n"
          ],
          "name": "stdout"
        }
      ]
    },
    {
      "cell_type": "code",
      "metadata": {
        "id": "OV0eeb1THwwp"
      },
      "source": [
        ""
      ],
      "execution_count": null,
      "outputs": []
    },
    {
      "cell_type": "markdown",
      "metadata": {
        "id": "XB7NN0ckGsiw"
      },
      "source": [
        "return  \r\n",
        "- return 생략시 내부에서 자동으로 return None 붙여줌\r\n",
        "- return 확인하기 위해서 실행 되었을때 Out[] 확인"
      ]
    },
    {
      "cell_type": "code",
      "metadata": {
        "id": "VSsH-O2fWVVX"
      },
      "source": [
        "def sun():\r\n",
        "  '연습'"
      ],
      "execution_count": null,
      "outputs": []
    },
    {
      "cell_type": "code",
      "metadata": {
        "id": "Fh-lOkcQGh0Z"
      },
      "source": [
        "def sun():\r\n",
        "  '연습'\r\n",
        "  return 1"
      ],
      "execution_count": null,
      "outputs": []
    },
    {
      "cell_type": "code",
      "metadata": {
        "colab": {
          "base_uri": "https://localhost:8080/"
        },
        "id": "bBvXM1MMHLwe",
        "outputId": "2ef59656-efd8-406f-bd91-7f0cc6d0b33a"
      },
      "source": [
        "sun() # Out[ ]  1   으로 나온것이 return 값"
      ],
      "execution_count": null,
      "outputs": [
        {
          "output_type": "execute_result",
          "data": {
            "text/plain": [
              "1"
            ]
          },
          "metadata": {
            "tags": []
          },
          "execution_count": 17
        }
      ]
    },
    {
      "cell_type": "code",
      "metadata": {
        "id": "DQvLbN1ZHMGp"
      },
      "source": [
        "def sun(para):  #파라미터(매개변수) : 함수 정의\r\n",
        "  '연습'\r\n",
        "  return 1"
      ],
      "execution_count": null,
      "outputs": []
    },
    {
      "cell_type": "markdown",
      "metadata": {
        "id": "GrrrTRZKIFgf"
      },
      "source": [
        "Signature\r\n",
        "- function \r\n",
        "- 이름과 매개변수 설명은 Signature \r\n",
        "\r\n",
        "#### type hint\r\n",
        "- 해당 자료 타입을 입력해달라고 type hint 줌( Python 3.7 부터)\r\n",
        "- `def 함수 (매개변수 : 매개변수 타입 힌트 ) -> 리턴값 타입 힌트`"
      ]
    },
    {
      "cell_type": "markdown",
      "metadata": {
        "id": "tu-GReMAWhwf"
      },
      "source": [
        ""
      ]
    },
    {
      "cell_type": "code",
      "metadata": {
        "id": "N27L-3eKHjX0"
      },
      "source": [
        "def sun(para:int) -> int:   #type 힌트\r\n",
        "  '연습'\r\n",
        "  return 1"
      ],
      "execution_count": null,
      "outputs": []
    },
    {
      "cell_type": "code",
      "metadata": {
        "id": "Ip83YKF_Hjea"
      },
      "source": [
        "import pandas as pd"
      ],
      "execution_count": null,
      "outputs": []
    },
    {
      "cell_type": "code",
      "metadata": {
        "id": "Vwnwla3MHjjB"
      },
      "source": [
        "pd.read_csv # shift +tab으로 확인 "
      ],
      "execution_count": null,
      "outputs": []
    },
    {
      "cell_type": "markdown",
      "metadata": {
        "id": "5xUzVU9rIfbg"
      },
      "source": [
        "Init Signature\r\n",
        "- Class "
      ]
    },
    {
      "cell_type": "code",
      "metadata": {
        "id": "RbHdu_MwHjtZ"
      },
      "source": [
        "int #Init Signature "
      ],
      "execution_count": null,
      "outputs": []
    },
    {
      "cell_type": "markdown",
      "metadata": {
        "id": "ExC0-s3GJZ9q"
      },
      "source": [
        "### 1. 포지셔널 방식\r\n",
        "- 위치에 영향 받음"
      ]
    },
    {
      "cell_type": "code",
      "metadata": {
        "colab": {
          "base_uri": "https://localhost:8080/",
          "height": 208
        },
        "id": "7eZj-BEFHkCs",
        "outputId": "edee619b-cbd4-4af5-d5c8-1c9f6a1bd43d"
      },
      "source": [
        "def sun(t) :\r\n",
        "  return t\r\n",
        "sun() # positional argument 없음"
      ],
      "execution_count": null,
      "outputs": [
        {
          "output_type": "error",
          "ename": "TypeError",
          "evalue": "ignored",
          "traceback": [
            "\u001b[0;31m---------------------------------------------------------------------------\u001b[0m",
            "\u001b[0;31mTypeError\u001b[0m                                 Traceback (most recent call last)",
            "\u001b[0;32m<ipython-input-28-8e045e11125f>\u001b[0m in \u001b[0;36m<module>\u001b[0;34m()\u001b[0m\n\u001b[1;32m      1\u001b[0m \u001b[0;32mdef\u001b[0m \u001b[0msun\u001b[0m\u001b[0;34m(\u001b[0m\u001b[0mt\u001b[0m\u001b[0;34m)\u001b[0m \u001b[0;34m:\u001b[0m\u001b[0;34m\u001b[0m\u001b[0;34m\u001b[0m\u001b[0m\n\u001b[1;32m      2\u001b[0m   \u001b[0;32mreturn\u001b[0m \u001b[0mt\u001b[0m\u001b[0;34m\u001b[0m\u001b[0;34m\u001b[0m\u001b[0m\n\u001b[0;32m----> 3\u001b[0;31m \u001b[0msun\u001b[0m\u001b[0;34m(\u001b[0m\u001b[0;34m)\u001b[0m \u001b[0;31m# positional argument 없음\u001b[0m\u001b[0;34m\u001b[0m\u001b[0;34m\u001b[0m\u001b[0m\n\u001b[0m",
            "\u001b[0;31mTypeError\u001b[0m: sun() missing 1 required positional argument: 't'"
          ]
        }
      ]
    },
    {
      "cell_type": "code",
      "metadata": {
        "colab": {
          "base_uri": "https://localhost:8080/"
        },
        "id": "AEZRGaz3Hj9a",
        "outputId": "eff2c5bb-e89e-4b7e-a2b8-37c1f9b712c8"
      },
      "source": [
        "sun(2)"
      ],
      "execution_count": null,
      "outputs": [
        {
          "output_type": "execute_result",
          "data": {
            "text/plain": [
              "2"
            ]
          },
          "metadata": {
            "tags": []
          },
          "execution_count": 22
        }
      ]
    },
    {
      "cell_type": "code",
      "metadata": {
        "colab": {
          "base_uri": "https://localhost:8080/",
          "height": 208
        },
        "id": "hEB50M4CJuf4",
        "outputId": "26645498-401f-494a-dc62-9f00fe79a7fe"
      },
      "source": [
        "def sun(t,s,k,y): #포지셔널 방식\r\n",
        "  return t\r\n",
        "\r\n",
        "sun(2)"
      ],
      "execution_count": null,
      "outputs": [
        {
          "output_type": "error",
          "ename": "TypeError",
          "evalue": "ignored",
          "traceback": [
            "\u001b[0;31m---------------------------------------------------------------------------\u001b[0m",
            "\u001b[0;31mTypeError\u001b[0m                                 Traceback (most recent call last)",
            "\u001b[0;32m<ipython-input-27-76d8d4581d76>\u001b[0m in \u001b[0;36m<module>\u001b[0;34m()\u001b[0m\n\u001b[1;32m      2\u001b[0m   \u001b[0;32mreturn\u001b[0m \u001b[0mt\u001b[0m\u001b[0;34m\u001b[0m\u001b[0;34m\u001b[0m\u001b[0m\n\u001b[1;32m      3\u001b[0m \u001b[0;34m\u001b[0m\u001b[0m\n\u001b[0;32m----> 4\u001b[0;31m \u001b[0msun\u001b[0m\u001b[0;34m(\u001b[0m\u001b[0;36m2\u001b[0m\u001b[0;34m)\u001b[0m\u001b[0;34m\u001b[0m\u001b[0;34m\u001b[0m\u001b[0m\n\u001b[0m",
            "\u001b[0;31mTypeError\u001b[0m: sun() missing 3 required positional arguments: 's', 'k', and 'y'"
          ]
        }
      ]
    },
    {
      "cell_type": "markdown",
      "metadata": {
        "id": "EuywC87XJYOb"
      },
      "source": [
        "### 2. 키워드 방식\r\n",
        "- 매개변수 = 값\r\n",
        "- 순서에 상관 없이 사용 가능"
      ]
    },
    {
      "cell_type": "code",
      "metadata": {
        "colab": {
          "base_uri": "https://localhost:8080/"
        },
        "id": "cqotonufJOpV",
        "outputId": "05a4aae3-311f-47d1-f10d-41d1fb03825f"
      },
      "source": [
        "sun(t=2)"
      ],
      "execution_count": null,
      "outputs": [
        {
          "output_type": "execute_result",
          "data": {
            "text/plain": [
              "2"
            ]
          },
          "metadata": {
            "tags": []
          },
          "execution_count": 26
        }
      ]
    },
    {
      "cell_type": "code",
      "metadata": {
        "colab": {
          "base_uri": "https://localhost:8080/"
        },
        "id": "qVLrkde5J88U",
        "outputId": "46d949bc-0f59-4c65-ce05-c5e5f7bb582d"
      },
      "source": [
        "sun(t=2,k=3,y=4,s=1) #키워드 방식"
      ],
      "execution_count": null,
      "outputs": [
        {
          "output_type": "execute_result",
          "data": {
            "text/plain": [
              "2"
            ]
          },
          "metadata": {
            "tags": []
          },
          "execution_count": 32
        }
      ]
    },
    {
      "cell_type": "markdown",
      "metadata": {
        "id": "QXqLYpJGJngN"
      },
      "source": [
        "##### No Free Lunch\r\n",
        "- 공짜 점심은 없다\r\n",
        "- 상황에 따라 다르다"
      ]
    },
    {
      "cell_type": "markdown",
      "metadata": {
        "id": "-UczDqx1LAUa"
      },
      "source": [
        "디폴트 값은 뒤에서 부터 채워야함"
      ]
    },
    {
      "cell_type": "code",
      "metadata": {
        "id": "x43szWbOJm0y"
      },
      "source": [
        "def sun(t,s=3,k=4,y=1):  # 기본값(default) 정해 놓음\r\n",
        "  return t"
      ],
      "execution_count": null,
      "outputs": []
    },
    {
      "cell_type": "code",
      "metadata": {
        "colab": {
          "base_uri": "https://localhost:8080/"
        },
        "id": "WDLDfjMHKGiK",
        "outputId": "ec4ea814-fd5f-4955-c0b4-0bc3081fc88d"
      },
      "source": [
        "sun(2,1,1,1)"
      ],
      "execution_count": null,
      "outputs": [
        {
          "output_type": "execute_result",
          "data": {
            "text/plain": [
              "2"
            ]
          },
          "metadata": {
            "tags": []
          },
          "execution_count": 31
        }
      ]
    },
    {
      "cell_type": "markdown",
      "metadata": {
        "id": "txg0KEJGKyKE"
      },
      "source": [
        "### 3. 키워드 , 포지셔널 혼용\r\n",
        "- 키워드로 한번 사용하기 시작하면 이후에는 키워드\r\n"
      ]
    },
    {
      "cell_type": "code",
      "metadata": {
        "colab": {
          "base_uri": "https://localhost:8080/",
          "height": 136
        },
        "id": "rqHcBX5rKvV0",
        "outputId": "8d98b034-6a35-468d-ddf0-0a684c4d3d3f"
      },
      "source": [
        "def sun(t,s=1,k,y=1):  # 기본값(default) 정해 놓음\r\n",
        "  return t\r\n",
        "\r\n",
        "sun(1)"
      ],
      "execution_count": null,
      "outputs": [
        {
          "output_type": "error",
          "ename": "SyntaxError",
          "evalue": "ignored",
          "traceback": [
            "\u001b[0;36m  File \u001b[0;32m\"<ipython-input-40-eb61d7b78b92>\"\u001b[0;36m, line \u001b[0;32m1\u001b[0m\n\u001b[0;31m    def sun(t,s=1,k,y=1):  # 기본값(default) 정해 놓음\u001b[0m\n\u001b[0m           ^\u001b[0m\n\u001b[0;31mSyntaxError\u001b[0m\u001b[0;31m:\u001b[0m non-default argument follows default argument\n"
          ]
        }
      ]
    },
    {
      "cell_type": "code",
      "metadata": {
        "colab": {
          "base_uri": "https://localhost:8080/",
          "height": 136
        },
        "id": "sYsdj3pjLJjK",
        "outputId": "b02dc995-f34f-420e-fe32-46ff23bee89d"
      },
      "source": [
        "def sun(t,s=1,y=1):  \r\n",
        "  return t+s+y\r\n",
        "\r\n",
        "sun(1,s=0,3)"
      ],
      "execution_count": null,
      "outputs": [
        {
          "output_type": "error",
          "ename": "SyntaxError",
          "evalue": "ignored",
          "traceback": [
            "\u001b[0;36m  File \u001b[0;32m\"<ipython-input-39-ebcf3b85a962>\"\u001b[0;36m, line \u001b[0;32m4\u001b[0m\n\u001b[0;31m    sun(1,s=0,3)\u001b[0m\n\u001b[0m             ^\u001b[0m\n\u001b[0;31mSyntaxError\u001b[0m\u001b[0;31m:\u001b[0m positional argument follows keyword argument\n"
          ]
        }
      ]
    },
    {
      "cell_type": "markdown",
      "metadata": {
        "id": "c_K-DMIzKcE_"
      },
      "source": [
        "> 객체지향의 오버로딩\r\n",
        "- 연산자/이름이 동일할때 다른 매개 변수를 받을 수 있도록 만듦.\r\n",
        "\r\n",
        "- Python은 Method overloading을 지원하지 않음\r\n",
        "  - C, Java, C++에서는 지원함\r\n",
        "  - 지원하지 않는 경우 매개변수 키워드 방식을 지원\r\n",
        "- 연산자 오버로딩은 지원 "
      ]
    },
    {
      "cell_type": "code",
      "metadata": {
        "id": "1VKYj6dHOTkr"
      },
      "source": [
        "def sun():\r\n",
        "  print('sun')\r\n",
        "def sun(x):\r\n",
        "  print('sun1')\r\n",
        "def sun(x,y):\r\n",
        "  print('sun2')  "
      ],
      "execution_count": null,
      "outputs": []
    },
    {
      "cell_type": "code",
      "metadata": {
        "colab": {
          "base_uri": "https://localhost:8080/"
        },
        "id": "7Q6ueU4mOk5k",
        "outputId": "7ae30673-ff2c-4521-b35e-756f643871f4"
      },
      "source": [
        "sun(1,1) #method overloading 지원하지 않음"
      ],
      "execution_count": null,
      "outputs": [
        {
          "output_type": "stream",
          "text": [
            "sun2\n"
          ],
          "name": "stdout"
        }
      ]
    },
    {
      "cell_type": "code",
      "metadata": {
        "colab": {
          "base_uri": "https://localhost:8080/"
        },
        "id": "OFb2HgwoOTxI",
        "outputId": "b5df745d-07b6-4685-fa8e-682731a717bf"
      },
      "source": [
        "sun #Python에서는 이름이 동일하면 가장 최근값으로 덮어씀"
      ],
      "execution_count": null,
      "outputs": [
        {
          "output_type": "execute_result",
          "data": {
            "text/plain": [
              "<function __main__.sun>"
            ]
          },
          "metadata": {
            "tags": []
          },
          "execution_count": 58
        }
      ]
    },
    {
      "cell_type": "markdown",
      "metadata": {
        "id": "CPIp19LeKcNY"
      },
      "source": [
        "### 4. 포지셔널 only\r\n",
        "- `/ ` 이후에는 모두 포지셔널\r\n"
      ]
    },
    {
      "cell_type": "code",
      "metadata": {
        "id": "MT6_daU5KIM6"
      },
      "source": [
        "len(ob) #"
      ],
      "execution_count": null,
      "outputs": []
    },
    {
      "cell_type": "markdown",
      "metadata": {
        "id": "JouGeJdYMIQ7"
      },
      "source": [
        "### 5. 키워드 only\r\n",
        "- `* ` 이후 키워드만 올 수 있음"
      ]
    },
    {
      "cell_type": "code",
      "metadata": {
        "id": "BlktBRFGMH2M"
      },
      "source": [
        "def sun(a,* , b):\r\n",
        "  return a+b"
      ],
      "execution_count": null,
      "outputs": []
    },
    {
      "cell_type": "code",
      "metadata": {
        "colab": {
          "base_uri": "https://localhost:8080/"
        },
        "id": "0gorgPeWMNjp",
        "outputId": "58eca160-a787-4ead-ef89-574cdbca198f"
      },
      "source": [
        "sun(1,b=2)"
      ],
      "execution_count": null,
      "outputs": [
        {
          "output_type": "execute_result",
          "data": {
            "text/plain": [
              "3"
            ]
          },
          "metadata": {
            "tags": []
          },
          "execution_count": 47
        }
      ]
    },
    {
      "cell_type": "markdown",
      "metadata": {
        "id": "IULGBPoBMwAj"
      },
      "source": [
        "### 6. 가변 포지셔널\r\n",
        "- *매개변수\r\n",
        "- 길이에 상관없이 포지셔널 방식으로 받음\r\n",
        "- tuple "
      ]
    },
    {
      "cell_type": "code",
      "metadata": {
        "id": "w2kVUtXDMPDt"
      },
      "source": [
        "def sun(*a):\r\n",
        "  return a"
      ],
      "execution_count": null,
      "outputs": []
    },
    {
      "cell_type": "code",
      "metadata": {
        "colab": {
          "base_uri": "https://localhost:8080/"
        },
        "id": "eMXBYFPYMuV-",
        "outputId": "7b8044a3-7de5-45bc-8968-faf4326481f3"
      },
      "source": [
        "sun(1)"
      ],
      "execution_count": null,
      "outputs": [
        {
          "output_type": "execute_result",
          "data": {
            "text/plain": [
              "(1,)"
            ]
          },
          "metadata": {
            "tags": []
          },
          "execution_count": 49
        }
      ]
    },
    {
      "cell_type": "code",
      "metadata": {
        "colab": {
          "base_uri": "https://localhost:8080/"
        },
        "id": "pfmp5ptHMvO1",
        "outputId": "c24c4ff2-9cde-4472-b07d-94e64056d25f"
      },
      "source": [
        "sun()"
      ],
      "execution_count": null,
      "outputs": [
        {
          "output_type": "execute_result",
          "data": {
            "text/plain": [
              "()"
            ]
          },
          "metadata": {
            "tags": []
          },
          "execution_count": 51
        }
      ]
    },
    {
      "cell_type": "code",
      "metadata": {
        "colab": {
          "base_uri": "https://localhost:8080/"
        },
        "id": "pxwAl_sqMzgb",
        "outputId": "b73bd3ca-31ec-44a0-c1af-181e44f2bf41"
      },
      "source": [
        "sun(1,2,3,4,5) #return 은 tuple"
      ],
      "execution_count": null,
      "outputs": [
        {
          "output_type": "execute_result",
          "data": {
            "text/plain": [
              "(1, 2, 3, 4, 5)"
            ]
          },
          "metadata": {
            "tags": []
          },
          "execution_count": 52
        }
      ]
    },
    {
      "cell_type": "code",
      "metadata": {
        "colab": {
          "base_uri": "https://localhost:8080/"
        },
        "id": "Y5GyfLc5M13I",
        "outputId": "b7d7706b-45a0-4661-ffa6-5070504e6afe"
      },
      "source": [
        "1,2,3,4,5  #튜플 이기 때문"
      ],
      "execution_count": null,
      "outputs": [
        {
          "output_type": "execute_result",
          "data": {
            "text/plain": [
              "(1, 2, 3, 4, 5)"
            ]
          },
          "metadata": {
            "tags": []
          },
          "execution_count": 53
        }
      ]
    },
    {
      "cell_type": "markdown",
      "metadata": {
        "id": "P-GSHh9zNKzX"
      },
      "source": [
        "### 7.가변 키워드\r\n",
        "- **매개변수\r\n",
        "- 길이에 상관없이 키워드 방식으로 받음\r\n",
        "- 딕셔너리"
      ]
    },
    {
      "cell_type": "code",
      "metadata": {
        "id": "gj3N09jcM5C7"
      },
      "source": [
        "def star(**a):\r\n",
        "  return a"
      ],
      "execution_count": null,
      "outputs": []
    },
    {
      "cell_type": "code",
      "metadata": {
        "colab": {
          "base_uri": "https://localhost:8080/"
        },
        "id": "qzRDVkdiNJQK",
        "outputId": "67d3ee77-8f9c-4225-8285-f6e57d2a7c0a"
      },
      "source": [
        "star(a=2,b=3,c=4)"
      ],
      "execution_count": null,
      "outputs": [
        {
          "output_type": "execute_result",
          "data": {
            "text/plain": [
              "{'a': 2, 'b': 3, 'c': 4}"
            ]
          },
          "metadata": {
            "tags": []
          },
          "execution_count": 55
        }
      ]
    },
    {
      "cell_type": "code",
      "metadata": {
        "id": "e3DPWggzNS4D"
      },
      "source": [
        "def star( a,*b, **C): #가변 포지셔널, 가변 키워드 \r\n",
        "  return a"
      ],
      "execution_count": null,
      "outputs": []
    },
    {
      "cell_type": "code",
      "metadata": {
        "id": "OJrbF7rnNs8i"
      },
      "source": [
        "def star( a,**c,*b ): #반대 순서는 불가 키워드 이후에는 키워드만 가능해서 불가\r\n",
        "  return a"
      ],
      "execution_count": null,
      "outputs": []
    },
    {
      "cell_type": "code",
      "metadata": {
        "id": "0Y3VkG_TNcDs"
      },
      "source": [
        "int  # "
      ],
      "execution_count": null,
      "outputs": []
    },
    {
      "cell_type": "markdown",
      "metadata": {
        "id": "hVJ47SC3NmdN"
      },
      "source": [
        "#### 매개변수 연습 \r\n"
      ]
    },
    {
      "cell_type": "code",
      "metadata": {
        "id": "J5kAo3XwPMCu"
      },
      "source": [
        "import matplotlib.pyplot as plt"
      ],
      "execution_count": null,
      "outputs": []
    },
    {
      "cell_type": "code",
      "metadata": {
        "id": "Qchd8W42PMFS"
      },
      "source": [
        "plt.plot #  *args, "
      ],
      "execution_count": null,
      "outputs": []
    },
    {
      "cell_type": "code",
      "metadata": {
        "id": "gDZEvYsRPMID"
      },
      "source": [
        "int #int([x]) ->  [] optional(선택적)"
      ],
      "execution_count": null,
      "outputs": []
    },
    {
      "cell_type": "code",
      "metadata": {
        "colab": {
          "base_uri": "https://localhost:8080/"
        },
        "id": "nkNNwJoyP0Dw",
        "outputId": "8b9aecd2-67ae-4b74-9ce6-218c86f37d6e"
      },
      "source": [
        "int()"
      ],
      "execution_count": null,
      "outputs": [
        {
          "output_type": "execute_result",
          "data": {
            "text/plain": [
              "0"
            ]
          },
          "metadata": {
            "tags": []
          },
          "execution_count": 63
        }
      ]
    },
    {
      "cell_type": "code",
      "metadata": {
        "colab": {
          "base_uri": "https://localhost:8080/"
        },
        "id": "aVZzJ0rdP0G2",
        "outputId": "a4463578-f341-44d6-e450-5b9ce1e75a21"
      },
      "source": [
        "int(10)"
      ],
      "execution_count": null,
      "outputs": [
        {
          "output_type": "execute_result",
          "data": {
            "text/plain": [
              "10"
            ]
          },
          "metadata": {
            "tags": []
          },
          "execution_count": 64
        }
      ]
    },
    {
      "cell_type": "code",
      "metadata": {
        "id": "eFHPAE4aP0Js"
      },
      "source": [
        "plt.plot #  "
      ],
      "execution_count": null,
      "outputs": []
    },
    {
      "cell_type": "code",
      "metadata": {
        "colab": {
          "base_uri": "https://localhost:8080/",
          "height": 283
        },
        "id": "u9QvXmLdP0MT",
        "outputId": "d0f3f238-af83-42dc-8807-da5700078946"
      },
      "source": [
        "plt.plot([3,4,5])  #매개변수 y"
      ],
      "execution_count": null,
      "outputs": [
        {
          "output_type": "execute_result",
          "data": {
            "text/plain": [
              "[<matplotlib.lines.Line2D at 0x7f7d90a156a0>]"
            ]
          },
          "metadata": {
            "tags": []
          },
          "execution_count": 65
        },
        {
          "output_type": "display_data",
          "data": {
            "image/png": "[encoded data removed]",
            "text/plain": [
              "<Figure size 432x288 with 1 Axes>"
            ]
          },
          "metadata": {
            "tags": [],
            "needs_background": "light"
          }
        }
      ]
    },
    {
      "cell_type": "code",
      "metadata": {
        "colab": {
          "base_uri": "https://localhost:8080/",
          "height": 283
        },
        "id": "RwquQNWqP9DN",
        "outputId": "33cc815a-818b-4733-f216-09152741a2b1"
      },
      "source": [
        "plt.plot([1,2,3,],[3,4,5]) #매개변수 x,y"
      ],
      "execution_count": null,
      "outputs": [
        {
          "output_type": "execute_result",
          "data": {
            "text/plain": [
              "[<matplotlib.lines.Line2D at 0x7f7d90459fd0>]"
            ]
          },
          "metadata": {
            "tags": []
          },
          "execution_count": 67
        },
        {
          "output_type": "display_data",
          "data": {
            "image/png": "[encoded data removed]",
            "text/plain": [
              "<Figure size 432x288 with 1 Axes>"
            ]
          },
          "metadata": {
            "tags": [],
            "needs_background": "light"
          }
        }
      ]
    },
    {
      "cell_type": "markdown",
      "metadata": {
        "id": "fNulraOZQNU0"
      },
      "source": [
        "#### ...\r\n",
        "- Python에서는 Ellipsis 연산자\r\n",
        "- 설명에서는 길어서 생략\r\n",
        "\r\n",
        "> 파이썬 언어레퍼런스 참고 : https://docs.python.org/ko/3/glossary.html"
      ]
    },
    {
      "cell_type": "code",
      "metadata": {
        "colab": {
          "base_uri": "https://localhost:8080/"
        },
        "id": "_-CCdcXxQCWP",
        "outputId": "154b6f28-13e8-4ab4-efd3-1fd983e5563c"
      },
      "source": [
        "..."
      ],
      "execution_count": null,
      "outputs": [
        {
          "output_type": "execute_result",
          "data": {
            "text/plain": [
              "Ellipsis"
            ]
          },
          "metadata": {
            "tags": []
          },
          "execution_count": 68
        }
      ]
    },
    {
      "cell_type": "code",
      "metadata": {
        "id": "tdqmS3jNQXAc"
      },
      "source": [
        "import numpy as np"
      ],
      "execution_count": null,
      "outputs": []
    },
    {
      "cell_type": "code",
      "metadata": {
        "colab": {
          "base_uri": "https://localhost:8080/"
        },
        "id": "aimAB2pJQeK4",
        "outputId": "eacacaea-5c27-4802-eeec-b98d7d9c471f"
      },
      "source": [
        "x=np.arange(24).reshape(2,3,4)\r\n",
        "x"
      ],
      "execution_count": null,
      "outputs": [
        {
          "output_type": "execute_result",
          "data": {
            "text/plain": [
              "array([[[ 0,  1,  2,  3],\n",
              "        [ 4,  5,  6,  7],\n",
              "        [ 8,  9, 10, 11]],\n",
              "\n",
              "       [[12, 13, 14, 15],\n",
              "        [16, 17, 18, 19],\n",
              "        [20, 21, 22, 23]]])"
            ]
          },
          "metadata": {
            "tags": []
          },
          "execution_count": 74
        }
      ]
    },
    {
      "cell_type": "code",
      "metadata": {
        "colab": {
          "base_uri": "https://localhost:8080/"
        },
        "id": "rxClG3GuQgiC",
        "outputId": "d09eedc8-3e52-42de-8dd6-ecffb2bc02d8"
      },
      "source": [
        "x[...]"
      ],
      "execution_count": null,
      "outputs": [
        {
          "output_type": "execute_result",
          "data": {
            "text/plain": [
              "array([[[ 0,  1,  2,  3],\n",
              "        [ 4,  5,  6,  7],\n",
              "        [ 8,  9, 10, 11]],\n",
              "\n",
              "       [[12, 13, 14, 15],\n",
              "        [16, 17, 18, 19],\n",
              "        [20, 21, 22, 23]]])"
            ]
          },
          "metadata": {
            "tags": []
          },
          "execution_count": 73
        }
      ]
    },
    {
      "cell_type": "code",
      "metadata": {
        "colab": {
          "base_uri": "https://localhost:8080/",
          "height": 319
        },
        "id": "snX4bV1MQhGX",
        "outputId": "bf3223da-3a5e-4c42-a7f3-18981a9a39a8"
      },
      "source": [
        "plt.hist([1,2,3,1,1],color='gold') # 키워드 , 키워드 온리"
      ],
      "execution_count": null,
      "outputs": [
        {
          "output_type": "execute_result",
          "data": {
            "text/plain": [
              "(array([3., 0., 0., 0., 0., 1., 0., 0., 0., 1.]),\n",
              " array([1. , 1.2, 1.4, 1.6, 1.8, 2. , 2.2, 2.4, 2.6, 2.8, 3. ]),\n",
              " <a list of 10 Patch objects>)"
            ]
          },
          "metadata": {
            "tags": []
          },
          "execution_count": 78
        },
        {
          "output_type": "display_data",
          "data": {
            "image/png": "[encoded data removed]",
            "text/plain": [
              "<Figure size 432x288 with 1 Axes>"
            ]
          },
          "metadata": {
            "tags": [],
            "needs_background": "light"
          }
        }
      ]
    },
    {
      "cell_type": "code",
      "metadata": {
        "colab": {
          "base_uri": "https://localhost:8080/",
          "height": 283
        },
        "id": "D3JnN1R9Q5yh",
        "outputId": "2a685163-a03d-477d-eefd-685c8a6ea61d"
      },
      "source": [
        "len(plt.hist([1,2,3,1,1],color='gold')) #3개의 return"
      ],
      "execution_count": null,
      "outputs": [
        {
          "output_type": "execute_result",
          "data": {
            "text/plain": [
              "3"
            ]
          },
          "metadata": {
            "tags": []
          },
          "execution_count": 79
        },
        {
          "output_type": "display_data",
          "data": {
            "image/png": "[encoded data removed]",
            "text/plain": [
              "<Figure size 432x288 with 1 Axes>"
            ]
          },
          "metadata": {
            "tags": [],
            "needs_background": "light"
          }
        }
      ]
    },
    {
      "cell_type": "code",
      "metadata": {
        "colab": {
          "base_uri": "https://localhost:8080/",
          "height": 265
        },
        "id": "zm0o8bePRO-n",
        "outputId": "82095415-abb9-4bea-cc09-d337e25d226f"
      },
      "source": [
        " x,y,z= plt.hist([1,2,3,1,1],color='gold')"
      ],
      "execution_count": null,
      "outputs": [
        {
          "output_type": "display_data",
          "data": {
            "image/png": "[encoded data removed]",
            "text/plain": [
              "<Figure size 432x288 with 1 Axes>"
            ]
          },
          "metadata": {
            "tags": [],
            "needs_background": "light"
          }
        }
      ]
    },
    {
      "cell_type": "code",
      "metadata": {
        "colab": {
          "base_uri": "https://localhost:8080/"
        },
        "id": "gpo-DtvlRWfB",
        "outputId": "d92a218d-ad8f-40ea-fde0-3abc48756dc0"
      },
      "source": [
        "x"
      ],
      "execution_count": null,
      "outputs": [
        {
          "output_type": "execute_result",
          "data": {
            "text/plain": [
              "array([3., 0., 0., 0., 0., 1., 0., 0., 0., 1.])"
            ]
          },
          "metadata": {
            "tags": []
          },
          "execution_count": 83
        }
      ]
    },
    {
      "cell_type": "markdown",
      "metadata": {
        "id": "dAVhsnd6RduR"
      },
      "source": [
        "무엇"
      ]
    },
    {
      "cell_type": "code",
      "metadata": {
        "id": "ZN6jhGLRRW8n"
      },
      "source": [
        "plt.bar # bar(x, height, width=0.8, bottom=None, *, align='center', data=None, **kwargs)"
      ],
      "execution_count": null,
      "outputs": []
    },
    {
      "cell_type": "code",
      "metadata": {
        "colab": {
          "base_uri": "https://localhost:8080/",
          "height": 283
        },
        "id": "8niRKg9BRmrY",
        "outputId": "12b7f041-2c10-4658-f450-3c39f94417df"
      },
      "source": [
        "plt.bar(1,2) # x, height 필수 나머지는 기본값 설정되어 잇음"
      ],
      "execution_count": null,
      "outputs": [
        {
          "output_type": "execute_result",
          "data": {
            "text/plain": [
              "<BarContainer object of 1 artists>"
            ]
          },
          "metadata": {
            "tags": []
          },
          "execution_count": 84
        },
        {
          "output_type": "display_data",
          "data": {
            "image/png": "[encoded data removed]",
            "text/plain": [
              "<Figure size 432x288 with 1 Axes>"
            ]
          },
          "metadata": {
            "tags": [],
            "needs_background": "light"
          }
        }
      ]
    },
    {
      "cell_type": "markdown",
      "metadata": {
        "id": "gQf-Du4zYKAS"
      },
      "source": [
        "## LEGB\r\n",
        "-  정의되어 있는 변수들의 범위\r\n",
        "- 단반향으로 안에서 밖으로만 접근 가능/기본적으로는 변경 불가능\r\n",
        "- 밖에서는 안으로는 접근 불가능(캡슐화)\r\n",
        "- Local, Enclosing, Global, Builtin\r\n"
      ]
    },
    {
      "cell_type": "code",
      "metadata": {
        "id": "SdxlPPolRpcK"
      },
      "source": [
        "def  #함수 정의"
      ],
      "execution_count": null,
      "outputs": []
    },
    {
      "cell_type": "code",
      "metadata": {
        "id": "A4S2K2glWijZ"
      },
      "source": [
        "#커널 재시작\r\n",
        "x=1\r\n",
        "def sun():\r\n",
        "  return x"
      ],
      "execution_count": null,
      "outputs": []
    },
    {
      "cell_type": "code",
      "metadata": {
        "colab": {
          "base_uri": "https://localhost:8080/"
        },
        "id": "mrsEW0gjSErO",
        "outputId": "283fea6d-1def-4f74-9e28-a5880128c90c"
      },
      "source": [
        "sun() # Global 변수 x 호출"
      ],
      "execution_count": null,
      "outputs": [
        {
          "output_type": "execute_result",
          "data": {
            "text/plain": [
              "1"
            ]
          },
          "metadata": {
            "tags": []
          },
          "execution_count": 3
        }
      ]
    },
    {
      "cell_type": "code",
      "metadata": {
        "id": "2dF8ym4TYBbE"
      },
      "source": [
        "def sun():\r\n",
        "  x=2\r\n",
        "  return x"
      ],
      "execution_count": null,
      "outputs": []
    },
    {
      "cell_type": "code",
      "metadata": {
        "colab": {
          "base_uri": "https://localhost:8080/"
        },
        "id": "WKBGHom2YqGk",
        "outputId": "15c5cda4-a7c7-431e-f10a-3e4adc65e242"
      },
      "source": [
        "sun() #local x "
      ],
      "execution_count": null,
      "outputs": [
        {
          "output_type": "execute_result",
          "data": {
            "text/plain": [
              "2"
            ]
          },
          "metadata": {
            "tags": []
          },
          "execution_count": 7
        }
      ]
    },
    {
      "cell_type": "code",
      "metadata": {
        "colab": {
          "base_uri": "https://localhost:8080/"
        },
        "id": "msNuzmPiYqno",
        "outputId": "c18c1eb6-a2a0-4645-e307-c02b6a42694a"
      },
      "source": [
        "%whos # 메모리에 할당되어 있는 정의되어 있는 이름들"
      ],
      "execution_count": null,
      "outputs": [
        {
          "output_type": "stream",
          "text": [
            "Variable   Type        Data/Info\n",
            "--------------------------------\n",
            "sun        function    <function sun at 0x7f67fa6e5c80>\n",
            "x          int         1\n"
          ],
          "name": "stdout"
        }
      ]
    },
    {
      "cell_type": "code",
      "metadata": {
        "colab": {
          "base_uri": "https://localhost:8080/",
          "height": 172
        },
        "id": "k9neoZc-YyvO",
        "outputId": "a689d91d-cf4d-487c-f5a8-c4251b40ab69"
      },
      "source": [
        "y #NameError 정의되어 있지않은 이름"
      ],
      "execution_count": null,
      "outputs": [
        {
          "output_type": "error",
          "ename": "NameError",
          "evalue": "ignored",
          "traceback": [
            "\u001b[0;31m---------------------------------------------------------------------------\u001b[0m",
            "\u001b[0;31mNameError\u001b[0m                                 Traceback (most recent call last)",
            "\u001b[0;32m<ipython-input-9-9063a9f0e032>\u001b[0m in \u001b[0;36m<module>\u001b[0;34m()\u001b[0m\n\u001b[0;32m----> 1\u001b[0;31m \u001b[0my\u001b[0m\u001b[0;34m\u001b[0m\u001b[0;34m\u001b[0m\u001b[0m\n\u001b[0m",
            "\u001b[0;31mNameError\u001b[0m: name 'y' is not defined"
          ]
        }
      ]
    },
    {
      "cell_type": "code",
      "metadata": {
        "colab": {
          "base_uri": "https://localhost:8080/"
        },
        "id": "f_R6ppWEYzky",
        "outputId": "fd2b0962-fa3b-4990-fc29-16a989a69169"
      },
      "source": [
        "globals()  #global 영역에 정의된 값들"
      ],
      "execution_count": null,
      "outputs": [
        {
          "output_type": "execute_result",
          "data": {
            "text/plain": [
              "{'In': ['',\n",
              "  'x=1\\ndef sun():\\n  return x',\n",
              "  'sun',\n",
              "  'sun()',\n",
              "  'sun()',\n",
              "  'def sun():\\n  x=2\\n  return x',\n",
              "  'def sun():\\n  x=2\\n  return x',\n",
              "  'sun() #',\n",
              "  \"get_ipython().magic('whos')\",\n",
              "  'y',\n",
              "  'globals()'],\n",
              " 'Out': {2: <function __main__.sun>, 3: 1, 4: 1, 7: 2},\n",
              " '_': 2,\n",
              " '_2': <function __main__.sun>,\n",
              " '_3': 1,\n",
              " '_4': 1,\n",
              " '_7': 2,\n",
              " '__': 1,\n",
              " '___': 1,\n",
              " '__builtin__': <module 'builtins' (built-in)>,\n",
              " '__builtins__': <module 'builtins' (built-in)>,\n",
              " '__doc__': 'Automatically created module for IPython interactive environment',\n",
              " '__loader__': None,\n",
              " '__name__': '__main__',\n",
              " '__package__': None,\n",
              " '__spec__': None,\n",
              " '_dh': ['/content'],\n",
              " '_i': 'y',\n",
              " '_i1': 'x=1\\ndef sun():\\n  return x',\n",
              " '_i10': 'globals()',\n",
              " '_i2': 'sun',\n",
              " '_i3': 'sun()',\n",
              " '_i4': 'sun()',\n",
              " '_i5': 'def sun():\\n  x=2\\n  return x',\n",
              " '_i6': 'def sun():\\n  x=2\\n  return x',\n",
              " '_i7': 'sun() #',\n",
              " '_i8': '%whos',\n",
              " '_i9': 'y',\n",
              " '_ih': ['',\n",
              "  'x=1\\ndef sun():\\n  return x',\n",
              "  'sun',\n",
              "  'sun()',\n",
              "  'sun()',\n",
              "  'def sun():\\n  x=2\\n  return x',\n",
              "  'def sun():\\n  x=2\\n  return x',\n",
              "  'sun() #',\n",
              "  \"get_ipython().magic('whos')\",\n",
              "  'y',\n",
              "  'globals()'],\n",
              " '_ii': '%whos',\n",
              " '_iii': 'sun() #',\n",
              " '_oh': {2: <function __main__.sun>, 3: 1, 4: 1, 7: 2},\n",
              " '_sh': <module 'IPython.core.shadowns' from '/usr/local/lib/python3.6/dist-packages/IPython/core/shadowns.py'>,\n",
              " 'exit': <IPython.core.autocall.ZMQExitAutocall at 0x7f67fd47fd68>,\n",
              " 'get_ipython': <bound method InteractiveShell.get_ipython of <google.colab._shell.Shell object at 0x7f67ffeff860>>,\n",
              " 'quit': <IPython.core.autocall.ZMQExitAutocall at 0x7f67fd47fd68>,\n",
              " 'sun': <function __main__.sun>,\n",
              " 'x': 1}"
            ]
          },
          "metadata": {
            "tags": []
          },
          "execution_count": 10
        }
      ]
    },
    {
      "cell_type": "code",
      "metadata": {
        "id": "_2gFtiliY1dA"
      },
      "source": [
        "def sun():\r\n",
        "  y=2\r\n",
        "  return y"
      ],
      "execution_count": null,
      "outputs": []
    },
    {
      "cell_type": "code",
      "metadata": {
        "colab": {
          "base_uri": "https://localhost:8080/"
        },
        "id": "wcsfRAyKZGA3",
        "outputId": "38fe0e6c-b058-453e-a2dd-ae1bcb15ea8c"
      },
      "source": [
        "sun() #local 영역의 y"
      ],
      "execution_count": null,
      "outputs": [
        {
          "output_type": "execute_result",
          "data": {
            "text/plain": [
              "2"
            ]
          },
          "metadata": {
            "tags": []
          },
          "execution_count": 12
        }
      ]
    },
    {
      "cell_type": "code",
      "metadata": {
        "colab": {
          "base_uri": "https://localhost:8080/",
          "height": 172
        },
        "id": "9nGEB4NzZHCH",
        "outputId": "01e8418a-fd8c-4d9d-d5c8-5b9e238fc836"
      },
      "source": [
        "y #NameError  글로벌 영역에는 정의되어 있지 않음"
      ],
      "execution_count": null,
      "outputs": [
        {
          "output_type": "error",
          "ename": "NameError",
          "evalue": "ignored",
          "traceback": [
            "\u001b[0;31m---------------------------------------------------------------------------\u001b[0m",
            "\u001b[0;31mNameError\u001b[0m                                 Traceback (most recent call last)",
            "\u001b[0;32m<ipython-input-13-9063a9f0e032>\u001b[0m in \u001b[0;36m<module>\u001b[0;34m()\u001b[0m\n\u001b[0;32m----> 1\u001b[0;31m \u001b[0my\u001b[0m\u001b[0;34m\u001b[0m\u001b[0;34m\u001b[0m\u001b[0m\n\u001b[0m",
            "\u001b[0;31mNameError\u001b[0m: name 'y' is not defined"
          ]
        }
      ]
    },
    {
      "cell_type": "markdown",
      "metadata": {
        "id": "3m9s93tLZZuY"
      },
      "source": [
        " encapsulation\r\n",
        "- 캡슐화해서 밖에서 내부로 접근 못하도록함\r\n",
        "- 내부에서는 외부로 접근 가능(단반향)"
      ]
    },
    {
      "cell_type": "code",
      "metadata": {
        "id": "UERSSnITZJES"
      },
      "source": [
        "x=1\r\n",
        "def sun():\r\n",
        "  x=x+1   # \r\n",
        "  return x"
      ],
      "execution_count": null,
      "outputs": []
    },
    {
      "cell_type": "code",
      "metadata": {
        "colab": {
          "base_uri": "https://localhost:8080/",
          "height": 280
        },
        "id": "GQVQohjyZs3S",
        "outputId": "6dce9300-eef9-4aae-c877-32a1cd24050a"
      },
      "source": [
        "sun() #UnboundLocalError 할당되기 전에 로컬변수가 참조됨"
      ],
      "execution_count": null,
      "outputs": [
        {
          "output_type": "error",
          "ename": "UnboundLocalError",
          "evalue": "ignored",
          "traceback": [
            "\u001b[0;31m---------------------------------------------------------------------------\u001b[0m",
            "\u001b[0;31mUnboundLocalError\u001b[0m                         Traceback (most recent call last)",
            "\u001b[0;32m<ipython-input-15-b19b94ff6046>\u001b[0m in \u001b[0;36m<module>\u001b[0;34m()\u001b[0m\n\u001b[0;32m----> 1\u001b[0;31m \u001b[0msun\u001b[0m\u001b[0;34m(\u001b[0m\u001b[0;34m)\u001b[0m\u001b[0;34m\u001b[0m\u001b[0;34m\u001b[0m\u001b[0m\n\u001b[0m",
            "\u001b[0;32m<ipython-input-14-4310875c40a5>\u001b[0m in \u001b[0;36msun\u001b[0;34m()\u001b[0m\n\u001b[1;32m      1\u001b[0m \u001b[0mx\u001b[0m\u001b[0;34m=\u001b[0m\u001b[0;36m1\u001b[0m\u001b[0;34m\u001b[0m\u001b[0;34m\u001b[0m\u001b[0m\n\u001b[1;32m      2\u001b[0m \u001b[0;32mdef\u001b[0m \u001b[0msun\u001b[0m\u001b[0;34m(\u001b[0m\u001b[0;34m)\u001b[0m\u001b[0;34m:\u001b[0m\u001b[0;34m\u001b[0m\u001b[0;34m\u001b[0m\u001b[0m\n\u001b[0;32m----> 3\u001b[0;31m   \u001b[0mx\u001b[0m\u001b[0;34m=\u001b[0m\u001b[0mx\u001b[0m\u001b[0;34m+\u001b[0m\u001b[0;36m1\u001b[0m\u001b[0;34m\u001b[0m\u001b[0;34m\u001b[0m\u001b[0m\n\u001b[0m\u001b[1;32m      4\u001b[0m   \u001b[0;32mreturn\u001b[0m \u001b[0mx\u001b[0m\u001b[0;34m\u001b[0m\u001b[0;34m\u001b[0m\u001b[0m\n",
            "\u001b[0;31mUnboundLocalError\u001b[0m: local variable 'x' referenced before assignment"
          ]
        }
      ]
    },
    {
      "cell_type": "markdown",
      "metadata": {
        "id": "4V_A83Ysawg8"
      },
      "source": [
        "#### global\r\n",
        "- 함수형 패러다임/ 객체지향 패러다임 모두 사용하지 않길 권장됨"
      ]
    },
    {
      "cell_type": "code",
      "metadata": {
        "id": "xRNdiOnaaZio"
      },
      "source": [
        "x=1\r\n",
        "def sun():\r\n",
        "  global x  \r\n",
        "  x=x+1   \r\n",
        "  return x"
      ],
      "execution_count": null,
      "outputs": []
    },
    {
      "cell_type": "code",
      "metadata": {
        "colab": {
          "base_uri": "https://localhost:8080/"
        },
        "id": "DB7xPPWYagGx",
        "outputId": "d7b386f6-48fc-423f-c7e6-9b45d660bc41"
      },
      "source": [
        "sun()  #글로벌 영역 참조"
      ],
      "execution_count": null,
      "outputs": [
        {
          "output_type": "execute_result",
          "data": {
            "text/plain": [
              "2"
            ]
          },
          "metadata": {
            "tags": []
          },
          "execution_count": 17
        }
      ]
    },
    {
      "cell_type": "code",
      "metadata": {
        "colab": {
          "base_uri": "https://localhost:8080/"
        },
        "id": "phPkH9paakYm",
        "outputId": "0c403fd4-b091-424c-fe16-957d63a58356"
      },
      "source": [
        "x  #글로벌 영역의 x도 같이 바뀌게 됨"
      ],
      "execution_count": null,
      "outputs": [
        {
          "output_type": "execute_result",
          "data": {
            "text/plain": [
              "2"
            ]
          },
          "metadata": {
            "tags": []
          },
          "execution_count": 18
        }
      ]
    },
    {
      "cell_type": "markdown",
      "metadata": {
        "id": "q_iLF3JLbI5S"
      },
      "source": [
        "#### 함수 중첩\r\n",
        "- 함수 중첩을하여 외부 접근을 막음"
      ]
    },
    {
      "cell_type": "code",
      "metadata": {
        "id": "Ao6up3wTavK7"
      },
      "source": [
        "def sun():\r\n",
        "  def moon(): #sun() 함수 내에서만 사용 가능\r\n",
        "    return 1\r\n",
        "  return moon"
      ],
      "execution_count": null,
      "outputs": []
    },
    {
      "cell_type": "code",
      "metadata": {
        "colab": {
          "base_uri": "https://localhost:8080/"
        },
        "id": "XHYQbnzxavTc",
        "outputId": "fa244b5b-b5de-47b7-80c4-0d08ed80e7e3"
      },
      "source": [
        "sun"
      ],
      "execution_count": null,
      "outputs": [
        {
          "output_type": "execute_result",
          "data": {
            "text/plain": [
              "<function __main__.sun>"
            ]
          },
          "metadata": {
            "tags": []
          },
          "execution_count": 23
        }
      ]
    },
    {
      "cell_type": "code",
      "metadata": {
        "colab": {
          "base_uri": "https://localhost:8080/"
        },
        "id": "neD8ZYX2avP3",
        "outputId": "aced5bb2-a1d7-4ea5-e540-759e6583f63c"
      },
      "source": [
        "sun()  #Out <function __main__.sun.<locals>.moon>    function 으로 나옴 "
      ],
      "execution_count": null,
      "outputs": [
        {
          "output_type": "execute_result",
          "data": {
            "text/plain": [
              "<function __main__.sun.<locals>.moon>"
            ]
          },
          "metadata": {
            "tags": []
          },
          "execution_count": 22
        }
      ]
    },
    {
      "cell_type": "code",
      "metadata": {
        "colab": {
          "base_uri": "https://localhost:8080/"
        },
        "id": "Z1RRBkw5bjnE",
        "outputId": "e67a14a7-f8b3-48f2-aff1-ed81e115535b"
      },
      "source": [
        "sun()() #() 2개 사용 가능, # moon() 과 동일"
      ],
      "execution_count": null,
      "outputs": [
        {
          "output_type": "execute_result",
          "data": {
            "text/plain": [
              "1"
            ]
          },
          "metadata": {
            "tags": []
          },
          "execution_count": 26
        }
      ]
    },
    {
      "cell_type": "markdown",
      "metadata": {
        "id": "_TNA9aZ9ZrCO"
      },
      "source": [
        "> **Higher-order Function**\r\n",
        "  - 인자를 함수로 받거나 함수로 리턴값으로 사용할 수 있음\r\n",
        "  - 함수형 패러다임\r\n",
        "\r\n",
        "### First Class Function\r\n",
        "  - 함수를 값(값/데이터) 처럼 사용 가능\r\n",
        "\r\n",
        "  > CS에서의 data(타입에 의해 해석된 값), value(raw) 차이\r\n",
        "\r\n",
        "First Class Function < Higher order function \r\n",
        "그 역은 성립하지 않음\r\n",
        "- Java = Second Class Function"
      ]
    },
    {
      "cell_type": "code",
      "metadata": {
        "id": "acAE7Dg8cze-"
      },
      "source": [
        "a=[len] #len 함수로 "
      ],
      "execution_count": null,
      "outputs": []
    },
    {
      "cell_type": "code",
      "metadata": {
        "colab": {
          "base_uri": "https://localhost:8080/"
        },
        "id": "Kwsji9uTcz5l",
        "outputId": "9d62bcca-bf70-427e-ac1f-09a31099cff6"
      },
      "source": [
        "a[0]([1,2,3])"
      ],
      "execution_count": null,
      "outputs": [
        {
          "output_type": "execute_result",
          "data": {
            "text/plain": [
              "3"
            ]
          },
          "metadata": {
            "tags": []
          },
          "execution_count": 29
        }
      ]
    },
    {
      "cell_type": "code",
      "metadata": {
        "colab": {
          "base_uri": "https://localhost:8080/"
        },
        "id": "G-l9IhPZcz8M",
        "outputId": "4b389dac-3ff9-4b06-ede1-924016cf5653"
      },
      "source": [
        "len([1,2,3])"
      ],
      "execution_count": null,
      "outputs": [
        {
          "output_type": "execute_result",
          "data": {
            "text/plain": [
              "3"
            ]
          },
          "metadata": {
            "tags": []
          },
          "execution_count": 31
        }
      ]
    },
    {
      "cell_type": "markdown",
      "metadata": {
        "id": "2sId49cre4BR"
      },
      "source": [
        ""
      ]
    },
    {
      "cell_type": "code",
      "metadata": {
        "id": "t7xgx1M2c6vb"
      },
      "source": [
        "def sun():\r\n",
        "  def moon(x):\r\n",
        "    return x+1\r\n",
        "  return moon"
      ],
      "execution_count": null,
      "outputs": []
    },
    {
      "cell_type": "code",
      "metadata": {
        "colab": {
          "base_uri": "https://localhost:8080/"
        },
        "id": "IkmJSL_reTmB",
        "outputId": "1c3f31fd-cb7f-4d41-bc99-5af9d0b1d7e1"
      },
      "source": [
        "sun()(2)"
      ],
      "execution_count": null,
      "outputs": [
        {
          "output_type": "execute_result",
          "data": {
            "text/plain": [
              "3"
            ]
          },
          "metadata": {
            "tags": []
          },
          "execution_count": 40
        }
      ]
    },
    {
      "cell_type": "markdown",
      "metadata": {
        "id": "hvN16PkUemZH"
      },
      "source": [
        "### closure\r\n",
        "- fist class function 개념 이용하여 스코프에 묶인 변수를 바인딩 하기 위한 일종의 기술\r\n",
        "- 함수 두개를 중첩\r\n",
        "- 첫번째 값이 무엇이냐에 따라서 동적으로 생성 가능\r\n",
        "\r\n",
        "> tensorflow 에서 closure 기법을 class 화 하여 사용함"
      ]
    },
    {
      "cell_type": "code",
      "metadata": {
        "colab": {
          "base_uri": "https://localhost:8080/"
        },
        "id": "baADCsfJhxsb",
        "outputId": "72dc8bb8-54f2-47d6-9ed0-a0b8bd6b0c1f"
      },
      "source": [
        "def sun1(n):\r\n",
        "...     return lambda x: x + n\r\n",
        "\r\n",
        "sun1(1)  #이름이 lambda(익명함수) 로 나와서 디버깅이 힘듦"
      ],
      "execution_count": null,
      "outputs": [
        {
          "output_type": "execute_result",
          "data": {
            "text/plain": [
              "<function __main__.sun1.<locals>.<lambda>>"
            ]
          },
          "metadata": {
            "tags": []
          },
          "execution_count": 60
        }
      ]
    },
    {
      "cell_type": "code",
      "metadata": {
        "id": "my-u8LlhiiXM"
      },
      "source": [
        "import tensorflow as tf\r\n",
        "tf.keras.layers.Lambda # tf에서 lambda 레이어가 존개하고 디버깅하기 용이하게 만들어 놓음"
      ],
      "execution_count": null,
      "outputs": []
    },
    {
      "cell_type": "code",
      "metadata": {
        "id": "v7MAkhHueVk9"
      },
      "source": [
        "def sun2(x):\r\n",
        "  def moon(y):\r\n",
        "    return x+y\r\n",
        "  return moon"
      ],
      "execution_count": null,
      "outputs": []
    },
    {
      "cell_type": "code",
      "metadata": {
        "colab": {
          "base_uri": "https://localhost:8080/"
        },
        "id": "wzBmvwmzh9Ru",
        "outputId": "719d692d-77db-4fdb-f697-fe15a0610c12"
      },
      "source": [
        "sun2(1)  #디버깅에 용이함"
      ],
      "execution_count": null,
      "outputs": [
        {
          "output_type": "execute_result",
          "data": {
            "text/plain": [
              "<function __main__.sun2.<locals>.moon>"
            ]
          },
          "metadata": {
            "tags": []
          },
          "execution_count": 62
        }
      ]
    },
    {
      "cell_type": "code",
      "metadata": {
        "id": "HDPKgPKAiRBy"
      },
      "source": [
        "def sun2(x):\r\n",
        "  def moon(y):\r\n",
        "    return x+y\r\n",
        "  def star(z):\r\n",
        "    return x+z\r\n",
        "  if x>0:\r\n",
        "    return moon\r\n",
        "  else:\r\n",
        "      return star\r\n",
        "  return moon"
      ],
      "execution_count": null,
      "outputs": []
    },
    {
      "cell_type": "code",
      "metadata": {
        "id": "9Qnis_v8geJo"
      },
      "source": [
        "m=sun(1)  #1"
      ],
      "execution_count": null,
      "outputs": []
    },
    {
      "cell_type": "code",
      "metadata": {
        "colab": {
          "base_uri": "https://localhost:8080/"
        },
        "id": "TntJ-5wpgkJC",
        "outputId": "f049a20d-12c8-46a5-8235-8e5d3dff56b1"
      },
      "source": [
        "m(10)  #1+10 "
      ],
      "execution_count": null,
      "outputs": [
        {
          "output_type": "execute_result",
          "data": {
            "text/plain": [
              "11"
            ]
          },
          "metadata": {
            "tags": []
          },
          "execution_count": 57
        }
      ]
    },
    {
      "cell_type": "code",
      "metadata": {
        "colab": {
          "base_uri": "https://localhost:8080/"
        },
        "id": "oh6Bi--seW_m",
        "outputId": "c26a2b96-e744-4b55-9af6-b59bbd78d7db"
      },
      "source": [
        "sun(1)(10)  #상동"
      ],
      "execution_count": null,
      "outputs": [
        {
          "output_type": "execute_result",
          "data": {
            "text/plain": [
              "11"
            ]
          },
          "metadata": {
            "tags": []
          },
          "execution_count": 58
        }
      ]
    },
    {
      "cell_type": "markdown",
      "metadata": {
        "id": "VYW7m4XZg6a9"
      },
      "source": [
        ""
      ]
    },
    {
      "cell_type": "code",
      "metadata": {
        "id": "ubEn1k11eoRn"
      },
      "source": [
        "x=print  #x에 print 함수 할당"
      ],
      "execution_count": null,
      "outputs": []
    },
    {
      "cell_type": "code",
      "metadata": {
        "colab": {
          "base_uri": "https://localhost:8080/"
        },
        "id": "aqId24tfeu7X",
        "outputId": "b6575e9e-03a5-4de0-d732-dd889c60c9a6"
      },
      "source": [
        "x('abc') #print 처럼 사용 가능"
      ],
      "execution_count": null,
      "outputs": [
        {
          "output_type": "stream",
          "text": [
            "abc\n"
          ],
          "name": "stdout"
        }
      ]
    },
    {
      "cell_type": "code",
      "metadata": {
        "id": "eBgzknD_f-I8"
      },
      "source": [
        "x=1             # global 영역\r\n",
        "def sun(x):\r\n",
        "  x=3           #enclosing 영역 \r\n",
        "  def moon(y):\r\n",
        "    return x+y   # local 영역\r\n",
        "  return moon"
      ],
      "execution_count": null,
      "outputs": []
    },
    {
      "cell_type": "markdown",
      "metadata": {
        "id": "CDPj_rOmgKHS"
      },
      "source": [
        "함수 두개 이상 중첩한 경우 "
      ]
    },
    {
      "cell_type": "code",
      "metadata": {
        "id": "d1Pj4rKof-hj"
      },
      "source": [
        ""
      ],
      "execution_count": null,
      "outputs": []
    },
    {
      "cell_type": "markdown",
      "metadata": {
        "id": "OZIkHDSqfPr5"
      },
      "source": [
        "- builtin 에 정의된 sum을 global 영역으로 뒤엎어 씀"
      ]
    },
    {
      "cell_type": "code",
      "metadata": {
        "id": "fWeX8Y-Dewdg"
      },
      "source": [
        "sum=0  #함수에 0 할당"
      ],
      "execution_count": null,
      "outputs": []
    },
    {
      "cell_type": "code",
      "metadata": {
        "colab": {
          "base_uri": "https://localhost:8080/"
        },
        "id": "fKQVgjVVe51v",
        "outputId": "ae64ffe2-15e3-4706-c7b3-e570e95d3f3b"
      },
      "source": [
        "sum  #이제 sum 함수는 0이 됨"
      ],
      "execution_count": null,
      "outputs": [
        {
          "output_type": "execute_result",
          "data": {
            "text/plain": [
              "0"
            ]
          },
          "metadata": {
            "tags": []
          },
          "execution_count": 48
        }
      ]
    },
    {
      "cell_type": "code",
      "metadata": {
        "colab": {
          "base_uri": "https://localhost:8080/",
          "height": 172
        },
        "id": "x2M9u12Le8Bl",
        "outputId": "70fafc13-f4ed-4141-d41c-493c71431cc5"
      },
      "source": [
        "sum([1,2,3]) #sum=0 이므로 이제 callable 하지 않음 ( () 붙일 수 없음)"
      ],
      "execution_count": null,
      "outputs": [
        {
          "output_type": "error",
          "ename": "TypeError",
          "evalue": "ignored",
          "traceback": [
            "\u001b[0;31m---------------------------------------------------------------------------\u001b[0m",
            "\u001b[0;31mTypeError\u001b[0m                                 Traceback (most recent call last)",
            "\u001b[0;32m<ipython-input-49-56b33b39430a>\u001b[0m in \u001b[0;36m<module>\u001b[0;34m()\u001b[0m\n\u001b[0;32m----> 1\u001b[0;31m \u001b[0msum\u001b[0m\u001b[0;34m(\u001b[0m\u001b[0;34m[\u001b[0m\u001b[0;36m1\u001b[0m\u001b[0;34m,\u001b[0m\u001b[0;36m2\u001b[0m\u001b[0;34m,\u001b[0m\u001b[0;36m3\u001b[0m\u001b[0;34m]\u001b[0m\u001b[0;34m)\u001b[0m\u001b[0;34m\u001b[0m\u001b[0;34m\u001b[0m\u001b[0m\n\u001b[0m",
            "\u001b[0;31mTypeError\u001b[0m: 'int' object is not callable"
          ]
        }
      ]
    },
    {
      "cell_type": "code",
      "metadata": {
        "id": "B1umMZtbfApB"
      },
      "source": [
        "del sum #global 영역에 저장된 sum 제거"
      ],
      "execution_count": null,
      "outputs": []
    },
    {
      "cell_type": "code",
      "metadata": {
        "colab": {
          "base_uri": "https://localhost:8080/"
        },
        "id": "aYV7vn4MffUZ",
        "outputId": "1d47a39b-7fd6-4885-c9b6-43730301eda3"
      },
      "source": [
        "sum  #다시 built in 에 있는 sum으로 돌아옴"
      ],
      "execution_count": null,
      "outputs": [
        {
          "output_type": "execute_result",
          "data": {
            "text/plain": [
              "<function sum>"
            ]
          },
          "metadata": {
            "tags": []
          },
          "execution_count": 51
        }
      ]
    },
    {
      "cell_type": "markdown",
      "metadata": {
        "id": "RGyvfDk0fJX2"
      },
      "source": [
        "Python은 기본적으로 builtins 에 정의된 것들을 모두 불러옴"
      ]
    },
    {
      "cell_type": "code",
      "metadata": {
        "id": "G_BbcwQLfgA6"
      },
      "source": [
        "import builtins #기본적으로 불러오기 때문에 따로 불러올 필요가 없음"
      ],
      "execution_count": null,
      "outputs": []
    },
    {
      "cell_type": "code",
      "metadata": {
        "colab": {
          "base_uri": "https://localhost:8080/"
        },
        "id": "iAcQOBJDfoe9",
        "outputId": "b42edb18-0abb-4c0e-94ce-c55d51122e42"
      },
      "source": [
        "dir(builtins)"
      ],
      "execution_count": null,
      "outputs": [
        {
          "output_type": "execute_result",
          "data": {
            "text/plain": [
              "['ArithmeticError',\n",
              " 'AssertionError',\n",
              " 'AttributeError',\n",
              " 'BaseException',\n",
              " 'BlockingIOError',\n",
              " 'BrokenPipeError',\n",
              " 'BufferError',\n",
              " 'BytesWarning',\n",
              " 'ChildProcessError',\n",
              " 'ConnectionAbortedError',\n",
              " 'ConnectionError',\n",
              " 'ConnectionRefusedError',\n",
              " 'ConnectionResetError',\n",
              " 'DeprecationWarning',\n",
              " 'EOFError',\n",
              " 'Ellipsis',\n",
              " 'EnvironmentError',\n",
              " 'Exception',\n",
              " 'False',\n",
              " 'FileExistsError',\n",
              " 'FileNotFoundError',\n",
              " 'FloatingPointError',\n",
              " 'FutureWarning',\n",
              " 'GeneratorExit',\n",
              " 'IOError',\n",
              " 'ImportError',\n",
              " 'ImportWarning',\n",
              " 'IndentationError',\n",
              " 'IndexError',\n",
              " 'InterruptedError',\n",
              " 'IsADirectoryError',\n",
              " 'KeyError',\n",
              " 'KeyboardInterrupt',\n",
              " 'LookupError',\n",
              " 'MemoryError',\n",
              " 'ModuleNotFoundError',\n",
              " 'NameError',\n",
              " 'None',\n",
              " 'NotADirectoryError',\n",
              " 'NotImplemented',\n",
              " 'NotImplementedError',\n",
              " 'OSError',\n",
              " 'OverflowError',\n",
              " 'PendingDeprecationWarning',\n",
              " 'PermissionError',\n",
              " 'ProcessLookupError',\n",
              " 'RecursionError',\n",
              " 'ReferenceError',\n",
              " 'ResourceWarning',\n",
              " 'RuntimeError',\n",
              " 'RuntimeWarning',\n",
              " 'StopAsyncIteration',\n",
              " 'StopIteration',\n",
              " 'SyntaxError',\n",
              " 'SyntaxWarning',\n",
              " 'SystemError',\n",
              " 'SystemExit',\n",
              " 'TabError',\n",
              " 'TimeoutError',\n",
              " 'True',\n",
              " 'TypeError',\n",
              " 'UnboundLocalError',\n",
              " 'UnicodeDecodeError',\n",
              " 'UnicodeEncodeError',\n",
              " 'UnicodeError',\n",
              " 'UnicodeTranslateError',\n",
              " 'UnicodeWarning',\n",
              " 'UserWarning',\n",
              " 'ValueError',\n",
              " 'Warning',\n",
              " 'ZeroDivisionError',\n",
              " '__IPYTHON__',\n",
              " '__build_class__',\n",
              " '__debug__',\n",
              " '__doc__',\n",
              " '__import__',\n",
              " '__loader__',\n",
              " '__name__',\n",
              " '__package__',\n",
              " '__spec__',\n",
              " 'abs',\n",
              " 'all',\n",
              " 'any',\n",
              " 'ascii',\n",
              " 'bin',\n",
              " 'bool',\n",
              " 'bytearray',\n",
              " 'bytes',\n",
              " 'callable',\n",
              " 'chr',\n",
              " 'classmethod',\n",
              " 'compile',\n",
              " 'complex',\n",
              " 'copyright',\n",
              " 'credits',\n",
              " 'delattr',\n",
              " 'dict',\n",
              " 'dir',\n",
              " 'display',\n",
              " 'divmod',\n",
              " 'dreload',\n",
              " 'enumerate',\n",
              " 'eval',\n",
              " 'exec',\n",
              " 'filter',\n",
              " 'float',\n",
              " 'format',\n",
              " 'frozenset',\n",
              " 'get_ipython',\n",
              " 'getattr',\n",
              " 'globals',\n",
              " 'hasattr',\n",
              " 'hash',\n",
              " 'help',\n",
              " 'hex',\n",
              " 'id',\n",
              " 'input',\n",
              " 'int',\n",
              " 'isinstance',\n",
              " 'issubclass',\n",
              " 'iter',\n",
              " 'len',\n",
              " 'license',\n",
              " 'list',\n",
              " 'locals',\n",
              " 'map',\n",
              " 'max',\n",
              " 'memoryview',\n",
              " 'min',\n",
              " 'next',\n",
              " 'object',\n",
              " 'oct',\n",
              " 'open',\n",
              " 'ord',\n",
              " 'pow',\n",
              " 'print',\n",
              " 'property',\n",
              " 'range',\n",
              " 'repr',\n",
              " 'reversed',\n",
              " 'round',\n",
              " 'set',\n",
              " 'setattr',\n",
              " 'slice',\n",
              " 'sorted',\n",
              " 'staticmethod',\n",
              " 'str',\n",
              " 'sum',\n",
              " 'super',\n",
              " 'tuple',\n",
              " 'type',\n",
              " 'vars',\n",
              " 'zip']"
            ]
          },
          "metadata": {
            "tags": []
          },
          "execution_count": 53
        }
      ]
    },
    {
      "cell_type": "markdown",
      "metadata": {
        "id": "i-hg42TDjPsm"
      },
      "source": [
        ""
      ]
    },
    {
      "cell_type": "code",
      "metadata": {
        "id": "xVPNl9Bhfpkn"
      },
      "source": [
        "z=1          #global\r\n",
        "\r\n",
        "def zzz():\r\n",
        "  z=2       #enclosing\r\n",
        "  def zz():\r\n",
        "    z=z+1  \r\n",
        "    return z #local\r\n",
        "  return zz"
      ],
      "execution_count": null,
      "outputs": []
    },
    {
      "cell_type": "code",
      "metadata": {
        "colab": {
          "base_uri": "https://localhost:8080/",
          "height": 298
        },
        "id": "ZyR-5fJYjTtJ",
        "outputId": "b39d37bd-1111-4f94-c42e-dbd30545465f"
      },
      "source": [
        "zzz()() #안에서는 밖에서 수정 불가"
      ],
      "execution_count": null,
      "outputs": [
        {
          "output_type": "error",
          "ename": "UnboundLocalError",
          "evalue": "ignored",
          "traceback": [
            "\u001b[0;31m---------------------------------------------------------------------------\u001b[0m",
            "\u001b[0;31mUnboundLocalError\u001b[0m                         Traceback (most recent call last)",
            "\u001b[0;32m<ipython-input-67-e159111d3c5e>\u001b[0m in \u001b[0;36m<module>\u001b[0;34m()\u001b[0m\n\u001b[0;32m----> 1\u001b[0;31m \u001b[0mzzz\u001b[0m\u001b[0;34m(\u001b[0m\u001b[0;34m)\u001b[0m\u001b[0;34m(\u001b[0m\u001b[0;34m)\u001b[0m\u001b[0;34m\u001b[0m\u001b[0;34m\u001b[0m\u001b[0m\n\u001b[0m",
            "\u001b[0;32m<ipython-input-66-96fa3f7baffa>\u001b[0m in \u001b[0;36mzz\u001b[0;34m()\u001b[0m\n\u001b[1;32m      4\u001b[0m   \u001b[0mz\u001b[0m\u001b[0;34m=\u001b[0m\u001b[0;36m2\u001b[0m       \u001b[0;31m#enclosing\u001b[0m\u001b[0;34m\u001b[0m\u001b[0;34m\u001b[0m\u001b[0m\n\u001b[1;32m      5\u001b[0m   \u001b[0;32mdef\u001b[0m \u001b[0mzz\u001b[0m\u001b[0;34m(\u001b[0m\u001b[0;34m)\u001b[0m\u001b[0;34m:\u001b[0m\u001b[0;34m\u001b[0m\u001b[0;34m\u001b[0m\u001b[0m\n\u001b[0;32m----> 6\u001b[0;31m     \u001b[0mz\u001b[0m\u001b[0;34m=\u001b[0m\u001b[0mz\u001b[0m\u001b[0;34m+\u001b[0m\u001b[0;36m1\u001b[0m\u001b[0;34m\u001b[0m\u001b[0;34m\u001b[0m\u001b[0m\n\u001b[0m\u001b[1;32m      7\u001b[0m     \u001b[0;32mreturn\u001b[0m \u001b[0mz\u001b[0m \u001b[0;31m#local\u001b[0m\u001b[0;34m\u001b[0m\u001b[0;34m\u001b[0m\u001b[0m\n\u001b[1;32m      8\u001b[0m   \u001b[0;32mreturn\u001b[0m \u001b[0mzz\u001b[0m\u001b[0;34m\u001b[0m\u001b[0;34m\u001b[0m\u001b[0m\n",
            "\u001b[0;31mUnboundLocalError\u001b[0m: local variable 'z' referenced before assignment"
          ]
        }
      ]
    },
    {
      "cell_type": "code",
      "metadata": {
        "id": "c6YCDXFujbtW"
      },
      "source": [
        "z=1          #global\r\n",
        "\r\n",
        "def zzz():\r\n",
        "  z=2       #enclosing\r\n",
        "  def zz():\r\n",
        "    global z\r\n",
        "    z=z+1  \r\n",
        "    return z #local\r\n",
        "  return zz"
      ],
      "execution_count": null,
      "outputs": []
    },
    {
      "cell_type": "code",
      "metadata": {
        "colab": {
          "base_uri": "https://localhost:8080/"
        },
        "id": "XxOswVbdjzSa",
        "outputId": "bf5b591c-16cb-42ec-c9e6-e363f33d56da"
      },
      "source": [
        "z"
      ],
      "execution_count": null,
      "outputs": [
        {
          "output_type": "execute_result",
          "data": {
            "text/plain": [
              "1"
            ]
          },
          "metadata": {
            "tags": []
          },
          "execution_count": 73
        }
      ]
    },
    {
      "cell_type": "markdown",
      "metadata": {
        "id": "8WJfteOPjuLH"
      },
      "source": [
        "### nonlocal\r\n",
        "- enclosing 영역에서 참조하도록 함"
      ]
    },
    {
      "cell_type": "code",
      "metadata": {
        "colab": {
          "base_uri": "https://localhost:8080/"
        },
        "id": "dpafMiqijzVf",
        "outputId": "bfcf1194-40f4-4692-de3c-8f2695a504d8"
      },
      "source": [
        "zzz()() #글로벌 영역 참조해서 1+1=2"
      ],
      "execution_count": null,
      "outputs": [
        {
          "output_type": "execute_result",
          "data": {
            "text/plain": [
              "2"
            ]
          },
          "metadata": {
            "tags": []
          },
          "execution_count": 74
        }
      ]
    },
    {
      "cell_type": "code",
      "metadata": {
        "id": "FOxlKmenjp1p"
      },
      "source": [
        "z=1          #global\r\n",
        "\r\n",
        "def zzz():\r\n",
        "  z=2       #enclosing\r\n",
        "  def zz():\r\n",
        "    nonlocal z\r\n",
        "    z=z+1  \r\n",
        "    return z #local\r\n",
        "  return zz"
      ],
      "execution_count": null,
      "outputs": []
    },
    {
      "cell_type": "code",
      "metadata": {
        "colab": {
          "base_uri": "https://localhost:8080/"
        },
        "id": "8rNDvG6ajwRq",
        "outputId": "9767c53c-8f5f-437a-8320-e187f4888cb8"
      },
      "source": [
        "z"
      ],
      "execution_count": null,
      "outputs": [
        {
          "output_type": "execute_result",
          "data": {
            "text/plain": [
              "1"
            ]
          },
          "metadata": {
            "tags": []
          },
          "execution_count": 70
        }
      ]
    },
    {
      "cell_type": "code",
      "metadata": {
        "colab": {
          "base_uri": "https://localhost:8080/"
        },
        "id": "ECI5zSZhjxG7",
        "outputId": "a44f1b5f-7487-49bd-fb53-e9229dc5c0a1"
      },
      "source": [
        "zzz()() # enclosing 영역 참조해서 2+1=3"
      ],
      "execution_count": null,
      "outputs": [
        {
          "output_type": "execute_result",
          "data": {
            "text/plain": [
              "3"
            ]
          },
          "metadata": {
            "tags": []
          },
          "execution_count": 71
        }
      ]
    },
    {
      "cell_type": "markdown",
      "metadata": {
        "id": "yiYrs9uAkDPf"
      },
      "source": [
        "### 책 Functional Programming in Python  by David Mertz\r\n",
        "- Functional Programming(FP)\r\n",
        "  - Lisp, Scala, Haskell 등이 함수형 패러다임 언어\r\n",
        "  - first class: 값처럼 사용 가능\r\n",
        "  - Recursion 사용\r\n",
        "    - Flow Control 하는 loop 사용 피함\r\n",
        "  - list processing\r\n",
        "  - 문 안쓰고 식 사용\r\n",
        "  - higher order functions 을 사용\r\n",
        "\r\n",
        "\r\n",
        ">  Learning curve : 생산성, 자기 평가\r\n",
        "  - 파이썬은 쉬운 언어라서 \r\n",
        "  - 적용 어려움\r\n",
        "  - 함수형 패러다임이 아주 큰 비중을 차지함\r\n",
        "  - 생산성을 높임\r\n",
        "\r\n",
        "> 딥러닝에서는 값 흐르는 방법 2가지  feedforward, back propagation\r\n",
        "\r\n",
        "#### Encapsulation \r\n",
        "- 함수, 클래스로 묶음\r\n",
        "- 재사용 용이 \r\n",
        "- for 문 : 컨트롤이 복잡해짐\r\n",
        "\r\n",
        "#### comprehension\r\n",
        "- 간략화\r\n",
        "- list, set, dictionary comprehension"
      ]
    },
    {
      "cell_type": "markdown",
      "metadata": {
        "id": "9OKzGXEgr0Ke"
      },
      "source": [
        "#### Accumulator Pattern\r\n",
        "- design pattern \r\n",
        "- reduction "
      ]
    },
    {
      "cell_type": "code",
      "metadata": {
        "id": "TAcl63d1qcsN"
      },
      "source": [
        "temp=[]  \r\n",
        "for i in range(10):\r\n",
        "  temp.append(i)"
      ],
      "execution_count": null,
      "outputs": []
    },
    {
      "cell_type": "code",
      "metadata": {
        "colab": {
          "base_uri": "https://localhost:8080/"
        },
        "id": "4Yrmf6IQjyWY",
        "outputId": "81f2b425-e388-465e-d3e2-a2786c845492"
      },
      "source": [
        "temp"
      ],
      "execution_count": null,
      "outputs": [
        {
          "output_type": "execute_result",
          "data": {
            "text/plain": [
              "[0, 1, 2, 3, 4, 5, 6, 7, 8, 9]"
            ]
          },
          "metadata": {
            "tags": []
          },
          "execution_count": 80
        }
      ]
    },
    {
      "cell_type": "code",
      "metadata": {
        "colab": {
          "base_uri": "https://localhost:8080/"
        },
        "id": "_mtpknp_sHfl",
        "outputId": "a61f5776-c9b1-4b21-9710-64ca8901fb92"
      },
      "source": [
        "temp=0\r\n",
        "for i in range(10):\r\n",
        "  temp+=i\r\n",
        "\r\n",
        "temp  #0~9까지의 합을 구함"
      ],
      "execution_count": null,
      "outputs": [
        {
          "output_type": "execute_result",
          "data": {
            "text/plain": [
              "45"
            ]
          },
          "metadata": {
            "tags": []
          },
          "execution_count": 81
        }
      ]
    },
    {
      "cell_type": "markdown",
      "metadata": {
        "id": "a_TkR8p4sc3s"
      },
      "source": [
        "generator\r\n",
        "- generator expression\r\n",
        "- yield \r\n",
        "  -  복잡한 구조 가능\r\n",
        "\r\n",
        "### Recursion\r\n",
        "- **자기 자신을 호출함**\r\n",
        "- 수식으로 표현 가능하면 recursion을 표현 가능\r\n",
        "- 규칙 기반으로 값 찾음\r\n",
        "\r\n",
        "예. 1 3 5 7 9 11 \r\n",
        "An+1 =An+2\r\n",
        "\r\n",
        "- 실무에서는 사용하지 않음\r\n",
        "- Python은 데이터가 크면 재귀 사용 비추"
      ]
    },
    {
      "cell_type": "code",
      "metadata": {
        "id": "h5ulRneLsNx9"
      },
      "source": [
        "def a(x):\r\n",
        "  if x==1:\r\n",
        "    return 1\r\n",
        "  return a(x-1)+2"
      ],
      "execution_count": null,
      "outputs": []
    },
    {
      "cell_type": "code",
      "metadata": {
        "colab": {
          "base_uri": "https://localhost:8080/"
        },
        "id": "EL2ckrL4tR8_",
        "outputId": "88daba9a-a495-4fdc-f527-0dd8a5a208bf"
      },
      "source": [
        "a(1)"
      ],
      "execution_count": null,
      "outputs": [
        {
          "output_type": "execute_result",
          "data": {
            "text/plain": [
              "1"
            ]
          },
          "metadata": {
            "tags": []
          },
          "execution_count": 84
        }
      ]
    },
    {
      "cell_type": "code",
      "metadata": {
        "colab": {
          "base_uri": "https://localhost:8080/"
        },
        "id": "lEMwpFnQtYoQ",
        "outputId": "d2c405bc-8414-4da1-dd5c-2a1a13c853c4"
      },
      "source": [
        "a(2)"
      ],
      "execution_count": null,
      "outputs": [
        {
          "output_type": "execute_result",
          "data": {
            "text/plain": [
              "3"
            ]
          },
          "metadata": {
            "tags": []
          },
          "execution_count": 85
        }
      ]
    },
    {
      "cell_type": "code",
      "metadata": {
        "id": "R5yHnGnAtZR9"
      },
      "source": [
        "#1 2 4 8 16  Bn+1=@Bn\r\n",
        "def a(x):\r\n",
        "  if x==1:\r\n",
        "    return 1\r\n",
        "  return a(x-1)*2"
      ],
      "execution_count": null,
      "outputs": []
    },
    {
      "cell_type": "code",
      "metadata": {
        "colab": {
          "base_uri": "https://localhost:8080/"
        },
        "id": "TmBseuN-td12",
        "outputId": "9852d734-4362-4aad-ee32-d12a43e9ae56"
      },
      "source": [
        "a(1)"
      ],
      "execution_count": null,
      "outputs": [
        {
          "output_type": "execute_result",
          "data": {
            "text/plain": [
              "1"
            ]
          },
          "metadata": {
            "tags": []
          },
          "execution_count": 107
        }
      ]
    },
    {
      "cell_type": "code",
      "metadata": {
        "colab": {
          "base_uri": "https://localhost:8080/"
        },
        "id": "mIhHbMONtd5E",
        "outputId": "ed911d37-61d8-4fb6-f544-9179aa17379d"
      },
      "source": [
        "a(2)"
      ],
      "execution_count": null,
      "outputs": [
        {
          "output_type": "execute_result",
          "data": {
            "text/plain": [
              "2"
            ]
          },
          "metadata": {
            "tags": []
          },
          "execution_count": 108
        }
      ]
    },
    {
      "cell_type": "code",
      "metadata": {
        "colab": {
          "base_uri": "https://localhost:8080/"
        },
        "id": "V-EXfqtStf9L",
        "outputId": "828881ab-e8c0-4c99-c2f1-4afe34cb0eb1"
      },
      "source": [
        "a(3)"
      ],
      "execution_count": null,
      "outputs": [
        {
          "output_type": "execute_result",
          "data": {
            "text/plain": [
              "4"
            ]
          },
          "metadata": {
            "tags": []
          },
          "execution_count": 109
        }
      ]
    },
    {
      "cell_type": "markdown",
      "metadata": {
        "id": "LvNILcZcuig2"
      },
      "source": [
        "- 재귀를 사용하면 속도 저하\r\n",
        "- 오버플로우와 같은 현상 생김\r\n",
        "  - 스택오버플로우:계산하는 범위를 초과하는 경우\r\n",
        "  - linearization(선형화)를 통해서 \r\n",
        "  - mro ( resolution order) 다중상속에서 상속순서를 해결\r\n",
        "  - 메모리 많이 사용\r\n",
        "- tail recursion elimination을 제공하지 않아서 Python에서는 사용을 권장하지 않음"
      ]
    },
    {
      "cell_type": "code",
      "metadata": {
        "id": "Rv86XtSAtg4q"
      },
      "source": [
        "#피보나치 수열 1 1 2 3 5 8 13 21\r\n",
        "def a(x):\r\n",
        "  if x==1 or x==2:\r\n",
        "    return 1\r\n",
        "  return a(x-1)+a(x-2)"
      ],
      "execution_count": null,
      "outputs": []
    },
    {
      "cell_type": "code",
      "metadata": {
        "colab": {
          "base_uri": "https://localhost:8080/"
        },
        "id": "wLEuykh-uXe7",
        "outputId": "c4c0b979-11bf-4533-ab97-56b5ca06ab14"
      },
      "source": [
        "a(1)"
      ],
      "execution_count": null,
      "outputs": [
        {
          "output_type": "execute_result",
          "data": {
            "text/plain": [
              "1"
            ]
          },
          "metadata": {
            "tags": []
          },
          "execution_count": 119
        }
      ]
    },
    {
      "cell_type": "code",
      "metadata": {
        "colab": {
          "base_uri": "https://localhost:8080/"
        },
        "id": "CGLk6tvTuX4h",
        "outputId": "fa3a27f5-8cf6-4fda-c81e-56ebb7920086"
      },
      "source": [
        "a(2)"
      ],
      "execution_count": null,
      "outputs": [
        {
          "output_type": "execute_result",
          "data": {
            "text/plain": [
              "1"
            ]
          },
          "metadata": {
            "tags": []
          },
          "execution_count": 120
        }
      ]
    },
    {
      "cell_type": "code",
      "metadata": {
        "colab": {
          "base_uri": "https://localhost:8080/"
        },
        "id": "rUldWGJquYUO",
        "outputId": "44b78545-be3d-4530-8f1d-981251a901df"
      },
      "source": [
        "a(5)"
      ],
      "execution_count": null,
      "outputs": [
        {
          "output_type": "execute_result",
          "data": {
            "text/plain": [
              "5"
            ]
          },
          "metadata": {
            "tags": []
          },
          "execution_count": 121
        }
      ]
    },
    {
      "cell_type": "markdown",
      "metadata": {
        "id": "zNY3PJHNvX84"
      },
      "source": [
        "dynamic programming\r\n",
        "- 중요함\r\n"
      ]
    },
    {
      "cell_type": "code",
      "metadata": {
        "id": "-oQVb7Iqufa8"
      },
      "source": [
        " #다이나믹 프로그래밍으로 피보나치 수열 구현\r\n",
        " def fib(n):   \r\n",
        "...     \"\"\"Print a Fibonacci series up to n.\"\"\"\r\n",
        "...     a, b = 0, 1\r\n",
        "...     while a < n:\r\n",
        "...         print(a, end=' ')\r\n",
        "...         a, b = b, a+b\r\n",
        "...     print()"
      ],
      "execution_count": null,
      "outputs": []
    },
    {
      "cell_type": "markdown",
      "metadata": {
        "id": "r-IaYC-VvK5W"
      },
      "source": [
        "#### 딥러닝 관점\r\n",
        "- comprehension, recursion 권장하지 않음\r\n",
        "  - 메모리\r\n",
        "- **iterator, generator, map, filter, reduce** 사용 권장 \r\n",
        "- FP 방식은 더 깔끔\r\n",
        "\r\n",
        "\r\n",
        "### Callables\r\n",
        "- `()` 붙일수 있는 predicate function\r\n",
        "- 함수, 클래스, call 정의된 클래스의 인스턴스\r\n",
        "\r\n",
        "> 텐서플로우에서 closure 기법 많이 사용함\r\n",
        "  -  함수 중첩\r\n",
        "\r\n",
        "- 첫 인자가 그다음 인자에 영향을 미쳐서 다양한 형태로 만들 수 있음\r\n",
        "  객체지향 방식에서는 `__init__` 따라서 `__call__` 이 다양하게 바뀜\r\n",
        "\r\n",
        "** 함수형 패러다임은 딥러닝에서 중요하니 복습해주세요!"
      ]
    }
  ]
}