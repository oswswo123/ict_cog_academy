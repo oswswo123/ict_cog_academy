{
  "nbformat": 4,
  "nbformat_minor": 0,
  "metadata": {
    "colab": {
      "name": "210312_7기_고급시각저녁",
      "provenance": [],
      "toc_visible": true
    },
    "kernelspec": {
      "name": "python3",
      "display_name": "Python 3"
    }
  },
  "cells": [
    {
      "cell_type": "markdown",
      "metadata": {
        "id": "i6R_-uOlypk9"
      },
      "source": [
        "# [ICTCOG AI Academy] 7기 고급시각저녁반\r\n",
        "# Learning technique\r\n",
        "\r\n",
        "### 데이터 처리 (Python) with 도메인 지식\r\n",
        "### EDA(통계적 지식 요구)\r\n",
        "### 모델 (인공지능 - 딥러닝기법\r\n",
        "  - 선형대수 /미적분"
      ]
    },
    {
      "cell_type": "code",
      "metadata": {
        "id": "jzpS46qOzYud"
      },
      "source": [
        "import tensorflow as tf"
      ],
      "execution_count": 1,
      "outputs": []
    },
    {
      "cell_type": "markdown",
      "metadata": {
        "id": "a9vkE7J65dhM"
      },
      "source": [
        "### layer\r\n",
        "- 레이어 구축해서 모델 생성 "
      ]
    },
    {
      "cell_type": "code",
      "metadata": {
        "colab": {
          "base_uri": "https://localhost:8080/"
        },
        "id": "oH2agSmTzbH3",
        "outputId": "ae4e7b3b-951b-4834-cc44-166527080c00"
      },
      "source": [
        "tf.keras.layers.Dense(32, activation='relu') #간단한 구조만 가능"
      ],
      "execution_count": 2,
      "outputs": [
        {
          "output_type": "execute_result",
          "data": {
            "text/plain": [
              "<tensorflow.python.keras.layers.core.Dense at 0x7f6f72c02f10>"
            ]
          },
          "metadata": {
            "tags": []
          },
          "execution_count": 2
        }
      ]
    },
    {
      "cell_type": "code",
      "metadata": {
        "colab": {
          "base_uri": "https://localhost:8080/"
        },
        "id": "VLoDKwQCzoL1",
        "outputId": "7c0e3477-88ef-4610-bfed-94e926270dc7"
      },
      "source": [
        "tf.keras.layers.Dense(32)           \r\n",
        "tf.keras.layers.BatchNormalization()\r\n",
        "tf.keras.layers.Activation('relu')"
      ],
      "execution_count": 3,
      "outputs": [
        {
          "output_type": "execute_result",
          "data": {
            "text/plain": [
              "<tensorflow.python.keras.layers.core.Activation at 0x7f6f72c9d350>"
            ]
          },
          "metadata": {
            "tags": []
          },
          "execution_count": 3
        }
      ]
    },
    {
      "cell_type": "code",
      "metadata": {
        "id": "2Wst0JSJ0K7p"
      },
      "source": [
        "tf.keras.layers.Add  \r\n",
        "tf.keras.layers.Average \r\n",
        "tf.keras.layers.DepthwiseConv2D #.keras.layers.Add  \r\n",
        "tf.keras.layers.Average \r\n",
        "tf.keras.layers.DepthwiseConv2D #파라미터 줄이는 기법 \r\n",
        "tf.keras.layers.Dropout #ensemble 효과 \r\n",
        "tf.keras.layers.GRU\r\n",
        "tf.keras.layers.Subtract\r\n",
        "tf.keras.layers.UpSampling2D"
      ],
      "execution_count": null,
      "outputs": []
    },
    {
      "cell_type": "code",
      "metadata": {
        "id": "MzcoKVhGz1SP"
      },
      "source": [
        "tf.keras.layers.ActivityRegularization  #값 크기 제한한"
      ],
      "execution_count": null,
      "outputs": []
    },
    {
      "cell_type": "markdown",
      "metadata": {
        "id": "PzViVEJH1sFs"
      },
      "source": [
        "최신 모델은 단방향 아님"
      ]
    },
    {
      "cell_type": "code",
      "metadata": {
        "id": "DtyInlGj1NvF"
      },
      "source": [
        "tf.keras.models.Sequential #단방향  \r\n",
        "tf.keras.models.Model      #multi-inputs,-outputs"
      ],
      "execution_count": null,
      "outputs": []
    },
    {
      "cell_type": "markdown",
      "metadata": {
        "id": "bEGOTlwG19ma"
      },
      "source": [
        "- 모델구성(하이퍼 파라미터)이기 때문에 NAS, AutoML 사용해서 자동화 가능\r\n",
        "\r\n",
        "## AutoML \r\n",
        "- TPOT, [AutoKeras](https://autokeras.com/)\r\n",
        "  - 자동으로 머신러닝\r\n",
        "  - 최신 기법 부족\r\n",
        "### [TPOT](http://epistasislab.github.io/tpot/)\r\n",
        "- 현재 프레임워크의 모든 머신러닝 알고리즘으로 가능한 모든 경우 탐색해서 파라미터 최적화도 자동으로 해줌 "
      ]
    },
    {
      "cell_type": "code",
      "metadata": {
        "colab": {
          "base_uri": "https://localhost:8080/"
        },
        "id": "p55lITA016Zc",
        "outputId": "efb2a33d-8903-4088-d9d8-de03caf08fba"
      },
      "source": [
        "!pip install tpot"
      ],
      "execution_count": 6,
      "outputs": [
        {
          "output_type": "stream",
          "text": [
            "Requirement already satisfied: tpot in /usr/local/lib/python3.7/dist-packages (0.11.7)\n",
            "Requirement already satisfied: joblib>=0.13.2 in /usr/local/lib/python3.7/dist-packages (from tpot) (1.0.1)\n",
            "Requirement already satisfied: deap>=1.2 in /usr/local/lib/python3.7/dist-packages (from tpot) (1.3.1)\n",
            "Requirement already satisfied: xgboost>=1.1.0 in /usr/local/lib/python3.7/dist-packages (from tpot) (1.3.3)\n",
            "Requirement already satisfied: scikit-learn>=0.22.0 in /usr/local/lib/python3.7/dist-packages (from tpot) (0.22.2.post1)\n",
            "Requirement already satisfied: scipy>=1.3.1 in /usr/local/lib/python3.7/dist-packages (from tpot) (1.4.1)\n",
            "Requirement already satisfied: update-checker>=0.16 in /usr/local/lib/python3.7/dist-packages (from tpot) (0.18.0)\n",
            "Requirement already satisfied: stopit>=1.1.1 in /usr/local/lib/python3.7/dist-packages (from tpot) (1.1.2)\n",
            "Requirement already satisfied: numpy>=1.16.3 in /usr/local/lib/python3.7/dist-packages (from tpot) (1.19.5)\n",
            "Requirement already satisfied: pandas>=0.24.2 in /usr/local/lib/python3.7/dist-packages (from tpot) (1.1.5)\n",
            "Requirement already satisfied: tqdm>=4.36.1 in /usr/local/lib/python3.7/dist-packages (from tpot) (4.41.1)\n",
            "Requirement already satisfied: requests>=2.3.0 in /usr/local/lib/python3.7/dist-packages (from update-checker>=0.16->tpot) (2.23.0)\n",
            "Requirement already satisfied: python-dateutil>=2.7.3 in /usr/local/lib/python3.7/dist-packages (from pandas>=0.24.2->tpot) (2.8.1)\n",
            "Requirement already satisfied: pytz>=2017.2 in /usr/local/lib/python3.7/dist-packages (from pandas>=0.24.2->tpot) (2018.9)\n",
            "Requirement already satisfied: certifi>=2017.4.17 in /usr/local/lib/python3.7/dist-packages (from requests>=2.3.0->update-checker>=0.16->tpot) (2020.12.5)\n",
            "Requirement already satisfied: idna<3,>=2.5 in /usr/local/lib/python3.7/dist-packages (from requests>=2.3.0->update-checker>=0.16->tpot) (2.10)\n",
            "Requirement already satisfied: urllib3!=1.25.0,!=1.25.1,<1.26,>=1.21.1 in /usr/local/lib/python3.7/dist-packages (from requests>=2.3.0->update-checker>=0.16->tpot) (1.24.3)\n",
            "Requirement already satisfied: chardet<4,>=3.0.2 in /usr/local/lib/python3.7/dist-packages (from requests>=2.3.0->update-checker>=0.16->tpot) (3.0.4)\n",
            "Requirement already satisfied: six>=1.5 in /usr/local/lib/python3.7/dist-packages (from python-dateutil>=2.7.3->pandas>=0.24.2->tpot) (1.15.0)\n"
          ],
          "name": "stdout"
        }
      ]
    },
    {
      "cell_type": "code",
      "metadata": {
        "id": "fdCx424B2KX5"
      },
      "source": [
        "from tpot import TPOTClassifier"
      ],
      "execution_count": 8,
      "outputs": []
    },
    {
      "cell_type": "code",
      "metadata": {
        "id": "mP-bS9M-2LeH"
      },
      "source": [
        "from sklearn.datasets import load_iris"
      ],
      "execution_count": 9,
      "outputs": []
    },
    {
      "cell_type": "code",
      "metadata": {
        "id": "rbeVSb4h297T"
      },
      "source": [
        "data=load_iris()"
      ],
      "execution_count": 10,
      "outputs": []
    },
    {
      "cell_type": "code",
      "metadata": {
        "id": "CJ26Rr0E2_JQ"
      },
      "source": [
        "from tpot import TPOTClassifier"
      ],
      "execution_count": 11,
      "outputs": []
    },
    {
      "cell_type": "markdown",
      "metadata": {
        "id": "7OtPeGKU3DlG"
      },
      "source": [
        "유전자 알고리즘: 세대를 거쳐가면서 적자생존"
      ]
    },
    {
      "cell_type": "code",
      "metadata": {
        "id": "vrMmtJpF3BAm"
      },
      "source": [
        "tp = TPOTClassifier(generations=10, population_size=10)"
      ],
      "execution_count": 12,
      "outputs": []
    },
    {
      "cell_type": "code",
      "metadata": {
        "colab": {
          "base_uri": "https://localhost:8080/"
        },
        "id": "5foPq3D73P0O",
        "outputId": "d05fd0c2-6be6-42ee-c7c8-46798653c628"
      },
      "source": [
        "tp.fit(data.data, data.target)"
      ],
      "execution_count": 13,
      "outputs": [
        {
          "output_type": "execute_result",
          "data": {
            "text/plain": [
              "TPOTClassifier(config_dict=None, crossover_rate=0.1, cv=5,\n",
              "               disable_update_check=False, early_stop=None, generations=10,\n",
              "               log_file=None, max_eval_time_mins=5, max_time_mins=None,\n",
              "               memory=None, mutation_rate=0.9, n_jobs=1, offspring_size=None,\n",
              "               periodic_checkpoint_folder=None, population_size=10,\n",
              "               random_state=None, scoring=None, subsample=1.0, template=None,\n",
              "               use_dask=False, verbosity=0, warm_start=False)"
            ]
          },
          "metadata": {
            "tags": []
          },
          "execution_count": 13
        }
      ]
    },
    {
      "cell_type": "code",
      "metadata": {
        "id": "xbM0ImKF3SKr"
      },
      "source": [
        "tp.export('automl.py')"
      ],
      "execution_count": 14,
      "outputs": []
    },
    {
      "cell_type": "code",
      "metadata": {
        "id": "Q_oPDro33o_i"
      },
      "source": [
        "# TPOT 결과 \r\n",
        "\r\n",
        "import numpy as np\r\n",
        "import pandas as pd\r\n",
        "from sklearn.feature_selection import SelectFwe, f_classif\r\n",
        "from sklearn.model_selection import train_test_split\r\n",
        "from sklearn.neural_network import MLPClassifier\r\n",
        "from sklearn.pipeline import make_pipeline\r\n",
        "\r\n",
        "# NOTE: Make sure that the outcome column is labeled 'target' in the data file\r\n",
        "tpot_data = pd.read_csv('PATH/TO/DATA/FILE', sep='COLUMN_SEPARATOR', dtype=np.float64)\r\n",
        "features = tpot_data.drop('target', axis=1)\r\n",
        "training_features, testing_features, training_target, testing_target = \\\r\n",
        "            train_test_split(features, tpot_data['target'], random_state=None)\r\n",
        "\r\n",
        "# Average CV score on the training set was: 0.9866666666666667\r\n",
        "exported_pipeline = make_pipeline(\r\n",
        "    SelectFwe(score_func=f_classif, alpha=0.041),\r\n",
        "    MLPClassifier(alpha=0.01, learning_rate_init=0.001)\r\n",
        ")\r\n",
        "\r\n",
        "exported_pipeline.fit(training_features, training_target)\r\n",
        "results = exported_pipeline.predict(testing_features)"
      ],
      "execution_count": null,
      "outputs": []
    },
    {
      "cell_type": "markdown",
      "metadata": {
        "id": "k3N3cwJ15Vhn"
      },
      "source": [
        "아직까지는 수동으로 구축하는게 더 성능 좋음"
      ]
    },
    {
      "cell_type": "code",
      "metadata": {
        "id": "OzB9BTWA5Y7W"
      },
      "source": [
        "import tensorflow as tf"
      ],
      "execution_count": 15,
      "outputs": []
    },
    {
      "cell_type": "markdown",
      "metadata": {
        "id": "v4Hap7Am5rp8"
      },
      "source": [
        "- 가능한 경우 중 잘 될만한 조합 찾아서 조합시켜 \r\n",
        "> scikit-learn의 GridSearchCV: brute force 방식"
      ]
    },
    {
      "cell_type": "code",
      "metadata": {
        "id": "r6s2WO_Q5poe"
      },
      "source": [
        "from sklearn.model_selection import GridSearchCV       # brute force방식 , \r\n",
        "from sklearn.model_selection import RandomizedSearchCV # 확률기반"
      ],
      "execution_count": 16,
      "outputs": []
    },
    {
      "cell_type": "markdown",
      "metadata": {
        "id": "FYB6yA_M6zOi"
      },
      "source": [
        "- compile에서  딕셔너리 이용 loss 여러 개 사용 가능"
      ]
    },
    {
      "cell_type": "code",
      "metadata": {
        "id": "K2k2eMge6Ofh"
      },
      "source": [
        "model.fit #학습 누적되나 batch만큼 학습하기에는 부적합\r\n",
        "model.train_on_batch  "
      ],
      "execution_count": null,
      "outputs": []
    },
    {
      "cell_type": "markdown",
      "metadata": {
        "id": "nDiBjFHt87po"
      },
      "source": [
        "- 하이퍼 파라미터 튜닝\r\n",
        "- 학습과 동시에 튜닝하는 법 하이퍼 파라미터 튜닝\r\n",
        "- 학습과 동시에 튜닝하는 법\r\n",
        "Gradient Tape\r\n",
        "Gradient Tape"
      ]
    },
    {
      "cell_type": "markdown",
      "metadata": {
        "id": "59vLm0mD6VUx"
      },
      "source": [
        "### [KerasTuner](https://www.tensorflow.org/tutorials/keras/keras_tuner)\r\n",
        "-  TensorFlow 에서 NN기반 최적의 모델 하이퍼파라미터 튜닝, 학습 알고리즘 하이퍼파라미터 튜닝## [KerasTuner](https://www.tensorflow.org/tutorials/keras/keras_tuner)\r\n",
        "-  TensorFlow 에서 NN기반 최적의 모델 하이퍼파라미터 튜낭, 알고리즘 하이퍼파라미터 튜닝하는 라이브러리하는 라이브러리"
      ]
    },
    {
      "cell_type": "code",
      "metadata": {
        "colab": {
          "base_uri": "https://localhost:8080/"
        },
        "id": "T3r6E2-s9Vn1",
        "outputId": "94ea41af-df0c-4f7a-8409-bb7b6a69baf4"
      },
      "source": [
        "!pip install -U keras-tuner"
      ],
      "execution_count": 18,
      "outputs": [
        {
          "output_type": "stream",
          "text": [
            "Requirement already up-to-date: keras-tuner in /usr/local/lib/python3.7/dist-packages (1.0.2)\n",
            "Requirement already satisfied, skipping upgrade: scikit-learn in /usr/local/lib/python3.7/dist-packages (from keras-tuner) (0.22.2.post1)\n",
            "Requirement already satisfied, skipping upgrade: packaging in /usr/local/lib/python3.7/dist-packages (from keras-tuner) (20.9)\n",
            "Requirement already satisfied, skipping upgrade: numpy in /usr/local/lib/python3.7/dist-packages (from keras-tuner) (1.19.5)\n",
            "Requirement already satisfied, skipping upgrade: future in /usr/local/lib/python3.7/dist-packages (from keras-tuner) (0.16.0)\n",
            "Requirement already satisfied, skipping upgrade: colorama in /usr/local/lib/python3.7/dist-packages (from keras-tuner) (0.4.4)\n",
            "Requirement already satisfied, skipping upgrade: scipy in /usr/local/lib/python3.7/dist-packages (from keras-tuner) (1.4.1)\n",
            "Requirement already satisfied, skipping upgrade: terminaltables in /usr/local/lib/python3.7/dist-packages (from keras-tuner) (3.1.0)\n",
            "Requirement already satisfied, skipping upgrade: requests in /usr/local/lib/python3.7/dist-packages (from keras-tuner) (2.23.0)\n",
            "Requirement already satisfied, skipping upgrade: tqdm in /usr/local/lib/python3.7/dist-packages (from keras-tuner) (4.41.1)\n",
            "Requirement already satisfied, skipping upgrade: tabulate in /usr/local/lib/python3.7/dist-packages (from keras-tuner) (0.8.9)\n",
            "Requirement already satisfied, skipping upgrade: joblib>=0.11 in /usr/local/lib/python3.7/dist-packages (from scikit-learn->keras-tuner) (1.0.1)\n",
            "Requirement already satisfied, skipping upgrade: pyparsing>=2.0.2 in /usr/local/lib/python3.7/dist-packages (from packaging->keras-tuner) (2.4.7)\n",
            "Requirement already satisfied, skipping upgrade: idna<3,>=2.5 in /usr/local/lib/python3.7/dist-packages (from requests->keras-tuner) (2.10)\n",
            "Requirement already satisfied, skipping upgrade: certifi>=2017.4.17 in /usr/local/lib/python3.7/dist-packages (from requests->keras-tuner) (2020.12.5)\n",
            "Requirement already satisfied, skipping upgrade: chardet<4,>=3.0.2 in /usr/local/lib/python3.7/dist-packages (from requests->keras-tuner) (3.0.4)\n",
            "Requirement already satisfied, skipping upgrade: urllib3!=1.25.0,!=1.25.1,<1.26,>=1.21.1 in /usr/local/lib/python3.7/dist-packages (from requests->keras-tuner) (1.24.3)\n"
          ],
          "name": "stdout"
        }
      ]
    },
    {
      "cell_type": "code",
      "metadata": {
        "id": "WAGLHx3a9WUB"
      },
      "source": [
        "import kerastuner as kt"
      ],
      "execution_count": 19,
      "outputs": []
    },
    {
      "cell_type": "code",
      "metadata": {
        "colab": {
          "base_uri": "https://localhost:8080/"
        },
        "id": "WngL2_iM9ZtE",
        "outputId": "1efc6e33-a142-42a8-e0cb-79abe32325d3"
      },
      "source": [
        "dir(kt) #HyperParameter,RandomSearch, Oracle"
      ],
      "execution_count": 20,
      "outputs": [
        {
          "output_type": "execute_result",
          "data": {
            "text/plain": [
              "['BayesianOptimization',\n",
              " 'CloudLogger',\n",
              " 'HyperModel',\n",
              " 'HyperParameter',\n",
              " 'HyperParameters',\n",
              " 'Hyperband',\n",
              " 'Logger',\n",
              " 'Objective',\n",
              " 'Oracle',\n",
              " 'RandomSearch',\n",
              " 'Tuner',\n",
              " '__builtins__',\n",
              " '__cached__',\n",
              " '__doc__',\n",
              " '__file__',\n",
              " '__loader__',\n",
              " '__name__',\n",
              " '__package__',\n",
              " '__path__',\n",
              " '__spec__',\n",
              " '__version__',\n",
              " 'absolute_import',\n",
              " 'applications',\n",
              " 'check_tf_version',\n",
              " 'config',\n",
              " 'distribute',\n",
              " 'division',\n",
              " 'engine',\n",
              " 'oracles',\n",
              " 'print_function',\n",
              " 'protos',\n",
              " 'tuners',\n",
              " 'utils']"
            ]
          },
          "metadata": {
            "tags": []
          },
          "execution_count": 20
        }
      ]
    },
    {
      "cell_type": "code",
      "metadata": {
        "id": "UuPwpCgU-sT9"
      },
      "source": [
        "(X_train,y_train),(X_test,y_test) =tf.keras.datasets.mnist.load_data()\r\n",
        "X_train= X_train/255\r\n",
        "X_test=X_test/255"
      ],
      "execution_count": 23,
      "outputs": []
    },
    {
      "cell_type": "code",
      "metadata": {
        "colab": {
          "base_uri": "https://localhost:8080/"
        },
        "id": "nVKkcku1_fvO",
        "outputId": "f31455b2-19f8-4705-acf8-e86b1cb69d6d"
      },
      "source": [
        "#전처리 방법 2가지\r\n",
        "#모델내에서 처리\r\n",
        "tf.keras.layers.experimental.preprocessing.Resizing\r\n",
        "tf.keras.layers.experimental.preprocessing.Rescaling\r\n",
        "#데이터 세트 자체 처리\r\n",
        "tf.keras.preprocessing.image_dataset_from_directory #다양한 전처리 기능 제공\r\n",
        "tf.keras.preprocessing.image.ImageDataGenerator"
      ],
      "execution_count": 24,
      "outputs": [
        {
          "output_type": "execute_result",
          "data": {
            "text/plain": [
              "tensorflow.python.keras.preprocessing.image.ImageDataGenerator"
            ]
          },
          "metadata": {
            "tags": []
          },
          "execution_count": 24
        }
      ]
    },
    {
      "cell_type": "markdown",
      "metadata": {
        "id": "OPjUBlB7AQlT"
      },
      "source": [
        "모델 만들기\r\n",
        "1. 외부 연동 모델 "
      ]
    },
    {
      "cell_type": "code",
      "metadata": {
        "id": "HFSN4wyFANnN"
      },
      "source": [
        "tf.keras.wrappers.scikit_learn.KerasClassifier()   #함수방식으로 Scikit과 연동해서 다양한 머신러닝 테크닉 가져다 씀"
      ],
      "execution_count": null,
      "outputs": []
    },
    {
      "cell_type": "code",
      "metadata": {
        "id": "eXTOSVTxBCWm"
      },
      "source": [
        "def build_model(hp):\r\n",
        "  model=tf.keras.models.Sequential()\r\n",
        "  model.add(tf.keras.layers.Flatten(input_shape=(28,28)))\r\n",
        "  units=hp.Int('units' , min_value=32, max_value=512 ,step=16) #32~512를 16칸씩 증가해서 하이퍼 파라미터\r\n",
        "  model.add(tf.keras.layers.Dense(units,activation='relu')) #units 128\r\n",
        "  model.add(tf.keras.layers.Dense(10))\r\n",
        "  learning=hp.Choice('learning_rate',values=[1e-2,1e-3,1e-4,1e-5])\r\n",
        "  model.compile(optimizer=tf.keras.optimizers.Adam(learning),\r\n",
        "                loss=tf.keras.losses.SparseCategoricalCrossentropy(from_logits=True),\r\n",
        "                metrics=['accuracy']\r\n",
        "                )\r\n",
        "  return model"
      ],
      "execution_count": 45,
      "outputs": []
    },
    {
      "cell_type": "markdown",
      "metadata": {
        "id": "ootTPbyZEYqY"
      },
      "source": [
        "1. 처음부터 모델 만들어서 모델의 하이퍼파라미터 찾기\r\n",
        "2. 이미 생성된 모델 모델의 하이퍼파라미터 찾기"
      ]
    },
    {
      "cell_type": "code",
      "metadata": {
        "colab": {
          "base_uri": "https://localhost:8080/"
        },
        "id": "mkY5IQ5iC0W_",
        "outputId": "74167a03-d2a8-4e95-d253-8f51d0b70d9a"
      },
      "source": [
        "#튜닝 방법, Scikit과연동됨연동됨\r\n",
        "tuner = kt.Hyperband(build_model,'val_accuracy' ,2) #핵심 기능\r\n",
        "kt.BayesianOptimization \r\n",
        "kt.RandomSearch "
      ],
      "execution_count": 46,
      "outputs": [
        {
          "output_type": "stream",
          "text": [
            "INFO:tensorflow:Reloading Oracle from existing project ./untitled_project/oracle.json\n"
          ],
          "name": "stdout"
        },
        {
          "output_type": "execute_result",
          "data": {
            "text/plain": [
              "kerastuner.tuners.randomsearch.RandomSearch"
            ]
          },
          "metadata": {
            "tags": []
          },
          "execution_count": 46
        }
      ]
    },
    {
      "cell_type": "code",
      "metadata": {
        "colab": {
          "base_uri": "https://localhost:8080/"
        },
        "id": "ASai--z_FEsf",
        "outputId": "e6795b0f-22f1-4249-a448-001095f69bce"
      },
      "source": [
        "dir(kt) #"
      ],
      "execution_count": 26,
      "outputs": [
        {
          "output_type": "execute_result",
          "data": {
            "text/plain": [
              "['BayesianOptimization',\n",
              " 'CloudLogger',\n",
              " 'HyperModel',\n",
              " 'HyperParameter',\n",
              " 'HyperParameters',\n",
              " 'Hyperband',\n",
              " 'Logger',\n",
              " 'Objective',\n",
              " 'Oracle',\n",
              " 'RandomSearch',\n",
              " 'Tuner',\n",
              " '__builtins__',\n",
              " '__cached__',\n",
              " '__doc__',\n",
              " '__file__',\n",
              " '__loader__',\n",
              " '__name__',\n",
              " '__package__',\n",
              " '__path__',\n",
              " '__spec__',\n",
              " '__version__',\n",
              " 'absolute_import',\n",
              " 'applications',\n",
              " 'check_tf_version',\n",
              " 'config',\n",
              " 'distribute',\n",
              " 'division',\n",
              " 'engine',\n",
              " 'oracles',\n",
              " 'print_function',\n",
              " 'protos',\n",
              " 'tuners',\n",
              " 'utils']"
            ]
          },
          "metadata": {
            "tags": []
          },
          "execution_count": 26
        }
      ]
    },
    {
      "cell_type": "code",
      "metadata": {
        "colab": {
          "base_uri": "https://localhost:8080/"
        },
        "id": "RpbJ4yw8G7-y",
        "outputId": "d009e800-05be-46a4-ff0d-ada02abab6e7"
      },
      "source": [
        "tuner.search(X_train,y_train, epochs=10,validation_split=0.3)"
      ],
      "execution_count": 47,
      "outputs": [
        {
          "output_type": "stream",
          "text": [
            "Trial 30 Complete [00h 01m 24s]\n",
            "val_accuracy: 0.9703333377838135\n",
            "\n",
            "Best val_accuracy So Far: 0.9782222509384155\n",
            "Total elapsed time: 00h 18m 40s\n",
            "INFO:tensorflow:Oracle triggered exit\n"
          ],
          "name": "stdout"
        }
      ]
    },
    {
      "cell_type": "code",
      "metadata": {
        "id": "EjHjqDDONHDN"
      },
      "source": [
        "best=tuner.get_best_hyperparameters()"
      ],
      "execution_count": 49,
      "outputs": []
    },
    {
      "cell_type": "code",
      "metadata": {
        "colab": {
          "base_uri": "https://localhost:8080/"
        },
        "id": "zQgLt0ERNcMP",
        "outputId": "4eb3107c-610e-49e5-a1c9-7b4e35fe9481"
      },
      "source": [
        "dir(best[0])"
      ],
      "execution_count": 50,
      "outputs": [
        {
          "output_type": "execute_result",
          "data": {
            "text/plain": [
              "['Boolean',\n",
              " 'Choice',\n",
              " 'Fixed',\n",
              " 'Float',\n",
              " 'Int',\n",
              " '__class__',\n",
              " '__contains__',\n",
              " '__delattr__',\n",
              " '__dict__',\n",
              " '__dir__',\n",
              " '__doc__',\n",
              " '__eq__',\n",
              " '__format__',\n",
              " '__ge__',\n",
              " '__getattribute__',\n",
              " '__getitem__',\n",
              " '__gt__',\n",
              " '__hash__',\n",
              " '__init__',\n",
              " '__init_subclass__',\n",
              " '__le__',\n",
              " '__lt__',\n",
              " '__module__',\n",
              " '__ne__',\n",
              " '__new__',\n",
              " '__reduce__',\n",
              " '__reduce_ex__',\n",
              " '__repr__',\n",
              " '__setattr__',\n",
              " '__sizeof__',\n",
              " '__str__',\n",
              " '__subclasshook__',\n",
              " '__weakref__',\n",
              " '_conditions',\n",
              " '_conditions_are_active',\n",
              " '_exists',\n",
              " '_get_name',\n",
              " '_hps',\n",
              " '_maybe_conditional_scope',\n",
              " '_name_scopes',\n",
              " '_register',\n",
              " '_retrieve',\n",
              " '_space',\n",
              " '_validate_name',\n",
              " 'conditional_scope',\n",
              " 'copy',\n",
              " 'from_config',\n",
              " 'from_proto',\n",
              " 'get',\n",
              " 'get_config',\n",
              " 'is_active',\n",
              " 'merge',\n",
              " 'name_scope',\n",
              " 'space',\n",
              " 'to_proto',\n",
              " 'values']"
            ]
          },
          "metadata": {
            "tags": []
          },
          "execution_count": 50
        }
      ]
    },
    {
      "cell_type": "code",
      "metadata": {
        "id": "O_4fEcRdNcOX"
      },
      "source": [
        "model = tuner.hypermodel.build(best[0]) #가장 좋은 모델 생성"
      ],
      "execution_count": 51,
      "outputs": []
    },
    {
      "cell_type": "code",
      "metadata": {
        "colab": {
          "base_uri": "https://localhost:8080/"
        },
        "id": "ATymr6zpNcQm",
        "outputId": "f51d1bb8-1162-44e3-e8ba-f144b0ce20c4"
      },
      "source": [
        "model.summary()"
      ],
      "execution_count": 52,
      "outputs": [
        {
          "output_type": "stream",
          "text": [
            "Model: \"sequential\"\n",
            "_________________________________________________________________\n",
            "Layer (type)                 Output Shape              Param #   \n",
            "=================================================================\n",
            "flatten (Flatten)            (None, 784)               0         \n",
            "_________________________________________________________________\n",
            "dense (Dense)                (None, 384)               301440    \n",
            "_________________________________________________________________\n",
            "dense_1 (Dense)              (None, 10)                3850      \n",
            "=================================================================\n",
            "Total params: 305,290\n",
            "Trainable params: 305,290\n",
            "Non-trainable params: 0\n",
            "_________________________________________________________________\n"
          ],
          "name": "stdout"
        }
      ]
    },
    {
      "cell_type": "code",
      "metadata": {
        "id": "dLo416-rPTEg"
      },
      "source": [
        "X_train=X_train.reshape(-1,28,28,1) #3차원 이미지로 만듦"
      ],
      "execution_count": 58,
      "outputs": []
    },
    {
      "cell_type": "code",
      "metadata": {
        "colab": {
          "base_uri": "https://localhost:8080/"
        },
        "id": "MMszkqkbOk1S",
        "outputId": "f119f1fe-5121-425f-eb3e-fbc4410f6a35"
      },
      "source": [
        "dir(kt.HyperParameters) #4가지 경우Int, Float, Choice,  Boolean"
      ],
      "execution_count": 57,
      "outputs": [
        {
          "output_type": "execute_result",
          "data": {
            "text/plain": [
              "['Boolean',\n",
              " 'Choice',\n",
              " 'Fixed',\n",
              " 'Float',\n",
              " 'Int',\n",
              " '__class__',\n",
              " '__contains__',\n",
              " '__delattr__',\n",
              " '__dict__',\n",
              " '__dir__',\n",
              " '__doc__',\n",
              " '__eq__',\n",
              " '__format__',\n",
              " '__ge__',\n",
              " '__getattribute__',\n",
              " '__getitem__',\n",
              " '__gt__',\n",
              " '__hash__',\n",
              " '__init__',\n",
              " '__init_subclass__',\n",
              " '__le__',\n",
              " '__lt__',\n",
              " '__module__',\n",
              " '__ne__',\n",
              " '__new__',\n",
              " '__reduce__',\n",
              " '__reduce_ex__',\n",
              " '__repr__',\n",
              " '__setattr__',\n",
              " '__sizeof__',\n",
              " '__str__',\n",
              " '__subclasshook__',\n",
              " '__weakref__',\n",
              " '_conditions_are_active',\n",
              " '_exists',\n",
              " '_get_name',\n",
              " '_maybe_conditional_scope',\n",
              " '_register',\n",
              " '_retrieve',\n",
              " '_validate_name',\n",
              " 'conditional_scope',\n",
              " 'copy',\n",
              " 'from_config',\n",
              " 'from_proto',\n",
              " 'get',\n",
              " 'get_config',\n",
              " 'is_active',\n",
              " 'merge',\n",
              " 'name_scope',\n",
              " 'space',\n",
              " 'to_proto']"
            ]
          },
          "metadata": {
            "tags": []
          },
          "execution_count": 57
        }
      ]
    },
    {
      "cell_type": "code",
      "metadata": {
        "id": "O_oKhRxrOK_3"
      },
      "source": [
        "def build_model2(hp):\r\n",
        "  inputs= tf.keras.Input(shape=(28,28,1)) \r\n",
        "\r\n",
        "  x=inputs\r\n",
        "\r\n",
        "   #레이어, 필터 갯수 튜닝\r\n",
        "  for i in range(hp.Int('n_layers',1,10)):\r\n",
        "    x=tf.keras.layers.Conv2D( hp.Int('filters_'+ str(i),4,64,step=8),3, activation='relu' )(x)\r\n",
        "    \r\n",
        "  if hp.Choice('flatten',['flatten','avg']) =='avg':\r\n",
        "    x=tf.keras.layers.GlobalAveragePooling2D()(x)\r\n",
        "  else:\r\n",
        "    x=tf.keras.layers.Flatten()(x)\r\n",
        "\r\n",
        "  x=tf.keras.layers.Dense(units=hp.Int('units', 16, 64,step=8),activation='relu')(x)\r\n",
        "  x=tf.keras.layers.Dropout(hp.Float('dropout_rate',min_value=.2, max_value=.4,step=.1))(x)\r\n",
        "  outputs=tf.keras.layers.Dense(10,activation='softmax')(x)\r\n",
        "\r\n",
        "  model=tf.keras.models.Model(inputs=inputs, outputs=outputs)\r\n",
        "  model.compile(optimizer=tf.keras.optimizers.Adam(),\r\n",
        "                loss=tf.keras.losses.SparseCategoricalCrossentropy(from_logits=True),\r\n",
        "                metrics=['accuracy']\r\n",
        "                )\r\n",
        "  return model"
      ],
      "execution_count": 114,
      "outputs": []
    },
    {
      "cell_type": "code",
      "metadata": {
        "colab": {
          "base_uri": "https://localhost:8080/"
        },
        "id": "sc5_tKFqSZWO",
        "outputId": "402226a8-b8a4-4341-96d3-fc0567d9cfb3"
      },
      "source": [
        "tuner2 = kt.RandomSearch(build_model2,'val_acc' ,2) \r\n",
        "tuner2.search_space_summary()"
      ],
      "execution_count": 116,
      "outputs": [
        {
          "output_type": "stream",
          "text": [
            "INFO:tensorflow:Reloading Oracle from existing project ./untitled_project/oracle.json\n",
            "INFO:tensorflow:Reloading Tuner from ./untitled_project/tuner0.json\n",
            "Search space summary\n",
            "Default search space size: 2\n",
            "units (Int)\n",
            "{'default': None, 'conditions': [], 'min_value': 32, 'max_value': 512, 'step': 16, 'sampling': None}\n",
            "learning_rate (Choice)\n",
            "{'default': 0.01, 'conditions': [], 'values': [0.01, 0.001, 0.0001, 1e-05], 'ordered': True}\n"
          ],
          "name": "stdout"
        }
      ]
    },
    {
      "cell_type": "code",
      "metadata": {
        "colab": {
          "base_uri": "https://localhost:8080/"
        },
        "id": "HWUuUjqJVYrL",
        "outputId": "97692129-127b-4ded-9648-7d5063f25443"
      },
      "source": [
        "tuner2.search(X_train,y_train,validation_split=0.2,epcohs=10)"
      ],
      "execution_count": 117,
      "outputs": [
        {
          "output_type": "stream",
          "text": [
            "INFO:tensorflow:Oracle triggered exit\n"
          ],
          "name": "stdout"
        }
      ]
    },
    {
      "cell_type": "code",
      "metadata": {
        "colab": {
          "base_uri": "https://localhost:8080/"
        },
        "id": "HwyasWpSW0DE",
        "outputId": "f845c7f9-7add-4cd2-aa92-8352baed4ad4"
      },
      "source": [
        "best=tuner.get_best_hyperparameters()\r\n",
        "model=tuner.hypermodel.build(best[0])\r\n",
        "model.summary()"
      ],
      "execution_count": 119,
      "outputs": [
        {
          "output_type": "stream",
          "text": [
            "Model: \"sequential\"\n",
            "_________________________________________________________________\n",
            "Layer (type)                 Output Shape              Param #   \n",
            "=================================================================\n",
            "flatten (Flatten)            (None, 784)               0         \n",
            "_________________________________________________________________\n",
            "dense (Dense)                (None, 384)               301440    \n",
            "_________________________________________________________________\n",
            "dense_1 (Dense)              (None, 10)                3850      \n",
            "=================================================================\n",
            "Total params: 305,290\n",
            "Trainable params: 305,290\n",
            "Non-trainable params: 0\n",
            "_________________________________________________________________\n"
          ],
          "name": "stdout"
        }
      ]
    },
    {
      "cell_type": "code",
      "metadata": {
        "id": "MuLE3F1pX4Xq"
      },
      "source": [
        "from kerastuner.tuners import Hyperband\r\n",
        "from kerastuner.applications import HyperResNet"
      ],
      "execution_count": 103,
      "outputs": []
    },
    {
      "cell_type": "code",
      "metadata": {
        "id": "0vzrTaikYE_h"
      },
      "source": [
        "model= HyperResNet(input_shape=(28,28,1), classes=10 )"
      ],
      "execution_count": 129,
      "outputs": []
    },
    {
      "cell_type": "code",
      "metadata": {
        "colab": {
          "base_uri": "https://localhost:8080/"
        },
        "id": "TmjlIKwWYh7J",
        "outputId": "f83e844e-ef90-4bf3-bb80-43ad908d153b"
      },
      "source": [
        "tuner3=Hyperband(model, 'val_accuracy', max_epochs=10)"
      ],
      "execution_count": 130,
      "outputs": [
        {
          "output_type": "stream",
          "text": [
            "INFO:tensorflow:Reloading Oracle from existing project ./untitled_project/oracle.json\n",
            "INFO:tensorflow:Reloading Tuner from ./untitled_project/tuner0.json\n"
          ],
          "name": "stdout"
        }
      ]
    },
    {
      "cell_type": "markdown",
      "metadata": {
        "id": "T6OW7ZklAhp9"
      },
      "source": [
        "Tensorflow2 에서 가장 어려운 것"
      ]
    },
    {
      "cell_type": "code",
      "metadata": {
        "id": "rHzWgDMYcnn-"
      },
      "source": [
        "model.comiple(loss='',optimizer='')\r\n",
        "model.fit"
      ],
      "execution_count": null,
      "outputs": []
    },
    {
      "cell_type": "code",
      "metadata": {
        "id": "idMe8mc1crD0"
      },
      "source": [
        "import tensorflow as tf"
      ],
      "execution_count": 126,
      "outputs": []
    },
    {
      "cell_type": "code",
      "metadata": {
        "colab": {
          "base_uri": "https://localhost:8080/"
        },
        "id": "QdSUAhMlcsJm",
        "outputId": "20ed4178-e614-4206-e48d-dfbf2d177ce5"
      },
      "source": [
        "a=tf.Variable([2,3,4]) #변수\r\n",
        "a"
      ],
      "execution_count": 136,
      "outputs": [
        {
          "output_type": "execute_result",
          "data": {
            "text/plain": [
              "<tf.Variable 'Variable:0' shape=(3,) dtype=int32, numpy=array([2, 3, 4], dtype=int32)>"
            ]
          },
          "metadata": {
            "tags": []
          },
          "execution_count": 136
        }
      ]
    },
    {
      "cell_type": "code",
      "metadata": {
        "colab": {
          "base_uri": "https://localhost:8080/"
        },
        "id": "aV-AGqVictVe",
        "outputId": "0867fdb6-3c06-4185-c18f-ebe95cbc00b8"
      },
      "source": [
        "y=tf.multiply(a,a)\r\n",
        "y #a의 제곱"
      ],
      "execution_count": 135,
      "outputs": [
        {
          "output_type": "execute_result",
          "data": {
            "text/plain": [
              "<tf.Tensor: shape=(3,), dtype=int32, numpy=array([ 4,  9, 16], dtype=int32)>"
            ]
          },
          "metadata": {
            "tags": []
          },
          "execution_count": 135
        }
      ]
    },
    {
      "cell_type": "markdown",
      "metadata": {
        "id": "Xs-FBeBydOrE"
      },
      "source": [
        "### GradientTape\r\n",
        "- 미분할 함수를 GradientTape 에 넣음\r\n",
        "- Gradient 연산 값을 저장함 (테이프는 저장매체)"
      ]
    },
    {
      "cell_type": "code",
      "metadata": {
        "id": "QoUdHUSydF2S"
      },
      "source": [
        "import inspect"
      ],
      "execution_count": 137,
      "outputs": []
    },
    {
      "cell_type": "code",
      "metadata": {
        "colab": {
          "base_uri": "https://localhost:8080/"
        },
        "id": "77ITK_IFdxv0",
        "outputId": "88c2c73c-d42e-41d9-f378-746422840748"
      },
      "source": [
        "print(inspect.getsource(tf.GradientTape().__enter__))"
      ],
      "execution_count": 140,
      "outputs": [
        {
          "output_type": "stream",
          "text": [
            "  def __enter__(self):\n",
            "    \"\"\"Enters a context inside which operations are recorded on this tape.\"\"\"\n",
            "    self._push_tape()\n",
            "    return self\n",
            "\n"
          ],
          "name": "stdout"
        }
      ]
    },
    {
      "cell_type": "code",
      "metadata": {
        "colab": {
          "base_uri": "https://localhost:8080/"
        },
        "id": "JzmNJG_zd0KX",
        "outputId": "f7178c2a-ec95-490b-bc63-054ac146070c"
      },
      "source": [
        "print(inspect.getsource(tf.GradientTape().__exit__))"
      ],
      "execution_count": 141,
      "outputs": [
        {
          "output_type": "stream",
          "text": [
            "  def __exit__(self, typ, value, traceback):\n",
            "    \"\"\"Exits the recording context, no further operations are traced.\"\"\"\n",
            "    if self._recording:\n",
            "      self._pop_tape()\n",
            "\n"
          ],
          "name": "stdout"
        }
      ]
    },
    {
      "cell_type": "code",
      "metadata": {
        "id": "n0TdYVfYd68w"
      },
      "source": [
        "a=tf.Variable([2,3,4],dtype=tf.float32)\r\n",
        "b=tf.constant([2,3,4],dtype=tf.float32)\r\n",
        "y=tf.multiply(a,a)"
      ],
      "execution_count": 164,
      "outputs": []
    },
    {
      "cell_type": "code",
      "metadata": {
        "colab": {
          "base_uri": "https://localhost:8080/"
        },
        "id": "C4YolOO_ctdm",
        "outputId": "e75f0c33-43b8-40d5-846b-4ca192422137"
      },
      "source": [
        "with tf.GradientTape() as t:\r\n",
        "  y=tf.multiply(a,a)\r\n",
        "\r\n",
        "t.gradient(y,a)"
      ],
      "execution_count": 167,
      "outputs": [
        {
          "output_type": "execute_result",
          "data": {
            "text/plain": [
              "<tf.Tensor: shape=(3,), dtype=float32, numpy=array([4., 6., 8.], dtype=float32)>"
            ]
          },
          "metadata": {
            "tags": []
          },
          "execution_count": 167
        }
      ]
    },
    {
      "cell_type": "code",
      "metadata": {
        "id": "7-y_nK33eZO9"
      },
      "source": [
        "t.gradient(y,a) #y를 a에 관해서"
      ],
      "execution_count": 165,
      "outputs": []
    },
    {
      "cell_type": "code",
      "metadata": {
        "id": "MPj4YMo6e7vY"
      },
      "source": [
        "with tf.GradientTape() as t:\r\n",
        "  y=tf.multiply(b,b)\r\n",
        "\r\n",
        "t.gradient(y,b) #상수를 미분하면 0(무의미)"
      ],
      "execution_count": 169,
      "outputs": []
    },
    {
      "cell_type": "markdown",
      "metadata": {
        "id": "8kTqudeqfmY7"
      },
      "source": [
        "##### watch\r\n",
        "상수를 변수처럼 사용 할 수 있도록 만들어 줌 "
      ]
    },
    {
      "cell_type": "code",
      "metadata": {
        "colab": {
          "base_uri": "https://localhost:8080/"
        },
        "id": "OjOVhAEOfUPe",
        "outputId": "9c32cff9-bd7a-46b7-8633-af411a69383d"
      },
      "source": [
        "with tf.GradientTape() as t:\r\n",
        "  t.watch(b)            # 상수를 변수처럼 사용 할 수 있도록 만들어 줌 \r\n",
        "  y=tf.multiply(b,b) \r\n",
        "\r\n",
        "t.gradient(y,b) "
      ],
      "execution_count": 170,
      "outputs": [
        {
          "output_type": "execute_result",
          "data": {
            "text/plain": [
              "<tf.Tensor: shape=(3,), dtype=float32, numpy=array([4., 6., 8.], dtype=float32)>"
            ]
          },
          "metadata": {
            "tags": []
          },
          "execution_count": 170
        }
      ]
    },
    {
      "cell_type": "markdown",
      "metadata": {
        "id": "f7rIPI7Ff1aL"
      },
      "source": [
        "---\r\n",
        "예시 참고 : https://www.tensorflow.org/tutorials/quickstart/advanced\r\n",
        "  - 모델의 예측과 실제 차이를 미분하는 공간 필요 "
      ]
    },
    {
      "cell_type": "code",
      "metadata": {
        "id": "U2JmiiWcfi0q"
      },
      "source": [
        "@tf.function  \r\n",
        "def train_step(images, labels):\r\n",
        "  with tf.GradientTape() as tape:\r\n",
        "    predictions = model(images)\r\n",
        "    loss = loss_object(labels, predictions)  #loss함수를 미분 -> 최소화 \r\n",
        "  gradients = tape.gradient(loss, model.trainable_variables) #trainable 학습을 통해서 loss를 최소화 하는 파라미터 \r\n",
        "  optimizer.apply_gradients(zip(gradients, model.trainable_variables))\r\n",
        "\r\n",
        "  train_loss(loss)\r\n",
        "  train_accuracy(labels, predictions)"
      ],
      "execution_count": null,
      "outputs": []
    },
    {
      "cell_type": "code",
      "metadata": {
        "id": "v6CP-QC1hqCW"
      },
      "source": [
        "x=tf.ones((2,2))  #tf.Tensor -> 상수\r\n",
        "y=tf.reduce_sum(x) #1+1+1+1=4"
      ],
      "execution_count": 177,
      "outputs": []
    },
    {
      "cell_type": "code",
      "metadata": {
        "id": "xRduMXrdhrmJ"
      },
      "source": [
        "with tf.GradientTape() as t:\r\n",
        "  t.watch(x)            \r\n",
        "  z=tf.multiply(y,y)\r\n",
        "\r\n",
        "t.gradient(z,x)  #값이 안나옴"
      ],
      "execution_count": 178,
      "outputs": []
    },
    {
      "cell_type": "code",
      "metadata": {
        "colab": {
          "base_uri": "https://localhost:8080/"
        },
        "id": "5L6vghYeicbq",
        "outputId": "604bc5f8-1f47-48ca-f095-f4bcf279b0a0"
      },
      "source": [
        "with tf.GradientTape() as t:\r\n",
        "  t.watch(x) \r\n",
        "  y=tf.reduce_sum(x)  #포함            \r\n",
        "  z=tf.multiply(y,y)\r\n",
        "\r\n",
        "t.gradient(z,y)   #값 나옴"
      ],
      "execution_count": 184,
      "outputs": [
        {
          "output_type": "execute_result",
          "data": {
            "text/plain": [
              "<tf.Tensor: shape=(), dtype=float32, numpy=8.0>"
            ]
          },
          "metadata": {
            "tags": []
          },
          "execution_count": 184
        }
      ]
    },
    {
      "cell_type": "code",
      "metadata": {
        "colab": {
          "base_uri": "https://localhost:8080/"
        },
        "id": "25GiJWUbifqc",
        "outputId": "d61fb5a6-8143-4ae8-8f7b-2361984281ca"
      },
      "source": [
        "with tf.GradientTape() as t:\r\n",
        "  t.watch(x)\r\n",
        "  y=tf.reduce_sum(x)     #포함       \r\n",
        "  z=tf.multiply(y,y)\r\n",
        "\r\n",
        "t.gradient(z,x)           #값 나옴"
      ],
      "execution_count": 185,
      "outputs": [
        {
          "output_type": "execute_result",
          "data": {
            "text/plain": [
              "<tf.Tensor: shape=(2, 2), dtype=float32, numpy=\n",
              "array([[8., 8.],\n",
              "       [8., 8.]], dtype=float32)>"
            ]
          },
          "metadata": {
            "tags": []
          },
          "execution_count": 185
        }
      ]
    },
    {
      "cell_type": "code",
      "metadata": {
        "id": "iihqDURCi-sK"
      },
      "source": [
        "model=tf.keras.models.Sequential([\r\n",
        "                                  #3x3 데이터가 각 4개의 units에 입력, 출력은 1개\r\n",
        "                                 tf.keras.layers.Dense(4,input_shape=(3,3)),\r\n",
        "                                 tf.keras.layers.Dense(1)\r\n",
        "                                ])"
      ],
      "execution_count": 187,
      "outputs": []
    },
    {
      "cell_type": "code",
      "metadata": {
        "colab": {
          "base_uri": "https://localhost:8080/"
        },
        "id": "p75W2w24jNO1",
        "outputId": "04746f3f-0583-403e-9fb1-a039d77ec29b"
      },
      "source": [
        "model.summary() #학습 파라미터 21개 : 3x4 +4 "
      ],
      "execution_count": 188,
      "outputs": [
        {
          "output_type": "stream",
          "text": [
            "Model: \"sequential\"\n",
            "_________________________________________________________________\n",
            "Layer (type)                 Output Shape              Param #   \n",
            "=================================================================\n",
            "dense (Dense)                (None, 3, 4)              16        \n",
            "_________________________________________________________________\n",
            "dense_1 (Dense)              (None, 3, 1)              5         \n",
            "=================================================================\n",
            "Total params: 21\n",
            "Trainable params: 21\n",
            "Non-trainable params: 0\n",
            "_________________________________________________________________\n"
          ],
          "name": "stdout"
        }
      ]
    },
    {
      "cell_type": "code",
      "metadata": {
        "colab": {
          "base_uri": "https://localhost:8080/"
        },
        "id": "J7h9T8IEjcEn",
        "outputId": "49c68419-92f2-416e-cd81-6c437dc1db43"
      },
      "source": [
        "3*4 +4 +4+1"
      ],
      "execution_count": 191,
      "outputs": [
        {
          "output_type": "execute_result",
          "data": {
            "text/plain": [
              "21"
            ]
          },
          "metadata": {
            "tags": []
          },
          "execution_count": 191
        }
      ]
    },
    {
      "cell_type": "code",
      "metadata": {
        "colab": {
          "base_uri": "https://localhost:8080/"
        },
        "id": "B3zbR5ECkZuf",
        "outputId": "0f0cb4af-c0dd-43e6-ca57-c694e99f2b8f"
      },
      "source": [
        "model.variables"
      ],
      "execution_count": 193,
      "outputs": [
        {
          "output_type": "execute_result",
          "data": {
            "text/plain": [
              "[<tf.Variable 'dense/kernel:0' shape=(3, 4) dtype=float32, numpy=\n",
              " array([[ 0.20255578, -0.44520244,  0.85753584,  0.5719564 ],\n",
              "        [ 0.90598285,  0.8105446 ,  0.2405119 ,  0.5164324 ],\n",
              "        [ 0.12652493,  0.35953212,  0.7403592 ,  0.48062122]],\n",
              "       dtype=float32)>,\n",
              " <tf.Variable 'dense/bias:0' shape=(4,) dtype=float32, numpy=array([0., 0., 0., 0.], dtype=float32)>,\n",
              " <tf.Variable 'dense_1/kernel:0' shape=(4, 1) dtype=float32, numpy=\n",
              " array([[-0.9037713 ],\n",
              "        [-0.12859738],\n",
              "        [ 0.12686706],\n",
              "        [-0.6870853 ]], dtype=float32)>,\n",
              " <tf.Variable 'dense_1/bias:0' shape=(1,) dtype=float32, numpy=array([0.], dtype=float32)>]"
            ]
          },
          "metadata": {
            "tags": []
          },
          "execution_count": 193
        }
      ]
    },
    {
      "cell_type": "code",
      "metadata": {
        "colab": {
          "base_uri": "https://localhost:8080/"
        },
        "id": "g73FnXAIkcLi",
        "outputId": "ba2f479e-7e18-4c93-e7de-28bf335a134c"
      },
      "source": [
        "model.trainable_variables  #모두 학습 가능해서 동일"
      ],
      "execution_count": 194,
      "outputs": [
        {
          "output_type": "execute_result",
          "data": {
            "text/plain": [
              "[<tf.Variable 'dense/kernel:0' shape=(3, 4) dtype=float32, numpy=\n",
              " array([[ 0.20255578, -0.44520244,  0.85753584,  0.5719564 ],\n",
              "        [ 0.90598285,  0.8105446 ,  0.2405119 ,  0.5164324 ],\n",
              "        [ 0.12652493,  0.35953212,  0.7403592 ,  0.48062122]],\n",
              "       dtype=float32)>,\n",
              " <tf.Variable 'dense/bias:0' shape=(4,) dtype=float32, numpy=array([0., 0., 0., 0.], dtype=float32)>,\n",
              " <tf.Variable 'dense_1/kernel:0' shape=(4, 1) dtype=float32, numpy=\n",
              " array([[-0.9037713 ],\n",
              "        [-0.12859738],\n",
              "        [ 0.12686706],\n",
              "        [-0.6870853 ]], dtype=float32)>,\n",
              " <tf.Variable 'dense_1/bias:0' shape=(1,) dtype=float32, numpy=array([0.], dtype=float32)>]"
            ]
          },
          "metadata": {
            "tags": []
          },
          "execution_count": 194
        }
      ]
    },
    {
      "cell_type": "code",
      "metadata": {
        "colab": {
          "base_uri": "https://localhost:8080/"
        },
        "id": "AnL3koTkkoO_",
        "outputId": "cadd03b3-1b34-4604-b779-794ccd73ad8c"
      },
      "source": [
        "model.trainable=False\r\n",
        "model.trainable_variables #없음"
      ],
      "execution_count": 195,
      "outputs": [
        {
          "output_type": "execute_result",
          "data": {
            "text/plain": [
              "[]"
            ]
          },
          "metadata": {
            "tags": []
          },
          "execution_count": 195
        }
      ]
    },
    {
      "cell_type": "code",
      "metadata": {
        "colab": {
          "base_uri": "https://localhost:8080/"
        },
        "id": "XfF_-28oks78",
        "outputId": "e54c4930-4887-4727-a5a1-dc14e860380a"
      },
      "source": [
        "model.trainable=True\r\n",
        "model.trainable_variables #없음"
      ],
      "execution_count": 196,
      "outputs": [
        {
          "output_type": "execute_result",
          "data": {
            "text/plain": [
              "[<tf.Variable 'dense/kernel:0' shape=(3, 4) dtype=float32, numpy=\n",
              " array([[ 0.20255578, -0.44520244,  0.85753584,  0.5719564 ],\n",
              "        [ 0.90598285,  0.8105446 ,  0.2405119 ,  0.5164324 ],\n",
              "        [ 0.12652493,  0.35953212,  0.7403592 ,  0.48062122]],\n",
              "       dtype=float32)>,\n",
              " <tf.Variable 'dense/bias:0' shape=(4,) dtype=float32, numpy=array([0., 0., 0., 0.], dtype=float32)>,\n",
              " <tf.Variable 'dense_1/kernel:0' shape=(4, 1) dtype=float32, numpy=\n",
              " array([[-0.9037713 ],\n",
              "        [-0.12859738],\n",
              "        [ 0.12686706],\n",
              "        [-0.6870853 ]], dtype=float32)>,\n",
              " <tf.Variable 'dense_1/bias:0' shape=(1,) dtype=float32, numpy=array([0.], dtype=float32)>]"
            ]
          },
          "metadata": {
            "tags": []
          },
          "execution_count": 196
        }
      ]
    },
    {
      "cell_type": "code",
      "metadata": {
        "id": "IhwbRzg4jjHG"
      },
      "source": [
        "loss =tf.keras.losses.SparseCategoricalCrossentropy() #loss 함수 생성"
      ],
      "execution_count": 192,
      "outputs": []
    },
    {
      "cell_type": "code",
      "metadata": {
        "id": "oLNHYzMNlLgD"
      },
      "source": [
        "with tf.GradientTape() as t:\r\n",
        "  model(X_train)\r\n",
        "  l=loss(y_train, model(X_train))   #학습통한 예측과 정답간의 차이ith tf.GradientTape() as t:\r\n",
        "\r\n",
        "t.gradient(l,model.trainable_variables) #batch 보다 작은 범위로 조정"
      ],
      "execution_count": null,
      "outputs": []
    },
    {
      "cell_type": "code",
      "metadata": {
        "id": "Txatbrx1lDtt"
      },
      "source": [
        "t.gradient(l,model.trainable_variables) #batch 보다 작은 범위로 조정"
      ],
      "execution_count": null,
      "outputs": []
    }
  ]
}