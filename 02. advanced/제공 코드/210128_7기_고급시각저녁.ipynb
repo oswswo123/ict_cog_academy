{
  "nbformat": 4,
  "nbformat_minor": 0,
  "metadata": {
    "colab": {
      "name": "210128_7기 고급시각반",
      "provenance": [],
      "collapsed_sections": [],
      "toc_visible": true
    },
    "kernelspec": {
      "name": "python3",
      "display_name": "Python 3"
    }
  },
  "cells": [
    {
      "cell_type": "markdown",
      "metadata": {
        "id": "_vBksDDiVrwx"
      },
      "source": [
        "# [ICTCOG AI Academy] 7기 고급시각저녁반\r\n",
        "#  영상 처리/딥러닝을 위한 고급 파이썬 - 객체지향 패러다임 (2)\r\n",
        "\r\n",
        "### decorator\r\n",
        "- `@` syntactic sugar (단축 문법)  제공 \r\n",
        "- 함수를 인자로 받아서 합성함수처럼 사용해서  바꿈( 다른 언어에서는 function closure 라고도 불림) \r\n",
        "\r\n",
        "  > - closure: 입력받은 변수에 따라 뒤의 값에 영향을 주어 함수의 의미를 확장\r\n",
        "\r\n",
        "- 중첩된 구조사용 : encapsulation 으로 접근 방지\r\n",
        "\r\n",
        "\r\n",
        "1. **기존에 있는 함수를 변경하기 위해서 decorator 작성**\r\n",
        "2. **이미 만들어진 decorator를 사용**\r\n",
        "  -  eg. `@tf.function` , @torch` 이미 만들어진 데코레이터에 자신이 만든 함수를 넣으면 편리하게 사용\r\n",
        "  "
      ]
    },
    {
      "cell_type": "code",
      "metadata": {
        "id": "Z0EN1v4eSifj"
      },
      "source": [
        "#closure 예시\r\n",
        "def x(m):     #인자가 내부에 전달됨\r\n",
        "  def y(n): \r\n",
        "    return m+n\r\n",
        "  return y"
      ],
      "execution_count": null,
      "outputs": []
    },
    {
      "cell_type": "code",
      "metadata": {
        "colab": {
          "base_uri": "https://localhost:8080/"
        },
        "id": "-p3wv5T4WA2s",
        "outputId": "794db93f-7f8e-445b-af13-a7a7667beb20"
      },
      "source": [
        "x(4)(5) #앞의 값에 따라서 결과가 달라짐."
      ],
      "execution_count": null,
      "outputs": [
        {
          "output_type": "execute_result",
          "data": {
            "text/plain": [
              "9"
            ]
          },
          "metadata": {
            "tags": []
          },
          "execution_count": 204
        }
      ]
    },
    {
      "cell_type": "code",
      "metadata": {
        "colab": {
          "base_uri": "https://localhost:8080/"
        },
        "id": "znpzvVgi6yst",
        "outputId": "a858c3f0-0734-43d1-cd3d-8dd036a950dd"
      },
      "source": [
        "x(1)(5)"
      ],
      "execution_count": null,
      "outputs": [
        {
          "output_type": "execute_result",
          "data": {
            "text/plain": [
              "6"
            ]
          },
          "metadata": {
            "tags": []
          },
          "execution_count": 205
        }
      ]
    },
    {
      "cell_type": "markdown",
      "metadata": {
        "id": "pZOJNRfwWSK1"
      },
      "source": [
        "> higher order function : 함수를 인자로 받거나 함수를 리턴함\r\n"
      ]
    },
    {
      "cell_type": "code",
      "metadata": {
        "id": "rcNctJt2WClJ"
      },
      "source": [
        "def y(fun):  # 함수 fun이 인자로 내부 중첩된 함수에 전달됨\r\n",
        "  def z():\r\n",
        "    print('------')\r\n",
        "    fun()\r\n",
        "    print('------')\r\n",
        "  return z"
      ],
      "execution_count": null,
      "outputs": []
    },
    {
      "cell_type": "code",
      "metadata": {
        "id": "X6E5W7cCWzir"
      },
      "source": [
        "def a():\r\n",
        "  print('sun')"
      ],
      "execution_count": null,
      "outputs": []
    },
    {
      "cell_type": "code",
      "metadata": {
        "colab": {
          "base_uri": "https://localhost:8080/"
        },
        "id": "cw-uDdtjW_3b",
        "outputId": "ed616e5c-b7cb-4e0c-d33b-23a798452dc7"
      },
      "source": [
        "a()"
      ],
      "execution_count": null,
      "outputs": [
        {
          "output_type": "stream",
          "text": [
            "sun\n"
          ],
          "name": "stdout"
        }
      ]
    },
    {
      "cell_type": "code",
      "metadata": {
        "colab": {
          "base_uri": "https://localhost:8080/"
        },
        "id": "i0oecofXW4Rm",
        "outputId": "8064ecde-9278-43a3-9d8a-f2d5e8a67dc9"
      },
      "source": [
        "y(a)"
      ],
      "execution_count": null,
      "outputs": [
        {
          "output_type": "execute_result",
          "data": {
            "text/plain": [
              "<function __main__.y.<locals>.z>"
            ]
          },
          "metadata": {
            "tags": []
          },
          "execution_count": 10
        }
      ]
    },
    {
      "cell_type": "code",
      "metadata": {
        "colab": {
          "base_uri": "https://localhost:8080/"
        },
        "id": "3BZRN9PdW-J6",
        "outputId": "b6d53e62-a16c-47b5-c836-980a925ef688"
      },
      "source": [
        "y(a)()   #함수 a 의 기능이 바뀜"
      ],
      "execution_count": null,
      "outputs": [
        {
          "output_type": "stream",
          "text": [
            "------\n",
            "sun\n",
            "------\n"
          ],
          "name": "stdout"
        }
      ]
    },
    {
      "cell_type": "markdown",
      "metadata": {
        "id": "23Gw67Ot7A-B"
      },
      "source": [
        "@을 이용해서 위의 긴 코드를 하단과 같이 단축 가능"
      ]
    },
    {
      "cell_type": "code",
      "metadata": {
        "id": "mZobFu5qXZac"
      },
      "source": [
        "@y   #@ decorator \r\n",
        "def a():\r\n",
        "  print('sun')"
      ],
      "execution_count": null,
      "outputs": []
    },
    {
      "cell_type": "code",
      "metadata": {
        "colab": {
          "base_uri": "https://localhost:8080/"
        },
        "id": "CDejqc_6Xb5m",
        "outputId": "74f95622-5929-4f94-ad2c-ab0a8f618031"
      },
      "source": [
        "a()  #g"
      ],
      "execution_count": null,
      "outputs": [
        {
          "output_type": "stream",
          "text": [
            "------\n",
            "sun\n",
            "------\n"
          ],
          "name": "stdout"
        }
      ]
    },
    {
      "cell_type": "markdown",
      "metadata": {
        "id": "kQaxLXEQYg-W"
      },
      "source": [
        "#### Mastering Python Decorators\r\n",
        "\r\n",
        "\r\n"
      ]
    },
    {
      "cell_type": "code",
      "metadata": {
        "id": "P1rqnKUeXcPp"
      },
      "source": [
        "def foo():\r\n",
        "  print('foo!') #리턴 없음 -> return None 으로 자동"
      ],
      "execution_count": null,
      "outputs": []
    },
    {
      "cell_type": "code",
      "metadata": {
        "colab": {
          "base_uri": "https://localhost:8080/"
        },
        "id": "ny2dlA5aY_7t",
        "outputId": "6e46aa5a-56c4-42cd-f8d6-f659015463c7"
      },
      "source": [
        "foo"
      ],
      "execution_count": null,
      "outputs": [
        {
          "output_type": "execute_result",
          "data": {
            "text/plain": [
              "<function __main__.foo>"
            ]
          },
          "metadata": {
            "tags": []
          },
          "execution_count": 17
        }
      ]
    },
    {
      "cell_type": "code",
      "metadata": {
        "colab": {
          "base_uri": "https://localhost:8080/"
        },
        "id": "vTTDNpVvYpJc",
        "outputId": "2c8472b5-ff78-48d6-d57a-442db0260c68"
      },
      "source": [
        "foo()"
      ],
      "execution_count": null,
      "outputs": [
        {
          "output_type": "stream",
          "text": [
            "foo!\n"
          ],
          "name": "stdout"
        }
      ]
    },
    {
      "cell_type": "code",
      "metadata": {
        "id": "N-WJmnV1Yptu"
      },
      "source": [
        "def z(fn):\r\n",
        "  return fn('abc')"
      ],
      "execution_count": null,
      "outputs": []
    },
    {
      "cell_type": "code",
      "metadata": {
        "colab": {
          "base_uri": "https://localhost:8080/"
        },
        "id": "mIIc2n1wZV_t",
        "outputId": "0294f96c-3e6b-4f21-d5a6-cddb4150a72a"
      },
      "source": [
        "z(print)  #함수형 패러다임 관점에서 합성함수처럼 사용"
      ],
      "execution_count": null,
      "outputs": [
        {
          "output_type": "stream",
          "text": [
            "abc\n"
          ],
          "name": "stdout"
        }
      ]
    },
    {
      "cell_type": "code",
      "metadata": {
        "colab": {
          "base_uri": "https://localhost:8080/"
        },
        "id": "kUAvKKfKZb5j",
        "outputId": "031ca2f8-8977-46be-fd93-2d12df9a7d5d"
      },
      "source": [
        "z(len)  "
      ],
      "execution_count": null,
      "outputs": [
        {
          "output_type": "execute_result",
          "data": {
            "text/plain": [
              "3"
            ]
          },
          "metadata": {
            "tags": []
          },
          "execution_count": 26
        }
      ]
    },
    {
      "cell_type": "code",
      "metadata": {
        "id": "yIVjkjMvZEwQ"
      },
      "source": [
        "class A: \r\n",
        "  x=1"
      ],
      "execution_count": null,
      "outputs": []
    },
    {
      "cell_type": "code",
      "metadata": {
        "id": "Orft_i8UZG1K"
      },
      "source": [
        "A( ) #인스턴스"
      ],
      "execution_count": null,
      "outputs": []
    },
    {
      "cell_type": "code",
      "metadata": {
        "id": "Sc5oBRfpZ6QT"
      },
      "source": [
        "def wrapper(fun): #decorator는 함수를 인자로 받아 클로저 처럼 중첩해서 사용\r\n",
        "  def inner():    #원래 함수를 변화시키는 코드\r\n",
        "    print('----') #추가\r\n",
        "\r\n",
        "    fun()         #원래 함수\r\n",
        "    \r\n",
        "    print('----') #추가\r\n",
        "  return inner"
      ],
      "execution_count": null,
      "outputs": []
    },
    {
      "cell_type": "code",
      "metadata": {
        "id": "IK6UO8hmaLRc"
      },
      "source": [
        "def x():\r\n",
        "  print('xxxx')"
      ],
      "execution_count": null,
      "outputs": []
    },
    {
      "cell_type": "code",
      "metadata": {
        "colab": {
          "base_uri": "https://localhost:8080/"
        },
        "id": "VTCHuPBHaW_W",
        "outputId": "d78ee220-d432-4707-bc39-c632cb6a3b3e"
      },
      "source": [
        "wrapper(x)() #클로저처럼 2개의 () 사용"
      ],
      "execution_count": null,
      "outputs": [
        {
          "output_type": "stream",
          "text": [
            "----\n",
            "xxxx\n",
            "----\n"
          ],
          "name": "stdout"
        }
      ]
    },
    {
      "cell_type": "markdown",
      "metadata": {
        "id": "Wp0-g4QLahUY"
      },
      "source": [
        "- `@` decorator 를 이용해서 만들어 놓은 함수에 위에 작성하면 wrapper 함수에 합성함수의 인자처럼 들어가서 새로운 기능으로 바꾸어줌\r\n"
      ]
    },
    {
      "cell_type": "code",
      "metadata": {
        "id": "moWStya6abbD"
      },
      "source": [
        "@wrapper \r\n",
        "def x():  \r\n",
        "  print('xxxx')"
      ],
      "execution_count": null,
      "outputs": []
    },
    {
      "cell_type": "code",
      "metadata": {
        "colab": {
          "base_uri": "https://localhost:8080/"
        },
        "id": "najZpoTgaqw6",
        "outputId": "14d21d38-051f-4909-fd0e-e2d70002c617"
      },
      "source": [
        "x()"
      ],
      "execution_count": null,
      "outputs": [
        {
          "output_type": "stream",
          "text": [
            "----\n",
            "xxxx\n",
            "----\n"
          ],
          "name": "stdout"
        }
      ]
    },
    {
      "cell_type": "markdown",
      "metadata": {
        "id": "s76sisLGdPOT"
      },
      "source": [
        "- 인자를 맞춰야해서 복잡함"
      ]
    },
    {
      "cell_type": "code",
      "metadata": {
        "id": "u8hZYNGibVwv"
      },
      "source": [
        "def xx(x):     #인자1개 받아야함\r\n",
        "  return x*100 "
      ],
      "execution_count": null,
      "outputs": []
    },
    {
      "cell_type": "code",
      "metadata": {
        "id": "wszc0FmDbc3I"
      },
      "source": [
        "def one(fun):\r\n",
        "  def inner(x): #inner(), fun()를 맞춰야함 \r\n",
        "    print('--')\r\n",
        "    a=fun(x)\r\n",
        "    return a+1\r\n",
        "  return inner"
      ],
      "execution_count": null,
      "outputs": []
    },
    {
      "cell_type": "code",
      "metadata": {
        "colab": {
          "base_uri": "https://localhost:8080/"
        },
        "id": "SaG2I5SLbYB5",
        "outputId": "2fcc2e99-6ea3-4ba6-b4ed-982a6989b7d7"
      },
      "source": [
        "one(xx)(3)  #3을 받으면 "
      ],
      "execution_count": null,
      "outputs": [
        {
          "output_type": "stream",
          "text": [
            "--\n"
          ],
          "name": "stdout"
        },
        {
          "output_type": "execute_result",
          "data": {
            "text/plain": [
              "301"
            ]
          },
          "metadata": {
            "tags": []
          },
          "execution_count": 208
        }
      ]
    },
    {
      "cell_type": "code",
      "metadata": {
        "id": "iOaBW2IDbyp7"
      },
      "source": [
        "@one  #위의 단축 표현\r\n",
        "def xx(x):\r\n",
        "  return x*100"
      ],
      "execution_count": null,
      "outputs": []
    },
    {
      "cell_type": "code",
      "metadata": {
        "colab": {
          "base_uri": "https://localhost:8080/"
        },
        "id": "_NI-pd3CcToZ",
        "outputId": "061350b2-61e4-41f7-a093-972a0abdd91c"
      },
      "source": [
        "xx(3)"
      ],
      "execution_count": null,
      "outputs": [
        {
          "output_type": "stream",
          "text": [
            "--\n"
          ],
          "name": "stdout"
        },
        {
          "output_type": "execute_result",
          "data": {
            "text/plain": [
              "301"
            ]
          },
          "metadata": {
            "tags": []
          },
          "execution_count": 210
        }
      ]
    },
    {
      "cell_type": "code",
      "metadata": {
        "id": "p4FURbqKcUD4"
      },
      "source": [
        "def two(fun):\r\n",
        "  def inner():\r\n",
        "    print('---')\r\n",
        "    fun()  #인자를 받지 않는 함수만 실행 가능\r\n",
        "  return inner"
      ],
      "execution_count": null,
      "outputs": []
    },
    {
      "cell_type": "code",
      "metadata": {
        "colab": {
          "base_uri": "https://localhost:8080/"
        },
        "id": "MFWK04W9dbc0",
        "outputId": "4c2953ed-6d1e-475e-a5c4-49b833f7a66e"
      },
      "source": [
        "two(print)()"
      ],
      "execution_count": null,
      "outputs": [
        {
          "output_type": "stream",
          "text": [
            "---\n",
            "\n"
          ],
          "name": "stdout"
        }
      ]
    },
    {
      "cell_type": "code",
      "metadata": {
        "id": "eadi_f3uddka"
      },
      "source": [
        "def two(fun):\r\n",
        "  def inner(x):\r\n",
        "    print('---')\r\n",
        "    fun(x)  #인자를 받는 함수만 실행 가능\r\n",
        "  return inner"
      ],
      "execution_count": null,
      "outputs": []
    },
    {
      "cell_type": "code",
      "metadata": {
        "colab": {
          "base_uri": "https://localhost:8080/"
        },
        "id": "4q3xxU73dlAC",
        "outputId": "91fe6fbe-7e3f-45ae-84eb-f93c14f75af8"
      },
      "source": [
        "two(print)('abc')"
      ],
      "execution_count": null,
      "outputs": [
        {
          "output_type": "stream",
          "text": [
            "---\n",
            "abc\n"
          ],
          "name": "stdout"
        }
      ]
    },
    {
      "cell_type": "code",
      "metadata": {
        "id": "CHkns8zjdmTp"
      },
      "source": [
        "def tt():  #인자가 없는 함수는 사용 할 수 없음 \r\n",
        "  print('aaaaa')\r\n",
        "\r\n",
        "two(tt)('abc')"
      ],
      "execution_count": null,
      "outputs": []
    },
    {
      "cell_type": "markdown",
      "metadata": {
        "id": "KB1vg24Ndw5s"
      },
      "source": [
        "#### 인자 테크닉\r\n",
        "-  `*args, **kwargs ` \r\n",
        "- 인자를 유연하게 받을 수 있음\r\n"
      ]
    },
    {
      "cell_type": "code",
      "metadata": {
        "id": "pTuAyi9VdpOI"
      },
      "source": [
        "def two(fun):\r\n",
        "  def inner(*args, **kwargs):\r\n",
        "    print('---')\r\n",
        "    fun(*args, **kwargs)  #인자를 받는 함수만 실행 가능\r\n",
        "  return inner"
      ],
      "execution_count": null,
      "outputs": []
    },
    {
      "cell_type": "code",
      "metadata": {
        "colab": {
          "base_uri": "https://localhost:8080/"
        },
        "id": "WdTWh1XCdrCM",
        "outputId": "9bab7bc1-d37d-4036-9d59-85990478f44e"
      },
      "source": [
        "two(tt)()"
      ],
      "execution_count": null,
      "outputs": [
        {
          "output_type": "stream",
          "text": [
            "---\n",
            "aaaaa\n"
          ],
          "name": "stdout"
        }
      ]
    },
    {
      "cell_type": "code",
      "metadata": {
        "id": "r4in4qROd7VV"
      },
      "source": [
        "@two  #decorator 를 이용해서 동일하게 구현\r\n",
        "def tt():  \r\n",
        "  print('aaaaa')"
      ],
      "execution_count": null,
      "outputs": []
    },
    {
      "cell_type": "code",
      "metadata": {
        "colab": {
          "base_uri": "https://localhost:8080/"
        },
        "id": "TnZCnC4reMzE",
        "outputId": "b3666239-185e-416b-b627-99c89c7704ef"
      },
      "source": [
        "tt()"
      ],
      "execution_count": null,
      "outputs": [
        {
          "output_type": "stream",
          "text": [
            "---\n",
            "aaaaa\n"
          ],
          "name": "stdout"
        }
      ]
    },
    {
      "cell_type": "markdown",
      "metadata": {
        "id": "5dUHtQU5ep19"
      },
      "source": [
        "#### @classmethod \r\n",
        "- class method는 클래스가 사용하는 메소드\r\n"
      ]
    },
    {
      "cell_type": "code",
      "metadata": {
        "id": "gCHnE3q9eNR8"
      },
      "source": [
        "class A:\r\n",
        "  @classmethod  #클래스 메소드 decorator \r\n",
        "  def z(cls):\r\n",
        "    print('classmethod')"
      ],
      "execution_count": null,
      "outputs": []
    },
    {
      "cell_type": "code",
      "metadata": {
        "colab": {
          "base_uri": "https://localhost:8080/"
        },
        "id": "31AH2vk0e2sc",
        "outputId": "60286a1b-d5d0-47d5-990e-e21d1a5a9a56"
      },
      "source": [
        "A.z() #클래스가 사용가능"
      ],
      "execution_count": null,
      "outputs": [
        {
          "output_type": "stream",
          "text": [
            "classmethod\n"
          ],
          "name": "stdout"
        }
      ]
    },
    {
      "cell_type": "code",
      "metadata": {
        "colab": {
          "base_uri": "https://localhost:8080/"
        },
        "id": "x4i1HjR2fBJk",
        "outputId": "2d4bd65a-c498-454d-ff7d-72a9e033d45c"
      },
      "source": [
        "a=A()\r\n",
        "a.z()  #인스턴스 메소드가 없으므로 클래스 메소드 참조"
      ],
      "execution_count": null,
      "outputs": [
        {
          "output_type": "stream",
          "text": [
            "classmethod\n"
          ],
          "name": "stdout"
        }
      ]
    },
    {
      "cell_type": "code",
      "metadata": {
        "id": "H-lXO9HNfEG3"
      },
      "source": [
        "class A:\r\n",
        "  @classmethod  #클래스 메소드 decorator \r\n",
        "  def z(cls):\r\n",
        "    cls.x=1     #클래스 어트리뷰트\r\n",
        "    print('classmethod')"
      ],
      "execution_count": null,
      "outputs": []
    },
    {
      "cell_type": "code",
      "metadata": {
        "colab": {
          "base_uri": "https://localhost:8080/"
        },
        "id": "4R9ZlP55fS18",
        "outputId": "e0046bf6-678f-4f8b-c44d-0ce5698d6c72"
      },
      "source": [
        "A.z()"
      ],
      "execution_count": null,
      "outputs": [
        {
          "output_type": "stream",
          "text": [
            "classmethod\n"
          ],
          "name": "stdout"
        }
      ]
    },
    {
      "cell_type": "markdown",
      "metadata": {
        "id": "5i-pr3Aufdky"
      },
      "source": [
        "클래스 메소드 데코레이터로 인해서 cls.x도 클래스 어트리뷰트로 바뀜"
      ]
    },
    {
      "cell_type": "code",
      "metadata": {
        "colab": {
          "base_uri": "https://localhost:8080/"
        },
        "id": "Dxphi4_mfUKP",
        "outputId": "e579d9d0-f988-4e97-9821-951e4fc463a3"
      },
      "source": [
        "A.x #클래스 어트리뷰트"
      ],
      "execution_count": null,
      "outputs": [
        {
          "output_type": "execute_result",
          "data": {
            "text/plain": [
              "1"
            ]
          },
          "metadata": {
            "tags": []
          },
          "execution_count": 72
        }
      ]
    },
    {
      "cell_type": "code",
      "metadata": {
        "colab": {
          "base_uri": "https://localhost:8080/"
        },
        "id": "fyeGRU2NfWRT",
        "outputId": "20e59735-8c81-4c50-d6de-f37b7dc5c51f"
      },
      "source": [
        "a=A()\r\n",
        "a.x #인스턴스 어트리뷰트 없으므로 클래스 어트리뷰트 참조"
      ],
      "execution_count": null,
      "outputs": [
        {
          "output_type": "execute_result",
          "data": {
            "text/plain": [
              "1"
            ]
          },
          "metadata": {
            "tags": []
          },
          "execution_count": 73
        }
      ]
    },
    {
      "cell_type": "code",
      "metadata": {
        "colab": {
          "base_uri": "https://localhost:8080/"
        },
        "id": "pz_Yh1y8fo6r",
        "outputId": "03eec376-8b21-41ae-8d60-9d14a6e8aaac"
      },
      "source": [
        "vars(a)"
      ],
      "execution_count": null,
      "outputs": [
        {
          "output_type": "execute_result",
          "data": {
            "text/plain": [
              "{}"
            ]
          },
          "metadata": {
            "tags": []
          },
          "execution_count": 74
        }
      ]
    },
    {
      "cell_type": "code",
      "metadata": {
        "colab": {
          "base_uri": "https://localhost:8080/"
        },
        "id": "sm7xgugFf2TD",
        "outputId": "64158367-3221-464a-8e2b-7cf185c7b9eb"
      },
      "source": [
        "vars(A)"
      ],
      "execution_count": null,
      "outputs": [
        {
          "output_type": "execute_result",
          "data": {
            "text/plain": [
              "mappingproxy({'__dict__': <attribute '__dict__' of 'A' objects>,\n",
              "              '__doc__': None,\n",
              "              '__module__': '__main__',\n",
              "              '__weakref__': <attribute '__weakref__' of 'A' objects>,\n",
              "              'x': 1,\n",
              "              'z': <classmethod at 0x7f8823d4aeb8>})"
            ]
          },
          "metadata": {
            "tags": []
          },
          "execution_count": 75
        }
      ]
    },
    {
      "cell_type": "markdown",
      "metadata": {
        "id": "AkLpkN1fgN0u"
      },
      "source": [
        "#### @staticmethod\r\n",
        "- ** 클래스 이름으로만 접근 가능한 함수**\r\n",
        "- pytorch에서 많이 사용하는 데코레이터로 이름만 메소드이지만 함수랑 동일\r\n",
        "- 첫 인자가 클래스, 인스턴스와 상관 없음\r\n",
        "  > - 인스턴스에 없으면 클래스 에서 찾음\r\n"
      ]
    },
    {
      "cell_type": "code",
      "metadata": {
        "id": "_FhLGUc8f3Kw"
      },
      "source": [
        "class B: \r\n",
        "  @staticmethod   #\r\n",
        "  def z(self):\r\n",
        "    self.a=1\r\n",
        "    print('aaa')\r\n"
      ],
      "execution_count": null,
      "outputs": []
    },
    {
      "cell_type": "code",
      "metadata": {
        "id": "Lg5snGPbgVwv"
      },
      "source": [
        "b=B()"
      ],
      "execution_count": null,
      "outputs": []
    },
    {
      "cell_type": "code",
      "metadata": {
        "colab": {
          "base_uri": "https://localhost:8080/",
          "height": 172
        },
        "id": "Kzica52IgnkP",
        "outputId": "79a141a4-c0c4-4bac-c783-e83cc2baad8d"
      },
      "source": [
        "b.z()"
      ],
      "execution_count": null,
      "outputs": [
        {
          "output_type": "error",
          "ename": "TypeError",
          "evalue": "ignored",
          "traceback": [
            "\u001b[0;31m---------------------------------------------------------------------------\u001b[0m",
            "\u001b[0;31mTypeError\u001b[0m                                 Traceback (most recent call last)",
            "\u001b[0;32m<ipython-input-80-42d2a3e064fc>\u001b[0m in \u001b[0;36m<module>\u001b[0;34m()\u001b[0m\n\u001b[0;32m----> 1\u001b[0;31m \u001b[0mb\u001b[0m\u001b[0;34m.\u001b[0m\u001b[0mz\u001b[0m\u001b[0;34m(\u001b[0m\u001b[0;34m)\u001b[0m\u001b[0;34m\u001b[0m\u001b[0;34m\u001b[0m\u001b[0m\n\u001b[0m",
            "\u001b[0;31mTypeError\u001b[0m: z() missing 1 required positional argument: 'self'"
          ]
        }
      ]
    },
    {
      "cell_type": "markdown",
      "metadata": {
        "id": "WvyjZqDmg8eB"
      },
      "source": [
        "####  @property\r\n",
        "- descriptor 접근 제한\r\n",
        "\r\n",
        "\r\n",
        "활용 많고 복잡한것\r\n",
        "1. decorator\r\n",
        "2. metaclass\r\n",
        "3. descriptor  <오늘/내일>\r\n",
        "\r\n"
      ]
    },
    {
      "cell_type": "code",
      "metadata": {
        "id": "0E1GxaSGgol9"
      },
      "source": [
        "import numpy as np"
      ],
      "execution_count": null,
      "outputs": []
    },
    {
      "cell_type": "code",
      "metadata": {
        "id": "5DSfE8O5hUNM"
      },
      "source": [
        "a=np.array([1,2,3,4])"
      ],
      "execution_count": null,
      "outputs": []
    },
    {
      "cell_type": "code",
      "metadata": {
        "colab": {
          "base_uri": "https://localhost:8080/"
        },
        "id": "4sfkTXdVhWDH",
        "outputId": "a78a8aa0-0387-4643-edb4-2daf8285e2e9"
      },
      "source": [
        "a.shape #() 안 쓰는 이유는 property 이용"
      ],
      "execution_count": null,
      "outputs": [
        {
          "output_type": "execute_result",
          "data": {
            "text/plain": [
              "(4,)"
            ]
          },
          "metadata": {
            "tags": []
          },
          "execution_count": 83
        }
      ]
    },
    {
      "cell_type": "markdown",
      "metadata": {
        "id": "nR37nAXLhmPc"
      },
      "source": [
        "사용하는게 많음\r\n",
        "#### dispatch\r\n",
        "- 오버로딩: 이름은 같은데 인자가 다른 경우 다른 함수로 간주\r\n",
        "  - 역할: generic function : 어던 하나의 함수가 여러 타입의 인자를 받고, 인자의 타입에 따라 적절한 동작을 하는 함수\r\n",
        "  - Python에서는 이름이 함수이기 때문에 오버로딩 지원하지 않음\r\n",
        "  - 데이터 타입이 기본적으로 동적\r\n",
        "  - 컴파일 타임에서 결정되는 문제이기 때문에 동적 언어에서는 불가 \r\n",
        "- 오버라이딩\r\n",
        "\r\n",
        "\r\n",
        "데이터 타입에 따라 다른 값을 줌\r\n"
      ]
    },
    {
      "cell_type": "code",
      "metadata": {
        "colab": {
          "base_uri": "https://localhost:8080/"
        },
        "id": "PiQ65vKyipCI",
        "outputId": "d27d56f9-935f-4ebf-9f47-e4ec6e36123f"
      },
      "source": [
        "len('abc')"
      ],
      "execution_count": null,
      "outputs": [
        {
          "output_type": "execute_result",
          "data": {
            "text/plain": [
              "3"
            ]
          },
          "metadata": {
            "tags": []
          },
          "execution_count": 84
        }
      ]
    },
    {
      "cell_type": "code",
      "metadata": {
        "colab": {
          "base_uri": "https://localhost:8080/"
        },
        "id": "RD2Os9fphXBA",
        "outputId": "a9d5a2ea-a50b-4ec1-8433-16b7965ec28a"
      },
      "source": [
        "len([1,2])"
      ],
      "execution_count": null,
      "outputs": [
        {
          "output_type": "execute_result",
          "data": {
            "text/plain": [
              "2"
            ]
          },
          "metadata": {
            "tags": []
          },
          "execution_count": 86
        }
      ]
    },
    {
      "cell_type": "markdown",
      "metadata": {
        "id": "IjxO1cD-i2iz"
      },
      "source": [
        "함수형 패러다임 3총사 \r\n",
        "- functools 에서 다양한 데코레이터 제공\r\n",
        "\r\n",
        "\r\n",
        "데이터 타입에 따라서 다른 역할을 하도록 만듦\r\n",
        "\r\n",
        "#### @singledispatch\r\n",
        "- 하나만 처리해줌\r\n",
        "- 프로그래밍 유지보수 용이\r\n"
      ]
    },
    {
      "cell_type": "code",
      "metadata": {
        "id": "rn8NEOFkitfo"
      },
      "source": [
        "from functools import singledispatch"
      ],
      "execution_count": null,
      "outputs": []
    },
    {
      "cell_type": "code",
      "metadata": {
        "id": "heJivYA1jD3U"
      },
      "source": [
        "@singledispatch  #singledispatch 데코레이터\r\n",
        "def x(t):\r\n",
        "  print('single distpatch')"
      ],
      "execution_count": null,
      "outputs": []
    },
    {
      "cell_type": "code",
      "metadata": {
        "id": "KKN1fBVRjO-f"
      },
      "source": [
        "@x.register(int)  #데코레이터 때문에 이름 동일해도 문제 없음\r\n",
        "def _(t):\r\n",
        "  print('int')\r\n",
        "\r\n",
        "@x.register(str)\r\n",
        "def _(t):\r\n",
        "  print('str')"
      ],
      "execution_count": null,
      "outputs": []
    },
    {
      "cell_type": "code",
      "metadata": {
        "colab": {
          "base_uri": "https://localhost:8080/"
        },
        "id": "GPKacUU3jd-Z",
        "outputId": "218b5c35-7b6d-40e5-a898-1d7b9acc83b3"
      },
      "source": [
        "x(3)"
      ],
      "execution_count": null,
      "outputs": [
        {
          "output_type": "stream",
          "text": [
            "int\n"
          ],
          "name": "stdout"
        }
      ]
    },
    {
      "cell_type": "code",
      "metadata": {
        "colab": {
          "base_uri": "https://localhost:8080/"
        },
        "id": "n7qPBlKDjigv",
        "outputId": "b28aeb07-1661-42b5-9358-cabe7786e9c8"
      },
      "source": [
        "x('abc')"
      ],
      "execution_count": null,
      "outputs": [
        {
          "output_type": "stream",
          "text": [
            "str\n"
          ],
          "name": "stdout"
        }
      ]
    },
    {
      "cell_type": "markdown",
      "metadata": {
        "id": "3A9L_adikkxw"
      },
      "source": [
        "decorator "
      ]
    },
    {
      "cell_type": "code",
      "metadata": {
        "id": "0rhrRnQ_jo-I"
      },
      "source": [
        "def y(fun):  # decorator - \r\n",
        "  def z():\r\n",
        "    print('------')\r\n",
        "    fun()\r\n",
        "    print('------')\r\n",
        "  return z"
      ],
      "execution_count": null,
      "outputs": []
    },
    {
      "cell_type": "code",
      "metadata": {
        "id": "Vk12zvnDkz5u"
      },
      "source": [
        "def xxxx():\r\n",
        "  print('xxxx')"
      ],
      "execution_count": null,
      "outputs": []
    },
    {
      "cell_type": "code",
      "metadata": {
        "colab": {
          "base_uri": "https://localhost:8080/"
        },
        "id": "RX-m7PqUkt3X",
        "outputId": "dbf7b73d-c00f-4ac7-854a-2884eac69399"
      },
      "source": [
        "y(xxxx) # 합성함수 "
      ],
      "execution_count": null,
      "outputs": [
        {
          "output_type": "execute_result",
          "data": {
            "text/plain": [
              "<function __main__.y.<locals>.z>"
            ]
          },
          "metadata": {
            "tags": []
          },
          "execution_count": 115
        }
      ]
    },
    {
      "cell_type": "code",
      "metadata": {
        "id": "zZ7PpIXrk4gp"
      },
      "source": [
        "def y(fun):  \r\n",
        "  def z():\r\n",
        "    print('------')\r\n",
        "    fun()\r\n",
        "    print('------')\r\n",
        "  return z\r\n",
        "\r\n",
        "@y          # decorator y\r\n",
        "def xxxx():\r\n",
        "  print('xxxx')"
      ],
      "execution_count": null,
      "outputs": []
    },
    {
      "cell_type": "code",
      "metadata": {
        "colab": {
          "base_uri": "https://localhost:8080/"
        },
        "id": "d7-fmc5Un5UV",
        "outputId": "7f1ff6ab-78b5-467d-b21e-679d441680dd"
      },
      "source": [
        "xxxx #decorator y  관점으로 바뀜"
      ],
      "execution_count": null,
      "outputs": [
        {
          "output_type": "execute_result",
          "data": {
            "text/plain": [
              "<function __main__.y.<locals>.z>"
            ]
          },
          "metadata": {
            "tags": []
          },
          "execution_count": 112
        }
      ]
    },
    {
      "cell_type": "code",
      "metadata": {
        "colab": {
          "base_uri": "https://localhost:8080/"
        },
        "id": "RmA_Cqltk3dS",
        "outputId": "42fdeb43-773d-4922-d148-a7ceb3686a00"
      },
      "source": [
        "xxxx()   #"
      ],
      "execution_count": null,
      "outputs": [
        {
          "output_type": "stream",
          "text": [
            "------\n",
            "xxxx\n",
            "------\n"
          ],
          "name": "stdout"
        }
      ]
    },
    {
      "cell_type": "markdown",
      "metadata": {
        "id": "_o5v0tGtli4X"
      },
      "source": [
        "#### @wraps \r\n",
        "- 디버깅 용이하게 만듦"
      ]
    },
    {
      "cell_type": "code",
      "metadata": {
        "id": "tJdttt5Vk9GH"
      },
      "source": [
        "from functools import wraps"
      ],
      "execution_count": null,
      "outputs": []
    },
    {
      "cell_type": "code",
      "metadata": {
        "id": "uBNAhpKylI3s"
      },
      "source": [
        "def y(fun):  # decorator 사용하기위해 데코레이터를 만듦\r\n",
        "  @wraps(fun)  \r\n",
        "  def z():\r\n",
        "    print('------')\r\n",
        "    fun()\r\n",
        "    print('------')\r\n",
        "  return z"
      ],
      "execution_count": null,
      "outputs": []
    },
    {
      "cell_type": "code",
      "metadata": {
        "colab": {
          "base_uri": "https://localhost:8080/"
        },
        "id": "SuA_JO01lWRh",
        "outputId": "e21b74cb-9c32-44b3-b4ff-98e8d81e42c5"
      },
      "source": [
        "@y\r\n",
        "def xxxx():\r\n",
        "  print('xxxx')\r\n",
        "xxxx"
      ],
      "execution_count": null,
      "outputs": [
        {
          "output_type": "execute_result",
          "data": {
            "text/plain": [
              "<function __main__.xxxx>"
            ]
          },
          "metadata": {
            "tags": []
          },
          "execution_count": 110
        }
      ]
    },
    {
      "cell_type": "markdown",
      "metadata": {
        "id": "Ct4iCRrLossU"
      },
      "source": [
        "Numpy, Python 에도 decorator 있음"
      ]
    },
    {
      "cell_type": "code",
      "metadata": {
        "id": "ANBEZvkvoIFU"
      },
      "source": [
        "import numpy as np"
      ],
      "execution_count": null,
      "outputs": []
    },
    {
      "cell_type": "code",
      "metadata": {
        "id": "Vkip_YYjoxPj"
      },
      "source": [
        "def xx(a,b):\r\n",
        "  return a+b"
      ],
      "execution_count": null,
      "outputs": []
    },
    {
      "cell_type": "code",
      "metadata": {
        "colab": {
          "base_uri": "https://localhost:8080/"
        },
        "id": "sySM_WYWoy9n",
        "outputId": "6a7d43f3-aa3b-4685-b2f7-0a7fbe8ee9fe"
      },
      "source": [
        "xx([1,2,3],[4,5,6])"
      ],
      "execution_count": null,
      "outputs": [
        {
          "output_type": "execute_result",
          "data": {
            "text/plain": [
              "[1, 2, 3, 4, 5, 6]"
            ]
          },
          "metadata": {
            "tags": []
          },
          "execution_count": 119
        }
      ]
    },
    {
      "cell_type": "code",
      "metadata": {
        "id": "kfGbpml6o1Rz"
      },
      "source": [
        "@np.vectorize\r\n",
        "def xx(a,b):\r\n",
        "  return a+b"
      ],
      "execution_count": null,
      "outputs": []
    },
    {
      "cell_type": "code",
      "metadata": {
        "colab": {
          "base_uri": "https://localhost:8080/"
        },
        "id": "Vtx2pPpFo4eG",
        "outputId": "25c60ce8-29be-44ed-eedd-292c30409ad4"
      },
      "source": [
        "xx([1,2,3],[4,5,6])"
      ],
      "execution_count": null,
      "outputs": [
        {
          "output_type": "execute_result",
          "data": {
            "text/plain": [
              "array([5, 7, 9])"
            ]
          },
          "metadata": {
            "tags": []
          },
          "execution_count": 121
        }
      ]
    },
    {
      "cell_type": "markdown",
      "metadata": {
        "id": "pMiedwKFunbc"
      },
      "source": [
        "### 데코레이터의 파라미터\r\n",
        "\r\n",
        "- 데코레이터의 () 차이가 있음\r\n",
        "예. \r\n",
        "- `@tf.function`\r\n",
        "- `@tf.function( )` : 깊이 있는 2가지 의미를 이해해야함\r\n",
        "\r\n",
        "\r\n",
        "기존 데코레이터에 인자를 받는애들 하나 더 중첩\r\n"
      ]
    },
    {
      "cell_type": "code",
      "metadata": {
        "id": "6ebLzCdmo5bn"
      },
      "source": [
        "def zzz(m):  #한번 더 중첩\r\n",
        "  def y(fun):\r\n",
        "    def z():\r\n",
        "      fun()\r\n",
        "    return z\r\n",
        "  return y"
      ],
      "execution_count": null,
      "outputs": []
    },
    {
      "cell_type": "code",
      "metadata": {
        "colab": {
          "base_uri": "https://localhost:8080/",
          "height": 208
        },
        "id": "j_wZSpH4uwBo",
        "outputId": "a2de3e25-9f22-4893-e3cd-9a6175df41c8"
      },
      "source": [
        "@zzz     \r\n",
        "def a():\r\n",
        "  print('sun')\r\n",
        "\r\n",
        "a() #missing 1 required positional argument: 'fun' "
      ],
      "execution_count": null,
      "outputs": [
        {
          "output_type": "error",
          "ename": "TypeError",
          "evalue": "ignored",
          "traceback": [
            "\u001b[0;31m---------------------------------------------------------------------------\u001b[0m",
            "\u001b[0;31mTypeError\u001b[0m                                 Traceback (most recent call last)",
            "\u001b[0;32m<ipython-input-133-ec33b6e038ae>\u001b[0m in \u001b[0;36m<module>\u001b[0;34m()\u001b[0m\n\u001b[1;32m      3\u001b[0m   \u001b[0mprint\u001b[0m\u001b[0;34m(\u001b[0m\u001b[0;34m'sun'\u001b[0m\u001b[0;34m)\u001b[0m\u001b[0;34m\u001b[0m\u001b[0;34m\u001b[0m\u001b[0m\n\u001b[1;32m      4\u001b[0m \u001b[0;34m\u001b[0m\u001b[0m\n\u001b[0;32m----> 5\u001b[0;31m \u001b[0ma\u001b[0m\u001b[0;34m(\u001b[0m\u001b[0;34m)\u001b[0m \u001b[0;31m#fun더 받아야함\u001b[0m\u001b[0;34m\u001b[0m\u001b[0;34m\u001b[0m\u001b[0m\n\u001b[0m",
            "\u001b[0;31mTypeError\u001b[0m: y() missing 1 required positional argument: 'fun'"
          ]
        }
      ]
    },
    {
      "cell_type": "code",
      "metadata": {
        "colab": {
          "base_uri": "https://localhost:8080/"
        },
        "id": "8wx3nvbUu811",
        "outputId": "82274dea-637c-4281-8ff5-a138b4f4962c"
      },
      "source": [
        "@zzz(3)  #위의 정의된 함수와 동일하게 맞추어줌\r\n",
        "def a():\r\n",
        "  print('sun')\r\n",
        "\r\n",
        "a()"
      ],
      "execution_count": null,
      "outputs": [
        {
          "output_type": "stream",
          "text": [
            "sun\n"
          ],
          "name": "stdout"
        }
      ]
    },
    {
      "cell_type": "code",
      "metadata": {
        "colab": {
          "base_uri": "https://localhost:8080/"
        },
        "id": "pI4RhY88vFJB",
        "outputId": "b2d3cda1-f84f-4685-8579-1996ded611ed"
      },
      "source": [
        "y(a)() "
      ],
      "execution_count": null,
      "outputs": [
        {
          "output_type": "stream",
          "text": [
            "------\n",
            "sun\n",
            "------\n"
          ],
          "name": "stdout"
        }
      ]
    },
    {
      "cell_type": "markdown",
      "metadata": {
        "id": "0Hxp14S7vrkI"
      },
      "source": [
        "@decorator  () 여부 차이가 있음을 알 수 있음"
      ]
    },
    {
      "cell_type": "code",
      "metadata": {
        "id": "Y2MUiXVhvSdT"
      },
      "source": [
        "def zzz(m=None):  #디폴트 값 줌\r\n",
        "  def y(fun):\r\n",
        "    def z():\r\n",
        "      fun()\r\n",
        "    return z\r\n",
        "  return y"
      ],
      "execution_count": null,
      "outputs": []
    },
    {
      "cell_type": "code",
      "metadata": {
        "colab": {
          "base_uri": "https://localhost:8080/"
        },
        "id": "FGb-oCA0vk2Y",
        "outputId": "0c0096f7-161a-4d0c-aa22-6d58e2acb8a1"
      },
      "source": [
        "@zzz()  #디폴트 값때문에 ()  , ()\r\n",
        "def a():\r\n",
        "  print('sun')\r\n",
        "\r\n",
        "a()"
      ],
      "execution_count": null,
      "outputs": [
        {
          "output_type": "stream",
          "text": [
            "sun\n"
          ],
          "name": "stdout"
        }
      ]
    },
    {
      "cell_type": "markdown",
      "metadata": {
        "id": "p9H4rBvgwWOH"
      },
      "source": [
        "### Partial\r\n",
        "- 일부 기본인자의 값을 넣어주고 새로운 함수 만듦\r\n",
        "- 기본적 인자를 강제"
      ]
    },
    {
      "cell_type": "code",
      "metadata": {
        "id": "78yCppzxvn0-"
      },
      "source": [
        "from functools import partial"
      ],
      "execution_count": null,
      "outputs": []
    },
    {
      "cell_type": "code",
      "metadata": {
        "id": "CP2r5OI7wqmT"
      },
      "source": [
        "def add(x,y):  \r\n",
        "  ''' 두 값을 더하는 함수를 만듦'''\r\n",
        "  return x+y"
      ],
      "execution_count": null,
      "outputs": []
    },
    {
      "cell_type": "code",
      "metadata": {
        "id": "fyBY_PuCwzFi"
      },
      "source": [
        "add2= partial(add, x=1)"
      ],
      "execution_count": null,
      "outputs": []
    },
    {
      "cell_type": "code",
      "metadata": {
        "colab": {
          "base_uri": "https://localhost:8080/",
          "height": 172
        },
        "id": "nEbyW4f5w2fV",
        "outputId": "0dd69c12-9ef6-4bcc-d5e4-8cd90588ead0"
      },
      "source": [
        "add2(3)"
      ],
      "execution_count": null,
      "outputs": [
        {
          "output_type": "error",
          "ename": "TypeError",
          "evalue": "ignored",
          "traceback": [
            "\u001b[0;31m---------------------------------------------------------------------------\u001b[0m",
            "\u001b[0;31mTypeError\u001b[0m                                 Traceback (most recent call last)",
            "\u001b[0;32m<ipython-input-145-5fadd5f8fd8f>\u001b[0m in \u001b[0;36m<module>\u001b[0;34m()\u001b[0m\n\u001b[0;32m----> 1\u001b[0;31m \u001b[0madd2\u001b[0m\u001b[0;34m(\u001b[0m\u001b[0;36m3\u001b[0m\u001b[0;34m)\u001b[0m\u001b[0;34m\u001b[0m\u001b[0;34m\u001b[0m\u001b[0m\n\u001b[0m",
            "\u001b[0;31mTypeError\u001b[0m: add() got multiple values for argument 'x'"
          ]
        }
      ]
    },
    {
      "cell_type": "code",
      "metadata": {
        "id": "lAzCwASpw9uG"
      },
      "source": [
        "add2= partial(add, 1)  #1개만 넣어도 됨\r\n",
        "add2(3)  "
      ],
      "execution_count": null,
      "outputs": []
    },
    {
      "cell_type": "code",
      "metadata": {
        "colab": {
          "base_uri": "https://localhost:8080/"
        },
        "id": "9VRNkqSkw_4k",
        "outputId": "0cba25cb-2874-418a-a372-9700f7b5108c"
      },
      "source": [
        "add2= partial(add, 1,2)\r\n",
        "add2()   #안넣어도 됨"
      ],
      "execution_count": null,
      "outputs": [
        {
          "output_type": "execute_result",
          "data": {
            "text/plain": [
              "3"
            ]
          },
          "metadata": {
            "tags": []
          },
          "execution_count": 147
        }
      ]
    },
    {
      "cell_type": "code",
      "metadata": {
        "colab": {
          "base_uri": "https://localhost:8080/"
        },
        "id": "BaBa2KDD23pj",
        "outputId": "c966dd52-276e-4db5-d407-f5cb33bb3fd7"
      },
      "source": [
        "add(10,2)"
      ],
      "execution_count": null,
      "outputs": [
        {
          "output_type": "execute_result",
          "data": {
            "text/plain": [
              "12"
            ]
          },
          "metadata": {
            "tags": []
          },
          "execution_count": 190
        }
      ]
    },
    {
      "cell_type": "code",
      "metadata": {
        "colab": {
          "base_uri": "https://localhost:8080/"
        },
        "id": "7ejJaIBo3D7T",
        "outputId": "88008f97-c486-483a-d2e4-4a174ffcae2b"
      },
      "source": [
        "def add2(a):\r\n",
        "  print('aaa')\r\n",
        "\r\n",
        "add2(3)"
      ],
      "execution_count": null,
      "outputs": [
        {
          "output_type": "stream",
          "text": [
            "aaa\n"
          ],
          "name": "stdout"
        }
      ]
    },
    {
      "cell_type": "code",
      "metadata": {
        "colab": {
          "base_uri": "https://localhost:8080/"
        },
        "id": "5tld42GJ3JvB",
        "outputId": "d17a6738-ff05-40bb-aa93-e2f19951def3"
      },
      "source": [
        "add3=partial(add2)\r\n",
        "add3"
      ],
      "execution_count": null,
      "outputs": [
        {
          "output_type": "execute_result",
          "data": {
            "text/plain": [
              "functools.partial(<function add2 at 0x7f8823d39950>)"
            ]
          },
          "metadata": {
            "tags": []
          },
          "execution_count": 195
        }
      ]
    },
    {
      "cell_type": "code",
      "metadata": {
        "id": "BQ_wg2NKxuy6"
      },
      "source": [
        "def ttt(func):\r\n",
        "  def inner(*args, **kwargs):\r\n",
        "    func()\r\n",
        "  return inner"
      ],
      "execution_count": null,
      "outputs": []
    },
    {
      "cell_type": "code",
      "metadata": {
        "id": "mkSuOHUOxR7e"
      },
      "source": [
        "def wrappers(func=None):   \r\n",
        "  # 함수가 없으면 partial(ttt) 를 실행함\r\n",
        "  if func is None:       #if 이용해서 partial 을 넣음\r\n",
        "    return partial(ttt)  \r\n",
        "    \r\n",
        "  @wraps(func)\r\n",
        "  def inner(*args, **kwargs):\r\n",
        "    print('---')\r\n",
        "    func(*args, **kwargs)\r\n",
        "  return inner\r\n"
      ],
      "execution_count": null,
      "outputs": []
    },
    {
      "cell_type": "code",
      "metadata": {
        "id": "Le9NSSa7x3ob"
      },
      "source": [
        "def zzz(m):\r\n",
        "  def wrapper(fun):\r\n",
        "    def inner():\r\n",
        "      print('---')\r\n",
        "      fun()\r\n",
        "    return inner\r\n",
        "  return wrapper\r\n"
      ],
      "execution_count": null,
      "outputs": []
    },
    {
      "cell_type": "code",
      "metadata": {
        "id": "FbYJ4938yv66"
      },
      "source": [
        "@zzz\r\n",
        "def x():\r\n",
        "  print('aaa')"
      ],
      "execution_count": null,
      "outputs": []
    },
    {
      "cell_type": "code",
      "metadata": {
        "colab": {
          "base_uri": "https://localhost:8080/",
          "height": 172
        },
        "id": "TxEpsM47yyda",
        "outputId": "ae64ed85-05b3-46d6-bf7d-3caa4698a86a"
      },
      "source": [
        "x()  #missing 1 required positional argument: 'fun' "
      ],
      "execution_count": null,
      "outputs": [
        {
          "output_type": "error",
          "ename": "TypeError",
          "evalue": "ignored",
          "traceback": [
            "\u001b[0;31m---------------------------------------------------------------------------\u001b[0m",
            "\u001b[0;31mTypeError\u001b[0m                                 Traceback (most recent call last)",
            "\u001b[0;32m<ipython-input-155-08f9d0828de0>\u001b[0m in \u001b[0;36m<module>\u001b[0;34m()\u001b[0m\n\u001b[0;32m----> 1\u001b[0;31m \u001b[0mx\u001b[0m\u001b[0;34m(\u001b[0m\u001b[0;34m)\u001b[0m\u001b[0;34m\u001b[0m\u001b[0;34m\u001b[0m\u001b[0m\n\u001b[0m",
            "\u001b[0;31mTypeError\u001b[0m: wrapper() missing 1 required positional argument: 'fun'"
          ]
        }
      ]
    },
    {
      "cell_type": "code",
      "metadata": {
        "id": "DHJRw-kSyyrf"
      },
      "source": [
        "def zzz(m):\r\n",
        "\r\n",
        "  def wrapper(fun):\r\n",
        "      if fun is None:\r\n",
        "        return partial(fun,1)\r\n",
        "      def inner():\r\n",
        "        print('---')\r\n",
        "        fun()\r\n",
        "      return inner\r\n",
        "  return wrapper\r\n",
        "\r\n",
        "\r\n",
        "@zzz\r\n",
        "def x():\r\n",
        "  print('aaa')"
      ],
      "execution_count": null,
      "outputs": []
    },
    {
      "cell_type": "code",
      "metadata": {
        "id": "AmfFhCw1y8Mb"
      },
      "source": [
        "#func=None 설정하면 없는것은 안 받도록 강제 시킴\r\n",
        "\r\n",
        "def zzz(func=None, *, x=2):     #디폴트값을 줌, positional이 기본이라서 강제하기 위해 *사용\r\n",
        "#partial 로 인자값을 강제하여  () 유무 모두 실행 가능하도록 함.\r\n",
        "  if func is None:\r\n",
        "    return partial(zzz,x=1)\r\n",
        "  def wrapper():\r\n",
        "      print('---')\r\n",
        "      fun()\r\n",
        "  return wrapper\r\n",
        "\r\n",
        "@zzz                     #강제된 함수가 실행되므로 () 없음\r\n",
        "def x():\r\n",
        "  print('aaa')"
      ],
      "execution_count": null,
      "outputs": []
    },
    {
      "cell_type": "code",
      "metadata": {
        "colab": {
          "base_uri": "https://localhost:8080/",
          "height": 208
        },
        "id": "RmeL7V4uztip",
        "outputId": "e378cdc5-2974-4d77-a33d-8e7ba1e3833a"
      },
      "source": [
        "@zzz(1)\r\n",
        "def x():\r\n",
        "  print('aaa')"
      ],
      "execution_count": null,
      "outputs": [
        {
          "output_type": "error",
          "ename": "TypeError",
          "evalue": "ignored",
          "traceback": [
            "\u001b[0;31m---------------------------------------------------------------------------\u001b[0m",
            "\u001b[0;31mTypeError\u001b[0m                                 Traceback (most recent call last)",
            "\u001b[0;32m<ipython-input-192-363ada1ae3ff>\u001b[0m in \u001b[0;36m<module>\u001b[0;34m()\u001b[0m\n\u001b[0;32m----> 1\u001b[0;31m \u001b[0;34m@\u001b[0m\u001b[0mzzz\u001b[0m\u001b[0;34m(\u001b[0m\u001b[0;36m1\u001b[0m\u001b[0;34m)\u001b[0m\u001b[0;34m\u001b[0m\u001b[0;34m\u001b[0m\u001b[0m\n\u001b[0m\u001b[1;32m      2\u001b[0m \u001b[0;32mdef\u001b[0m \u001b[0mx\u001b[0m\u001b[0;34m(\u001b[0m\u001b[0;34m)\u001b[0m\u001b[0;34m:\u001b[0m\u001b[0;34m\u001b[0m\u001b[0;34m\u001b[0m\u001b[0m\n\u001b[1;32m      3\u001b[0m   \u001b[0mprint\u001b[0m\u001b[0;34m(\u001b[0m\u001b[0;34m'aaa'\u001b[0m\u001b[0;34m)\u001b[0m\u001b[0;34m\u001b[0m\u001b[0;34m\u001b[0m\u001b[0m\n",
            "\u001b[0;31mTypeError\u001b[0m: wrapper() takes 0 positional arguments but 1 was given"
          ]
        }
      ]
    },
    {
      "cell_type": "code",
      "metadata": {
        "colab": {
          "base_uri": "https://localhost:8080/",
          "height": 316
        },
        "id": "PYwBw3Dcz8r_",
        "outputId": "8b4a49c9-4121-445a-f7ee-02828ccdee32"
      },
      "source": [
        "x()"
      ],
      "execution_count": null,
      "outputs": [
        {
          "output_type": "stream",
          "text": [
            "---\n"
          ],
          "name": "stdout"
        },
        {
          "output_type": "error",
          "ename": "NameError",
          "evalue": "ignored",
          "traceback": [
            "\u001b[0;31m---------------------------------------------------------------------------\u001b[0m",
            "\u001b[0;31mNameError\u001b[0m                                 Traceback (most recent call last)",
            "\u001b[0;32m<ipython-input-171-08f9d0828de0>\u001b[0m in \u001b[0;36m<module>\u001b[0;34m()\u001b[0m\n\u001b[0;32m----> 1\u001b[0;31m \u001b[0mx\u001b[0m\u001b[0;34m(\u001b[0m\u001b[0;34m)\u001b[0m\u001b[0;34m\u001b[0m\u001b[0;34m\u001b[0m\u001b[0m\n\u001b[0m",
            "\u001b[0;32m<ipython-input-168-12b8696a5712>\u001b[0m in \u001b[0;36mwrapper\u001b[0;34m()\u001b[0m\n\u001b[1;32m      5\u001b[0m   \u001b[0;32mdef\u001b[0m \u001b[0mwrapper\u001b[0m\u001b[0;34m(\u001b[0m\u001b[0;34m)\u001b[0m\u001b[0;34m:\u001b[0m\u001b[0;34m\u001b[0m\u001b[0;34m\u001b[0m\u001b[0m\n\u001b[1;32m      6\u001b[0m       \u001b[0mprint\u001b[0m\u001b[0;34m(\u001b[0m\u001b[0;34m'---'\u001b[0m\u001b[0;34m)\u001b[0m\u001b[0;34m\u001b[0m\u001b[0;34m\u001b[0m\u001b[0m\n\u001b[0;32m----> 7\u001b[0;31m       \u001b[0mfun\u001b[0m\u001b[0;34m(\u001b[0m\u001b[0;34m)\u001b[0m\u001b[0;34m\u001b[0m\u001b[0;34m\u001b[0m\u001b[0m\n\u001b[0m\u001b[1;32m      8\u001b[0m   \u001b[0;32mreturn\u001b[0m \u001b[0mwrapper\u001b[0m\u001b[0;34m\u001b[0m\u001b[0;34m\u001b[0m\u001b[0m\n\u001b[1;32m      9\u001b[0m \u001b[0;34m\u001b[0m\u001b[0m\n",
            "\u001b[0;31mNameError\u001b[0m: name 'fun' is not defined"
          ]
        }
      ]
    },
    {
      "cell_type": "markdown",
      "metadata": {
        "id": "kC4mPrnC1xsY"
      },
      "source": [
        "\r\n",
        "1. 인자 사용하기 위해 3중 중첩 구조로 만들어야함.\r\n"
      ]
    },
    {
      "cell_type": "code",
      "metadata": {
        "colab": {
          "base_uri": "https://localhost:8080/",
          "height": 244
        },
        "id": "siZ9OCF41Ex8",
        "outputId": "da1ab73a-cbe6-4229-d70a-2d58909d4ae2"
      },
      "source": [
        "#2단 구조\r\n",
        "def aaa(fun,*,x=1): #키워드 방식으로 강제함\r\n",
        "  def inner():\r\n",
        "    print('---')\r\n",
        "    fun()\r\n",
        "  return inner\r\n",
        "\r\n",
        "@aaa(1)\r\n",
        "def x():\r\n",
        "  print('aaa')   #2중 중첩으로는 인자 받기 힘듦"
      ],
      "execution_count": null,
      "outputs": [
        {
          "output_type": "error",
          "ename": "TypeError",
          "evalue": "ignored",
          "traceback": [
            "\u001b[0;31m---------------------------------------------------------------------------\u001b[0m",
            "\u001b[0;31mTypeError\u001b[0m                                 Traceback (most recent call last)",
            "\u001b[0;32m<ipython-input-187-71a955ce5508>\u001b[0m in \u001b[0;36m<module>\u001b[0;34m()\u001b[0m\n\u001b[1;32m      5\u001b[0m   \u001b[0;32mreturn\u001b[0m \u001b[0minner\u001b[0m\u001b[0;34m\u001b[0m\u001b[0;34m\u001b[0m\u001b[0m\n\u001b[1;32m      6\u001b[0m \u001b[0;34m\u001b[0m\u001b[0m\n\u001b[0;32m----> 7\u001b[0;31m \u001b[0;34m@\u001b[0m\u001b[0maaa\u001b[0m\u001b[0;34m(\u001b[0m\u001b[0;36m1\u001b[0m\u001b[0;34m)\u001b[0m\u001b[0;34m\u001b[0m\u001b[0;34m\u001b[0m\u001b[0m\n\u001b[0m\u001b[1;32m      8\u001b[0m \u001b[0;32mdef\u001b[0m \u001b[0mx\u001b[0m\u001b[0;34m(\u001b[0m\u001b[0;34m)\u001b[0m\u001b[0;34m:\u001b[0m\u001b[0;34m\u001b[0m\u001b[0;34m\u001b[0m\u001b[0m\n\u001b[1;32m      9\u001b[0m   \u001b[0mprint\u001b[0m\u001b[0;34m(\u001b[0m\u001b[0;34m'aaa'\u001b[0m\u001b[0;34m)\u001b[0m\u001b[0;34m\u001b[0m\u001b[0;34m\u001b[0m\u001b[0m\n",
            "\u001b[0;31mTypeError\u001b[0m: inner() takes 0 positional arguments but 1 was given"
          ]
        }
      ]
    },
    {
      "cell_type": "code",
      "metadata": {
        "colab": {
          "base_uri": "https://localhost:8080/"
        },
        "id": "3AbdE0QA1MJd",
        "outputId": "c04a49b8-b02d-4446-b25c-273c753536af"
      },
      "source": [
        "#3단 구조\r\n",
        "def bbb(m):  #한번더 중첩 해야함\r\n",
        "  def aaa(fun): #키워드 방식으로 강제함\r\n",
        "    def inner():\r\n",
        "      print('---')\r\n",
        "      fun()\r\n",
        "    return inner\r\n",
        "  return aaa\r\n",
        "\r\n",
        "@bbb(1)\r\n",
        "def x():\r\n",
        "  print('aaa')\r\n",
        "\r\n",
        "x()"
      ],
      "execution_count": null,
      "outputs": [
        {
          "output_type": "stream",
          "text": [
            "---\n",
            "aaa\n"
          ],
          "name": "stdout"
        }
      ]
    },
    {
      "cell_type": "code",
      "metadata": {
        "colab": {
          "base_uri": "https://localhost:8080/"
        },
        "id": "BrW8EJlC1rkY",
        "outputId": "c6d02f9b-1859-4883-b1ce-179b0f87c3f8"
      },
      "source": [
        "#3단 구조\r\n",
        "def bbb(m=1):  #디폴트 값 \r\n",
        "  def aaa(fun): \r\n",
        "    def inner():\r\n",
        "      print('---')\r\n",
        "      fun()\r\n",
        "    return inner\r\n",
        "  return aaa\r\n",
        "\r\n",
        "@bbb()        #생략\r\n",
        "def x():\r\n",
        "  print('aaa')\r\n",
        "\r\n",
        "x()"
      ],
      "execution_count": null,
      "outputs": [
        {
          "output_type": "stream",
          "text": [
            "---\n",
            "aaa\n"
          ],
          "name": "stdout"
        }
      ]
    },
    {
      "cell_type": "markdown",
      "metadata": {
        "id": "vxdyWBA62Sab"
      },
      "source": [
        "#### inspect\r\n",
        "- 파이썬에서 코드를 보는 방법"
      ]
    },
    {
      "cell_type": "code",
      "metadata": {
        "id": "9SwlGoEa2M5F"
      },
      "source": [
        "import inspect"
      ],
      "execution_count": null,
      "outputs": []
    },
    {
      "cell_type": "code",
      "metadata": {
        "id": "tVx1Aeyu3lio"
      },
      "source": [
        "import pandas as pd"
      ],
      "execution_count": null,
      "outputs": []
    },
    {
      "cell_type": "code",
      "metadata": {
        "colab": {
          "base_uri": "https://localhost:8080/"
        },
        "id": "b2wPxXC93mlm",
        "outputId": "1b7f7555-ca8f-4b1a-aff8-23ba8d208240"
      },
      "source": [
        "print(inspect.getsource(pd.read_csv))"
      ],
      "execution_count": null,
      "outputs": [
        {
          "output_type": "stream",
          "text": [
            "@Appender(\n",
            "    _doc_read_csv_and_table.format(\n",
            "        func_name=\"read_csv\",\n",
            "        summary=\"Read a comma-separated values (csv) file into DataFrame.\",\n",
            "        _default_sep=\"','\",\n",
            "    )\n",
            ")\n",
            "def read_csv(\n",
            "    filepath_or_buffer: FilePathOrBuffer,\n",
            "    sep=\",\",\n",
            "    delimiter=None,\n",
            "    # Column and Index Locations and Names\n",
            "    header=\"infer\",\n",
            "    names=None,\n",
            "    index_col=None,\n",
            "    usecols=None,\n",
            "    squeeze=False,\n",
            "    prefix=None,\n",
            "    mangle_dupe_cols=True,\n",
            "    # General Parsing Configuration\n",
            "    dtype=None,\n",
            "    engine=None,\n",
            "    converters=None,\n",
            "    true_values=None,\n",
            "    false_values=None,\n",
            "    skipinitialspace=False,\n",
            "    skiprows=None,\n",
            "    skipfooter=0,\n",
            "    nrows=None,\n",
            "    # NA and Missing Data Handling\n",
            "    na_values=None,\n",
            "    keep_default_na=True,\n",
            "    na_filter=True,\n",
            "    verbose=False,\n",
            "    skip_blank_lines=True,\n",
            "    # Datetime Handling\n",
            "    parse_dates=False,\n",
            "    infer_datetime_format=False,\n",
            "    keep_date_col=False,\n",
            "    date_parser=None,\n",
            "    dayfirst=False,\n",
            "    cache_dates=True,\n",
            "    # Iteration\n",
            "    iterator=False,\n",
            "    chunksize=None,\n",
            "    # Quoting, Compression, and File Format\n",
            "    compression=\"infer\",\n",
            "    thousands=None,\n",
            "    decimal: str = \".\",\n",
            "    lineterminator=None,\n",
            "    quotechar='\"',\n",
            "    quoting=csv.QUOTE_MINIMAL,\n",
            "    doublequote=True,\n",
            "    escapechar=None,\n",
            "    comment=None,\n",
            "    encoding=None,\n",
            "    dialect=None,\n",
            "    # Error Handling\n",
            "    error_bad_lines=True,\n",
            "    warn_bad_lines=True,\n",
            "    # Internal\n",
            "    delim_whitespace=False,\n",
            "    low_memory=_c_parser_defaults[\"low_memory\"],\n",
            "    memory_map=False,\n",
            "    float_precision=None,\n",
            "):\n",
            "    # gh-23761\n",
            "    #\n",
            "    # When a dialect is passed, it overrides any of the overlapping\n",
            "    # parameters passed in directly. We don't want to warn if the\n",
            "    # default parameters were passed in (since it probably means\n",
            "    # that the user didn't pass them in explicitly in the first place).\n",
            "    #\n",
            "    # \"delimiter\" is the annoying corner case because we alias it to\n",
            "    # \"sep\" before doing comparison to the dialect values later on.\n",
            "    # Thus, we need a flag to indicate that we need to \"override\"\n",
            "    # the comparison to dialect values by checking if default values\n",
            "    # for BOTH \"delimiter\" and \"sep\" were provided.\n",
            "    default_sep = \",\"\n",
            "\n",
            "    if dialect is not None:\n",
            "        sep_override = delimiter is None and sep == default_sep\n",
            "        kwds = dict(sep_override=sep_override)\n",
            "    else:\n",
            "        kwds = dict()\n",
            "\n",
            "    # Alias sep -> delimiter.\n",
            "    if delimiter is None:\n",
            "        delimiter = sep\n",
            "\n",
            "    if delim_whitespace and delimiter != default_sep:\n",
            "        raise ValueError(\n",
            "            \"Specified a delimiter with both sep and \"\n",
            "            \"delim_whitespace=True; you can only specify one.\"\n",
            "        )\n",
            "\n",
            "    if engine is not None:\n",
            "        engine_specified = True\n",
            "    else:\n",
            "        engine = \"c\"\n",
            "        engine_specified = False\n",
            "\n",
            "    kwds.update(\n",
            "        delimiter=delimiter,\n",
            "        engine=engine,\n",
            "        dialect=dialect,\n",
            "        compression=compression,\n",
            "        engine_specified=engine_specified,\n",
            "        doublequote=doublequote,\n",
            "        escapechar=escapechar,\n",
            "        quotechar=quotechar,\n",
            "        quoting=quoting,\n",
            "        skipinitialspace=skipinitialspace,\n",
            "        lineterminator=lineterminator,\n",
            "        header=header,\n",
            "        index_col=index_col,\n",
            "        names=names,\n",
            "        prefix=prefix,\n",
            "        skiprows=skiprows,\n",
            "        skipfooter=skipfooter,\n",
            "        na_values=na_values,\n",
            "        true_values=true_values,\n",
            "        false_values=false_values,\n",
            "        keep_default_na=keep_default_na,\n",
            "        thousands=thousands,\n",
            "        comment=comment,\n",
            "        decimal=decimal,\n",
            "        parse_dates=parse_dates,\n",
            "        keep_date_col=keep_date_col,\n",
            "        dayfirst=dayfirst,\n",
            "        date_parser=date_parser,\n",
            "        cache_dates=cache_dates,\n",
            "        nrows=nrows,\n",
            "        iterator=iterator,\n",
            "        chunksize=chunksize,\n",
            "        converters=converters,\n",
            "        dtype=dtype,\n",
            "        usecols=usecols,\n",
            "        verbose=verbose,\n",
            "        encoding=encoding,\n",
            "        squeeze=squeeze,\n",
            "        memory_map=memory_map,\n",
            "        float_precision=float_precision,\n",
            "        na_filter=na_filter,\n",
            "        delim_whitespace=delim_whitespace,\n",
            "        warn_bad_lines=warn_bad_lines,\n",
            "        error_bad_lines=error_bad_lines,\n",
            "        low_memory=low_memory,\n",
            "        mangle_dupe_cols=mangle_dupe_cols,\n",
            "        infer_datetime_format=infer_datetime_format,\n",
            "        skip_blank_lines=skip_blank_lines,\n",
            "    )\n",
            "\n",
            "    return _read(filepath_or_buffer, kwds)\n",
            "\n"
          ],
          "name": "stdout"
        }
      ]
    },
    {
      "cell_type": "markdown",
      "metadata": {
        "id": "LkcMJJ6b3-9m"
      },
      "source": [
        "### Chaining decorators\r\n",
        "데코레이터 2개이상 이어서 붙이기\r\n"
      ]
    },
    {
      "cell_type": "code",
      "metadata": {
        "colab": {
          "base_uri": "https://localhost:8080/",
          "height": 208
        },
        "id": "c_UB5cW53rzD",
        "outputId": "92b20058-b0d5-45ce-84f0-2aa11f98311a"
      },
      "source": [
        "@decorator1 \r\n",
        "@decorator2   # 합성 함수 처럼 실행 됨 foo = decorator1(decorator2(foo)) \r\n",
        "def foo():\r\n",
        "  print('foo') "
      ],
      "execution_count": null,
      "outputs": [
        {
          "output_type": "error",
          "ename": "NameError",
          "evalue": "ignored",
          "traceback": [
            "\u001b[0;31m---------------------------------------------------------------------------\u001b[0m",
            "\u001b[0;31mNameError\u001b[0m                                 Traceback (most recent call last)",
            "\u001b[0;32m<ipython-input-201-729e999b16b8>\u001b[0m in \u001b[0;36m<module>\u001b[0;34m()\u001b[0m\n\u001b[0;32m----> 1\u001b[0;31m \u001b[0;34m@\u001b[0m\u001b[0mdecorator1\u001b[0m   \u001b[0;31m# 합성 함수 처럼 실행 됨 foo = decorator1(decorator2(foo))\u001b[0m\u001b[0;34m\u001b[0m\u001b[0;34m\u001b[0m\u001b[0m\n\u001b[0m\u001b[1;32m      2\u001b[0m \u001b[0;32mdef\u001b[0m \u001b[0mfoo\u001b[0m\u001b[0;34m(\u001b[0m\u001b[0;34m)\u001b[0m\u001b[0;34m:\u001b[0m\u001b[0;34m\u001b[0m\u001b[0;34m\u001b[0m\u001b[0m\n\u001b[1;32m      3\u001b[0m   \u001b[0mprint\u001b[0m\u001b[0;34m(\u001b[0m\u001b[0;34m'foo'\u001b[0m\u001b[0;34m)\u001b[0m\u001b[0;34m\u001b[0m\u001b[0;34m\u001b[0m\u001b[0m\n",
            "\u001b[0;31mNameError\u001b[0m: name 'decorator1' is not defined"
          ]
        }
      ]
    },
    {
      "cell_type": "markdown",
      "metadata": {
        "id": "QokyPAiT8Q_C"
      },
      "source": [
        "### metaclass \r\n",
        "- 클래스의 클래스\r\n",
        "- 메타클래스가 클래스의 행동을 제한함\r\n",
        "- 내부적으로 들어가는 근본적 기능\r\n",
        "- Sikit-learn 에서 많이 나옴\r\n"
      ]
    },
    {
      "cell_type": "code",
      "metadata": {
        "colab": {
          "base_uri": "https://localhost:8080/"
        },
        "id": "ckwrJM6-8lld",
        "outputId": "057e4a71-ddbf-4869-9a42-ef61567fb6d6"
      },
      "source": [
        "a=1\r\n",
        "type(a) #a는 인스턴스"
      ],
      "execution_count": null,
      "outputs": [
        {
          "output_type": "execute_result",
          "data": {
            "text/plain": [
              "int"
            ]
          },
          "metadata": {
            "tags": []
          },
          "execution_count": 211
        }
      ]
    },
    {
      "cell_type": "code",
      "metadata": {
        "id": "MuC1RVGQ9MEb"
      },
      "source": [
        "a.__class__"
      ],
      "execution_count": null,
      "outputs": []
    },
    {
      "cell_type": "code",
      "metadata": {
        "colab": {
          "base_uri": "https://localhost:8080/"
        },
        "id": "BRzQJr3u8ln5",
        "outputId": "9d47a0ff-8108-47de-dcfe-2f447e04f256"
      },
      "source": [
        "type(int) #int 클래스"
      ],
      "execution_count": null,
      "outputs": [
        {
          "output_type": "execute_result",
          "data": {
            "text/plain": [
              "type"
            ]
          },
          "metadata": {
            "tags": []
          },
          "execution_count": 212
        }
      ]
    },
    {
      "cell_type": "code",
      "metadata": {
        "colab": {
          "base_uri": "https://localhost:8080/"
        },
        "id": "aQWQyvv48lrV",
        "outputId": "135506bf-6872-4e03-e111-96778ab21864"
      },
      "source": [
        "type(type) # type의 클"
      ],
      "execution_count": null,
      "outputs": [
        {
          "output_type": "execute_result",
          "data": {
            "text/plain": [
              "type"
            ]
          },
          "metadata": {
            "tags": []
          },
          "execution_count": 213
        }
      ]
    },
    {
      "cell_type": "markdown",
      "metadata": {
        "id": "VR1P63gK9dvV"
      },
      "source": [
        "### type\r\n",
        "1. 인스턴스의 클래스를 반환 type()\r\n",
        "2. type(\"sun\",base, dict)\r\n",
        "3. 메타클래스\r\n",
        "\r\n",
        "\r\n",
        " > else 3가지 사용처\r\n",
        "    - if else, \r\n",
        "    - for/while else \r\n",
        "      - for 실행 완료 되면 else 실행\r\n",
        "    -  try/except else\r\n",
        "      - try 에러 안 나오면 실행\r\n",
        "\r\n",
        "\r\n",
        "> as 3 총가\r\n",
        "  - import numpy as np \r\n",
        "  - with open('sun.txt') as f:\r\n",
        "  - except Exceotion as e:\r\n",
        "- 파이썬에서는 인스턴스 무한개로 만듦\r\n",
        "- type 이라는 메타클래스에 의해서 클래스 B가 제한됨\r\n",
        "  - eg. Singleton"
      ]
    },
    {
      "cell_type": "code",
      "metadata": {
        "id": "n0YwfhUU9bTg"
      },
      "source": [
        "class B(object, metaclass=type):   #Python 기본값 type\r\n",
        "  pass"
      ],
      "execution_count": null,
      "outputs": []
    },
    {
      "cell_type": "code",
      "metadata": {
        "id": "E1yzWkMp9_Gl"
      },
      "source": [
        "from sklearn.naive_bayes import ABCMeta #정의된것에 따라 결정됨"
      ],
      "execution_count": null,
      "outputs": []
    },
    {
      "cell_type": "markdown",
      "metadata": {
        "id": "VOs9_Cc5_Z-i"
      },
      "source": [
        "상속 받은 클래스\r\n",
        "- type 은 클래스를 만듦\r\n",
        "- 재사용 할때 사용(함수, 클래스)\r\n",
        "  - 재사용 하지 않을때 함수에서는 lambda, 클래스에서는 type 이용"
      ]
    },
    {
      "cell_type": "code",
      "metadata": {
        "colab": {
          "base_uri": "https://localhost:8080/"
        },
        "id": "cGOoKsja_JhC",
        "outputId": "9c8641f2-1262-4043-8715-6db73bef1269"
      },
      "source": [
        "t= type('sun',(int,),{})\r\n",
        "t"
      ],
      "execution_count": null,
      "outputs": [
        {
          "output_type": "execute_result",
          "data": {
            "text/plain": [
              "__main__.sun"
            ]
          },
          "metadata": {
            "tags": []
          },
          "execution_count": 217
        }
      ]
    },
    {
      "cell_type": "code",
      "metadata": {
        "colab": {
          "base_uri": "https://localhost:8080/"
        },
        "id": "aHWEW2G7_Q7x",
        "outputId": "2eabd8b3-b954-4524-ecfb-7e72be48b1aa"
      },
      "source": [
        "type(t) #클래스 "
      ],
      "execution_count": null,
      "outputs": [
        {
          "output_type": "execute_result",
          "data": {
            "text/plain": [
              "type"
            ]
          },
          "metadata": {
            "tags": []
          },
          "execution_count": 218
        }
      ]
    },
    {
      "cell_type": "code",
      "metadata": {
        "colab": {
          "base_uri": "https://localhost:8080/"
        },
        "id": "_Q--Rh5W_TX1",
        "outputId": "57aeb859-0ac9-42e8-e658-b89c00ddcf73"
      },
      "source": [
        "tt=t() \r\n",
        "tt"
      ],
      "execution_count": null,
      "outputs": [
        {
          "output_type": "execute_result",
          "data": {
            "text/plain": [
              "0"
            ]
          },
          "metadata": {
            "tags": []
          },
          "execution_count": 222
        }
      ]
    },
    {
      "cell_type": "markdown",
      "metadata": {
        "id": "kQQmKdeY8k2J"
      },
      "source": [
        "#### Singleton\r\n",
        "- 하나의 인스턴스만 생성하도록 구현"
      ]
    },
    {
      "cell_type": "code",
      "metadata": {
        "id": "UwS2WZYJ_zXA"
      },
      "source": [
        "class Singleton(type) : #type 상속 받음\r\n",
        "  def __init__(self):\r\n",
        "    super().__init__()\r\n",
        "    self.__instance= None #\r\n",
        "  def __call__(self) :  #인스턴스에 () 붙일 수 있음\r\n",
        "    if self.__instance is None:   #없으면 새로 만듦\r\n",
        "        self.__instance = super().__call__()\r\n",
        "                     #있으면 이전의 값을 사용\r\n",
        "    return self.__instance"
      ],
      "execution_count": null,
      "outputs": []
    },
    {
      "cell_type": "code",
      "metadata": {
        "id": "E6PxskyjAg2_"
      },
      "source": [
        "class A(metaclass=Singleton):\r\n",
        "  pass"
      ],
      "execution_count": null,
      "outputs": []
    },
    {
      "cell_type": "code",
      "metadata": {
        "id": "5jnesRn4A7lU"
      },
      "source": [
        "class Singleton(type) :               #type 상속 받음\r\n",
        "  def __init__(self, *arg, **kwargs):\r\n",
        "    super().__init__(*arg, **kwargs)\r\n",
        "    self.__instance= None #\r\n",
        "  def __call__(self,*arg, **kwargs) :  #인스턴스에 () 붙일 수 있음\r\n",
        "    if self.__instance is None:        #없으면 새로 만듦\r\n",
        "        self.__instance = super().__call__()              \r\n",
        "    return self.__instance              #있으면 기존 값을 사용"
      ],
      "execution_count": null,
      "outputs": []
    },
    {
      "cell_type": "code",
      "metadata": {
        "id": "S7uwYDOfBAGs"
      },
      "source": [
        "class A(metaclass=Singleton):\r\n",
        "  pass"
      ],
      "execution_count": null,
      "outputs": []
    },
    {
      "cell_type": "code",
      "metadata": {
        "id": "eJKBX1TQBE4e"
      },
      "source": [
        "a=A()  #인스턴스 여러개 생성"
      ],
      "execution_count": null,
      "outputs": []
    },
    {
      "cell_type": "code",
      "metadata": {
        "id": "bEdTxYh9BFZX"
      },
      "source": [
        "b=A()"
      ],
      "execution_count": null,
      "outputs": []
    },
    {
      "cell_type": "code",
      "metadata": {
        "id": "RKAxNuVoBW41"
      },
      "source": [
        "c=A()"
      ],
      "execution_count": null,
      "outputs": []
    },
    {
      "cell_type": "code",
      "metadata": {
        "colab": {
          "base_uri": "https://localhost:8080/"
        },
        "id": "3bzERKy1BHSh",
        "outputId": "d728605e-269d-409f-b89c-0d3de60e71fb"
      },
      "source": [
        "a is b  # 메모리 주소가 동일함"
      ],
      "execution_count": null,
      "outputs": [
        {
          "output_type": "execute_result",
          "data": {
            "text/plain": [
              "True"
            ]
          },
          "metadata": {
            "tags": []
          },
          "execution_count": 234
        }
      ]
    },
    {
      "cell_type": "code",
      "metadata": {
        "id": "V6Rj_z-5BKXp"
      },
      "source": [
        "a.t='sun'"
      ],
      "execution_count": null,
      "outputs": []
    },
    {
      "cell_type": "markdown",
      "metadata": {
        "id": "eAlNRGqNCv8q"
      },
      "source": [
        ""
      ]
    },
    {
      "cell_type": "code",
      "metadata": {
        "colab": {
          "base_uri": "https://localhost:8080/",
          "height": 35
        },
        "id": "aDm-UjT5BMJP",
        "outputId": "a887acc9-e895-4ec8-c37f-7d115fe28581"
      },
      "source": [
        "b.t      # 기존값을 사용함을 알 수 있음"
      ],
      "execution_count": null,
      "outputs": [
        {
          "output_type": "execute_result",
          "data": {
            "application/vnd.google.colaboratory.intrinsic+json": {
              "type": "string"
            },
            "text/plain": [
              "'sun'"
            ]
          },
          "metadata": {
            "tags": []
          },
          "execution_count": 236
        }
      ]
    },
    {
      "cell_type": "markdown",
      "metadata": {
        "id": "Uo5TbtXFBmW7"
      },
      "source": [
        "### ABC\r\n",
        "- 추상 클래스(Abstract Base Class)\r\n",
        "\r\n",
        "\r\n",
        "객체지향 4가지 개념\r\n",
        "1. 상속\r\n",
        "2. 다형성 \r\n",
        "3. 캡슐화 (함수,클래스 차이)\r\n",
        "4. 추상화\r\n",
        "\r\n",
        "1) 메타 클래스 - 클래스 단에서 수정 \r\n",
        "- 근본적으로 만들어 유지 보수 용이\r\n",
        "2) 클래스 자체를 수정은 유지 보수가 어려움\r\n",
        "\r\n",
        "\r\n",
        "\r\n",
        "#### 연산자 오버로딩\r\n",
        "- Python의 모든 연산자는 **method 와 연결**\r\n",
        "  - 연산자 오버로딩 : 연산자의 method의 기능을 바꿈\r\n",
        "    - 내 클래스 내에 정의 된 것을 새롭게 로딩\r\n",
        "    - 메소드 재정의하면 연산자의 기능을 바꿈\r\n",
        "  - 오버라이딩은 다른 클래스의 기능을 뒤엎음\r\n",
        "- Python의 모든 연산자는 **function 으로 대체** 가능 \r\n",
        "  - 함수형 패러다임->  함수로 사용하기 때문에 연산자 없는 코드 만들기 가능\r\n",
        "\r\n",
        "\r\n",
        " > Numpy elements, vectorization  -> 연산자 오버로딩기능을 이용해서 만듦.\r\n",
        "\r\n"
      ]
    },
    {
      "cell_type": "markdown",
      "metadata": {
        "id": "xHX0jadaDgps"
      },
      "source": [
        "##### \\_\\_add__"
      ]
    },
    {
      "cell_type": "code",
      "metadata": {
        "id": "8v2O-gcQBMtj"
      },
      "source": [
        "class X:\r\n",
        "  def __add__(self,a): #+ 연산자\r\n",
        "    print('aaa')\r\n",
        "    return 1"
      ],
      "execution_count": null,
      "outputs": []
    },
    {
      "cell_type": "code",
      "metadata": {
        "id": "vkU56519DZpy"
      },
      "source": [
        "x=X()"
      ],
      "execution_count": null,
      "outputs": []
    },
    {
      "cell_type": "code",
      "metadata": {
        "colab": {
          "base_uri": "https://localhost:8080/"
        },
        "id": "gUQzRqqtDc0_",
        "outputId": "52ce3e9a-9a24-442b-9e67-38c6dadc0b71"
      },
      "source": [
        "x+2  #연산자 + 기능을 바꾸어버림."
      ],
      "execution_count": null,
      "outputs": [
        {
          "output_type": "stream",
          "text": [
            "aaa\n"
          ],
          "name": "stdout"
        },
        {
          "output_type": "execute_result",
          "data": {
            "text/plain": [
              "1"
            ]
          },
          "metadata": {
            "tags": []
          },
          "execution_count": 241
        }
      ]
    },
    {
      "cell_type": "markdown",
      "metadata": {
        "id": "ysCvhTO_DrQV"
      },
      "source": [
        "- 나중에 텐서플로우에서 특별한 연산을 자주 사용하는 경우 연산자 오버로딩 유용함\r\n",
        "  - eg. 아인슈타인 summation  `Einsum`\r\n",
        "  \r\n"
      ]
    },
    {
      "cell_type": "code",
      "metadata": {
        "id": "bp1DLjNID_8v"
      },
      "source": [
        "from operator import add,mul"
      ],
      "execution_count": null,
      "outputs": []
    },
    {
      "cell_type": "code",
      "metadata": {
        "colab": {
          "base_uri": "https://localhost:8080/"
        },
        "id": "c-JnXE97DeJY",
        "outputId": "ca4e2e6c-d650-49d1-c141-bcd51741a738"
      },
      "source": [
        "add(3,4)  # 더하기"
      ],
      "execution_count": null,
      "outputs": [
        {
          "output_type": "execute_result",
          "data": {
            "text/plain": [
              "7"
            ]
          },
          "metadata": {
            "tags": []
          },
          "execution_count": 243
        }
      ]
    },
    {
      "cell_type": "code",
      "metadata": {
        "colab": {
          "base_uri": "https://localhost:8080/"
        },
        "id": "EQXKAjO_Ekrk",
        "outputId": "81bca648-28d0-4ff5-8346-0d551ab2ee63"
      },
      "source": [
        "mul(3,4) #곱하기"
      ],
      "execution_count": null,
      "outputs": [
        {
          "output_type": "execute_result",
          "data": {
            "text/plain": [
              "12"
            ]
          },
          "metadata": {
            "tags": []
          },
          "execution_count": 244
        }
      ]
    },
    {
      "cell_type": "code",
      "metadata": {
        "colab": {
          "base_uri": "https://localhost:8080/"
        },
        "id": "5qNnMFRxEl-5",
        "outputId": "9a1af137-bff2-4be9-9918-5d55c50cf3b9"
      },
      "source": [
        "add(3, mul(3,4))"
      ],
      "execution_count": null,
      "outputs": [
        {
          "output_type": "execute_result",
          "data": {
            "text/plain": [
              "15"
            ]
          },
          "metadata": {
            "tags": []
          },
          "execution_count": 246
        }
      ]
    }
  ]
}