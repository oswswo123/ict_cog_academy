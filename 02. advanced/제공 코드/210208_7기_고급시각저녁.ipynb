{
  "nbformat": 4,
  "nbformat_minor": 0,
  "metadata": {
    "colab": {
      "name": "20210208_7기_고급시각저녁",
      "provenance": [],
      "collapsed_sections": [],
      "toc_visible": true
    },
    "kernelspec": {
      "name": "python3",
      "display_name": "Python 3"
    }
  },
  "cells": [
    {
      "cell_type": "markdown",
      "metadata": {
        "id": "iaaYXIA99LLM"
      },
      "source": [
        "# [ICTCOG AI Academy] 7기 고급시각저녁반\r\n",
        "\r\n",
        "#  다양한 영상 처리 라이브러리 (3) - OPENCV (2)\r\n",
        "\r\n",
        "\r\n",
        "### 머신러닝 "
      ]
    },
    {
      "cell_type": "code",
      "metadata": {
        "id": "TkJNeASg8iiQ"
      },
      "source": [
        "from sklearn.datasets import load_iris, load_digits"
      ],
      "execution_count": null,
      "outputs": []
    },
    {
      "cell_type": "code",
      "metadata": {
        "id": "TC8DgAPI_K3R"
      },
      "source": [
        "import pandas as pd # 정형 데이터 "
      ],
      "execution_count": null,
      "outputs": []
    },
    {
      "cell_type": "markdown",
      "metadata": {
        "id": "UEA7U6SC_Ovf"
      },
      "source": [
        "features, target을 하나의 테이블로 관리"
      ]
    },
    {
      "cell_type": "code",
      "metadata": {
        "id": "-Oou9S_8_aC3"
      },
      "source": [
        "iris= load_iris()\r\n",
        "iris_pd = pd.DataFrame(iris.data , columns = iris.feature_names)\r\n",
        "iris_pd['target']= iris.target"
      ],
      "execution_count": null,
      "outputs": []
    },
    {
      "cell_type": "code",
      "metadata": {
        "colab": {
          "base_uri": "https://localhost:8080/",
          "height": 436
        },
        "id": "c2-FFfyh_ytz",
        "outputId": "1ddd7a4d-47fe-4fa6-8fb2-7746c091a6a3"
      },
      "source": [
        "iris_pd"
      ],
      "execution_count": null,
      "outputs": [
        {
          "output_type": "execute_result",
          "data": {
            "text/html": [
              "<div>\n",
              "<style scoped>\n",
              "    .dataframe tbody tr th:only-of-type {\n",
              "        vertical-align: middle;\n",
              "    }\n",
              "\n",
              "    .dataframe tbody tr th {\n",
              "        vertical-align: top;\n",
              "    }\n",
              "\n",
              "    .dataframe thead th {\n",
              "        text-align: right;\n",
              "    }\n",
              "</style>\n",
              "<table border=\"1\" class=\"dataframe\">\n",
              "  <thead>\n",
              "    <tr style=\"text-align: right;\">\n",
              "      <th></th>\n",
              "      <th>sepal length (cm)</th>\n",
              "      <th>sepal width (cm)</th>\n",
              "      <th>petal length (cm)</th>\n",
              "      <th>petal width (cm)</th>\n",
              "      <th>target</th>\n",
              "    </tr>\n",
              "  </thead>\n",
              "  <tbody>\n",
              "    <tr>\n",
              "      <th>0</th>\n",
              "      <td>5.1</td>\n",
              "      <td>3.5</td>\n",
              "      <td>1.4</td>\n",
              "      <td>0.2</td>\n",
              "      <td>0</td>\n",
              "    </tr>\n",
              "    <tr>\n",
              "      <th>1</th>\n",
              "      <td>4.9</td>\n",
              "      <td>3.0</td>\n",
              "      <td>1.4</td>\n",
              "      <td>0.2</td>\n",
              "      <td>0</td>\n",
              "    </tr>\n",
              "    <tr>\n",
              "      <th>2</th>\n",
              "      <td>4.7</td>\n",
              "      <td>3.2</td>\n",
              "      <td>1.3</td>\n",
              "      <td>0.2</td>\n",
              "      <td>0</td>\n",
              "    </tr>\n",
              "    <tr>\n",
              "      <th>3</th>\n",
              "      <td>4.6</td>\n",
              "      <td>3.1</td>\n",
              "      <td>1.5</td>\n",
              "      <td>0.2</td>\n",
              "      <td>0</td>\n",
              "    </tr>\n",
              "    <tr>\n",
              "      <th>4</th>\n",
              "      <td>5.0</td>\n",
              "      <td>3.6</td>\n",
              "      <td>1.4</td>\n",
              "      <td>0.2</td>\n",
              "      <td>0</td>\n",
              "    </tr>\n",
              "    <tr>\n",
              "      <th>...</th>\n",
              "      <td>...</td>\n",
              "      <td>...</td>\n",
              "      <td>...</td>\n",
              "      <td>...</td>\n",
              "      <td>...</td>\n",
              "    </tr>\n",
              "    <tr>\n",
              "      <th>145</th>\n",
              "      <td>6.7</td>\n",
              "      <td>3.0</td>\n",
              "      <td>5.2</td>\n",
              "      <td>2.3</td>\n",
              "      <td>2</td>\n",
              "    </tr>\n",
              "    <tr>\n",
              "      <th>146</th>\n",
              "      <td>6.3</td>\n",
              "      <td>2.5</td>\n",
              "      <td>5.0</td>\n",
              "      <td>1.9</td>\n",
              "      <td>2</td>\n",
              "    </tr>\n",
              "    <tr>\n",
              "      <th>147</th>\n",
              "      <td>6.5</td>\n",
              "      <td>3.0</td>\n",
              "      <td>5.2</td>\n",
              "      <td>2.0</td>\n",
              "      <td>2</td>\n",
              "    </tr>\n",
              "    <tr>\n",
              "      <th>148</th>\n",
              "      <td>6.2</td>\n",
              "      <td>3.4</td>\n",
              "      <td>5.4</td>\n",
              "      <td>2.3</td>\n",
              "      <td>2</td>\n",
              "    </tr>\n",
              "    <tr>\n",
              "      <th>149</th>\n",
              "      <td>5.9</td>\n",
              "      <td>3.0</td>\n",
              "      <td>5.1</td>\n",
              "      <td>1.8</td>\n",
              "      <td>2</td>\n",
              "    </tr>\n",
              "  </tbody>\n",
              "</table>\n",
              "<p>150 rows × 5 columns</p>\n",
              "</div>"
            ],
            "text/plain": [
              "     sepal length (cm)  sepal width (cm)  ...  petal width (cm)  target\n",
              "0                  5.1               3.5  ...               0.2       0\n",
              "1                  4.9               3.0  ...               0.2       0\n",
              "2                  4.7               3.2  ...               0.2       0\n",
              "3                  4.6               3.1  ...               0.2       0\n",
              "4                  5.0               3.6  ...               0.2       0\n",
              "..                 ...               ...  ...               ...     ...\n",
              "145                6.7               3.0  ...               2.3       2\n",
              "146                6.3               2.5  ...               1.9       2\n",
              "147                6.5               3.0  ...               2.0       2\n",
              "148                6.2               3.4  ...               2.3       2\n",
              "149                5.9               3.0  ...               1.8       2\n",
              "\n",
              "[150 rows x 5 columns]"
            ]
          },
          "metadata": {
            "tags": []
          },
          "execution_count": 14
        }
      ]
    },
    {
      "cell_type": "markdown",
      "metadata": {
        "id": "mjZc65VH__wU"
      },
      "source": [
        "### Exploratory Data Analysis (EDA)\r\n",
        "- 탐색적 데이터 분석\r\n",
        "- 데이터에 대한 이해를 바탕으로 기계학습 성능 향상\r\n",
        "\r\n"
      ]
    },
    {
      "cell_type": "code",
      "metadata": {
        "id": "nRlq3am7_zfU"
      },
      "source": [
        "import seaborn as sns"
      ],
      "execution_count": null,
      "outputs": []
    },
    {
      "cell_type": "code",
      "metadata": {
        "colab": {
          "base_uri": "https://localhost:8080/",
          "height": 744
        },
        "id": "1miBxoQEAT3g",
        "outputId": "40929e2e-f42c-42d2-8469-f9c4523f3236"
      },
      "source": [
        "sns.pairplot(iris_pd, hue='target')  #target으로 색상 구분"
      ],
      "execution_count": null,
      "outputs": [
        {
          "output_type": "execute_result",
          "data": {
            "text/plain": [
              "<seaborn.axisgrid.PairGrid at 0x7fbbe5bf20f0>"
            ]
          },
          "metadata": {
            "tags": []
          },
          "execution_count": 8
        },
        {
          "output_type": "display_data",
          "data": {
            "image/png": "[encoded data removed]",
            "text/plain": [
              "<Figure size 762.375x720 with 20 Axes>"
            ]
          },
          "metadata": {
            "tags": [],
            "needs_background": "light"
          }
        }
      ]
    },
    {
      "cell_type": "markdown",
      "metadata": {
        "id": "g8NF3zHzAzml"
      },
      "source": [
        "### tidy data\r\n",
        "- 데이터 분석에 알 맞은 데이터 형태 (기본 포맷)\r\n",
        "> Tidy Data by Hadley Wickham\r\n",
        "\r\n",
        "- 하나의 행은 하나의 관측치 observation/sample\r\n",
        "- 순서가 바뀌어도 상관 없음\r\n",
        "- 값은 atomic (분해 불가)\r\n",
        "  - 언어: 동일한 크기로 만들어 주기 위해서 padding\r\n",
        "\r\n",
        "##### Image\r\n",
        "1. 2차 이상의 데이터를 1차로 변환함으로써 생기는 정보 손실      \r\n",
        "     - 데이터 하나를 하나의 벡터로 표현 가능하나 이미지는 비정형 데이터이므로 local dependency가 깨짐. \r\n",
        "    - 이미지에서는 거리가 가까울수록 관련성 높다고 가정\r\n",
        "\r\n",
        "2.  컬럼(차원) 증가로 **차원의 저주** \r\n",
        "    - features 가 데이터에 비해 많을 수록 설명력은 높으나 **overfitting** 문제\r\n",
        "3. feature 찾는법\r\n",
        "- **convolution으로 해결**"
      ]
    },
    {
      "cell_type": "code",
      "metadata": {
        "id": "iaCeKl7sB1zm"
      },
      "source": [
        "from sklearn.datasets import load_wine"
      ],
      "execution_count": null,
      "outputs": []
    },
    {
      "cell_type": "code",
      "metadata": {
        "id": "V9hMnDecFMgR"
      },
      "source": [
        "wine=load_wine()\r\n",
        "wine_pd = pd.DataFrame(wine.data, columns = wine.feature_names)  #178개의 데이터\r\n",
        "wine_pd['target']= wine.target\r\n",
        "wine_pd.info()"
      ],
      "execution_count": null,
      "outputs": []
    },
    {
      "cell_type": "code",
      "metadata": {
        "colab": {
          "base_uri": "https://localhost:8080/"
        },
        "id": "_7nHJme3FT8J",
        "outputId": "a4d5050d-7971-4114-d3fd-ff08e522ac34"
      },
      "source": [
        "print(wine.DESCR)   #통계치 ( 관측치 아님)"
      ],
      "execution_count": null,
      "outputs": [
        {
          "output_type": "stream",
          "text": [
            ".. _wine_dataset:\n",
            "\n",
            "Wine recognition dataset\n",
            "------------------------\n",
            "\n",
            "**Data Set Characteristics:**\n",
            "\n",
            "    :Number of Instances: 178 (50 in each of three classes)\n",
            "    :Number of Attributes: 13 numeric, predictive attributes and the class\n",
            "    :Attribute Information:\n",
            " \t\t- Alcohol\n",
            " \t\t- Malic acid\n",
            " \t\t- Ash\n",
            "\t\t- Alcalinity of ash  \n",
            " \t\t- Magnesium\n",
            "\t\t- Total phenols\n",
            " \t\t- Flavanoids\n",
            " \t\t- Nonflavanoid phenols\n",
            " \t\t- Proanthocyanins\n",
            "\t\t- Color intensity\n",
            " \t\t- Hue\n",
            " \t\t- OD280/OD315 of diluted wines\n",
            " \t\t- Proline\n",
            "\n",
            "    - class:\n",
            "            - class_0\n",
            "            - class_1\n",
            "            - class_2\n",
            "\t\t\n",
            "    :Summary Statistics:\n",
            "    \n",
            "    ============================= ==== ===== ======= =====\n",
            "                                   Min   Max   Mean     SD\n",
            "    ============================= ==== ===== ======= =====\n",
            "    Alcohol:                      11.0  14.8    13.0   0.8\n",
            "    Malic Acid:                   0.74  5.80    2.34  1.12\n",
            "    Ash:                          1.36  3.23    2.36  0.27\n",
            "    Alcalinity of Ash:            10.6  30.0    19.5   3.3\n",
            "    Magnesium:                    70.0 162.0    99.7  14.3\n",
            "    Total Phenols:                0.98  3.88    2.29  0.63\n",
            "    Flavanoids:                   0.34  5.08    2.03  1.00\n",
            "    Nonflavanoid Phenols:         0.13  0.66    0.36  0.12\n",
            "    Proanthocyanins:              0.41  3.58    1.59  0.57\n",
            "    Colour Intensity:              1.3  13.0     5.1   2.3\n",
            "    Hue:                          0.48  1.71    0.96  0.23\n",
            "    OD280/OD315 of diluted wines: 1.27  4.00    2.61  0.71\n",
            "    Proline:                       278  1680     746   315\n",
            "    ============================= ==== ===== ======= =====\n",
            "\n",
            "    :Missing Attribute Values: None\n",
            "    :Class Distribution: class_0 (59), class_1 (71), class_2 (48)\n",
            "    :Creator: R.A. Fisher\n",
            "    :Donor: Michael Marshall (MARSHALL%PLU@io.arc.nasa.gov)\n",
            "    :Date: July, 1988\n",
            "\n",
            "This is a copy of UCI ML Wine recognition datasets.\n",
            "https://archive.ics.uci.edu/ml/machine-learning-databases/wine/wine.data\n",
            "\n",
            "The data is the results of a chemical analysis of wines grown in the same\n",
            "region in Italy by three different cultivators. There are thirteen different\n",
            "measurements taken for different constituents found in the three types of\n",
            "wine.\n",
            "\n",
            "Original Owners: \n",
            "\n",
            "Forina, M. et al, PARVUS - \n",
            "An Extendible Package for Data Exploration, Classification and Correlation. \n",
            "Institute of Pharmaceutical and Food Analysis and Technologies,\n",
            "Via Brigata Salerno, 16147 Genoa, Italy.\n",
            "\n",
            "Citation:\n",
            "\n",
            "Lichman, M. (2013). UCI Machine Learning Repository\n",
            "[https://archive.ics.uci.edu/ml]. Irvine, CA: University of California,\n",
            "School of Information and Computer Science. \n",
            "\n",
            ".. topic:: References\n",
            "\n",
            "  (1) S. Aeberhard, D. Coomans and O. de Vel, \n",
            "  Comparison of Classifiers in High Dimensional Settings, \n",
            "  Tech. Rep. no. 92-02, (1992), Dept. of Computer Science and Dept. of  \n",
            "  Mathematics and Statistics, James Cook University of North Queensland. \n",
            "  (Also submitted to Technometrics). \n",
            "\n",
            "  The data was used with many others for comparing various \n",
            "  classifiers. The classes are separable, though only RDA \n",
            "  has achieved 100% correct classification. \n",
            "  (RDA : 100%, QDA 99.4%, LDA 98.9%, 1NN 96.1% (z-transformed data)) \n",
            "  (All results using the leave-one-out technique) \n",
            "\n",
            "  (2) S. Aeberhard, D. Coomans and O. de Vel, \n",
            "  \"THE CLASSIFICATION PERFORMANCE OF RDA\" \n",
            "  Tech. Rep. no. 92-01, (1992), Dept. of Computer Science and Dept. of \n",
            "  Mathematics and Statistics, James Cook University of North Queensland. \n",
            "  (Also submitted to Journal of Chemometrics).\n",
            "\n"
          ],
          "name": "stdout"
        }
      ]
    },
    {
      "cell_type": "markdown",
      "metadata": {
        "id": "3gq8ONRWFxAH"
      },
      "source": [
        "### PCA\r\n"
      ]
    },
    {
      "cell_type": "markdown",
      "metadata": {
        "id": "9eV1zJdnGVOM"
      },
      "source": [
        "> 오캄의 면도날\r\n",
        "  - 동일한 성능이면 모델은 간단할수록 좋음\r\n",
        "\r\n",
        "### 차원을 줄이는 법 \r\n",
        "1. 차원 축소 PCA\r\n",
        "2. Feature Selection"
      ]
    },
    {
      "cell_type": "code",
      "metadata": {
        "colab": {
          "base_uri": "https://localhost:8080/",
          "height": 621
        },
        "id": "dK18RTA6F-cZ",
        "outputId": "198f548f-5cb5-424e-b28c-7c197469d69c"
      },
      "source": [
        "import mglearn\r\n",
        "mglearn.plot_pca.plot_pca_illustration()  "
      ],
      "execution_count": null,
      "outputs": [
        {
          "output_type": "display_data",
          "data": {
            "image/png": "[encoded data removed]",
            "text/plain": [
              "<Figure size 720x720 with 4 Axes>"
            ]
          },
          "metadata": {
            "tags": [],
            "needs_background": "light"
          }
        }
      ]
    },
    {
      "cell_type": "code",
      "metadata": {
        "id": "Cgc_P79SGB2B"
      },
      "source": [
        "from sklearn.decomposition import PCA"
      ],
      "execution_count": null,
      "outputs": []
    },
    {
      "cell_type": "code",
      "metadata": {
        "id": "TkAWH4NkGIDR"
      },
      "source": [
        "pca=PCA(3)"
      ],
      "execution_count": null,
      "outputs": []
    },
    {
      "cell_type": "code",
      "metadata": {
        "colab": {
          "base_uri": "https://localhost:8080/"
        },
        "id": "b9bhKpMNGJQg",
        "outputId": "61e576c7-e827-4671-d8f8-1c2fa9a2202f"
      },
      "source": [
        "pca.fit_transform(iris_pd.iloc[:,:-1])  # 특성을 유지하면서 3개의 주성분으로 줄임 "
      ],
      "execution_count": null,
      "outputs": [
        {
          "output_type": "execute_result",
          "data": {
            "text/plain": [
              "array([[-2.68412563,  0.31939725, -0.02791483],\n",
              "       [-2.71414169, -0.17700123, -0.21046427],\n",
              "       [-2.88899057, -0.14494943,  0.01790026],\n",
              "       [-2.74534286, -0.31829898,  0.03155937],\n",
              "       [-2.72871654,  0.32675451,  0.09007924],\n",
              "       [-2.28085963,  0.74133045,  0.16867766],\n",
              "       [-2.82053775, -0.08946138,  0.25789216],\n",
              "       [-2.62614497,  0.16338496, -0.02187932],\n",
              "       [-2.88638273, -0.57831175,  0.02075957],\n",
              "       [-2.6727558 , -0.11377425, -0.19763272],\n",
              "       [-2.50694709,  0.6450689 , -0.07531801],\n",
              "       [-2.61275523,  0.01472994,  0.10215026],\n",
              "       [-2.78610927, -0.235112  , -0.20684443],\n",
              "       [-3.22380374, -0.51139459,  0.06129967],\n",
              "       [-2.64475039,  1.17876464, -0.15162752],\n",
              "       [-2.38603903,  1.33806233,  0.2777769 ],\n",
              "       [-2.62352788,  0.81067951,  0.13818323],\n",
              "       [-2.64829671,  0.31184914,  0.02666832],\n",
              "       [-2.19982032,  0.87283904, -0.12030552],\n",
              "       [-2.5879864 ,  0.51356031,  0.21366517],\n",
              "       [-2.31025622,  0.39134594, -0.23944404],\n",
              "       [-2.54370523,  0.43299606,  0.20845723],\n",
              "       [-3.21593942,  0.13346807,  0.29239675],\n",
              "       [-2.30273318,  0.09870885,  0.03912326],\n",
              "       [-2.35575405, -0.03728186,  0.12502108],\n",
              "       [-2.50666891, -0.14601688, -0.25342004],\n",
              "       [-2.46882007,  0.13095149,  0.09491058],\n",
              "       [-2.56231991,  0.36771886, -0.07849421],\n",
              "       [-2.63953472,  0.31203998, -0.1459089 ],\n",
              "       [-2.63198939, -0.19696122,  0.04077108],\n",
              "       [-2.58739848, -0.20431849, -0.07722299],\n",
              "       [-2.4099325 ,  0.41092426, -0.14552497],\n",
              "       [-2.64886233,  0.81336382,  0.22566915],\n",
              "       [-2.59873675,  1.09314576,  0.15781081],\n",
              "       [-2.63692688, -0.12132235, -0.14304958],\n",
              "       [-2.86624165,  0.06936447, -0.16433231],\n",
              "       [-2.62523805,  0.59937002, -0.26835038],\n",
              "       [-2.80068412,  0.26864374,  0.09369908],\n",
              "       [-2.98050204, -0.48795834,  0.07292705],\n",
              "       [-2.59000631,  0.22904384, -0.0800823 ],\n",
              "       [-2.77010243,  0.26352753,  0.07724769],\n",
              "       [-2.84936871, -0.94096057, -0.34923038],\n",
              "       [-2.99740655, -0.34192606,  0.19250921],\n",
              "       [-2.40561449,  0.18887143,  0.26386795],\n",
              "       [-2.20948924,  0.43666314,  0.29874275],\n",
              "       [-2.71445143, -0.2502082 , -0.09767814],\n",
              "       [-2.53814826,  0.50377114,  0.16670564],\n",
              "       [-2.83946217, -0.22794557,  0.08372685],\n",
              "       [-2.54308575,  0.57941002, -0.01711502],\n",
              "       [-2.70335978,  0.10770608, -0.08929401],\n",
              "       [ 1.28482569,  0.68516047, -0.40656803],\n",
              "       [ 0.93248853,  0.31833364, -0.01801419],\n",
              "       [ 1.46430232,  0.50426282, -0.33832576],\n",
              "       [ 0.18331772, -0.82795901, -0.17959139],\n",
              "       [ 1.08810326,  0.07459068, -0.3077579 ],\n",
              "       [ 0.64166908, -0.41824687,  0.04107609],\n",
              "       [ 1.09506066,  0.28346827,  0.16981024],\n",
              "       [-0.74912267, -1.00489096,  0.01230292],\n",
              "       [ 1.04413183,  0.2283619 , -0.41533608],\n",
              "       [-0.0087454 , -0.72308191,  0.28114143],\n",
              "       [-0.50784088, -1.26597119, -0.26981718],\n",
              "       [ 0.51169856, -0.10398124,  0.13054775],\n",
              "       [ 0.26497651, -0.55003646, -0.69414683],\n",
              "       [ 0.98493451, -0.12481785, -0.06211441],\n",
              "       [-0.17392537, -0.25485421,  0.09045769],\n",
              "       [ 0.92786078,  0.46717949, -0.31462098],\n",
              "       [ 0.66028376, -0.35296967,  0.32802753],\n",
              "       [ 0.23610499, -0.33361077, -0.27116184],\n",
              "       [ 0.94473373, -0.54314555, -0.49951905],\n",
              "       [ 0.04522698, -0.58383438, -0.2350021 ],\n",
              "       [ 1.11628318, -0.08461685,  0.45962099],\n",
              "       [ 0.35788842, -0.06892503, -0.22985389],\n",
              "       [ 1.29818388, -0.32778731, -0.34785435],\n",
              "       [ 0.92172892, -0.18273779, -0.23107178],\n",
              "       [ 0.71485333,  0.14905594, -0.32180094],\n",
              "       [ 0.90017437,  0.32850447, -0.31620907],\n",
              "       [ 1.33202444,  0.24444088, -0.52170278],\n",
              "       [ 1.55780216,  0.26749545, -0.16492098],\n",
              "       [ 0.81329065, -0.1633503 ,  0.0354245 ],\n",
              "       [-0.30558378, -0.36826219, -0.31849158],\n",
              "       [-0.06812649, -0.70517213, -0.24421381],\n",
              "       [-0.18962247, -0.68028676, -0.30642056],\n",
              "       [ 0.13642871, -0.31403244, -0.17724277],\n",
              "       [ 1.38002644, -0.42095429,  0.01616713],\n",
              "       [ 0.58800644, -0.48428742,  0.4444335 ],\n",
              "       [ 0.80685831,  0.19418231,  0.38896306],\n",
              "       [ 1.22069088,  0.40761959, -0.23716701],\n",
              "       [ 0.81509524, -0.37203706, -0.61472084],\n",
              "       [ 0.24595768, -0.2685244 ,  0.18836681],\n",
              "       [ 0.16641322, -0.68192672, -0.06000923],\n",
              "       [ 0.46480029, -0.67071154, -0.02430686],\n",
              "       [ 0.8908152 , -0.03446444, -0.00994693],\n",
              "       [ 0.23054802, -0.40438585, -0.22941024],\n",
              "       [-0.70453176, -1.01224823, -0.10569115],\n",
              "       [ 0.35698149, -0.50491009,  0.01661717],\n",
              "       [ 0.33193448, -0.21265468,  0.08320429],\n",
              "       [ 0.37621565, -0.29321893,  0.07799635],\n",
              "       [ 0.64257601,  0.01773819, -0.20539497],\n",
              "       [-0.90646986, -0.75609337, -0.01259965],\n",
              "       [ 0.29900084, -0.34889781,  0.01058166],\n",
              "       [ 2.53119273, -0.00984911,  0.76016543],\n",
              "       [ 1.41523588, -0.57491635,  0.29632253],\n",
              "       [ 2.61667602,  0.34390315, -0.11078788],\n",
              "       [ 1.97153105, -0.1797279 ,  0.10842466],\n",
              "       [ 2.35000592, -0.04026095,  0.28538956],\n",
              "       [ 3.39703874,  0.55083667, -0.34843756],\n",
              "       [ 0.52123224, -1.19275873,  0.5456593 ],\n",
              "       [ 2.93258707,  0.3555    , -0.42023994],\n",
              "       [ 2.32122882, -0.2438315 , -0.34830439],\n",
              "       [ 2.91675097,  0.78279195,  0.42333542],\n",
              "       [ 1.66177415,  0.24222841,  0.24244019],\n",
              "       [ 1.80340195, -0.21563762, -0.03764817],\n",
              "       [ 2.1655918 ,  0.21627559,  0.03332664],\n",
              "       [ 1.34616358, -0.77681835,  0.28190288],\n",
              "       [ 1.58592822, -0.53964071,  0.62902933],\n",
              "       [ 1.90445637,  0.11925069,  0.47963982],\n",
              "       [ 1.94968906,  0.04194326,  0.04418617],\n",
              "       [ 3.48705536,  1.17573933,  0.13389487],\n",
              "       [ 3.79564542,  0.25732297, -0.51376776],\n",
              "       [ 1.30079171, -0.76114964, -0.34499504],\n",
              "       [ 2.42781791,  0.37819601,  0.21911932],\n",
              "       [ 1.19900111, -0.60609153,  0.51185551],\n",
              "       [ 3.49992004,  0.4606741 , -0.57318224],\n",
              "       [ 1.38876613, -0.20439933, -0.06452276],\n",
              "       [ 2.2754305 ,  0.33499061,  0.28615009],\n",
              "       [ 2.61409047,  0.56090136, -0.20553452],\n",
              "       [ 1.25850816, -0.17970479,  0.0458477 ],\n",
              "       [ 1.29113206, -0.11666865,  0.23125646],\n",
              "       [ 2.12360872, -0.20972948,  0.15418002],\n",
              "       [ 2.38800302,  0.4646398 , -0.44953019],\n",
              "       [ 2.84167278,  0.37526917, -0.49889808],\n",
              "       [ 3.23067366,  1.37416509, -0.11454821],\n",
              "       [ 2.15943764, -0.21727758,  0.20876317],\n",
              "       [ 1.44416124, -0.14341341, -0.15323389],\n",
              "       [ 1.78129481, -0.49990168, -0.17287519],\n",
              "       [ 3.07649993,  0.68808568, -0.33559229],\n",
              "       [ 2.14424331,  0.1400642 ,  0.73487894],\n",
              "       [ 1.90509815,  0.04930053,  0.16218024],\n",
              "       [ 1.16932634, -0.16499026,  0.28183584],\n",
              "       [ 2.10761114,  0.37228787,  0.02729113],\n",
              "       [ 2.31415471,  0.18365128,  0.32269375],\n",
              "       [ 1.9222678 ,  0.40920347,  0.1135866 ],\n",
              "       [ 1.41523588, -0.57491635,  0.29632253],\n",
              "       [ 2.56301338,  0.2778626 ,  0.29256952],\n",
              "       [ 2.41874618,  0.3047982 ,  0.50448266],\n",
              "       [ 1.94410979,  0.1875323 ,  0.17782509],\n",
              "       [ 1.52716661, -0.37531698, -0.12189817],\n",
              "       [ 1.76434572,  0.07885885,  0.13048163],\n",
              "       [ 1.90094161,  0.11662796,  0.72325156],\n",
              "       [ 1.39018886, -0.28266094,  0.36290965]])"
            ]
          },
          "metadata": {
            "tags": []
          },
          "execution_count": 33
        }
      ]
    },
    {
      "cell_type": "markdown",
      "metadata": {
        "id": "TrKFEZ7UHYEt"
      },
      "source": [
        "### feature selection\r\n",
        "1. filter\r\n",
        "- 통계값을 이용해서 관련성 높은 feature 선택 "
      ]
    },
    {
      "cell_type": "code",
      "metadata": {
        "id": "plUTBOZ8G8gb"
      },
      "source": [
        "from sklearn.feature_selection  import chi2, SelectKBest"
      ],
      "execution_count": null,
      "outputs": []
    },
    {
      "cell_type": "code",
      "metadata": {
        "id": "QnF4nwEFHV0F"
      },
      "source": [
        "sb= SelectKBest( chi2,k=3)"
      ],
      "execution_count": null,
      "outputs": []
    },
    {
      "cell_type": "code",
      "metadata": {
        "colab": {
          "base_uri": "https://localhost:8080/"
        },
        "id": "fccNe2FZHleJ",
        "outputId": "998b7ca7-f6f5-4f86-a5a7-0c49d257d778"
      },
      "source": [
        "sb.fit_transform(iris_pd.iloc[:,:-1], iris_pd.target)  "
      ],
      "execution_count": null,
      "outputs": [
        {
          "output_type": "execute_result",
          "data": {
            "text/plain": [
              "array([[5.1, 1.4, 0.2],\n",
              "       [4.9, 1.4, 0.2],\n",
              "       [4.7, 1.3, 0.2],\n",
              "       [4.6, 1.5, 0.2],\n",
              "       [5. , 1.4, 0.2],\n",
              "       [5.4, 1.7, 0.4],\n",
              "       [4.6, 1.4, 0.3],\n",
              "       [5. , 1.5, 0.2],\n",
              "       [4.4, 1.4, 0.2],\n",
              "       [4.9, 1.5, 0.1],\n",
              "       [5.4, 1.5, 0.2],\n",
              "       [4.8, 1.6, 0.2],\n",
              "       [4.8, 1.4, 0.1],\n",
              "       [4.3, 1.1, 0.1],\n",
              "       [5.8, 1.2, 0.2],\n",
              "       [5.7, 1.5, 0.4],\n",
              "       [5.4, 1.3, 0.4],\n",
              "       [5.1, 1.4, 0.3],\n",
              "       [5.7, 1.7, 0.3],\n",
              "       [5.1, 1.5, 0.3],\n",
              "       [5.4, 1.7, 0.2],\n",
              "       [5.1, 1.5, 0.4],\n",
              "       [4.6, 1. , 0.2],\n",
              "       [5.1, 1.7, 0.5],\n",
              "       [4.8, 1.9, 0.2],\n",
              "       [5. , 1.6, 0.2],\n",
              "       [5. , 1.6, 0.4],\n",
              "       [5.2, 1.5, 0.2],\n",
              "       [5.2, 1.4, 0.2],\n",
              "       [4.7, 1.6, 0.2],\n",
              "       [4.8, 1.6, 0.2],\n",
              "       [5.4, 1.5, 0.4],\n",
              "       [5.2, 1.5, 0.1],\n",
              "       [5.5, 1.4, 0.2],\n",
              "       [4.9, 1.5, 0.2],\n",
              "       [5. , 1.2, 0.2],\n",
              "       [5.5, 1.3, 0.2],\n",
              "       [4.9, 1.4, 0.1],\n",
              "       [4.4, 1.3, 0.2],\n",
              "       [5.1, 1.5, 0.2],\n",
              "       [5. , 1.3, 0.3],\n",
              "       [4.5, 1.3, 0.3],\n",
              "       [4.4, 1.3, 0.2],\n",
              "       [5. , 1.6, 0.6],\n",
              "       [5.1, 1.9, 0.4],\n",
              "       [4.8, 1.4, 0.3],\n",
              "       [5.1, 1.6, 0.2],\n",
              "       [4.6, 1.4, 0.2],\n",
              "       [5.3, 1.5, 0.2],\n",
              "       [5. , 1.4, 0.2],\n",
              "       [7. , 4.7, 1.4],\n",
              "       [6.4, 4.5, 1.5],\n",
              "       [6.9, 4.9, 1.5],\n",
              "       [5.5, 4. , 1.3],\n",
              "       [6.5, 4.6, 1.5],\n",
              "       [5.7, 4.5, 1.3],\n",
              "       [6.3, 4.7, 1.6],\n",
              "       [4.9, 3.3, 1. ],\n",
              "       [6.6, 4.6, 1.3],\n",
              "       [5.2, 3.9, 1.4],\n",
              "       [5. , 3.5, 1. ],\n",
              "       [5.9, 4.2, 1.5],\n",
              "       [6. , 4. , 1. ],\n",
              "       [6.1, 4.7, 1.4],\n",
              "       [5.6, 3.6, 1.3],\n",
              "       [6.7, 4.4, 1.4],\n",
              "       [5.6, 4.5, 1.5],\n",
              "       [5.8, 4.1, 1. ],\n",
              "       [6.2, 4.5, 1.5],\n",
              "       [5.6, 3.9, 1.1],\n",
              "       [5.9, 4.8, 1.8],\n",
              "       [6.1, 4. , 1.3],\n",
              "       [6.3, 4.9, 1.5],\n",
              "       [6.1, 4.7, 1.2],\n",
              "       [6.4, 4.3, 1.3],\n",
              "       [6.6, 4.4, 1.4],\n",
              "       [6.8, 4.8, 1.4],\n",
              "       [6.7, 5. , 1.7],\n",
              "       [6. , 4.5, 1.5],\n",
              "       [5.7, 3.5, 1. ],\n",
              "       [5.5, 3.8, 1.1],\n",
              "       [5.5, 3.7, 1. ],\n",
              "       [5.8, 3.9, 1.2],\n",
              "       [6. , 5.1, 1.6],\n",
              "       [5.4, 4.5, 1.5],\n",
              "       [6. , 4.5, 1.6],\n",
              "       [6.7, 4.7, 1.5],\n",
              "       [6.3, 4.4, 1.3],\n",
              "       [5.6, 4.1, 1.3],\n",
              "       [5.5, 4. , 1.3],\n",
              "       [5.5, 4.4, 1.2],\n",
              "       [6.1, 4.6, 1.4],\n",
              "       [5.8, 4. , 1.2],\n",
              "       [5. , 3.3, 1. ],\n",
              "       [5.6, 4.2, 1.3],\n",
              "       [5.7, 4.2, 1.2],\n",
              "       [5.7, 4.2, 1.3],\n",
              "       [6.2, 4.3, 1.3],\n",
              "       [5.1, 3. , 1.1],\n",
              "       [5.7, 4.1, 1.3],\n",
              "       [6.3, 6. , 2.5],\n",
              "       [5.8, 5.1, 1.9],\n",
              "       [7.1, 5.9, 2.1],\n",
              "       [6.3, 5.6, 1.8],\n",
              "       [6.5, 5.8, 2.2],\n",
              "       [7.6, 6.6, 2.1],\n",
              "       [4.9, 4.5, 1.7],\n",
              "       [7.3, 6.3, 1.8],\n",
              "       [6.7, 5.8, 1.8],\n",
              "       [7.2, 6.1, 2.5],\n",
              "       [6.5, 5.1, 2. ],\n",
              "       [6.4, 5.3, 1.9],\n",
              "       [6.8, 5.5, 2.1],\n",
              "       [5.7, 5. , 2. ],\n",
              "       [5.8, 5.1, 2.4],\n",
              "       [6.4, 5.3, 2.3],\n",
              "       [6.5, 5.5, 1.8],\n",
              "       [7.7, 6.7, 2.2],\n",
              "       [7.7, 6.9, 2.3],\n",
              "       [6. , 5. , 1.5],\n",
              "       [6.9, 5.7, 2.3],\n",
              "       [5.6, 4.9, 2. ],\n",
              "       [7.7, 6.7, 2. ],\n",
              "       [6.3, 4.9, 1.8],\n",
              "       [6.7, 5.7, 2.1],\n",
              "       [7.2, 6. , 1.8],\n",
              "       [6.2, 4.8, 1.8],\n",
              "       [6.1, 4.9, 1.8],\n",
              "       [6.4, 5.6, 2.1],\n",
              "       [7.2, 5.8, 1.6],\n",
              "       [7.4, 6.1, 1.9],\n",
              "       [7.9, 6.4, 2. ],\n",
              "       [6.4, 5.6, 2.2],\n",
              "       [6.3, 5.1, 1.5],\n",
              "       [6.1, 5.6, 1.4],\n",
              "       [7.7, 6.1, 2.3],\n",
              "       [6.3, 5.6, 2.4],\n",
              "       [6.4, 5.5, 1.8],\n",
              "       [6. , 4.8, 1.8],\n",
              "       [6.9, 5.4, 2.1],\n",
              "       [6.7, 5.6, 2.4],\n",
              "       [6.9, 5.1, 2.3],\n",
              "       [5.8, 5.1, 1.9],\n",
              "       [6.8, 5.9, 2.3],\n",
              "       [6.7, 5.7, 2.5],\n",
              "       [6.7, 5.2, 2.3],\n",
              "       [6.3, 5. , 1.9],\n",
              "       [6.5, 5.2, 2. ],\n",
              "       [6.2, 5.4, 2.3],\n",
              "       [5.9, 5.1, 1.8]])"
            ]
          },
          "metadata": {
            "tags": []
          },
          "execution_count": 43
        }
      ]
    },
    {
      "cell_type": "markdown",
      "metadata": {
        "id": "1UIN_ys2khWj"
      },
      "source": [
        "2. wrapper\r\n",
        "- 알고리즘과 데이터 셋을 wrapping 시켜서 성능 가장 좋은 k개 찾음\r\n"
      ]
    },
    {
      "cell_type": "code",
      "metadata": {
        "id": "6QCFFgoxHnQG"
      },
      "source": [
        "from sklearn.feature_selection  import  RFE"
      ],
      "execution_count": null,
      "outputs": []
    },
    {
      "cell_type": "code",
      "metadata": {
        "colab": {
          "base_uri": "https://localhost:8080/"
        },
        "id": "Z5KvArFOk03V",
        "outputId": "099fce47-baa6-4944-e43d-f6362122bed9"
      },
      "source": [
        "rfe=RFE(DecisionTreeClassifier(),n_features_to_select=8)\r\n",
        "rfe.fit_transform(wine_pd.iloc[:,:-1],wine_pd.target)"
      ],
      "execution_count": null,
      "outputs": [
        {
          "output_type": "execute_result",
          "data": {
            "text/plain": [
              "array([[1.423e+01, 3.060e+00, 2.800e-01, ..., 1.040e+00, 3.920e+00,\n",
              "        1.065e+03],\n",
              "       [1.320e+01, 2.760e+00, 2.600e-01, ..., 1.050e+00, 3.400e+00,\n",
              "        1.050e+03],\n",
              "       [1.316e+01, 3.240e+00, 3.000e-01, ..., 1.030e+00, 3.170e+00,\n",
              "        1.185e+03],\n",
              "       ...,\n",
              "       [1.327e+01, 6.900e-01, 4.300e-01, ..., 5.900e-01, 1.560e+00,\n",
              "        8.350e+02],\n",
              "       [1.317e+01, 6.800e-01, 5.300e-01, ..., 6.000e-01, 1.620e+00,\n",
              "        8.400e+02],\n",
              "       [1.413e+01, 7.600e-01, 5.600e-01, ..., 6.100e-01, 1.600e+00,\n",
              "        5.600e+02]])"
            ]
          },
          "metadata": {
            "tags": []
          },
          "execution_count": 211
        }
      ]
    },
    {
      "cell_type": "markdown",
      "metadata": {
        "id": "7mwRlYiKIB7U"
      },
      "source": [
        "3.  embedded \r\n",
        "  - importance(중요도)에 따라서 선택 \r\n",
        "  - 지원하는 알고리즘이 정해져 있음 (예. Decision Tree)\r\n"
      ]
    },
    {
      "cell_type": "code",
      "metadata": {
        "id": "JkyGBUxdH93_"
      },
      "source": [
        "from sklearn.ensemble import RandomForestClassifier"
      ],
      "execution_count": null,
      "outputs": []
    },
    {
      "cell_type": "code",
      "metadata": {
        "id": "xzMCgiPQIbqa"
      },
      "source": [
        "rfc =RandomForestClassifier()"
      ],
      "execution_count": null,
      "outputs": []
    },
    {
      "cell_type": "code",
      "metadata": {
        "colab": {
          "base_uri": "https://localhost:8080/"
        },
        "id": "vSKj4VqtIeC0",
        "outputId": "45941da2-b793-4714-906d-b55bd1ac426a"
      },
      "source": [
        "rfc.fit(iris_pd.iloc[:,:-1], iris_pd.target)"
      ],
      "execution_count": null,
      "outputs": [
        {
          "output_type": "execute_result",
          "data": {
            "text/plain": [
              "RandomForestClassifier(bootstrap=True, ccp_alpha=0.0, class_weight=None,\n",
              "                       criterion='gini', max_depth=None, max_features='auto',\n",
              "                       max_leaf_nodes=None, max_samples=None,\n",
              "                       min_impurity_decrease=0.0, min_impurity_split=None,\n",
              "                       min_samples_leaf=1, min_samples_split=2,\n",
              "                       min_weight_fraction_leaf=0.0, n_estimators=100,\n",
              "                       n_jobs=None, oob_score=False, random_state=None,\n",
              "                       verbose=0, warm_start=False)"
            ]
          },
          "metadata": {
            "tags": []
          },
          "execution_count": 47
        }
      ]
    },
    {
      "cell_type": "code",
      "metadata": {
        "colab": {
          "base_uri": "https://localhost:8080/"
        },
        "id": "PxRHPEkdIiit",
        "outputId": "de2ff406-d65f-4153-b2d0-44890442e360"
      },
      "source": [
        "rfc.feature_importances_ #0.47607548 가장 큼 "
      ],
      "execution_count": null,
      "outputs": [
        {
          "output_type": "execute_result",
          "data": {
            "text/plain": [
              "array([0.1048803 , 0.02072788, 0.39831634, 0.47607548])"
            ]
          },
          "metadata": {
            "tags": []
          },
          "execution_count": 48
        }
      ]
    },
    {
      "cell_type": "markdown",
      "metadata": {
        "id": "-RgL_zY2JA5j"
      },
      "source": [
        "### feature scailing\r\n",
        "-  특징이 잘 나타나도록  데이터를 속성을 유지한채 변형\r\n",
        " - MinMaxScaler : 경사하강 잘 되도록 사용\r\n",
        "\r\n",
        "- 이미지 processing 통해서 숨어있는 특징을 찾음\r\n",
        "- 이미지 고유 특징때문에 전처리하는 방식이 다름\r\n"
      ]
    },
    {
      "cell_type": "code",
      "metadata": {
        "colab": {
          "base_uri": "https://localhost:8080/",
          "height": 508
        },
        "id": "Hl7LQTsKIj4-",
        "outputId": "e7db0136-5475-4c3f-ae98-c5fb6c87e83c"
      },
      "source": [
        "mglearn.plot_scaling.plot_scaling()"
      ],
      "execution_count": null,
      "outputs": [
        {
          "output_type": "display_data",
          "data": {
            "image/png": "[encoded data removed]",
            "text/plain": [
              "<Figure size 1080x576 with 5 Axes>"
            ]
          },
          "metadata": {
            "tags": [],
            "needs_background": "light"
          }
        }
      ]
    },
    {
      "cell_type": "markdown",
      "metadata": {
        "id": "3b1fKG8jKK7M"
      },
      "source": [
        "[TensorFlow Playground](https://playground.tensorflow.org/)\r\n",
        "\r\n",
        "### Feature \r\n",
        "#### 딥러닝, 머신러닝의 차이 \r\n",
        "- ML : 원래의 데이터에서 **특성을 사람이 추출**\r\n",
        "- DL : **학습을 통해서 특성 추출**\r\n",
        "  - feature 통해서 - >효율적\r\n"
      ]
    },
    {
      "cell_type": "code",
      "metadata": {
        "colab": {
          "base_uri": "https://localhost:8080/",
          "height": 439
        },
        "id": "5SACyzlWAW1N",
        "outputId": "fd8f52f4-25ee-41ab-92e9-4b1b793a7edd"
      },
      "source": [
        "digit = load_digits()\r\n",
        "digit_pd = pd.DataFrame(digit.data )\r\n",
        "digit_pd['target'] = digit.target\r\n",
        "digit_pd"
      ],
      "execution_count": null,
      "outputs": [
        {
          "output_type": "execute_result",
          "data": {
            "text/html": [
              "<div>\n",
              "<style scoped>\n",
              "    .dataframe tbody tr th:only-of-type {\n",
              "        vertical-align: middle;\n",
              "    }\n",
              "\n",
              "    .dataframe tbody tr th {\n",
              "        vertical-align: top;\n",
              "    }\n",
              "\n",
              "    .dataframe thead th {\n",
              "        text-align: right;\n",
              "    }\n",
              "</style>\n",
              "<table border=\"1\" class=\"dataframe\">\n",
              "  <thead>\n",
              "    <tr style=\"text-align: right;\">\n",
              "      <th></th>\n",
              "      <th>0</th>\n",
              "      <th>1</th>\n",
              "      <th>2</th>\n",
              "      <th>3</th>\n",
              "      <th>4</th>\n",
              "      <th>5</th>\n",
              "      <th>6</th>\n",
              "      <th>7</th>\n",
              "      <th>8</th>\n",
              "      <th>9</th>\n",
              "      <th>10</th>\n",
              "      <th>11</th>\n",
              "      <th>12</th>\n",
              "      <th>13</th>\n",
              "      <th>14</th>\n",
              "      <th>15</th>\n",
              "      <th>16</th>\n",
              "      <th>17</th>\n",
              "      <th>18</th>\n",
              "      <th>19</th>\n",
              "      <th>20</th>\n",
              "      <th>21</th>\n",
              "      <th>22</th>\n",
              "      <th>23</th>\n",
              "      <th>24</th>\n",
              "      <th>25</th>\n",
              "      <th>26</th>\n",
              "      <th>27</th>\n",
              "      <th>28</th>\n",
              "      <th>29</th>\n",
              "      <th>30</th>\n",
              "      <th>31</th>\n",
              "      <th>32</th>\n",
              "      <th>33</th>\n",
              "      <th>34</th>\n",
              "      <th>35</th>\n",
              "      <th>36</th>\n",
              "      <th>37</th>\n",
              "      <th>38</th>\n",
              "      <th>39</th>\n",
              "      <th>40</th>\n",
              "      <th>41</th>\n",
              "      <th>42</th>\n",
              "      <th>43</th>\n",
              "      <th>44</th>\n",
              "      <th>45</th>\n",
              "      <th>46</th>\n",
              "      <th>47</th>\n",
              "      <th>48</th>\n",
              "      <th>49</th>\n",
              "      <th>50</th>\n",
              "      <th>51</th>\n",
              "      <th>52</th>\n",
              "      <th>53</th>\n",
              "      <th>54</th>\n",
              "      <th>55</th>\n",
              "      <th>56</th>\n",
              "      <th>57</th>\n",
              "      <th>58</th>\n",
              "      <th>59</th>\n",
              "      <th>60</th>\n",
              "      <th>61</th>\n",
              "      <th>62</th>\n",
              "      <th>63</th>\n",
              "      <th>target</th>\n",
              "    </tr>\n",
              "  </thead>\n",
              "  <tbody>\n",
              "    <tr>\n",
              "      <th>0</th>\n",
              "      <td>0.0</td>\n",
              "      <td>0.0</td>\n",
              "      <td>5.0</td>\n",
              "      <td>13.0</td>\n",
              "      <td>9.0</td>\n",
              "      <td>1.0</td>\n",
              "      <td>0.0</td>\n",
              "      <td>0.0</td>\n",
              "      <td>0.0</td>\n",
              "      <td>0.0</td>\n",
              "      <td>13.0</td>\n",
              "      <td>15.0</td>\n",
              "      <td>10.0</td>\n",
              "      <td>15.0</td>\n",
              "      <td>5.0</td>\n",
              "      <td>0.0</td>\n",
              "      <td>0.0</td>\n",
              "      <td>3.0</td>\n",
              "      <td>15.0</td>\n",
              "      <td>2.0</td>\n",
              "      <td>0.0</td>\n",
              "      <td>11.0</td>\n",
              "      <td>8.0</td>\n",
              "      <td>0.0</td>\n",
              "      <td>0.0</td>\n",
              "      <td>4.0</td>\n",
              "      <td>12.0</td>\n",
              "      <td>0.0</td>\n",
              "      <td>0.0</td>\n",
              "      <td>8.0</td>\n",
              "      <td>8.0</td>\n",
              "      <td>0.0</td>\n",
              "      <td>0.0</td>\n",
              "      <td>5.0</td>\n",
              "      <td>8.0</td>\n",
              "      <td>0.0</td>\n",
              "      <td>0.0</td>\n",
              "      <td>9.0</td>\n",
              "      <td>8.0</td>\n",
              "      <td>0.0</td>\n",
              "      <td>0.0</td>\n",
              "      <td>4.0</td>\n",
              "      <td>11.0</td>\n",
              "      <td>0.0</td>\n",
              "      <td>1.0</td>\n",
              "      <td>12.0</td>\n",
              "      <td>7.0</td>\n",
              "      <td>0.0</td>\n",
              "      <td>0.0</td>\n",
              "      <td>2.0</td>\n",
              "      <td>14.0</td>\n",
              "      <td>5.0</td>\n",
              "      <td>10.0</td>\n",
              "      <td>12.0</td>\n",
              "      <td>0.0</td>\n",
              "      <td>0.0</td>\n",
              "      <td>0.0</td>\n",
              "      <td>0.0</td>\n",
              "      <td>6.0</td>\n",
              "      <td>13.0</td>\n",
              "      <td>10.0</td>\n",
              "      <td>0.0</td>\n",
              "      <td>0.0</td>\n",
              "      <td>0.0</td>\n",
              "      <td>0</td>\n",
              "    </tr>\n",
              "    <tr>\n",
              "      <th>1</th>\n",
              "      <td>0.0</td>\n",
              "      <td>0.0</td>\n",
              "      <td>0.0</td>\n",
              "      <td>12.0</td>\n",
              "      <td>13.0</td>\n",
              "      <td>5.0</td>\n",
              "      <td>0.0</td>\n",
              "      <td>0.0</td>\n",
              "      <td>0.0</td>\n",
              "      <td>0.0</td>\n",
              "      <td>0.0</td>\n",
              "      <td>11.0</td>\n",
              "      <td>16.0</td>\n",
              "      <td>9.0</td>\n",
              "      <td>0.0</td>\n",
              "      <td>0.0</td>\n",
              "      <td>0.0</td>\n",
              "      <td>0.0</td>\n",
              "      <td>3.0</td>\n",
              "      <td>15.0</td>\n",
              "      <td>16.0</td>\n",
              "      <td>6.0</td>\n",
              "      <td>0.0</td>\n",
              "      <td>0.0</td>\n",
              "      <td>0.0</td>\n",
              "      <td>7.0</td>\n",
              "      <td>15.0</td>\n",
              "      <td>16.0</td>\n",
              "      <td>16.0</td>\n",
              "      <td>2.0</td>\n",
              "      <td>0.0</td>\n",
              "      <td>0.0</td>\n",
              "      <td>0.0</td>\n",
              "      <td>0.0</td>\n",
              "      <td>1.0</td>\n",
              "      <td>16.0</td>\n",
              "      <td>16.0</td>\n",
              "      <td>3.0</td>\n",
              "      <td>0.0</td>\n",
              "      <td>0.0</td>\n",
              "      <td>0.0</td>\n",
              "      <td>0.0</td>\n",
              "      <td>1.0</td>\n",
              "      <td>16.0</td>\n",
              "      <td>16.0</td>\n",
              "      <td>6.0</td>\n",
              "      <td>0.0</td>\n",
              "      <td>0.0</td>\n",
              "      <td>0.0</td>\n",
              "      <td>0.0</td>\n",
              "      <td>1.0</td>\n",
              "      <td>16.0</td>\n",
              "      <td>16.0</td>\n",
              "      <td>6.0</td>\n",
              "      <td>0.0</td>\n",
              "      <td>0.0</td>\n",
              "      <td>0.0</td>\n",
              "      <td>0.0</td>\n",
              "      <td>0.0</td>\n",
              "      <td>11.0</td>\n",
              "      <td>16.0</td>\n",
              "      <td>10.0</td>\n",
              "      <td>0.0</td>\n",
              "      <td>0.0</td>\n",
              "      <td>1</td>\n",
              "    </tr>\n",
              "    <tr>\n",
              "      <th>2</th>\n",
              "      <td>0.0</td>\n",
              "      <td>0.0</td>\n",
              "      <td>0.0</td>\n",
              "      <td>4.0</td>\n",
              "      <td>15.0</td>\n",
              "      <td>12.0</td>\n",
              "      <td>0.0</td>\n",
              "      <td>0.0</td>\n",
              "      <td>0.0</td>\n",
              "      <td>0.0</td>\n",
              "      <td>3.0</td>\n",
              "      <td>16.0</td>\n",
              "      <td>15.0</td>\n",
              "      <td>14.0</td>\n",
              "      <td>0.0</td>\n",
              "      <td>0.0</td>\n",
              "      <td>0.0</td>\n",
              "      <td>0.0</td>\n",
              "      <td>8.0</td>\n",
              "      <td>13.0</td>\n",
              "      <td>8.0</td>\n",
              "      <td>16.0</td>\n",
              "      <td>0.0</td>\n",
              "      <td>0.0</td>\n",
              "      <td>0.0</td>\n",
              "      <td>0.0</td>\n",
              "      <td>1.0</td>\n",
              "      <td>6.0</td>\n",
              "      <td>15.0</td>\n",
              "      <td>11.0</td>\n",
              "      <td>0.0</td>\n",
              "      <td>0.0</td>\n",
              "      <td>0.0</td>\n",
              "      <td>1.0</td>\n",
              "      <td>8.0</td>\n",
              "      <td>13.0</td>\n",
              "      <td>15.0</td>\n",
              "      <td>1.0</td>\n",
              "      <td>0.0</td>\n",
              "      <td>0.0</td>\n",
              "      <td>0.0</td>\n",
              "      <td>9.0</td>\n",
              "      <td>16.0</td>\n",
              "      <td>16.0</td>\n",
              "      <td>5.0</td>\n",
              "      <td>0.0</td>\n",
              "      <td>0.0</td>\n",
              "      <td>0.0</td>\n",
              "      <td>0.0</td>\n",
              "      <td>3.0</td>\n",
              "      <td>13.0</td>\n",
              "      <td>16.0</td>\n",
              "      <td>16.0</td>\n",
              "      <td>11.0</td>\n",
              "      <td>5.0</td>\n",
              "      <td>0.0</td>\n",
              "      <td>0.0</td>\n",
              "      <td>0.0</td>\n",
              "      <td>0.0</td>\n",
              "      <td>3.0</td>\n",
              "      <td>11.0</td>\n",
              "      <td>16.0</td>\n",
              "      <td>9.0</td>\n",
              "      <td>0.0</td>\n",
              "      <td>2</td>\n",
              "    </tr>\n",
              "    <tr>\n",
              "      <th>3</th>\n",
              "      <td>0.0</td>\n",
              "      <td>0.0</td>\n",
              "      <td>7.0</td>\n",
              "      <td>15.0</td>\n",
              "      <td>13.0</td>\n",
              "      <td>1.0</td>\n",
              "      <td>0.0</td>\n",
              "      <td>0.0</td>\n",
              "      <td>0.0</td>\n",
              "      <td>8.0</td>\n",
              "      <td>13.0</td>\n",
              "      <td>6.0</td>\n",
              "      <td>15.0</td>\n",
              "      <td>4.0</td>\n",
              "      <td>0.0</td>\n",
              "      <td>0.0</td>\n",
              "      <td>0.0</td>\n",
              "      <td>2.0</td>\n",
              "      <td>1.0</td>\n",
              "      <td>13.0</td>\n",
              "      <td>13.0</td>\n",
              "      <td>0.0</td>\n",
              "      <td>0.0</td>\n",
              "      <td>0.0</td>\n",
              "      <td>0.0</td>\n",
              "      <td>0.0</td>\n",
              "      <td>2.0</td>\n",
              "      <td>15.0</td>\n",
              "      <td>11.0</td>\n",
              "      <td>1.0</td>\n",
              "      <td>0.0</td>\n",
              "      <td>0.0</td>\n",
              "      <td>0.0</td>\n",
              "      <td>0.0</td>\n",
              "      <td>0.0</td>\n",
              "      <td>1.0</td>\n",
              "      <td>12.0</td>\n",
              "      <td>12.0</td>\n",
              "      <td>1.0</td>\n",
              "      <td>0.0</td>\n",
              "      <td>0.0</td>\n",
              "      <td>0.0</td>\n",
              "      <td>0.0</td>\n",
              "      <td>0.0</td>\n",
              "      <td>1.0</td>\n",
              "      <td>10.0</td>\n",
              "      <td>8.0</td>\n",
              "      <td>0.0</td>\n",
              "      <td>0.0</td>\n",
              "      <td>0.0</td>\n",
              "      <td>8.0</td>\n",
              "      <td>4.0</td>\n",
              "      <td>5.0</td>\n",
              "      <td>14.0</td>\n",
              "      <td>9.0</td>\n",
              "      <td>0.0</td>\n",
              "      <td>0.0</td>\n",
              "      <td>0.0</td>\n",
              "      <td>7.0</td>\n",
              "      <td>13.0</td>\n",
              "      <td>13.0</td>\n",
              "      <td>9.0</td>\n",
              "      <td>0.0</td>\n",
              "      <td>0.0</td>\n",
              "      <td>3</td>\n",
              "    </tr>\n",
              "    <tr>\n",
              "      <th>4</th>\n",
              "      <td>0.0</td>\n",
              "      <td>0.0</td>\n",
              "      <td>0.0</td>\n",
              "      <td>1.0</td>\n",
              "      <td>11.0</td>\n",
              "      <td>0.0</td>\n",
              "      <td>0.0</td>\n",
              "      <td>0.0</td>\n",
              "      <td>0.0</td>\n",
              "      <td>0.0</td>\n",
              "      <td>0.0</td>\n",
              "      <td>7.0</td>\n",
              "      <td>8.0</td>\n",
              "      <td>0.0</td>\n",
              "      <td>0.0</td>\n",
              "      <td>0.0</td>\n",
              "      <td>0.0</td>\n",
              "      <td>0.0</td>\n",
              "      <td>1.0</td>\n",
              "      <td>13.0</td>\n",
              "      <td>6.0</td>\n",
              "      <td>2.0</td>\n",
              "      <td>2.0</td>\n",
              "      <td>0.0</td>\n",
              "      <td>0.0</td>\n",
              "      <td>0.0</td>\n",
              "      <td>7.0</td>\n",
              "      <td>15.0</td>\n",
              "      <td>0.0</td>\n",
              "      <td>9.0</td>\n",
              "      <td>8.0</td>\n",
              "      <td>0.0</td>\n",
              "      <td>0.0</td>\n",
              "      <td>5.0</td>\n",
              "      <td>16.0</td>\n",
              "      <td>10.0</td>\n",
              "      <td>0.0</td>\n",
              "      <td>16.0</td>\n",
              "      <td>6.0</td>\n",
              "      <td>0.0</td>\n",
              "      <td>0.0</td>\n",
              "      <td>4.0</td>\n",
              "      <td>15.0</td>\n",
              "      <td>16.0</td>\n",
              "      <td>13.0</td>\n",
              "      <td>16.0</td>\n",
              "      <td>1.0</td>\n",
              "      <td>0.0</td>\n",
              "      <td>0.0</td>\n",
              "      <td>0.0</td>\n",
              "      <td>0.0</td>\n",
              "      <td>3.0</td>\n",
              "      <td>15.0</td>\n",
              "      <td>10.0</td>\n",
              "      <td>0.0</td>\n",
              "      <td>0.0</td>\n",
              "      <td>0.0</td>\n",
              "      <td>0.0</td>\n",
              "      <td>0.0</td>\n",
              "      <td>2.0</td>\n",
              "      <td>16.0</td>\n",
              "      <td>4.0</td>\n",
              "      <td>0.0</td>\n",
              "      <td>0.0</td>\n",
              "      <td>4</td>\n",
              "    </tr>\n",
              "    <tr>\n",
              "      <th>...</th>\n",
              "      <td>...</td>\n",
              "      <td>...</td>\n",
              "      <td>...</td>\n",
              "      <td>...</td>\n",
              "      <td>...</td>\n",
              "      <td>...</td>\n",
              "      <td>...</td>\n",
              "      <td>...</td>\n",
              "      <td>...</td>\n",
              "      <td>...</td>\n",
              "      <td>...</td>\n",
              "      <td>...</td>\n",
              "      <td>...</td>\n",
              "      <td>...</td>\n",
              "      <td>...</td>\n",
              "      <td>...</td>\n",
              "      <td>...</td>\n",
              "      <td>...</td>\n",
              "      <td>...</td>\n",
              "      <td>...</td>\n",
              "      <td>...</td>\n",
              "      <td>...</td>\n",
              "      <td>...</td>\n",
              "      <td>...</td>\n",
              "      <td>...</td>\n",
              "      <td>...</td>\n",
              "      <td>...</td>\n",
              "      <td>...</td>\n",
              "      <td>...</td>\n",
              "      <td>...</td>\n",
              "      <td>...</td>\n",
              "      <td>...</td>\n",
              "      <td>...</td>\n",
              "      <td>...</td>\n",
              "      <td>...</td>\n",
              "      <td>...</td>\n",
              "      <td>...</td>\n",
              "      <td>...</td>\n",
              "      <td>...</td>\n",
              "      <td>...</td>\n",
              "      <td>...</td>\n",
              "      <td>...</td>\n",
              "      <td>...</td>\n",
              "      <td>...</td>\n",
              "      <td>...</td>\n",
              "      <td>...</td>\n",
              "      <td>...</td>\n",
              "      <td>...</td>\n",
              "      <td>...</td>\n",
              "      <td>...</td>\n",
              "      <td>...</td>\n",
              "      <td>...</td>\n",
              "      <td>...</td>\n",
              "      <td>...</td>\n",
              "      <td>...</td>\n",
              "      <td>...</td>\n",
              "      <td>...</td>\n",
              "      <td>...</td>\n",
              "      <td>...</td>\n",
              "      <td>...</td>\n",
              "      <td>...</td>\n",
              "      <td>...</td>\n",
              "      <td>...</td>\n",
              "      <td>...</td>\n",
              "      <td>...</td>\n",
              "    </tr>\n",
              "    <tr>\n",
              "      <th>1792</th>\n",
              "      <td>0.0</td>\n",
              "      <td>0.0</td>\n",
              "      <td>4.0</td>\n",
              "      <td>10.0</td>\n",
              "      <td>13.0</td>\n",
              "      <td>6.0</td>\n",
              "      <td>0.0</td>\n",
              "      <td>0.0</td>\n",
              "      <td>0.0</td>\n",
              "      <td>1.0</td>\n",
              "      <td>16.0</td>\n",
              "      <td>14.0</td>\n",
              "      <td>12.0</td>\n",
              "      <td>16.0</td>\n",
              "      <td>3.0</td>\n",
              "      <td>0.0</td>\n",
              "      <td>0.0</td>\n",
              "      <td>4.0</td>\n",
              "      <td>16.0</td>\n",
              "      <td>6.0</td>\n",
              "      <td>3.0</td>\n",
              "      <td>16.0</td>\n",
              "      <td>4.0</td>\n",
              "      <td>0.0</td>\n",
              "      <td>0.0</td>\n",
              "      <td>0.0</td>\n",
              "      <td>12.0</td>\n",
              "      <td>16.0</td>\n",
              "      <td>16.0</td>\n",
              "      <td>16.0</td>\n",
              "      <td>5.0</td>\n",
              "      <td>0.0</td>\n",
              "      <td>0.0</td>\n",
              "      <td>0.0</td>\n",
              "      <td>0.0</td>\n",
              "      <td>4.0</td>\n",
              "      <td>4.0</td>\n",
              "      <td>16.0</td>\n",
              "      <td>8.0</td>\n",
              "      <td>0.0</td>\n",
              "      <td>0.0</td>\n",
              "      <td>0.0</td>\n",
              "      <td>0.0</td>\n",
              "      <td>0.0</td>\n",
              "      <td>0.0</td>\n",
              "      <td>15.0</td>\n",
              "      <td>5.0</td>\n",
              "      <td>0.0</td>\n",
              "      <td>0.0</td>\n",
              "      <td>0.0</td>\n",
              "      <td>5.0</td>\n",
              "      <td>7.0</td>\n",
              "      <td>7.0</td>\n",
              "      <td>16.0</td>\n",
              "      <td>4.0</td>\n",
              "      <td>0.0</td>\n",
              "      <td>0.0</td>\n",
              "      <td>0.0</td>\n",
              "      <td>2.0</td>\n",
              "      <td>14.0</td>\n",
              "      <td>15.0</td>\n",
              "      <td>9.0</td>\n",
              "      <td>0.0</td>\n",
              "      <td>0.0</td>\n",
              "      <td>9</td>\n",
              "    </tr>\n",
              "    <tr>\n",
              "      <th>1793</th>\n",
              "      <td>0.0</td>\n",
              "      <td>0.0</td>\n",
              "      <td>6.0</td>\n",
              "      <td>16.0</td>\n",
              "      <td>13.0</td>\n",
              "      <td>11.0</td>\n",
              "      <td>1.0</td>\n",
              "      <td>0.0</td>\n",
              "      <td>0.0</td>\n",
              "      <td>0.0</td>\n",
              "      <td>16.0</td>\n",
              "      <td>15.0</td>\n",
              "      <td>12.0</td>\n",
              "      <td>16.0</td>\n",
              "      <td>1.0</td>\n",
              "      <td>0.0</td>\n",
              "      <td>0.0</td>\n",
              "      <td>3.0</td>\n",
              "      <td>16.0</td>\n",
              "      <td>7.0</td>\n",
              "      <td>0.0</td>\n",
              "      <td>13.0</td>\n",
              "      <td>6.0</td>\n",
              "      <td>0.0</td>\n",
              "      <td>0.0</td>\n",
              "      <td>4.0</td>\n",
              "      <td>16.0</td>\n",
              "      <td>0.0</td>\n",
              "      <td>0.0</td>\n",
              "      <td>10.0</td>\n",
              "      <td>8.0</td>\n",
              "      <td>0.0</td>\n",
              "      <td>0.0</td>\n",
              "      <td>8.0</td>\n",
              "      <td>16.0</td>\n",
              "      <td>0.0</td>\n",
              "      <td>0.0</td>\n",
              "      <td>14.0</td>\n",
              "      <td>6.0</td>\n",
              "      <td>0.0</td>\n",
              "      <td>0.0</td>\n",
              "      <td>5.0</td>\n",
              "      <td>16.0</td>\n",
              "      <td>7.0</td>\n",
              "      <td>9.0</td>\n",
              "      <td>16.0</td>\n",
              "      <td>5.0</td>\n",
              "      <td>0.0</td>\n",
              "      <td>0.0</td>\n",
              "      <td>1.0</td>\n",
              "      <td>15.0</td>\n",
              "      <td>16.0</td>\n",
              "      <td>16.0</td>\n",
              "      <td>16.0</td>\n",
              "      <td>1.0</td>\n",
              "      <td>0.0</td>\n",
              "      <td>0.0</td>\n",
              "      <td>0.0</td>\n",
              "      <td>6.0</td>\n",
              "      <td>16.0</td>\n",
              "      <td>14.0</td>\n",
              "      <td>6.0</td>\n",
              "      <td>0.0</td>\n",
              "      <td>0.0</td>\n",
              "      <td>0</td>\n",
              "    </tr>\n",
              "    <tr>\n",
              "      <th>1794</th>\n",
              "      <td>0.0</td>\n",
              "      <td>0.0</td>\n",
              "      <td>1.0</td>\n",
              "      <td>11.0</td>\n",
              "      <td>15.0</td>\n",
              "      <td>1.0</td>\n",
              "      <td>0.0</td>\n",
              "      <td>0.0</td>\n",
              "      <td>0.0</td>\n",
              "      <td>0.0</td>\n",
              "      <td>13.0</td>\n",
              "      <td>16.0</td>\n",
              "      <td>8.0</td>\n",
              "      <td>2.0</td>\n",
              "      <td>1.0</td>\n",
              "      <td>0.0</td>\n",
              "      <td>0.0</td>\n",
              "      <td>0.0</td>\n",
              "      <td>16.0</td>\n",
              "      <td>15.0</td>\n",
              "      <td>10.0</td>\n",
              "      <td>16.0</td>\n",
              "      <td>5.0</td>\n",
              "      <td>0.0</td>\n",
              "      <td>0.0</td>\n",
              "      <td>0.0</td>\n",
              "      <td>8.0</td>\n",
              "      <td>16.0</td>\n",
              "      <td>16.0</td>\n",
              "      <td>7.0</td>\n",
              "      <td>0.0</td>\n",
              "      <td>0.0</td>\n",
              "      <td>0.0</td>\n",
              "      <td>0.0</td>\n",
              "      <td>9.0</td>\n",
              "      <td>16.0</td>\n",
              "      <td>16.0</td>\n",
              "      <td>4.0</td>\n",
              "      <td>0.0</td>\n",
              "      <td>0.0</td>\n",
              "      <td>0.0</td>\n",
              "      <td>0.0</td>\n",
              "      <td>16.0</td>\n",
              "      <td>14.0</td>\n",
              "      <td>16.0</td>\n",
              "      <td>15.0</td>\n",
              "      <td>0.0</td>\n",
              "      <td>0.0</td>\n",
              "      <td>0.0</td>\n",
              "      <td>0.0</td>\n",
              "      <td>15.0</td>\n",
              "      <td>15.0</td>\n",
              "      <td>15.0</td>\n",
              "      <td>16.0</td>\n",
              "      <td>0.0</td>\n",
              "      <td>0.0</td>\n",
              "      <td>0.0</td>\n",
              "      <td>0.0</td>\n",
              "      <td>2.0</td>\n",
              "      <td>9.0</td>\n",
              "      <td>13.0</td>\n",
              "      <td>6.0</td>\n",
              "      <td>0.0</td>\n",
              "      <td>0.0</td>\n",
              "      <td>8</td>\n",
              "    </tr>\n",
              "    <tr>\n",
              "      <th>1795</th>\n",
              "      <td>0.0</td>\n",
              "      <td>0.0</td>\n",
              "      <td>2.0</td>\n",
              "      <td>10.0</td>\n",
              "      <td>7.0</td>\n",
              "      <td>0.0</td>\n",
              "      <td>0.0</td>\n",
              "      <td>0.0</td>\n",
              "      <td>0.0</td>\n",
              "      <td>0.0</td>\n",
              "      <td>14.0</td>\n",
              "      <td>16.0</td>\n",
              "      <td>16.0</td>\n",
              "      <td>15.0</td>\n",
              "      <td>1.0</td>\n",
              "      <td>0.0</td>\n",
              "      <td>0.0</td>\n",
              "      <td>4.0</td>\n",
              "      <td>16.0</td>\n",
              "      <td>7.0</td>\n",
              "      <td>3.0</td>\n",
              "      <td>16.0</td>\n",
              "      <td>7.0</td>\n",
              "      <td>0.0</td>\n",
              "      <td>0.0</td>\n",
              "      <td>5.0</td>\n",
              "      <td>16.0</td>\n",
              "      <td>10.0</td>\n",
              "      <td>7.0</td>\n",
              "      <td>16.0</td>\n",
              "      <td>4.0</td>\n",
              "      <td>0.0</td>\n",
              "      <td>0.0</td>\n",
              "      <td>0.0</td>\n",
              "      <td>5.0</td>\n",
              "      <td>14.0</td>\n",
              "      <td>14.0</td>\n",
              "      <td>16.0</td>\n",
              "      <td>4.0</td>\n",
              "      <td>0.0</td>\n",
              "      <td>0.0</td>\n",
              "      <td>0.0</td>\n",
              "      <td>0.0</td>\n",
              "      <td>0.0</td>\n",
              "      <td>0.0</td>\n",
              "      <td>16.0</td>\n",
              "      <td>2.0</td>\n",
              "      <td>0.0</td>\n",
              "      <td>0.0</td>\n",
              "      <td>0.0</td>\n",
              "      <td>4.0</td>\n",
              "      <td>7.0</td>\n",
              "      <td>7.0</td>\n",
              "      <td>16.0</td>\n",
              "      <td>2.0</td>\n",
              "      <td>0.0</td>\n",
              "      <td>0.0</td>\n",
              "      <td>0.0</td>\n",
              "      <td>5.0</td>\n",
              "      <td>12.0</td>\n",
              "      <td>16.0</td>\n",
              "      <td>12.0</td>\n",
              "      <td>0.0</td>\n",
              "      <td>0.0</td>\n",
              "      <td>9</td>\n",
              "    </tr>\n",
              "    <tr>\n",
              "      <th>1796</th>\n",
              "      <td>0.0</td>\n",
              "      <td>0.0</td>\n",
              "      <td>10.0</td>\n",
              "      <td>14.0</td>\n",
              "      <td>8.0</td>\n",
              "      <td>1.0</td>\n",
              "      <td>0.0</td>\n",
              "      <td>0.0</td>\n",
              "      <td>0.0</td>\n",
              "      <td>2.0</td>\n",
              "      <td>16.0</td>\n",
              "      <td>14.0</td>\n",
              "      <td>6.0</td>\n",
              "      <td>1.0</td>\n",
              "      <td>0.0</td>\n",
              "      <td>0.0</td>\n",
              "      <td>0.0</td>\n",
              "      <td>0.0</td>\n",
              "      <td>15.0</td>\n",
              "      <td>15.0</td>\n",
              "      <td>8.0</td>\n",
              "      <td>15.0</td>\n",
              "      <td>0.0</td>\n",
              "      <td>0.0</td>\n",
              "      <td>0.0</td>\n",
              "      <td>0.0</td>\n",
              "      <td>5.0</td>\n",
              "      <td>16.0</td>\n",
              "      <td>16.0</td>\n",
              "      <td>10.0</td>\n",
              "      <td>0.0</td>\n",
              "      <td>0.0</td>\n",
              "      <td>0.0</td>\n",
              "      <td>0.0</td>\n",
              "      <td>12.0</td>\n",
              "      <td>15.0</td>\n",
              "      <td>15.0</td>\n",
              "      <td>12.0</td>\n",
              "      <td>0.0</td>\n",
              "      <td>0.0</td>\n",
              "      <td>0.0</td>\n",
              "      <td>4.0</td>\n",
              "      <td>16.0</td>\n",
              "      <td>6.0</td>\n",
              "      <td>4.0</td>\n",
              "      <td>16.0</td>\n",
              "      <td>6.0</td>\n",
              "      <td>0.0</td>\n",
              "      <td>0.0</td>\n",
              "      <td>8.0</td>\n",
              "      <td>16.0</td>\n",
              "      <td>10.0</td>\n",
              "      <td>8.0</td>\n",
              "      <td>16.0</td>\n",
              "      <td>8.0</td>\n",
              "      <td>0.0</td>\n",
              "      <td>0.0</td>\n",
              "      <td>1.0</td>\n",
              "      <td>8.0</td>\n",
              "      <td>12.0</td>\n",
              "      <td>14.0</td>\n",
              "      <td>12.0</td>\n",
              "      <td>1.0</td>\n",
              "      <td>0.0</td>\n",
              "      <td>8</td>\n",
              "    </tr>\n",
              "  </tbody>\n",
              "</table>\n",
              "<p>1797 rows × 65 columns</p>\n",
              "</div>"
            ],
            "text/plain": [
              "        0    1     2     3     4     5  ...    59    60    61   62   63  target\n",
              "0     0.0  0.0   5.0  13.0   9.0   1.0  ...  13.0  10.0   0.0  0.0  0.0       0\n",
              "1     0.0  0.0   0.0  12.0  13.0   5.0  ...  11.0  16.0  10.0  0.0  0.0       1\n",
              "2     0.0  0.0   0.0   4.0  15.0  12.0  ...   3.0  11.0  16.0  9.0  0.0       2\n",
              "3     0.0  0.0   7.0  15.0  13.0   1.0  ...  13.0  13.0   9.0  0.0  0.0       3\n",
              "4     0.0  0.0   0.0   1.0  11.0   0.0  ...   2.0  16.0   4.0  0.0  0.0       4\n",
              "...   ...  ...   ...   ...   ...   ...  ...   ...   ...   ...  ...  ...     ...\n",
              "1792  0.0  0.0   4.0  10.0  13.0   6.0  ...  14.0  15.0   9.0  0.0  0.0       9\n",
              "1793  0.0  0.0   6.0  16.0  13.0  11.0  ...  16.0  14.0   6.0  0.0  0.0       0\n",
              "1794  0.0  0.0   1.0  11.0  15.0   1.0  ...   9.0  13.0   6.0  0.0  0.0       8\n",
              "1795  0.0  0.0   2.0  10.0   7.0   0.0  ...  12.0  16.0  12.0  0.0  0.0       9\n",
              "1796  0.0  0.0  10.0  14.0   8.0   1.0  ...  12.0  14.0  12.0  1.0  0.0       8\n",
              "\n",
              "[1797 rows x 65 columns]"
            ]
          },
          "metadata": {
            "tags": []
          },
          "execution_count": 93
        }
      ]
    },
    {
      "cell_type": "code",
      "metadata": {
        "colab": {
          "base_uri": "https://localhost:8080/"
        },
        "id": "dD46hTBXNAf4",
        "outputId": "0c84e0a6-2df3-4602-f542-1f965a13fb5a"
      },
      "source": [
        "digit_pd.loc[0][:-1].values.reshape(8,8)  #2차원으로 reshape"
      ],
      "execution_count": null,
      "outputs": [
        {
          "output_type": "execute_result",
          "data": {
            "text/plain": [
              "array([[ 0.,  0.,  5., 13.,  9.,  1.,  0.,  0.],\n",
              "       [ 0.,  0., 13., 15., 10., 15.,  5.,  0.],\n",
              "       [ 0.,  3., 15.,  2.,  0., 11.,  8.,  0.],\n",
              "       [ 0.,  4., 12.,  0.,  0.,  8.,  8.,  0.],\n",
              "       [ 0.,  5.,  8.,  0.,  0.,  9.,  8.,  0.],\n",
              "       [ 0.,  4., 11.,  0.,  1., 12.,  7.,  0.],\n",
              "       [ 0.,  2., 14.,  5., 10., 12.,  0.,  0.],\n",
              "       [ 0.,  0.,  6., 13., 10.,  0.,  0.,  0.]])"
            ]
          },
          "metadata": {
            "tags": []
          },
          "execution_count": 97
        }
      ]
    },
    {
      "cell_type": "code",
      "metadata": {
        "colab": {
          "base_uri": "https://localhost:8080/",
          "height": 283
        },
        "id": "NpxpriPENVPz",
        "outputId": "53251421-5f4d-45a1-c04d-735c3fa94fa8"
      },
      "source": [
        "import matplotlib.pyplot as plt\r\n",
        "\r\n",
        "plt.imshow(digit_pd.loc[0][:-1].values.reshape(8,8))"
      ],
      "execution_count": null,
      "outputs": [
        {
          "output_type": "execute_result",
          "data": {
            "text/plain": [
              "<matplotlib.image.AxesImage at 0x7fbbd332cc88>"
            ]
          },
          "metadata": {
            "tags": []
          },
          "execution_count": 96
        },
        {
          "output_type": "display_data",
          "data": {
            "image/png": "[encoded data removed]",
            "text/plain": [
              "<Figure size 432x288 with 1 Axes>"
            ]
          },
          "metadata": {
            "tags": [],
            "needs_background": "light"
          }
        }
      ]
    },
    {
      "cell_type": "code",
      "metadata": {
        "colab": {
          "base_uri": "https://localhost:8080/"
        },
        "id": "6zcO1nzIOMZO",
        "outputId": "a0d5fb22-614a-4503-ebf2-381e723997aa"
      },
      "source": [
        "digit_pd.loc[0]"
      ],
      "execution_count": null,
      "outputs": [
        {
          "output_type": "execute_result",
          "data": {
            "text/plain": [
              "0      0.0\n",
              "1      0.0\n",
              "2      5.0\n",
              "3     13.0\n",
              "4      9.0\n",
              "      ... \n",
              "59    13.0\n",
              "60    10.0\n",
              "61     0.0\n",
              "62     0.0\n",
              "63     0.0\n",
              "Name: 0, Length: 64, dtype: float64"
            ]
          },
          "metadata": {
            "tags": []
          },
          "execution_count": 70
        }
      ]
    },
    {
      "cell_type": "markdown",
      "metadata": {
        "id": "-sEJB0PjN4Je"
      },
      "source": [
        "### laerning curve\r\n",
        "- epochs \r\n",
        "- **데이터 크기**"
      ]
    },
    {
      "cell_type": "code",
      "metadata": {
        "id": "qk4gq1c8NLSe"
      },
      "source": [
        "from sklearn.model_selection import learning_curve"
      ],
      "execution_count": null,
      "outputs": []
    },
    {
      "cell_type": "markdown",
      "metadata": {
        "id": "WyWF3Q9pVR4B"
      },
      "source": [
        "### 머신러닝"
      ]
    },
    {
      "cell_type": "code",
      "metadata": {
        "id": "swNV4cr7N3nZ"
      },
      "source": [
        "from sklearn.tree import DecisionTreeClassifier #binary "
      ],
      "execution_count": null,
      "outputs": []
    },
    {
      "cell_type": "code",
      "metadata": {
        "id": "PhL7J6nAOrW4"
      },
      "source": [
        "from sklearn.model_selection import train_test_split #holdout"
      ],
      "execution_count": null,
      "outputs": []
    },
    {
      "cell_type": "code",
      "metadata": {
        "id": "J5yUvrzoOwgh"
      },
      "source": [
        "X_train, X_test, y_train, y_test = train_test_split(digit_pd.iloc[:,:-1],digit.target)"
      ],
      "execution_count": null,
      "outputs": []
    },
    {
      "cell_type": "code",
      "metadata": {
        "id": "EOOn7HcEOiDh"
      },
      "source": [
        "dt= DecisionTreeClassifier()"
      ],
      "execution_count": null,
      "outputs": []
    },
    {
      "cell_type": "code",
      "metadata": {
        "colab": {
          "base_uri": "https://localhost:8080/"
        },
        "id": "a2fKato4Ojxi",
        "outputId": "0560e8fc-1970-4b15-bf77-a4f10c7fe762"
      },
      "source": [
        "dt.fit(X_train, y_train ) #학습"
      ],
      "execution_count": null,
      "outputs": [
        {
          "output_type": "execute_result",
          "data": {
            "text/plain": [
              "DecisionTreeClassifier(ccp_alpha=0.0, class_weight=None, criterion='gini',\n",
              "                       max_depth=None, max_features=None, max_leaf_nodes=None,\n",
              "                       min_impurity_decrease=0.0, min_impurity_split=None,\n",
              "                       min_samples_leaf=1, min_samples_split=2,\n",
              "                       min_weight_fraction_leaf=0.0, presort='deprecated',\n",
              "                       random_state=None, splitter='best')"
            ]
          },
          "metadata": {
            "tags": []
          },
          "execution_count": 84
        }
      ]
    },
    {
      "cell_type": "code",
      "metadata": {
        "colab": {
          "base_uri": "https://localhost:8080/"
        },
        "id": "fSFhkVdMOpKI",
        "outputId": "39a83dee-9812-4d98-da79-bf4557ee7c67"
      },
      "source": [
        "dt.score(X_test, y_test)  #82%"
      ],
      "execution_count": null,
      "outputs": [
        {
          "output_type": "execute_result",
          "data": {
            "text/plain": [
              "0.82"
            ]
          },
          "metadata": {
            "tags": []
          },
          "execution_count": 85
        }
      ]
    },
    {
      "cell_type": "code",
      "metadata": {
        "id": "hdy6ZyEcO6Eo"
      },
      "source": [
        "from sklearn.ensemble import RandomForestClassifier"
      ],
      "execution_count": null,
      "outputs": []
    },
    {
      "cell_type": "code",
      "metadata": {
        "id": "zxLrz2qXPD5G"
      },
      "source": [
        "rfc = RandomForestClassifier()"
      ],
      "execution_count": null,
      "outputs": []
    },
    {
      "cell_type": "code",
      "metadata": {
        "colab": {
          "base_uri": "https://localhost:8080/"
        },
        "id": "s2ys8dcXPFla",
        "outputId": "c64dd46f-06ac-49f0-feaa-474fd4e89329"
      },
      "source": [
        "rfc.fit(X_train, y_train)"
      ],
      "execution_count": null,
      "outputs": [
        {
          "output_type": "execute_result",
          "data": {
            "text/plain": [
              "RandomForestClassifier(bootstrap=True, ccp_alpha=0.0, class_weight=None,\n",
              "                       criterion='gini', max_depth=None, max_features='auto',\n",
              "                       max_leaf_nodes=None, max_samples=None,\n",
              "                       min_impurity_decrease=0.0, min_impurity_split=None,\n",
              "                       min_samples_leaf=1, min_samples_split=2,\n",
              "                       min_weight_fraction_leaf=0.0, n_estimators=100,\n",
              "                       n_jobs=None, oob_score=False, random_state=None,\n",
              "                       verbose=0, warm_start=False)"
            ]
          },
          "metadata": {
            "tags": []
          },
          "execution_count": 88
        }
      ]
    },
    {
      "cell_type": "code",
      "metadata": {
        "colab": {
          "base_uri": "https://localhost:8080/"
        },
        "id": "N46X9MvoPHMN",
        "outputId": "1119e59c-08c8-43a3-90b3-85888490799e"
      },
      "source": [
        "rfc.score(X_test, y_test) #95% "
      ],
      "execution_count": null,
      "outputs": [
        {
          "output_type": "execute_result",
          "data": {
            "text/plain": [
              "0.9533333333333334"
            ]
          },
          "metadata": {
            "tags": []
          },
          "execution_count": 89
        }
      ]
    },
    {
      "cell_type": "code",
      "metadata": {
        "id": "9Ffb_4L2QS-I"
      },
      "source": [
        "from sklearn.feature_extraction import #자연어 "
      ],
      "execution_count": null,
      "outputs": []
    },
    {
      "cell_type": "markdown",
      "metadata": {
        "id": "2y9cG3H5PpEy"
      },
      "source": [
        "### OpenCV \r\n",
        "- **CV**를 위한 **전통적인 알고리즘, 머신러닝, 딥러닝** 방법 지원\r\n"
      ]
    },
    {
      "cell_type": "code",
      "metadata": {
        "id": "_xo8cfI7PJH6"
      },
      "source": [
        "import cv2"
      ],
      "execution_count": null,
      "outputs": []
    },
    {
      "cell_type": "code",
      "metadata": {
        "colab": {
          "base_uri": "https://localhost:8080/"
        },
        "id": "lr4Xz2koPrt7",
        "outputId": "34085acd-1abe-4589-cf2e-b50e51f16375"
      },
      "source": [
        "cv2.ml #머신러닝 패키지"
      ],
      "execution_count": null,
      "outputs": [
        {
          "output_type": "execute_result",
          "data": {
            "text/plain": [
              "<module 'cv2.ml'>"
            ]
          },
          "metadata": {
            "tags": []
          },
          "execution_count": 91
        }
      ]
    },
    {
      "cell_type": "code",
      "metadata": {
        "colab": {
          "base_uri": "https://localhost:8080/"
        },
        "id": "crFptOhWPyMV",
        "outputId": "84ffe98e-d5bb-49dc-8038-b68ae235604e"
      },
      "source": [
        "dir(cv2.ml) #ANN 인공신경망(MLP) , Boost. DT, EM, logistic, naive bayes, SVM etc"
      ],
      "execution_count": null,
      "outputs": [
        {
          "output_type": "execute_result",
          "data": {
            "text/plain": [
              "['ANN_MLP_ANNEAL',\n",
              " 'ANN_MLP_BACKPROP',\n",
              " 'ANN_MLP_GAUSSIAN',\n",
              " 'ANN_MLP_IDENTITY',\n",
              " 'ANN_MLP_LEAKYRELU',\n",
              " 'ANN_MLP_NO_INPUT_SCALE',\n",
              " 'ANN_MLP_NO_OUTPUT_SCALE',\n",
              " 'ANN_MLP_RELU',\n",
              " 'ANN_MLP_RPROP',\n",
              " 'ANN_MLP_SIGMOID_SYM',\n",
              " 'ANN_MLP_UPDATE_WEIGHTS',\n",
              " 'ANN_MLP_create',\n",
              " 'ANN_MLP_load',\n",
              " 'BOOST_DISCRETE',\n",
              " 'BOOST_GENTLE',\n",
              " 'BOOST_LOGIT',\n",
              " 'BOOST_REAL',\n",
              " 'Boost_DISCRETE',\n",
              " 'Boost_GENTLE',\n",
              " 'Boost_LOGIT',\n",
              " 'Boost_REAL',\n",
              " 'Boost_create',\n",
              " 'Boost_load',\n",
              " 'COL_SAMPLE',\n",
              " 'DTREES_PREDICT_AUTO',\n",
              " 'DTREES_PREDICT_MASK',\n",
              " 'DTREES_PREDICT_MAX_VOTE',\n",
              " 'DTREES_PREDICT_SUM',\n",
              " 'DTrees_PREDICT_AUTO',\n",
              " 'DTrees_PREDICT_MASK',\n",
              " 'DTrees_PREDICT_MAX_VOTE',\n",
              " 'DTrees_PREDICT_SUM',\n",
              " 'DTrees_create',\n",
              " 'DTrees_load',\n",
              " 'EM_COV_MAT_DEFAULT',\n",
              " 'EM_COV_MAT_DIAGONAL',\n",
              " 'EM_COV_MAT_GENERIC',\n",
              " 'EM_COV_MAT_SPHERICAL',\n",
              " 'EM_DEFAULT_MAX_ITERS',\n",
              " 'EM_DEFAULT_NCLUSTERS',\n",
              " 'EM_START_AUTO_STEP',\n",
              " 'EM_START_E_STEP',\n",
              " 'EM_START_M_STEP',\n",
              " 'EM_create',\n",
              " 'EM_load',\n",
              " 'KNEAREST_BRUTE_FORCE',\n",
              " 'KNEAREST_KDTREE',\n",
              " 'KNearest_BRUTE_FORCE',\n",
              " 'KNearest_KDTREE',\n",
              " 'KNearest_create',\n",
              " 'KNearest_load',\n",
              " 'LOGISTIC_REGRESSION_BATCH',\n",
              " 'LOGISTIC_REGRESSION_MINI_BATCH',\n",
              " 'LOGISTIC_REGRESSION_REG_DISABLE',\n",
              " 'LOGISTIC_REGRESSION_REG_L1',\n",
              " 'LOGISTIC_REGRESSION_REG_L2',\n",
              " 'LogisticRegression_BATCH',\n",
              " 'LogisticRegression_MINI_BATCH',\n",
              " 'LogisticRegression_REG_DISABLE',\n",
              " 'LogisticRegression_REG_L1',\n",
              " 'LogisticRegression_REG_L2',\n",
              " 'LogisticRegression_create',\n",
              " 'LogisticRegression_load',\n",
              " 'NormalBayesClassifier_create',\n",
              " 'NormalBayesClassifier_load',\n",
              " 'ParamGrid_create',\n",
              " 'ROW_SAMPLE',\n",
              " 'RTrees_create',\n",
              " 'RTrees_load',\n",
              " 'STAT_MODEL_COMPRESSED_INPUT',\n",
              " 'STAT_MODEL_PREPROCESSED_INPUT',\n",
              " 'STAT_MODEL_RAW_OUTPUT',\n",
              " 'STAT_MODEL_UPDATE_MODEL',\n",
              " 'SVMSGD_ASGD',\n",
              " 'SVMSGD_HARD_MARGIN',\n",
              " 'SVMSGD_SGD',\n",
              " 'SVMSGD_SOFT_MARGIN',\n",
              " 'SVMSGD_create',\n",
              " 'SVMSGD_load',\n",
              " 'SVM_C',\n",
              " 'SVM_CHI2',\n",
              " 'SVM_COEF',\n",
              " 'SVM_CUSTOM',\n",
              " 'SVM_C_SVC',\n",
              " 'SVM_DEGREE',\n",
              " 'SVM_EPS_SVR',\n",
              " 'SVM_GAMMA',\n",
              " 'SVM_INTER',\n",
              " 'SVM_LINEAR',\n",
              " 'SVM_NU',\n",
              " 'SVM_NU_SVC',\n",
              " 'SVM_NU_SVR',\n",
              " 'SVM_ONE_CLASS',\n",
              " 'SVM_P',\n",
              " 'SVM_POLY',\n",
              " 'SVM_RBF',\n",
              " 'SVM_SIGMOID',\n",
              " 'SVM_create',\n",
              " 'SVM_getDefaultGridPtr',\n",
              " 'SVM_load',\n",
              " 'StatModel_COMPRESSED_INPUT',\n",
              " 'StatModel_PREPROCESSED_INPUT',\n",
              " 'StatModel_RAW_OUTPUT',\n",
              " 'StatModel_UPDATE_MODEL',\n",
              " 'TEST_ERROR',\n",
              " 'TRAIN_ERROR',\n",
              " 'TrainData_create',\n",
              " 'TrainData_getSubMatrix',\n",
              " 'TrainData_getSubVector',\n",
              " 'VAR_CATEGORICAL',\n",
              " 'VAR_NUMERICAL',\n",
              " 'VAR_ORDERED',\n",
              " '__doc__',\n",
              " '__loader__',\n",
              " '__name__',\n",
              " '__package__',\n",
              " '__spec__']"
            ]
          },
          "metadata": {
            "tags": []
          },
          "execution_count": 92
        }
      ]
    },
    {
      "cell_type": "code",
      "metadata": {
        "id": "TD5cAnVxP0yo"
      },
      "source": [
        "cv2.dnn #Deep neural network"
      ],
      "execution_count": null,
      "outputs": []
    },
    {
      "cell_type": "markdown",
      "metadata": {
        "id": "3nNOpVy2WU9K"
      },
      "source": [
        "- Scikit-learn 에서는 instance 해서 동일하게 사용했었음\r\n",
        "\r\n",
        "### OpenCV의 KNN \r\n",
        "- 학습이 아닌 instance/case based learning \r\n",
        "- 가장 가까운 k개의 이웃 데이터 확인\r\n",
        " "
      ]
    },
    {
      "cell_type": "code",
      "metadata": {
        "colab": {
          "base_uri": "https://localhost:8080/"
        },
        "id": "6ChBz8kQVZfG",
        "outputId": "0d5e5f97-dc81-4f08-81e1-74487f84e302"
      },
      "source": [
        "#KNN\r\n",
        "import numpy as np\r\n",
        "train_data = np.random.randint( 0,100 , (25,2) )\r\n",
        "train_data"
      ],
      "execution_count": null,
      "outputs": [
        {
          "output_type": "execute_result",
          "data": {
            "text/plain": [
              "array([[20, 83],\n",
              "       [18, 26],\n",
              "       [42, 23],\n",
              "       [56, 71],\n",
              "       [98, 78],\n",
              "       [99, 79],\n",
              "       [ 8,  8],\n",
              "       [56, 14],\n",
              "       [48, 95],\n",
              "       [85, 44],\n",
              "       [ 9, 73],\n",
              "       [61, 34],\n",
              "       [98, 33],\n",
              "       [70, 78],\n",
              "       [33, 21],\n",
              "       [99, 70],\n",
              "       [73, 72],\n",
              "       [68,  0],\n",
              "       [95, 84],\n",
              "       [66, 77],\n",
              "       [ 6, 17],\n",
              "       [57, 84],\n",
              "       [27, 37],\n",
              "       [15,  2],\n",
              "       [54, 45]])"
            ]
          },
          "metadata": {
            "tags": []
          },
          "execution_count": 102
        }
      ]
    },
    {
      "cell_type": "code",
      "metadata": {
        "colab": {
          "base_uri": "https://localhost:8080/"
        },
        "id": "tVqHnN1RW5F-",
        "outputId": "2bda50bd-ea35-405c-a5be-fcbda6bd7855"
      },
      "source": [
        "# binary classification \r\n",
        "target_data= np.random.randint( 0,2,(25,1))\r\n",
        "target_data"
      ],
      "execution_count": null,
      "outputs": [
        {
          "output_type": "execute_result",
          "data": {
            "text/plain": [
              "array([[0],\n",
              "       [1],\n",
              "       [0],\n",
              "       [0],\n",
              "       [0],\n",
              "       [1],\n",
              "       [1],\n",
              "       [1],\n",
              "       [0],\n",
              "       [0],\n",
              "       [0],\n",
              "       [1],\n",
              "       [1],\n",
              "       [0],\n",
              "       [1],\n",
              "       [0],\n",
              "       [0],\n",
              "       [1],\n",
              "       [1],\n",
              "       [0],\n",
              "       [0],\n",
              "       [1],\n",
              "       [1],\n",
              "       [1],\n",
              "       [1]])"
            ]
          },
          "metadata": {
            "tags": []
          },
          "execution_count": 104
        }
      ]
    },
    {
      "cell_type": "code",
      "metadata": {
        "colab": {
          "base_uri": "https://localhost:8080/",
          "height": 283
        },
        "id": "DaluWuEMXXMk",
        "outputId": "d57d970a-c095-4c3c-87a0-c219bb812b4d"
      },
      "source": [
        "plt.scatter(train_data[:,0],train_data[:,1])  #train 데이터를 scatter plot"
      ],
      "execution_count": null,
      "outputs": [
        {
          "output_type": "execute_result",
          "data": {
            "text/plain": [
              "<matplotlib.collections.PathCollection at 0x7fbbc9da9cf8>"
            ]
          },
          "metadata": {
            "tags": []
          },
          "execution_count": 109
        },
        {
          "output_type": "display_data",
          "data": {
            "image/png": "[encoded data removed]",
            "text/plain": [
              "<Figure size 432x288 with 1 Axes>"
            ]
          },
          "metadata": {
            "tags": [],
            "needs_background": "light"
          }
        }
      ]
    },
    {
      "cell_type": "code",
      "metadata": {
        "colab": {
          "base_uri": "https://localhost:8080/"
        },
        "id": "VmLyShxRYg0M",
        "outputId": "99fbcde4-982d-4563-c153-aecf6f31e9f8"
      },
      "source": [
        "target_data.flatten()==0  #copy , view와 같음\r\n",
        "target_data.ravel()==0 "
      ],
      "execution_count": null,
      "outputs": [
        {
          "output_type": "execute_result",
          "data": {
            "text/plain": [
              "array([ True, False,  True,  True,  True, False, False, False,  True,\n",
              "        True,  True, False, False,  True, False,  True,  True, False,\n",
              "       False,  True,  True, False, False, False, False])"
            ]
          },
          "metadata": {
            "tags": []
          },
          "execution_count": 115
        }
      ]
    },
    {
      "cell_type": "code",
      "metadata": {
        "colab": {
          "base_uri": "https://localhost:8080/"
        },
        "id": "MEB7rM-FYXjm",
        "outputId": "4cf7a711-8a5b-4b57-a0ed-1934867e1f43"
      },
      "source": [
        "train_data[target_data.ravel()==0]  #boolean indexing 으로 추출"
      ],
      "execution_count": null,
      "outputs": [
        {
          "output_type": "execute_result",
          "data": {
            "text/plain": [
              "array([[20, 83],\n",
              "       [42, 23],\n",
              "       [56, 71],\n",
              "       [98, 78],\n",
              "       [48, 95],\n",
              "       [85, 44],\n",
              "       [ 9, 73],\n",
              "       [70, 78],\n",
              "       [99, 70],\n",
              "       [73, 72],\n",
              "       [66, 77],\n",
              "       [ 6, 17]])"
            ]
          },
          "metadata": {
            "tags": []
          },
          "execution_count": 117
        }
      ]
    },
    {
      "cell_type": "code",
      "metadata": {
        "id": "5F_frzFTY0DG"
      },
      "source": [
        "red = train_data[target_data.ravel()==0]\r\n",
        "blue =train_data[target_data.ravel()==1]"
      ],
      "execution_count": null,
      "outputs": []
    },
    {
      "cell_type": "code",
      "metadata": {
        "colab": {
          "base_uri": "https://localhost:8080/"
        },
        "id": "jtD1LGrPXt0q",
        "outputId": "576442dd-0432-454f-b7db-6d17d3a90fc0"
      },
      "source": [
        "np.c_[ train_data, target_data] #target값과 데이터를 합침"
      ],
      "execution_count": null,
      "outputs": [
        {
          "output_type": "execute_result",
          "data": {
            "text/plain": [
              "array([[20, 83,  0],\n",
              "       [18, 26,  1],\n",
              "       [42, 23,  0],\n",
              "       [56, 71,  0],\n",
              "       [98, 78,  0],\n",
              "       [99, 79,  1],\n",
              "       [ 8,  8,  1],\n",
              "       [56, 14,  1],\n",
              "       [48, 95,  0],\n",
              "       [85, 44,  0],\n",
              "       [ 9, 73,  0],\n",
              "       [61, 34,  1],\n",
              "       [98, 33,  1],\n",
              "       [70, 78,  0],\n",
              "       [33, 21,  1],\n",
              "       [99, 70,  0],\n",
              "       [73, 72,  0],\n",
              "       [68,  0,  1],\n",
              "       [95, 84,  1],\n",
              "       [66, 77,  0],\n",
              "       [ 6, 17,  0],\n",
              "       [57, 84,  1],\n",
              "       [27, 37,  1],\n",
              "       [15,  2,  1],\n",
              "       [54, 45,  1]])"
            ]
          },
          "metadata": {
            "tags": []
          },
          "execution_count": 112
        }
      ]
    },
    {
      "cell_type": "code",
      "metadata": {
        "colab": {
          "base_uri": "https://localhost:8080/",
          "height": 283
        },
        "id": "10GtRiJzYKNF",
        "outputId": "67811609-9e12-4ae9-c7e8-6fe431f46161"
      },
      "source": [
        "plt.scatter(red[:,0],red[:,1], color='red')   \r\n",
        "plt.scatter(blue[:,0],blue[:,1], color='blue')"
      ],
      "execution_count": null,
      "outputs": [
        {
          "output_type": "execute_result",
          "data": {
            "text/plain": [
              "<matplotlib.collections.PathCollection at 0x7fbbc9ce7f60>"
            ]
          },
          "metadata": {
            "tags": []
          },
          "execution_count": 120
        },
        {
          "output_type": "display_data",
          "data": {
            "image/png": "[encoded data removed]",
            "text/plain": [
              "<Figure size 432x288 with 1 Axes>"
            ]
          },
          "metadata": {
            "tags": [],
            "needs_background": "light"
          }
        }
      ]
    },
    {
      "cell_type": "code",
      "metadata": {
        "colab": {
          "base_uri": "https://localhost:8080/"
        },
        "id": "U191NZtKY6Wj",
        "outputId": "080e21ac-ccb5-4380-a1b3-af66e67324de"
      },
      "source": [
        "prediction = np.random.randint(0,100,(1,2))\r\n",
        "prediction"
      ],
      "execution_count": null,
      "outputs": [
        {
          "output_type": "execute_result",
          "data": {
            "text/plain": [
              "array([[90, 67]])"
            ]
          },
          "metadata": {
            "tags": []
          },
          "execution_count": 122
        }
      ]
    },
    {
      "cell_type": "code",
      "metadata": {
        "colab": {
          "base_uri": "https://localhost:8080/",
          "height": 283
        },
        "id": "Cn_UpJmPZMBc",
        "outputId": "adc076d3-aca7-44c4-a283-6df12d5eb9a6"
      },
      "source": [
        "plt.scatter(red[:,0],red[:,1], color='red')   \r\n",
        "plt.scatter(blue[:,0],blue[:,1], color='blue')\r\n",
        "\r\n",
        "plt.scatter(prediction[:,0],prediction[:,1], color='green') "
      ],
      "execution_count": null,
      "outputs": [
        {
          "output_type": "execute_result",
          "data": {
            "text/plain": [
              "<matplotlib.collections.PathCollection at 0x7fbbc9c5d320>"
            ]
          },
          "metadata": {
            "tags": []
          },
          "execution_count": 123
        },
        {
          "output_type": "display_data",
          "data": {
            "image/png": "[encoded data removed]",
            "text/plain": [
              "<Figure size 432x288 with 1 Axes>"
            ]
          },
          "metadata": {
            "tags": [],
            "needs_background": "light"
          }
        }
      ]
    },
    {
      "cell_type": "code",
      "metadata": {
        "colab": {
          "base_uri": "https://localhost:8080/"
        },
        "id": "wxYdPQHTZ4eT",
        "outputId": "b21aabd6-a721-422c-828a-c149b812745b"
      },
      "source": [
        "for i in dir(cv2.ml):\r\n",
        "  if 'KN' in i: #ml패키지 내의 KNN찾기\r\n",
        "    print(i)"
      ],
      "execution_count": null,
      "outputs": [
        {
          "output_type": "stream",
          "text": [
            "KNEAREST_BRUTE_FORCE\n",
            "KNEAREST_KDTREE\n",
            "KNearest_BRUTE_FORCE\n",
            "KNearest_KDTREE\n",
            "KNearest_create\n",
            "KNearest_load\n"
          ],
          "name": "stdout"
        }
      ]
    },
    {
      "cell_type": "markdown",
      "metadata": {
        "id": "fxUl4heOaJzn"
      },
      "source": [
        "- 대문자 : 상수\r\n",
        "- `KNearest_create , KNearest_load` 함수\r\n",
        "\r\n",
        "모델을 하나로 만들어 놓으면 활용 \r\n",
        "- 객체지향 아님"
      ]
    },
    {
      "cell_type": "code",
      "metadata": {
        "id": "hZk3Nha6ZSCh"
      },
      "source": [
        "knn =cv2.ml.KNearest_create() #KNN 알고리즘 "
      ],
      "execution_count": null,
      "outputs": []
    },
    {
      "cell_type": "code",
      "metadata": {
        "colab": {
          "base_uri": "https://localhost:8080/"
        },
        "id": "B5WhMU-YaDyf",
        "outputId": "8c5b1f9d-3b18-4ae4-b609-160c9d903587"
      },
      "source": [
        "dir(knn)"
      ],
      "execution_count": null,
      "outputs": [
        {
          "output_type": "execute_result",
          "data": {
            "text/plain": [
              "['__class__',\n",
              " '__delattr__',\n",
              " '__dir__',\n",
              " '__doc__',\n",
              " '__eq__',\n",
              " '__format__',\n",
              " '__ge__',\n",
              " '__getattribute__',\n",
              " '__gt__',\n",
              " '__hash__',\n",
              " '__init__',\n",
              " '__init_subclass__',\n",
              " '__le__',\n",
              " '__lt__',\n",
              " '__ne__',\n",
              " '__new__',\n",
              " '__reduce__',\n",
              " '__reduce_ex__',\n",
              " '__repr__',\n",
              " '__setattr__',\n",
              " '__sizeof__',\n",
              " '__str__',\n",
              " '__subclasshook__',\n",
              " 'calcError',\n",
              " 'clear',\n",
              " 'create',\n",
              " 'empty',\n",
              " 'findNearest',\n",
              " 'getAlgorithmType',\n",
              " 'getDefaultK',\n",
              " 'getDefaultName',\n",
              " 'getEmax',\n",
              " 'getIsClassifier',\n",
              " 'getVarCount',\n",
              " 'isClassifier',\n",
              " 'isTrained',\n",
              " 'load',\n",
              " 'predict',\n",
              " 'read',\n",
              " 'save',\n",
              " 'setAlgorithmType',\n",
              " 'setDefaultK',\n",
              " 'setEmax',\n",
              " 'setIsClassifier',\n",
              " 'train',\n",
              " 'write']"
            ]
          },
          "metadata": {
            "tags": []
          },
          "execution_count": 127
        }
      ]
    },
    {
      "cell_type": "code",
      "metadata": {
        "colab": {
          "base_uri": "https://localhost:8080/"
        },
        "id": "fny_YmQmadsU",
        "outputId": "4f4801bf-5da9-433f-ffad-5e246b8215ea"
      },
      "source": [
        "knn.train # train(trainData [, flags])"
      ],
      "execution_count": null,
      "outputs": [
        {
          "output_type": "execute_result",
          "data": {
            "text/plain": [
              "<function ml_KNearest.train>"
            ]
          },
          "metadata": {
            "tags": []
          },
          "execution_count": 128
        }
      ]
    },
    {
      "cell_type": "markdown",
      "metadata": {
        "id": "LN6IuNMqa0At"
      },
      "source": [
        "- ROW_SAMPLE : 각 관측치는 행\r\n",
        "- COL_SAMPLE : 각 관측치는 열\r\n",
        "\r\n"
      ]
    },
    {
      "cell_type": "code",
      "metadata": {
        "colab": {
          "base_uri": "https://localhost:8080/",
          "height": 190
        },
        "id": "G5_D6yoAapbL",
        "outputId": "e14c7a12-21b8-41e3-ab8c-8b43ab8b1dea"
      },
      "source": [
        "knn.train(train_data, cv2.ml.ROW_SAMPLE,target_data) #데이터 타입 float으로 변경해야함"
      ],
      "execution_count": null,
      "outputs": [
        {
          "output_type": "error",
          "ename": "error",
          "evalue": "ignored",
          "traceback": [
            "\u001b[0;31m---------------------------------------------------------------------------\u001b[0m",
            "\u001b[0;31merror\u001b[0m                                     Traceback (most recent call last)",
            "\u001b[0;32m<ipython-input-129-bb743c2c71c2>\u001b[0m in \u001b[0;36m<module>\u001b[0;34m()\u001b[0m\n\u001b[0;32m----> 1\u001b[0;31m \u001b[0mknn\u001b[0m\u001b[0;34m.\u001b[0m\u001b[0mtrain\u001b[0m\u001b[0;34m(\u001b[0m\u001b[0mtrain_data\u001b[0m\u001b[0;34m,\u001b[0m \u001b[0mcv2\u001b[0m\u001b[0;34m.\u001b[0m\u001b[0mml\u001b[0m\u001b[0;34m.\u001b[0m\u001b[0mROW_SAMPLE\u001b[0m\u001b[0;34m,\u001b[0m\u001b[0mtarget_data\u001b[0m\u001b[0;34m)\u001b[0m \u001b[0;31m#\u001b[0m\u001b[0;34m\u001b[0m\u001b[0;34m\u001b[0m\u001b[0m\n\u001b[0m",
            "\u001b[0;31merror\u001b[0m: OpenCV(4.1.2) /io/opencv/modules/ml/src/knearest.cpp:82: error: (-215:Assertion failed) new_samples.type() == CV_32F in function 'train'\n"
          ]
        }
      ]
    },
    {
      "cell_type": "code",
      "metadata": {
        "id": "SKGCijutbPBS"
      },
      "source": [
        "train_data=train_data.astype('f4')\r\n",
        "target_data=target_data.astype('f4')\r\n",
        "prediction=prediction.astype('float32')"
      ],
      "execution_count": null,
      "outputs": []
    },
    {
      "cell_type": "code",
      "metadata": {
        "colab": {
          "base_uri": "https://localhost:8080/"
        },
        "id": "qwTM4DJTbYJc",
        "outputId": "1eedd5ef-ba82-4545-dbb8-238a063de0d4"
      },
      "source": [
        "knn.train(train_data, cv2.ml.ROW_SAMPLE,target_data) #"
      ],
      "execution_count": null,
      "outputs": [
        {
          "output_type": "execute_result",
          "data": {
            "text/plain": [
              "True"
            ]
          },
          "metadata": {
            "tags": []
          },
          "execution_count": 147
        }
      ]
    },
    {
      "cell_type": "code",
      "metadata": {
        "colab": {
          "base_uri": "https://localhost:8080/"
        },
        "id": "oYt-BTXabpIN",
        "outputId": "90e9e20e-a2d4-4aed-9fe6-590387213e6d"
      },
      "source": [
        "knn.findNearest(prediction, 2) #"
      ],
      "execution_count": null,
      "outputs": [
        {
          "output_type": "execute_result",
          "data": {
            "text/plain": [
              "(0.0,\n",
              " array([[0.]], dtype=float32),\n",
              " array([[0., 0.]], dtype=float32),\n",
              " array([[ 90., 185.]], dtype=float32))"
            ]
          },
          "metadata": {
            "tags": []
          },
          "execution_count": 148
        }
      ]
    },
    {
      "cell_type": "code",
      "metadata": {
        "id": "GYQdXKV6bs8z"
      },
      "source": [
        "a,b,c,d = knn.findNearest(prediction, 2)   #  예측 class ,k개 이웃들 ,거리"
      ],
      "execution_count": null,
      "outputs": []
    },
    {
      "cell_type": "markdown",
      "metadata": {
        "id": "XZxqbsR5cofe"
      },
      "source": [
        "#### Scikit-learn의 KNN\r\n"
      ]
    },
    {
      "cell_type": "code",
      "metadata": {
        "id": "HmOi2GGzcjV_"
      },
      "source": [
        "from sklearn.neighbors import KNeighborsClassifier"
      ],
      "execution_count": null,
      "outputs": []
    },
    {
      "cell_type": "code",
      "metadata": {
        "id": "Js5HfO0Tc03G"
      },
      "source": [
        "knn2= KNeighborsClassifier(3)"
      ],
      "execution_count": null,
      "outputs": []
    },
    {
      "cell_type": "code",
      "metadata": {
        "colab": {
          "base_uri": "https://localhost:8080/"
        },
        "id": "hDUjOsZEc2pn",
        "outputId": "8129e04d-986f-4fdf-8ada-e631a644c935"
      },
      "source": [
        "vars(knn2)"
      ],
      "execution_count": null,
      "outputs": [
        {
          "output_type": "execute_result",
          "data": {
            "text/plain": [
              "{'algorithm': 'auto',\n",
              " 'leaf_size': 30,\n",
              " 'metric': 'minkowski',\n",
              " 'metric_params': None,\n",
              " 'n_jobs': None,\n",
              " 'n_neighbors': 3,\n",
              " 'p': 2,\n",
              " 'radius': None,\n",
              " 'weights': 'uniform'}"
            ]
          },
          "metadata": {
            "tags": []
          },
          "execution_count": 152
        }
      ]
    },
    {
      "cell_type": "code",
      "metadata": {
        "colab": {
          "base_uri": "https://localhost:8080/"
        },
        "id": "cdDdVs_mc3ck",
        "outputId": "e262d3f2-d211-4b8a-b8f8-acc0300aaa8c"
      },
      "source": [
        "knn2.fit(train_data , target_data)  #ravel() -1차원화"
      ],
      "execution_count": null,
      "outputs": [
        {
          "output_type": "stream",
          "text": [
            "/usr/local/lib/python3.6/dist-packages/ipykernel_launcher.py:1: DataConversionWarning: A column-vector y was passed when a 1d array was expected. Please change the shape of y to (n_samples, ), for example using ravel().\n",
            "  \"\"\"Entry point for launching an IPython kernel.\n"
          ],
          "name": "stderr"
        },
        {
          "output_type": "execute_result",
          "data": {
            "text/plain": [
              "KNeighborsClassifier(algorithm='auto', leaf_size=30, metric='minkowski',\n",
              "                     metric_params=None, n_jobs=None, n_neighbors=3, p=2,\n",
              "                     weights='uniform')"
            ]
          },
          "metadata": {
            "tags": []
          },
          "execution_count": 153
        }
      ]
    },
    {
      "cell_type": "code",
      "metadata": {
        "colab": {
          "base_uri": "https://localhost:8080/"
        },
        "id": "o5JEBxqpc5hB",
        "outputId": "2a87017f-71b6-471a-e06d-9efe1d5a5a64"
      },
      "source": [
        "knn2.fit(train_data , target_data.ravel()) "
      ],
      "execution_count": null,
      "outputs": [
        {
          "output_type": "execute_result",
          "data": {
            "text/plain": [
              "KNeighborsClassifier(algorithm='auto', leaf_size=30, metric='minkowski',\n",
              "                     metric_params=None, n_jobs=None, n_neighbors=3, p=2,\n",
              "                     weights='uniform')"
            ]
          },
          "metadata": {
            "tags": []
          },
          "execution_count": 154
        }
      ]
    },
    {
      "cell_type": "code",
      "metadata": {
        "colab": {
          "base_uri": "https://localhost:8080/"
        },
        "id": "g4u4TZ7zdGU9",
        "outputId": "ceb24403-2b0a-4bef-e7ea-9891394e5779"
      },
      "source": [
        "knn2.fit(train_data , target_data.reshape(-1)) "
      ],
      "execution_count": null,
      "outputs": [
        {
          "output_type": "execute_result",
          "data": {
            "text/plain": [
              "KNeighborsClassifier(algorithm='auto', leaf_size=30, metric='minkowski',\n",
              "                     metric_params=None, n_jobs=None, n_neighbors=3, p=2,\n",
              "                     weights='uniform')"
            ]
          },
          "metadata": {
            "tags": []
          },
          "execution_count": 156
        }
      ]
    },
    {
      "cell_type": "code",
      "metadata": {
        "colab": {
          "base_uri": "https://localhost:8080/"
        },
        "id": "8syF9ZdidNoW",
        "outputId": "33382d8e-358d-4d97-f726-a72c99fb26d6"
      },
      "source": [
        "knn2.predict(prediction)"
      ],
      "execution_count": null,
      "outputs": [
        {
          "output_type": "execute_result",
          "data": {
            "text/plain": [
              "array([0.], dtype=float32)"
            ]
          },
          "metadata": {
            "tags": []
          },
          "execution_count": 157
        }
      ]
    },
    {
      "cell_type": "code",
      "metadata": {
        "colab": {
          "base_uri": "https://localhost:8080/"
        },
        "id": "Ss2fvKyCdUKf",
        "outputId": "e44f863c-3af4-4c0c-9dab-715f4996ba27"
      },
      "source": [
        "vars(knn2)  #학습 후에 knn2의 vars 값으로 설명 추가됨 "
      ],
      "execution_count": null,
      "outputs": [
        {
          "output_type": "execute_result",
          "data": {
            "text/plain": [
              "{'_fit_X': array([[20., 83.],\n",
              "        [18., 26.],\n",
              "        [42., 23.],\n",
              "        [56., 71.],\n",
              "        [98., 78.],\n",
              "        [99., 79.],\n",
              "        [ 8.,  8.],\n",
              "        [56., 14.],\n",
              "        [48., 95.],\n",
              "        [85., 44.],\n",
              "        [ 9., 73.],\n",
              "        [61., 34.],\n",
              "        [98., 33.],\n",
              "        [70., 78.],\n",
              "        [33., 21.],\n",
              "        [99., 70.],\n",
              "        [73., 72.],\n",
              "        [68.,  0.],\n",
              "        [95., 84.],\n",
              "        [66., 77.],\n",
              "        [ 6., 17.],\n",
              "        [57., 84.],\n",
              "        [27., 37.],\n",
              "        [15.,  2.],\n",
              "        [54., 45.]], dtype=float32),\n",
              " '_fit_method': 'kd_tree',\n",
              " '_tree': <sklearn.neighbors._kd_tree.KDTree at 0x674b718>,\n",
              " '_y': array([0, 1, 0, 0, 0, 0, 0, 0, 0, 0, 0, 1, 0, 0, 0, 0, 0, 1, 1, 0, 0, 0,\n",
              "        1, 1, 1]),\n",
              " 'algorithm': 'auto',\n",
              " 'classes_': array([0., 1.], dtype=float32),\n",
              " 'effective_metric_': 'euclidean',\n",
              " 'effective_metric_params_': {},\n",
              " 'leaf_size': 30,\n",
              " 'metric': 'minkowski',\n",
              " 'metric_params': None,\n",
              " 'n_jobs': None,\n",
              " 'n_neighbors': 3,\n",
              " 'n_samples_fit_': 25,\n",
              " 'outputs_2d_': False,\n",
              " 'p': 2,\n",
              " 'radius': None,\n",
              " 'weights': 'uniform'}"
            ]
          },
          "metadata": {
            "tags": []
          },
          "execution_count": 158
        }
      ]
    },
    {
      "cell_type": "markdown",
      "metadata": {
        "id": "gAROZEyVd7ci"
      },
      "source": [
        "### linear regression\r\n",
        "- 선형 회귀\r\n",
        "\r\n"
      ]
    },
    {
      "cell_type": "code",
      "metadata": {
        "id": "L750ehm7dYeq"
      },
      "source": [
        "from sklearn.datasets import load_boston  # 보스턴의 집값 예측 "
      ],
      "execution_count": null,
      "outputs": []
    },
    {
      "cell_type": "code",
      "metadata": {
        "id": "URKv8qn-eDye"
      },
      "source": [
        "boston = load_boston()"
      ],
      "execution_count": null,
      "outputs": []
    },
    {
      "cell_type": "code",
      "metadata": {
        "colab": {
          "base_uri": "https://localhost:8080/"
        },
        "id": "F_0vZHNqePoF",
        "outputId": "445c032b-1505-4c98-bc35-0b2c606cd51b"
      },
      "source": [
        "print(boston.DESCR) "
      ],
      "execution_count": null,
      "outputs": [
        {
          "output_type": "stream",
          "text": [
            ".. _boston_dataset:\n",
            "\n",
            "Boston house prices dataset\n",
            "---------------------------\n",
            "\n",
            "**Data Set Characteristics:**  \n",
            "\n",
            "    :Number of Instances: 506 \n",
            "\n",
            "    :Number of Attributes: 13 numeric/categorical predictive. Median Value (attribute 14) is usually the target.\n",
            "\n",
            "    :Attribute Information (in order):\n",
            "        - CRIM     per capita crime rate by town\n",
            "        - ZN       proportion of residential land zoned for lots over 25,000 sq.ft.\n",
            "        - INDUS    proportion of non-retail business acres per town\n",
            "        - CHAS     Charles River dummy variable (= 1 if tract bounds river; 0 otherwise)\n",
            "        - NOX      nitric oxides concentration (parts per 10 million)\n",
            "        - RM       average number of rooms per dwelling\n",
            "        - AGE      proportion of owner-occupied units built prior to 1940\n",
            "        - DIS      weighted distances to five Boston employment centres\n",
            "        - RAD      index of accessibility to radial highways\n",
            "        - TAX      full-value property-tax rate per $10,000\n",
            "        - PTRATIO  pupil-teacher ratio by town\n",
            "        - B        1000(Bk - 0.63)^2 where Bk is the proportion of blacks by town\n",
            "        - LSTAT    % lower status of the population\n",
            "        - MEDV     Median value of owner-occupied homes in $1000's\n",
            "\n",
            "    :Missing Attribute Values: None\n",
            "\n",
            "    :Creator: Harrison, D. and Rubinfeld, D.L.\n",
            "\n",
            "This is a copy of UCI ML housing dataset.\n",
            "https://archive.ics.uci.edu/ml/machine-learning-databases/housing/\n",
            "\n",
            "\n",
            "This dataset was taken from the StatLib library which is maintained at Carnegie Mellon University.\n",
            "\n",
            "The Boston house-price data of Harrison, D. and Rubinfeld, D.L. 'Hedonic\n",
            "prices and the demand for clean air', J. Environ. Economics & Management,\n",
            "vol.5, 81-102, 1978.   Used in Belsley, Kuh & Welsch, 'Regression diagnostics\n",
            "...', Wiley, 1980.   N.B. Various transformations are used in the table on\n",
            "pages 244-261 of the latter.\n",
            "\n",
            "The Boston house-price data has been used in many machine learning papers that address regression\n",
            "problems.   \n",
            "     \n",
            ".. topic:: References\n",
            "\n",
            "   - Belsley, Kuh & Welsch, 'Regression diagnostics: Identifying Influential Data and Sources of Collinearity', Wiley, 1980. 244-261.\n",
            "   - Quinlan,R. (1993). Combining Instance-Based and Model-Based Learning. In Proceedings on the Tenth International Conference of Machine Learning, 236-243, University of Massachusetts, Amherst. Morgan Kaufmann.\n",
            "\n"
          ],
          "name": "stdout"
        }
      ]
    },
    {
      "cell_type": "code",
      "metadata": {
        "id": "DU3gwdV7eQ66"
      },
      "source": [
        "from sklearn.linear_model import LinearRegression"
      ],
      "execution_count": null,
      "outputs": []
    },
    {
      "cell_type": "code",
      "metadata": {
        "id": "vUHMiK0ueh_L"
      },
      "source": [
        "lr=LinearRegression()"
      ],
      "execution_count": null,
      "outputs": []
    },
    {
      "cell_type": "code",
      "metadata": {
        "colab": {
          "base_uri": "https://localhost:8080/"
        },
        "id": "l__bxAnTejBB",
        "outputId": "20b4427b-dd44-4450-cafe-1ed1f1ad5267"
      },
      "source": [
        "lr.fit(boston.data, boston.target) #학습"
      ],
      "execution_count": null,
      "outputs": [
        {
          "output_type": "execute_result",
          "data": {
            "text/plain": [
              "LinearRegression(copy_X=True, fit_intercept=True, n_jobs=None, normalize=False)"
            ]
          },
          "metadata": {
            "tags": []
          },
          "execution_count": 165
        }
      ]
    },
    {
      "cell_type": "code",
      "metadata": {
        "id": "suhIh2D2elJH"
      },
      "source": [
        "#가짜 데이터 생성\r\n",
        "x = np.linspace(0,10,100)\r\n",
        "y_hat = x*3 +5"
      ],
      "execution_count": null,
      "outputs": []
    },
    {
      "cell_type": "code",
      "metadata": {
        "id": "Gko2z2-ve-_Q"
      },
      "source": [
        "y= x*3+20*(np.random.rand(x.size)-0.5) + 0.5"
      ],
      "execution_count": null,
      "outputs": []
    },
    {
      "cell_type": "code",
      "metadata": {
        "colab": {
          "base_uri": "https://localhost:8080/",
          "height": 283
        },
        "id": "AvIz5U5TfK3Q",
        "outputId": "7af6c6a6-8308-466f-cfaf-2c6af23b5c6c"
      },
      "source": [
        "plt.plot(x,y_hat,'r') \r\n",
        "plt.plot(x,y, 'bx')  "
      ],
      "execution_count": null,
      "outputs": [
        {
          "output_type": "execute_result",
          "data": {
            "text/plain": [
              "[<matplotlib.lines.Line2D at 0x7fbbd35a80b8>]"
            ]
          },
          "metadata": {
            "tags": []
          },
          "execution_count": 177
        },
        {
          "output_type": "display_data",
          "data": {
            "image/png": "[encoded data removed]",
            "text/plain": [
              "<Figure size 432x288 with 1 Axes>"
            ]
          },
          "metadata": {
            "tags": [],
            "needs_background": "light"
          }
        }
      ]
    },
    {
      "cell_type": "code",
      "metadata": {
        "colab": {
          "base_uri": "https://localhost:8080/"
        },
        "id": "0GJBkcjAfOYN",
        "outputId": "e9530783-8d10-4b84-f006-451d233cbc1a"
      },
      "source": [
        "dir(cv2.ml)"
      ],
      "execution_count": null,
      "outputs": [
        {
          "output_type": "execute_result",
          "data": {
            "text/plain": [
              "['ANN_MLP_ANNEAL',\n",
              " 'ANN_MLP_BACKPROP',\n",
              " 'ANN_MLP_GAUSSIAN',\n",
              " 'ANN_MLP_IDENTITY',\n",
              " 'ANN_MLP_LEAKYRELU',\n",
              " 'ANN_MLP_NO_INPUT_SCALE',\n",
              " 'ANN_MLP_NO_OUTPUT_SCALE',\n",
              " 'ANN_MLP_RELU',\n",
              " 'ANN_MLP_RPROP',\n",
              " 'ANN_MLP_SIGMOID_SYM',\n",
              " 'ANN_MLP_UPDATE_WEIGHTS',\n",
              " 'ANN_MLP_create',\n",
              " 'ANN_MLP_load',\n",
              " 'BOOST_DISCRETE',\n",
              " 'BOOST_GENTLE',\n",
              " 'BOOST_LOGIT',\n",
              " 'BOOST_REAL',\n",
              " 'Boost_DISCRETE',\n",
              " 'Boost_GENTLE',\n",
              " 'Boost_LOGIT',\n",
              " 'Boost_REAL',\n",
              " 'Boost_create',\n",
              " 'Boost_load',\n",
              " 'COL_SAMPLE',\n",
              " 'DTREES_PREDICT_AUTO',\n",
              " 'DTREES_PREDICT_MASK',\n",
              " 'DTREES_PREDICT_MAX_VOTE',\n",
              " 'DTREES_PREDICT_SUM',\n",
              " 'DTrees_PREDICT_AUTO',\n",
              " 'DTrees_PREDICT_MASK',\n",
              " 'DTrees_PREDICT_MAX_VOTE',\n",
              " 'DTrees_PREDICT_SUM',\n",
              " 'DTrees_create',\n",
              " 'DTrees_load',\n",
              " 'EM_COV_MAT_DEFAULT',\n",
              " 'EM_COV_MAT_DIAGONAL',\n",
              " 'EM_COV_MAT_GENERIC',\n",
              " 'EM_COV_MAT_SPHERICAL',\n",
              " 'EM_DEFAULT_MAX_ITERS',\n",
              " 'EM_DEFAULT_NCLUSTERS',\n",
              " 'EM_START_AUTO_STEP',\n",
              " 'EM_START_E_STEP',\n",
              " 'EM_START_M_STEP',\n",
              " 'EM_create',\n",
              " 'EM_load',\n",
              " 'KNEAREST_BRUTE_FORCE',\n",
              " 'KNEAREST_KDTREE',\n",
              " 'KNearest_BRUTE_FORCE',\n",
              " 'KNearest_KDTREE',\n",
              " 'KNearest_create',\n",
              " 'KNearest_load',\n",
              " 'LOGISTIC_REGRESSION_BATCH',\n",
              " 'LOGISTIC_REGRESSION_MINI_BATCH',\n",
              " 'LOGISTIC_REGRESSION_REG_DISABLE',\n",
              " 'LOGISTIC_REGRESSION_REG_L1',\n",
              " 'LOGISTIC_REGRESSION_REG_L2',\n",
              " 'LogisticRegression_BATCH',\n",
              " 'LogisticRegression_MINI_BATCH',\n",
              " 'LogisticRegression_REG_DISABLE',\n",
              " 'LogisticRegression_REG_L1',\n",
              " 'LogisticRegression_REG_L2',\n",
              " 'LogisticRegression_create',\n",
              " 'LogisticRegression_load',\n",
              " 'NormalBayesClassifier_create',\n",
              " 'NormalBayesClassifier_load',\n",
              " 'ParamGrid_create',\n",
              " 'ROW_SAMPLE',\n",
              " 'RTrees_create',\n",
              " 'RTrees_load',\n",
              " 'STAT_MODEL_COMPRESSED_INPUT',\n",
              " 'STAT_MODEL_PREPROCESSED_INPUT',\n",
              " 'STAT_MODEL_RAW_OUTPUT',\n",
              " 'STAT_MODEL_UPDATE_MODEL',\n",
              " 'SVMSGD_ASGD',\n",
              " 'SVMSGD_HARD_MARGIN',\n",
              " 'SVMSGD_SGD',\n",
              " 'SVMSGD_SOFT_MARGIN',\n",
              " 'SVMSGD_create',\n",
              " 'SVMSGD_load',\n",
              " 'SVM_C',\n",
              " 'SVM_CHI2',\n",
              " 'SVM_COEF',\n",
              " 'SVM_CUSTOM',\n",
              " 'SVM_C_SVC',\n",
              " 'SVM_DEGREE',\n",
              " 'SVM_EPS_SVR',\n",
              " 'SVM_GAMMA',\n",
              " 'SVM_INTER',\n",
              " 'SVM_LINEAR',\n",
              " 'SVM_NU',\n",
              " 'SVM_NU_SVC',\n",
              " 'SVM_NU_SVR',\n",
              " 'SVM_ONE_CLASS',\n",
              " 'SVM_P',\n",
              " 'SVM_POLY',\n",
              " 'SVM_RBF',\n",
              " 'SVM_SIGMOID',\n",
              " 'SVM_create',\n",
              " 'SVM_getDefaultGridPtr',\n",
              " 'SVM_load',\n",
              " 'StatModel_COMPRESSED_INPUT',\n",
              " 'StatModel_PREPROCESSED_INPUT',\n",
              " 'StatModel_RAW_OUTPUT',\n",
              " 'StatModel_UPDATE_MODEL',\n",
              " 'TEST_ERROR',\n",
              " 'TRAIN_ERROR',\n",
              " 'TrainData_create',\n",
              " 'TrainData_getSubMatrix',\n",
              " 'TrainData_getSubVector',\n",
              " 'VAR_CATEGORICAL',\n",
              " 'VAR_NUMERICAL',\n",
              " 'VAR_ORDERED',\n",
              " '__doc__',\n",
              " '__loader__',\n",
              " '__name__',\n",
              " '__package__',\n",
              " '__spec__']"
            ]
          },
          "metadata": {
            "tags": []
          },
          "execution_count": 180
        }
      ]
    },
    {
      "cell_type": "code",
      "metadata": {
        "colab": {
          "base_uri": "https://localhost:8080/"
        },
        "id": "Qo-nrqKSfy7N",
        "outputId": "6940b0fb-797c-413b-b898-de1a0caffc30"
      },
      "source": [
        "np.c_[x,y] # 데이터 합치기\r\n",
        "\r\n",
        "cv2.fitLine (  np.c_[x,y] , cv2.DIST_L1, 0, 0.1 ,0.1 ) # 값을 이음."
      ],
      "execution_count": null,
      "outputs": [
        {
          "output_type": "execute_result",
          "data": {
            "text/plain": [
              "array([[ 0.2064352 ],\n",
              "       [ 0.97846025],\n",
              "       [ 7.7751517 ],\n",
              "       [29.061272  ]], dtype=float32)"
            ]
          },
          "metadata": {
            "tags": []
          },
          "execution_count": 201
        }
      ]
    },
    {
      "cell_type": "code",
      "metadata": {
        "colab": {
          "base_uri": "https://localhost:8080/"
        },
        "id": "H8I4px3Ef-jW",
        "outputId": "cbebb974-01b1-4999-8ea2-aa369496a47e"
      },
      "source": [
        "for i in dir(cv2):\r\n",
        "  if 'DIST' in i:\r\n",
        "    print(i)"
      ],
      "execution_count": null,
      "outputs": [
        {
          "output_type": "stream",
          "text": [
            "CALIB_FIX_TANGENT_DIST\n",
            "CALIB_ZERO_TANGENT_DIST\n",
            "CAP_PROP_XI_LENS_FOCUS_DISTANCE\n",
            "DIST_C\n",
            "DIST_FAIR\n",
            "DIST_HUBER\n",
            "DIST_L1\n",
            "DIST_L12\n",
            "DIST_L2\n",
            "DIST_LABEL_CCOMP\n",
            "DIST_LABEL_PIXEL\n",
            "DIST_MASK_3\n",
            "DIST_MASK_5\n",
            "DIST_MASK_PRECISE\n",
            "DIST_USER\n",
            "DIST_WELSCH\n"
          ],
          "name": "stdout"
        }
      ]
    },
    {
      "cell_type": "code",
      "metadata": {
        "colab": {
          "base_uri": "https://localhost:8080/",
          "height": 283
        },
        "id": "FyJQ_Zduhchc",
        "outputId": "5ff42039-28c2-4404-b242-ae07ae1f3341"
      },
      "source": [
        "plt.plot(x,y_hat,'r') \r\n",
        "plt.plot(x,y, 'bx')  \r\n",
        "plt.plot([ 0.2064352 , 7.7751517  ],[ 0.97846025 ,29.061272  ], 'g-o')"
      ],
      "execution_count": null,
      "outputs": [
        {
          "output_type": "execute_result",
          "data": {
            "text/plain": [
              "[<matplotlib.lines.Line2D at 0x7fbbc94ed5c0>]"
            ]
          },
          "metadata": {
            "tags": []
          },
          "execution_count": 206
        },
        {
          "output_type": "display_data",
          "data": {
            "image/png": "[encoded data removed]",
            "text/plain": [
              "<Figure size 432x288 with 1 Axes>"
            ]
          },
          "metadata": {
            "tags": [],
            "needs_background": "light"
          }
        }
      ]
    },
    {
      "cell_type": "markdown",
      "metadata": {
        "id": "LeFXJqZHh134"
      },
      "source": [
        "Scikit : 범용적 툴\r\n",
        "- prototype으로 많이 사용\r\n",
        "- 추상화가 아닌 알고리즘 특성마다 다름 \r\n"
      ]
    },
    {
      "cell_type": "markdown",
      "metadata": {
        "id": "ywQSwdG_mPam"
      },
      "source": [
        "### Logistic Regression \r\n",
        "- logit 을 이용해서 이진 분류 문제 해결 \r\n",
        "- 다중분류에서는 one vs rest, one vs one 방식으로 voting\r\n"
      ]
    },
    {
      "cell_type": "code",
      "metadata": {
        "id": "rGRtrH3WhsB9"
      },
      "source": [
        "from sklearn.datasets import load_iris"
      ],
      "execution_count": null,
      "outputs": []
    },
    {
      "cell_type": "code",
      "metadata": {
        "id": "JRUFzYuvmDxw"
      },
      "source": [
        "iris= load_iris()"
      ],
      "execution_count": null,
      "outputs": []
    },
    {
      "cell_type": "code",
      "metadata": {
        "id": "jtnTrsqOmE9F"
      },
      "source": [
        "from sklearn.linear_model import LogisticRegression"
      ],
      "execution_count": null,
      "outputs": []
    },
    {
      "cell_type": "code",
      "metadata": {
        "colab": {
          "base_uri": "https://localhost:8080/"
        },
        "id": "EWgqWTFMmHbx",
        "outputId": "9effe19a-76f2-4ea9-cda7-4ce48b3f523b"
      },
      "source": [
        "lr.fit(iris.data, iris.target) #클래스가 3개인데 학습이 됨"
      ],
      "execution_count": null,
      "outputs": [
        {
          "output_type": "execute_result",
          "data": {
            "text/plain": [
              "LinearRegression(copy_X=True, fit_intercept=True, n_jobs=None, normalize=False)"
            ]
          },
          "metadata": {
            "tags": []
          },
          "execution_count": 215
        }
      ]
    },
    {
      "cell_type": "code",
      "metadata": {
        "colab": {
          "base_uri": "https://localhost:8080/"
        },
        "id": "e0KVPI3tm_Ag",
        "outputId": "1315d66c-01a9-4712-d303-da950d0d6ef6"
      },
      "source": [
        "lr.predict([[3,3,3,3]])"
      ],
      "execution_count": null,
      "outputs": [
        {
          "output_type": "execute_result",
          "data": {
            "text/plain": [
              "array([2.24423047])"
            ]
          },
          "metadata": {
            "tags": []
          },
          "execution_count": 218
        }
      ]
    },
    {
      "cell_type": "markdown",
      "metadata": {
        "id": "2zrAby5tnwH5"
      },
      "source": [
        "쉽게 사용가능해서 위와 같은 실수해도 에러 발생하지 않음"
      ]
    },
    {
      "cell_type": "code",
      "metadata": {
        "id": "KiD0uy2BnAIX"
      },
      "source": [
        "from sklearn.multiclass import OneVsOneClassifier "
      ],
      "execution_count": null,
      "outputs": []
    },
    {
      "cell_type": "code",
      "metadata": {
        "id": "Ut4lRf3Wnld9"
      },
      "source": [
        "ovo = OneVsOneClassifier(LogisticRegression())"
      ],
      "execution_count": null,
      "outputs": []
    },
    {
      "cell_type": "code",
      "metadata": {
        "colab": {
          "base_uri": "https://localhost:8080/"
        },
        "id": "zaLf-waNnoj_",
        "outputId": "322ba57b-8f92-4a09-9aeb-1c8d55a181e8"
      },
      "source": [
        "ovo.fit(iris.data, iris.target)"
      ],
      "execution_count": null,
      "outputs": [
        {
          "output_type": "execute_result",
          "data": {
            "text/plain": [
              "OneVsOneClassifier(estimator=LogisticRegression(C=1.0, class_weight=None,\n",
              "                                                dual=False, fit_intercept=True,\n",
              "                                                intercept_scaling=1,\n",
              "                                                l1_ratio=None, max_iter=100,\n",
              "                                                multi_class='auto', n_jobs=None,\n",
              "                                                penalty='l2', random_state=None,\n",
              "                                                solver='lbfgs', tol=0.0001,\n",
              "                                                verbose=0, warm_start=False),\n",
              "                   n_jobs=None)"
            ]
          },
          "metadata": {
            "tags": []
          },
          "execution_count": 221
        }
      ]
    },
    {
      "cell_type": "code",
      "metadata": {
        "colab": {
          "base_uri": "https://localhost:8080/"
        },
        "id": "P-v6ORwqnsyu",
        "outputId": "b46237d8-dc6f-4179-f040-91c5ae2f72f4"
      },
      "source": [
        "ovo.predict([[3,3,3,3]])"
      ],
      "execution_count": null,
      "outputs": [
        {
          "output_type": "execute_result",
          "data": {
            "text/plain": [
              "array([1])"
            ]
          },
          "metadata": {
            "tags": []
          },
          "execution_count": 222
        }
      ]
    },
    {
      "cell_type": "markdown",
      "metadata": {
        "id": "kjb6p7UpoACj"
      },
      "source": [
        "### OneVsRest"
      ]
    },
    {
      "cell_type": "code",
      "metadata": {
        "id": "ikVFjsZenu8k"
      },
      "source": [
        "from sklearn.multiclass import OneVsRestClassifier"
      ],
      "execution_count": null,
      "outputs": []
    },
    {
      "cell_type": "code",
      "metadata": {
        "id": "KF2sixzto5vH"
      },
      "source": [
        "ovr= OneVsRestClassifier(LogisticRegression())"
      ],
      "execution_count": null,
      "outputs": []
    },
    {
      "cell_type": "code",
      "metadata": {
        "id": "aN7jbPy5o_Ke"
      },
      "source": [
        "\r\n",
        "idx=iris.target !=2 \r\n",
        "data=iris.data[idx]"
      ],
      "execution_count": null,
      "outputs": []
    },
    {
      "cell_type": "code",
      "metadata": {
        "colab": {
          "base_uri": "https://localhost:8080/"
        },
        "id": "ka0uzHl9pDA4",
        "outputId": "0b9dd394-a196-40d4-e05d-82c12df56003"
      },
      "source": [
        "data.dtype"
      ],
      "execution_count": null,
      "outputs": [
        {
          "output_type": "execute_result",
          "data": {
            "text/plain": [
              "dtype('float64')"
            ]
          },
          "metadata": {
            "tags": []
          },
          "execution_count": 228
        }
      ]
    },
    {
      "cell_type": "code",
      "metadata": {
        "id": "t-xuwrCOpHDL"
      },
      "source": [
        "data= iris.data[idx].astype('f4')\r\n",
        "target=iris.target[idx].astype('f4')"
      ],
      "execution_count": null,
      "outputs": []
    },
    {
      "cell_type": "code",
      "metadata": {
        "colab": {
          "base_uri": "https://localhost:8080/",
          "height": 286
        },
        "id": "EX92CkfwpXbU",
        "outputId": "a2804147-509c-4cbe-dbc4-5255c6ec4db9"
      },
      "source": [
        "plt.scatter(data[:,0],data[:,1],c=target)"
      ],
      "execution_count": null,
      "outputs": [
        {
          "output_type": "execute_result",
          "data": {
            "text/plain": [
              "<matplotlib.collections.PathCollection at 0x7fbbc9362ac8>"
            ]
          },
          "metadata": {
            "tags": []
          },
          "execution_count": 239
        },
        {
          "output_type": "display_data",
          "data": {
            "image/png": "[encoded data removed]",
            "text/plain": [
              "<Figure size 432x288 with 1 Axes>"
            ]
          },
          "metadata": {
            "tags": [],
            "needs_background": "light"
          }
        }
      ]
    },
    {
      "cell_type": "code",
      "metadata": {
        "id": "fba8V7qhp4GJ"
      },
      "source": [
        "from sklearn.model_selection import train_test_split"
      ],
      "execution_count": null,
      "outputs": []
    },
    {
      "cell_type": "code",
      "metadata": {
        "id": "gMIMfsJaqhG-"
      },
      "source": [
        "X_train, X_test, y_train, y_test = train_test_split(data, target)"
      ],
      "execution_count": null,
      "outputs": []
    },
    {
      "cell_type": "code",
      "metadata": {
        "colab": {
          "base_uri": "https://localhost:8080/"
        },
        "id": "nZ_Prh3Qqlru",
        "outputId": "1e226d28-4242-4c2e-f8d5-62972a71bc2a"
      },
      "source": [
        "for i in dir(cv2.ml):\r\n",
        "  if 'LOG' in i:  #case sensitive\r\n",
        "    print(i)"
      ],
      "execution_count": null,
      "outputs": [
        {
          "output_type": "stream",
          "text": [
            "BOOST_LOGIT\n",
            "Boost_LOGIT\n",
            "LOGISTIC_REGRESSION_BATCH\n",
            "LOGISTIC_REGRESSION_MINI_BATCH\n",
            "LOGISTIC_REGRESSION_REG_DISABLE\n",
            "LOGISTIC_REGRESSION_REG_L1\n",
            "LOGISTIC_REGRESSION_REG_L2\n"
          ],
          "name": "stdout"
        }
      ]
    },
    {
      "cell_type": "code",
      "metadata": {
        "colab": {
          "base_uri": "https://localhost:8080/"
        },
        "id": "Yv3puQBaqysb",
        "outputId": "a0d6112d-2479-4b8d-bf0f-fee276c87fc9"
      },
      "source": [
        "for i in dir(cv2.ml): \r\n",
        "  if '_create' in i:\r\n",
        "    print(i)"
      ],
      "execution_count": null,
      "outputs": [
        {
          "output_type": "stream",
          "text": [
            "ANN_MLP_create\n",
            "Boost_create\n",
            "DTrees_create\n",
            "EM_create\n",
            "KNearest_create\n",
            "LogisticRegression_create\n",
            "NormalBayesClassifier_create\n",
            "ParamGrid_create\n",
            "RTrees_create\n",
            "SVMSGD_create\n",
            "SVM_create\n",
            "TrainData_create\n"
          ],
          "name": "stdout"
        }
      ]
    },
    {
      "cell_type": "code",
      "metadata": {
        "colab": {
          "base_uri": "https://localhost:8080/"
        },
        "id": "0awbYWYuq0c1",
        "outputId": "0a44541f-8cff-43e1-e9ba-d720bf59c12a"
      },
      "source": [
        "for i in dir(cv2.ml):\r\n",
        "  if 'log' in i.lower():  #소문자로 변경해서 찾음\r\n",
        "    print(i)"
      ],
      "execution_count": null,
      "outputs": [
        {
          "output_type": "stream",
          "text": [
            "BOOST_LOGIT\n",
            "Boost_LOGIT\n",
            "LOGISTIC_REGRESSION_BATCH\n",
            "LOGISTIC_REGRESSION_MINI_BATCH\n",
            "LOGISTIC_REGRESSION_REG_DISABLE\n",
            "LOGISTIC_REGRESSION_REG_L1\n",
            "LOGISTIC_REGRESSION_REG_L2\n",
            "LogisticRegression_BATCH\n",
            "LogisticRegression_MINI_BATCH\n",
            "LogisticRegression_REG_DISABLE\n",
            "LogisticRegression_REG_L1\n",
            "LogisticRegression_REG_L2\n",
            "LogisticRegression_create\n",
            "LogisticRegression_load\n"
          ],
          "name": "stdout"
        }
      ]
    },
    {
      "cell_type": "code",
      "metadata": {
        "id": "MMRVjMjKrHsW"
      },
      "source": [
        "lr = cv2.ml.LogisticRegression_create()"
      ],
      "execution_count": null,
      "outputs": []
    },
    {
      "cell_type": "code",
      "metadata": {
        "colab": {
          "base_uri": "https://localhost:8080/"
        },
        "id": "X4WhC6zirOnZ",
        "outputId": "1351aab1-26a0-4dea-f9a8-607f1573282d"
      },
      "source": [
        "lr.train(X_train,cv2.ml.ROW_SAMPLE, y_train) "
      ],
      "execution_count": null,
      "outputs": [
        {
          "output_type": "execute_result",
          "data": {
            "text/plain": [
              "True"
            ]
          },
          "metadata": {
            "tags": []
          },
          "execution_count": 250
        }
      ]
    },
    {
      "cell_type": "code",
      "metadata": {
        "colab": {
          "base_uri": "https://localhost:8080/"
        },
        "id": "736-H4K-rOgz",
        "outputId": "626d95b2-e281-4a1c-a211-4f6d58deedef"
      },
      "source": [
        "lr=LogisticRegression()\r\n",
        "lr.get_params()"
      ],
      "execution_count": null,
      "outputs": [
        {
          "output_type": "execute_result",
          "data": {
            "text/plain": [
              "{'C': 1.0,\n",
              " 'class_weight': None,\n",
              " 'dual': False,\n",
              " 'fit_intercept': True,\n",
              " 'intercept_scaling': 1,\n",
              " 'l1_ratio': None,\n",
              " 'max_iter': 100,\n",
              " 'multi_class': 'auto',\n",
              " 'n_jobs': None,\n",
              " 'penalty': 'l2',\n",
              " 'random_state': None,\n",
              " 'solver': 'lbfgs',\n",
              " 'tol': 0.0001,\n",
              " 'verbose': 0,\n",
              " 'warm_start': False}"
            ]
          },
          "metadata": {
            "tags": []
          },
          "execution_count": 254
        }
      ]
    },
    {
      "cell_type": "code",
      "metadata": {
        "colab": {
          "base_uri": "https://localhost:8080/"
        },
        "id": "IHq53vzEsLW7",
        "outputId": "82fb3d5d-697b-42a6-a073-5136c4197325"
      },
      "source": [
        "lr.set_params(C=2) #파라미터 값 지정 "
      ],
      "execution_count": null,
      "outputs": [
        {
          "output_type": "execute_result",
          "data": {
            "text/plain": [
              "LogisticRegression(C=2, class_weight=None, dual=False, fit_intercept=True,\n",
              "                   intercept_scaling=1, l1_ratio=None, max_iter=100,\n",
              "                   multi_class='auto', n_jobs=None, penalty='l2',\n",
              "                   random_state=None, solver='lbfgs', tol=0.0001, verbose=0,\n",
              "                   warm_start=False)"
            ]
          },
          "metadata": {
            "tags": []
          },
          "execution_count": 257
        }
      ]
    },
    {
      "cell_type": "code",
      "metadata": {
        "colab": {
          "base_uri": "https://localhost:8080/"
        },
        "id": "0cg5ssqirxes",
        "outputId": "23493f6e-7fae-4eaa-d200-67a0d31d17f1"
      },
      "source": [
        "lr.set_params(**{'C':2.0})"
      ],
      "execution_count": null,
      "outputs": [
        {
          "output_type": "execute_result",
          "data": {
            "text/plain": [
              "LogisticRegression(C=2.0, class_weight=None, dual=False, fit_intercept=True,\n",
              "                   intercept_scaling=1, l1_ratio=None, max_iter=100,\n",
              "                   multi_class='auto', n_jobs=None, penalty='l2',\n",
              "                   random_state=None, solver='lbfgs', tol=0.0001, verbose=0,\n",
              "                   warm_start=False)"
            ]
          },
          "metadata": {
            "tags": []
          },
          "execution_count": 258
        }
      ]
    },
    {
      "cell_type": "code",
      "metadata": {
        "id": "LDqwnaQzsNtI"
      },
      "source": [
        "lr=cv2.ml.LogisticRegression_create()\r\n",
        "lr.setIterations(100) # set으로 설정"
      ],
      "execution_count": null,
      "outputs": []
    },
    {
      "cell_type": "code",
      "metadata": {
        "colab": {
          "base_uri": "https://localhost:8080/"
        },
        "id": "_S4Kh-ghsfo_",
        "outputId": "d93fcbdd-0fab-4ef1-faaf-52e76960f345"
      },
      "source": [
        "lr.train(X_train, cv2.ml.ROW_SAMPLE, y_train)"
      ],
      "execution_count": null,
      "outputs": [
        {
          "output_type": "execute_result",
          "data": {
            "text/plain": [
              "True"
            ]
          },
          "metadata": {
            "tags": []
          },
          "execution_count": 262
        }
      ]
    },
    {
      "cell_type": "code",
      "metadata": {
        "colab": {
          "base_uri": "https://localhost:8080/"
        },
        "id": "qhv5rrPjsjUH",
        "outputId": "42fbeb45-7047-47ff-be79-e67e2af3d4c3"
      },
      "source": [
        "lr.get_learnt_thetas()  #과거형"
      ],
      "execution_count": null,
      "outputs": [
        {
          "output_type": "execute_result",
          "data": {
            "text/plain": [
              "array([[-2.7080967e-05,  1.5495691e-04, -2.9275744e-04,  8.4736891e-04,\n",
              "         3.3554481e-04]], dtype=float32)"
            ]
          },
          "metadata": {
            "tags": []
          },
          "execution_count": 263
        }
      ]
    },
    {
      "cell_type": "code",
      "metadata": {
        "id": "sI6_8u_fswNP"
      },
      "source": [
        "lr.predict()"
      ],
      "execution_count": null,
      "outputs": []
    },
    {
      "cell_type": "code",
      "metadata": {
        "id": "Vk70XZeRs6Td"
      },
      "source": [
        "from sklearn.metrics import confusion_matrix, classification_report #문제별로 성능척도 상이"
      ],
      "execution_count": null,
      "outputs": []
    },
    {
      "cell_type": "code",
      "metadata": {
        "colab": {
          "base_uri": "https://localhost:8080/"
        },
        "id": "s-3IEYU3tFFI",
        "outputId": "79b7fec7-439f-4269-92fe-5a8643dce05a"
      },
      "source": [
        "len(lr.predict(X_train)) #2개"
      ],
      "execution_count": null,
      "outputs": [
        {
          "output_type": "execute_result",
          "data": {
            "text/plain": [
              "2"
            ]
          },
          "metadata": {
            "tags": []
          },
          "execution_count": 264
        }
      ]
    },
    {
      "cell_type": "code",
      "metadata": {
        "colab": {
          "base_uri": "https://localhost:8080/"
        },
        "id": "rbRTIuoetHHw",
        "outputId": "d2639c24-3c6c-44f1-81dd-e7cf3ca9f103"
      },
      "source": [
        "lr.predict(X_train)[0]"
      ],
      "execution_count": null,
      "outputs": [
        {
          "output_type": "execute_result",
          "data": {
            "text/plain": [
              "1.0"
            ]
          },
          "metadata": {
            "tags": []
          },
          "execution_count": 265
        }
      ]
    },
    {
      "cell_type": "code",
      "metadata": {
        "colab": {
          "base_uri": "https://localhost:8080/"
        },
        "id": "ZUW6pyZItLr1",
        "outputId": "d871d63a-8274-4a49-d931-4ac2ea3e410e"
      },
      "source": [
        "lr.predict(X_train)[1]"
      ],
      "execution_count": null,
      "outputs": [
        {
          "output_type": "execute_result",
          "data": {
            "text/plain": [
              "array([[1],\n",
              "       [1],\n",
              "       [1],\n",
              "       [1],\n",
              "       [1],\n",
              "       [1],\n",
              "       [1],\n",
              "       [1],\n",
              "       [1],\n",
              "       [1],\n",
              "       [1],\n",
              "       [1],\n",
              "       [1],\n",
              "       [1],\n",
              "       [1],\n",
              "       [1],\n",
              "       [1],\n",
              "       [1],\n",
              "       [1],\n",
              "       [1],\n",
              "       [1],\n",
              "       [1],\n",
              "       [1],\n",
              "       [1],\n",
              "       [1],\n",
              "       [1],\n",
              "       [1],\n",
              "       [1],\n",
              "       [1],\n",
              "       [1],\n",
              "       [1],\n",
              "       [1],\n",
              "       [1],\n",
              "       [1],\n",
              "       [1],\n",
              "       [1],\n",
              "       [1],\n",
              "       [1],\n",
              "       [1],\n",
              "       [1],\n",
              "       [1],\n",
              "       [1],\n",
              "       [1],\n",
              "       [1],\n",
              "       [1],\n",
              "       [1],\n",
              "       [1],\n",
              "       [1],\n",
              "       [1],\n",
              "       [1],\n",
              "       [1],\n",
              "       [1],\n",
              "       [1],\n",
              "       [1],\n",
              "       [1],\n",
              "       [1],\n",
              "       [1],\n",
              "       [1],\n",
              "       [1],\n",
              "       [1],\n",
              "       [1],\n",
              "       [1],\n",
              "       [1],\n",
              "       [1],\n",
              "       [1],\n",
              "       [1],\n",
              "       [1],\n",
              "       [1],\n",
              "       [1],\n",
              "       [1],\n",
              "       [1],\n",
              "       [1],\n",
              "       [1],\n",
              "       [1],\n",
              "       [1]], dtype=int32)"
            ]
          },
          "metadata": {
            "tags": []
          },
          "execution_count": 266
        }
      ]
    },
    {
      "cell_type": "code",
      "metadata": {
        "colab": {
          "base_uri": "https://localhost:8080/"
        },
        "id": "4CMkAmEEtMG0",
        "outputId": "596c9b87-2a40-4fd1-85a5-2b7961697809"
      },
      "source": [
        "np.sum(lr.predict(X_train)[1] ==y_train)"
      ],
      "execution_count": null,
      "outputs": [
        {
          "output_type": "execute_result",
          "data": {
            "text/plain": [
              "2700"
            ]
          },
          "metadata": {
            "tags": []
          },
          "execution_count": 269
        }
      ]
    },
    {
      "cell_type": "code",
      "metadata": {
        "id": "rdP2LmxNtP-4"
      },
      "source": [
        "from sklearn.metrics import accuracy_score"
      ],
      "execution_count": null,
      "outputs": []
    },
    {
      "cell_type": "code",
      "metadata": {
        "colab": {
          "base_uri": "https://localhost:8080/"
        },
        "id": "p5mt7kEHthOE",
        "outputId": "ca03ab36-06fb-417b-9402-49338d781ba1"
      },
      "source": [
        "accuracy_score(y_test, lr.predict(X_test)[1]) #56% 의 정확도"
      ],
      "execution_count": null,
      "outputs": [
        {
          "output_type": "execute_result",
          "data": {
            "text/plain": [
              "0.56"
            ]
          },
          "metadata": {
            "tags": []
          },
          "execution_count": 273
        }
      ]
    },
    {
      "cell_type": "markdown",
      "metadata": {
        "id": "OtVP1oNNuMW7"
      },
      "source": [
        "- OpenCV는 계속 사용해서 비교할 예정\r\n",
        "- TF 모델을 OpenCV에 불러와서 실행\r\n",
        "- 논문"
      ]
    }
  ]
}