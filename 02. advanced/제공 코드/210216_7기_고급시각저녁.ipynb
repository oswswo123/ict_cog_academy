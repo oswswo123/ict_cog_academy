{
  "nbformat": 4,
  "nbformat_minor": 0,
  "metadata": {
    "colab": {
      "name": "210216_7기_고급시각저녁",
      "provenance": [],
      "collapsed_sections": []
    },
    "kernelspec": {
      "name": "python3",
      "display_name": "Python 3"
    },
    "accelerator": "GPU"
  },
  "cells": [
    {
      "cell_type": "markdown",
      "metadata": {
        "id": "dLeQJUfvJAJk"
      },
      "source": [
        "# [ICTCOG AI Academy] 7기 고급시각저녁반\r\n",
        "# Tensorflow를 활용한 기계학습/딥러닝 (2)\r\n",
        "\r\n",
        "### tensor, Numpy 차이 \r\n",
        "\r\n",
        "### 학습목표\r\n",
        "1. tf.Tensor (immutable), tf.Variable(제약조건 하에 mutable처럼 바꿈) 차이\r\n",
        "  - 상호호환 가능\r\n",
        "2. 저수준 프로그래밍  \r\n",
        "\r\n",
        "### 1. tf.Tensor, tf.Variable\r\n",
        "\r\n",
        "### Tensor 특징\r\n",
        " 1. GPU 사용\r\n",
        "  - Numpy도 GPU 사용 가능해질 것\r\n",
        " 2. Immutable\r\n",
        "  - mutable 의 copy, inplace 제외\r\n",
        " 3. 메소드명\r\n"
      ]
    },
    {
      "cell_type": "code",
      "metadata": {
        "id": "gOSPfFiBI_hl"
      },
      "source": [
        "import tensorflow as tf"
      ],
      "execution_count": 1,
      "outputs": []
    },
    {
      "cell_type": "markdown",
      "metadata": {
        "id": "kjyyhUYLdzd9"
      },
      "source": [
        "tf.debugging.set_log_device_placement(True)\r\n",
        "- 기본 False\r\n",
        "- True 인 경우 어느 장치에서 실행 되는지 명시"
      ]
    },
    {
      "cell_type": "code",
      "metadata": {
        "id": "n89J5SurMxN_"
      },
      "source": [
        "tf.debugging.set_log_device_placement(True)  "
      ],
      "execution_count": 2,
      "outputs": []
    },
    {
      "cell_type": "markdown",
      "metadata": {
        "id": "lv8AkICCPJG4"
      },
      "source": [
        "##### 상수constant\r\n"
      ]
    },
    {
      "cell_type": "code",
      "metadata": {
        "id": "9By79aheM0ec"
      },
      "source": [
        "a=tf.constant([1,2,3])"
      ],
      "execution_count": 3,
      "outputs": []
    },
    {
      "cell_type": "code",
      "metadata": {
        "colab": {
          "base_uri": "https://localhost:8080/"
        },
        "id": "ZKdgB0WSM18T",
        "outputId": "42046048-255f-4a71-b019-90646e548927"
      },
      "source": [
        "a+a  "
      ],
      "execution_count": 4,
      "outputs": [
        {
          "output_type": "stream",
          "text": [
            "Executing op AddV2 in device /job:localhost/replica:0/task:0/device:GPU:0\n"
          ],
          "name": "stdout"
        },
        {
          "output_type": "execute_result",
          "data": {
            "text/plain": [
              "<tf.Tensor: shape=(3,), dtype=int32, numpy=array([2, 4, 6], dtype=int32)>"
            ]
          },
          "metadata": {
            "tags": []
          },
          "execution_count": 4
        }
      ]
    },
    {
      "cell_type": "code",
      "metadata": {
        "colab": {
          "base_uri": "https://localhost:8080/"
        },
        "id": "PyjI48fZM2ZT",
        "outputId": "175f1e04-6020-4ddb-b205-2efdc95d5a87"
      },
      "source": [
        "for i in a:\r\n",
        "  print(i)"
      ],
      "execution_count": 6,
      "outputs": [
        {
          "output_type": "stream",
          "text": [
            "Executing op StridedSlice in device /job:localhost/replica:0/task:0/device:GPU:0\n",
            "tf.Tensor(1, shape=(), dtype=int32)\n",
            "Executing op StridedSlice in device /job:localhost/replica:0/task:0/device:GPU:0\n",
            "tf.Tensor(2, shape=(), dtype=int32)\n",
            "Executing op StridedSlice in device /job:localhost/replica:0/task:0/device:GPU:0\n",
            "tf.Tensor(3, shape=(), dtype=int32)\n"
          ],
          "name": "stdout"
        }
      ]
    },
    {
      "cell_type": "markdown",
      "metadata": {
        "id": "PK7kKGJwPbl4"
      },
      "source": [
        "#### 변수 Variable\r\n",
        "\r\n",
        "-> shared, persistment state\r\n",
        "  - 값을 변경 가능하고 지속됨\r\n",
        "  - 상태따라 저장 가능\r\n",
        "  - Python data persistent 파일 저장\r\n",
        "- > tracked 메소드 통한 관리\r\n",
        "- shape, dtype 에 따라 값 할당 여부 결정\r\n"
      ]
    },
    {
      "cell_type": "markdown",
      "metadata": {
        "id": "oyEuwUy7NAKo"
      },
      "source": [
        "모든 연산에서는 GPU 사용하지 않음"
      ]
    },
    {
      "cell_type": "code",
      "metadata": {
        "colab": {
          "base_uri": "https://localhost:8080/"
        },
        "id": "tnzN1RR8NLjL",
        "outputId": "d1aadb23-971d-4f5f-8b14-9398d35d41b7"
      },
      "source": [
        "tf.Variable([1,2,3])  #클래스/객체   int32"
      ],
      "execution_count": 8,
      "outputs": [
        {
          "output_type": "stream",
          "text": [
            "Executing op VarHandleOp in device /job:localhost/replica:0/task:0/device:CPU:0\n",
            "Executing op AssignVariableOp in device /job:localhost/replica:0/task:0/device:CPU:0\n",
            "Executing op ReadVariableOp in device /job:localhost/replica:0/task:0/device:CPU:0\n",
            "Executing op Identity in device /job:localhost/replica:0/task:0/device:GPU:0\n"
          ],
          "name": "stdout"
        },
        {
          "output_type": "execute_result",
          "data": {
            "text/plain": [
              "<tf.Variable 'Variable:0' shape=(3,) dtype=int32, numpy=array([1, 2, 3], dtype=int32)>"
            ]
          },
          "metadata": {
            "tags": []
          },
          "execution_count": 8
        }
      ]
    },
    {
      "cell_type": "code",
      "metadata": {
        "colab": {
          "base_uri": "https://localhost:8080/"
        },
        "id": "2K3g1EnANVQJ",
        "outputId": "fd364f00-284e-4ead-ab11-5fae37b37f8d"
      },
      "source": [
        "a= tf.Variable( 1. )  #float32 "
      ],
      "execution_count": 29,
      "outputs": [
        {
          "output_type": "stream",
          "text": [
            "Executing op VarHandleOp in device /job:localhost/replica:0/task:0/device:GPU:0\n",
            "Executing op AssignVariableOp in device /job:localhost/replica:0/task:0/device:GPU:0\n"
          ],
          "name": "stdout"
        }
      ]
    },
    {
      "cell_type": "code",
      "metadata": {
        "colab": {
          "base_uri": "https://localhost:8080/"
        },
        "id": "GE4kq5O5OJYu",
        "outputId": "7e0f67e4-4af3-4b60-fd57-7276dc40f7b8"
      },
      "source": [
        "id(a)"
      ],
      "execution_count": 30,
      "outputs": [
        {
          "output_type": "execute_result",
          "data": {
            "text/plain": [
              "140110513570872"
            ]
          },
          "metadata": {
            "tags": []
          },
          "execution_count": 30
        }
      ]
    },
    {
      "cell_type": "code",
      "metadata": {
        "colab": {
          "base_uri": "https://localhost:8080/"
        },
        "id": "vLtSD86WNp5Y",
        "outputId": "6105ca24-1d50-42b2-a9f3-b694ec4407ae"
      },
      "source": [
        "a.shape # shape 동일해야함"
      ],
      "execution_count": 31,
      "outputs": [
        {
          "output_type": "execute_result",
          "data": {
            "text/plain": [
              "TensorShape([])"
            ]
          },
          "metadata": {
            "tags": []
          },
          "execution_count": 31
        }
      ]
    },
    {
      "cell_type": "markdown",
      "metadata": {
        "id": "VNCg4o6SOk77"
      },
      "source": [
        "#### assign\r\n",
        "- shape, dtype 일치해야 변경 가능"
      ]
    },
    {
      "cell_type": "markdown",
      "metadata": {
        "id": "_9gHjV1mNmOY"
      },
      "source": [
        "값을 할당 하므로써 자신을 바꿀 수 있음"
      ]
    },
    {
      "cell_type": "code",
      "metadata": {
        "colab": {
          "base_uri": "https://localhost:8080/"
        },
        "id": "pzjHIOgFNeQM",
        "outputId": "965b3a99-2c9e-444e-b9a6-646b5e0c9ddd"
      },
      "source": [
        "a.assign(3) #shape 에 맞춰 값을 바꿈"
      ],
      "execution_count": 32,
      "outputs": [
        {
          "output_type": "stream",
          "text": [
            "Executing op AssignVariableOp in device /job:localhost/replica:0/task:0/device:GPU:0\n",
            "Executing op ReadVariableOp in device /job:localhost/replica:0/task:0/device:GPU:0\n"
          ],
          "name": "stdout"
        },
        {
          "output_type": "execute_result",
          "data": {
            "text/plain": [
              "<tf.Variable 'UnreadVariable' shape=() dtype=float32, numpy=3.0>"
            ]
          },
          "metadata": {
            "tags": []
          },
          "execution_count": 32
        }
      ]
    },
    {
      "cell_type": "code",
      "metadata": {
        "colab": {
          "base_uri": "https://localhost:8080/"
        },
        "id": "wMuiE2t9NyO3",
        "outputId": "abdc4e23-31e8-4eb2-9127-2e7bff58f65c"
      },
      "source": [
        "id(a)  #주소 동일함 "
      ],
      "execution_count": 33,
      "outputs": [
        {
          "output_type": "execute_result",
          "data": {
            "text/plain": [
              "140110513570872"
            ]
          },
          "metadata": {
            "tags": []
          },
          "execution_count": 33
        }
      ]
    },
    {
      "cell_type": "code",
      "metadata": {
        "colab": {
          "base_uri": "https://localhost:8080/"
        },
        "id": "fiQrkDLhOAw5",
        "outputId": "480d1f7a-6c7d-4023-fca9-3e346dda8ac6"
      },
      "source": [
        "a"
      ],
      "execution_count": 34,
      "outputs": [
        {
          "output_type": "stream",
          "text": [
            "Executing op ReadVariableOp in device /job:localhost/replica:0/task:0/device:GPU:0\n",
            "Executing op Identity in device /job:localhost/replica:0/task:0/device:GPU:0\n"
          ],
          "name": "stdout"
        },
        {
          "output_type": "execute_result",
          "data": {
            "text/plain": [
              "<tf.Variable 'Variable:0' shape=() dtype=float32, numpy=3.0>"
            ]
          },
          "metadata": {
            "tags": []
          },
          "execution_count": 34
        }
      ]
    },
    {
      "cell_type": "code",
      "metadata": {
        "colab": {
          "base_uri": "https://localhost:8080/"
        },
        "id": "Gtct55ATOBu9",
        "outputId": "321607db-b4ad-46c4-8ef9-3255f1112399"
      },
      "source": [
        "a= tf.Variable( 2 )\r\n",
        "a.shape "
      ],
      "execution_count": 35,
      "outputs": [
        {
          "output_type": "stream",
          "text": [
            "Executing op VarHandleOp in device /job:localhost/replica:0/task:0/device:CPU:0\n",
            "Executing op AssignVariableOp in device /job:localhost/replica:0/task:0/device:CPU:0\n"
          ],
          "name": "stdout"
        },
        {
          "output_type": "execute_result",
          "data": {
            "text/plain": [
              "TensorShape([])"
            ]
          },
          "metadata": {
            "tags": []
          },
          "execution_count": 35
        }
      ]
    },
    {
      "cell_type": "code",
      "metadata": {
        "colab": {
          "base_uri": "https://localhost:8080/"
        },
        "id": "nu_y7prQOZaH",
        "outputId": "a964cf9b-961e-4e27-b4f4-0ea6c24cc631"
      },
      "source": [
        "a.dtype"
      ],
      "execution_count": 36,
      "outputs": [
        {
          "output_type": "execute_result",
          "data": {
            "text/plain": [
              "tf.int32"
            ]
          },
          "metadata": {
            "tags": []
          },
          "execution_count": 36
        }
      ]
    },
    {
      "cell_type": "code",
      "metadata": {
        "colab": {
          "base_uri": "https://localhost:8080/"
        },
        "id": "p_hok7QPOaHY",
        "outputId": "5ea29e9a-847e-427b-9f16-7344c7bc8a74"
      },
      "source": [
        "id(a)"
      ],
      "execution_count": 37,
      "outputs": [
        {
          "output_type": "execute_result",
          "data": {
            "text/plain": [
              "140110486376232"
            ]
          },
          "metadata": {
            "tags": []
          },
          "execution_count": 37
        }
      ]
    },
    {
      "cell_type": "code",
      "metadata": {
        "colab": {
          "base_uri": "https://localhost:8080/"
        },
        "id": "1T0dJbCzOafx",
        "outputId": "713e6731-0a53-4b92-8cc6-6605fb7539a4"
      },
      "source": [
        "a.assign( 3 ) #Variable "
      ],
      "execution_count": 40,
      "outputs": [
        {
          "output_type": "stream",
          "text": [
            "Executing op AssignVariableOp in device /job:localhost/replica:0/task:0/device:CPU:0\n",
            "Executing op ReadVariableOp in device /job:localhost/replica:0/task:0/device:CPU:0\n"
          ],
          "name": "stdout"
        },
        {
          "output_type": "execute_result",
          "data": {
            "text/plain": [
              "<tf.Variable 'UnreadVariable' shape=() dtype=int32, numpy=3>"
            ]
          },
          "metadata": {
            "tags": []
          },
          "execution_count": 40
        }
      ]
    },
    {
      "cell_type": "markdown",
      "metadata": {
        "id": "SkWiEoSlO4Uy"
      },
      "source": [
        "#### 호환\r\n",
        "- 호환 : 메소드 보다는 함수(변환)\r\n",
        "  - convert_to_tensor 텐서로 변환\r\n",
        "  - .numpy()          넘파이로 변환\r\n",
        "\r\n",
        "- 상수 미분하면 0이므로 변수 사용"
      ]
    },
    {
      "cell_type": "code",
      "metadata": {
        "colab": {
          "base_uri": "https://localhost:8080/"
        },
        "id": "cfz9xuRWOdE9",
        "outputId": "2a2b92bf-2ce1-41dd-c4ab-060172bc5d16"
      },
      "source": [
        "t= tf.convert_to_tensor(a) #Variable  -> 텐서로 변환\r\n",
        "t"
      ],
      "execution_count": 43,
      "outputs": [
        {
          "output_type": "stream",
          "text": [
            "Executing op ReadVariableOp in device /job:localhost/replica:0/task:0/device:CPU:0\n"
          ],
          "name": "stdout"
        },
        {
          "output_type": "execute_result",
          "data": {
            "text/plain": [
              "<tf.Tensor: shape=(), dtype=int32, numpy=3>"
            ]
          },
          "metadata": {
            "tags": []
          },
          "execution_count": 43
        }
      ]
    },
    {
      "cell_type": "code",
      "metadata": {
        "colab": {
          "base_uri": "https://localhost:8080/"
        },
        "id": "e2M40aRKPo9u",
        "outputId": "93cc47f1-6e05-4ad1-81fd-c140c9a3f0f8"
      },
      "source": [
        "tf.Variable(t) #텐서 -> Variable"
      ],
      "execution_count": 44,
      "outputs": [
        {
          "output_type": "stream",
          "text": [
            "Executing op VarHandleOp in device /job:localhost/replica:0/task:0/device:CPU:0\n",
            "Executing op AssignVariableOp in device /job:localhost/replica:0/task:0/device:CPU:0\n",
            "Executing op ReadVariableOp in device /job:localhost/replica:0/task:0/device:CPU:0\n",
            "Executing op Identity in device /job:localhost/replica:0/task:0/device:GPU:0\n"
          ],
          "name": "stdout"
        },
        {
          "output_type": "execute_result",
          "data": {
            "text/plain": [
              "<tf.Variable 'Variable:0' shape=() dtype=int32, numpy=3>"
            ]
          },
          "metadata": {
            "tags": []
          },
          "execution_count": 44
        }
      ]
    },
    {
      "cell_type": "code",
      "metadata": {
        "colab": {
          "base_uri": "https://localhost:8080/"
        },
        "id": "CdriqBX2P382",
        "outputId": "2a07e372-b6e7-48ca-9022-4506dc0c2c90"
      },
      "source": [
        "a.numpy()  #tf -> numpy"
      ],
      "execution_count": 45,
      "outputs": [
        {
          "output_type": "stream",
          "text": [
            "Executing op ReadVariableOp in device /job:localhost/replica:0/task:0/device:CPU:0\n",
            "Executing op Identity in device /job:localhost/replica:0/task:0/device:GPU:0\n"
          ],
          "name": "stdout"
        },
        {
          "output_type": "execute_result",
          "data": {
            "text/plain": [
              "3"
            ]
          },
          "metadata": {
            "tags": []
          },
          "execution_count": 45
        }
      ]
    },
    {
      "cell_type": "markdown",
      "metadata": {
        "id": "Nc2BLEOKSuti"
      },
      "source": [
        "- reshape 불가\r\n",
        "  - 내부적으로 **copy**해서 새로운 텐서 생성"
      ]
    },
    {
      "cell_type": "code",
      "metadata": {
        "colab": {
          "base_uri": "https://localhost:8080/"
        },
        "id": "gDwbvCFtQDrN",
        "outputId": "61e1730e-ca85-4431-ab76-c7ca7e838b59"
      },
      "source": [
        "b= tf.reshape(a,[1])"
      ],
      "execution_count": 47,
      "outputs": [
        {
          "output_type": "stream",
          "text": [
            "Executing op ReadVariableOp in device /job:localhost/replica:0/task:0/device:CPU:0\n",
            "Executing op Reshape in device /job:localhost/replica:0/task:0/device:GPU:0\n"
          ],
          "name": "stdout"
        }
      ]
    },
    {
      "cell_type": "code",
      "metadata": {
        "colab": {
          "base_uri": "https://localhost:8080/"
        },
        "id": "c21MOQ0bSj35",
        "outputId": "0911ca9b-a748-44a0-c599-82ce65fc7a71"
      },
      "source": [
        "id(a), id(b) #reshape 하게 되면 id값이 변경됨"
      ],
      "execution_count": 48,
      "outputs": [
        {
          "output_type": "execute_result",
          "data": {
            "text/plain": [
              "(140110486376232, 140110485766920)"
            ]
          },
          "metadata": {
            "tags": []
          },
          "execution_count": 48
        }
      ]
    },
    {
      "cell_type": "markdown",
      "metadata": {
        "id": "FhHy92PoTFI8"
      },
      "source": [
        "- 파이써 기반 TF Python 객체와 동일한 생명 주기를 갖음\r\n",
        "> - `trainable  = True/ False`: 학습 여부 선택\r\n"
      ]
    },
    {
      "cell_type": "markdown",
      "metadata": {
        "id": "79JiXbt9QUPT"
      },
      "source": [
        "### 1. 저수준 프로그래밍  \r\n",
        "- Numpy -> Tensor 상호호환 가능 \r\n",
        "  - Numpy: 다양한 기능 제공\r\n",
        "  - Tensor: GPU,TPU\r\n",
        "- 이미 만들어진 기능을 사용하는게 더 편리함\r\n",
        "\r\n"
      ]
    },
    {
      "cell_type": "code",
      "metadata": {
        "id": "cVRO-IwoSoYt"
      },
      "source": [
        "import numpy as np\r\n",
        "import tensorflow as tf"
      ],
      "execution_count": 1,
      "outputs": []
    },
    {
      "cell_type": "markdown",
      "metadata": {
        "id": "3Jg-Bb48XZtE"
      },
      "source": [
        "2차식 찾기\r\n",
        "- $ y=  ax^2 +bx+c $ \r\n",
        "   - 최적의 변수 $a,b,c$ 찾기\r\n"
      ]
    },
    {
      "cell_type": "code",
      "metadata": {
        "colab": {
          "base_uri": "https://localhost:8080/"
        },
        "id": "_KakJ8I4Tl5z",
        "outputId": "ccfc084d-f71e-435a-aaef-53a4316b56bf"
      },
      "source": [
        "#학습을 통해서에 가장 적합한 변수 w 찾기\r\n",
        "w=tf.Variable(tf.random.normal([3,1])) #a,b,c 값 랜덤 생성\r\n",
        "w"
      ],
      "execution_count": 2,
      "outputs": [
        {
          "output_type": "execute_result",
          "data": {
            "text/plain": [
              "<tf.Variable 'Variable:0' shape=(3, 1) dtype=float32, numpy=\n",
              "array([[ 0.5311235 ],\n",
              "       [-0.76440626],\n",
              "       [-0.03523445]], dtype=float32)>"
            ]
          },
          "metadata": {
            "tags": []
          },
          "execution_count": 2
        }
      ]
    },
    {
      "cell_type": "code",
      "metadata": {
        "id": "b4kRdT5iUFB-"
      },
      "source": [
        "optimizer= tf.optimizers.Adam( .1) #NN에서 많이 사용하는 adam 옵티마이저 사용"
      ],
      "execution_count": 4,
      "outputs": []
    },
    {
      "cell_type": "code",
      "metadata": {
        "id": "UB6lfI6gUb2m"
      },
      "source": [
        "def model(x):\r\n",
        "  f=tf.stack( [tf.square(x),x,tf.ones_like(x)],1)\r\n",
        "  yhat=tf.squeeze(tf.matmul(f, w),1)      #차원\r\n",
        "  return yhat"
      ],
      "execution_count": 13,
      "outputs": []
    },
    {
      "cell_type": "code",
      "metadata": {
        "id": "nkL7tgoDU4I2"
      },
      "source": [
        "def loss_computed(yhat,y):  #loss 최소화 \r\n",
        "  loss =tf.nn.l2_loss( yhat-y)  + 0.1 * tf.nn.l2_loss(w)  \r\n",
        "  return loss"
      ],
      "execution_count": 14,
      "outputs": []
    },
    {
      "cell_type": "markdown",
      "metadata": {
        "id": "_fuDIZe9Vgml"
      },
      "source": [
        "데이터는 가장 범용적인 Numpy로 주로 사용\r\n",
        "- resource 주의"
      ]
    },
    {
      "cell_type": "code",
      "metadata": {
        "id": "_V1fFeDtVWqY"
      },
      "source": [
        "def generator_data(): \r\n",
        "  ''' 가짜데이터 생성'''\r\n",
        "  x= np.random.uniform(-10,10,size=100).astype('f4')\r\n",
        "  y= 5*np.square(x) +2\r\n",
        "  return x,y"
      ],
      "execution_count": 15,
      "outputs": []
    },
    {
      "cell_type": "code",
      "metadata": {
        "id": "4V3aoE3jV4e-"
      },
      "source": [
        "#학습\r\n",
        "def train_step():\r\n",
        "  x,y=generator_data()         # 가짜 데이터 생성\r\n",
        "  def _loss():\r\n",
        "    yhat= model(x)             # 모델 \r\n",
        "    loss=loss_computed(y,yhat) # loss 최소화\r\n",
        "    return loss\r\n",
        "  optimizer.minimize(_loss, [w] ) # 함수형 패러다임 ->인자를 함수로"
      ],
      "execution_count": 16,
      "outputs": []
    },
    {
      "cell_type": "code",
      "metadata": {
        "id": "DReh_JZgWZv2"
      },
      "source": [
        "for _ in range(100): # 학습\r\n",
        "  train_step()"
      ],
      "execution_count": 17,
      "outputs": []
    },
    {
      "cell_type": "code",
      "metadata": {
        "colab": {
          "base_uri": "https://localhost:8080/"
        },
        "id": "QvZhEJLxWi0V",
        "outputId": "a6f53294-e549-4aec-f208-84e32dd42223"
      },
      "source": [
        "w.numpy()            # 학습 후 변경됨"
      ],
      "execution_count": 18,
      "outputs": [
        {
          "output_type": "execute_result",
          "data": {
            "text/plain": [
              "array([[5.0059676 ],\n",
              "       [0.01955208],\n",
              "       [4.388008  ]], dtype=float32)"
            ]
          },
          "metadata": {
            "tags": []
          },
          "execution_count": 18
        }
      ]
    },
    {
      "cell_type": "markdown",
      "metadata": {
        "id": "UPiLERsnYiMD"
      },
      "source": [
        "> #### TF 5가지 구현 방식\r\n",
        "  1. Tensor 저수준 구현\r\n",
        "  2. Estimator\r\n",
        "  3. keras 의 Sequential  \r\n",
        "  - [텐서플로우 공식 문서 예시](https://www.tensorflow.org/tutorials/quickstart/beginner?hl=ko)\r\n",
        "    - 복잡한 모델 만들기 불가한 단방향 모델\r\n",
        "  4. keras 의 Model  **함수형 패러다임 방식**\r\n",
        "  5. keras 의 Model 상속\r\n",
        "\r\n",
        "\r\n",
        "\r\n",
        " > [Effective TF2.0](https://www.tensorflow.org/guide/effective_tf2?hl=ko)\r\n",
        "  - keras 전면 도입\r\n",
        "  - 함수형 패러다임 \r\n",
        "  - 케라스 layer 과 모델을 사용\r\n",
        "\r\n",
        "  - 이론과 실제의 간극을 줄임\r\n",
        "    - 누구나 쉽게 사용 가능 \r\n",
        "    - 다양성 부족, 복잡한 모델 생성 불가\r\n",
        "    - 함수형 패러다임 사용\r\n",
        "\r\n",
        "\r\n",
        "#### Functional Paradigm\r\n",
        "1. 함수 선언/정의\r\n",
        "  - control flow 사용\r\n",
        "2. composition / recursion \r\n",
        "\r\n",
        "- 장점: 형식적 증명 가능성 \r\n",
        "  - 이론,실제의 간극을 줄임\r\n",
        "\r\n",
        "- Python의 함수는 First-class Function/ higher-order function\r\n",
        "  - 함수를 객체처럼 사용\r\n",
        "  - callable : `()` 붙이는 여부\r\n",
        "    - 클래스, 함수, `__call__` 정의된 클래스의 인스턴스\r\n",
        "\r\n",
        "\r\n",
        "두가지 형태\r\n",
        "  1. function\r\n",
        "  2. class/object를 function 처럼 "
      ]
    },
    {
      "cell_type": "code",
      "metadata": {
        "id": "7Kg0CYEnhBaR"
      },
      "source": [
        "a= int()"
      ],
      "execution_count": 19,
      "outputs": []
    },
    {
      "cell_type": "code",
      "metadata": {
        "colab": {
          "base_uri": "https://localhost:8080/",
          "height": 173
        },
        "id": "oRhFRcymWpEX",
        "outputId": "0843f324-afe5-4db5-a86f-b33672a68d3c"
      },
      "source": [
        "a() #not callable"
      ],
      "execution_count": 20,
      "outputs": [
        {
          "output_type": "error",
          "ename": "TypeError",
          "evalue": "ignored",
          "traceback": [
            "\u001b[0;31m---------------------------------------------------------------------------\u001b[0m",
            "\u001b[0;31mTypeError\u001b[0m                                 Traceback (most recent call last)",
            "\u001b[0;32m<ipython-input-20-5f649bf8e97a>\u001b[0m in \u001b[0;36m<module>\u001b[0;34m()\u001b[0m\n\u001b[0;32m----> 1\u001b[0;31m \u001b[0ma\u001b[0m\u001b[0;34m(\u001b[0m\u001b[0;34m)\u001b[0m \u001b[0;31m#\u001b[0m\u001b[0;34m\u001b[0m\u001b[0;34m\u001b[0m\u001b[0m\n\u001b[0m",
            "\u001b[0;31mTypeError\u001b[0m: 'int' object is not callable"
          ]
        }
      ]
    },
    {
      "cell_type": "markdown",
      "metadata": {
        "id": "pKSzSpRjiYUe"
      },
      "source": [
        "### 3.  keras 의 Sequential  \r\n",
        "- 모델을 함수로 만듦\r\n",
        "- 함수형 패러다임 + 객체지향 패러다임 혼용\r\n",
        "- tf.keras.models.Sequential\r\n",
        "  - **가장 간단한 단반향 모델**\r\n",
        "    - 간단한 신겸망 모델은 단반향으로 충분 \r\n",
        "      - Feed forward, backpropagation\r\n",
        "      - 각 레이어의 출력은 그 다음 레이어의 입력이 되어 reduction함\r\n",
        "  -  `tf.keras.models.Model`로 부터 상속 받음\r\n",
        "\r\n",
        "- 신경망의 각 레이어를 함수로 볼수 있음\r\n",
        "- 모델은 각 레이어로 이루어진 합성함수"
      ]
    },
    {
      "cell_type": "code",
      "metadata": {
        "id": "cccZMUUbhFSj"
      },
      "source": [
        "import tensorflow as tf"
      ],
      "execution_count": 21,
      "outputs": []
    },
    {
      "cell_type": "code",
      "metadata": {
        "id": "Skb7rPk6icHc"
      },
      "source": [
        "model= tf.keras.models.Sequential() #Sequential 모델은 함수"
      ],
      "execution_count": 25,
      "outputs": []
    },
    {
      "cell_type": "code",
      "metadata": {
        "colab": {
          "base_uri": "https://localhost:8080/"
        },
        "id": "obaPu7e8iqMT",
        "outputId": "e52818eb-9fc0-46ed-c7c1-8218cb2260f2"
      },
      "source": [
        "callable(model)  #callable 임"
      ],
      "execution_count": 26,
      "outputs": [
        {
          "output_type": "execute_result",
          "data": {
            "text/plain": [
              "True"
            ]
          },
          "metadata": {
            "tags": []
          },
          "execution_count": 26
        }
      ]
    },
    {
      "cell_type": "code",
      "metadata": {
        "id": "kfqZbIXBirFN"
      },
      "source": [
        "model_= tf.keras.models.Model()"
      ],
      "execution_count": 27,
      "outputs": []
    },
    {
      "cell_type": "code",
      "metadata": {
        "colab": {
          "base_uri": "https://localhost:8080/"
        },
        "id": "flQljUmFjNGm",
        "outputId": "baa1fbe5-5f83-45bb-f265-3a60e160dfbb"
      },
      "source": [
        "issubclass(model.__class__ , model_.__class__) #Model로부터 상속해서 간단하게 만듦"
      ],
      "execution_count": 28,
      "outputs": [
        {
          "output_type": "execute_result",
          "data": {
            "text/plain": [
              "True"
            ]
          },
          "metadata": {
            "tags": []
          },
          "execution_count": 28
        }
      ]
    },
    {
      "cell_type": "markdown",
      "metadata": {
        "id": "MVQFyQlNksWn"
      },
      "source": [
        "### Dense\r\n",
        "- fully connected/ dense\r\n",
        "- neuron/unit 갯수\r\n"
      ]
    },
    {
      "cell_type": "code",
      "metadata": {
        "id": "UZ6uwmR4jQA6"
      },
      "source": [
        "layer = tf.keras.layers.Dense(16 )  #이미 구현된 dense 레이어( 16개의 뉴론) "
      ],
      "execution_count": 29,
      "outputs": []
    },
    {
      "cell_type": "code",
      "metadata": {
        "colab": {
          "base_uri": "https://localhost:8080/"
        },
        "id": "IWQA-N3MkrdH",
        "outputId": "055ef558-e7f7-47b0-8d90-4ec9d78b222f"
      },
      "source": [
        "callable(layer) #() 붙일수 있음"
      ],
      "execution_count": 30,
      "outputs": [
        {
          "output_type": "execute_result",
          "data": {
            "text/plain": [
              "True"
            ]
          },
          "metadata": {
            "tags": []
          },
          "execution_count": 30
        }
      ]
    },
    {
      "cell_type": "markdown",
      "metadata": {
        "id": "Hppu5_qJldxj"
      },
      "source": [
        "레이어 조합해서 모델 구축\r\n",
        "1. 모델 함수 선언, 정의\r\n",
        "2. model.add : 동적으로 레이어 추가 가능 \r\n",
        "  - 전이 학습에 유용"
      ]
    },
    {
      "cell_type": "code",
      "metadata": {
        "id": "DaL72MTSlZvX"
      },
      "source": [
        "model =tf.keras.models.Sequential([\r\n",
        "   tf.keras.layers.Dense(16 ) ,\r\n",
        "   tf.keras.layers.Dense(16 )                                 \r\n",
        "])"
      ],
      "execution_count": 32,
      "outputs": []
    },
    {
      "cell_type": "code",
      "metadata": {
        "colab": {
          "base_uri": "https://localhost:8080/"
        },
        "id": "EutF4ZAsmEwW",
        "outputId": "474fecaa-4af9-43a9-b761-e6c863d95253"
      },
      "source": [
        "model.layers"
      ],
      "execution_count": 33,
      "outputs": [
        {
          "output_type": "execute_result",
          "data": {
            "text/plain": [
              "[<tensorflow.python.keras.layers.core.Dense at 0x7f4fb069cb38>,\n",
              " <tensorflow.python.keras.layers.core.Dense at 0x7f4fc03bcb70>]"
            ]
          },
          "metadata": {
            "tags": []
          },
          "execution_count": 33
        }
      ]
    },
    {
      "cell_type": "code",
      "metadata": {
        "id": "seODtKfylwZO"
      },
      "source": [
        "model.add(tf.keras.layers.Dense(16 )) #동적으로 추가 삭제"
      ],
      "execution_count": 34,
      "outputs": []
    },
    {
      "cell_type": "code",
      "metadata": {
        "colab": {
          "base_uri": "https://localhost:8080/"
        },
        "id": "F0flPP46mGCZ",
        "outputId": "ad62aba1-029b-4785-c4a0-b8c40e7d247c"
      },
      "source": [
        "model.layers"
      ],
      "execution_count": 35,
      "outputs": [
        {
          "output_type": "execute_result",
          "data": {
            "text/plain": [
              "[<tensorflow.python.keras.layers.core.Dense at 0x7f4fb069cb38>,\n",
              " <tensorflow.python.keras.layers.core.Dense at 0x7f4fc03bcb70>,\n",
              " <tensorflow.python.keras.layers.core.Dense at 0x7f4fb0635710>]"
            ]
          },
          "metadata": {
            "tags": []
          },
          "execution_count": 35
        }
      ]
    },
    {
      "cell_type": "markdown",
      "metadata": {
        "id": "e5pklNPemWah"
      },
      "source": [
        "이론, 실제와의 간극을 줄임\r\n",
        "\r\n",
        "- 행렬곱 : dense 인경우 matrix dot 연산으로도 볼 수 있음\r\n",
        "  - shape 중요함\r\n",
        "  - 처음과 끝만 알면 중간의 shape 자동 계산 가능 \r\n",
        "\r\n",
        "\r\n",
        "\r\n",
        "\r\n",
        "### layer \r\n",
        "- layer input, output 맞춰야함\r\n",
        "- input layer는 값 그대로를 입력 받기 때문에 레이어로 고려하지 않음\r\n",
        "  - keras에서는 input 레이어 쓰기도 하고 안쓰기도 함\r\n",
        "- 3-layers\r\n",
        "  - output layer 포함한 경우\r\n",
        "- 2-hidden layers\r\n",
        "  - output layer 포함하지 않은 경우\r\n",
        "\r\n",
        "#### input_shape\r\n",
        "\r\n"
      ]
    },
    {
      "cell_type": "code",
      "metadata": {
        "id": "wTdh8ocPmKlW"
      },
      "source": [
        "#input 을 지정하게 되면 output도 지정해야함\r\n",
        "model =tf.keras.models.Sequential([\r\n",
        "   tf.keras.layers.Dense(16 ,input_shape=(4,)) ,\r\n",
        "   tf.keras.layers.Dense(16 )  ,\r\n",
        "   tf.keras.layers.Dense(3 )                                    \r\n",
        "])"
      ],
      "execution_count": 37,
      "outputs": []
    },
    {
      "cell_type": "markdown",
      "metadata": {
        "id": "y5Rqm4byo7CN"
      },
      "source": [
        "### summary\r\n",
        "- 모델 설명\r\n",
        "- 각 레이어 별로 output shape, 파라미터 수 출력\r\n",
        "  - 파라미터: weight, bias 갯수\r\n",
        "\r\n",
        "> `None`  정해지지 않음\r\n",
        "  "
      ]
    },
    {
      "cell_type": "code",
      "metadata": {
        "colab": {
          "base_uri": "https://localhost:8080/"
        },
        "id": "l6wvHCYvoxAZ",
        "outputId": "dd761f90-3e99-443d-e7cc-875c8e209320"
      },
      "source": [
        "model.summary() #4 입력 -> 16개 -> 16개 -> 3개 출력"
      ],
      "execution_count": 38,
      "outputs": [
        {
          "output_type": "stream",
          "text": [
            "Model: \"sequential_4\"\n",
            "_________________________________________________________________\n",
            "Layer (type)                 Output Shape              Param #   \n",
            "=================================================================\n",
            "dense_6 (Dense)              (None, 16)                80        \n",
            "_________________________________________________________________\n",
            "dense_7 (Dense)              (None, 16)                272       \n",
            "_________________________________________________________________\n",
            "dense_8 (Dense)              (None, 3)                 51        \n",
            "=================================================================\n",
            "Total params: 403\n",
            "Trainable params: 403\n",
            "Non-trainable params: 0\n",
            "_________________________________________________________________\n"
          ],
          "name": "stdout"
        }
      ]
    },
    {
      "cell_type": "code",
      "metadata": {
        "id": "oDbyoU6bpLIU"
      },
      "source": [
        "import numpy as np\r\n",
        "a= np.arange(20).reshape(5,4)  #"
      ],
      "execution_count": 39,
      "outputs": []
    },
    {
      "cell_type": "code",
      "metadata": {
        "colab": {
          "base_uri": "https://localhost:8080/"
        },
        "id": "OJL5mfZOqN1U",
        "outputId": "2ec6b7a5-31e1-47af-96dc-c9dc39e3cf99"
      },
      "source": [
        "model(a)  #모델은 함수"
      ],
      "execution_count": 43,
      "outputs": [
        {
          "output_type": "execute_result",
          "data": {
            "text/plain": [
              "<tf.Tensor: shape=(5, 3), dtype=float32, numpy=\n",
              "array([[ 0.32624972,  0.6002434 , -0.25527495],\n",
              "       [ 1.2526925 ,  0.9425938 ,  1.3828313 ],\n",
              "       [ 2.179135  ,  1.2849454 ,  3.0209367 ],\n",
              "       [ 3.105577  ,  1.6272985 ,  4.6590424 ],\n",
              "       [ 4.0320206 ,  1.9696491 ,  6.297149  ]], dtype=float32)>"
            ]
          },
          "metadata": {
            "tags": []
          },
          "execution_count": 43
        }
      ]
    },
    {
      "cell_type": "code",
      "metadata": {
        "colab": {
          "base_uri": "https://localhost:8080/"
        },
        "id": "PiSsbPYQqWgo",
        "outputId": "c0f3950b-a1ba-43ad-a579-922b189bc5e2"
      },
      "source": [
        "model.layers[0](a) #각 레이어는 함수 "
      ],
      "execution_count": 42,
      "outputs": [
        {
          "output_type": "execute_result",
          "data": {
            "text/plain": [
              "<tf.Tensor: shape=(5, 16), dtype=float32, numpy=\n",
              "array([[ -0.4263265 ,  -0.98507565,   1.8777449 ,  -0.82631946,\n",
              "         -1.3081961 ,   1.0814507 ,   1.341785  ,   0.8079012 ,\n",
              "          0.27752775,   0.35215113,   0.20101613,  -0.7732402 ,\n",
              "         -0.35533544,  -0.90486187,   0.5761624 ,  -0.33124882],\n",
              "       [ -1.669876  ,  -3.6446903 ,   6.1437006 ,  -1.005423  ,\n",
              "         -2.4005523 ,   5.4749765 ,   4.033854  ,   3.2240946 ,\n",
              "         -1.9406427 ,   0.22596169,   0.49552202,  -3.0633862 ,\n",
              "          0.19820291,  -3.0358622 ,   2.3066592 ,  -3.426939  ],\n",
              "       [ -2.9134254 ,  -6.304305  ,  10.4096575 ,  -1.1845264 ,\n",
              "         -3.492909  ,   9.868502  ,   6.725924  ,   5.6402884 ,\n",
              "         -4.1588135 ,   0.09977198,   0.7900281 ,  -5.3535323 ,\n",
              "          0.7517412 ,  -5.1668625 ,   4.037156  ,  -6.5226293 ],\n",
              "       [ -4.1569743 ,  -8.963919  ,  14.675612  ,  -1.36363   ,\n",
              "         -4.585265  ,  14.262027  ,   9.417994  ,   8.056481  ,\n",
              "         -6.3769836 ,  -0.02641726,   1.0845339 ,  -7.643678  ,\n",
              "          1.3052795 ,  -7.297862  ,   5.767653  ,  -9.618319  ],\n",
              "       [ -5.400524  , -11.623534  ,  18.94157   ,  -1.5427334 ,\n",
              "         -5.6776223 ,  18.655554  ,  12.110063  ,  10.472675  ,\n",
              "         -8.595155  ,  -0.15260649,   1.3790398 ,  -9.933825  ,\n",
              "          1.8588178 ,  -9.428864  ,   7.49815   , -12.714009  ]],\n",
              "      dtype=float32)>"
            ]
          },
          "metadata": {
            "tags": []
          },
          "execution_count": 42
        }
      ]
    },
    {
      "cell_type": "markdown",
      "metadata": {
        "id": "RKBC_hv6owUH"
      },
      "source": [
        "#### tf.keras.layers.Input\r\n",
        "input이 레이어인 경우"
      ]
    },
    {
      "cell_type": "code",
      "metadata": {
        "id": "XZ9bFhDVoZRY"
      },
      "source": [
        "model =tf.keras.models.Sequential([ #위와 동일한 모델\r\n",
        "   tf.keras.layers.Input(shape=(4,)),\r\n",
        "   tf.keras.layers.Dense(16 ) ,\r\n",
        "   tf.keras.layers.Dense(16 ) ,\r\n",
        "   tf.keras.layers.Dense(3 )                  \r\n",
        "])"
      ],
      "execution_count": 45,
      "outputs": []
    },
    {
      "cell_type": "code",
      "metadata": {
        "colab": {
          "base_uri": "https://localhost:8080/"
        },
        "id": "MkHZ9OrhrAhj",
        "outputId": "8f50856e-f335-4a8b-e203-7b6fcca8053e"
      },
      "source": [
        "model.summary()  "
      ],
      "execution_count": 47,
      "outputs": [
        {
          "output_type": "stream",
          "text": [
            "Model: \"sequential_5\"\n",
            "_________________________________________________________________\n",
            "Layer (type)                 Output Shape              Param #   \n",
            "=================================================================\n",
            "dense_9 (Dense)              (None, 16)                80        \n",
            "_________________________________________________________________\n",
            "dense_10 (Dense)             (None, 16)                272       \n",
            "_________________________________________________________________\n",
            "dense_11 (Dense)             (None, 3)                 51        \n",
            "=================================================================\n",
            "Total params: 403\n",
            "Trainable params: 403\n",
            "Non-trainable params: 0\n",
            "_________________________________________________________________\n"
          ],
          "name": "stdout"
        }
      ]
    },
    {
      "cell_type": "markdown",
      "metadata": {
        "id": "ZWFqO6KiwFUV"
      },
      "source": [
        "tensor와 numpy 상호호환 가능"
      ]
    },
    {
      "cell_type": "code",
      "metadata": {
        "colab": {
          "base_uri": "https://localhost:8080/"
        },
        "id": "EK8tfA7kq87C",
        "outputId": "b5d9e5e8-637a-469c-f3c6-8884416701cc"
      },
      "source": [
        "model(a)   # 모델은 함수"
      ],
      "execution_count": 46,
      "outputs": [
        {
          "output_type": "execute_result",
          "data": {
            "text/plain": [
              "<tf.Tensor: shape=(5, 3), dtype=float32, numpy=\n",
              "array([[  0.09218484,   0.9104215 ,  -1.8289139 ],\n",
              "       [ -1.1155668 ,   2.9936497 ,  -5.5287285 ],\n",
              "       [ -2.3233187 ,   5.0768785 ,  -9.228545  ],\n",
              "       [ -3.531072  ,   7.1601057 , -12.928359  ],\n",
              "       [ -4.738825  ,   9.243334  , -16.628176  ]], dtype=float32)>"
            ]
          },
          "metadata": {
            "tags": []
          },
          "execution_count": 46
        }
      ]
    },
    {
      "cell_type": "markdown",
      "metadata": {
        "id": "v84gecSEw0qF"
      },
      "source": [
        "OpenCV연습용 데이터 텐서에 넣음\r\n",
        "- "
      ]
    },
    {
      "cell_type": "code",
      "metadata": {
        "id": "vYY5hIMhrCnh"
      },
      "source": [
        "from sklearn.datasets import load_iris"
      ],
      "execution_count": 48,
      "outputs": []
    },
    {
      "cell_type": "code",
      "metadata": {
        "id": "OtEfLtMDxIlI"
      },
      "source": [
        "data = load_iris()"
      ],
      "execution_count": 50,
      "outputs": []
    },
    {
      "cell_type": "code",
      "metadata": {
        "id": "CVvU-gUwxKC6"
      },
      "source": [
        "import pandas as pd"
      ],
      "execution_count": 52,
      "outputs": []
    },
    {
      "cell_type": "code",
      "metadata": {
        "id": "QClb_olVxLs6"
      },
      "source": [
        "import seaborn as sns"
      ],
      "execution_count": 54,
      "outputs": []
    },
    {
      "cell_type": "markdown",
      "metadata": {
        "id": "74eNzkHpxfJt"
      },
      "source": [
        "모델 구축에서 input,output shape 가장 중요"
      ]
    },
    {
      "cell_type": "code",
      "metadata": {
        "colab": {
          "base_uri": "https://localhost:8080/",
          "height": 407
        },
        "id": "n1Fg8XSUx2oM",
        "outputId": "88a0061c-a950-4d4c-89d1-c910c8896ddc"
      },
      "source": [
        "iris= sns.load_dataset('iris')\r\n",
        "iris"
      ],
      "execution_count": 56,
      "outputs": [
        {
          "output_type": "execute_result",
          "data": {
            "text/html": [
              "<div>\n",
              "<style scoped>\n",
              "    .dataframe tbody tr th:only-of-type {\n",
              "        vertical-align: middle;\n",
              "    }\n",
              "\n",
              "    .dataframe tbody tr th {\n",
              "        vertical-align: top;\n",
              "    }\n",
              "\n",
              "    .dataframe thead th {\n",
              "        text-align: right;\n",
              "    }\n",
              "</style>\n",
              "<table border=\"1\" class=\"dataframe\">\n",
              "  <thead>\n",
              "    <tr style=\"text-align: right;\">\n",
              "      <th></th>\n",
              "      <th>sepal_length</th>\n",
              "      <th>sepal_width</th>\n",
              "      <th>petal_length</th>\n",
              "      <th>petal_width</th>\n",
              "      <th>species</th>\n",
              "    </tr>\n",
              "  </thead>\n",
              "  <tbody>\n",
              "    <tr>\n",
              "      <th>0</th>\n",
              "      <td>5.1</td>\n",
              "      <td>3.5</td>\n",
              "      <td>1.4</td>\n",
              "      <td>0.2</td>\n",
              "      <td>setosa</td>\n",
              "    </tr>\n",
              "    <tr>\n",
              "      <th>1</th>\n",
              "      <td>4.9</td>\n",
              "      <td>3.0</td>\n",
              "      <td>1.4</td>\n",
              "      <td>0.2</td>\n",
              "      <td>setosa</td>\n",
              "    </tr>\n",
              "    <tr>\n",
              "      <th>2</th>\n",
              "      <td>4.7</td>\n",
              "      <td>3.2</td>\n",
              "      <td>1.3</td>\n",
              "      <td>0.2</td>\n",
              "      <td>setosa</td>\n",
              "    </tr>\n",
              "    <tr>\n",
              "      <th>3</th>\n",
              "      <td>4.6</td>\n",
              "      <td>3.1</td>\n",
              "      <td>1.5</td>\n",
              "      <td>0.2</td>\n",
              "      <td>setosa</td>\n",
              "    </tr>\n",
              "    <tr>\n",
              "      <th>4</th>\n",
              "      <td>5.0</td>\n",
              "      <td>3.6</td>\n",
              "      <td>1.4</td>\n",
              "      <td>0.2</td>\n",
              "      <td>setosa</td>\n",
              "    </tr>\n",
              "    <tr>\n",
              "      <th>...</th>\n",
              "      <td>...</td>\n",
              "      <td>...</td>\n",
              "      <td>...</td>\n",
              "      <td>...</td>\n",
              "      <td>...</td>\n",
              "    </tr>\n",
              "    <tr>\n",
              "      <th>145</th>\n",
              "      <td>6.7</td>\n",
              "      <td>3.0</td>\n",
              "      <td>5.2</td>\n",
              "      <td>2.3</td>\n",
              "      <td>virginica</td>\n",
              "    </tr>\n",
              "    <tr>\n",
              "      <th>146</th>\n",
              "      <td>6.3</td>\n",
              "      <td>2.5</td>\n",
              "      <td>5.0</td>\n",
              "      <td>1.9</td>\n",
              "      <td>virginica</td>\n",
              "    </tr>\n",
              "    <tr>\n",
              "      <th>147</th>\n",
              "      <td>6.5</td>\n",
              "      <td>3.0</td>\n",
              "      <td>5.2</td>\n",
              "      <td>2.0</td>\n",
              "      <td>virginica</td>\n",
              "    </tr>\n",
              "    <tr>\n",
              "      <th>148</th>\n",
              "      <td>6.2</td>\n",
              "      <td>3.4</td>\n",
              "      <td>5.4</td>\n",
              "      <td>2.3</td>\n",
              "      <td>virginica</td>\n",
              "    </tr>\n",
              "    <tr>\n",
              "      <th>149</th>\n",
              "      <td>5.9</td>\n",
              "      <td>3.0</td>\n",
              "      <td>5.1</td>\n",
              "      <td>1.8</td>\n",
              "      <td>virginica</td>\n",
              "    </tr>\n",
              "  </tbody>\n",
              "</table>\n",
              "<p>150 rows × 5 columns</p>\n",
              "</div>"
            ],
            "text/plain": [
              "     sepal_length  sepal_width  petal_length  petal_width    species\n",
              "0             5.1          3.5           1.4          0.2     setosa\n",
              "1             4.9          3.0           1.4          0.2     setosa\n",
              "2             4.7          3.2           1.3          0.2     setosa\n",
              "3             4.6          3.1           1.5          0.2     setosa\n",
              "4             5.0          3.6           1.4          0.2     setosa\n",
              "..            ...          ...           ...          ...        ...\n",
              "145           6.7          3.0           5.2          2.3  virginica\n",
              "146           6.3          2.5           5.0          1.9  virginica\n",
              "147           6.5          3.0           5.2          2.0  virginica\n",
              "148           6.2          3.4           5.4          2.3  virginica\n",
              "149           5.9          3.0           5.1          1.8  virginica\n",
              "\n",
              "[150 rows x 5 columns]"
            ]
          },
          "metadata": {
            "tags": []
          },
          "execution_count": 56
        }
      ]
    },
    {
      "cell_type": "markdown",
      "metadata": {
        "id": "wUC8w0HByLRb"
      },
      "source": [
        "### 기계학습 기본 \r\n",
        "- **전통정 기계학습은 1차원 데이터**\r\n",
        "  - 하나의 sample(행) 1차원, sample들을 모아서 2차원 \r\n",
        "학습용 데이터 세트- 데이터의 속성들을 각 sample 로 \r\n",
        " - 차원 갯수가 중요하며 sample 갯수는 중요하지 않음\r\n",
        "\r\n",
        "\r\n",
        " - iris 속성 4개를 넣어서 3개중 어떤 종류인지 맞추는 모델\r\n",
        "\r\n"
      ]
    },
    {
      "cell_type": "code",
      "metadata": {
        "id": "hdEutksgxY30"
      },
      "source": [
        "model = tf.keras.models.Sequential([\r\n",
        "                                    tf.keras.layers.Dense(16, input_shape=(4,))\r\n",
        "])"
      ],
      "execution_count": 58,
      "outputs": []
    },
    {
      "cell_type": "code",
      "metadata": {
        "colab": {
          "base_uri": "https://localhost:8080/"
        },
        "id": "Ayfjdhfy0EQ4",
        "outputId": "40e5c984-92fd-441e-94bc-1bdc8c081d54"
      },
      "source": [
        "model.summary()"
      ],
      "execution_count": 60,
      "outputs": [
        {
          "output_type": "stream",
          "text": [
            "Model: \"sequential_6\"\n",
            "_________________________________________________________________\n",
            "Layer (type)                 Output Shape              Param #   \n",
            "=================================================================\n",
            "dense_12 (Dense)             (None, 16)                80        \n",
            "=================================================================\n",
            "Total params: 80\n",
            "Trainable params: 80\n",
            "Non-trainable params: 0\n",
            "_________________________________________________________________\n"
          ],
          "name": "stdout"
        }
      ]
    },
    {
      "cell_type": "code",
      "metadata": {
        "colab": {
          "base_uri": "https://localhost:8080/"
        },
        "id": "YivL2pZtzz_j",
        "outputId": "e2e5055b-a5c1-4c05-b325-8268ca22472f"
      },
      "source": [
        "model(data.data)  # shape 변화 : (150,4)x (4,16) = (150,16)"
      ],
      "execution_count": 59,
      "outputs": [
        {
          "output_type": "execute_result",
          "data": {
            "text/plain": [
              "<tf.Tensor: shape=(150, 16), dtype=float32, numpy=\n",
              "array([[-2.635682  ,  0.04924071,  0.2614827 , ..., -2.4311523 ,\n",
              "         3.09484   ,  1.8674374 ],\n",
              "       [-2.4450362 ,  0.16956311,  0.06255744, ..., -2.192677  ,\n",
              "         2.8181448 ,  1.720649  ],\n",
              "       [-2.4184227 ,  0.04599544,  0.23180565, ..., -2.2266154 ,\n",
              "         2.844287  ,  1.7255437 ],\n",
              "       ...,\n",
              "       [-2.3266048 , -1.0362624 , -0.6680014 , ..., -3.4649663 ,\n",
              "         4.479195  ,  4.292474  ],\n",
              "       [-2.204974  , -1.4818072 , -0.3493249 , ..., -3.6136627 ,\n",
              "         4.7021713 ,  4.6226377 ],\n",
              "       [-2.1504374 , -1.1452135 , -0.5837538 , ..., -3.488522  ,\n",
              "         4.319103  ,  4.1330066 ]], dtype=float32)>"
            ]
          },
          "metadata": {
            "tags": []
          },
          "execution_count": 59
        }
      ]
    },
    {
      "cell_type": "code",
      "metadata": {
        "id": "gSCrghT5zwD-"
      },
      "source": [
        "model = tf.keras.models.Sequential([\r\n",
        "                                    tf.keras.layers.Dense(6, input_shape=(4,)),\r\n",
        "                                    tf.keras.layers.Dense(5)\r\n",
        "])"
      ],
      "execution_count": 66,
      "outputs": []
    },
    {
      "cell_type": "code",
      "metadata": {
        "colab": {
          "base_uri": "https://localhost:8080/"
        },
        "id": "8HatzDMv0rQh",
        "outputId": "b10bd78e-38f4-4bac-a61e-c19d7f76c08a"
      },
      "source": [
        "model(data.data)  #  (150,4) x (4,6 ) x (6x5) = (150x5) "
      ],
      "execution_count": 69,
      "outputs": [
        {
          "output_type": "execute_result",
          "data": {
            "text/plain": [
              "<tf.Tensor: shape=(150, 5), dtype=float32, numpy=\n",
              "array([[-7.36866045e+00,  1.03680718e+00, -3.41513824e+00,\n",
              "         1.58825171e+00,  1.94518840e+00],\n",
              "       [-6.95898676e+00,  9.76166964e-01, -3.38812971e+00,\n",
              "         1.64383662e+00,  1.82993746e+00],\n",
              "       [-6.78014135e+00,  9.55190003e-01, -3.14812636e+00,\n",
              "         1.46417212e+00,  1.78811932e+00],\n",
              "       [-6.68845415e+00,  9.45380151e-01, -3.17895150e+00,\n",
              "         1.32171202e+00,  1.75482559e+00],\n",
              "       [-7.29361868e+00,  1.02903080e+00, -3.31545210e+00,\n",
              "         1.47135890e+00,  1.92622030e+00],\n",
              "       [-7.88927603e+00,  1.13183880e+00, -3.54364944e+00,\n",
              "         1.42673290e+00,  2.06466007e+00],\n",
              "       [-6.74575329e+00,  9.64450240e-01, -3.00441003e+00,\n",
              "         1.22158742e+00,  1.77088261e+00],\n",
              "       [-7.24821234e+00,  1.02157307e+00, -3.40533161e+00,\n",
              "         1.49991381e+00,  1.90801215e+00],\n",
              "       [-6.36127186e+00,  8.98638964e-01, -3.03744102e+00,\n",
              "         1.30740297e+00,  1.66882801e+00],\n",
              "       [-7.05002642e+00,  9.82861340e-01, -3.46417856e+00,\n",
              "         1.57860625e+00,  1.85806060e+00],\n",
              "       [-7.80797052e+00,  1.09776592e+00, -3.63171148e+00,\n",
              "         1.67811608e+00,  2.06119943e+00],\n",
              "       [-7.05272245e+00,  9.98562634e-01, -3.29583859e+00,\n",
              "         1.29468310e+00,  1.85186791e+00],\n",
              "       [-6.87205458e+00,  9.56778586e-01, -3.37310719e+00,\n",
              "         1.59851289e+00,  1.81312084e+00],\n",
              "       [-6.22513914e+00,  8.69418561e-01, -2.87589884e+00,\n",
              "         1.38310719e+00,  1.65141058e+00],\n",
              "       [-8.28144360e+00,  1.15768552e+00, -3.73619461e+00,\n",
              "         2.01868439e+00,  2.20274067e+00],\n",
              "       [-8.35355282e+00,  1.19584751e+00, -3.56445622e+00,\n",
              "         1.55494654e+00,  2.20216060e+00],\n",
              "       [-7.77422905e+00,  1.11014152e+00, -3.38112116e+00,\n",
              "         1.64322150e+00,  2.04913330e+00],\n",
              "       [-7.34346771e+00,  1.04197812e+00, -3.35509872e+00,\n",
              "         1.55802083e+00,  1.93199241e+00],\n",
              "       [-8.21376228e+00,  1.16287875e+00, -3.85349989e+00,\n",
              "         1.72496545e+00,  2.15685010e+00],\n",
              "       [-7.48348284e+00,  1.06672585e+00, -3.32186079e+00,\n",
              "         1.37988281e+00,  1.96900928e+00],\n",
              "       [-7.75424004e+00,  1.08929121e+00, -3.78684545e+00,\n",
              "         1.69388771e+00,  2.03582788e+00],\n",
              "       [-7.42120504e+00,  1.06545591e+00, -3.28644490e+00,\n",
              "         1.39099085e+00,  1.94476783e+00],\n",
              "       [-6.73006868e+00,  9.50463891e-01, -2.85267425e+00,\n",
              "         1.38562918e+00,  1.79064143e+00],\n",
              "       [-7.30519629e+00,  1.05571139e+00, -3.40616250e+00,\n",
              "         1.41787052e+00,  1.89515507e+00],\n",
              "       [-7.13900709e+00,  1.01483560e+00, -3.41773510e+00,\n",
              "         1.13231683e+00,  1.86351323e+00],\n",
              "       [-7.12863588e+00,  1.00123298e+00, -3.54445648e+00,\n",
              "         1.61114669e+00,  1.86771405e+00],\n",
              "       [-7.22658634e+00,  1.03733969e+00, -3.32588410e+00,\n",
              "         1.38533032e+00,  1.88550162e+00],\n",
              "       [-7.50954866e+00,  1.05644882e+00, -3.53083229e+00,\n",
              "         1.60968423e+00,  1.97908330e+00],\n",
              "       [-7.44370270e+00,  1.04458344e+00, -3.51482391e+00,\n",
              "         1.70514512e+00,  1.96415615e+00],\n",
              "       [-6.86642694e+00,  9.71463025e-01, -3.27002239e+00,\n",
              "         1.30180562e+00,  1.79976487e+00],\n",
              "       [-6.94146872e+00,  9.79239464e-01, -3.36970878e+00,\n",
              "         1.41869915e+00,  1.81873310e+00],\n",
              "       [-7.64632988e+00,  1.08878481e+00, -3.58550262e+00,\n",
              "         1.74167049e+00,  2.00167203e+00],\n",
              "       [-7.75724888e+00,  1.08992422e+00, -3.44313264e+00,\n",
              "         1.39188254e+00,  2.05854964e+00],\n",
              "       [-8.07675743e+00,  1.13876426e+00, -3.54302430e+00,\n",
              "         1.60109890e+00,  2.14255524e+00],\n",
              "       [-7.02483273e+00,  9.88032401e-01, -3.40413880e+00,\n",
              "         1.54837561e+00,  1.84486437e+00],\n",
              "       [-7.08775806e+00,  9.92417812e-01, -3.33268189e+00,\n",
              "         1.74495757e+00,  1.87427676e+00],\n",
              "       [-7.78840351e+00,  1.08825231e+00, -3.67475581e+00,\n",
              "         1.94459176e+00,  2.06135845e+00],\n",
              "       [-7.20668745e+00,  1.00964236e+00, -3.30042958e+00,\n",
              "         1.42603517e+00,  1.90940404e+00],\n",
              "       [-6.36959553e+00,  8.99655759e-01, -2.97218609e+00,\n",
              "         1.32018614e+00,  1.67599118e+00],\n",
              "       [-7.36033916e+00,  1.03579044e+00, -3.48039389e+00,\n",
              "         1.57546842e+00,  1.93802512e+00],\n",
              "       [-7.20257950e+00,  1.02233648e+00, -3.23940420e+00,\n",
              "         1.53658867e+00,  1.89809763e+00],\n",
              "       [-6.19693565e+00,  8.73956740e-01, -3.15957141e+00,\n",
              "         1.65488076e+00,  1.61549282e+00],\n",
              "       [-6.44376373e+00,  9.12537873e-01, -2.92293906e+00,\n",
              "         1.23750877e+00,  1.69808102e+00],\n",
              "       [-7.21328402e+00,  1.05412281e+00, -3.18118215e+00,\n",
              "         1.28352976e+00,  1.87015402e+00],\n",
              "       [-7.57333612e+00,  1.09359431e+00, -3.42435002e+00,\n",
              "         1.13316369e+00,  1.97134030e+00],\n",
              "       [-6.82166767e+00,  9.67120647e-01, -3.25302863e+00,\n",
              "         1.53805125e+00,  1.78672874e+00],\n",
              "       [-7.53743839e+00,  1.06697917e+00, -3.42253232e+00,\n",
              "         1.35599148e+00,  1.98608673e+00],\n",
              "       [-6.69677687e+00,  9.46397007e-01, -3.11369610e+00,\n",
              "         1.33449531e+00,  1.76198864e+00],\n",
              "       [-7.69584465e+00,  1.08354855e+00, -3.55664873e+00,\n",
              "         1.60256135e+00,  2.03118634e+00],\n",
              "       [-7.18236637e+00,  1.00970757e+00, -3.38932252e+00,\n",
              "         1.59537470e+00,  1.89308536e+00],\n",
              "       [-1.00346155e+01,  1.52867115e+00, -5.53558064e+00,\n",
              "         9.99002337e-01,  2.45204568e+00],\n",
              "       [-9.27914238e+00,  1.43768942e+00, -4.94390249e+00,\n",
              "         6.23688817e-01,  2.25100875e+00],\n",
              "       [-9.91773510e+00,  1.52403247e+00, -5.50636625e+00,\n",
              "         8.26311290e-01,  2.40555453e+00],\n",
              "       [-7.84282684e+00,  1.21429920e+00, -4.40686893e+00,\n",
              "         6.46818995e-01,  1.88847005e+00],\n",
              "       [-9.27169228e+00,  1.43156683e+00, -5.15809011e+00,\n",
              "         8.10475886e-01,  2.24072289e+00],\n",
              "       [-8.39630795e+00,  1.30206120e+00, -4.63703775e+00,\n",
              "         3.20623696e-01,  2.02312970e+00],\n",
              "       [-9.23643017e+00,  1.44593287e+00, -4.86544132e+00,\n",
              "         3.68320704e-01,  2.22660780e+00],\n",
              "       [-7.08140373e+00,  1.08195221e+00, -3.82756448e+00,\n",
              "         6.21701419e-01,  1.73185265e+00],\n",
              "       [-9.47128868e+00,  1.44188285e+00, -5.32860804e+00,\n",
              "         9.05153513e-01,  2.30817294e+00],\n",
              "       [-7.60083055e+00,  1.19715798e+00, -3.98251677e+00,\n",
              "         2.78692096e-01,  1.82553279e+00],\n",
              "       [-7.10271454e+00,  1.08125401e+00, -4.08238459e+00,\n",
              "         7.54366100e-01,  1.72544932e+00],\n",
              "       [-8.55805779e+00,  1.33744705e+00, -4.49594069e+00,\n",
              "         4.90960658e-01,  2.06720805e+00],\n",
              "       [-8.44195271e+00,  1.26343167e+00, -4.98692274e+00,\n",
              "         1.15662253e+00,  2.06707835e+00],\n",
              "       [-8.91422749e+00,  1.38139141e+00, -4.93388844e+00,\n",
              "         4.43027824e-01,  2.14879394e+00],\n",
              "       [-8.06241226e+00,  1.24546552e+00, -4.17166281e+00,\n",
              "         6.90830469e-01,  1.96922565e+00],\n",
              "       [-9.57486725e+00,  1.46330476e+00, -5.21311998e+00,\n",
              "         9.76043522e-01,  2.33931661e+00],\n",
              "       [-8.30796432e+00,  1.31106818e+00, -4.39264965e+00,\n",
              "         1.01930656e-01,  1.98881471e+00],\n",
              "       [-8.43188477e+00,  1.27262664e+00, -4.75431299e+00,\n",
              "         7.44698822e-01,  2.06615901e+00],\n",
              "       [-8.68404484e+00,  1.34484375e+00, -5.04001045e+00,\n",
              "         8.85966420e-01,  2.08053231e+00],\n",
              "       [-8.05074692e+00,  1.22563207e+00, -4.51213169e+00,\n",
              "         7.54280090e-01,  1.96308291e+00],\n",
              "       [-8.72921658e+00,  1.39838874e+00, -4.51036882e+00,\n",
              "        -7.14239618e-03,  2.07300067e+00],\n",
              "       [-8.70100498e+00,  1.33180881e+00, -4.73412704e+00,\n",
              "         8.93452644e-01,  2.12377191e+00],\n",
              "       [-9.02247238e+00,  1.40008175e+00, -5.20373201e+00,\n",
              "         6.21016979e-01,  2.15920830e+00],\n",
              "       [-8.92753029e+00,  1.36460817e+00, -5.07859039e+00,\n",
              "         5.44828534e-01,  2.16414118e+00],\n",
              "       [-9.16075325e+00,  1.39717519e+00, -5.05658722e+00,\n",
              "         9.16411161e-01,  2.23650241e+00],\n",
              "       [-9.42565727e+00,  1.44264650e+00, -5.16268110e+00,\n",
              "         9.41828430e-01,  2.29825878e+00],\n",
              "       [-9.69078732e+00,  1.47989655e+00, -5.52458143e+00,\n",
              "         9.59126174e-01,  2.35172153e+00],\n",
              "       [-9.63477325e+00,  1.50492322e+00, -5.30141783e+00,\n",
              "         6.01956546e-01,  2.31197357e+00],\n",
              "       [-8.71938515e+00,  1.36149669e+00, -4.71752262e+00,\n",
              "         4.45486665e-01,  2.09782147e+00],\n",
              "       [-8.11010361e+00,  1.21942198e+00, -4.46008110e+00,\n",
              "         1.03521526e+00,  2.00181031e+00],\n",
              "       [-7.87277460e+00,  1.19954932e+00, -4.42106009e+00,\n",
              "         7.74186790e-01,  1.91814303e+00],\n",
              "       [-7.86920643e+00,  1.18895388e+00, -4.44046736e+00,\n",
              "         8.58539343e-01,  1.92745781e+00],\n",
              "       [-8.32397461e+00,  1.27212012e+00, -4.55296993e+00,\n",
              "         7.92481184e-01,  2.03200293e+00],\n",
              "       [-8.79259109e+00,  1.38633156e+00, -4.95052242e+00,\n",
              "         1.73201159e-01,  2.08582640e+00],\n",
              "       [-8.08371258e+00,  1.28263354e+00, -4.24252510e+00,\n",
              "        -4.91785854e-02,  1.92878890e+00],\n",
              "       [-8.87961388e+00,  1.39887297e+00, -4.53436756e+00,\n",
              "         2.08562747e-01,  2.13985062e+00],\n",
              "       [-9.63595867e+00,  1.48474896e+00, -5.27497721e+00,\n",
              "         7.83446431e-01,  2.33776593e+00],\n",
              "       [-8.85488224e+00,  1.34973574e+00, -5.16989708e+00,\n",
              "         1.03476632e+00,  2.14410138e+00],\n",
              "       [-8.24330521e+00,  1.27902842e+00, -4.35020018e+00,\n",
              "         3.78880739e-01,  1.99967909e+00],\n",
              "       [-7.91699505e+00,  1.22718143e+00, -4.35762215e+00,\n",
              "         5.64141810e-01,  1.91055942e+00],\n",
              "       [-8.09431934e+00,  1.25014877e+00, -4.55556679e+00,\n",
              "         3.36545289e-01,  1.95032859e+00],\n",
              "       [-8.92255116e+00,  1.38240814e+00, -4.86863327e+00,\n",
              "         4.55811322e-01,  2.15595627e+00],\n",
              "       [-8.31565094e+00,  1.27110350e+00, -4.61822557e+00,\n",
              "         7.79697537e-01,  2.02484059e+00],\n",
              "       [-7.15644455e+00,  1.08972847e+00, -3.92724991e+00,\n",
              "         7.38594413e-01,  1.75082088e+00],\n",
              "       [-8.16081429e+00,  1.26512957e+00, -4.46470213e+00,\n",
              "         4.48774666e-01,  1.97042632e+00],\n",
              "       [-8.40938663e+00,  1.29349911e+00, -4.52593422e+00,\n",
              "         4.30543542e-01,  2.04677057e+00],\n",
              "       [-8.34710789e+00,  1.29222918e+00, -4.49051762e+00,\n",
              "         4.41651225e-01,  2.02252913e+00],\n",
              "       [-8.93650055e+00,  1.36874032e+00, -4.90646219e+00,\n",
              "         7.65301645e-01,  2.17647600e+00],\n",
              "       [-7.23126125e+00,  1.10572612e+00, -3.77113008e+00,\n",
              "         8.63607347e-01,  1.77808213e+00],\n",
              "       [-8.28126240e+00,  1.28036368e+00, -4.47450924e+00,\n",
              "         5.37112534e-01,  2.00760174e+00],\n",
              "       [-9.38359070e+00,  1.56298947e+00, -4.85330391e+00,\n",
              "        -6.07344806e-01,  2.15830541e+00],\n",
              "       [-8.49275970e+00,  1.37341011e+00, -4.62027979e+00,\n",
              "        -6.85999468e-02,  1.98621213e+00],\n",
              "       [-1.02413578e+01,  1.63129640e+00, -5.72719860e+00,\n",
              "         2.96152413e-01,  2.41417742e+00],\n",
              "       [-9.29656029e+00,  1.47932982e+00, -5.20954514e+00,\n",
              "        -1.38850864e-02,  2.19097161e+00],\n",
              "       [-9.51464653e+00,  1.54573894e+00, -5.17615271e+00,\n",
              "        -1.33283019e-01,  2.21702194e+00],\n",
              "       [-1.10033188e+01,  1.74035382e+00, -6.38693571e+00,\n",
              "         2.95070022e-01,  2.59141564e+00],\n",
              "       [-7.28727293e+00,  1.18968332e+00, -3.87025070e+00,\n",
              "        -2.80719042e-01,  1.69710636e+00],\n",
              "       [-1.06191530e+01,  1.65947425e+00, -6.24459362e+00,\n",
              "         3.62804294e-01,  2.51827407e+00],\n",
              "       [-9.65425014e+00,  1.52128375e+00, -5.68955231e+00,\n",
              "         3.45442802e-01,  2.27460718e+00],\n",
              "       [-1.05327396e+01,  1.71569312e+00, -5.49562788e+00,\n",
              "        -1.05492555e-01,  2.46543980e+00],\n",
              "       [-9.43787098e+00,  1.51030827e+00, -4.96256018e+00,\n",
              "         2.23356277e-01,  2.23833179e+00],\n",
              "       [-9.22303867e+00,  1.46956325e+00, -5.15191793e+00,\n",
              "         2.76482224e-01,  2.17405367e+00],\n",
              "       [-9.78993320e+00,  1.56694698e+00, -5.33948374e+00,\n",
              "         2.85978079e-01,  2.30861139e+00],\n",
              "       [-8.25250912e+00,  1.34605742e+00, -4.49379206e+00,\n",
              "        -3.75864580e-02,  1.91703057e+00],\n",
              "       [-8.40387630e+00,  1.40570676e+00, -4.29545927e+00,\n",
              "        -2.61093199e-01,  1.93127644e+00],\n",
              "       [-9.30768776e+00,  1.52245307e+00, -4.78864336e+00,\n",
              "        -5.11346906e-02,  2.17649436e+00],\n",
              "       [-9.52913475e+00,  1.50878131e+00, -5.29441452e+00,\n",
              "         1.50006726e-01,  2.25816059e+00],\n",
              "       [-1.14156885e+01,  1.81669509e+00, -6.24560499e+00,\n",
              "        -4.44384813e-02,  2.70047402e+00],\n",
              "       [-1.10030060e+01,  1.75542212e+00, -6.56230927e+00,\n",
              "         3.13150823e-01,  2.56250143e+00],\n",
              "       [-8.60360146e+00,  1.34353089e+00, -5.09304667e+00,\n",
              "         4.64246988e-01,  2.03991580e+00],\n",
              "       [-9.98336411e+00,  1.61523736e+00, -5.32648420e+00,\n",
              "         1.10148780e-01,  2.34208584e+00],\n",
              "       [-8.22287560e+00,  1.34573901e+00, -4.30422783e+00,\n",
              "        -1.83034644e-01,  1.91627109e+00],\n",
              "       [-1.10952320e+01,  1.74194229e+00, -6.61191654e+00,\n",
              "         4.29410726e-01,  2.61641550e+00],\n",
              "       [-9.02106094e+00,  1.42847717e+00, -4.97436666e+00,\n",
              "         4.47647214e-01,  2.14170909e+00],\n",
              "       [-9.84658432e+00,  1.58290136e+00, -5.27181482e+00,\n",
              "        -2.18372717e-02,  2.31949639e+00],\n",
              "       [-1.05319939e+01,  1.64830685e+00, -5.97376442e+00,\n",
              "         3.25600207e-01,  2.50975037e+00],\n",
              "       [-8.91725636e+00,  1.41527665e+00, -4.83404922e+00,\n",
              "         3.84875804e-01,  2.11885953e+00],\n",
              "       [-8.90806103e+00,  1.41936564e+00, -4.75037146e+00,\n",
              "         1.72521770e-01,  2.11481833e+00],\n",
              "       [-9.29602146e+00,  1.50261950e+00, -5.12911224e+00,\n",
              "         1.23155853e-02,  2.17035198e+00],\n",
              "       [-1.04506893e+01,  1.61423385e+00, -6.06182671e+00,\n",
              "         5.76983452e-01,  2.50628996e+00],\n",
              "       [-1.06114769e+01,  1.66157281e+00, -6.20297623e+00,\n",
              "         5.57711184e-01,  2.51628208e+00],\n",
              "       [-1.16040440e+01,  1.81851482e+00, -6.39391184e+00,\n",
              "         3.29498440e-01,  2.77524638e+00],\n",
              "       [-9.27082825e+00,  1.50779080e+00, -5.06907320e+00,\n",
              "        -1.79153867e-02,  2.15715528e+00],\n",
              "       [-9.19124889e+00,  1.43025374e+00, -5.21112633e+00,\n",
              "         3.88756275e-01,  2.20010686e+00],\n",
              "       [-9.06182861e+00,  1.41088748e+00, -5.37344790e+00,\n",
              "         7.99444839e-02,  2.15059566e+00],\n",
              "       [-1.09212494e+01,  1.73779166e+00, -6.13875818e+00,\n",
              "         5.80773354e-01,  2.57562685e+00],\n",
              "       [-9.33082294e+00,  1.54256201e+00, -4.72619200e+00,\n",
              "        -4.01963919e-01,  2.16702008e+00],\n",
              "       [-9.45409393e+00,  1.50100517e+00, -5.19472885e+00,\n",
              "         3.31138559e-02,  2.23919320e+00],\n",
              "       [-8.76717377e+00,  1.39972413e+00, -4.63467741e+00,\n",
              "         1.51089594e-01,  2.08092356e+00],\n",
              "       [-9.91038227e+00,  1.58218086e+00, -5.34929037e+00,\n",
              "         3.74315917e-01,  2.34578705e+00],\n",
              "       [-9.66807365e+00,  1.58010828e+00, -5.10031128e+00,\n",
              "         2.42696069e-02,  2.25393605e+00],\n",
              "       [-9.77371025e+00,  1.57625008e+00, -5.10731506e+00,\n",
              "         4.76220757e-01,  2.30774975e+00],\n",
              "       [-8.49275970e+00,  1.37341011e+00, -4.62027979e+00,\n",
              "        -6.85999468e-02,  1.98621213e+00],\n",
              "       [-9.92876148e+00,  1.61186874e+00, -5.33268595e+00,\n",
              "        -7.36495033e-02,  2.31983638e+00],\n",
              "       [-9.74580860e+00,  1.60358584e+00, -5.03165627e+00,\n",
              "        -1.42760471e-01,  2.26671195e+00],\n",
              "       [-9.54113483e+00,  1.54679859e+00, -5.02244520e+00,\n",
              "         3.12327832e-01,  2.24056077e+00],\n",
              "       [-8.95046043e+00,  1.42619073e+00, -5.00420666e+00,\n",
              "         4.45971310e-01,  2.11030507e+00],\n",
              "       [-9.39246368e+00,  1.50285053e+00, -5.05243874e+00,\n",
              "         2.51911789e-01,  2.22012353e+00],\n",
              "       [-9.18636513e+00,  1.51232457e+00, -4.62990379e+00,\n",
              "        -3.39043558e-01,  2.14243913e+00],\n",
              "       [-8.74133205e+00,  1.40177953e+00, -4.68151093e+00,\n",
              "        -8.68309215e-02,  2.06255579e+00]], dtype=float32)>"
            ]
          },
          "metadata": {
            "tags": []
          },
          "execution_count": 69
        }
      ]
    },
    {
      "cell_type": "code",
      "metadata": {
        "colab": {
          "base_uri": "https://localhost:8080/"
        },
        "id": "JRojK3Qu0eOO",
        "outputId": "4f914bea-60c2-44e2-e5a5-b60db27863b1"
      },
      "source": [
        "model.summary() # (4)"
      ],
      "execution_count": 68,
      "outputs": [
        {
          "output_type": "stream",
          "text": [
            "Model: \"sequential_8\"\n",
            "_________________________________________________________________\n",
            "Layer (type)                 Output Shape              Param #   \n",
            "=================================================================\n",
            "dense_15 (Dense)             (None, 6)                 30        \n",
            "_________________________________________________________________\n",
            "dense_16 (Dense)             (None, 5)                 35        \n",
            "=================================================================\n",
            "Total params: 65\n",
            "Trainable params: 65\n",
            "Non-trainable params: 0\n",
            "_________________________________________________________________\n"
          ],
          "name": "stdout"
        }
      ]
    },
    {
      "cell_type": "code",
      "metadata": {
        "id": "fYt6aAD70dKb"
      },
      "source": [
        "model = tf.keras.models.Sequential([\r\n",
        "                                    tf.keras.layers.Dense(3, input_shape=(4,)),\r\n",
        "                                    tf.keras.layers.Dense(7),\r\n",
        "])"
      ],
      "execution_count": 71,
      "outputs": []
    },
    {
      "cell_type": "code",
      "metadata": {
        "colab": {
          "base_uri": "https://localhost:8080/"
        },
        "id": "DTHD0JTQ1K-w",
        "outputId": "acf93216-ad40-4ad2-d141-8587425ec641"
      },
      "source": [
        "model.summary()"
      ],
      "execution_count": 72,
      "outputs": [
        {
          "output_type": "stream",
          "text": [
            "Model: \"sequential_10\"\n",
            "_________________________________________________________________\n",
            "Layer (type)                 Output Shape              Param #   \n",
            "=================================================================\n",
            "dense_19 (Dense)             (None, 3)                 15        \n",
            "_________________________________________________________________\n",
            "dense_20 (Dense)             (None, 7)                 28        \n",
            "=================================================================\n",
            "Total params: 43\n",
            "Trainable params: 43\n",
            "Non-trainable params: 0\n",
            "_________________________________________________________________\n"
          ],
          "name": "stdout"
        }
      ]
    },
    {
      "cell_type": "code",
      "metadata": {
        "id": "J_qA4s1p0jaa"
      },
      "source": [
        "model = tf.keras.models.Sequential([\r\n",
        "                                    tf.keras.layers.Dense(4, input_shape=(4,)),\r\n",
        "                                    tf.keras.layers.Dense(3),\r\n",
        "                                    tf.keras.layers.Dense(3) #결과 3개 \r\n",
        "])"
      ],
      "execution_count": 73,
      "outputs": []
    },
    {
      "cell_type": "code",
      "metadata": {
        "colab": {
          "base_uri": "https://localhost:8080/"
        },
        "id": "JtsnicdY1h24",
        "outputId": "a2cb105f-3cf7-42cb-9e0e-3f447fdc498d"
      },
      "source": [
        "model.summary()  # (150 x 4 ) x (4x3)x(3x3)= (150x3)"
      ],
      "execution_count": 74,
      "outputs": [
        {
          "output_type": "stream",
          "text": [
            "Model: \"sequential_11\"\n",
            "_________________________________________________________________\n",
            "Layer (type)                 Output Shape              Param #   \n",
            "=================================================================\n",
            "dense_21 (Dense)             (None, 4)                 20        \n",
            "_________________________________________________________________\n",
            "dense_22 (Dense)             (None, 3)                 15        \n",
            "_________________________________________________________________\n",
            "dense_23 (Dense)             (None, 3)                 12        \n",
            "=================================================================\n",
            "Total params: 47\n",
            "Trainable params: 47\n",
            "Non-trainable params: 0\n",
            "_________________________________________________________________\n"
          ],
          "name": "stdout"
        }
      ]
    },
    {
      "cell_type": "markdown",
      "metadata": {
        "id": "vbYEDb0F1yr9"
      },
      "source": [
        "> Logistic regression \r\n",
        "  - 2진 분류이나 one ve one, one vs rest , one vs all 방식\r\n",
        "  - sigmoid 함수를 이용해서 threshold 기준으로 이진 분류 \r\n",
        "\r\n",
        "- ANN/ MLP 최종 노드의 결과값은 행렬곱의 결과로 나옴\r\n"
      ]
    },
    {
      "cell_type": "markdown",
      "metadata": {
        "id": "llI0CIv-2cwF"
      },
      "source": [
        "- regression : 실수값 y 예측 \r\n",
        "- binary class: 2개의 클래스 분류 \r\n",
        "- multi-class : 3개 이상의 클래스 분류\r\n",
        "- multi label : 2개 이상의 라벨 분류 , 2개 이상 선택\r\n",
        "\r\n",
        "\r\n",
        "### multi-class \r\n",
        "- setosa, virginica, versicolor 3종류의 iris \r\n",
        "- one-hot encoding vs label encoding\r\n",
        "> - 모델 구성에 따라 supervised learning 의 classification, regression 과 unsupervised  learning 모델도 만들 수 있음\r\n",
        "\r\n",
        "####  one-hot encoding\r\n",
        "- dummy variable 형식으로 각 종류로 표현\r\n",
        "- one-hot encoidng 된 값과 가장 가깝게 만들도록 함\r\n",
        "> 예.  setosa: 100, virginica: 010, versicolor: 001\r\n",
        "\r\n",
        "\r\n"
      ]
    },
    {
      "cell_type": "code",
      "metadata": {
        "colab": {
          "base_uri": "https://localhost:8080/"
        },
        "id": "mEGNs2Ae1jy-",
        "outputId": "e00330e1-02a2-4065-a936-41b4243439d2"
      },
      "source": [
        "data.data[0]  #0번째 데이터"
      ],
      "execution_count": 76,
      "outputs": [
        {
          "output_type": "execute_result",
          "data": {
            "text/plain": [
              "array([5.1, 3.5, 1.4, 0.2])"
            ]
          },
          "metadata": {
            "tags": []
          },
          "execution_count": 76
        }
      ]
    },
    {
      "cell_type": "markdown",
      "metadata": {
        "id": "PzfmRiKz35lt"
      },
      "source": [
        ""
      ]
    },
    {
      "cell_type": "code",
      "metadata": {
        "colab": {
          "base_uri": "https://localhost:8080/"
        },
        "id": "ZtI6hla83ajl",
        "outputId": "c931b5b1-015b-4bb5-88d1-3c71c7f4b104"
      },
      "source": [
        "model(data.data[[0]])  #2차원 맞춰야함"
      ],
      "execution_count": 78,
      "outputs": [
        {
          "output_type": "execute_result",
          "data": {
            "text/plain": [
              "<tf.Tensor: shape=(1, 3), dtype=float32, numpy=array([[ 0.10602753, -1.0467125 ,  1.638782  ]], dtype=float32)>"
            ]
          },
          "metadata": {
            "tags": []
          },
          "execution_count": 78
        }
      ]
    },
    {
      "cell_type": "code",
      "metadata": {
        "colab": {
          "base_uri": "https://localhost:8080/"
        },
        "id": "Fe2mx9lG3d5X",
        "outputId": "bcf651a6-0206-4504-a5bb-35c6670335ac"
      },
      "source": [
        "model(data.data[0][tf.newaxis]) "
      ],
      "execution_count": 79,
      "outputs": [
        {
          "output_type": "execute_result",
          "data": {
            "text/plain": [
              "<tf.Tensor: shape=(1, 3), dtype=float32, numpy=array([[ 0.10602753, -1.0467125 ,  1.638782  ]], dtype=float32)>"
            ]
          },
          "metadata": {
            "tags": []
          },
          "execution_count": 79
        }
      ]
    },
    {
      "cell_type": "code",
      "metadata": {
        "colab": {
          "base_uri": "https://localhost:8080/"
        },
        "id": "QxTnFfCC3t-u",
        "outputId": "405098ae-923a-4559-f798-7e8b18332be8"
      },
      "source": [
        "model(data.data[1][tf.newaxis]) "
      ],
      "execution_count": 80,
      "outputs": [
        {
          "output_type": "execute_result",
          "data": {
            "text/plain": [
              "<tf.Tensor: shape=(1, 3), dtype=float32, numpy=array([[ 0.0760129, -1.0913991,  1.4612209]], dtype=float32)>"
            ]
          },
          "metadata": {
            "tags": []
          },
          "execution_count": 80
        }
      ]
    },
    {
      "cell_type": "markdown",
      "metadata": {
        "id": "6oN6k1375UrN"
      },
      "source": [
        "#### label encoding 방식\r\n",
        "- 결과 하나 나오면 >label encoding 으로 가능\r\n",
        "- 고유속성과 Label 값이 반영하지 못해서 성능이 좋지 않아 잘 사용하지 않음\r\n",
        "> 예.  setosa: 1, virginica: 2, versicolor: 3\r\n",
        "\r\n",
        "\r\n",
        "> y값이 실수인 경우 regression\r\n",
        "\r\n"
      ]
    },
    {
      "cell_type": "markdown",
      "metadata": {
        "id": "Vi-XNaNz7OSr"
      },
      "source": [
        "input_shape  구성과 output 레이어의 뉴론 갯수 중요\r\n",
        "\r\n",
        "\r\n",
        "- 어떻게 처리 해야하는지 다룰 예정\r\n",
        "- 이미지 데이터 "
      ]
    },
    {
      "cell_type": "code",
      "metadata": {
        "colab": {
          "base_uri": "https://localhost:8080/"
        },
        "id": "xiMvujgO4j5d",
        "outputId": "dfe1477c-9879-4c61-ec67-538e66c68875"
      },
      "source": [
        "model = tf.keras.models.Sequential([\r\n",
        "                                    tf.keras.layers.Dense(4, input_shape=(4,)), \r\n",
        "                                    tf.keras.layers.Dense(3),\r\n",
        "                                    tf.keras.layers.Dense(1) #결과 1개 \r\n",
        "])\r\n",
        "model(data.data[0][tf.newaxis])   "
      ],
      "execution_count": 81,
      "outputs": [
        {
          "output_type": "execute_result",
          "data": {
            "text/plain": [
              "<tf.Tensor: shape=(1, 1), dtype=float32, numpy=array([[1.3496525]], dtype=float32)>"
            ]
          },
          "metadata": {
            "tags": []
          },
          "execution_count": 81
        }
      ]
    }
  ]
}